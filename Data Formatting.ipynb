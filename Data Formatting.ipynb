{
 "cells": [
  {
   "cell_type": "markdown",
   "metadata": {},
   "source": [
    "## Formatting the data\n",
    "The data available is not perfect. Some articles have missing information. Such texts will be filtered out - The data will be loaded from a JSON and converted to a Pandas dataframe. \n",
    "\n",
    "The necessary features are: __Domain, Body, Header__ and __Byline__. URI is nice to have, but not necessary.\n",
    "\n",
    "Author: lkt259@alumni.ku.dk"
   ]
  },
  {
   "cell_type": "code",
   "execution_count": 36,
   "metadata": {},
   "outputs": [],
   "source": [
    "import numpy as np\n",
    "import pandas as pd\n",
    "import os, re\n",
    "from tqdm.notebook import tqdm\n",
    "from matplotlib import pyplot as plt\n",
    "plt.style.use('seaborn')"
   ]
  },
  {
   "cell_type": "code",
   "execution_count": 2,
   "metadata": {},
   "outputs": [
    {
     "data": {
      "text/html": [
       "<div>\n",
       "<style scoped>\n",
       "    .dataframe tbody tr th:only-of-type {\n",
       "        vertical-align: middle;\n",
       "    }\n",
       "\n",
       "    .dataframe tbody tr th {\n",
       "        vertical-align: top;\n",
       "    }\n",
       "\n",
       "    .dataframe thead th {\n",
       "        text-align: right;\n",
       "    }\n",
       "</style>\n",
       "<table border=\"1\" class=\"dataframe\">\n",
       "  <thead>\n",
       "    <tr style=\"text-align: right;\">\n",
       "      <th></th>\n",
       "      <th>Id</th>\n",
       "      <th>Domain</th>\n",
       "      <th>Body</th>\n",
       "      <th>Header</th>\n",
       "      <th>PublicationDate</th>\n",
       "      <th>Uri</th>\n",
       "      <th>Byline</th>\n",
       "      <th>TextHash</th>\n",
       "    </tr>\n",
       "  </thead>\n",
       "  <tbody>\n",
       "    <tr>\n",
       "      <th>0</th>\n",
       "      <td>842325</td>\n",
       "      <td>politiken.dk</td>\n",
       "      <td>Læs artiklen senere Gemt (klik for at fjerne) Læst Giv artiklen videre Som abonnent kan du ubegrænset dele artikler med dine venner og familie. Læs mere om fordelene ved et abonnement her . FOR ABONNENTER »Der var ov...</td>\n",
       "      <td>Utilfreds passager: »Prøv selv en tur klokken 7.30 en hverdagsmorgen« - politiken.dk</td>\n",
       "      <td>2002-09-17T00:00:00</td>\n",
       "      <td>https://politiken.dk/forbrugogliv/art6088327/Utilfreds-passager-%C2%BBPr%C3%B8v-selv-en-tur-klokken-7.30-en-hverdagsmorgen%C2%AB</td>\n",
       "      <td>Annemette Grundtvig</td>\n",
       "      <td>-346867430</td>\n",
       "    </tr>\n",
       "    <tr>\n",
       "      <th>1</th>\n",
       "      <td>842324</td>\n",
       "      <td>politiken.dk</td>\n",
       "      <td>Klimamonitor Byrummonitor Skolemonitor Sundhedsmonitor Kulturmonitor Følg os Minimalist: »Ofte står jeg og mangler en ting og bliver irriteret på mig selv over, at jeg har smidt den ud« For to år siden fik forfatter ...</td>\n",
       "      <td>Minimalist: »Ofte står jeg og mangler en ting og bliver irriteret på mig selv over, at jeg har smidt den ud« - politiken.dk</td>\n",
       "      <td>2013-01-18T00:00:00</td>\n",
       "      <td>https://politiken.dk/forbrugogliv/art6287464/%C2%BBOfte-st%C3%A5r-jeg-og-mangler-en-ting-og-bliver-irriteret-p%C3%A5-mig-selv-over-at-jeg-har-smidt-den-ud%C2%AB</td>\n",
       "      <td>Annemette Grundtvig</td>\n",
       "      <td>-1346564151</td>\n",
       "    </tr>\n",
       "    <tr>\n",
       "      <th>2</th>\n",
       "      <td>842323</td>\n",
       "      <td>politiken.dk</td>\n",
       "      <td>Læs artiklen senere Gemt (klik for at fjerne) Læst Giv artiklen videre Som abonnent kan du ubegrænset dele artikler med dine venner og familie. Læs mere om fordelene ved et abonnement her . Køb abonnement Den familie...</td>\n",
       "      <td>Digitalt forældreskab: Hvilken type er du som Facebook-forælder? - politiken.dk</td>\n",
       "      <td>2006-05-17T00:00:00</td>\n",
       "      <td>https://politiken.dk/forbrugogliv/art5934818/Hvilken-type-er-du-som-Facebook-for%C3%A6lder</td>\n",
       "      <td>Annemette Grundtvig</td>\n",
       "      <td>1473032676</td>\n",
       "    </tr>\n",
       "  </tbody>\n",
       "</table>\n",
       "</div>"
      ],
      "text/plain": [
       "       Id        Domain  \\\n",
       "0  842325  politiken.dk   \n",
       "1  842324  politiken.dk   \n",
       "2  842323  politiken.dk   \n",
       "\n",
       "                                                                                                                                                                                                                          Body  \\\n",
       "0  Læs artiklen senere Gemt (klik for at fjerne) Læst Giv artiklen videre Som abonnent kan du ubegrænset dele artikler med dine venner og familie. Læs mere om fordelene ved et abonnement her . FOR ABONNENTER »Der var ov...   \n",
       "1  Klimamonitor Byrummonitor Skolemonitor Sundhedsmonitor Kulturmonitor Følg os Minimalist: »Ofte står jeg og mangler en ting og bliver irriteret på mig selv over, at jeg har smidt den ud« For to år siden fik forfatter ...   \n",
       "2  Læs artiklen senere Gemt (klik for at fjerne) Læst Giv artiklen videre Som abonnent kan du ubegrænset dele artikler med dine venner og familie. Læs mere om fordelene ved et abonnement her . Køb abonnement Den familie...   \n",
       "\n",
       "                                                                                                                        Header  \\\n",
       "0                                         Utilfreds passager: »Prøv selv en tur klokken 7.30 en hverdagsmorgen« - politiken.dk   \n",
       "1  Minimalist: »Ofte står jeg og mangler en ting og bliver irriteret på mig selv over, at jeg har smidt den ud« - politiken.dk   \n",
       "2                                              Digitalt forældreskab: Hvilken type er du som Facebook-forælder? - politiken.dk   \n",
       "\n",
       "       PublicationDate  \\\n",
       "0  2002-09-17T00:00:00   \n",
       "1  2013-01-18T00:00:00   \n",
       "2  2006-05-17T00:00:00   \n",
       "\n",
       "                                                                                                                                                                Uri  \\\n",
       "0                                  https://politiken.dk/forbrugogliv/art6088327/Utilfreds-passager-%C2%BBPr%C3%B8v-selv-en-tur-klokken-7.30-en-hverdagsmorgen%C2%AB   \n",
       "1  https://politiken.dk/forbrugogliv/art6287464/%C2%BBOfte-st%C3%A5r-jeg-og-mangler-en-ting-og-bliver-irriteret-p%C3%A5-mig-selv-over-at-jeg-har-smidt-den-ud%C2%AB   \n",
       "2                                                                        https://politiken.dk/forbrugogliv/art5934818/Hvilken-type-er-du-som-Facebook-for%C3%A6lder   \n",
       "\n",
       "                Byline    TextHash  \n",
       "0  Annemette Grundtvig  -346867430  \n",
       "1  Annemette Grundtvig -1346564151  \n",
       "2  Annemette Grundtvig  1473032676  "
      ]
     },
     "execution_count": 2,
     "metadata": {},
     "output_type": "execute_result"
    }
   ],
   "source": [
    "#Load data - and show 120 characters of the body.\n",
    "data = pd.read_json(r'data/data_0.json')\n",
    "pd.set_option('display.max_colwidth', 220)\n",
    "data.head(3)"
   ]
  },
  {
   "cell_type": "markdown",
   "metadata": {},
   "source": [
    "### Removing duplicates and empty bodies\n",
    "We don't want duplicate articles. First, we'll remove entries with the same URI and body. I save the entries, which have empty bodies and unique URI's - Perhaps we can get the body online, if needed."
   ]
  },
  {
   "cell_type": "code",
   "execution_count": 3,
   "metadata": {},
   "outputs": [
    {
     "name": "stdout",
     "output_type": "stream",
     "text": [
      "With duplicates: (10000, 8)\n",
      "Without duplicates: (9074, 8)\n"
     ]
    }
   ],
   "source": [
    "def same_uri(uri):\n",
    "    return data[data['Uri']==uri]\n",
    "\n",
    "def remove_duplicates(data):\n",
    "    print(\"With duplicates:\", data.shape)\n",
    "    data = data.drop_duplicates(subset=[\"Body\", \"Uri\"]) #Remove entries with same body and URI\n",
    "    empty_bodies = data[data['Body'] == '']    #Save empty bodied entries in another dataframe.\n",
    "    data = data[data['Body'] != '']\n",
    "    empty_bodies = empty_bodies[~empty_bodies['Uri'].isin(data['Uri'])] #Remove empty bodies, which are present in data.\n",
    "    duplicate_bodies = data[data.duplicated(subset=[\"Body\"])]\n",
    "    data = data.drop_duplicates(subset=['Body']) #Can remove all duplicate bodies here, after None-bodies are removed.\n",
    "    \n",
    "    print(\"Without duplicates:\", data.shape)\n",
    "    return data, empty_bodies, duplicate_bodies\n",
    "\n",
    "data, _, _ = remove_duplicates(data)"
   ]
  },
  {
   "cell_type": "markdown",
   "metadata": {},
   "source": [
    "### Removing unknown authors, headers and domains"
   ]
  },
  {
   "cell_type": "code",
   "execution_count": 4,
   "metadata": {},
   "outputs": [
    {
     "name": "stdout",
     "output_type": "stream",
     "text": [
      "Without unknown authors: (9073, 8)\n"
     ]
    }
   ],
   "source": [
    "def remove_missing_feats(data):\n",
    "    no_author, no_header, no_domain = None, None, None\n",
    "    \n",
    "    if data['Byline'].isnull().values.any(): #Missing authors\n",
    "        no_author = data[data['Byline'].isnull()]\n",
    "        data = data.dropna(subset=['Byline'])\n",
    "        print(\"Without unknown authors:\", data.shape)\n",
    "\n",
    "    if data['Header'].isnull().values.any():\n",
    "        no_header = data[data['Header'].isnull()]\n",
    "        data = data.dropna(subset=['Header'])\n",
    "        print(\"Without unknown title:\", data.shape)\n",
    "\n",
    "    if data['Domain'].isnull().values.any():\n",
    "        no_domain = data[data['Domain'].isnull()]\n",
    "        data = data.dropna(subset=['Domain'])\n",
    "        print(\"Without unknown domains:\", data.shape)\n",
    "        \n",
    "    return data, no_author, no_header, no_domain\n",
    "\n",
    "data, _, _, _ = remove_missing_feats(data)"
   ]
  },
  {
   "cell_type": "markdown",
   "metadata": {},
   "source": [
    "### Applying to all data files.\n",
    "After investigating the data, let's apply the changes to the files. No need in formatting multiple times. Also, let's see how the distributions are when collecting all data."
   ]
  },
  {
   "cell_type": "code",
   "execution_count": 5,
   "metadata": {},
   "outputs": [
    {
     "data": {
      "application/vnd.jupyter.widget-view+json": {
       "model_id": "b7f78a2d765544dfa37fb2a82afed1f9",
       "version_major": 2,
       "version_minor": 0
      },
      "text/plain": [
       "  0%|          | 0/80 [00:00<?, ?it/s]"
      ]
     },
     "metadata": {},
     "output_type": "display_data"
    },
    {
     "data": {
      "text/plain": [
       "(808066, 8)"
      ]
     },
     "execution_count": 5,
     "metadata": {},
     "output_type": "execute_result"
    }
   ],
   "source": [
    "#Load all data into one big dataframe. Oh yes, it is possible!\n",
    "files = os.listdir('data')\n",
    "files = [x for x in files if x[-4:]=='json'] #only take .json files.\n",
    "\n",
    "data = pd.read_json('data/'+files[0])\n",
    "for file in tqdm(files[1:]):\n",
    "    data = pd.concat([data, pd.read_json('data/'+file)])\n",
    "data.shape"
   ]
  },
  {
   "cell_type": "markdown",
   "metadata": {},
   "source": [
    "#### How much data is lost?\n",
    "Some data did not meet the requirements. How much data do we have left?"
   ]
  },
  {
   "cell_type": "code",
   "execution_count": 6,
   "metadata": {},
   "outputs": [
    {
     "name": "stdout",
     "output_type": "stream",
     "text": [
      "With duplicates: (808066, 8)\n",
      "Without duplicates: (530031, 8)\n",
      "Without unknown authors: (495099, 8)\n",
      "With bad authors removed: (447939, 8)\n"
     ]
    }
   ],
   "source": [
    "data, empty_bodies, duplicate_bodies = remove_duplicates(data)\n",
    "data, no_author, no_header, no_domain = remove_missing_feats(data)\n",
    "\n",
    "#Removing bad authors. Baaad author, shame on you!\n",
    "bad_byline = data[data['Byline']==data['Uri']]\n",
    "data = data[data['Byline']!=data['Uri']]\n",
    "print(\"With bad authors removed:\", data.shape)"
   ]
  },
  {
   "cell_type": "code",
   "execution_count": 7,
   "metadata": {},
   "outputs": [
    {
     "name": "stdout",
     "output_type": "stream",
     "text": [
      "Unique authors:  8260\n",
      "Mads Elkær               53835\n",
      "Anne Sophia Hermansen    15481\n",
      "Karim Pedersen           14066\n",
      "Thomas Treo               9434\n",
      "Dan Jensen                6915\n",
      "Name: Byline, dtype: int64 \n",
      "...\n"
     ]
    }
   ],
   "source": [
    "print(\"Unique authors: \", len(data['Byline'].value_counts()))\n",
    "print(data['Byline'].value_counts()[:5],\"\\n...\")"
   ]
  },
  {
   "cell_type": "code",
   "execution_count": 8,
   "metadata": {},
   "outputs": [
    {
     "name": "stdout",
     "output_type": "stream",
     "text": [
      "448 empty bodies\n",
      "34932 without author\n",
      "47160 malformed authors\n"
     ]
    }
   ],
   "source": [
    "print(len(empty_bodies), \"empty bodies\")\n",
    "print(len(no_author), \"without author\")\n",
    "#print(len(no_header), \"without header\")\n",
    "#print(len(no_domain), \"without domain\")\n",
    "print(len(bad_byline), \"malformed authors\")"
   ]
  },
  {
   "cell_type": "markdown",
   "metadata": {},
   "source": [
    "### Author cleanup!\n",
    "Some entries have multiple auhthors. How big a problem does this cause?"
   ]
  },
  {
   "cell_type": "code",
   "execution_count": 177,
   "metadata": {
    "scrolled": true
   },
   "outputs": [
    {
     "name": "stdout",
     "output_type": "stream",
     "text": [
      "Entries with multiple authors: 8908\n",
      "Unique combinations of authors: 1549\n"
     ]
    }
   ],
   "source": [
    "authors = list(data['Byline'])[1:] #First entry is empty.\n",
    "multiple_authors = []\n",
    "for author in authors:\n",
    "    if any(x in author for x in ['|',',']):\n",
    "        multiple_authors.append(author)\n",
    "\n",
    "print(\"Entries with multiple authors:\" ,len(multiple_authors))\n",
    "print(f\"Unique combinations of authors: {len(set(multiple_authors))}\")\n",
    "\n",
    "multiple_authors = [re.split('\\||,',x) for x in multiple_authors]"
   ]
  },
  {
   "cell_type": "markdown",
   "metadata": {},
   "source": [
    "**Find guest authors**\n",
    "\n",
    "Authors who only appear with another author and not on their own.\n",
    "Turns out a lot of these are cities and job titles, which we can safely remove.\n",
    "\n",
    "First, remove names without a whitespace (will not be a name)\n",
    "\n",
    "Secondly, remove names including certain keywords (like Ritzau)"
   ]
  },
  {
   "cell_type": "code",
   "execution_count": 214,
   "metadata": {
    "scrolled": true
   },
   "outputs": [
    {
     "name": "stdout",
     "output_type": "stream",
     "text": [
      "Unique guest authors without cleanup: 111\n",
      "Unique guest authors with no whitespace cleanup: 82\n",
      "Unique guest authors without wrong names: 68\n"
     ]
    }
   ],
   "source": [
    "guest_authors = []\n",
    "author_set = set(authors)\n",
    "for author_combination in multiple_authors:\n",
    "    for author in author_combination:\n",
    "        author = author.strip()\n",
    "        if author not in author_set:\n",
    "            guest_authors.append(author)\n",
    "            \n",
    "print(\"Unique guest authors without cleanup:\", len(set(guest_authors)))\n",
    "\n",
    "#Clean up guest authors (remove cities and job titles)\n",
    "#We can assume, single names (no space) are not persons.\n",
    "guest_authors_no_city = []\n",
    "for guest_author in set(guest_authors):\n",
    "    if len(guest_author.split(' '))>1:\n",
    "        guest_authors_no_city.append(guest_author)\n",
    "\n",
    "guest_authors = guest_authors_no_city\n",
    "print(\"Unique guest authors with no whitespace cleanup:\", len(set(guest_authors)))\n",
    "\n",
    "#Now, remove authors which are not names.\n",
    "not_names = ['Ritzau', 'Ekstra', 'redaktør', 'Advokat', 'New', 'redaktionschef', 'ansv.']\n",
    "guest_authors_names_only = []\n",
    "for guest_author in guest_authors:\n",
    "    a_name = True\n",
    "    names = guest_author.split(' ')\n",
    "    for i in names:\n",
    "        if i.strip() in not_names:\n",
    "            a_name = False\n",
    "    \n",
    "    if a_name:\n",
    "        guest_authors_names_only.append(guest_author)\n",
    "\n",
    "guest_authors = guest_authors_names_only\n",
    "print(\"Unique guest authors without wrong names:\", len(set(guest_authors))) "
   ]
  },
  {
   "cell_type": "markdown",
   "metadata": {},
   "source": [
    "And using this information, we can see, that there are not many guest authors. Potentially, we could remove them from multiple authors and gain more articles by crediting their co-authors alone. However, thismay introduce unnecessary noise in the data and as it is **maximum** 8908 articles (2%), it is not worth the risk. "
   ]
  },
  {
   "cell_type": "markdown",
   "metadata": {},
   "source": [
    "# Insights in data"
   ]
  },
  {
   "cell_type": "markdown",
   "metadata": {},
   "source": [
    "### Body lengths\n",
    "Let's see the distribution of the body lengths."
   ]
  },
  {
   "cell_type": "code",
   "execution_count": 144,
   "metadata": {},
   "outputs": [
    {
     "data": {
      "text/plain": [
       "[<matplotlib.lines.Line2D at 0x1c9e6555748>]"
      ]
     },
     "execution_count": 144,
     "metadata": {},
     "output_type": "execute_result"
    },
    {
     "data": {
      "image/png": "[encoded data removed]",
      "text/plain": [
       "<Figure size 1008x576 with 1 Axes>"
      ]
     },
     "metadata": {},
     "output_type": "display_data"
    }
   ],
   "source": [
    "body_lengths = data['Body'].str.len()\n",
    "\n",
    "desc = \"A dent in article counts at 250 characters\\nNot true\"\n",
    "\n",
    "y, bin_edges = np.histogram(body_lengths, bins=150, range=(0,15000))\n",
    "x = 0.5*(bin_edges[1:] + bin_edges[:-1])\n",
    "\n",
    "fig, ax = plt.subplots(1, figsize=(14,8))\n",
    "plt.bar(x,y,width=np.diff(bin_edges))\n",
    "plt.title(\"Histogram of Article Lengths\", fontsize=18)\n",
    "plt.xlabel(\"Character count\", fontsize=16)\n",
    "plt.ylabel(\"Article count\", fontsize=16)\n",
    "plt.text(0.7, 0.7, desc, horizontalalignment='center',verticalalignment='center', transform=ax.transAxes, fontsize=16)\n",
    "plt.plot([250,10000], [30,240], '--', c='red', alpha=.6)\n",
    "#Ændr, så det passer med den endelige data."
   ]
  },
  {
   "cell_type": "markdown",
   "metadata": {},
   "source": [
    "### Author contributions\n",
    "How many articles have the authors written?"
   ]
  },
  {
   "cell_type": "code",
   "execution_count": 255,
   "metadata": {},
   "outputs": [
    {
     "data": {
      "image/png": "[encoded data removed]",
      "text/plain": [
       "<Figure size 576x396 with 1 Axes>"
      ]
     },
     "metadata": {},
     "output_type": "display_data"
    }
   ],
   "source": [
    "counts = list(data['Byline'].value_counts())\n",
    "\n",
    "plt.plot(counts)\n",
    "plt.yscale('symlog')"
   ]
  },
  {
   "cell_type": "code",
   "execution_count": 257,
   "metadata": {},
   "outputs": [
    {
     "data": {
      "text/plain": [
       "10"
      ]
     },
     "execution_count": 257,
     "metadata": {},
     "output_type": "execute_result"
    }
   ],
   "source": [
    "10**1"
   ]
  },
  {
   "cell_type": "code",
   "execution_count": 242,
   "metadata": {},
   "outputs": [
    {
     "data": {
      "text/plain": [
       "Mads Elkær                  True\n",
       "Anne Sophia Hermansen       True\n",
       "Karim Pedersen              True\n",
       "Thomas Treo                 True\n",
       "Dan Jensen                  True\n",
       "                           ...  \n",
       "Peter Foder                False\n",
       "Lars Skovgaard Andersen    False\n",
       "Hans Andersen              False\n",
       "Henrik Ræder Clausen       False\n",
       "Andreas Graae              False\n",
       "Name: Byline, Length: 3477, dtype: bool"
      ]
     },
     "execution_count": 242,
     "metadata": {},
     "output_type": "execute_result"
    }
   ],
   "source": [
    "data['Byline'].value_counts()>2"
   ]
  },
  {
   "cell_type": "code",
   "execution_count": 243,
   "metadata": {},
   "outputs": [
    {
     "data": {
      "text/plain": [
       "Mads Elkær                           53835\n",
       "Anne Sophia Hermansen                15481\n",
       "Karim Pedersen                       14066\n",
       "Thomas Treo                           9434\n",
       "Dan Jensen                            6915\n",
       "                                     ...  \n",
       "Thomas Flensburg | Mikkel Thuesen        3\n",
       "Steffen Rasmussen                        3\n",
       "Signe Skov,Emma B.Vinkel                 3\n",
       "Camilla Stampe                           3\n",
       "Jan Søgaard,Andreas F. R. Wentoft        3\n",
       "Name: Byline, Length: 2475, dtype: int64"
      ]
     },
     "execution_count": 243,
     "metadata": {},
     "output_type": "execute_result"
    }
   ],
   "source": [
    "data['Byline'].value_counts()[data['Byline'].value_counts()>2]"
   ]
  },
  {
   "cell_type": "code",
   "execution_count": null,
   "metadata": {},
   "outputs": [],
   "source": []
  }
 ],
 "metadata": {
  "kernelspec": {
   "display_name": "Python 3",
   "language": "python",
   "name": "python3"
  },
  "language_info": {
   "codemirror_mode": {
    "name": "ipython",
    "version": 3
   },
   "file_extension": ".py",
   "mimetype": "text/x-python",
   "name": "python",
   "nbconvert_exporter": "python",
   "pygments_lexer": "ipython3",
   "version": "3.7.4"
  }
 },
 "nbformat": 4,
 "nbformat_minor": 4
}
