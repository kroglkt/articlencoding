{
 "cells": [
  {
   "cell_type": "markdown",
   "metadata": {},
   "source": [
    "## Formatting the data\n",
    "The data available is not perfect. Some articles have missing information. Such texts will be filtered out - The data will be loaded from a JSON and converted to a Pandas dataframe. \n",
    "\n",
    "The necessary features are: __Domain, Body, Header__ and __Byline__. URI is nice to have, but not necessary.\n",
    "\n",
    "Author: lkt259@alumni.ku.dk"
   ]
  },
  {
   "cell_type": "code",
   "execution_count": 1,
   "metadata": {
    "execution": {
     "iopub.execute_input": "2022-05-20T08:31:11.340373Z",
     "iopub.status.busy": "2022-05-20T08:31:11.340057Z",
     "iopub.status.idle": "2022-05-20T08:31:12.542004Z",
     "shell.execute_reply": "2022-05-20T08:31:12.540962Z",
     "shell.execute_reply.started": "2022-05-20T08:31:11.340345Z"
    },
    "tags": []
   },
   "outputs": [
    {
     "name": "stderr",
     "output_type": "stream",
     "text": [
      "/tmp/ipykernel_290/1015014850.py:6: DeprecationWarning: Please use `pearsonr` from the `scipy.stats` namespace, the `scipy.stats.stats` namespace is deprecated.\n",
      "  from scipy.stats.stats import pearsonr\n"
     ]
    }
   ],
   "source": [
    "import numpy as np\n",
    "import pandas as pd\n",
    "import os, re\n",
    "from tqdm.notebook import tqdm\n",
    "from matplotlib import pyplot as plt\n",
    "from scipy.stats.stats import pearsonr\n",
    "import random\n",
    "from difflib import SequenceMatcher\n",
    "from dateutil.parser import parse\n",
    "plt.style.use('seaborn')\n",
    "\n",
    "scrape = False"
   ]
  },
  {
   "cell_type": "code",
   "execution_count": 2,
   "metadata": {
    "execution": {
     "iopub.execute_input": "2022-05-03T08:26:49.609734Z",
     "iopub.status.busy": "2022-05-03T08:26:49.609234Z",
     "iopub.status.idle": "2022-05-03T08:26:50.235180Z",
     "shell.execute_reply": "2022-05-03T08:26:50.233985Z",
     "shell.execute_reply.started": "2022-05-03T08:26:49.609683Z"
    },
    "tags": []
   },
   "outputs": [
    {
     "ename": "ValueError",
     "evalue": "Expected object or value",
     "output_type": "error",
     "traceback": [
      "\u001b[0;31m---------------------------------------------------------------------------\u001b[0m",
      "\u001b[0;31mValueError\u001b[0m                                Traceback (most recent call last)",
      "Input \u001b[0;32mIn [2]\u001b[0m, in \u001b[0;36m<cell line: 2>\u001b[0;34m()\u001b[0m\n\u001b[1;32m      1\u001b[0m \u001b[38;5;66;03m#Load data - and show 120 characters of the body.\u001b[39;00m\n\u001b[0;32m----> 2\u001b[0m data \u001b[38;5;241m=\u001b[39m \u001b[43mpd\u001b[49m\u001b[38;5;241;43m.\u001b[39;49m\u001b[43mread_json\u001b[49m\u001b[43m(\u001b[49m\u001b[38;5;124;43mr\u001b[39;49m\u001b[38;5;124;43m'\u001b[39;49m\u001b[38;5;124;43mdata/data_0.json\u001b[39;49m\u001b[38;5;124;43m'\u001b[39;49m\u001b[43m)\u001b[49m\n\u001b[1;32m      3\u001b[0m pd\u001b[38;5;241m.\u001b[39mset_option(\u001b[38;5;124m'\u001b[39m\u001b[38;5;124mdisplay.max_colwidth\u001b[39m\u001b[38;5;124m'\u001b[39m, \u001b[38;5;241m220\u001b[39m)\n\u001b[1;32m      4\u001b[0m data\u001b[38;5;241m.\u001b[39mhead(\u001b[38;5;241m3\u001b[39m)\n",
      "File \u001b[0;32m/opt/conda/lib/python3.9/site-packages/pandas/util/_decorators.py:207\u001b[0m, in \u001b[0;36mdeprecate_kwarg.<locals>._deprecate_kwarg.<locals>.wrapper\u001b[0;34m(*args, **kwargs)\u001b[0m\n\u001b[1;32m    205\u001b[0m     \u001b[38;5;28;01melse\u001b[39;00m:\n\u001b[1;32m    206\u001b[0m         kwargs[new_arg_name] \u001b[38;5;241m=\u001b[39m new_arg_value\n\u001b[0;32m--> 207\u001b[0m \u001b[38;5;28;01mreturn\u001b[39;00m \u001b[43mfunc\u001b[49m\u001b[43m(\u001b[49m\u001b[38;5;241;43m*\u001b[39;49m\u001b[43margs\u001b[49m\u001b[43m,\u001b[49m\u001b[43m \u001b[49m\u001b[38;5;241;43m*\u001b[39;49m\u001b[38;5;241;43m*\u001b[39;49m\u001b[43mkwargs\u001b[49m\u001b[43m)\u001b[49m\n",
      "File \u001b[0;32m/opt/conda/lib/python3.9/site-packages/pandas/util/_decorators.py:311\u001b[0m, in \u001b[0;36mdeprecate_nonkeyword_arguments.<locals>.decorate.<locals>.wrapper\u001b[0;34m(*args, **kwargs)\u001b[0m\n\u001b[1;32m    305\u001b[0m \u001b[38;5;28;01mif\u001b[39;00m \u001b[38;5;28mlen\u001b[39m(args) \u001b[38;5;241m>\u001b[39m num_allow_args:\n\u001b[1;32m    306\u001b[0m     warnings\u001b[38;5;241m.\u001b[39mwarn(\n\u001b[1;32m    307\u001b[0m         msg\u001b[38;5;241m.\u001b[39mformat(arguments\u001b[38;5;241m=\u001b[39marguments),\n\u001b[1;32m    308\u001b[0m         \u001b[38;5;167;01mFutureWarning\u001b[39;00m,\n\u001b[1;32m    309\u001b[0m         stacklevel\u001b[38;5;241m=\u001b[39mstacklevel,\n\u001b[1;32m    310\u001b[0m     )\n\u001b[0;32m--> 311\u001b[0m \u001b[38;5;28;01mreturn\u001b[39;00m \u001b[43mfunc\u001b[49m\u001b[43m(\u001b[49m\u001b[38;5;241;43m*\u001b[39;49m\u001b[43margs\u001b[49m\u001b[43m,\u001b[49m\u001b[43m \u001b[49m\u001b[38;5;241;43m*\u001b[39;49m\u001b[38;5;241;43m*\u001b[39;49m\u001b[43mkwargs\u001b[49m\u001b[43m)\u001b[49m\n",
      "File \u001b[0;32m/opt/conda/lib/python3.9/site-packages/pandas/io/json/_json.py:612\u001b[0m, in \u001b[0;36mread_json\u001b[0;34m(path_or_buf, orient, typ, dtype, convert_axes, convert_dates, keep_default_dates, numpy, precise_float, date_unit, encoding, encoding_errors, lines, chunksize, compression, nrows, storage_options)\u001b[0m\n\u001b[1;32m    609\u001b[0m     \u001b[38;5;28;01mreturn\u001b[39;00m json_reader\n\u001b[1;32m    611\u001b[0m \u001b[38;5;28;01mwith\u001b[39;00m json_reader:\n\u001b[0;32m--> 612\u001b[0m     \u001b[38;5;28;01mreturn\u001b[39;00m \u001b[43mjson_reader\u001b[49m\u001b[38;5;241;43m.\u001b[39;49m\u001b[43mread\u001b[49m\u001b[43m(\u001b[49m\u001b[43m)\u001b[49m\n",
      "File \u001b[0;32m/opt/conda/lib/python3.9/site-packages/pandas/io/json/_json.py:746\u001b[0m, in \u001b[0;36mJsonReader.read\u001b[0;34m(self)\u001b[0m\n\u001b[1;32m    744\u001b[0m         obj \u001b[38;5;241m=\u001b[39m \u001b[38;5;28mself\u001b[39m\u001b[38;5;241m.\u001b[39m_get_object_parser(\u001b[38;5;28mself\u001b[39m\u001b[38;5;241m.\u001b[39m_combine_lines(data_lines))\n\u001b[1;32m    745\u001b[0m \u001b[38;5;28;01melse\u001b[39;00m:\n\u001b[0;32m--> 746\u001b[0m     obj \u001b[38;5;241m=\u001b[39m \u001b[38;5;28;43mself\u001b[39;49m\u001b[38;5;241;43m.\u001b[39;49m\u001b[43m_get_object_parser\u001b[49m\u001b[43m(\u001b[49m\u001b[38;5;28;43mself\u001b[39;49m\u001b[38;5;241;43m.\u001b[39;49m\u001b[43mdata\u001b[49m\u001b[43m)\u001b[49m\n\u001b[1;32m    747\u001b[0m \u001b[38;5;28mself\u001b[39m\u001b[38;5;241m.\u001b[39mclose()\n\u001b[1;32m    748\u001b[0m \u001b[38;5;28;01mreturn\u001b[39;00m obj\n",
      "File \u001b[0;32m/opt/conda/lib/python3.9/site-packages/pandas/io/json/_json.py:768\u001b[0m, in \u001b[0;36mJsonReader._get_object_parser\u001b[0;34m(self, json)\u001b[0m\n\u001b[1;32m    766\u001b[0m obj \u001b[38;5;241m=\u001b[39m \u001b[38;5;28;01mNone\u001b[39;00m\n\u001b[1;32m    767\u001b[0m \u001b[38;5;28;01mif\u001b[39;00m typ \u001b[38;5;241m==\u001b[39m \u001b[38;5;124m\"\u001b[39m\u001b[38;5;124mframe\u001b[39m\u001b[38;5;124m\"\u001b[39m:\n\u001b[0;32m--> 768\u001b[0m     obj \u001b[38;5;241m=\u001b[39m \u001b[43mFrameParser\u001b[49m\u001b[43m(\u001b[49m\u001b[43mjson\u001b[49m\u001b[43m,\u001b[49m\u001b[43m \u001b[49m\u001b[38;5;241;43m*\u001b[39;49m\u001b[38;5;241;43m*\u001b[39;49m\u001b[43mkwargs\u001b[49m\u001b[43m)\u001b[49m\u001b[38;5;241;43m.\u001b[39;49m\u001b[43mparse\u001b[49m\u001b[43m(\u001b[49m\u001b[43m)\u001b[49m\n\u001b[1;32m    770\u001b[0m \u001b[38;5;28;01mif\u001b[39;00m typ \u001b[38;5;241m==\u001b[39m \u001b[38;5;124m\"\u001b[39m\u001b[38;5;124mseries\u001b[39m\u001b[38;5;124m\"\u001b[39m \u001b[38;5;129;01mor\u001b[39;00m obj \u001b[38;5;129;01mis\u001b[39;00m \u001b[38;5;28;01mNone\u001b[39;00m:\n\u001b[1;32m    771\u001b[0m     \u001b[38;5;28;01mif\u001b[39;00m \u001b[38;5;129;01mnot\u001b[39;00m \u001b[38;5;28misinstance\u001b[39m(dtype, \u001b[38;5;28mbool\u001b[39m):\n",
      "File \u001b[0;32m/opt/conda/lib/python3.9/site-packages/pandas/io/json/_json.py:880\u001b[0m, in \u001b[0;36mParser.parse\u001b[0;34m(self)\u001b[0m\n\u001b[1;32m    878\u001b[0m     \u001b[38;5;28mself\u001b[39m\u001b[38;5;241m.\u001b[39m_parse_numpy()\n\u001b[1;32m    879\u001b[0m \u001b[38;5;28;01melse\u001b[39;00m:\n\u001b[0;32m--> 880\u001b[0m     \u001b[38;5;28;43mself\u001b[39;49m\u001b[38;5;241;43m.\u001b[39;49m\u001b[43m_parse_no_numpy\u001b[49m\u001b[43m(\u001b[49m\u001b[43m)\u001b[49m\n\u001b[1;32m    882\u001b[0m \u001b[38;5;28;01mif\u001b[39;00m \u001b[38;5;28mself\u001b[39m\u001b[38;5;241m.\u001b[39mobj \u001b[38;5;129;01mis\u001b[39;00m \u001b[38;5;28;01mNone\u001b[39;00m:\n\u001b[1;32m    883\u001b[0m     \u001b[38;5;28;01mreturn\u001b[39;00m \u001b[38;5;28;01mNone\u001b[39;00m\n",
      "File \u001b[0;32m/opt/conda/lib/python3.9/site-packages/pandas/io/json/_json.py:1133\u001b[0m, in \u001b[0;36mFrameParser._parse_no_numpy\u001b[0;34m(self)\u001b[0m\n\u001b[1;32m   1129\u001b[0m orient \u001b[38;5;241m=\u001b[39m \u001b[38;5;28mself\u001b[39m\u001b[38;5;241m.\u001b[39morient\n\u001b[1;32m   1131\u001b[0m \u001b[38;5;28;01mif\u001b[39;00m orient \u001b[38;5;241m==\u001b[39m \u001b[38;5;124m\"\u001b[39m\u001b[38;5;124mcolumns\u001b[39m\u001b[38;5;124m\"\u001b[39m:\n\u001b[1;32m   1132\u001b[0m     \u001b[38;5;28mself\u001b[39m\u001b[38;5;241m.\u001b[39mobj \u001b[38;5;241m=\u001b[39m DataFrame(\n\u001b[0;32m-> 1133\u001b[0m         \u001b[43mloads\u001b[49m\u001b[43m(\u001b[49m\u001b[43mjson\u001b[49m\u001b[43m,\u001b[49m\u001b[43m \u001b[49m\u001b[43mprecise_float\u001b[49m\u001b[38;5;241;43m=\u001b[39;49m\u001b[38;5;28;43mself\u001b[39;49m\u001b[38;5;241;43m.\u001b[39;49m\u001b[43mprecise_float\u001b[49m\u001b[43m)\u001b[49m, dtype\u001b[38;5;241m=\u001b[39m\u001b[38;5;28;01mNone\u001b[39;00m\n\u001b[1;32m   1134\u001b[0m     )\n\u001b[1;32m   1135\u001b[0m \u001b[38;5;28;01melif\u001b[39;00m orient \u001b[38;5;241m==\u001b[39m \u001b[38;5;124m\"\u001b[39m\u001b[38;5;124msplit\u001b[39m\u001b[38;5;124m\"\u001b[39m:\n\u001b[1;32m   1136\u001b[0m     decoded \u001b[38;5;241m=\u001b[39m {\n\u001b[1;32m   1137\u001b[0m         \u001b[38;5;28mstr\u001b[39m(k): v\n\u001b[1;32m   1138\u001b[0m         \u001b[38;5;28;01mfor\u001b[39;00m k, v \u001b[38;5;129;01min\u001b[39;00m loads(json, precise_float\u001b[38;5;241m=\u001b[39m\u001b[38;5;28mself\u001b[39m\u001b[38;5;241m.\u001b[39mprecise_float)\u001b[38;5;241m.\u001b[39mitems()\n\u001b[1;32m   1139\u001b[0m     }\n",
      "\u001b[0;31mValueError\u001b[0m: Expected object or value"
     ]
    }
   ],
   "source": [
    "#Load data - and show 120 characters of the body.\n",
    "data = pd.read_json(r'data/data_0.json')\n",
    "pd.set_option('display.max_colwidth', 220)\n",
    "data.head(3)"
   ]
  },
  {
   "cell_type": "markdown",
   "metadata": {},
   "source": [
    "### Removing duplicates and empty bodies\n",
    "We don't want duplicate articles. First, we'll remove entries with the same URI and body. I save the entries, which have empty bodies and unique URI's - Perhaps we can get the body online, if needed."
   ]
  },
  {
   "cell_type": "code",
   "execution_count": 3,
   "metadata": {
    "execution": {
     "iopub.execute_input": "2022-05-03T08:26:50.757198Z",
     "iopub.status.busy": "2022-05-03T08:26:50.756511Z",
     "iopub.status.idle": "2022-05-03T08:26:50.789794Z",
     "shell.execute_reply": "2022-05-03T08:26:50.789031Z",
     "shell.execute_reply.started": "2022-05-03T08:26:50.757142Z"
    },
    "tags": []
   },
   "outputs": [
    {
     "ename": "NameError",
     "evalue": "name 'data' is not defined",
     "output_type": "error",
     "traceback": [
      "\u001b[0;31m---------------------------------------------------------------------------\u001b[0m",
      "\u001b[0;31mNameError\u001b[0m                                 Traceback (most recent call last)",
      "Input \u001b[0;32mIn [3]\u001b[0m, in \u001b[0;36m<cell line: 22>\u001b[0;34m()\u001b[0m\n\u001b[1;32m     19\u001b[0m     \u001b[38;5;28mprint\u001b[39m(\u001b[38;5;124m\"\u001b[39m\u001b[38;5;124mWithout duplicates:\u001b[39m\u001b[38;5;124m\"\u001b[39m, data\u001b[38;5;241m.\u001b[39mshape)\n\u001b[1;32m     20\u001b[0m     \u001b[38;5;28;01mreturn\u001b[39;00m data, empty_bodies, duplicate_bodies\n\u001b[0;32m---> 22\u001b[0m data, _, _ \u001b[38;5;241m=\u001b[39m remove_duplicates(\u001b[43mdata\u001b[49m)\n",
      "\u001b[0;31mNameError\u001b[0m: name 'data' is not defined"
     ]
    }
   ],
   "source": [
    "def print_stats():\n",
    "    print(f\"{data.shape[0]} entries.\")\n",
    "    print(f\"{data.Byline.unique().shape[0]} authors.\")\n",
    "    print(f\"{data.Domain.unique().shape[0]} domains.\")\n",
    "\n",
    "def same_uri(uri):\n",
    "    return data[data['Uri']==uri]\n",
    "\n",
    "def remove_duplicates(data):\n",
    "    print(\"With duplicates:\", data.shape)\n",
    "    data = data.drop_duplicates(subset=[\"Body\", \"Uri\"]) #Remove entries with same body and URI\n",
    "    empty_bodies = data[data['Body'] == '']    #Save empty bodied entries in another dataframe.\n",
    "    data = data[data['Body'] != '']\n",
    "    empty_bodies = empty_bodies[~empty_bodies['Uri'].isin(data['Uri'])] #Remove empty bodies, which are present in data.\n",
    "    duplicate_bodies = data[data.duplicated(subset=[\"Body\"])]\n",
    "    data = data.drop_duplicates(subset=['Body']) #Can remove all duplicate bodies here, after None-bodies are removed.\n",
    "    data = data.drop_duplicates(subset=[\"Uri\"]) #Remove entries with same URI\n",
    "    \n",
    "    print(\"Without duplicates:\", data.shape)\n",
    "    return data, empty_bodies, duplicate_bodies\n",
    "\n",
    "data, _, _ = remove_duplicates(data)"
   ]
  },
  {
   "cell_type": "markdown",
   "metadata": {},
   "source": [
    "### Removing unknown authors, headers and domains"
   ]
  },
  {
   "cell_type": "code",
   "execution_count": 4,
   "metadata": {},
   "outputs": [],
   "source": [
    "def remove_missing_feats(data):\n",
    "    no_author, no_header, no_domain = None, None, None\n",
    "    \n",
    "    if data['Byline'].isnull().values.any(): #Missing authors\n",
    "        no_author = data[data['Byline'].isnull()]\n",
    "        data = data.dropna(subset=['Byline'])\n",
    "        print(\"Without unknown authors:\", data.shape)\n",
    "\n",
    "    if data['Header'].isnull().values.any():\n",
    "        no_header = data[data['Header'].isnull()]\n",
    "        data = data.dropna(subset=['Header'])\n",
    "        print(\"Without unknown title:\", data.shape)\n",
    "    \n",
    "    data = data[data.Header != '']\n",
    "\n",
    "    if data['Domain'].isnull().values.any():\n",
    "        no_domain = data[data['Domain'].isnull()]\n",
    "        data = data.dropna(subset=['Domain'])\n",
    "        print(\"Without unknown domains:\", data.shape)\n",
    "        \n",
    "    return data, no_author, no_header, no_domain\n",
    "\n",
    "data, _, _, _ = remove_missing_feats(data)"
   ]
  },
  {
   "cell_type": "markdown",
   "metadata": {},
   "source": [
    "### Applying to all data files.\n",
    "After investigating the data, let's apply the changes to the files. No need in formatting multiple times. Also, let's see how the distributions are when collecting all data."
   ]
  },
  {
   "cell_type": "code",
   "execution_count": 5,
   "metadata": {},
   "outputs": [
    {
     "data": {
      "application/vnd.jupyter.widget-view+json": {
       "model_id": "c5d7d698f8bd492c9884512d59a8f6cd",
       "version_major": 2,
       "version_minor": 0
      },
      "text/plain": [
       "  0%|          | 0/80 [00:00<?, ?it/s]"
      ]
     },
     "metadata": {},
     "output_type": "display_data"
    },
    {
     "name": "stdout",
     "output_type": "stream",
     "text": [
      "808066 entries.\n",
      "66994 authors.\n",
      "268 domains.\n"
     ]
    }
   ],
   "source": [
    "#Load all data into one big dataframe. Oh yes, it is possible!\n",
    "files = os.listdir('data')\n",
    "files = [x for x in files if x[-4:]=='json'] #only take .json files.\n",
    "\n",
    "data = pd.read_json('data/'+files[0])\n",
    "for file in tqdm(files[1:]):\n",
    "    data = pd.concat([data, pd.read_json('data/'+file)])\n",
    "\n",
    "print_stats()"
   ]
  },
  {
   "cell_type": "code",
   "execution_count": 6,
   "metadata": {},
   "outputs": [],
   "source": [
    "#Used for plotting later...\n",
    "body_lengths = data['Body'].str.len()\n",
    "y2, bin_edges = np.histogram(body_lengths, bins=150, range=(0,15000))\n",
    "x2 = 0.5*(bin_edges[1:] + bin_edges[:-1])"
   ]
  },
  {
   "cell_type": "markdown",
   "metadata": {},
   "source": [
    "#### Remove duplicated and missing data\n",
    "Some data did not meet the requirements. How much data do we have left?"
   ]
  },
  {
   "cell_type": "code",
   "execution_count": 7,
   "metadata": {},
   "outputs": [
    {
     "name": "stdout",
     "output_type": "stream",
     "text": [
      "With duplicates: (808066, 8)\n",
      "Without duplicates: (431531, 8)\n",
      "Without unknown authors: (398856, 8)\n",
      "With bad authors removed: (348751, 8)\n",
      "348751 entries.\n",
      "7849 authors.\n",
      "205 domains.\n"
     ]
    }
   ],
   "source": [
    "data, empty_bodies, duplicate_bodies = remove_duplicates(data)\n",
    "data, no_author, no_header, no_domain = remove_missing_feats(data)\n",
    "\n",
    "#Removing bad authors. Baaad author, shame on you!\n",
    "bad_byline = data[data['Byline']==data['Uri']]\n",
    "data = data[data['Byline']!=data['Uri']]\n",
    "print(\"With bad authors removed:\", data.shape)\n",
    "print_stats()"
   ]
  },
  {
   "cell_type": "code",
   "execution_count": 8,
   "metadata": {},
   "outputs": [
    {
     "name": "stdout",
     "output_type": "stream",
     "text": [
      "Unique authors:  7776\n",
      "Anne Sophia Hermansen                                  13559\n",
      "Karim Pedersen                                          7157\n",
      "Thomas Treo                                             6172\n",
      "Mads Elkær                                              4898\n",
      "Benny Baagø                                             4271\n",
      "                                                       ...  \n",
      "Emil Bergløv | Sofie Synnøve Herschend                     1\n",
      "Jo Carlsenn | Rie Carlsen                                  1\n",
      "Kasper Schütt-Jensen | Mads Frost                          1\n",
      "Steen Nedell Christensen | Jesper Haue Hansen              1\n",
      "Michael Hjøllund | Jacob Haislund | Jesper Kongstad        1\n",
      "Name: Byline, Length: 7771, dtype: int64 \n",
      "...\n"
     ]
    }
   ],
   "source": [
    "#Titel-ize Authors!\n",
    "data.Byline = data.Byline.str.title()\n",
    "print(\"Unique authors: \", len(data['Byline'].value_counts()))\n",
    "print(data['Byline'].value_counts()[:-5],\"\\n...\")"
   ]
  },
  {
   "cell_type": "code",
   "execution_count": 9,
   "metadata": {},
   "outputs": [
    {
     "name": "stdout",
     "output_type": "stream",
     "text": [
      "448 empty bodies\n",
      "32675 without author\n",
      "28789 malformed authors\n"
     ]
    }
   ],
   "source": [
    "print(len(empty_bodies), \"empty bodies\")\n",
    "print(len(no_author), \"without author\")\n",
    "#print(len(no_header), \"without header\")\n",
    "#print(len(no_domain), \"without domain\")\n",
    "print(len(bad_byline), \"malformed authors\")"
   ]
  },
  {
   "cell_type": "markdown",
   "metadata": {},
   "source": [
    "### Author cleanup! Removing multiple authors.\n",
    "Some entries have multiple auhthors. How big a problem does this cause?"
   ]
  },
  {
   "cell_type": "code",
   "execution_count": 10,
   "metadata": {
    "scrolled": true
   },
   "outputs": [
    {
     "name": "stdout",
     "output_type": "stream",
     "text": [
      "Entries with multiple authors (and titles, cities): 11275\n",
      "Unique combinations of authors: 4747\n"
     ]
    }
   ],
   "source": [
    "authors = list(data['Byline'])[1:] #First entry is empty.\n",
    "multiple_authors_candidates = []\n",
    "for author in authors:\n",
    "    if any(x in author for x in ['|',',']):\n",
    "        multiple_authors_candidates.append(author)\n",
    "\n",
    "print(\"Entries with multiple authors (and titles, cities):\" ,len(multiple_authors_candidates))\n",
    "print(f\"Unique combinations of authors: {len(set(multiple_authors_candidates))}\")\n",
    "\n",
    "#multiple_authors = [re.split('\\||,',x) for x in multiple_authors]"
   ]
  },
  {
   "cell_type": "markdown",
   "metadata": {},
   "source": [
    "**Now! Let us remove entries with multiple authors.**\n",
    "\n",
    "Some authors are actually not multiple authors, but cities and titles. These entries will be kept, but stripped from everything except the name. We don't want multiple authors, as this project focuses on single authors."
   ]
  },
  {
   "cell_type": "code",
   "execution_count": 11,
   "metadata": {},
   "outputs": [
    {
     "name": "stdout",
     "output_type": "stream",
     "text": [
      "2896 authors removed by '|-rule'\n",
      "1463 author combinations removed by filter.\n",
      "Kept 215 authors (Not sure if they are new authors yet).\n",
      "139 authors already present in data by themselves.\n"
     ]
    }
   ],
   "source": [
    "#Read txt file with words that should not be masked.\n",
    "with open('data/additional/author_filter.txt', encoding='utf-8') as f:\n",
    "    lst = f.read()\n",
    "    lst = lst.split('\\n')\n",
    "\n",
    "author_filter = lst\n",
    "\n",
    "print(f\"{len(set([x for x in multiple_authors_candidates if '|' in x]))} authors removed by '|-rule'\")\n",
    "bar_rule = [x for x in multiple_authors_candidates if '|' in x]\n",
    "multiple_authors_candidates = [x for x in multiple_authors_candidates if '|' not in x] #Remove entries with | in them.\n",
    "\n",
    "new_authors_candidates = []\n",
    "author_names_without_city = [] #Save the new, stripped name and the old one, to edit data fterwards.\n",
    "\n",
    "for candidate in multiple_authors_candidates:\n",
    "    names = candidate.split(',') #Split by , to separate authors or cities    \n",
    "    \n",
    "    append = True\n",
    "    \n",
    "    #Loop through names\n",
    "    for name in names:\n",
    "        name = name.strip()\n",
    "        if len(name.split())>1: #Name is not two or more names.\n",
    "            if any(ele in name for ele in author_filter): #Do not append if name found in filter.\n",
    "                append = False\n",
    "        else:\n",
    "            append = False\n",
    "    \n",
    "    if append:\n",
    "        new_authors_candidates.append(candidate)\n",
    "    else:\n",
    "        #Append to names list without cities. \n",
    "        if any(ele in names[0] for ele in author_filter): #If first name appears in filter, use second name.\n",
    "            author_names_without_city.append((names[1], candidate))\n",
    "        else:\n",
    "            author_names_without_city.append((names[0], candidate))\n",
    "            \n",
    "print(f\"{len(set(new_authors_candidates))} author combinations removed by filter.\")\n",
    "print(f\"Kept {len(set([x[0] for x in author_names_without_city]))} authors (Not sure if they are new authors yet).\")\n",
    "\n",
    "already_there_hon = 0\n",
    "uniques = data['Byline'].unique()\n",
    "for i in set([x[0] for x in author_names_without_city]):\n",
    "    if i in uniques:\n",
    "        already_there_hon += 1\n",
    "        \n",
    "print(f\"{already_there_hon} authors already present in data by themselves.\")"
   ]
  },
  {
   "cell_type": "code",
   "execution_count": 12,
   "metadata": {},
   "outputs": [
    {
     "name": "stdout",
     "output_type": "stream",
     "text": [
      "Converting names...\n"
     ]
    },
    {
     "data": {
      "application/vnd.jupyter.widget-view+json": {
       "model_id": "e9d887670df0464087a3252d8b1ca37a",
       "version_major": 2,
       "version_minor": 0
      },
      "text/plain": [
       "  0%|          | 0/1442 [00:00<?, ?it/s]"
      ]
     },
     "metadata": {},
     "output_type": "display_data"
    },
    {
     "name": "stdout",
     "output_type": "stream",
     "text": [
      "Names are converted! That was slow.\n"
     ]
    }
   ],
   "source": [
    "#Drop multiple authors from data.\n",
    "data = data[data['Byline'].isin(new_authors_candidates) == False]\n",
    "data = data[data['Byline'].isin(bar_rule) == False]\n",
    "\n",
    "#Convert wrong names to right names in data.\n",
    "#Badly optimised...\n",
    "print(\"Converting names...\")\n",
    "for entry in tqdm(author_names_without_city):\n",
    "    name = entry[0]\n",
    "    wrong_name = entry[1]\n",
    "    \n",
    "    data.loc[data[\"Byline\"] == wrong_name, \"Byline\"] = name\n",
    "print(\"Names are converted! That was slow.\")"
   ]
  },
  {
   "cell_type": "code",
   "execution_count": 13,
   "metadata": {},
   "outputs": [],
   "source": [
    "## Remove authors: Redaktionen and Ritzau /Nyheder\n",
    "data = data[data.Byline.isin(['Redaktionen', 'Ritzau /Nyheder']) == False]"
   ]
  },
  {
   "cell_type": "code",
   "execution_count": 14,
   "metadata": {},
   "outputs": [
    {
     "name": "stdout",
     "output_type": "stream",
     "text": [
      "336788 entries.\n",
      "3103 authors.\n",
      "205 domains.\n"
     ]
    }
   ],
   "source": [
    "print_stats()"
   ]
  },
  {
   "cell_type": "markdown",
   "metadata": {},
   "source": [
    "## Removing Unique Entries\n",
    "We don't want unique author or domain names. We need **at least** two entries for each."
   ]
  },
  {
   "cell_type": "code",
   "execution_count": 15,
   "metadata": {},
   "outputs": [],
   "source": [
    "#Drop rows where domain only occurs once.\n",
    "d = data['Domain'].value_counts()\n",
    "data = data[data['Domain'].isin(d[d<2].keys()) == False]"
   ]
  },
  {
   "cell_type": "code",
   "execution_count": 16,
   "metadata": {},
   "outputs": [],
   "source": [
    "#Find which author names that can be salvaged. (Are they calpitalized?)\n",
    "def unique_author_removal(data):\n",
    "    d = data['Byline'].value_counts()\n",
    "    unique_authors = d[d<2].keys()\n",
    "    common_authors = d[d>2].keys()\n",
    "\n",
    "    for author in unique_authors:\n",
    "        author = author.strip()\n",
    "        if author.istitle():\n",
    "            continue\n",
    "        if author.isupper() or author.islower():\n",
    "            if author.title() in common_authors:\n",
    "                data.loc[data[\"Byline\"] == author, \"Byline\"] = author.title()\n",
    "\n",
    "    #Remove any entries with single-occuring authors.\n",
    "    data = data[data['Byline'].isin(unique_authors) == False]\n",
    "    return data\n",
    "\n",
    "data = unique_author_removal(data)"
   ]
  },
  {
   "cell_type": "code",
   "execution_count": 17,
   "metadata": {},
   "outputs": [],
   "source": [
    "#Drop rows where domain only occurs once.\n",
    "d = data['Domain'].value_counts()\n",
    "data = data[data['Domain'].isin(d[d<2].keys()) == False]"
   ]
  },
  {
   "cell_type": "code",
   "execution_count": 18,
   "metadata": {},
   "outputs": [
    {
     "name": "stdout",
     "output_type": "stream",
     "text": [
      "335583 entries.\n",
      "1906 authors.\n",
      "193 domains.\n"
     ]
    }
   ],
   "source": [
    "print_stats()"
   ]
  },
  {
   "cell_type": "markdown",
   "metadata": {},
   "source": [
    "### Additional cleanup\n",
    "Removing duplicated headers and foreign domains."
   ]
  },
  {
   "cell_type": "code",
   "execution_count": 19,
   "metadata": {},
   "outputs": [],
   "source": [
    "h = data['Header'].value_counts()\n",
    "data = data[data['Header'].isin(h[h>20][1:].keys())==False]"
   ]
  },
  {
   "cell_type": "markdown",
   "metadata": {},
   "source": [
    "**Remove foreign domains** - We don't want German texts!"
   ]
  },
  {
   "cell_type": "code",
   "execution_count": 20,
   "metadata": {},
   "outputs": [
    {
     "name": "stdout",
     "output_type": "stream",
     "text": [
      "24924 entries with foreign domains.\n",
      "307953 entries.\n",
      "1867 authors.\n",
      "162 domains.\n"
     ]
    }
   ],
   "source": [
    "domains = ('.dk', 'nordicwomeninfilm.com', 'linkedin.com', 'betxpert.com', 'kommunikation.com', 'radar.com', 'ea.com', 'ue.com','ce.com', '.international', 'e.nu')\n",
    "print(data[data['Domain'].str.endswith(domains)==False].shape[0], \"entries with foreign domains.\")\n",
    "data = data[data['Domain'].str.endswith(domains)]\n",
    "print_stats()"
   ]
  },
  {
   "cell_type": "markdown",
   "metadata": {},
   "source": [
    "__Duplicate domains:__ computerworld.dk has 3 domains of different formats. Unify them."
   ]
  },
  {
   "cell_type": "code",
   "execution_count": 21,
   "metadata": {},
   "outputs": [],
   "source": [
    "data.loc[data.Domain.isin([\"Computerworld.dk\", \"www.computerworld.dk\"]), 'Domain'] = 'computerworld.dk'"
   ]
  },
  {
   "cell_type": "code",
   "execution_count": 22,
   "metadata": {},
   "outputs": [
    {
     "data": {
      "text/plain": [
       "396                          https://www.bt.dk/royale/grevinde-alexandra-gaar-fra-kaeresten-i-dramatisk-brud\n",
       "397                    https://www.bt.dk/royale/skuespillerinde-naegter-venskab-med-prins-harry-det-er-loegn\n",
       "398                                     https://www.bt.dk/royale/kronprins-frederik-deler-billede-fra-jordan\n",
       "399                                        https://www.bt.dk/kendte/jackie-navarro-raser-over-vilde-beskeder\n",
       "400                                       https://www.bt.dk/udland/skovbrand-ude-af-kontrol-50.000-evakueret\n",
       "                                                       ...                                                  \n",
       "678                                    https://www.bt.dk/samfund/dansk-domstol-i-broeler-jeg-er-meget-rystet\n",
       "696             https://www.bt.dk/kendte/endnu-en-stjerne-paa-onlyfans-spiller-guitar-splitterravende-noegen\n",
       "697                                 https://www.bt.dk/film-tv-og-streaming/black-lives-matter-overtog-showet\n",
       "698    https://www.bt.dk/samfund/solo-company-lukker-22-toejbutikker-kunne-ikke-udbetale-loen-til-de-ansatte\n",
       "699                                      https://www.bt.dk/kendte/taylor-swift-stalker-idoemt-faengselsstraf\n",
       "Name: Uri, Length: 200, dtype: object"
      ]
     },
     "execution_count": 22,
     "metadata": {},
     "output_type": "execute_result"
    }
   ],
   "source": [
    "data[(data.Domain=='bt.dk') & (data.Header=='Din profil er oprettet')].Uri.head(200)"
   ]
  },
  {
   "cell_type": "markdown",
   "metadata": {},
   "source": [
    "__Front and back cleanup:__ Remove first and last 100 characters of articles and check their length"
   ]
  },
  {
   "cell_type": "code",
   "execution_count": 5,
   "metadata": {
    "execution": {
     "iopub.execute_input": "2022-05-13T08:03:32.820375Z",
     "iopub.status.busy": "2022-05-13T08:03:32.819864Z",
     "iopub.status.idle": "2022-05-13T08:03:32.829843Z",
     "shell.execute_reply": "2022-05-13T08:03:32.828627Z",
     "shell.execute_reply.started": "2022-05-13T08:03:32.820296Z"
    },
    "tags": []
   },
   "outputs": [],
   "source": [
    "def read_data(path): #input the path to the directory with data\n",
    "    frames = []\n",
    "    \n",
    "    _, _, files = next(os.walk(path)) #create a list of all datafile names     \n",
    "          \n",
    "    for file in tqdm(files): #for every file in directory\n",
    "        with open(path+\"/\"+file) as f: #read each file\n",
    "            dataframe = pd.read_json(f) #convert file to dataframe\n",
    "     \n",
    "        frames.append(dataframe) #append each dataframe to list\n",
    "    data = pd.concat(frames, sort=False) #make it one big dataframe\n",
    "    \n",
    "    return data"
   ]
  },
  {
   "cell_type": "code",
   "execution_count": 80,
   "metadata": {
    "execution": {
     "iopub.execute_input": "2022-05-13T08:51:18.001292Z",
     "iopub.status.busy": "2022-05-13T08:51:18.000820Z",
     "iopub.status.idle": "2022-05-13T08:51:30.690594Z",
     "shell.execute_reply": "2022-05-13T08:51:30.689920Z",
     "shell.execute_reply.started": "2022-05-13T08:51:18.001242Z"
    },
    "tags": []
   },
   "outputs": [
    {
     "data": {
      "application/vnd.jupyter.widget-view+json": {
       "model_id": "7ee9496e99c64a679818af5e6bbc8047",
       "version_major": 2,
       "version_minor": 0
      },
      "text/plain": [
       "  0%|          | 0/13 [00:00<?, ?it/s]"
      ]
     },
     "metadata": {},
     "output_type": "display_data"
    },
    {
     "data": {
      "application/vnd.jupyter.widget-view+json": {
       "model_id": "c458f4d9b6ed43a382a4ab9af294b447",
       "version_major": 2,
       "version_minor": 0
      },
      "text/plain": [
       "  0%|          | 0/12 [00:00<?, ?it/s]"
      ]
     },
     "metadata": {},
     "output_type": "display_data"
    },
    {
     "data": {
      "application/vnd.jupyter.widget-view+json": {
       "model_id": "153b9dd98c89475fa43c3d263c1754c6",
       "version_major": 2,
       "version_minor": 0
      },
      "text/plain": [
       "  0%|          | 0/31 [00:00<?, ?it/s]"
      ]
     },
     "metadata": {},
     "output_type": "display_data"
    }
   ],
   "source": [
    "domain_data = read_data(\"Data/final_domain_subset\")\n",
    "author_data = read_data(\"Data/final_author_subset\")\n"
   ]
  },
  {
   "cell_type": "code",
   "execution_count": 83,
   "metadata": {
    "execution": {
     "iopub.execute_input": "2022-05-13T08:56:51.557077Z",
     "iopub.status.busy": "2022-05-13T08:56:51.556493Z",
     "iopub.status.idle": "2022-05-13T08:57:03.656190Z",
     "shell.execute_reply": "2022-05-13T08:57:03.655543Z",
     "shell.execute_reply.started": "2022-05-13T08:56:51.557025Z"
    }
   },
   "outputs": [
    {
     "data": {
      "application/vnd.jupyter.widget-view+json": {
       "model_id": "3eed4c6a82ba4b0bad37dc6a5b3ba5be",
       "version_major": 2,
       "version_minor": 0
      },
      "text/plain": [
       "  0%|          | 0/31 [00:00<?, ?it/s]"
      ]
     },
     "metadata": {},
     "output_type": "display_data"
    }
   ],
   "source": [
    "all_data = read_data(\"scraped\")"
   ]
  },
  {
   "cell_type": "code",
   "execution_count": 12,
   "metadata": {
    "execution": {
     "iopub.execute_input": "2022-05-13T08:06:03.571814Z",
     "iopub.status.busy": "2022-05-13T08:06:03.571293Z",
     "iopub.status.idle": "2022-05-13T08:06:03.579222Z",
     "shell.execute_reply": "2022-05-13T08:06:03.577856Z",
     "shell.execute_reply.started": "2022-05-13T08:06:03.571760Z"
    },
    "tags": []
   },
   "outputs": [],
   "source": [
    "def remove_start_end(text): \n",
    "    new_text = text[100:]\n",
    "    new_text = new_text[:-100]\n",
    "    \n",
    "    return new_text\n",
    "    "
   ]
  },
  {
   "cell_type": "code",
   "execution_count": 101,
   "metadata": {
    "execution": {
     "iopub.execute_input": "2022-05-13T09:20:10.359489Z",
     "iopub.status.busy": "2022-05-13T09:20:10.358998Z",
     "iopub.status.idle": "2022-05-13T09:20:10.376044Z",
     "shell.execute_reply": "2022-05-13T09:20:10.374854Z",
     "shell.execute_reply.started": "2022-05-13T09:20:10.359437Z"
    },
    "tags": []
   },
   "outputs": [],
   "source": [
    "def xtra_cleaner(dataframe, folder): \n",
    "    \n",
    "    bad_indices = []\n",
    "    print(\"OG dataframe len: \", len(dataframe))\n",
    "    try:\n",
    "        dataframe = dataframe.reset_index()\n",
    "    except:\n",
    "        pass\n",
    "    \n",
    "    for idx, article in tqdm(dataframe.iterrows()):\n",
    "        \n",
    "        body = article.Body\n",
    "        \n",
    "        new_body = remove_start_end(body) # remove first and last 100 characters\n",
    "        \n",
    "        #check length\n",
    "        if len(new_body) < 200:\n",
    "            bad_indices.append(idx)\n",
    "        else: \n",
    "            dataframe.iloc[idx, dataframe.columns.get_loc('Body')] = new_body #overwrite old body with new\n",
    "    \n",
    "    dataframe = dataframe.drop(index=bad_indices) #remove articles under 200 characters\n",
    "        \n",
    "    #Save data\n",
    "    n = 10000\n",
    "    for g, df in dataframe.groupby(np.arange(len(dataframe)) // n):\n",
    "        df.to_json(f'Data/{folder}/data_%s.json'%g, orient='records')\n",
    "        \n",
    "    print(\"Clean data saved\")\n",
    "    \n",
    "    return dataframe, print(len(bad_indices), \"articles were removed. New dataframe len: \", len(dataframe), \"\\n\")\n",
    "        \n",
    "        "
   ]
  },
  {
   "cell_type": "code",
   "execution_count": 102,
   "metadata": {
    "execution": {
     "iopub.execute_input": "2022-05-13T09:20:11.349263Z",
     "iopub.status.busy": "2022-05-13T09:20:11.348973Z",
     "iopub.status.idle": "2022-05-13T09:20:25.868317Z",
     "shell.execute_reply": "2022-05-13T09:20:25.867698Z",
     "shell.execute_reply.started": "2022-05-13T09:20:11.349235Z"
    },
    "tags": []
   },
   "outputs": [
    {
     "name": "stdout",
     "output_type": "stream",
     "text": [
      "OG dataframe len:  124058\n"
     ]
    },
    {
     "data": {
      "application/vnd.jupyter.widget-view+json": {
       "model_id": "774da9cbc4d84589b6f04b10a0a4664d",
       "version_major": 2,
       "version_minor": 0
      },
      "text/plain": [
       "0it [00:00, ?it/s]"
      ]
     },
     "metadata": {},
     "output_type": "display_data"
    },
    {
     "name": "stdout",
     "output_type": "stream",
     "text": [
      "Clean data saved\n",
      "5842 articles were removed. New dataframe len:  118216 \n",
      "\n",
      "CPU times: user 12.1 s, sys: 1.21 s, total: 13.3 s\n",
      "Wall time: 14.5 s\n"
     ]
    }
   ],
   "source": [
    "%%time\n",
    "domain_df = xtra_cleaner(domain_data, \"xtra_clean_domains\")"
   ]
  },
  {
   "cell_type": "code",
   "execution_count": 105,
   "metadata": {
    "execution": {
     "iopub.execute_input": "2022-05-13T09:21:41.136275Z",
     "iopub.status.busy": "2022-05-13T09:21:41.135807Z",
     "iopub.status.idle": "2022-05-13T09:21:57.156776Z",
     "shell.execute_reply": "2022-05-13T09:21:57.156194Z",
     "shell.execute_reply.started": "2022-05-13T09:21:41.136225Z"
    },
    "tags": []
   },
   "outputs": [
    {
     "name": "stdout",
     "output_type": "stream",
     "text": [
      "OG dataframe len:  115867\n"
     ]
    },
    {
     "data": {
      "application/vnd.jupyter.widget-view+json": {
       "model_id": "91ca72b10f5e490ebb7ddf057e01a857",
       "version_major": 2,
       "version_minor": 0
      },
      "text/plain": [
       "0it [00:00, ?it/s]"
      ]
     },
     "metadata": {},
     "output_type": "display_data"
    },
    {
     "name": "stdout",
     "output_type": "stream",
     "text": [
      "Clean data saved\n",
      "3422 articles were removed. New dataframe len:  112445 \n",
      "\n",
      "CPU times: user 12.5 s, sys: 1.54 s, total: 14.1 s\n",
      "Wall time: 16 s\n"
     ]
    }
   ],
   "source": [
    "%%time\n",
    "author_df = xtra_cleaner(author_data, \"xtra_clean_authors\")"
   ]
  },
  {
   "cell_type": "code",
   "execution_count": 112,
   "metadata": {
    "execution": {
     "iopub.execute_input": "2022-05-13T10:11:39.026066Z",
     "iopub.status.busy": "2022-05-13T10:11:39.025594Z",
     "iopub.status.idle": "2022-05-13T10:12:15.777803Z",
     "shell.execute_reply": "2022-05-13T10:12:15.777071Z",
     "shell.execute_reply.started": "2022-05-13T10:11:39.026014Z"
    }
   },
   "outputs": [
    {
     "name": "stdout",
     "output_type": "stream",
     "text": [
      "OG dataframe len:  300822\n"
     ]
    },
    {
     "data": {
      "application/vnd.jupyter.widget-view+json": {
       "model_id": "16c757d1f50f401993d46731c902e173",
       "version_major": 2,
       "version_minor": 0
      },
      "text/plain": [
       "0it [00:00, ?it/s]"
      ]
     },
     "metadata": {},
     "output_type": "display_data"
    },
    {
     "name": "stdout",
     "output_type": "stream",
     "text": [
      "Clean data saved\n",
      "9256 articles were removed. New dataframe len:  291566 \n",
      "\n"
     ]
    }
   ],
   "source": [
    "full_df = xtra_cleaner(all_data, \"xtra_clean_headline_subset\")"
   ]
  },
  {
   "cell_type": "code",
   "execution_count": 148,
   "metadata": {
    "execution": {
     "iopub.execute_input": "2022-05-13T10:59:22.940183Z",
     "iopub.status.busy": "2022-05-13T10:59:22.939038Z",
     "iopub.status.idle": "2022-05-13T10:59:22.949879Z",
     "shell.execute_reply": "2022-05-13T10:59:22.949227Z",
     "shell.execute_reply.started": "2022-05-13T10:59:22.940096Z"
    },
    "tags": []
   },
   "outputs": [],
   "source": [
    "def headline_subsetter(dataframe, folder): \n",
    "    \n",
    "    #Strip the bodies first \n",
    "    print(\"OG dataframe len: \", len(dataframe))\n",
    "    \n",
    "    try:\n",
    "        dataframe = dataframe.reset_index()\n",
    "    except:\n",
    "        pass\n",
    "    \n",
    "    no_repeated_headers = dataframe.drop_duplicates(subset='Header', keep=\"first\")\n",
    "    \n",
    "    #Save data\n",
    "    n = 10000\n",
    "    for g, df in no_repeated_headers.groupby(np.arange(len(no_repeated_headers)) // n):\n",
    "        df.to_json(f'Data/{folder}/data_%s.json'%g, orient='records')\n",
    "        \n",
    "    print(\"Clean data saved\")\n",
    "    \n",
    "    print(len(dataframe)-len(no_repeated_headers), \"articles were removed due to repeating headers.\")\n",
    "    \n",
    "    return no_repeated_headers, print(\"New dataframe len: \", len(no_repeated_headers), \"\\n\")"
   ]
  },
  {
   "cell_type": "code",
   "execution_count": 149,
   "metadata": {
    "execution": {
     "iopub.execute_input": "2022-05-13T10:59:25.320639Z",
     "iopub.status.busy": "2022-05-13T10:59:25.320152Z",
     "iopub.status.idle": "2022-05-13T10:59:31.417308Z",
     "shell.execute_reply": "2022-05-13T10:59:31.416707Z",
     "shell.execute_reply.started": "2022-05-13T10:59:25.320586Z"
    },
    "tags": []
   },
   "outputs": [
    {
     "name": "stdout",
     "output_type": "stream",
     "text": [
      "OG dataframe len:  291566\n",
      "Clean data saved\n",
      "76645 articles were removed due to repeating headers.\n",
      "New dataframe len:  214921 \n",
      "\n"
     ]
    }
   ],
   "source": [
    "head_sub = headline_subsetter(clean_data, \"xtra_clean_headline_subset/no_dupes\")"
   ]
  },
  {
   "cell_type": "markdown",
   "metadata": {},
   "source": [
    "## Scrape 35k articles\n",
    "Some articles have the same header, same body. The domains are limited to bt.dk and berlingske.dk - making a scraper is not too hard."
   ]
  },
  {
   "cell_type": "code",
   "execution_count": 23,
   "metadata": {},
   "outputs": [
    {
     "name": "stdout",
     "output_type": "stream",
     "text": [
      "307953 entries.\n",
      "1867 authors.\n",
      "160 domains.\n"
     ]
    },
    {
     "ename": "ValueError",
     "evalue": "DataFrame index must be unique for orient='columns'.",
     "output_type": "error",
     "traceback": [
      "\u001b[1;31m---------------------------------------------------------------------------\u001b[0m",
      "\u001b[1;31mValueError\u001b[0m                                Traceback (most recent call last)",
      "\u001b[1;32m<ipython-input-23-1df4879fd946>\u001b[0m in \u001b[0;36m<module>\u001b[1;34m\u001b[0m\n\u001b[0;32m     58\u001b[0m \u001b[0mprint_stats\u001b[0m\u001b[1;33m(\u001b[0m\u001b[1;33m)\u001b[0m\u001b[1;33m\u001b[0m\u001b[1;33m\u001b[0m\u001b[0m\n\u001b[0;32m     59\u001b[0m \u001b[0mdata\u001b[0m \u001b[1;33m=\u001b[0m \u001b[0mdata\u001b[0m\u001b[1;33m[\u001b[0m\u001b[0mdata\u001b[0m\u001b[1;33m.\u001b[0m\u001b[0mId\u001b[0m\u001b[1;33m.\u001b[0m\u001b[0misin\u001b[0m\u001b[1;33m(\u001b[0m\u001b[0mremove\u001b[0m\u001b[1;33m)\u001b[0m\u001b[1;33m==\u001b[0m\u001b[1;32mFalse\u001b[0m\u001b[1;33m]\u001b[0m\u001b[1;33m\u001b[0m\u001b[1;33m\u001b[0m\u001b[0m\n\u001b[1;32m---> 60\u001b[1;33m \u001b[0mdata\u001b[0m\u001b[1;33m.\u001b[0m\u001b[0mto_json\u001b[0m\u001b[1;33m(\u001b[0m\u001b[1;34mr'data/additional/scraped_data_raw.json'\u001b[0m\u001b[1;33m)\u001b[0m\u001b[1;33m\u001b[0m\u001b[1;33m\u001b[0m\u001b[0m\n\u001b[0m",
      "\u001b[1;32mc:\\python37\\lib\\site-packages\\pandas\\core\\generic.py\u001b[0m in \u001b[0;36mto_json\u001b[1;34m(self, path_or_buf, orient, date_format, double_precision, force_ascii, date_unit, default_handler, lines, compression, index, indent, storage_options)\u001b[0m\n\u001b[0;32m   2569\u001b[0m             \u001b[0mindex\u001b[0m\u001b[1;33m=\u001b[0m\u001b[0mindex\u001b[0m\u001b[1;33m,\u001b[0m\u001b[1;33m\u001b[0m\u001b[1;33m\u001b[0m\u001b[0m\n\u001b[0;32m   2570\u001b[0m             \u001b[0mindent\u001b[0m\u001b[1;33m=\u001b[0m\u001b[0mindent\u001b[0m\u001b[1;33m,\u001b[0m\u001b[1;33m\u001b[0m\u001b[1;33m\u001b[0m\u001b[0m\n\u001b[1;32m-> 2571\u001b[1;33m             \u001b[0mstorage_options\u001b[0m\u001b[1;33m=\u001b[0m\u001b[0mstorage_options\u001b[0m\u001b[1;33m,\u001b[0m\u001b[1;33m\u001b[0m\u001b[1;33m\u001b[0m\u001b[0m\n\u001b[0m\u001b[0;32m   2572\u001b[0m         )\n\u001b[0;32m   2573\u001b[0m \u001b[1;33m\u001b[0m\u001b[0m\n",
      "\u001b[1;32mc:\\python37\\lib\\site-packages\\pandas\\io\\json\\_json.py\u001b[0m in \u001b[0;36mto_json\u001b[1;34m(path_or_buf, obj, orient, date_format, double_precision, force_ascii, date_unit, default_handler, lines, compression, index, indent, storage_options)\u001b[0m\n\u001b[0;32m    120\u001b[0m         \u001b[0mdefault_handler\u001b[0m\u001b[1;33m=\u001b[0m\u001b[0mdefault_handler\u001b[0m\u001b[1;33m,\u001b[0m\u001b[1;33m\u001b[0m\u001b[1;33m\u001b[0m\u001b[0m\n\u001b[0;32m    121\u001b[0m         \u001b[0mindex\u001b[0m\u001b[1;33m=\u001b[0m\u001b[0mindex\u001b[0m\u001b[1;33m,\u001b[0m\u001b[1;33m\u001b[0m\u001b[1;33m\u001b[0m\u001b[0m\n\u001b[1;32m--> 122\u001b[1;33m         \u001b[0mindent\u001b[0m\u001b[1;33m=\u001b[0m\u001b[0mindent\u001b[0m\u001b[1;33m,\u001b[0m\u001b[1;33m\u001b[0m\u001b[1;33m\u001b[0m\u001b[0m\n\u001b[0m\u001b[0;32m    123\u001b[0m     ).write()\n\u001b[0;32m    124\u001b[0m \u001b[1;33m\u001b[0m\u001b[0m\n",
      "\u001b[1;32mc:\\python37\\lib\\site-packages\\pandas\\io\\json\\_json.py\u001b[0m in \u001b[0;36m__init__\u001b[1;34m(self, obj, orient, date_format, double_precision, ensure_ascii, date_unit, index, default_handler, indent)\u001b[0m\n\u001b[0;32m    166\u001b[0m \u001b[1;33m\u001b[0m\u001b[0m\n\u001b[0;32m    167\u001b[0m         \u001b[0mself\u001b[0m\u001b[1;33m.\u001b[0m\u001b[0mis_copy\u001b[0m \u001b[1;33m=\u001b[0m \u001b[1;32mNone\u001b[0m\u001b[1;33m\u001b[0m\u001b[1;33m\u001b[0m\u001b[0m\n\u001b[1;32m--> 168\u001b[1;33m         \u001b[0mself\u001b[0m\u001b[1;33m.\u001b[0m\u001b[0m_format_axes\u001b[0m\u001b[1;33m(\u001b[0m\u001b[1;33m)\u001b[0m\u001b[1;33m\u001b[0m\u001b[1;33m\u001b[0m\u001b[0m\n\u001b[0m\u001b[0;32m    169\u001b[0m \u001b[1;33m\u001b[0m\u001b[0m\n\u001b[0;32m    170\u001b[0m     \u001b[1;32mdef\u001b[0m \u001b[0m_format_axes\u001b[0m\u001b[1;33m(\u001b[0m\u001b[0mself\u001b[0m\u001b[1;33m)\u001b[0m\u001b[1;33m:\u001b[0m\u001b[1;33m\u001b[0m\u001b[1;33m\u001b[0m\u001b[0m\n",
      "\u001b[1;32mc:\\python37\\lib\\site-packages\\pandas\\io\\json\\_json.py\u001b[0m in \u001b[0;36m_format_axes\u001b[1;34m(self)\u001b[0m\n\u001b[0;32m    224\u001b[0m         \u001b[1;32mif\u001b[0m \u001b[1;32mnot\u001b[0m \u001b[0mself\u001b[0m\u001b[1;33m.\u001b[0m\u001b[0mobj\u001b[0m\u001b[1;33m.\u001b[0m\u001b[0mindex\u001b[0m\u001b[1;33m.\u001b[0m\u001b[0mis_unique\u001b[0m \u001b[1;32mand\u001b[0m \u001b[0mself\u001b[0m\u001b[1;33m.\u001b[0m\u001b[0morient\u001b[0m \u001b[1;32min\u001b[0m \u001b[1;33m(\u001b[0m\u001b[1;34m\"index\"\u001b[0m\u001b[1;33m,\u001b[0m \u001b[1;34m\"columns\"\u001b[0m\u001b[1;33m)\u001b[0m\u001b[1;33m:\u001b[0m\u001b[1;33m\u001b[0m\u001b[1;33m\u001b[0m\u001b[0m\n\u001b[0;32m    225\u001b[0m             raise ValueError(\n\u001b[1;32m--> 226\u001b[1;33m                 \u001b[1;34mf\"DataFrame index must be unique for orient='{self.orient}'.\"\u001b[0m\u001b[1;33m\u001b[0m\u001b[1;33m\u001b[0m\u001b[0m\n\u001b[0m\u001b[0;32m    227\u001b[0m             )\n\u001b[0;32m    228\u001b[0m         if not self.obj.columns.is_unique and self.orient in (\n",
      "\u001b[1;31mValueError\u001b[0m: DataFrame index must be unique for orient='columns'."
     ]
    }
   ],
   "source": [
    "remove = []\n",
    "import traceback\n",
    "\n",
    "if scrape:\n",
    "    try:\n",
    "        data = data.reset_index()\n",
    "    except:\n",
    "        pass\n",
    "    import SeleniumScraper\n",
    "    \n",
    "    treo = data[data['Byline']=='Thomas Treo']\n",
    "    anne = data[data['Byline']=='Anne Sophia Hermansen']\n",
    "    corrupt_data = data[data['Header']=='Din profil er oprettet']\n",
    "    corrupt_data = pd.concat((corrupt_data, treo, anne))\n",
    "    \n",
    "    errors = []\n",
    "    _404s = []\n",
    "    \n",
    "    i = 0\n",
    "    o = corrupt_data.shape[0]\n",
    "\n",
    "    for idx, article in tqdm(corrupt_data.iterrows()):\n",
    "        url = article.Uri\n",
    "\n",
    "        try:\n",
    "            header, body, author = SeleniumScraper.get_content(url)\n",
    "\n",
    "        except Exception as e:\n",
    "            i += 1\n",
    "            errors.append((url, e))\n",
    "            remove.append(article.Id)\n",
    "            print(traceback.format_exc())\n",
    "            continue\n",
    "    \n",
    "        if type(author) == list:\n",
    "            errors.append((url, f\"MULTIPLE AUTHORS:{author}\"))\n",
    "            remove.append(article.Id)\n",
    "            continue\n",
    "        \n",
    "        if article.Domain == 'bt.dk' or article.Domain == 'berlingske.dk':\n",
    "            author, body = '404', '404'\n",
    "            \n",
    "        if header != '404':\n",
    "            data.iloc[idx, data.columns.get_loc('Header')] = header\n",
    "        else:\n",
    "            _404s.append(url)\n",
    "            continue\n",
    "            \n",
    "        if body != '404':\n",
    "            data.iloc[idx, data.columns.get_loc('Body')] = body\n",
    "            \n",
    "        if author != '404':\n",
    "            data.iloc[idx, data.columns.get_loc('Byline')] = author\n",
    "\n",
    "        print(header, f\"({i}/{o})\")\n",
    "        i += 1\n",
    "\n",
    "print_stats()\n",
    "data = data[data.Id.isin(remove)==False]\n",
    "data.to_json(r'data/additional/scraped_data_raw.json')"
   ]
  },
  {
   "cell_type": "code",
   "execution_count": 24,
   "metadata": {},
   "outputs": [
    {
     "name": "stdout",
     "output_type": "stream",
     "text": [
      "292448 entries.\n",
      "1866 authors.\n",
      "160 domains.\n"
     ]
    }
   ],
   "source": [
    "#Remove the remaining unusable articles - those that could not be scraped.\n",
    "data = data[data.Header != 'Din profil er oprettet']\n",
    "data = unique_author_removal(data)\n",
    "print_stats()"
   ]
  },
  {
   "cell_type": "code",
   "execution_count": 25,
   "metadata": {},
   "outputs": [
    {
     "name": "stdout",
     "output_type": "stream",
     "text": [
      "292448 entries.\n",
      "1866 authors.\n",
      "160 domains.\n"
     ]
    }
   ],
   "source": [
    "print_stats()"
   ]
  },
  {
   "cell_type": "code",
   "execution_count": 4,
   "metadata": {
    "execution": {
     "iopub.execute_input": "2022-04-26T07:22:25.186775Z",
     "iopub.status.busy": "2022-04-26T07:22:25.186256Z",
     "iopub.status.idle": "2022-04-26T07:22:25.192899Z",
     "shell.execute_reply": "2022-04-26T07:22:25.191766Z",
     "shell.execute_reply.started": "2022-04-26T07:22:25.186720Z"
    }
   },
   "outputs": [],
   "source": [
    "import os"
   ]
  },
  {
   "cell_type": "code",
   "execution_count": 145,
   "metadata": {
    "execution": {
     "iopub.execute_input": "2022-05-03T11:09:57.187784Z",
     "iopub.status.busy": "2022-05-03T11:09:57.187267Z",
     "iopub.status.idle": "2022-05-03T11:10:03.113973Z",
     "shell.execute_reply": "2022-05-03T11:10:03.113098Z",
     "shell.execute_reply.started": "2022-05-03T11:09:57.187729Z"
    },
    "tags": []
   },
   "outputs": [
    {
     "data": {
      "application/vnd.jupyter.widget-view+json": {
       "model_id": "bc1d0ad01656446da7a95aa643178a76",
       "version_major": 2,
       "version_minor": 0
      },
      "text/plain": [
       "  0%|          | 0/14 [00:00<?, ?it/s]"
      ]
     },
     "metadata": {},
     "output_type": "display_data"
    }
   ],
   "source": [
    "# Re-load data for additional cleanup.\n",
    "files = os.listdir('Data/subset')\n",
    "files = [x for x in files if x[-4:]=='json'] #only take .json files.\n",
    "\n",
    "data = pd.read_json('Data/subset/'+files[0])\n",
    "for file in tqdm(files[1:]):\n",
    "    data = pd.concat([data, pd.read_json('Data/subset/'+file)])\n",
    "\n",
    "#data = pd.read_json('Data/additional/scraped_data_raw.json')\n",
    "\n",
    "domains = data.Domain.value_counts()\n",
    "domains1000 = domains[domains>=1000]\n",
    "domains1000_list = list(domains1000.index)\n",
    "#del domains1000_list[domains1000_list.index('bold.dk')]\n",
    "\n",
    "del data['index']\n",
    "del data['level_0']\n",
    "\n",
    "data.reset_index(drop=True)\n",
    "\n",
    "data = data[data['Domain'].isin(domains1000_list)]"
   ]
  },
  {
   "cell_type": "code",
   "execution_count": 146,
   "metadata": {
    "execution": {
     "iopub.execute_input": "2022-05-03T11:10:05.628486Z",
     "iopub.status.busy": "2022-05-03T11:10:05.627970Z",
     "iopub.status.idle": "2022-05-03T11:10:05.719917Z",
     "shell.execute_reply": "2022-05-03T11:10:05.719255Z",
     "shell.execute_reply.started": "2022-05-03T11:10:05.628428Z"
    },
    "tags": []
   },
   "outputs": [
    {
     "data": {
      "text/html": [
       "<div>\n",
       "<style scoped>\n",
       "    .dataframe tbody tr th:only-of-type {\n",
       "        vertical-align: middle;\n",
       "    }\n",
       "\n",
       "    .dataframe tbody tr th {\n",
       "        vertical-align: top;\n",
       "    }\n",
       "\n",
       "    .dataframe thead th {\n",
       "        text-align: right;\n",
       "    }\n",
       "</style>\n",
       "<table border=\"1\" class=\"dataframe\">\n",
       "  <thead>\n",
       "    <tr style=\"text-align: right;\">\n",
       "      <th></th>\n",
       "      <th>Id</th>\n",
       "      <th>Domain</th>\n",
       "      <th>Body</th>\n",
       "      <th>Header</th>\n",
       "      <th>PublicationDate</th>\n",
       "      <th>Uri</th>\n",
       "      <th>Byline</th>\n",
       "      <th>TextHash</th>\n",
       "    </tr>\n",
       "  </thead>\n",
       "  <tbody>\n",
       "  </tbody>\n",
       "</table>\n",
       "</div>"
      ],
      "text/plain": [
       "Empty DataFrame\n",
       "Columns: [Id, Domain, Body, Header, PublicationDate, Uri, Byline, TextHash]\n",
       "Index: []"
      ]
     },
     "execution_count": 146,
     "metadata": {},
     "output_type": "execute_result"
    }
   ],
   "source": [
    "data[data.Header.str.contains('gigant-razzia')]"
   ]
  },
  {
   "cell_type": "code",
   "execution_count": 147,
   "metadata": {
    "execution": {
     "iopub.execute_input": "2022-05-03T11:10:07.850445Z",
     "iopub.status.busy": "2022-05-03T11:10:07.849580Z",
     "iopub.status.idle": "2022-05-03T11:10:07.908052Z",
     "shell.execute_reply": "2022-05-03T11:10:07.907300Z",
     "shell.execute_reply.started": "2022-05-03T11:10:07.850338Z"
    },
    "tags": []
   },
   "outputs": [
    {
     "name": "stdout",
     "output_type": "stream",
     "text": [
      "141426 entries.\n",
      "99 authors.\n",
      "31 domains.\n"
     ]
    }
   ],
   "source": [
    "print_stats()"
   ]
  },
  {
   "cell_type": "markdown",
   "metadata": {},
   "source": [
    "### Define junk text"
   ]
  },
  {
   "cell_type": "code",
   "execution_count": 148,
   "metadata": {
    "execution": {
     "iopub.execute_input": "2022-05-03T11:10:34.656994Z",
     "iopub.status.busy": "2022-05-03T11:10:34.654680Z",
     "iopub.status.idle": "2022-05-03T11:10:34.672773Z",
     "shell.execute_reply": "2022-05-03T11:10:34.671918Z",
     "shell.execute_reply.started": "2022-05-03T11:10:34.656936Z"
    },
    "tags": []
   },
   "outputs": [],
   "source": [
    "#This function will identify phrases that are repeated throughout the domains. \n",
    "#However, it will have multiple duplicate matches, making the conversion slow... Oh well...\n",
    "def get_junk_by_domain(domain, verbose=False):\n",
    "    bodies = data[data.Domain==domain].Body.to_list()\n",
    "    junk = {}\n",
    "    if verbose:\n",
    "        print(\"Started on\", domain)\n",
    "    for i in tqdm(range(len(bodies)//4)):\n",
    "        #Loop through a quarter of the bodies from the domain.\n",
    "        randomindex = None\n",
    "\n",
    "        while True:\n",
    "            #Find a random index for a article\n",
    "            randomindex = random.randint(0,len(bodies)-1)\n",
    "            if randomindex != i:\n",
    "                break\n",
    "        \n",
    "        #We now have to articles to compare\n",
    "        string1 = bodies[i]\n",
    "        string2 = bodies[randomindex]\n",
    "\n",
    "        #match = SequenceMatcher(None, string1, string2).find_longest_match(0, len(string1), 0, len(string2))\n",
    "        \n",
    "        #Find the indices for the three longest identical substrings in the two articles.\n",
    "        matches = SequenceMatcher(None, string1, string2).get_matching_blocks()\n",
    "        \n",
    "        #Last match is always useless. Loop through the matches.\n",
    "        for match in matches[:-1]:\n",
    "            if match.size > 20:\n",
    "                #If match is longer than 20 characters, extract string from indices and add to dict.\n",
    "                matchstr = string1[match.a: match.a + match.size] \n",
    "                if matchstr not in junk:\n",
    "                    junk[matchstr] = 1\n",
    "                else:\n",
    "                    junk[matchstr] += 1\n",
    "    \n",
    "    if verbose:\n",
    "        print(f\"Found {len(junk)} sentences to remove in {domain}...\")\n",
    "    \n",
    "    keys = list(junk.keys())\n",
    "    if verbose:\n",
    "        print(keys)\n",
    "    junk_list = []\n",
    "    \n",
    "    #Loop through the junk found and add to a list, if they occur more than 2 times.\n",
    "    for key in keys:\n",
    "        if junk[key] > 2:\n",
    "            junk_list.append(key)\n",
    "    \n",
    "    if verbose:\n",
    "        print(f\"Narrowed that down to {len(junk_list)} junk sentences.\")\n",
    "        print(f\"Consisting of: {junk_list}\")\n",
    "    \n",
    "    return junk_list"
   ]
  },
  {
   "cell_type": "markdown",
   "metadata": {},
   "source": [
    "### Remove author and newspaper names\n",
    "We don't want author and newspaper names in bodies and headlines. Let's DEMOLISH them. Also remove URL's and HTML tags and junk text."
   ]
  },
  {
   "cell_type": "code",
   "execution_count": 205,
   "metadata": {
    "execution": {
     "iopub.execute_input": "2022-05-03T12:11:22.935370Z",
     "iopub.status.busy": "2022-05-03T12:11:22.934801Z",
     "iopub.status.idle": "2022-05-03T12:14:57.253086Z",
     "shell.execute_reply": "2022-05-03T12:14:57.252407Z",
     "shell.execute_reply.started": "2022-05-03T12:11:22.935328Z"
    },
    "scrolled": true,
    "tags": []
   },
   "outputs": [
    {
     "data": {
      "application/vnd.jupyter.widget-view+json": {
       "model_id": "df28b4e88a4b4c469cfe0e29e0784b6f",
       "version_major": 2,
       "version_minor": 0
      },
      "text/plain": [
       "  0%|          | 0/30 [00:00<?, ?it/s]"
      ]
     },
     "metadata": {},
     "output_type": "display_data"
    },
    {
     "name": "stdout",
     "output_type": "stream",
     "text": [
      "Started on politiken.dk\n"
     ]
    },
    {
     "data": {
      "application/vnd.jupyter.widget-view+json": {
       "model_id": "8ef811fe68a044ae926cae0d05d0271c",
       "version_major": 2,
       "version_minor": 0
      },
      "text/plain": [
       "  0%|          | 0/3174 [00:00<?, ?it/s]"
      ]
     },
     "metadata": {},
     "output_type": "display_data"
    },
    {
     "name": "stdout",
     "output_type": "stream",
     "text": [
      "Found 2 sentences to remove in politiken.dk...\n",
      "['r. Se kampfakta her. TV: ', ' konflikten mellem DBU og Spillerforeningen']\n",
      "Narrowed that down to 0 junk sentences.\n",
      "Consisting of: []\n",
      "Started on ekstrabladet.dk\n"
     ]
    },
    {
     "data": {
      "application/vnd.jupyter.widget-view+json": {
       "model_id": "3a34584d33bc4dbe830763c48f8a0e13",
       "version_major": 2,
       "version_minor": 0
      },
      "text/plain": [
       "  0%|          | 0/5547 [00:00<?, ?it/s]"
      ]
     },
     "metadata": {},
     "output_type": "display_data"
    },
    {
     "name": "stdout",
     "output_type": "stream",
     "text": [
      "Found 7 sentences to remove in ekstrabladet.dk...\n",
      "[' {AVIS} Skolefodbold ', ' 1-0 til hjemmeholdet', ' på nuværende tidspunkt', ' Poul Nyrup Rasmussen', ' Københavns Lufthavn ', ' økonomi- og indenrigsminister ', 'imon Emil Ammitzbøll ']\n",
      "Narrowed that down to 0 junk sentences.\n",
      "Consisting of: []\n",
      "Started on motormagasinet.dk\n"
     ]
    },
    {
     "data": {
      "application/vnd.jupyter.widget-view+json": {
       "model_id": "afe740273a0645d390fbc7b4da52c46a",
       "version_major": 2,
       "version_minor": 0
      },
      "text/plain": [
       "  0%|          | 0/328 [00:00<?, ?it/s]"
      ]
     },
     "metadata": {},
     "output_type": "display_data"
    },
    {
     "name": "stdout",
     "output_type": "stream",
     "text": [
      "Found 0 sentences to remove in motormagasinet.dk...\n",
      "[]\n",
      "Narrowed that down to 0 junk sentences.\n",
      "Consisting of: []\n",
      "Started on computerworld.dk\n"
     ]
    },
    {
     "data": {
      "application/vnd.jupyter.widget-view+json": {
       "model_id": "031726f0fd4847f58f84d9b8e36ecd0b",
       "version_major": 2,
       "version_minor": 0
      },
      "text/plain": [
       "  0%|          | 0/4944 [00:00<?, ?it/s]"
      ]
     },
     "metadata": {},
     "output_type": "display_data"
    },
    {
     "name": "stdout",
     "output_type": "stream",
     "text": [
      "Found 10 sentences to remove in computerworld.dk...\n",
      "['Sidste år fik 9540 enlige forsørgere på offentlig ydelse en julehjælpspakke, der har en værdi af 1500 kr: Et gavekort til Rema, et gavekort til BR og et gavekort til Sportmaster. Mere end 15', '000 enlige forsørgere har søgt, og der er foreløbig samlet penge ind så ', ' familier kan få hjælp. Du kan støtte indsamlingen ved at sende ', ', mobilepay eller bank. SMSJULEGAVE til 1999og støt med 150 kr. Mobilepay51 81 11 12 Bankmærk {AVIS}.: 5301Konto', 'er vagthavende meteorolog ', 'Det skriver flere medier', 'llands Politi på Twitter', 'RET (Ekstra Bladet): ', '. Det skriver {AVIS} ', '\\xa0 Andre artikler på {AVIS}']\n",
      "Narrowed that down to 0 junk sentences.\n",
      "Consisting of: []\n",
      "Started on journalisten.dk\n"
     ]
    },
    {
     "data": {
      "application/vnd.jupyter.widget-view+json": {
       "model_id": "82f2fbb9f0864b20b9e436507d8954dc",
       "version_major": 2,
       "version_minor": 0
      },
      "text/plain": [
       "  0%|          | 0/625 [00:00<?, ?it/s]"
      ]
     },
     "metadata": {},
     "output_type": "display_data"
    },
    {
     "name": "stdout",
     "output_type": "stream",
     "text": [
      "Found 2 sentences to remove in journalisten.dk...\n",
      "['. Det skriver {AVIS}. ', '0.000 kroner om året ']\n",
      "Narrowed that down to 0 junk sentences.\n",
      "Consisting of: []\n",
      "Started on jv.dk\n"
     ]
    },
    {
     "data": {
      "application/vnd.jupyter.widget-view+json": {
       "model_id": "1439645c6956467d8342372752e0efd8",
       "version_major": 2,
       "version_minor": 0
      },
      "text/plain": [
       "  0%|          | 0/2439 [00:00<?, ?it/s]"
      ]
     },
     "metadata": {},
     "output_type": "display_data"
    },
    {
     "name": "stdout",
     "output_type": "stream",
     "text": [
      "Found 7 sentences to remove in jv.dk...\n",
      "[' på de sociale medier', '. Flemming Junker 19. ', 'Læs artiklen senere Gemt (klik for at fjerne) Læst Kopiér link ', '0 Emma Ahlgreen Haa AARHUS: ', ' Emma Ahlgreen Haa AARHUS: ', ' statsminister Mette Frederiksen (S', 't, siger vagtchefen. ']\n",
      "Narrowed that down to 0 junk sentences.\n",
      "Consisting of: []\n",
      "Started on bt.dk\n"
     ]
    },
    {
     "data": {
      "application/vnd.jupyter.widget-view+json": {
       "model_id": "90591d3386ed4e478d05c0f447aa39e4",
       "version_major": 2,
       "version_minor": 0
      },
      "text/plain": [
       "  0%|          | 0/1534 [00:00<?, ?it/s]"
      ]
     },
     "metadata": {},
     "output_type": "display_data"
    },
    {
     "name": "stdout",
     "output_type": "stream",
     "text": [
      "Found 7 sentences to remove in bt.dk...\n",
      "[',7 millioner kroner. ', ', kl. 08.47Del denne artikel', ':23 Larz Grabau ( ) HA', 'Del denne artikelPeter Suppli Benson', ' {AVIS} Suppli Benson er erhvervsredaktør på {AVIS}Prøv nu\",\"', ' Larz Grabau ( ) HADERSLEV: ', '. Arkivfoto: Michael Bager ']\n",
      "Narrowed that down to 0 junk sentences.\n",
      "Consisting of: []\n",
      "Started on tv2.dk\n"
     ]
    },
    {
     "data": {
      "application/vnd.jupyter.widget-view+json": {
       "model_id": "601f55ab3684497d999b45617a5e6ca7",
       "version_major": 2,
       "version_minor": 0
      },
      "text/plain": [
       "  0%|          | 0/823 [00:00<?, ?it/s]"
      ]
     },
     "metadata": {},
     "output_type": "display_data"
    },
    {
     "name": "stdout",
     "output_type": "stream",
     "text": [
      "Found 1 sentences to remove in tv2.dk...\n",
      "['Esbjerg For abonnenter I ']\n",
      "Narrowed that down to 0 junk sentences.\n",
      "Consisting of: []\n",
      "Started on sn.dk\n"
     ]
    },
    {
     "data": {
      "application/vnd.jupyter.widget-view+json": {
       "model_id": "f61a164ce6dc40358ce0fcf2bb9d8ae5",
       "version_major": 2,
       "version_minor": 0
      },
      "text/plain": [
       "  0%|          | 0/1266 [00:00<?, ?it/s]"
      ]
     },
     "metadata": {},
     "output_type": "display_data"
    },
    {
     "name": "stdout",
     "output_type": "stream",
     "text": [
      "Found 2 sentences to remove in sn.dk...\n",
      "['FortsætFortsætTak fordi du har oprettet en profil. Du er nu logget ind på {AVIS}.dk. Vi har sendt dig en bekræftelse til .LukS', 'oto: Brand & Redning Sønderjylland ']\n",
      "Narrowed that down to 0 junk sentences.\n",
      "Consisting of: []\n",
      "Started on version2.dk\n"
     ]
    },
    {
     "data": {
      "application/vnd.jupyter.widget-view+json": {
       "model_id": "09d1c10bf24c49549875ab2538aae895",
       "version_major": 2,
       "version_minor": 0
      },
      "text/plain": [
       "  0%|          | 0/692 [00:00<?, ?it/s]"
      ]
     },
     "metadata": {},
     "output_type": "display_data"
    },
    {
     "name": "stdout",
     "output_type": "stream",
     "text": [
      "Found 1 sentences to remove in version2.dk...\n",
      "[' FN’s Verdensmål for bæredygtig ']\n",
      "Narrowed that down to 0 junk sentences.\n",
      "Consisting of: []\n",
      "Started on berlingske.dk\n"
     ]
    },
    {
     "data": {
      "application/vnd.jupyter.widget-view+json": {
       "model_id": "6d73bc18df4842c8baf414b152873290",
       "version_major": 2,
       "version_minor": 0
      },
      "text/plain": [
       "  0%|          | 0/2126 [00:00<?, ?it/s]"
      ]
     },
     "metadata": {},
     "output_type": "display_data"
    },
    {
     "name": "stdout",
     "output_type": "stream",
     "text": [
      "Found 2 sentences to remove in berlingske.dk...\n",
      "['Opdateret mandag d. 2', 'ndag d. 01. december 201']\n",
      "Narrowed that down to 0 junk sentences.\n",
      "Consisting of: []\n",
      "Started on soundvenue.com\n"
     ]
    },
    {
     "data": {
      "application/vnd.jupyter.widget-view+json": {
       "model_id": "31019126db3a4c0ca78f9bf91ddb1375",
       "version_major": 2,
       "version_minor": 0
      },
      "text/plain": [
       "  0%|          | 0/641 [00:00<?, ?it/s]"
      ]
     },
     "metadata": {},
     "output_type": "display_data"
    },
    {
     "name": "stdout",
     "output_type": "stream",
     "text": [
      "Found 40 sentences to remove in soundvenue.com...\n",
      "['tid? Lav din egen hvide og røde sangria', 'planter, der klarer sig godt på badeværelset ', ' 7 tricks til opvaskemaskinen: Sådan får du renere tallerkener og glas', ' Grilltips: Lav den perfekte pizza på grillen', '2 eksotiske alternativer til den traditionelle risalamande', 'erfor har din teenager godt af at hjælpe til derhjemm', ' Bør man give drikkepenge på All Inclusive-ferie', 'er Pisk flødeskum i en plasticpose - Lifehack #54', 'Få hunden til at komme, når du kalder: 3 trin til succest', ' Mad med mælkebøtter: Sådan høster og tilbereder du den gule ukrudtsplante', 'gratis fornøjelser på Sjælland og Møn ', ' Pisk flødeskum i en plasticpose - Lifehack #54', 'kopudsning med militær præcision ', '10 gratis fornøjelser ', ' 6 tip: Pas på vaskemaskinen og få renere tøjådan ', ' Vask af og til ved 90 grader i vaskemaskinen', ' Mad med mælkebøtter: Sådan høster og tilbereder du den gule ukrudtsplante ', '6 tip: Pas på vaskemaskinen og få renere tøj', ' Ren opvaskemaskine #1: Rens bundfilteret og sien', 'er. {AVIS} guider dig', 'Skal vi snart sige farvel til sommerfuglen', ' 6 tip: Pas på vaskemaskinen og få renere tøj ', ' 6 tip: Pas på vaskemaskinen og få renere tøj', 'isengrød på 35 minutter ', ' Mærkelige madnavne: Hvorfor hedder det en amagermad', '. {AVIS} viser dig, hvordan du ', ' Gode råd: Sådan renser du dine smykker', 'etDu skal ikke sige 17, 18, 102, 108 - og en del flere numre til din iPhone. Medmindre du vil have fat i alarmcentralen ', ' Børn i børnehaven kan godt lære førstehjælp ', ' 12 ting du aldrig må gøre i tordenvejr', ' Klumme: Tilbage til Brugsen i Byrum ', 'Gin og tonic-tid? Lav din egen lækre tonic', ' 7 tricks til opvaskemaskinen: Sådan får du renere tallerkener og glasplanter, der klarer sig godt på badeværelset ', ' Få styr på madens holdbarhed ', '7 tricks til opvaskemaskinen: Sådan får du renere tallerkener og glas', 'u skal ikke sige 17, 18, 102, 108 - og en del flere numre til din iPhone. Medmindre du vil have fat i alarmcentralen', 'er Ren opvaskemaskine #1: Rens bundfilteret og sien', ' Tid til tomatplanterådan ', ' Chokoladekage i mikroovnen på 15 minutter ', 'ks til opvaskemaskinen: Sådan får du renere tallerkener og glas']\n",
      "Narrowed that down to 3 junk sentences.\n",
      "Consisting of: [' 7 tricks til opvaskemaskinen: Sådan får du renere tallerkener og glas', ' Mad med mælkebøtter: Sådan høster og tilbereder du den gule ukrudtsplante', ' 6 tip: Pas på vaskemaskinen og få renere tøj']\n",
      "Started on ing.dk\n"
     ]
    },
    {
     "data": {
      "application/vnd.jupyter.widget-view+json": {
       "model_id": "f62297ad919d4b698a101499e81bc4c9",
       "version_major": 2,
       "version_minor": 0
      },
      "text/plain": [
       "  0%|          | 0/932 [00:00<?, ?it/s]"
      ]
     },
     "metadata": {},
     "output_type": "display_data"
    },
    {
     "name": "stdout",
     "output_type": "stream",
     "text": [
      "Found 3 sentences to remove in ing.dk...\n",
      "['n{AVIS}, siger han. - ', 'er chefpolitiinspektør', ' fra Midt- og Vestjyllands Politi']\n",
      "Narrowed that down to 0 junk sentences.\n",
      "Consisting of: []\n",
      "Started on dr.dk\n"
     ]
    },
    {
     "data": {
      "application/vnd.jupyter.widget-view+json": {
       "model_id": "66a5cde5eb9b4bf5aa9dc51c78562d6e",
       "version_major": 2,
       "version_minor": 0
      },
      "text/plain": [
       "  0%|          | 0/802 [00:00<?, ?it/s]"
      ]
     },
     "metadata": {},
     "output_type": "display_data"
    },
    {
     "name": "stdout",
     "output_type": "stream",
     "text": [
      "Found 0 sentences to remove in dr.dk...\n",
      "[]\n",
      "Narrowed that down to 0 junk sentences.\n",
      "Consisting of: []\n",
      "Started on altinget.dk\n"
     ]
    },
    {
     "data": {
      "application/vnd.jupyter.widget-view+json": {
       "model_id": "5dcdc5f304234067adfb1e7f7f6c104d",
       "version_major": 2,
       "version_minor": 0
      },
      "text/plain": [
       "  0%|          | 0/909 [00:00<?, ?it/s]"
      ]
     },
     "metadata": {},
     "output_type": "display_data"
    },
    {
     "name": "stdout",
     "output_type": "stream",
     "text": [
      "Found 18 sentences to remove in altinget.dk...\n",
      "['e. Trailer: Læs også: ', ' Artikler | Essay | rtikler Essay ', ' Ekkos Peter Schepelern. ', ' Københavns Universitet', 'Københavns Universitet', ' Aldersgrænse: Tilladt for børn over 1', ' Search Trending ’The Outsider’: HBO’s Stephen King-serie var et mesterligt mareridt ', 'Harvey Weinstein skal 23 år i fængsel ', 'Alle danske biografer lukker – går hårdt ud over flere film ', ' MUSIK FILM+SERIER MODE STANDARD STREAMER PURCHASE PODCASTS NYHEDSBREVE OM {AVIS} KONTAKT Søg ', \" Tessas vers på Suspekts 'Vil du med...' minder om en anden legendarisk gæsteoptræden fra 201De 20 bedste danske hiphopsange i 2010'erne Benjamin og Lukas brugte en millionstor følgerskare til at komme i kontakt med udenlandske rappere 10 potentielle hovednavne, der stadig har tid i kalenderen til de danske festivaler Sponsoreret indhold Features Gå ikke glip af Interview Interview Michael Williams vil ikke sælge sin sjæl for et gennembrud: »Hvis det sker, så sker det« Standard Standard {AVIS}s hiphop-podcast: Lil Uzi Vert gør krav på trap-tronen med ‘Eternal Atake’ Serie Serie ’The Outsider’: HBO’s Stephen King-serie var et mesterligt mareridt Album Album Princes Nokia udgav to album samme dag: Det ene giver dig en krammer, det andet brænder hele lortet ned Serie Serie ’Dave’: Youtube-rappers little dick energy sejrer i HBO Nordic-aktuel serie Detektivjagt Detektivjagt TikTok har allerede skabt nye musikstjerner i USA – nu er det Danmarks tur Bag Netflix-kulissen Bag Netflix-kulissen Er ‘Love Is Blind’ fake? Interview Interview Besir Zeciri startede gennembrudsrollen med et smækkys fra Sidse Babett Street Style Street Style Princess Nokias spraglede stil gik igen hos publikum Nej, Roskilde Festival har ikke opgivet rockmusikken Guide Guide De 15 bedste sci-fi-serier på streaming lige nu Analyse Analyse Den egentlige grund til, at James Bond-premieren er udskudt Guide Guide De bedste serier på Netflix Interview Interview Hvordan en dansk producers ‘type beats’ endte hos hiphopstjerner som Pop Smoke og NLE Choppa Interview Interview {AVIS} Springer: Arian Kashef vil vise Danmark, hvad han er skabt til Guide Guide Ugens bedste sneaker-nyheder – 90’er-modeller, luksussandaler og Heliot Emil-støvler top tracks top tracks Hør ugens 10 bedste nye sange – Aarhus-banger, Roskilde-pop, Carmon har 'Need For Speed' Guide Guide Ude nu: Her er ugens fem vigtigste nye album Tendens Tendens De bryder ud i halvfalsk skønsang på film – og selv stoiske træmænd knækker sammen Interview Interview {AVIS} Springer: Muf10-signede $hybxi laver følsom trap på topniveau Derfor kan jeg ikke tage øjnene fra ’Love Is Blind’ på Netflix Er det okay at savne nogle gamle røvhuller på Roskilde-plakaten? Interview Interview Distortion-chefen om gadefesternes store forandring: »Hvis du vil gå amok til Distortion, er det ikke gratis længere« Guide Guide Hvem spiller på Orange Scene til sommer? Vi guider til de sikre navne og gætter på de sidste pladser Interview Interview Ole Christian Madsen om terrorfortællingen ’Krudttønden’: »Det skulle være ofrenes film« Flere Artikler Få ugens tophistorier i din inbox Tilmeld Jeg ønsker at modtage et ugentligt overblik over de vigtigste historier og accepterer samtidig {AVIS}s privacy policy . Tjek din inbox. Vi har sendt dig en mail, så du kan bekræfte din tilmelding. Velkommen ombord. Vi har opdateret de nyhedsbreve du modtager. KONTAKT MEDIEKIT PERSONDATA Facebook Instagram Twitter © 2020 {AVIS}\", 'e {AVIS} Search Trending ’The Outsider’: HBO’s Stephen King-serie var et mesterligt mareridt ', 'Alle danske biografer lukker – går hårdt ud over flere film', ' MUSIK FILM+SERIER MODE STANDARD STREAMER PURCHASE PODCASTS NYHEDSBREVE OM {AVIS} KONTAKT Søg 2', \" Tessas vers på Suspekts 'Vil du med...' minder om en anden legendarisk gæsteoptræden fra 201Hvordan en dansk producers ‘type beats’ endte hos hiphopstjerner som Pop Smoke og NLE Choppa Sponsoreret indhold Features Gå ikke glip af Interview Interview Michael Williams vil ikke sælge sin sjæl for et gennembrud: »Hvis det sker, så sker det« \", \" {AVIS}s hiphop-podcast: Lil Uzi Vert gør krav på trap-tronen med ‘Eternal Atake’ Serie Serie ’The Outsider’: HBO’s Stephen King-serie var et mesterligt mareridt Album Album Princes Nokia udgav to album samme dag: Det ene giver dig en krammer, det andet brænder hele lortet ned Serie Serie ’Dave’: Youtube-rappers little dick energy sejrer i HBO Nordic-aktuel serie Detektivjagt Detektivjagt TikTok har allerede skabt nye musikstjerner i USA – nu er det Danmarks tur Bag Netflix-kulissen Bag Netflix-kulissen Er ‘Love Is Blind’ fake? Interview Interview Besir Zeciri startede gennembrudsrollen med et smækkys fra Sidse Babett Street Style Street Style Princess Nokias spraglede stil gik igen hos publikum Nej, Roskilde Festival har ikke opgivet rockmusikken Guide Guide De 15 bedste sci-fi-serier på streaming lige nu Analyse Analyse Den egentlige grund til, at James Bond-premieren er udskudt Guide Guide De bedste serier på Netflix Interview Interview Hvordan en dansk producers ‘type beats’ endte hos hiphopstjerner som Pop Smoke og NLE Choppa Interview Interview {AVIS} Springer: Arian Kashef vil vise Danmark, hvad han er skabt til Guide Guide Ugens bedste sneaker-nyheder – 90’er-modeller, luksussandaler og Heliot Emil-støvler top tracks top tracks Hør ugens 10 bedste nye sange – Aarhus-banger, Roskilde-pop, Carmon har 'Need For Speed' Guide Guide Ude nu: Her er ugens fem vigtigste nye album Tendens Tendens De bryder ud i halvfalsk skønsang på film – og selv stoiske træmænd knækker sammen Interview Interview {AVIS} Springer: Muf10-signede $hybxi laver følsom trap på topniveau Derfor kan jeg ikke tage øjnene fra ’Love Is Blind’ på Netflix Er det okay at savne nogle gamle røvhuller på Roskilde-plakaten? Interview Interview Distortion-chefen om gadefesternes store forandring: »Hvis du vil gå amok til Distortion, er det ikke gratis længere« Guide Guide Hvem spiller på Orange Scene til sommer? Vi guider til de sikre navne og gætter på de sidste pladser Interview Interview Ole Christian Madsen om terrorfortællingen ’Krudttønden’: »Det skulle være ofrenes film« Flere Artikler Få ugens tophistorier i din inbox Tilmeld Jeg ønsker at modtage et ugentligt overblik over de vigtigste historier og accepterer samtidig {AVIS}s privacy policy . Tjek din inbox. Vi har sendt dig en mail, så du kan bekræfte din tilmelding. Velkommen ombord. Vi har opdateret de nyhedsbreve du modtager. KONTAKT MEDIEKIT PERSONDATA Facebook Instagram Twitter © 2020 {AVIS}\", 'æste dato | alfabetisk', '. Trailer: Læs også: ']\n",
      "Narrowed that down to 0 junk sentences.\n",
      "Consisting of: []\n",
      "Started on nordjyske.dk\n"
     ]
    },
    {
     "data": {
      "application/vnd.jupyter.widget-view+json": {
       "model_id": "63f0f64bd6e742c29fef8026e97d220d",
       "version_major": 2,
       "version_minor": 0
      },
      "text/plain": [
       "  0%|          | 0/443 [00:00<?, ?it/s]"
      ]
     },
     "metadata": {},
     "output_type": "display_data"
    },
    {
     "name": "stdout",
     "output_type": "stream",
     "text": [
      "Found 1 sentences to remove in nordjyske.dk...\n",
      "[' spændende og anderledes']\n",
      "Narrowed that down to 0 junk sentences.\n",
      "Consisting of: []\n",
      "Started on finans.dk\n"
     ]
    },
    {
     "data": {
      "application/vnd.jupyter.widget-view+json": {
       "model_id": "dac297e8303441a68e3068a10c434d1e",
       "version_major": 2,
       "version_minor": 0
      },
      "text/plain": [
       "  0%|          | 0/807 [00:00<?, ?it/s]"
      ]
     },
     "metadata": {},
     "output_type": "display_data"
    },
    {
     "name": "stdout",
     "output_type": "stream",
     "text": [
      "Found 2 sentences to remove in finans.dk...\n",
      "[' bilistorganisationen FDM ', ' spærret i retning mod A']\n",
      "Narrowed that down to 0 junk sentences.\n",
      "Consisting of: []\n",
      "Started on stiften.dk\n"
     ]
    },
    {
     "data": {
      "application/vnd.jupyter.widget-view+json": {
       "model_id": "fe6f756512374a98b4f6bbcb256f1f62",
       "version_major": 2,
       "version_minor": 0
      },
      "text/plain": [
       "  0%|          | 0/1105 [00:00<?, ?it/s]"
      ]
     },
     "metadata": {},
     "output_type": "display_data"
    },
    {
     "name": "stdout",
     "output_type": "stream",
     "text": [
      "Found 0 sentences to remove in stiften.dk...\n",
      "[]\n",
      "Narrowed that down to 0 junk sentences.\n",
      "Consisting of: []\n",
      "Started on information.dk\n"
     ]
    },
    {
     "data": {
      "application/vnd.jupyter.widget-view+json": {
       "model_id": "a8345caf6aa741c7915cf50a6bf1a5a0",
       "version_major": 2,
       "version_minor": 0
      },
      "text/plain": [
       "  0%|          | 0/364 [00:00<?, ?it/s]"
      ]
     },
     "metadata": {},
     "output_type": "display_data"
    },
    {
     "name": "stdout",
     "output_type": "stream",
     "text": [
      "Found 0 sentences to remove in information.dk...\n",
      "[]\n",
      "Narrowed that down to 0 junk sentences.\n",
      "Consisting of: []\n",
      "Started on seoghoer.dk\n"
     ]
    },
    {
     "data": {
      "application/vnd.jupyter.widget-view+json": {
       "model_id": "8eb16b0c17474bb993d3c91848c943fd",
       "version_major": 2,
       "version_minor": 0
      },
      "text/plain": [
       "  0%|          | 0/393 [00:00<?, ?it/s]"
      ]
     },
     "metadata": {},
     "output_type": "display_data"
    },
    {
     "name": "stdout",
     "output_type": "stream",
     "text": [
      "Found 4 sentences to remove in seoghoer.dk...\n",
      "['Haderslev For abonnenter ', ' Redning Sønderjylland ', 'rtiklen fortsætter under ', ' på at finde ud af, hv']\n",
      "Narrowed that down to 0 junk sentences.\n",
      "Consisting of: []\n",
      "Started on fyens.dk\n"
     ]
    },
    {
     "data": {
      "application/vnd.jupyter.widget-view+json": {
       "model_id": "6a6cc4ce83674c1387f3203339befb8e",
       "version_major": 2,
       "version_minor": 0
      },
      "text/plain": [
       "  0%|          | 0/657 [00:00<?, ?it/s]"
      ]
     },
     "metadata": {},
     "output_type": "display_data"
    },
    {
     "name": "stdout",
     "output_type": "stream",
     "text": [
      "Found 5 sentences to remove in fyens.dk...\n",
      "[' dec. 2008 kl. 04:00 {FORFATTER} Nielsen', ' {FORFATTER} Nielsen ', ' kl. 04:00 {FORFATTER} Nielsen', ':00 {FORFATTER} Nielsen ', ' AF SACHA SENNOV Offentliggjort: 0']\n",
      "Narrowed that down to 0 junk sentences.\n",
      "Consisting of: []\n",
      "Started on finanswatch.dk\n"
     ]
    },
    {
     "data": {
      "application/vnd.jupyter.widget-view+json": {
       "model_id": "05ba0b216be94e3ab41da50c25ca184b",
       "version_major": 2,
       "version_minor": 0
      },
      "text/plain": [
       "  0%|          | 0/364 [00:00<?, ?it/s]"
      ]
     },
     "metadata": {},
     "output_type": "display_data"
    },
    {
     "name": "stdout",
     "output_type": "stream",
     "text": [
      "Found 0 sentences to remove in finanswatch.dk...\n",
      "[]\n",
      "Narrowed that down to 0 junk sentences.\n",
      "Consisting of: []\n",
      "Started on ejendomswatch.dk\n"
     ]
    },
    {
     "data": {
      "application/vnd.jupyter.widget-view+json": {
       "model_id": "5fe4fe40fbe842a7aca9c872a71c4759",
       "version_major": 2,
       "version_minor": 0
      },
      "text/plain": [
       "  0%|          | 0/336 [00:00<?, ?it/s]"
      ]
     },
     "metadata": {},
     "output_type": "display_data"
    },
    {
     "name": "stdout",
     "output_type": "stream",
     "text": [
      "Found 0 sentences to remove in ejendomswatch.dk...\n",
      "[]\n",
      "Narrowed that down to 0 junk sentences.\n",
      "Consisting of: []\n",
      "Started on helsingordagblad.dk\n"
     ]
    },
    {
     "data": {
      "application/vnd.jupyter.widget-view+json": {
       "model_id": "e4e07bd6e6664a21b4d2760b2e54eaa9",
       "version_major": 2,
       "version_minor": 0
      },
      "text/plain": [
       "  0%|          | 0/310 [00:00<?, ?it/s]"
      ]
     },
     "metadata": {},
     "output_type": "display_data"
    },
    {
     "name": "stdout",
     "output_type": "stream",
     "text": [
      "Found 1 sentences to remove in helsingordagblad.dk...\n",
      "[' skriver DAGBLADET Ringsted. ']\n",
      "Narrowed that down to 0 junk sentences.\n",
      "Consisting of: []\n",
      "Started on tv2east.dk\n"
     ]
    },
    {
     "data": {
      "application/vnd.jupyter.widget-view+json": {
       "model_id": "6d58e720571c4907819007d29b252e54",
       "version_major": 2,
       "version_minor": 0
      },
      "text/plain": [
       "  0%|          | 0/302 [00:00<?, ?it/s]"
      ]
     },
     "metadata": {},
     "output_type": "display_data"
    },
    {
     "name": "stdout",
     "output_type": "stream",
     "text": [
      "Found 0 sentences to remove in tv2east.dk...\n",
      "[]\n",
      "Narrowed that down to 0 junk sentences.\n",
      "Consisting of: []\n",
      "Started on gaffa.dk\n"
     ]
    },
    {
     "data": {
      "application/vnd.jupyter.widget-view+json": {
       "model_id": "1f417b4f560d4cabb72ecf0d8dac083f",
       "version_major": 2,
       "version_minor": 0
      },
      "text/plain": [
       "  0%|          | 0/415 [00:00<?, ?it/s]"
      ]
     },
     "metadata": {},
     "output_type": "display_data"
    },
    {
     "name": "stdout",
     "output_type": "stream",
     "text": [
      "Found 11 sentences to remove in gaffa.dk...\n",
      "['. Køb billetter til Ho', ' kommende hjemmekampe her!', 'og oplev stemningen og fællesskabet på Sydbank Park. Køb din billet her', 'e. Køb billetter til ', 's kommende hjemmekampe her!Glad ', ' til klubbens hjemmeside. ', ' Premier League (14bet365 ', 'Twitter Af Sara Margren', 'Tottenham - Manchester United Premier League (15bet365 3,40 3,40 2,153,60 3,30 2,27 Oddset 3,55 3,25 2,2Tottenham ', ' United Premier League (1', 'Sara Margren6:itness 16:0']\n",
      "Narrowed that down to 0 junk sentences.\n",
      "Consisting of: []\n",
      "Started on billedbladet.dk\n"
     ]
    },
    {
     "data": {
      "application/vnd.jupyter.widget-view+json": {
       "model_id": "5474961f05e04bbb9e96e0b8e31179f1",
       "version_major": 2,
       "version_minor": 0
      },
      "text/plain": [
       "  0%|          | 0/375 [00:00<?, ?it/s]"
      ]
     },
     "metadata": {},
     "output_type": "display_data"
    },
    {
     "name": "stdout",
     "output_type": "stream",
     "text": [
      "Found 16 sentences to remove in billedbladet.dk...\n",
      "['. Foto: Lars H. Laursen', ', som {AVIS} har fået lov at ', ', som {AVIS} har fået lov at bringe, s', '. Ønsker du at se dette indhold skal du acceptere øvrige cookies.', ' Foto: Flemming Jeppesen ', ' Foto: Lars H. Laursen ', ' - af {FORFATTER}, NewsDesk, Aller Media ', '. Den 43-årige kronprinsesse Mary ', ' Foto: Martin Høien/{AVIS} ', ' Foto: Lars H. Laursen', 'che til {AVIS}. LÆS MERE: ', ' dronning Silvia. Foto: AOP ', ' Foto: AOP Skuespilleren ', ' {AVIS} har fået lov at bringe', ' Birger Storm/{AVIS} ', ' Foto: Jesper Sunesen/{AVIS} TV 2']\n",
      "Narrowed that down to 1 junk sentences.\n",
      "Consisting of: [' Foto: Lars H. Laursen']\n",
      "Started on pov.international\n"
     ]
    },
    {
     "data": {
      "application/vnd.jupyter.widget-view+json": {
       "model_id": "ba58543fe0854f0fa046f1db08b95f5b",
       "version_major": 2,
       "version_minor": 0
      },
      "text/plain": [
       "  0%|          | 0/264 [00:00<?, ?it/s]"
      ]
     },
     "metadata": {},
     "output_type": "display_data"
    },
    {
     "name": "stdout",
     "output_type": "stream",
     "text": [
      "Found 2 sentences to remove in pov.international...\n",
      "[' HER Topillustration: ', ' {AVIS} International']\n",
      "Narrowed that down to 0 junk sentences.\n",
      "Consisting of: []\n",
      "Started on jiyan.dk\n"
     ]
    },
    {
     "data": {
      "application/vnd.jupyter.widget-view+json": {
       "model_id": "bc1f902b90ad495db6645b5bc8c37e19",
       "version_major": 2,
       "version_minor": 0
      },
      "text/plain": [
       "  0%|          | 0/266 [00:00<?, ?it/s]"
      ]
     },
     "metadata": {},
     "output_type": "display_data"
    },
    {
     "name": "stdout",
     "output_type": "stream",
     "text": [
      "Found 1 sentences to remove in jiyan.dk...\n",
      "[' Du kan læse mere om ']\n",
      "Narrowed that down to 0 junk sentences.\n",
      "Consisting of: []\n",
      "Started on fodevarewatch.dk\n"
     ]
    },
    {
     "data": {
      "application/vnd.jupyter.widget-view+json": {
       "model_id": "97bb97f96f62423e9eb43f27185ed6da",
       "version_major": 2,
       "version_minor": 0
      },
      "text/plain": [
       "  0%|          | 0/284 [00:00<?, ?it/s]"
      ]
     },
     "metadata": {},
     "output_type": "display_data"
    },
    {
     "name": "stdout",
     "output_type": "stream",
     "text": [
      "Found 0 sentences to remove in fodevarewatch.dk...\n",
      "[]\n",
      "Narrowed that down to 0 junk sentences.\n",
      "Consisting of: []\n"
     ]
    }
   ],
   "source": [
    "domain_junk = {}\n",
    "for domain in tqdm(data.Domain.unique()):\n",
    "    domain_junk[domain] = get_junk_by_domain(domain, verbose=True)"
   ]
  },
  {
   "cell_type": "code",
   "execution_count": 168,
   "metadata": {
    "execution": {
     "iopub.execute_input": "2022-05-03T11:44:11.692964Z",
     "iopub.status.busy": "2022-05-03T11:44:11.692480Z",
     "iopub.status.idle": "2022-05-03T11:44:11.702213Z",
     "shell.execute_reply": "2022-05-03T11:44:11.701231Z",
     "shell.execute_reply.started": "2022-05-03T11:44:11.692911Z"
    },
    "tags": []
   },
   "outputs": [],
   "source": [
    "with open('domain_junk.dat', 'rb') as f:\n",
    "    old_domain_junk = pickle.load(f)\n",
    "\n",
    "for key in domain_junk.keys():\n",
    "    if key in old_domain_junk.keys():\n",
    "        [domain_junk[key].append(x) for x in old_domain_junk[key]]"
   ]
  },
  {
   "cell_type": "code",
   "execution_count": 202,
   "metadata": {
    "execution": {
     "iopub.execute_input": "2022-05-03T12:04:35.312767Z",
     "iopub.status.busy": "2022-05-03T12:04:35.312127Z",
     "iopub.status.idle": "2022-05-03T12:10:20.041374Z",
     "shell.execute_reply": "2022-05-03T12:10:20.040306Z",
     "shell.execute_reply.started": "2022-05-03T12:04:35.312711Z"
    },
    "tags": []
   },
   "outputs": [
    {
     "data": {
      "application/vnd.jupyter.widget-view+json": {
       "model_id": "69d6f77bebd84002902d3103b66f5d5c",
       "version_major": 2,
       "version_minor": 0
      },
      "text/plain": [
       "  0%|          | 0/133915 [00:00<?, ?it/s]"
      ]
     },
     "metadata": {},
     "output_type": "display_data"
    },
    {
     "name": "stdout",
     "output_type": "stream",
     "text": [
      "Altered 0 headers.\n",
      "And 16287 bodies.\n",
      "And 102919 pieces of junk removed.\n"
     ]
    }
   ],
   "source": [
    "#data = data.reset_index()\n",
    "placeholder_author = '{FORFATTER}'\n",
    "placeholder_domain = '{AVIS}'\n",
    "\n",
    "num_new_headers = 0\n",
    "num_new_bodies = 0\n",
    "junk_removed = 0\n",
    "\n",
    "try:\n",
    "    data = data.reset_index()\n",
    "except:\n",
    "    pass\n",
    "\n",
    "def remove_date(text):\n",
    "    try:\n",
    "        out = parse(text)\n",
    "        return ''.join(out[-1])\n",
    "    except:\n",
    "        return text\n",
    "\n",
    "#Remove URL and HTML junk from body\n",
    "def strip_tags(text):\n",
    "    text = re.sub(r'<.*?>', '', text)\n",
    "    text = re.sub(r'http\\S+', '', text)\n",
    "    text = re.sub(r'([\\w\\d\\.]+)@[\\S]+', '', text) #Remove email\n",
    "    return text\n",
    "\n",
    "def strip_junk(text, junk):\n",
    "    reg = re.compile('|'.join(map(re.escape, junk)), re.IGNORECASE)\n",
    "    return reg.sub(\"\", text)\n",
    "\n",
    "for idx in tqdm(data.index):\n",
    "    #Loop through the articles\n",
    "    article = data.iloc[idx]\n",
    "    new_header = article.Header\n",
    "    new_body = article.Body\n",
    "    \n",
    "    domain = article.Domain.split('.')[0]\n",
    "    reg_author = re.compile(re.escape(article.Byline), re.IGNORECASE)\n",
    "    reg_domain = re.compile(fr'\\b([A-Za-z]*\\.[a-z]+)\\b|\\b{domain}\\b', re.IGNORECASE)\n",
    "    reg_header = re.compile(re.escape(new_header), re.IGNORECASE)\n",
    "    \n",
    "    reg_eb = re.compile(re.escape('ekstra bladet'), re.IGNORECASE)\n",
    "    reg_bb = re.compile(re.escape('billed-bladet'), re.IGNORECASE)\n",
    "    reg_ing = re.compile(re.escape('ingeniøren'), re.IGNORECASE)\n",
    "    \n",
    "    new_body = remove_date(new_body)\n",
    "\n",
    "    #Change body\n",
    "    #Remove the author and domain name from the body\n",
    "    new_body = reg_author.sub(placeholder_author, article.Body)\n",
    "    new_body = reg_domain.sub(placeholder_domain, new_body)\n",
    "    new_body = reg_header.sub('', new_body)\n",
    "    new_body = new_body.replace('\\t', '')\n",
    "    new_body = new_body.replace('\\n', '')\n",
    "    new_body = new_body.replace('\\r', '')\n",
    "    new_body = re.sub(\" +\", \" \", new_body) #Remove excessive whitespace\n",
    "\n",
    "    if domain == 'ekstrabladet':\n",
    "        new_body = reg_eb.sub(placeholder_domain, new_body)\n",
    "    elif domain == 'billedbladet':\n",
    "        new_body = reg_bb.sub(placeholder_domain, new_body)\n",
    "    elif domain == 'ing':\n",
    "        new_body = reg_ing.sub(placeholder_domain, new_body)\n",
    "    \n",
    "    if domain_junk[article.Domain]:\n",
    "        #Remove domain-specific junk text\n",
    "        new_body = strip_junk(new_body, domain_junk[article.Domain])\n",
    "        junk_removed += 1\n",
    "    \n",
    "    if article.Body != new_body:\n",
    "        num_new_bodies += 1\n",
    "\n",
    "    data.at[idx, 'Body'] = strip_tags(new_body)\n",
    "    \n",
    "    #Change header\n",
    "    #Remove author and domain from header.\n",
    "    new_header = reg_author.sub('', article.Header)\n",
    "    new_header = reg_domain.sub('', new_header)\n",
    "    new_header = new_header.replace('|', '')\n",
    "    new_header = new_header.replace(' - ', '')\n",
    "    new_header = new_header.replace('\\\\', '')\n",
    "    new_header = new_header.replace(' – ', '')\n",
    "\n",
    "    if domain == 'ekstrabladet':\n",
    "        new_header = reg_eb.sub('', new_header)\n",
    "    elif domain == 'billedbladet':\n",
    "        new_header = reg_bb.sub('', new_header)\n",
    "    elif domain == 'ing':\n",
    "        new_header = reg_ing.sub('', new_header)\n",
    "    \n",
    "    if new_header != article.Header:\n",
    "        num_new_headers += 1\n",
    "        \n",
    "    data.at[idx, 'Header'] = new_header.strip()\n",
    "\n",
    "print(f\"Altered {num_new_headers} headers.\")\n",
    "print(f\"And {num_new_bodies} bodies.\")\n",
    "print(f\"And {junk_removed} pieces of junk removed.\")"
   ]
  },
  {
   "cell_type": "code",
   "execution_count": 209,
   "metadata": {
    "execution": {
     "iopub.execute_input": "2022-05-03T12:33:24.485060Z",
     "iopub.status.busy": "2022-05-03T12:33:24.484576Z",
     "iopub.status.idle": "2022-05-03T12:33:24.490191Z",
     "shell.execute_reply": "2022-05-03T12:33:24.489217Z",
     "shell.execute_reply.started": "2022-05-03T12:33:24.485017Z"
    },
    "tags": []
   },
   "outputs": [],
   "source": []
  },
  {
   "cell_type": "code",
   "execution_count": 9,
   "metadata": {
    "execution": {
     "iopub.execute_input": "2022-04-25T13:17:16.541096Z",
     "iopub.status.busy": "2022-04-25T13:17:16.540584Z",
     "iopub.status.idle": "2022-04-25T13:17:17.033059Z",
     "shell.execute_reply": "2022-04-25T13:17:17.032489Z",
     "shell.execute_reply.started": "2022-04-25T13:17:16.541038Z"
    }
   },
   "outputs": [
    {
     "data": {
      "text/plain": [
       "(6746, 6746)"
      ]
     },
     "execution_count": 9,
     "metadata": {},
     "output_type": "execute_result"
    }
   ],
   "source": [
    "#domain_junk['politiken.dk']\n",
    "article = data.iloc[2]\n",
    "ny_artikel = strip_junk(article.Body, domain_junk['politiken.dk'])\n",
    "len(article.Body), len(ny_artikel)"
   ]
  },
  {
   "cell_type": "markdown",
   "metadata": {},
   "source": [
    "## Save the formatted data as a new JSON\n",
    "Very important, we do not want to wait for the scraper a second time..."
   ]
  },
  {
   "cell_type": "code",
   "execution_count": 210,
   "metadata": {
    "execution": {
     "iopub.execute_input": "2022-05-03T12:33:50.520839Z",
     "iopub.status.busy": "2022-05-03T12:33:50.520192Z",
     "iopub.status.idle": "2022-05-03T12:33:52.305898Z",
     "shell.execute_reply": "2022-05-03T12:33:52.305240Z",
     "shell.execute_reply.started": "2022-05-03T12:33:50.520783Z"
    },
    "tags": []
   },
   "outputs": [],
   "source": [
    "#del data['level_0']\n",
    "n = 10000\n",
    "for g, df in data.groupby(np.arange(len(data)) // n):\n",
    "    df.to_json(r'Data/subset/data_%s.json'%g, orient='records')"
   ]
  },
  {
   "cell_type": "code",
   "execution_count": 143,
   "metadata": {
    "execution": {
     "iopub.execute_input": "2022-05-03T10:02:28.909921Z",
     "iopub.status.busy": "2022-05-03T10:02:28.909439Z",
     "iopub.status.idle": "2022-05-03T10:02:28.916919Z",
     "shell.execute_reply": "2022-05-03T10:02:28.915928Z",
     "shell.execute_reply.started": "2022-05-03T10:02:28.909869Z"
    },
    "tags": []
   },
   "outputs": [],
   "source": [
    "import pickle\n",
    "with open(\"domain_junk.dat\", 'wb') as f:\n",
    "    pickle.dump(domain_junk, f)"
   ]
  },
  {
   "cell_type": "code",
   "execution_count": null,
   "metadata": {},
   "outputs": [],
   "source": [
    "data[data.Header.str.contain"
   ]
  },
  {
   "cell_type": "markdown",
   "metadata": {},
   "source": [
    "# Insights in data"
   ]
  },
  {
   "cell_type": "code",
   "execution_count": 106,
   "metadata": {},
   "outputs": [],
   "source": [
    "def dist_stats(dist):\n",
    "    print(\"Mean:\", np.mean(dist))\n",
    "    print(\"STD:\", np.std(dist))\n",
    "    print(\"Median:\", np.median(dist))"
   ]
  },
  {
   "cell_type": "markdown",
   "metadata": {},
   "source": [
    "### Body lengths\n",
    "Let's see the distribution of the body lengths."
   ]
  },
  {
   "cell_type": "code",
   "execution_count": 107,
   "metadata": {},
   "outputs": [
    {
     "name": "stdout",
     "output_type": "stream",
     "text": [
      "Mean: 3725.7475217902947\n",
      "STD: 4396.735315546253\n",
      "Median: 2355.0\n"
     ]
    },
    {
     "data": {
      "image/png": "[encoded data removed]",
      "text/plain": [
       "<Figure size 1008x576 with 1 Axes>"
      ]
     },
     "metadata": {},
     "output_type": "display_data"
    }
   ],
   "source": [
    "body_lengths = data['Body'].str.len()\n",
    "\n",
    "desc = \"A dent in article counts at 250 characters\\nNot true\"\n",
    "\n",
    "y, bin_edges = np.histogram(body_lengths, bins=150, range=(0,15000))\n",
    "x = 0.5*(bin_edges[1:] + bin_edges[:-1])\n",
    "\n",
    "fig, ax = plt.subplots(1, figsize=(14,8))\n",
    "plt.bar(x,y,width=np.diff(bin_edges), label=\"Preprocessed Data\")\n",
    "plt.step(x2+30, y2*0.41, 'k', alpha=0.8, label=\"Before Preprocessing\")\n",
    "plt.title(\"Histogram of Article Lengths\", fontsize=18)\n",
    "plt.xlabel(\"Character count\", fontsize=16)\n",
    "plt.ylabel(\"Article count\", fontsize=16)\n",
    "plt.legend(fontsize=14);\n",
    "#plt.text(0.7, 0.7, desc, horizontalalignment='center',verticalalignment='center', transform=ax.transAxes, fontsize=16)\n",
    "#plt.plot([250,10000], [30,240], '--', c='red', alpha=.6)\n",
    "#Ændr, så det passer med den endelige data.\n",
    "\n",
    "dist_stats(body_lengths)"
   ]
  },
  {
   "cell_type": "markdown",
   "metadata": {},
   "source": [
    "### Author contributions\n",
    "How many articles have the authors written?"
   ]
  },
  {
   "cell_type": "code",
   "execution_count": 170,
   "metadata": {},
   "outputs": [
    {
     "name": "stdout",
     "output_type": "stream",
     "text": [
      "Mean: 159.58726790450928\n",
      "STD: 430.7214839788824\n",
      "Median: 27.0\n"
     ]
    },
    {
     "data": {
      "image/png": "[encoded data removed]",
      "text/plain": [
       "<Figure size 1008x576 with 1 Axes>"
      ]
     },
     "metadata": {},
     "output_type": "display_data"
    }
   ],
   "source": [
    "counts = list(data['Byline'].value_counts())\n",
    "\n",
    "# plt.yscale('symlog')\n",
    "# plt.xlim(-100,4000)\n",
    "\n",
    "y, bin_edges = np.histogram(counts, bins=200)\n",
    "x = 0.5*(bin_edges[1:] + bin_edges[:-1])\n",
    "\n",
    "fig, ax = plt.subplots(1, figsize=(14,8))\n",
    "plt.bar(x,y,width=np.diff(bin_edges))\n",
    "\n",
    "plt.yscale('log')\n",
    "plt.title(\"Histogram Over Number of Articles per Author\", fontsize=18)\n",
    "plt.xlabel(\"Number of articles\", fontsize=16)\n",
    "plt.ylabel(\"Number of authors\", fontsize=16)\n",
    "\n",
    "desc = \"Outlier: Anne Sophia Hermansen\\n11,480 articles written.\"\n",
    "plt.text(0.7, 0.7, desc, horizontalalignment='center',verticalalignment='center', transform=ax.transAxes, fontsize=16)\n",
    "plt.plot([5500,7400], [70,1], '--', c='red', alpha=.6)\n",
    "\n",
    "dist_stats(counts)"
   ]
  },
  {
   "cell_type": "markdown",
   "metadata": {},
   "source": [
    "### Author body length\n",
    "Do authors have certain body lengths? In articles, not their actual bodies. Let us make a plot to see if there is a correlation between article count and body length. But first, we need to find the average body length per author. "
   ]
  },
  {
   "cell_type": "code",
   "execution_count": 94,
   "metadata": {},
   "outputs": [],
   "source": [
    "df = pd.DataFrame(columns=['body_length', 'author'])\n",
    "df['body_length'] = body_lengths\n",
    "df['author'] = data['Byline']\n",
    "df['author'].replace('', np.nan, inplace=True)\n",
    "df = df.dropna()\n",
    "avg_body_lengths = list(df.groupby(['author']).mean()['body_length'])"
   ]
  },
  {
   "cell_type": "code",
   "execution_count": 95,
   "metadata": {},
   "outputs": [
    {
     "data": {
      "text/plain": [
       "Text(0, 0.5, 'Number of authors')"
      ]
     },
     "execution_count": 95,
     "metadata": {},
     "output_type": "execute_result"
    },
    {
     "data": {
      "image/png": "[encoded data removed]",
      "text/plain": [
       "<Figure size 576x396 with 1 Axes>"
      ]
     },
     "metadata": {},
     "output_type": "display_data"
    }
   ],
   "source": [
    "plt.hist(avg_body_lengths, bins=200);\n",
    "plt.title(\"Histogram Over Average Article Length per Author\", fontsize=16)\n",
    "plt.xlabel(\"Average length\", fontsize=14)\n",
    "plt.ylabel(\"Number of authors\", fontsize=14)"
   ]
  },
  {
   "cell_type": "code",
   "execution_count": 96,
   "metadata": {},
   "outputs": [
    {
     "data": {
      "text/html": [
       "<div>\n",
       "<style scoped>\n",
       "    .dataframe tbody tr th:only-of-type {\n",
       "        vertical-align: middle;\n",
       "    }\n",
       "\n",
       "    .dataframe tbody tr th {\n",
       "        vertical-align: top;\n",
       "    }\n",
       "\n",
       "    .dataframe thead th {\n",
       "        text-align: right;\n",
       "    }\n",
       "</style>\n",
       "<table border=\"1\" class=\"dataframe\">\n",
       "  <thead>\n",
       "    <tr style=\"text-align: right;\">\n",
       "      <th></th>\n",
       "      <th>avg_len</th>\n",
       "      <th>article_count</th>\n",
       "    </tr>\n",
       "  </thead>\n",
       "  <tbody>\n",
       "    <tr>\n",
       "      <th>Annemette Grundtvig</th>\n",
       "      <td>1667.029091</td>\n",
       "      <td>550</td>\n",
       "    </tr>\n",
       "    <tr>\n",
       "      <th>Emma Busk</th>\n",
       "      <td>2360.276165</td>\n",
       "      <td>1137</td>\n",
       "    </tr>\n",
       "    <tr>\n",
       "      <th>Lasse Foghsgaard</th>\n",
       "      <td>1792.679412</td>\n",
       "      <td>340</td>\n",
       "    </tr>\n",
       "    <tr>\n",
       "      <th>Stine Kærgaard Nissen</th>\n",
       "      <td>787.315789</td>\n",
       "      <td>19</td>\n",
       "    </tr>\n",
       "    <tr>\n",
       "      <th>Kasper Villum Jensen</th>\n",
       "      <td>2216.770873</td>\n",
       "      <td>1593</td>\n",
       "    </tr>\n",
       "  </tbody>\n",
       "</table>\n",
       "</div>"
      ],
      "text/plain": [
       "                           avg_len article_count\n",
       "Annemette Grundtvig    1667.029091           550\n",
       "Emma Busk              2360.276165          1137\n",
       "Lasse Foghsgaard       1792.679412           340\n",
       "Stine Kærgaard Nissen   787.315789            19\n",
       "Kasper Villum Jensen   2216.770873          1593"
      ]
     },
     "execution_count": 96,
     "metadata": {},
     "output_type": "execute_result"
    }
   ],
   "source": [
    "df2 = pd.DataFrame(index=data['Byline'].unique(),columns=['avg_len', 'article_count'])\n",
    "avg_body_length_series = df.groupby(['author']).mean()['body_length']\n",
    "article_count_series = data['Byline'].value_counts()\n",
    "\n",
    "for i in data['Byline'].unique():\n",
    "    if i == '':\n",
    "        continue\n",
    "    \n",
    "    avg_len = avg_body_length_series[i]\n",
    "    article_count = article_count_series[i]\n",
    "    df2.loc[i] = [avg_len, article_count]\n",
    "\n",
    "df2.head(5)"
   ]
  },
  {
   "cell_type": "markdown",
   "metadata": {},
   "source": [
    "**Correlation between average length and article count**\n",
    "\n",
    "Make a dataframe with author, average article length, article count"
   ]
  },
  {
   "cell_type": "code",
   "execution_count": 108,
   "metadata": {},
   "outputs": [
    {
     "name": "stdout",
     "output_type": "stream",
     "text": [
      "Pearsin correlation: -0.012972263970456492\n"
     ]
    },
    {
     "data": {
      "image/png": "[encoded data removed]",
      "text/plain": [
       "<Figure size 576x396 with 1 Axes>"
      ]
     },
     "metadata": {},
     "output_type": "display_data"
    }
   ],
   "source": [
    "x = df2.avg_len\n",
    "y = df2.article_count\n",
    "plt.scatter(x[y<2000], y[y<2000], marker='.')\n",
    "plt.ylabel(\"Article count\")\n",
    "plt.xlabel(\"Article length\")\n",
    "\n",
    "x = x.to_numpy(dtype=float)\n",
    "y = y.to_numpy(dtype=float)\n",
    "x = np.nan_to_num(x)\n",
    "y = np.nan_to_num(y)\n",
    "\n",
    "corr, sig = pearsonr(x,y)\n",
    "print(\"Pearsin correlation:\", corr)\n",
    "\n",
    "plt.title(\"No Linear Correlation Between Article Length and Article Count\", fontsize=15);"
   ]
  },
  {
   "cell_type": "markdown",
   "metadata": {},
   "source": [
    "## Publication"
   ]
  },
  {
   "cell_type": "code",
   "execution_count": 138,
   "metadata": {},
   "outputs": [
    {
     "name": "stdout",
     "output_type": "stream",
     "text": [
      "0 articles from before 1995\n",
      "5010 articles from the future\n"
     ]
    }
   ],
   "source": [
    "dates = list(data.PublicationDate.str[8:10])\n",
    "int_dates = []\n",
    "old_af = []\n",
    "future = []\n",
    "for i in dates:\n",
    "    try:\n",
    "        inti = int(i)\n",
    "    except:\n",
    "        continue\n",
    "    \n",
    "#     if inti < 1995:\n",
    "#         old_af.append(inti)\n",
    "#         continue\n",
    "    if inti > 22:\n",
    "        future.append(inti)\n",
    "        continue\n",
    "    int_dates.append(inti)\n",
    "\n",
    "print(len(old_af), \"articles from before 1995\")\n",
    "print(len(future), \"articles from the future\")"
   ]
  },
  {
   "cell_type": "code",
   "execution_count": 168,
   "metadata": {},
   "outputs": [
    {
     "name": "stderr",
     "output_type": "stream",
     "text": [
      "c:\\python37\\lib\\site-packages\\seaborn\\distributions.py:2557: FutureWarning: `distplot` is a deprecated function and will be removed in a future version. Please adapt your code to use either `displot` (a figure-level function with similar flexibility) or `kdeplot` (an axes-level function for kernel density plots).\n",
      "  warnings.warn(msg, FutureWarning)\n",
      "c:\\python37\\lib\\site-packages\\ipykernel_launcher.py:8: UserWarning: FixedFormatter should only be used together with FixedLocator\n",
      "  \n"
     ]
    },
    {
     "data": {
      "image/png": "[encoded data removed]",
      "text/plain": [
       "<Figure size 1008x576 with 1 Axes>"
      ]
     },
     "metadata": {},
     "output_type": "display_data"
    }
   ],
   "source": [
    "import seaborn as sns\n",
    "\n",
    "fig, ax = plt.subplots(1, figsize=(14,8))\n",
    "sns.distplot(int_dates, hist=False)\n",
    "plt.title(\"Distribtion of Publication Dates\", fontsize=18)\n",
    "plt.xlabel(\"Publication Year\", fontsize=16)\n",
    "plt.ylabel(\"Density\", fontsize=16)\n",
    "ax.set_xticklabels(plt.xticks[0].astype(int));"
   ]
  },
  {
   "cell_type": "markdown",
   "metadata": {},
   "source": [
    "### Headline length"
   ]
  },
  {
   "cell_type": "code",
   "execution_count": 238,
   "metadata": {},
   "outputs": [
    {
     "name": "stdout",
     "output_type": "stream",
     "text": [
      "Mean: 57.068864644208205\n",
      "STD: 22.750211363106228\n",
      "Median: 54.0\n"
     ]
    },
    {
     "data": {
      "text/plain": [
       "AndersonResult(statistic=2802.0388447247096, critical_values=array([0.576, 0.656, 0.787, 0.918, 1.092]), significance_level=array([15. , 10. ,  5. ,  2.5,  1. ]))"
      ]
     },
     "execution_count": 238,
     "metadata": {},
     "output_type": "execute_result"
    },
    {
     "data": {
      "image/png": "[encoded data removed]",
      "text/plain": [
       "<Figure size 1008x576 with 1 Axes>"
      ]
     },
     "metadata": {},
     "output_type": "display_data"
    }
   ],
   "source": [
    "from scipy.stats import anderson\n",
    "\n",
    "def normal_dist(x , mean , sd):\n",
    "    prob_density = (np.pi*sd) * np.exp(-0.5*((x-mean)/sd)**2)\n",
    "    return prob_density\n",
    "\n",
    "header_lengths = sorted(data['Header'].str.len())\n",
    "\n",
    "y, bin_edges = np.histogram(header_lengths, bins=50, range=(0,250))\n",
    "x = 0.5*(bin_edges[1:] + bin_edges[:-1])\n",
    "\n",
    "fig, ax = plt.subplots(1, figsize=(14,8))\n",
    "plt.bar(x,y,width=np.diff(bin_edges), label=\"Headline lengths\")\n",
    "plt.title(\"Histogram of Headline Lengths\", fontsize=18)\n",
    "plt.xlabel(\"Character count\", fontsize=16)\n",
    "plt.ylabel(\"Headline count\", fontsize=16)\n",
    "\n",
    "norm = normal_dist(np.linspace(0,300,1000), np.mean(header_lengths), np.std(header_lengths))\n",
    "plt.plot(np.linspace(0,300,1000), norm*400, '--', c='red', label=\"Normal distribution\")\n",
    "plt.legend(fontsize=14)\n",
    "\n",
    "dist_stats(body_lengths)\n",
    "anderson(header_lengths)"
   ]
  },
  {
   "cell_type": "code",
   "execution_count": 242,
   "metadata": {},
   "outputs": [
    {
     "name": "stdout",
     "output_type": "stream",
     "text": [
      "Mean: 1880.1375\n",
      "STD: 7478.047291478822\n",
      "Median: 159.0\n"
     ]
    }
   ],
   "source": [
    "dist_stats(list(data.Domain.value_counts()))"
   ]
  },
  {
   "cell_type": "markdown",
   "metadata": {},
   "source": [
    "# Testing"
   ]
  },
  {
   "cell_type": "code",
   "execution_count": 73,
   "metadata": {
    "execution": {
     "iopub.execute_input": "2022-04-26T09:39:28.861062Z",
     "iopub.status.busy": "2022-04-26T09:39:28.860460Z",
     "iopub.status.idle": "2022-04-26T09:39:37.355199Z",
     "shell.execute_reply": "2022-04-26T09:39:37.354557Z",
     "shell.execute_reply.started": "2022-04-26T09:39:28.861008Z"
    },
    "tags": []
   },
   "outputs": [],
   "source": [
    "data = pd.read_json('Data/additional/scraped_data_raw.json')"
   ]
  },
  {
   "cell_type": "code",
   "execution_count": 5,
   "metadata": {},
   "outputs": [],
   "source": [
    "def split_sentences(text):\n",
    "    '''Returns an array with text split into sentences'''\n",
    "    return np.array(re.split(r'(?<!\\w\\.\\w.)(?<![A-Z][a-z]\\.)(?<=\\.|\\?)\\s', text), dtype=str)"
   ]
  },
  {
   "cell_type": "code",
   "execution_count": 6,
   "metadata": {},
   "outputs": [
    {
     "data": {
      "application/vnd.jupyter.widget-view+json": {
       "model_id": "f0084f14a5004a558d29deafd19c32b4",
       "version_major": 2,
       "version_minor": 0
      },
      "text/plain": [
       "  0%|          | 0/20000 [00:00<?, ?it/s]"
      ]
     },
     "metadata": {},
     "output_type": "display_data"
    },
    {
     "ename": "KeyboardInterrupt",
     "evalue": "",
     "output_type": "error",
     "traceback": [
      "\u001b[1;31m---------------------------------------------------------------------------\u001b[0m",
      "\u001b[1;31mKeyboardInterrupt\u001b[0m                         Traceback (most recent call last)",
      "\u001b[1;32m~\\AppData\\Local\\Temp\\ipykernel_9836\\3990603043.py\u001b[0m in \u001b[0;36m<module>\u001b[1;34m\u001b[0m\n\u001b[0;32m      7\u001b[0m         \u001b[1;32mif\u001b[0m \u001b[0mlen\u001b[0m\u001b[1;33m(\u001b[0m\u001b[1;34m''\u001b[0m\u001b[1;33m.\u001b[0m\u001b[0mjoin\u001b[0m\u001b[1;33m(\u001b[0m\u001b[0mphrase\u001b[0m\u001b[1;33m)\u001b[0m\u001b[1;33m)\u001b[0m \u001b[1;33m>\u001b[0m \u001b[1;36m10\u001b[0m\u001b[1;33m:\u001b[0m\u001b[1;33m\u001b[0m\u001b[1;33m\u001b[0m\u001b[0m\n\u001b[0;32m      8\u001b[0m             \u001b[0mphrase\u001b[0m \u001b[1;33m=\u001b[0m \u001b[0mphrase\u001b[0m\u001b[1;33m.\u001b[0m\u001b[0mstrip\u001b[0m\u001b[1;33m(\u001b[0m\u001b[1;34m'\\n'\u001b[0m\u001b[1;33m)\u001b[0m\u001b[1;33m\u001b[0m\u001b[1;33m\u001b[0m\u001b[0m\n\u001b[1;32m----> 9\u001b[1;33m             \u001b[0mfinal_text\u001b[0m \u001b[1;33m+=\u001b[0m \u001b[1;34m''\u001b[0m\u001b[1;33m.\u001b[0m\u001b[0mjoin\u001b[0m\u001b[1;33m(\u001b[0m\u001b[0mphrase\u001b[0m\u001b[1;33m)\u001b[0m\u001b[1;33m\u001b[0m\u001b[1;33m\u001b[0m\u001b[0m\n\u001b[0m\u001b[0;32m     10\u001b[0m             \u001b[0mfinal_text\u001b[0m \u001b[1;33m+=\u001b[0m \u001b[1;34m'\\n'\u001b[0m\u001b[1;33m\u001b[0m\u001b[1;33m\u001b[0m\u001b[0m\n\u001b[0;32m     11\u001b[0m \u001b[0mfinal_text\u001b[0m \u001b[1;33m=\u001b[0m \u001b[0mfinal_text\u001b[0m\u001b[1;33m[\u001b[0m\u001b[1;33m:\u001b[0m\u001b[1;33m-\u001b[0m\u001b[1;36m1\u001b[0m\u001b[1;33m]\u001b[0m\u001b[1;33m\u001b[0m\u001b[1;33m\u001b[0m\u001b[0m\n",
      "\u001b[1;31mKeyboardInterrupt\u001b[0m: "
     ]
    }
   ],
   "source": [
    "#Write body sentences to file.\n",
    "texts = list(data.head(20000).Body.astype(str))\n",
    "final_text = ''\n",
    "for text in tqdm(texts):\n",
    "    phrase = phrase.strip('\\n')\n",
    "    final_text += ''.join(phrase)\n",
    "    final_text += '\\n'\n",
    "    \n",
    "final_text = final_text[:-1]"
   ]
  },
  {
   "cell_type": "code",
   "execution_count": 6,
   "metadata": {},
   "outputs": [],
   "source": [
    "with open('text.txt', 'w', encoding='utf-8') as f:\n",
    "    f.write(final_text)"
   ]
  },
  {
   "cell_type": "code",
   "execution_count": 106,
   "metadata": {},
   "outputs": [],
   "source": [
    "lens = [len(x) for x in final_text.split('\\n')]"
   ]
  },
  {
   "cell_type": "code",
   "execution_count": 107,
   "metadata": {},
   "outputs": [],
   "source": [
    "z = [x for x in range(len(lens)) if lens[x] == 0]"
   ]
  },
  {
   "cell_type": "code",
   "execution_count": 29,
   "metadata": {
    "scrolled": true
   },
   "outputs": [
    {
     "data": {
      "application/vnd.jupyter.widget-view+json": {
       "model_id": "54259b0b3e8c471c8f818708fc93c934",
       "version_major": 2,
       "version_minor": 0
      },
      "text/plain": [
       "  0%|          | 0/31 [00:00<?, ?it/s]"
      ]
     },
     "metadata": {},
     "output_type": "display_data"
    },
    {
     "data": {
      "application/vnd.jupyter.widget-view+json": {
       "model_id": "5e21638fc9134830a4d6afe68677e54c",
       "version_major": 2,
       "version_minor": 0
      },
      "text/plain": [
       "  0%|          | 0/10000 [00:00<?, ?it/s]"
      ]
     },
     "metadata": {},
     "output_type": "display_data"
    },
    {
     "data": {
      "application/vnd.jupyter.widget-view+json": {
       "model_id": "0d0eeb5770144a00985f6ef349bd0747",
       "version_major": 2,
       "version_minor": 0
      },
      "text/plain": [
       "  0%|          | 0/10000 [00:00<?, ?it/s]"
      ]
     },
     "metadata": {},
     "output_type": "display_data"
    },
    {
     "data": {
      "application/vnd.jupyter.widget-view+json": {
       "model_id": "9c2eb4fa11574ff3b9da7b3571113845",
       "version_major": 2,
       "version_minor": 0
      },
      "text/plain": [
       "  0%|          | 0/10000 [00:00<?, ?it/s]"
      ]
     },
     "metadata": {},
     "output_type": "display_data"
    },
    {
     "data": {
      "application/vnd.jupyter.widget-view+json": {
       "model_id": "1498571ac1be412d9421847e3774f7ed",
       "version_major": 2,
       "version_minor": 0
      },
      "text/plain": [
       "  0%|          | 0/10000 [00:00<?, ?it/s]"
      ]
     },
     "metadata": {},
     "output_type": "display_data"
    },
    {
     "data": {
      "application/vnd.jupyter.widget-view+json": {
       "model_id": "6360c46962f640a98ca1c5b3dc281dca",
       "version_major": 2,
       "version_minor": 0
      },
      "text/plain": [
       "  0%|          | 0/10000 [00:00<?, ?it/s]"
      ]
     },
     "metadata": {},
     "output_type": "display_data"
    },
    {
     "data": {
      "application/vnd.jupyter.widget-view+json": {
       "model_id": "4e6f1a5d6055442e81ebbe1ab710e3eb",
       "version_major": 2,
       "version_minor": 0
      },
      "text/plain": [
       "  0%|          | 0/10000 [00:00<?, ?it/s]"
      ]
     },
     "metadata": {},
     "output_type": "display_data"
    },
    {
     "data": {
      "application/vnd.jupyter.widget-view+json": {
       "model_id": "91c27cfaa3a94f58842715d51f5e9f69",
       "version_major": 2,
       "version_minor": 0
      },
      "text/plain": [
       "  0%|          | 0/10000 [00:00<?, ?it/s]"
      ]
     },
     "metadata": {},
     "output_type": "display_data"
    },
    {
     "data": {
      "application/vnd.jupyter.widget-view+json": {
       "model_id": "5cb27ea1781d46c999d314126d40f70b",
       "version_major": 2,
       "version_minor": 0
      },
      "text/plain": [
       "  0%|          | 0/10000 [00:00<?, ?it/s]"
      ]
     },
     "metadata": {},
     "output_type": "display_data"
    },
    {
     "data": {
      "application/vnd.jupyter.widget-view+json": {
       "model_id": "6384d87ec8ae4279a665681abe9d1acf",
       "version_major": 2,
       "version_minor": 0
      },
      "text/plain": [
       "  0%|          | 0/10000 [00:00<?, ?it/s]"
      ]
     },
     "metadata": {},
     "output_type": "display_data"
    },
    {
     "data": {
      "application/vnd.jupyter.widget-view+json": {
       "model_id": "0c17ec10c012484e8c16352657970f4a",
       "version_major": 2,
       "version_minor": 0
      },
      "text/plain": [
       "  0%|          | 0/10000 [00:00<?, ?it/s]"
      ]
     },
     "metadata": {},
     "output_type": "display_data"
    },
    {
     "data": {
      "application/vnd.jupyter.widget-view+json": {
       "model_id": "4fd244991a244f07b51ebe118ff8acf5",
       "version_major": 2,
       "version_minor": 0
      },
      "text/plain": [
       "  0%|          | 0/10000 [00:00<?, ?it/s]"
      ]
     },
     "metadata": {},
     "output_type": "display_data"
    },
    {
     "data": {
      "application/vnd.jupyter.widget-view+json": {
       "model_id": "e83971019a384bc8b21af73f80d35063",
       "version_major": 2,
       "version_minor": 0
      },
      "text/plain": [
       "  0%|          | 0/10000 [00:00<?, ?it/s]"
      ]
     },
     "metadata": {},
     "output_type": "display_data"
    },
    {
     "data": {
      "application/vnd.jupyter.widget-view+json": {
       "model_id": "7bbce8d5e92444c392e5b74c735295af",
       "version_major": 2,
       "version_minor": 0
      },
      "text/plain": [
       "  0%|          | 0/10000 [00:00<?, ?it/s]"
      ]
     },
     "metadata": {},
     "output_type": "display_data"
    },
    {
     "data": {
      "application/vnd.jupyter.widget-view+json": {
       "model_id": "0b9f8f1d60f042b68944e793257966c8",
       "version_major": 2,
       "version_minor": 0
      },
      "text/plain": [
       "  0%|          | 0/10000 [00:00<?, ?it/s]"
      ]
     },
     "metadata": {},
     "output_type": "display_data"
    },
    {
     "data": {
      "application/vnd.jupyter.widget-view+json": {
       "model_id": "c8521815a72346609c7174ad808ee817",
       "version_major": 2,
       "version_minor": 0
      },
      "text/plain": [
       "  0%|          | 0/10000 [00:00<?, ?it/s]"
      ]
     },
     "metadata": {},
     "output_type": "display_data"
    },
    {
     "data": {
      "application/vnd.jupyter.widget-view+json": {
       "model_id": "85bdf4e86b744521bba06430202b01f9",
       "version_major": 2,
       "version_minor": 0
      },
      "text/plain": [
       "  0%|          | 0/10000 [00:00<?, ?it/s]"
      ]
     },
     "metadata": {},
     "output_type": "display_data"
    },
    {
     "data": {
      "application/vnd.jupyter.widget-view+json": {
       "model_id": "850c509d23b5419ea56aa18cd930eb19",
       "version_major": 2,
       "version_minor": 0
      },
      "text/plain": [
       "  0%|          | 0/10000 [00:00<?, ?it/s]"
      ]
     },
     "metadata": {},
     "output_type": "display_data"
    },
    {
     "data": {
      "application/vnd.jupyter.widget-view+json": {
       "model_id": "8e4e384f7bbb4b5ba4d3cb31409b4aa7",
       "version_major": 2,
       "version_minor": 0
      },
      "text/plain": [
       "  0%|          | 0/10000 [00:00<?, ?it/s]"
      ]
     },
     "metadata": {},
     "output_type": "display_data"
    },
    {
     "data": {
      "application/vnd.jupyter.widget-view+json": {
       "model_id": "73bd77d464c84a6293f500ad9e950385",
       "version_major": 2,
       "version_minor": 0
      },
      "text/plain": [
       "  0%|          | 0/10000 [00:00<?, ?it/s]"
      ]
     },
     "metadata": {},
     "output_type": "display_data"
    },
    {
     "data": {
      "application/vnd.jupyter.widget-view+json": {
       "model_id": "aa080f1ce840465fb0cd13e7c94b72e9",
       "version_major": 2,
       "version_minor": 0
      },
      "text/plain": [
       "  0%|          | 0/10000 [00:00<?, ?it/s]"
      ]
     },
     "metadata": {},
     "output_type": "display_data"
    },
    {
     "data": {
      "application/vnd.jupyter.widget-view+json": {
       "model_id": "87bde4814ac547a688507522a4b06bf5",
       "version_major": 2,
       "version_minor": 0
      },
      "text/plain": [
       "  0%|          | 0/10000 [00:00<?, ?it/s]"
      ]
     },
     "metadata": {},
     "output_type": "display_data"
    },
    {
     "data": {
      "application/vnd.jupyter.widget-view+json": {
       "model_id": "5ff4c55e60f842abbabeff04a6e60342",
       "version_major": 2,
       "version_minor": 0
      },
      "text/plain": [
       "  0%|          | 0/10000 [00:00<?, ?it/s]"
      ]
     },
     "metadata": {},
     "output_type": "display_data"
    },
    {
     "data": {
      "application/vnd.jupyter.widget-view+json": {
       "model_id": "0b43dd6636d2411384667e1a1c1d4910",
       "version_major": 2,
       "version_minor": 0
      },
      "text/plain": [
       "  0%|          | 0/10000 [00:00<?, ?it/s]"
      ]
     },
     "metadata": {},
     "output_type": "display_data"
    },
    {
     "data": {
      "application/vnd.jupyter.widget-view+json": {
       "model_id": "5c5f33c48c064f38849f9edbf6ee49c3",
       "version_major": 2,
       "version_minor": 0
      },
      "text/plain": [
       "  0%|          | 0/10000 [00:00<?, ?it/s]"
      ]
     },
     "metadata": {},
     "output_type": "display_data"
    },
    {
     "data": {
      "application/vnd.jupyter.widget-view+json": {
       "model_id": "e024d0ef25ba40af8478125f1714b667",
       "version_major": 2,
       "version_minor": 0
      },
      "text/plain": [
       "  0%|          | 0/822 [00:00<?, ?it/s]"
      ]
     },
     "metadata": {},
     "output_type": "display_data"
    },
    {
     "data": {
      "application/vnd.jupyter.widget-view+json": {
       "model_id": "dd02d00d37b0400ea396be35bd722f70",
       "version_major": 2,
       "version_minor": 0
      },
      "text/plain": [
       "  0%|          | 0/10000 [00:00<?, ?it/s]"
      ]
     },
     "metadata": {},
     "output_type": "display_data"
    },
    {
     "data": {
      "application/vnd.jupyter.widget-view+json": {
       "model_id": "81d5caea6f1649a9afa21dd104d262f4",
       "version_major": 2,
       "version_minor": 0
      },
      "text/plain": [
       "  0%|          | 0/10000 [00:00<?, ?it/s]"
      ]
     },
     "metadata": {},
     "output_type": "display_data"
    },
    {
     "data": {
      "application/vnd.jupyter.widget-view+json": {
       "model_id": "61eec196f03c4d5babe2f1d23ebbb923",
       "version_major": 2,
       "version_minor": 0
      },
      "text/plain": [
       "  0%|          | 0/10000 [00:00<?, ?it/s]"
      ]
     },
     "metadata": {},
     "output_type": "display_data"
    },
    {
     "data": {
      "application/vnd.jupyter.widget-view+json": {
       "model_id": "c044f14e4c2e4abbb3ad203817f57684",
       "version_major": 2,
       "version_minor": 0
      },
      "text/plain": [
       "  0%|          | 0/10000 [00:00<?, ?it/s]"
      ]
     },
     "metadata": {},
     "output_type": "display_data"
    },
    {
     "data": {
      "application/vnd.jupyter.widget-view+json": {
       "model_id": "1ef96884756d4850a15e2c43580ba674",
       "version_major": 2,
       "version_minor": 0
      },
      "text/plain": [
       "  0%|          | 0/10000 [00:00<?, ?it/s]"
      ]
     },
     "metadata": {},
     "output_type": "display_data"
    },
    {
     "data": {
      "application/vnd.jupyter.widget-view+json": {
       "model_id": "b0db06f70bb94fd08903634b2ba2ce4c",
       "version_major": 2,
       "version_minor": 0
      },
      "text/plain": [
       "  0%|          | 0/10000 [00:00<?, ?it/s]"
      ]
     },
     "metadata": {},
     "output_type": "display_data"
    }
   ],
   "source": [
    "#Cell for writing bodies to file\n",
    "\n",
    "files = os.listdir('data/additional/scraped')\n",
    "files = [x for x in files if x[-4:]=='json'] #only take .json files.\n",
    "\n",
    "final_text = []\n",
    "for file in tqdm(files):\n",
    "    df = pd.read_json('data/additional/scraped/'+file)\n",
    "    del df['level_0']\n",
    "    del df['index']\n",
    "    \n",
    "    texts = list(df.Body.astype(str))\n",
    "    \n",
    "    for text in tqdm(texts):\n",
    "        text = text.strip()\n",
    "        text = text.replace('\\n','')\n",
    "        text = text.replace('\\r','')\n",
    "        text = text.replace('\\t','')\n",
    "        if len(text) < 10:\n",
    "            continue\n",
    "        final_text.append(text+'\\n')\n",
    "    \n",
    "with open('bodies.txt', 'w', encoding='utf-8') as f:\n",
    "    f.writelines(final_text)"
   ]
  },
  {
   "cell_type": "code",
   "execution_count": 11,
   "metadata": {},
   "outputs": [],
   "source": [
    "with open('bodies.txt', 'w', encoding='utf-8') as f:\n",
    "    f.write(final_text)"
   ]
  },
  {
   "cell_type": "code",
   "execution_count": 143,
   "metadata": {},
   "outputs": [],
   "source": [
    "st = data[data.Header.str.contains('Bredt forlig giver 607 millioner til udsatte grupper')]"
   ]
  },
  {
   "cell_type": "code",
   "execution_count": 144,
   "metadata": {},
   "outputs": [],
   "source": [
    "st = list(st.Header.astype(str))[0]"
   ]
  },
  {
   "cell_type": "code",
   "execution_count": 8,
   "metadata": {},
   "outputs": [
    {
     "data": {
      "text/plain": [
       "'Utilfreds passager: »Prøv selv en tur klokken 7.30 en hverdagsmorgen« - politiken.dk'"
      ]
     },
     "execution_count": 8,
     "metadata": {},
     "output_type": "execute_result"
    }
   ],
   "source": [
    "final_text.split('\\n')[0]"
   ]
  },
  {
   "cell_type": "code",
   "execution_count": 82,
   "metadata": {},
   "outputs": [
    {
     "data": {
      "text/plain": [
       "'Corona rammer tøjimport for milliarder:\\xa0Kan ikke bruge shorts i oktober \\n \\n | avisendanmark.dk'"
      ]
     },
     "execution_count": 82,
     "metadata": {},
     "output_type": "execute_result"
    }
   ],
   "source": [
    "'Corona rammer tøjimport for milliarder:\\xa0Kan ikke bruge shorts i oktober\\n\\n | avisendanmark.dk'.strip('\\n')"
   ]
  },
  {
   "cell_type": "code",
   "execution_count": 129,
   "metadata": {},
   "outputs": [],
   "source": [
    "with open('headers.txt', encoding='utf-8') as f:\n",
    "    b = f.readlines()"
   ]
  },
  {
   "cell_type": "code",
   "execution_count": 130,
   "metadata": {},
   "outputs": [
    {
     "ename": "AttributeError",
     "evalue": "'list' object has no attribute 'split'",
     "output_type": "error",
     "traceback": [
      "\u001b[1;31m---------------------------------------------------------------------------\u001b[0m",
      "\u001b[1;31mAttributeError\u001b[0m                            Traceback (most recent call last)",
      "\u001b[1;32m<ipython-input-130-2e45c9997337>\u001b[0m in \u001b[0;36m<module>\u001b[1;34m\u001b[0m\n\u001b[1;32m----> 1\u001b[1;33m \u001b[0mlens\u001b[0m \u001b[1;33m=\u001b[0m \u001b[1;33m[\u001b[0m\u001b[0mlen\u001b[0m\u001b[1;33m(\u001b[0m\u001b[0mx\u001b[0m\u001b[1;33m)\u001b[0m \u001b[1;32mfor\u001b[0m \u001b[0mx\u001b[0m \u001b[1;32min\u001b[0m \u001b[0mb\u001b[0m\u001b[1;33m.\u001b[0m\u001b[0msplit\u001b[0m\u001b[1;33m(\u001b[0m\u001b[1;34m'\\r'\u001b[0m\u001b[1;33m)\u001b[0m\u001b[1;33m]\u001b[0m\u001b[1;33m\u001b[0m\u001b[1;33m\u001b[0m\u001b[0m\n\u001b[0m\u001b[0;32m      2\u001b[0m \u001b[0mz\u001b[0m \u001b[1;33m=\u001b[0m \u001b[1;33m[\u001b[0m\u001b[0mx\u001b[0m \u001b[1;32mfor\u001b[0m \u001b[0mx\u001b[0m \u001b[1;32min\u001b[0m \u001b[0mrange\u001b[0m\u001b[1;33m(\u001b[0m\u001b[0mlen\u001b[0m\u001b[1;33m(\u001b[0m\u001b[0mlens\u001b[0m\u001b[1;33m)\u001b[0m\u001b[1;33m)\u001b[0m \u001b[1;32mif\u001b[0m \u001b[0mlens\u001b[0m\u001b[1;33m[\u001b[0m\u001b[0mx\u001b[0m\u001b[1;33m]\u001b[0m \u001b[1;33m==\u001b[0m \u001b[1;36m0\u001b[0m\u001b[1;33m]\u001b[0m\u001b[1;33m\u001b[0m\u001b[1;33m\u001b[0m\u001b[0m\n\u001b[0;32m      3\u001b[0m \u001b[0mz\u001b[0m\u001b[1;33m\u001b[0m\u001b[1;33m\u001b[0m\u001b[0m\n",
      "\u001b[1;31mAttributeError\u001b[0m: 'list' object has no attribute 'split'"
     ]
    }
   ],
   "source": [
    "lens = [len(x) for x in b.split('\\r')]\n",
    "z = [x for x in range(len(lens)) if lens[x] == 0]\n",
    "z"
   ]
  },
  {
   "cell_type": "code",
   "execution_count": 131,
   "metadata": {},
   "outputs": [
    {
     "data": {
      "text/plain": [
       "11232"
      ]
     },
     "execution_count": 131,
     "metadata": {},
     "output_type": "execute_result"
    }
   ],
   "source": [
    "np.argmin([len(x) for x in b])"
   ]
  },
  {
   "cell_type": "code",
   "execution_count": 4,
   "metadata": {
    "execution": {
     "iopub.execute_input": "2022-05-20T08:32:04.284680Z",
     "iopub.status.busy": "2022-05-20T08:32:04.283818Z",
     "iopub.status.idle": "2022-05-20T08:32:20.401290Z",
     "shell.execute_reply": "2022-05-20T08:32:20.400061Z",
     "shell.execute_reply.started": "2022-05-20T08:32:04.284603Z"
    },
    "tags": []
   },
   "outputs": [
    {
     "data": {
      "application/vnd.jupyter.widget-view+json": {
       "model_id": "fe2559c1bb9f4ccdbd800e6db0a30e9a",
       "version_major": 2,
       "version_minor": 0
      },
      "text/plain": [
       "  0%|          | 0/30 [00:00<?, ?it/s]"
      ]
     },
     "metadata": {},
     "output_type": "display_data"
    }
   ],
   "source": [
    "files = os.listdir('scraped')\n",
    "files = [x for x in files if x[-4:]=='json'] #only take .json files.\n",
    "\n",
    "data = pd.read_json('scraped/'+files[0])\n",
    "for file in tqdm(files[1:]):\n",
    "    data = pd.concat([data, pd.read_json('scraped/'+file)])"
   ]
  },
  {
   "cell_type": "code",
   "execution_count": 157,
   "metadata": {},
   "outputs": [],
   "source": [
    "anal = pd.read_json('data/additional/scraped/data_30.json')\n",
    "analbodies = list(anal.Body.astype(str))"
   ]
  },
  {
   "cell_type": "code",
   "execution_count": 19,
   "metadata": {},
   "outputs": [],
   "source": [
    "with open('bodies.txt', encoding='utf-8') as f:\n",
    "    b = f.readlines()"
   ]
  },
  {
   "cell_type": "code",
   "execution_count": 22,
   "metadata": {},
   "outputs": [
    {
     "data": {
      "text/plain": [
       "21938631"
      ]
     },
     "execution_count": 22,
     "metadata": {},
     "output_type": "execute_result"
    }
   ],
   "source": [
    "len(b[0])"
   ]
  },
  {
   "cell_type": "code",
   "execution_count": 50,
   "metadata": {
    "execution": {
     "iopub.execute_input": "2022-05-02T10:32:11.706554Z",
     "iopub.status.busy": "2022-05-02T10:32:11.706030Z",
     "iopub.status.idle": "2022-05-02T10:32:13.394918Z",
     "shell.execute_reply": "2022-05-02T10:32:13.394338Z",
     "shell.execute_reply.started": "2022-05-02T10:32:11.706495Z"
    },
    "tags": []
   },
   "outputs": [
    {
     "data": {
      "image/png": "[encoded data removed]",
      "text/plain": [
       "<Figure size 576x576 with 1 Axes>"
      ]
     },
     "metadata": {},
     "output_type": "display_data"
    }
   ],
   "source": [
    "from wordcloud import WordCloud, STOPWORDS\n",
    "import matplotlib.pyplot as plt\n",
    "import pandas as pd\n",
    "\n",
    "sw = ['t', 'n' 'avis', 'forfatter', '\\n', 'r', 'N', 'xa0']\n",
    " \n",
    "comment_words = ''\n",
    "stopwords = set(sw)\n",
    " \n",
    "# iterate through the csv file\n",
    "for val in domain_junk.values():\n",
    "     \n",
    "    # typecaste each val to string\n",
    "    val = str(val)\n",
    " \n",
    "    # split the value\n",
    "    tokens = val.split()\n",
    "     \n",
    "    # Converts each token into lowercase\n",
    "    for i in range(len(tokens)):\n",
    "        tokens[i] = tokens[i].lower()\n",
    "     \n",
    "    comment_words += \" \".join(tokens)+\" \"\n",
    " \n",
    "wordcloud = WordCloud(width = 800, height = 800,\n",
    "                background_color ='white',\n",
    "                stopwords = stopwords,\n",
    "                min_font_size = 10).generate(comment_words)\n",
    " \n",
    "# plot the WordCloud image                      \n",
    "plt.figure(figsize = (8, 8), facecolor = None)\n",
    "plt.imshow(wordcloud)\n",
    "plt.axis(\"off\")\n",
    "plt.tight_layout(pad = 0)\n",
    "plt.savefig('wordcloud.png')"
   ]
  },
  {
   "cell_type": "code",
   "execution_count": 49,
   "metadata": {
    "execution": {
     "iopub.execute_input": "2022-05-02T10:31:34.443180Z",
     "iopub.status.busy": "2022-05-02T10:31:34.442649Z",
     "iopub.status.idle": "2022-05-02T10:31:34.467042Z",
     "shell.execute_reply": "2022-05-02T10:31:34.466389Z",
     "shell.execute_reply.started": "2022-05-02T10:31:34.443121Z"
    },
    "tags": []
   },
   "outputs": [
    {
     "data": {
      "text/plain": [
       "<Figure size 576x396 with 0 Axes>"
      ]
     },
     "metadata": {},
     "output_type": "display_data"
    }
   ],
   "source": [
    "plt.savefig('wordcloud.png')"
   ]
  },
  {
   "cell_type": "code",
   "execution_count": 47,
   "metadata": {
    "execution": {
     "iopub.execute_input": "2022-05-02T10:31:24.676362Z",
     "iopub.status.busy": "2022-05-02T10:31:24.675972Z",
     "iopub.status.idle": "2022-05-02T10:31:24.682323Z",
     "shell.execute_reply": "2022-05-02T10:31:24.681062Z",
     "shell.execute_reply.started": "2022-05-02T10:31:24.676322Z"
    }
   },
   "outputs": [],
   "source": [
    "plt.show()"
   ]
  },
  {
   "cell_type": "code",
   "execution_count": 1,
   "metadata": {
    "execution": {
     "iopub.execute_input": "2022-05-18T11:10:52.027591Z",
     "iopub.status.busy": "2022-05-18T11:10:52.027062Z",
     "iopub.status.idle": "2022-05-18T11:10:52.033790Z",
     "shell.execute_reply": "2022-05-18T11:10:52.032706Z",
     "shell.execute_reply.started": "2022-05-18T11:10:52.027536Z"
    },
    "tags": []
   },
   "outputs": [],
   "source": [
    "import numpy as np\n",
    "import pickle"
   ]
  },
  {
   "cell_type": "code",
   "execution_count": 8,
   "metadata": {
    "execution": {
     "iopub.execute_input": "2022-05-18T11:13:55.015920Z",
     "iopub.status.busy": "2022-05-18T11:13:55.015441Z",
     "iopub.status.idle": "2022-05-18T11:14:05.549038Z",
     "shell.execute_reply": "2022-05-18T11:14:05.547662Z",
     "shell.execute_reply.started": "2022-05-18T11:13:55.015866Z"
    },
    "tags": []
   },
   "outputs": [],
   "source": [
    "del output\n",
    "with open('Classification results/xtra_NA_manual_RF_classsification.dat', 'rb') as f:\n",
    "    output = pickle.load(f)"
   ]
  },
  {
   "cell_type": "code",
   "execution_count": 9,
   "metadata": {
    "execution": {
     "iopub.execute_input": "2022-05-18T11:14:05.568538Z",
     "iopub.status.busy": "2022-05-18T11:14:05.568350Z",
     "iopub.status.idle": "2022-05-18T11:14:05.573957Z",
     "shell.execute_reply": "2022-05-18T11:14:05.573446Z",
     "shell.execute_reply.started": "2022-05-18T11:14:05.568516Z"
    },
    "tags": []
   },
   "outputs": [
    {
     "data": {
      "text/plain": [
       "({'correct': 17443,\n",
       "  'accuracy': 0.7377347318558619,\n",
       "  'bal_accuracy': 0.7112430311478868,\n",
       "  'f1': 0.732489176826142,\n",
       "  'auc': 0.9757045706008266,\n",
       "  'top5_accuracy': 0.9377431906614786,\n",
       "  'cohen': 0.726556715480293},\n",
       " '0:02:40.591848')"
      ]
     },
     "execution_count": 9,
     "metadata": {},
     "output_type": "execute_result"
    }
   ],
   "source": [
    "output['metrics'], output['proctime']"
   ]
  },
  {
   "cell_type": "code",
   "execution_count": 111,
   "metadata": {
    "execution": {
     "iopub.execute_input": "2022-05-20T09:11:38.145802Z",
     "iopub.status.busy": "2022-05-20T09:11:38.145277Z",
     "iopub.status.idle": "2022-05-20T09:11:46.163292Z",
     "shell.execute_reply": "2022-05-20T09:11:46.162317Z",
     "shell.execute_reply.started": "2022-05-20T09:11:38.145730Z"
    },
    "tags": []
   },
   "outputs": [
    {
     "data": {
      "application/vnd.jupyter.widget-view+json": {
       "model_id": "1d2489ebc9914ce298e5a6f7cac42f67",
       "version_major": 2,
       "version_minor": 0
      },
      "text/plain": [
       "  0%|          | 0/12 [00:00<?, ?it/s]"
      ]
     },
     "metadata": {},
     "output_type": "display_data"
    },
    {
     "data": {
      "application/vnd.jupyter.widget-view+json": {
       "model_id": "3e1a2ec93a8d468695f042710904e951",
       "version_major": 2,
       "version_minor": 0
      },
      "text/plain": [
       "  0%|          | 0/100 [00:00<?, ?it/s]"
      ]
     },
     "metadata": {},
     "output_type": "display_data"
    },
    {
     "name": "stdout",
     "output_type": "stream",
     "text": [
      "Sacha Sennov\n"
     ]
    },
    {
     "data": {
      "application/vnd.jupyter.widget-view+json": {
       "model_id": "ec2f76d79a034db4880d45663efb83f3",
       "version_major": 2,
       "version_minor": 0
      },
      "text/plain": [
       "  0%|          | 0/12 [00:00<?, ?it/s]"
      ]
     },
     "metadata": {},
     "output_type": "display_data"
    },
    {
     "data": {
      "application/vnd.jupyter.widget-view+json": {
       "model_id": "5da524b2bec3427eae2310a843d8e35c",
       "version_major": 2,
       "version_minor": 0
      },
      "text/plain": [
       "  0%|          | 0/35 [00:00<?, ?it/s]"
      ]
     },
     "metadata": {},
     "output_type": "display_data"
    },
    {
     "name": "stdout",
     "output_type": "stream",
     "text": [
      "politiken.dk\n"
     ]
    }
   ],
   "source": [
    "p = 'Data/xtra_clean_authors/'\n",
    "data = pd.concat([pd.read_json(p+file) for file in tqdm(os.listdir(p))])\n",
    "\n",
    "dif_domains = []\n",
    "unique_authors = data['Byline'].unique()\n",
    "for author in tqdm(unique_authors):\n",
    "    dif_domains.append(len(data[data['Byline'] == author]['Domain'].unique()))\n",
    "    if len(data[data['Byline'] == author]['Domain'].unique()) > 10:\n",
    "        print(author)\n",
    "\n",
    "p = 'Data/xtra_clean_domains/'\n",
    "data = pd.concat([pd.read_json(p+file) for file in tqdm(os.listdir(p))])\n",
    "\n",
    "dif_authors = []\n",
    "unique_domains = data['Domain'].unique()\n",
    "for domain in tqdm(unique_domains):\n",
    "    dif_authors.append(len(data[data['Domain'] == domain]['Byline'].unique()))\n",
    "    if len(data[data['Domain'] == domain]['Byline'].unique()) > 500:\n",
    "        print(domain)"
   ]
  },
  {
   "cell_type": "code",
   "execution_count": 115,
   "metadata": {
    "execution": {
     "iopub.execute_input": "2022-05-20T09:16:13.902837Z",
     "iopub.status.busy": "2022-05-20T09:16:13.902488Z",
     "iopub.status.idle": "2022-05-20T09:16:14.233671Z",
     "shell.execute_reply": "2022-05-20T09:16:14.233033Z",
     "shell.execute_reply.started": "2022-05-20T09:16:13.902814Z"
    },
    "tags": []
   },
   "outputs": [
    {
     "data": {
      "image/png": "[encoded data removed]",
      "text/plain": [
       "<Figure size 288x432 with 1 Axes>"
      ]
     },
     "metadata": {},
     "output_type": "display_data"
    }
   ],
   "source": [
    "fig = plt.figure(figsize=(4,6))\n",
    "bp = plt.boxplot(dif_domains)\n",
    "plt.yticks(range(14));\n",
    "plt.xticks([]);\n",
    "\n",
    "for collection in bp.keys():\n",
    "    for line in bp[collection]:\n",
    "        if collection == 'medians':\n",
    "            line.set_color('red')\n",
    "        line.set_linewidth(2)\n",
    "\n",
    "plt.title(\"Boxplot Over Number of Different Newspapers per Author\\n\", fontsize=15)\n",
    "plt.ylabel(\"Number of Newspapers\", fontsize=14)\n",
    "plt.tight_layout()\n",
    "plt.savefig('figs/bp_domains_per_author.png', dpi=300, bbox_inches = \"tight\")"
   ]
  },
  {
   "cell_type": "code",
   "execution_count": 114,
   "metadata": {
    "execution": {
     "iopub.execute_input": "2022-05-20T09:16:03.786548Z",
     "iopub.status.busy": "2022-05-20T09:16:03.785884Z",
     "iopub.status.idle": "2022-05-20T09:16:04.250927Z",
     "shell.execute_reply": "2022-05-20T09:16:04.250196Z",
     "shell.execute_reply.started": "2022-05-20T09:16:03.786479Z"
    },
    "tags": []
   },
   "outputs": [
    {
     "data": {
      "image/png": "[encoded data removed]",
      "text/plain": [
       "<Figure size 288x432 with 1 Axes>"
      ]
     },
     "metadata": {},
     "output_type": "display_data"
    }
   ],
   "source": [
    "fig = plt.figure(figsize=(4,6))\n",
    "bp = plt.boxplot(dif_authors, sym='')\n",
    "plt.yticks(range(31));\n",
    "plt.xticks([]);\n",
    "\n",
    "for collection in bp.keys():\n",
    "    for line in bp[collection]:\n",
    "        if collection == 'medians':\n",
    "            line.set_color('red')\n",
    "        line.set_linewidth(2)\n",
    "\n",
    "plt.title(\"Boxplot Over Number of Different Authors per Newspaper\\n\", fontsize=15)\n",
    "plt.ylabel(\"Number of Newspapers\", fontsize=14)\n",
    "plt.tight_layout()\n",
    "plt.savefig('figs/bp_authors_per_domain.png' ,dpi=300, bbox_inches = \"tight\")"
   ]
  },
  {
   "cell_type": "code",
   "execution_count": 7,
   "metadata": {
    "execution": {
     "iopub.execute_input": "2022-05-20T12:21:46.675503Z",
     "iopub.status.busy": "2022-05-20T12:21:46.675132Z",
     "iopub.status.idle": "2022-05-20T12:21:46.680912Z",
     "shell.execute_reply": "2022-05-20T12:21:46.680198Z",
     "shell.execute_reply.started": "2022-05-20T12:21:46.675479Z"
    },
    "tags": []
   },
   "outputs": [],
   "source": [
    "def encode(text):\n",
    "        '''Text is simply just converting string to array'''\n",
    "        text = text.replace('<start>', '')\n",
    "        text = text.replace('<end>', '')\n",
    "        text = text.replace(' ', '')\n",
    "        text = text.replace('[', '')\n",
    "        text = text.replace(']', '')\n",
    "        return np.fromstring(text, dtype=float, sep=',')"
   ]
  },
  {
   "cell_type": "code",
   "execution_count": 123,
   "metadata": {
    "execution": {
     "iopub.execute_input": "2022-05-20T12:04:27.620615Z",
     "iopub.status.busy": "2022-05-20T12:04:27.620494Z",
     "iopub.status.idle": "2022-05-20T12:04:27.695884Z",
     "shell.execute_reply": "2022-05-20T12:04:27.694898Z",
     "shell.execute_reply.started": "2022-05-20T12:04:27.620600Z"
    }
   },
   "outputs": [
    {
     "name": "stderr",
     "output_type": "stream",
     "text": [
      "/tmp/ipykernel_290/1821636408.py:8: DeprecationWarning: string or file could not be read to its end due to unmatched data; this will raise a ValueError in the future.\n",
      "  return np.fromstring(text, dtype=float, sep=',')\n"
     ]
    },
    {
     "data": {
      "text/plain": [
       "array([], dtype=float64)"
      ]
     },
     "execution_count": 123,
     "metadata": {},
     "output_type": "execute_result"
    }
   ],
   "source": [
    "encode(\"dhhb\")"
   ]
  },
  {
   "cell_type": "code",
   "execution_count": 1,
   "metadata": {
    "execution": {
     "iopub.execute_input": "2022-05-20T12:17:17.504356Z",
     "iopub.status.busy": "2022-05-20T12:17:17.503798Z",
     "iopub.status.idle": "2022-05-20T12:20:06.857403Z",
     "shell.execute_reply": "2022-05-20T12:20:06.856209Z",
     "shell.execute_reply.started": "2022-05-20T12:17:17.504300Z"
    },
    "tags": []
   },
   "outputs": [],
   "source": [
    "import pickle\n",
    "with open('svd_train_data.dat', 'rb') as f:\n",
    "    svd = pickle.load(f)\n",
    "    \n",
    "with open('raw_train_data.dat', 'rb') as f:\n",
    "    raw = pickle.load(f)"
   ]
  },
  {
   "cell_type": "code",
   "execution_count": 1,
   "metadata": {
    "execution": {
     "iopub.execute_input": "2022-05-20T13:57:46.303829Z",
     "iopub.status.busy": "2022-05-20T13:57:46.303325Z",
     "iopub.status.idle": "2022-05-20T13:57:46.349676Z",
     "shell.execute_reply": "2022-05-20T13:57:46.349061Z",
     "shell.execute_reply.started": "2022-05-20T13:57:46.303775Z"
    },
    "tags": []
   },
   "outputs": [],
   "source": [
    "from tqdm.notebook import tqdm\n",
    "import numpy as np\n",
    "import pickle"
   ]
  },
  {
   "cell_type": "code",
   "execution_count": 11,
   "metadata": {
    "execution": {
     "iopub.execute_input": "2022-05-20T12:22:17.959158Z",
     "iopub.status.busy": "2022-05-20T12:22:17.958826Z",
     "iopub.status.idle": "2022-05-20T12:24:51.175407Z",
     "shell.execute_reply": "2022-05-20T12:24:51.174633Z",
     "shell.execute_reply.started": "2022-05-20T12:22:17.959132Z"
    },
    "tags": []
   },
   "outputs": [
    {
     "data": {
      "application/vnd.jupyter.widget-view+json": {
       "model_id": "7815275fab874527b494a847890cb6fa",
       "version_major": 2,
       "version_minor": 0
      },
      "text/plain": [
       "  0%|          | 0/42985 [00:00<?, ?it/s]"
      ]
     },
     "metadata": {},
     "output_type": "display_data"
    }
   ],
   "source": [
    "for i in tqdm(svd):\n",
    "    hest = encode(i[0])\n",
    "    if hest.shape[0] != 8000:\n",
    "        print(hest.shape)"
   ]
  },
  {
   "cell_type": "code",
   "execution_count": 18,
   "metadata": {
    "execution": {
     "iopub.execute_input": "2022-05-20T12:35:22.796289Z",
     "iopub.status.busy": "2022-05-20T12:35:22.795642Z",
     "iopub.status.idle": "2022-05-20T12:40:16.939486Z",
     "shell.execute_reply": "2022-05-20T12:40:16.938615Z",
     "shell.execute_reply.started": "2022-05-20T12:35:22.796234Z"
    },
    "tags": []
   },
   "outputs": [
    {
     "data": {
      "application/vnd.jupyter.widget-view+json": {
       "model_id": "6b98bef6a42c47dc8cda584a42456061",
       "version_major": 2,
       "version_minor": 0
      },
      "text/plain": [
       "  0%|          | 0/171936 [00:00<?, ?it/s]"
      ]
     },
     "metadata": {},
     "output_type": "display_data"
    }
   ],
   "source": [
    "for i in tqdm(raw):\n",
    "    hest = encode(i[0])\n",
    "    if hest.shape[0] != 10332:\n",
    "        print(hest.shape)"
   ]
  },
  {
   "cell_type": "code",
   "execution_count": 22,
   "metadata": {
    "execution": {
     "iopub.execute_input": "2022-05-20T12:44:11.523537Z",
     "iopub.status.busy": "2022-05-20T12:44:11.522888Z",
     "iopub.status.idle": "2022-05-20T12:44:11.543329Z",
     "shell.execute_reply": "2022-05-20T12:44:11.542646Z",
     "shell.execute_reply.started": "2022-05-20T12:44:11.523476Z"
    },
    "tags": []
   },
   "outputs": [
    {
     "data": {
      "text/plain": [
       "(dtype('float64'), dtype('float64'))"
      ]
     },
     "execution_count": 22,
     "metadata": {},
     "output_type": "execute_result"
    }
   ],
   "source": [
    "encode(raw[0][0]).dtype, encode(svd[0][0]).dtype, "
   ]
  },
  {
   "cell_type": "code",
   "execution_count": 4,
   "metadata": {
    "execution": {
     "iopub.execute_input": "2022-05-20T13:58:01.565782Z",
     "iopub.status.busy": "2022-05-20T13:58:01.565392Z",
     "iopub.status.idle": "2022-05-20T13:58:13.141189Z",
     "shell.execute_reply": "2022-05-20T13:58:13.139969Z",
     "shell.execute_reply.started": "2022-05-20T13:58:01.565749Z"
    },
    "tags": []
   },
   "outputs": [
    {
     "name": "stderr",
     "output_type": "stream",
     "text": [
      "/opt/conda/lib/python3.9/site-packages/sklearn/base.py:329: UserWarning: Trying to unpickle estimator DecisionTreeClassifier from version 1.1.0 when using version 1.1.1. This might lead to breaking code or invalid results. Use at your own risk. For more info please refer to:\n",
      "https://scikit-learn.org/stable/model_persistence.html#security-maintainability-limitations\n",
      "  warnings.warn(\n",
      "/opt/conda/lib/python3.9/site-packages/sklearn/base.py:329: UserWarning: Trying to unpickle estimator RandomForestClassifier from version 1.1.0 when using version 1.1.1. This might lead to breaking code or invalid results. Use at your own risk. For more info please refer to:\n",
      "https://scikit-learn.org/stable/model_persistence.html#security-maintainability-limitations\n",
      "  warnings.warn(\n"
     ]
    }
   ],
   "source": [
    "with open(\"Classification results/Random_Forest/xtra_NA_combined_RF_classsification.dat\", 'rb') as f:\n",
    "    output = pickle.load(f)"
   ]
  },
  {
   "cell_type": "code",
   "execution_count": 6,
   "metadata": {
    "execution": {
     "iopub.execute_input": "2022-05-20T13:58:48.553734Z",
     "iopub.status.busy": "2022-05-20T13:58:48.553226Z",
     "iopub.status.idle": "2022-05-20T13:58:48.559374Z",
     "shell.execute_reply": "2022-05-20T13:58:48.558428Z",
     "shell.execute_reply.started": "2022-05-20T13:58:48.553664Z"
    },
    "tags": []
   },
   "outputs": [],
   "source": [
    "rfc = output['fedtet_estimator']"
   ]
  },
  {
   "cell_type": "code",
   "execution_count": null,
   "metadata": {},
   "outputs": [],
   "source": [
    "rfc.predict("
   ]
  }
 ],
 "metadata": {
  "kernelspec": {
   "display_name": "Python 3 ",
   "language": "python",
   "name": "python3"
  },
  "language_info": {
   "codemirror_mode": {
    "name": "ipython",
    "version": 3
   },
   "file_extension": ".py",
   "mimetype": "text/x-python",
   "name": "python",
   "nbconvert_exporter": "python",
   "pygments_lexer": "ipython3",
   "version": "3.9.10"
  }
 },
 "nbformat": 4,
 "nbformat_minor": 4
}
