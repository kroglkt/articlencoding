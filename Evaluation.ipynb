{
 "cells": [
  {
   "cell_type": "code",
   "execution_count": 2,
   "metadata": {
    "execution": {
     "iopub.execute_input": "2022-05-17T13:51:12.474043Z",
     "iopub.status.busy": "2022-05-17T13:51:12.473523Z",
     "iopub.status.idle": "2022-05-17T13:51:13.047094Z",
     "shell.execute_reply": "2022-05-17T13:51:13.046120Z",
     "shell.execute_reply.started": "2022-05-17T13:51:12.473997Z"
    },
    "tags": []
   },
   "outputs": [],
   "source": [
    "from sklearn.linear_model import LogisticRegression\n",
    "from sklearn.ensemble import RandomForestClassifier\n",
    "from sklearn.dummy import DummyClassifier\n",
    "from sklearn.neighbors import KNeighborsClassifier\n",
    "from sklearn.linear_model import LogisticRegression\n",
    "from sklearn import svm\n",
    "from sklearn.model_selection import StratifiedKFold\n",
    "from sklearn.metrics import f1_score\n",
    "import os\n",
    "from tqdm.notebook import tqdm\n",
    "import numpy as np\n",
    "import classifier_unit_test\n",
    "import nltk\n",
    "from matplotlib import pyplot as plt\n",
    "import seaborn as sns\n",
    "import pandas as pd\n",
    "import pickle"
   ]
  },
  {
   "cell_type": "code",
   "execution_count": 3,
   "metadata": {
    "execution": {
     "iopub.execute_input": "2022-05-17T13:51:13.597410Z",
     "iopub.status.busy": "2022-05-17T13:51:13.596649Z",
     "iopub.status.idle": "2022-05-17T13:51:13.609156Z",
     "shell.execute_reply": "2022-05-17T13:51:13.607650Z",
     "shell.execute_reply.started": "2022-05-17T13:51:13.597339Z"
    },
    "tags": []
   },
   "outputs": [],
   "source": [
    "def load_encodings(path, train_or_test=\"train\"): \n",
    "    \n",
    "    _,_, files = next(os.walk(path))\n",
    "    \n",
    "    for file in tqdm(files):\n",
    "\n",
    "        if file == f\"{train_or_test}X.npy\":\n",
    "            encodings = np.load(path+'/'+file, allow_pickle=True)[()]\n",
    "            \n",
    "        if file == f\"{train_or_test}Y.npy\": \n",
    "            target = np.load(path+'/'+file, allow_pickle=True)[()]\n",
    "            \n",
    "    encodings.data = np.nan_to_num(encodings.data) #Remove NaN and Inf\n",
    "    # test_X.data = np.nan_to_num(test_X.data)\n",
    "    \n",
    "    return encodings, target"
   ]
  },
  {
   "cell_type": "code",
   "execution_count": 3,
   "metadata": {
    "execution": {
     "iopub.execute_input": "2022-05-17T09:23:33.217889Z",
     "iopub.status.busy": "2022-05-17T09:23:33.217242Z",
     "iopub.status.idle": "2022-05-17T09:23:33.227727Z",
     "shell.execute_reply": "2022-05-17T09:23:33.226688Z",
     "shell.execute_reply.started": "2022-05-17T09:23:33.217834Z"
    },
    "tags": []
   },
   "outputs": [],
   "source": [
    "def load_autoencodings(path, train_or_test=\"train\"): \n",
    "    \n",
    "    _,_, files = next(os.walk(path))\n",
    "    \n",
    "    for file in tqdm(files):\n",
    "\n",
    "        if file == f\"{train_or_test}_X.npy\":\n",
    "            encodings = np.load(path+'/'+file, allow_pickle=True)[()]\n",
    "            \n",
    "        if file == f\"{train_or_test}_y.npy\": \n",
    "            target = np.load(path+'/'+file, allow_pickle=True)[()]\n",
    "                \n",
    "    encodings.data = np.nan_to_num(encodings.data) #Remove NaN and Inf\n",
    "    \n",
    "\n",
    "    return encodings, target"
   ]
  },
  {
   "cell_type": "code",
   "execution_count": 4,
   "metadata": {
    "execution": {
     "iopub.execute_input": "2022-05-17T09:23:48.937094Z",
     "iopub.status.busy": "2022-05-17T09:23:48.936587Z",
     "iopub.status.idle": "2022-05-17T09:23:48.950108Z",
     "shell.execute_reply": "2022-05-17T09:23:48.948942Z",
     "shell.execute_reply.started": "2022-05-17T09:23:48.937039Z"
    },
    "tags": []
   },
   "outputs": [],
   "source": [
    "def classify(train_X, train_y, test_X, test_y, clf=\"Random Forest\", model_name=\"Random Forest, Authorship Attribution, manual encodings\", \n",
    "            give_roc=True, give_importances=False):\n",
    "    \n",
    "    if clf == \"Random Forest\": \n",
    "         \n",
    "        RandomForest_classifier = RandomForestClassifier(random_state=42, n_jobs=-1, verbose=1)\n",
    "        output = classifier_unit_test.test_classifier(RandomForest_classifier, train_X, test_X, train_y, test_y, \n",
    "                                                      give_roc=give_roc, give_importance=give_importances, model_name=model_name)\n",
    "            \n",
    "    if clf == \"K Nearest Neighbor\": \n",
    "        \n",
    "        KNN_classifier = KNeighborsClassifier()\n",
    "        output = classifier_unit_test.test_classifier(KNN_classifier, train_X, test_X, train_y, test_y, \n",
    "                                                      give_roc=give_roc, give_importance=give_importances, model_name=model_name)\n",
    "\n",
    "    if clf == \"Logistic Regression\": \n",
    "\n",
    "        LogReg_classifier = LogisticRegression(random_state=42, n_jobs=-1, verbose=1)\n",
    "        output = classifier_unit_test.test_classifier(LogReg_classifier,  train_X, test_X, train_y, test_y, \n",
    "                                                      give_roc=give_roc, give_importance=give_importances, model_name=model_name)\n",
    "            \n",
    "    return output\n"
   ]
  },
  {
   "cell_type": "markdown",
   "metadata": {},
   "source": [
    "# Authorship attribution\n",
    "\n",
    "This section performs authorshop attribution based on our manual encodings, the automatic encodings by Simple Transformers, and lastly a manual and automatic combination"
   ]
  },
  {
   "cell_type": "markdown",
   "metadata": {},
   "source": [
    "## Manual encodings"
   ]
  },
  {
   "cell_type": "code",
   "execution_count": 73,
   "metadata": {
    "execution": {
     "iopub.execute_input": "2022-05-19T08:58:06.762946Z",
     "iopub.status.busy": "2022-05-19T08:58:06.762819Z",
     "iopub.status.idle": "2022-05-19T08:58:10.185489Z",
     "shell.execute_reply": "2022-05-19T08:58:10.184426Z",
     "shell.execute_reply.started": "2022-05-19T08:58:06.762929Z"
    },
    "tags": []
   },
   "outputs": [
    {
     "data": {
      "application/vnd.jupyter.widget-view+json": {
       "model_id": "8ae31c7c149a4df3ba5f65fc387f78dd",
       "version_major": 2,
       "version_minor": 0
      },
      "text/plain": [
       "  0%|          | 0/7 [00:00<?, ?it/s]"
      ]
     },
     "metadata": {},
     "output_type": "display_data"
    },
    {
     "data": {
      "application/vnd.jupyter.widget-view+json": {
       "model_id": "5690c4199150454fa2e4cf4ed50e57f6",
       "version_major": 2,
       "version_minor": 0
      },
      "text/plain": [
       "  0%|          | 0/7 [00:00<?, ?it/s]"
      ]
     },
     "metadata": {},
     "output_type": "display_data"
    }
   ],
   "source": [
    "authors_train_X, authors_train_y = load_encodings(\"Data/additional/xtra_features_author\", train_or_test=\"train\")\n",
    "authors_test_X, authors_test_y = load_encodings(\"Data/additional/xtra_features_author\", train_or_test=\"test\")"
   ]
  },
  {
   "cell_type": "code",
   "execution_count": 74,
   "metadata": {
    "execution": {
     "iopub.execute_input": "2022-05-19T08:58:10.186533Z",
     "iopub.status.busy": "2022-05-19T08:58:10.186369Z",
     "iopub.status.idle": "2022-05-19T08:58:10.191228Z",
     "shell.execute_reply": "2022-05-19T08:58:10.190696Z",
     "shell.execute_reply.started": "2022-05-19T08:58:10.186515Z"
    },
    "tags": []
   },
   "outputs": [
    {
     "data": {
      "text/plain": [
       "(89956, 10180)"
      ]
     },
     "execution_count": 74,
     "metadata": {},
     "output_type": "execute_result"
    }
   ],
   "source": [
    "authors_train_X.shape"
   ]
  },
  {
   "cell_type": "markdown",
   "metadata": {},
   "source": [
    "## Automatic encodings - Simple Transformers"
   ]
  },
  {
   "cell_type": "code",
   "execution_count": 75,
   "metadata": {
    "execution": {
     "iopub.execute_input": "2022-05-19T08:58:10.192026Z",
     "iopub.status.busy": "2022-05-19T08:58:10.191901Z",
     "iopub.status.idle": "2022-05-19T08:58:11.178008Z",
     "shell.execute_reply": "2022-05-19T08:58:11.176851Z",
     "shell.execute_reply.started": "2022-05-19T08:58:10.192011Z"
    },
    "tags": []
   },
   "outputs": [
    {
     "data": {
      "application/vnd.jupyter.widget-view+json": {
       "model_id": "1241893490ee4205aec280a6526cd1a4",
       "version_major": 2,
       "version_minor": 0
      },
      "text/plain": [
       "  0%|          | 0/4 [00:00<?, ?it/s]"
      ]
     },
     "metadata": {},
     "output_type": "display_data"
    },
    {
     "name": "stderr",
     "output_type": "stream",
     "text": [
      "/tmp/ipykernel_5130/2745154326.py:13: DeprecationWarning: Assigning the 'data' attribute is an inherently unsafe operation and will be removed in the future.\n",
      "  encodings.data = np.nan_to_num(encodings.data) #Remove NaN and Inf\n"
     ]
    },
    {
     "data": {
      "application/vnd.jupyter.widget-view+json": {
       "model_id": "9e3eb23f25dd49d484a53005259fe9e0",
       "version_major": 2,
       "version_minor": 0
      },
      "text/plain": [
       "  0%|          | 0/4 [00:00<?, ?it/s]"
      ]
     },
     "metadata": {},
     "output_type": "display_data"
    }
   ],
   "source": [
    "authors_train_X_auto, authors_train_y_auto = load_autoencodings(\"auto_encodings/xtra_author_encodings\", train_or_test=\"train\")\n",
    "authors_test_X_auto, authors_test_y_auto = load_autoencodings(\"auto_encodings/xtra_author_encodings\", train_or_test=\"test\")"
   ]
  },
  {
   "cell_type": "markdown",
   "metadata": {},
   "source": [
    "## Combined encodings"
   ]
  },
  {
   "cell_type": "code",
   "execution_count": 76,
   "metadata": {
    "execution": {
     "iopub.execute_input": "2022-05-19T08:58:11.179085Z",
     "iopub.status.busy": "2022-05-19T08:58:11.178935Z",
     "iopub.status.idle": "2022-05-19T08:58:16.091075Z",
     "shell.execute_reply": "2022-05-19T08:58:16.089986Z",
     "shell.execute_reply.started": "2022-05-19T08:58:11.179067Z"
    },
    "tags": []
   },
   "outputs": [],
   "source": [
    "combined_authors_train = np.hstack((authors_train_X.toarray(),authors_train_X_auto))\n",
    "combined_authors_test = np.hstack((authors_test_X.toarray(),authors_test_X_auto))"
   ]
  },
  {
   "cell_type": "code",
   "execution_count": 77,
   "metadata": {
    "execution": {
     "iopub.execute_input": "2022-05-19T08:58:16.092015Z",
     "iopub.status.busy": "2022-05-19T08:58:16.091868Z",
     "iopub.status.idle": "2022-05-19T08:58:16.096550Z",
     "shell.execute_reply": "2022-05-19T08:58:16.096147Z",
     "shell.execute_reply.started": "2022-05-19T08:58:16.091997Z"
    },
    "tags": []
   },
   "outputs": [
    {
     "data": {
      "text/plain": [
       "((89956, 10948), (22489, 10948))"
      ]
     },
     "execution_count": 77,
     "metadata": {},
     "output_type": "execute_result"
    }
   ],
   "source": [
    "combined_authors_train.shape, combined_authors_test.shape "
   ]
  },
  {
   "cell_type": "markdown",
   "metadata": {},
   "source": [
    "## Authorship Attribution overview"
   ]
  },
  {
   "cell_type": "code",
   "execution_count": 78,
   "metadata": {
    "execution": {
     "iopub.execute_input": "2022-05-19T08:58:16.098246Z",
     "iopub.status.busy": "2022-05-19T08:58:16.098119Z",
     "iopub.status.idle": "2022-05-19T09:50:52.336885Z",
     "shell.execute_reply": "2022-05-19T09:50:52.336151Z",
     "shell.execute_reply.started": "2022-05-19T08:58:16.098231Z"
    },
    "tags": []
   },
   "outputs": [
    {
     "name": "stdout",
     "output_type": "stream",
     "text": [
      "Training model...\n"
     ]
    },
    {
     "name": "stderr",
     "output_type": "stream",
     "text": [
      "[Parallel(n_jobs=-1)]: Using backend ThreadingBackend with 63 concurrent workers.\n",
      "[Parallel(n_jobs=-1)]: Done  76 out of 100 | elapsed: 46.8min remaining: 14.8min\n",
      "[Parallel(n_jobs=-1)]: Done 100 out of 100 | elapsed: 52.5min finished\n",
      "[Parallel(n_jobs=63)]: Using backend ThreadingBackend with 63 concurrent workers.\n",
      "[Parallel(n_jobs=63)]: Done  76 out of 100 | elapsed:    0.5s remaining:    0.1s\n",
      "[Parallel(n_jobs=63)]: Done 100 out of 100 | elapsed:    0.6s finished\n",
      "[Parallel(n_jobs=63)]: Using backend ThreadingBackend with 63 concurrent workers.\n",
      "[Parallel(n_jobs=63)]: Done  76 out of 100 | elapsed:    0.4s remaining:    0.1s\n",
      "[Parallel(n_jobs=63)]: Done 100 out of 100 | elapsed:    0.6s finished\n"
     ]
    },
    {
     "name": "stdout",
     "output_type": "stream",
     "text": [
      "Training dummy...\n",
      "----------\n",
      "Correctly predicted 6031 of 22489\tDummy: 291 of 22489\t:-)\n",
      "Accuracy: 0.27\t\t\tDummy: 0.01\t:-)\n",
      "Balanced accuracy: 0.26\t\tDummy: 0.01\t:-)\n",
      "TOP 5 accuracy: 0.48\t\tDummy: 0.02\t:-)\n",
      "F1 score: 0.23\t\t\tDummy: 0.00\t:-)\n",
      "Cohen's Kappa: 0.26\t\tDummy: 0.00\t:-)\n",
      "ROC AUC: 0.83\t\t\tDummy: 0.50\t:-)\n",
      "----------\n",
      "ROC AUC control for RandomForestClassifier(n_jobs=-1, random_state=42, verbose=1): 0.85\n",
      "ROC AUC control for Dummy: 0.50\n",
      "Process time: 0:52:36.011785\n",
      "CPU times: user 1d 19h 21min 40s, sys: 49.5 s, total: 1d 19h 22min 30s\n",
      "Wall time: 52min 36s\n"
     ]
    }
   ],
   "source": [
    "%%time\n",
    "    \n",
    "combined_RF_output = classify(combined_authors_train, authors_train_y, combined_authors_test, authors_test_y, clf=\"Random Forest\", model_name=\"Random Forest, authorship attribution, combined encodings\")\n"
   ]
  },
  {
   "cell_type": "code",
   "execution_count": 79,
   "metadata": {
    "execution": {
     "iopub.execute_input": "2022-05-19T09:50:52.338120Z",
     "iopub.status.busy": "2022-05-19T09:50:52.337965Z",
     "iopub.status.idle": "2022-05-19T09:50:57.804518Z",
     "shell.execute_reply": "2022-05-19T09:50:57.802834Z",
     "shell.execute_reply.started": "2022-05-19T09:50:52.338096Z"
    },
    "tags": []
   },
   "outputs": [],
   "source": [
    "with open(\"xtra_AA_combined_RF_classsification.dat\", \"wb\") as combined_file: \n",
    "    pickle.dump(combined_RF_output, combined_file)\n",
    "    \n"
   ]
  },
  {
   "cell_type": "markdown",
   "metadata": {},
   "source": [
    "# Newspaper Attribution\n",
    "\n",
    "This sections performs newspaper attribution based on our manual encodings, the automatic encodings by Simple Transformers, and lastly a manual and automatic combination"
   ]
  },
  {
   "cell_type": "markdown",
   "metadata": {},
   "source": [
    "## Manual encodings"
   ]
  },
  {
   "cell_type": "code",
   "execution_count": 64,
   "metadata": {
    "execution": {
     "iopub.execute_input": "2022-05-19T08:21:03.176228Z",
     "iopub.status.busy": "2022-05-19T08:21:03.176035Z",
     "iopub.status.idle": "2022-05-19T08:21:06.708230Z",
     "shell.execute_reply": "2022-05-19T08:21:06.706804Z",
     "shell.execute_reply.started": "2022-05-19T08:21:03.176205Z"
    },
    "tags": []
   },
   "outputs": [
    {
     "data": {
      "application/vnd.jupyter.widget-view+json": {
       "model_id": "4eb0d2660e2f4eb8af5d8162096f4617",
       "version_major": 2,
       "version_minor": 0
      },
      "text/plain": [
       "  0%|          | 0/7 [00:00<?, ?it/s]"
      ]
     },
     "metadata": {},
     "output_type": "display_data"
    },
    {
     "data": {
      "application/vnd.jupyter.widget-view+json": {
       "model_id": "50f0c44756534e64b5ea09e5a074ef8d",
       "version_major": 2,
       "version_minor": 0
      },
      "text/plain": [
       "  0%|          | 0/7 [00:00<?, ?it/s]"
      ]
     },
     "metadata": {},
     "output_type": "display_data"
    }
   ],
   "source": [
    "domains_train_X, domains_train_y = load_encodings(\"Data/additional/xtra_features_domain\", train_or_test=\"train\")\n",
    "domains_test_X, domains_test_y = load_encodings(\"Data/additional/xtra_features_domain\", train_or_test=\"test\")"
   ]
  },
  {
   "cell_type": "code",
   "execution_count": 65,
   "metadata": {
    "execution": {
     "iopub.execute_input": "2022-05-19T08:21:06.709544Z",
     "iopub.status.busy": "2022-05-19T08:21:06.709378Z",
     "iopub.status.idle": "2022-05-19T08:21:06.715863Z",
     "shell.execute_reply": "2022-05-19T08:21:06.714808Z",
     "shell.execute_reply.started": "2022-05-19T08:21:06.709525Z"
    },
    "tags": []
   },
   "outputs": [
    {
     "data": {
      "text/plain": [
       "(94572, 10368)"
      ]
     },
     "execution_count": 65,
     "metadata": {},
     "output_type": "execute_result"
    }
   ],
   "source": [
    "domains_train_X.shape"
   ]
  },
  {
   "cell_type": "markdown",
   "metadata": {},
   "source": [
    "## Automatic encodings - Simple Transformers"
   ]
  },
  {
   "cell_type": "code",
   "execution_count": 68,
   "metadata": {
    "execution": {
     "iopub.execute_input": "2022-05-19T08:22:46.517087Z",
     "iopub.status.busy": "2022-05-19T08:22:46.516422Z",
     "iopub.status.idle": "2022-05-19T08:22:47.267688Z",
     "shell.execute_reply": "2022-05-19T08:22:47.266147Z",
     "shell.execute_reply.started": "2022-05-19T08:22:46.517028Z"
    },
    "tags": []
   },
   "outputs": [
    {
     "data": {
      "application/vnd.jupyter.widget-view+json": {
       "model_id": "5151d7a178604cdf9b690a11a07ab495",
       "version_major": 2,
       "version_minor": 0
      },
      "text/plain": [
       "  0%|          | 0/4 [00:00<?, ?it/s]"
      ]
     },
     "metadata": {},
     "output_type": "display_data"
    },
    {
     "name": "stderr",
     "output_type": "stream",
     "text": [
      "/tmp/ipykernel_5130/2745154326.py:13: DeprecationWarning: Assigning the 'data' attribute is an inherently unsafe operation and will be removed in the future.\n",
      "  encodings.data = np.nan_to_num(encodings.data) #Remove NaN and Inf\n"
     ]
    },
    {
     "data": {
      "application/vnd.jupyter.widget-view+json": {
       "model_id": "f31ceb36032a47df9bcfd23dee0f16c5",
       "version_major": 2,
       "version_minor": 0
      },
      "text/plain": [
       "  0%|          | 0/4 [00:00<?, ?it/s]"
      ]
     },
     "metadata": {},
     "output_type": "display_data"
    }
   ],
   "source": [
    "domains_train_X_auto, domains_train_y_auto = load_autoencodings(\"auto_encodings/xtra_domain_encodings\", train_or_test=\"train\")\n",
    "domains_test_X_auto, domains_test_y_auto = load_autoencodings(\"auto_encodings/xtra_domain_encodings\", train_or_test=\"test\")"
   ]
  },
  {
   "cell_type": "markdown",
   "metadata": {},
   "source": [
    "## Combined encodings"
   ]
  },
  {
   "cell_type": "code",
   "execution_count": 69,
   "metadata": {
    "execution": {
     "iopub.execute_input": "2022-05-19T08:22:48.651523Z",
     "iopub.status.busy": "2022-05-19T08:22:48.651034Z",
     "iopub.status.idle": "2022-05-19T08:22:53.922061Z",
     "shell.execute_reply": "2022-05-19T08:22:53.920619Z",
     "shell.execute_reply.started": "2022-05-19T08:22:48.651469Z"
    },
    "tags": []
   },
   "outputs": [],
   "source": [
    "combined_domains_train = np.hstack((domains_train_X.toarray(),domains_train_X_auto))\n",
    "combined_domains_test = np.hstack((domains_test_X.toarray(),domains_test_X_auto))"
   ]
  },
  {
   "cell_type": "code",
   "execution_count": 70,
   "metadata": {
    "execution": {
     "iopub.execute_input": "2022-05-19T08:22:53.983218Z",
     "iopub.status.busy": "2022-05-19T08:22:53.983071Z",
     "iopub.status.idle": "2022-05-19T08:22:53.988539Z",
     "shell.execute_reply": "2022-05-19T08:22:53.987949Z",
     "shell.execute_reply.started": "2022-05-19T08:22:53.983202Z"
    },
    "tags": []
   },
   "outputs": [
    {
     "data": {
      "text/plain": [
       "((94572, 11136), (23644, 11136))"
      ]
     },
     "execution_count": 70,
     "metadata": {},
     "output_type": "execute_result"
    }
   ],
   "source": [
    "combined_domains_train.shape, combined_domains_test.shape"
   ]
  },
  {
   "cell_type": "markdown",
   "metadata": {},
   "source": [
    "## Newspaper Attribution overview"
   ]
  },
  {
   "cell_type": "code",
   "execution_count": 71,
   "metadata": {
    "execution": {
     "iopub.execute_input": "2022-05-19T08:23:04.692645Z",
     "iopub.status.busy": "2022-05-19T08:23:04.692142Z",
     "iopub.status.idle": "2022-05-19T08:58:05.424616Z",
     "shell.execute_reply": "2022-05-19T08:58:05.423782Z",
     "shell.execute_reply.started": "2022-05-19T08:23:04.692592Z"
    },
    "tags": []
   },
   "outputs": [
    {
     "name": "stdout",
     "output_type": "stream",
     "text": [
      "Training model...\n"
     ]
    },
    {
     "name": "stderr",
     "output_type": "stream",
     "text": [
      "[Parallel(n_jobs=-1)]: Using backend ThreadingBackend with 63 concurrent workers.\n",
      "[Parallel(n_jobs=-1)]: Done  76 out of 100 | elapsed: 29.9min remaining:  9.4min\n",
      "[Parallel(n_jobs=-1)]: Done 100 out of 100 | elapsed: 34.9min finished\n",
      "[Parallel(n_jobs=63)]: Using backend ThreadingBackend with 63 concurrent workers.\n",
      "[Parallel(n_jobs=63)]: Done  76 out of 100 | elapsed:    0.2s remaining:    0.1s\n",
      "[Parallel(n_jobs=63)]: Done 100 out of 100 | elapsed:    0.3s finished\n",
      "[Parallel(n_jobs=63)]: Using backend ThreadingBackend with 63 concurrent workers.\n",
      "[Parallel(n_jobs=63)]: Done  76 out of 100 | elapsed:    0.2s remaining:    0.1s\n",
      "[Parallel(n_jobs=63)]: Done 100 out of 100 | elapsed:    0.2s finished\n"
     ]
    },
    {
     "name": "stdout",
     "output_type": "stream",
     "text": [
      "Training dummy...\n",
      "----------\n",
      "Correctly predicted 17825 of 23644\tDummy: 1211 of 23644\t:-)\n",
      "Accuracy: 0.75\t\t\tDummy: 0.05\t:-)\n",
      "Balanced accuracy: 0.73\t\tDummy: 0.03\t:-)\n",
      "TOP 5 accuracy: 0.95\t\tDummy: 0.08\t:-)\n",
      "F1 score: 0.75\t\t\tDummy: 0.00\t:-)\n",
      "Cohen's Kappa: 0.74\t\tDummy: 0.00\t:-)\n",
      "ROC AUC: 0.98\t\t\tDummy: 0.50\t:-)\n",
      "----------\n",
      "ROC AUC control for RandomForestClassifier(n_jobs=-1, random_state=42, verbose=1): 0.98\n",
      "ROC AUC control for Dummy: 0.51\n",
      "Process time: 0:35:00.587501\n",
      "CPU times: user 1d 5h 14min 43s, sys: 35.1 s, total: 1d 5h 15min 18s\n",
      "Wall time: 35min\n"
     ]
    }
   ],
   "source": [
    "%%time\n",
    "   \n",
    "combined_RF_output = classify(combined_domains_train, domains_train_y, combined_domains_test, domains_test_y, clf=\"Random Forest\", model_name=\"Random Forest, newspaper attribution, combined encodings\")"
   ]
  },
  {
   "cell_type": "code",
   "execution_count": 72,
   "metadata": {
    "execution": {
     "iopub.execute_input": "2022-05-19T08:58:05.485033Z",
     "iopub.status.busy": "2022-05-19T08:58:05.484887Z",
     "iopub.status.idle": "2022-05-19T08:58:06.708759Z",
     "shell.execute_reply": "2022-05-19T08:58:06.708112Z",
     "shell.execute_reply.started": "2022-05-19T08:58:05.485015Z"
    },
    "tags": []
   },
   "outputs": [],
   "source": [
    "with open(\"xtra_NA_combined_RF_classsification.dat\", \"wb\") as combined_file: \n",
    "    pickle.dump(combined_RF_output, combined_file)\n"
   ]
  },
  {
   "cell_type": "markdown",
   "metadata": {},
   "source": [
    "# Headline Generation\n",
    "\n",
    "This section evaluates the performance of headline generation based on manual encodings. The metrics used for evaluation is ROGUE (Recall-Oriented Understudy for Gisting Evaluation)"
   ]
  },
  {
   "cell_type": "code",
   "execution_count": 4,
   "metadata": {
    "execution": {
     "iopub.execute_input": "2022-05-24T13:14:14.585930Z",
     "iopub.status.busy": "2022-05-24T13:14:14.585144Z",
     "iopub.status.idle": "2022-05-24T13:14:14.596461Z",
     "shell.execute_reply": "2022-05-24T13:14:14.595592Z",
     "shell.execute_reply.started": "2022-05-24T13:14:14.585847Z"
    },
    "tags": []
   },
   "outputs": [],
   "source": [
    "# from nltk.translate.bleu_score import SmoothingFunction\n",
    "from rouge import Rouge"
   ]
  },
  {
   "cell_type": "code",
   "execution_count": 5,
   "metadata": {
    "execution": {
     "iopub.execute_input": "2022-05-24T13:14:16.947591Z",
     "iopub.status.busy": "2022-05-24T13:14:16.946924Z",
     "iopub.status.idle": "2022-05-24T13:14:17.097751Z",
     "shell.execute_reply": "2022-05-24T13:14:17.096808Z",
     "shell.execute_reply.started": "2022-05-24T13:14:16.947531Z"
    },
    "tags": []
   },
   "outputs": [],
   "source": [
    "with open('Data/headline_predictions.txt' ,'r', encoding='utf-8') as f:\n",
    "    lines = f.readlines()\n",
    "\n",
    "targets = []\n",
    "predictions = []\n",
    "\n",
    "for i, line in enumerate(lines):\n",
    "    line = line.strip('\\n')\n",
    "    target, prediction = line.split('\\t')\n",
    "    \n",
    "    target = target.replace('Target: ', '')\n",
    "    targets.append(target)\n",
    "\n",
    "    prediction = prediction.replace('Predicted: ', '')\n",
    "    predictions.append(prediction)"
   ]
  },
  {
   "cell_type": "code",
   "execution_count": 6,
   "metadata": {
    "execution": {
     "iopub.execute_input": "2022-05-24T13:15:19.334446Z",
     "iopub.status.busy": "2022-05-24T13:15:19.333926Z",
     "iopub.status.idle": "2022-05-24T13:15:19.340791Z",
     "shell.execute_reply": "2022-05-24T13:15:19.339526Z",
     "shell.execute_reply.started": "2022-05-24T13:15:19.334391Z"
    }
   },
   "outputs": [],
   "source": [
    "rouge = Rouge()"
   ]
  },
  {
   "cell_type": "code",
   "execution_count": 9,
   "metadata": {
    "execution": {
     "iopub.execute_input": "2022-05-24T13:16:47.477743Z",
     "iopub.status.busy": "2022-05-24T13:16:47.477028Z",
     "iopub.status.idle": "2022-05-24T13:16:47.613784Z",
     "shell.execute_reply": "2022-05-24T13:16:47.613036Z",
     "shell.execute_reply.started": "2022-05-24T13:16:47.477677Z"
    },
    "tags": []
   },
   "outputs": [],
   "source": [
    "scores = rouge.get_scores(predictions, targets, avg=True)"
   ]
  },
  {
   "cell_type": "code",
   "execution_count": 10,
   "metadata": {
    "execution": {
     "iopub.execute_input": "2022-05-24T13:16:48.495029Z",
     "iopub.status.busy": "2022-05-24T13:16:48.494405Z",
     "iopub.status.idle": "2022-05-24T13:16:48.504413Z",
     "shell.execute_reply": "2022-05-24T13:16:48.503701Z",
     "shell.execute_reply.started": "2022-05-24T13:16:48.494944Z"
    },
    "tags": []
   },
   "outputs": [
    {
     "data": {
      "text/plain": [
       "{'rouge-1': {'r': 0.14035417931455124,\n",
       "  'p': 0.14328138452105196,\n",
       "  'f': 0.1378241596288976},\n",
       " 'rouge-2': {'r': 0.016728557553557545,\n",
       "  'p': 0.016601934176934167,\n",
       "  'f': 0.016217014411291013},\n",
       " 'rouge-l': {'r': 0.1336364476610998,\n",
       "  'p': 0.1361387374020891,\n",
       "  'f': 0.13109143901232878}}"
      ]
     },
     "execution_count": 10,
     "metadata": {},
     "output_type": "execute_result"
    }
   ],
   "source": [
    "scores"
   ]
  },
  {
   "cell_type": "code",
   "execution_count": 28,
   "metadata": {
    "execution": {
     "iopub.execute_input": "2022-05-11T14:42:35.164747Z",
     "iopub.status.busy": "2022-05-11T14:42:35.164092Z",
     "iopub.status.idle": "2022-05-11T14:42:35.173752Z",
     "shell.execute_reply": "2022-05-11T14:42:35.172467Z",
     "shell.execute_reply.started": "2022-05-11T14:42:35.164690Z"
    },
    "tags": []
   },
   "outputs": [],
   "source": [
    "target1 = [\"ung\", \"mand\", \"lagt\", \"i\", \"kunstigt\", \"koma\", \"efter\", \"trafikulykke\"]\n",
    "prediction1 = [\"ung\", \"mand\", \"i\", \"retten\", \"for\", \"at\", \"voldtage\", \"sin\", \"egen\", \"far\"]\n",
    "target2 = list(\"michelle bellaichs kæreste taler ud om kæmpe sorg\".split())\n",
    "prediction2 = list(\"dansk mand er død\".split())\n",
    "#there may be several references\n",
    "\n",
    "# BLEUscore = nltk.translate.bleu_score.sentence_bleu([reference], hypothesis, smoothing_function=SmoothingFunction().method2)\n",
    "# print(BLEUscore)"
   ]
  },
  {
   "cell_type": "code",
   "execution_count": 7,
   "metadata": {
    "execution": {
     "iopub.execute_input": "2022-05-13T12:13:24.995191Z",
     "iopub.status.busy": "2022-05-13T12:13:24.994689Z",
     "iopub.status.idle": "2022-05-13T12:13:39.691451Z",
     "shell.execute_reply": "2022-05-13T12:13:39.689170Z",
     "shell.execute_reply.started": "2022-05-13T12:13:24.995138Z"
    },
    "tags": []
   },
   "outputs": [
    {
     "name": "stdout",
     "output_type": "stream",
     "text": [
      "CPU times: user 5.4 s, sys: 0 ns, total: 5.4 s\n",
      "Wall time: 14.6 s\n"
     ]
    }
   ],
   "source": [
    "%%time\n",
    "corpus_BLEU = nltk.translate.bleu_score.corpus_bleu(targets, predictions, smoothing_function=SmoothingFunction().method2)\n"
   ]
  },
  {
   "cell_type": "code",
   "execution_count": 69,
   "metadata": {
    "execution": {
     "iopub.execute_input": "2022-05-13T13:03:34.401650Z",
     "iopub.status.busy": "2022-05-13T13:03:34.401036Z",
     "iopub.status.idle": "2022-05-13T13:03:34.491248Z",
     "shell.execute_reply": "2022-05-13T13:03:34.489421Z",
     "shell.execute_reply.started": "2022-05-13T13:03:34.401569Z"
    },
    "tags": []
   },
   "outputs": [],
   "source": [
    "# for i, target in enumerate(targets):\n",
    "#     print(\"Target: \",target, \"\\nPrediction: \",predictions[i])\n",
    "#     print(\"\\n\")"
   ]
  },
  {
   "cell_type": "code",
   "execution_count": null,
   "metadata": {},
   "outputs": [],
   "source": []
  }
 ],
 "metadata": {
  "kernelspec": {
   "display_name": "Python 3",
   "language": "python",
   "name": "python3"
  },
  "language_info": {
   "codemirror_mode": {
    "name": "ipython",
    "version": 3
   },
   "file_extension": ".py",
   "mimetype": "text/x-python",
   "name": "python",
   "nbconvert_exporter": "python",
   "pygments_lexer": "ipython3",
   "version": "3.8.5"
  }
 },
 "nbformat": 4,
 "nbformat_minor": 5
}

