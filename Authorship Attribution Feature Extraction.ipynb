{
 "cells": [
  {
   "cell_type": "markdown",
   "metadata": {},
   "source": [
    "# Notebook for extracting features for authorship attribution.\n",
    "In this notebook all authorship attribution features will be collected. They will be saved after extraction. Make sure, you define each feature extraction in a function, so it easily can be repurposed.\n",
    "\n",
    "Author: lkt259@alumni.ku.dk & vsl133@alumni.ku.dk"
   ]
  },
  {
   "cell_type": "code",
   "execution_count": 1,
   "metadata": {},
   "outputs": [],
   "source": [
    "import numpy as np\n",
    "import pandas as pd\n",
    "import re\n",
    "from nltk.tokenize import RegexpTokenizer\n",
    "from sklearn.feature_extraction.text import TfidfVectorizer\n",
    "from sklearn.preprocessing import LabelEncoder\n",
    "from sklearn.model_selection import train_test_split\n",
    "import nltk\n",
    "from lexicalrichness import LexicalRichness\n",
    "from matplotlib import pyplot as plt\n",
    "import random\n",
    "import spacy\n",
    "import os, sys"
   ]
  },
  {
   "cell_type": "code",
   "execution_count": 2,
   "metadata": {},
   "outputs": [],
   "source": [
    "def rand_emot():\n",
    "    e = [\"(o_o)\",\":-)\",\":P\",\":D\",\"x)\",\"ᓚᘏᗢ\",\"╯°□°）╯︵ ┻━┻\",\":)\",\n",
    "         \"*<:-)\",\"^_^\",\"(⌐■_■)\",\"¯\\_(ツ)_/¯\", \"(T_T)\",\":o\",\"OwO\",\n",
    "        \"( ͡❛ ͜ʖ ͡❛)\",\"(̶◉͛‿◉̶)\",\"( ≖.≖)\",\"(ㆆ_ㆆ)\",\"ʕ•́ᴥ•̀ʔっ\",\"( ◡́.◡̀)\",\"(^◡^ )\"]\n",
    "    return random.choice(e)"
   ]
  },
  {
   "cell_type": "markdown",
   "metadata": {},
   "source": [
    "#### Sentence length\n",
    "Nice feature, very complex!"
   ]
  },
  {
   "cell_type": "code",
   "execution_count": 3,
   "metadata": {},
   "outputs": [],
   "source": [
    "string = \"We can work with single sentences (classifying them with respect to sentiment, topic, authorship, etc), or more than one at a time (checking for similarities, contradiction, question/answer pairs, etc.) Another successful application is to encode one sentence in one language and use a different autoencoder to decode it into another language, e.g. Cho et al. (2014).\"\n",
    "train_corpus = ['This list has overlapping features with content features. For example, word n-grams will capture the content of the text along with stylometric tendencies. Content features consist of word frequencies, word and character n-grams, hapax legomena etc. This overlap is not of concern, however, as Sari et al. \\cite{Sari2018} show, using content features is beneficial when performing authorship attribution of news articles because journalists often have certain topics they prefer writing about. They argue that using only stylometric features is beneficial when attributing authors to texts of the same topic or genre, e.g. law text or movie reviews.',\n",
    "              'Bozkurt et al. \\cite{Bozkurt} performed authorship attribution on Turkish newspaper articles using stylometric features, vocabulary diversity, bag of words and frequency of function words. For stylometric features, they used number of sentences and words in the article, the average number of words in a sentence and the whole article, the vocabulary size, frequencies of symbols used (periods, exclamation marks, etc.) and the number of incomplete sentences. They weighted their features using Term Frequency-Inverse Document Frequency (TF-IDF).',\n",
    "              'TF-IDF is a weighting system often used on words. It consists of two parts: term frequency (TF), which coulds how often a term occurs in a document, and inverse document frequency (IDF) which measures the term importance, as it compares how often the term occurs in a corpus\\cite{TFIDF}. The system is useful for measuring how important a term is for a document. For example, the word \"the\" will often occur in English texts, making it not important even though it occurs frequently in a document. TF-IDF has on many occasions been used in authorship attribution\\cite{Muttenhaler, basile:2019, rahgouy:2019} and can be used on different terms, such as characters, symbols or n-grams.',\n",
    "              'Every year, the research group Webis hosts the PAN shared tasks on digital text forensics and sylometry\\cite{PAN}. Contestants will solve various tasks concerning NLP and on multiple occasions, authorship attribution were part of the tasks. The methodologies used in these tasks are useful resources for feature and model selections.',\n",
    "              'In the overview paper of the authorship attribution task of PAN 2019\\cite{kestemont2019overview}, the 12 best performing models are compiled. All features involve character n-grams and other sorts of n-grams. Other popular choices of n-grams contain words, POS tags, punctuation and distortion. Most of the participants use TF-IDF weighting and SVMs as classifiers. Distortion is a method for masking topical contents of the text before feature extraction, focusing only on stylometric features.']\n",
    "test_corpus = ['I have been unable to generate numbers by the Bohr hypothesis, but given more time, I would have simulated multiple distributions following the formula and compare the peak locations to my fit results, by looking at their means and if plausible, perform a t- or z-test to compare. Perhaps using a Kolmogorov-Smirnov test on the entirety of the data would show if it matches only by the peaks or by the whole distribution.',\n",
    "               \"In recent years there have been an increasing interest in biometric identification. Various studies has been conducted aiming to detect individual or unique demographic traits. Results from recent studies have given reason to believe that the ability to predict demographic information using eye tracking is highly dependent on the stimulus. Based on this, this study performs a comparison using two datasets built on different stimulus: IQ tests and passive image viewing. This study found significant differences in the accuracy achieved on the two datasets using a Random Forest (RF) and Long-Short Term Memory network (LSTM) as classifiers. The random forest performed best with an accuracy of 0.85 on the passive image viewing dataset and 0.70 on the IQ dataset. Furthermore, we investigated the effect of using micro movements of the eye as features in the model, which has proven to be a useful feature in recent studies within biometric identification. Lastly, we report the classifiers' ability to perform task independent predictions of gender, using one dataset for training and another for testing. The result from this experiments was not satisfying and close to chance level. However, combining the dataset for training and testing resulted in the random forest having an overall accuracy on the combined dataset of 0.74.\",\n",
    "              ]"
   ]
  },
  {
   "cell_type": "code",
   "execution_count": 4,
   "metadata": {},
   "outputs": [
    {
     "name": "stdout",
     "output_type": "stream",
     "text": [
      "Stats for our test document\n"
     ]
    },
    {
     "data": {
      "text/plain": [
       "{'number_of_sentences': 2,\n",
       " 'avg_sent_len_chars': 183.0,\n",
       " 'std_sent_len_chars': 176.0,\n",
       " 'med_sent_len_chars': 183.0,\n",
       " 'avg_sent_len_words': 28.0,\n",
       " 'std_sent_len_words': 27.0,\n",
       " 'med_sent_len_words': 28.0}"
      ]
     },
     "execution_count": 4,
     "metadata": {},
     "output_type": "execute_result"
    }
   ],
   "source": [
    "def split_sentences(text):\n",
    "    '''Returns an array with text split into sentences'''\n",
    "    return np.array(re.split(r'(?<!\\w\\.\\w.)(?<![A-Z][a-z]\\.)(?<=\\.|\\?)\\s', text), dtype=str)\n",
    "\n",
    "def remove_dots(word):\n",
    "    return re.sub(r',|\\.|:|!|\\?|;', '', word)\n",
    "\n",
    "def split_words(text):\n",
    "    '''Returns an array with text split into words'''\n",
    "    text = text.lower()\n",
    "    string = np.array(text.split(), dtype=str)\n",
    "    no_dot = np.array([remove_dots(x) for x in string])\n",
    "    return no_dot\n",
    "\n",
    "def get_sentence_lengths(text):\n",
    "    '''Returns dictionary with sentence lengh in chars and words'''\n",
    "    split_text = split_sentences(text)\n",
    "    num_sentences = len(split_text)\n",
    "    num_chars = np.array([len(x) for x in split_text], dtype=int)\n",
    "    num_words = [split_words(x).size for x in split_sentences(string)]\n",
    "    return {'chars' : num_chars, 'words' : num_words, 'num_sents' : num_sentences}\n",
    "\n",
    "def get_sentence_length_stats(text):\n",
    "    '''Returns dictionary with mean, std and median lengths in both chars and words'''\n",
    "    sentence_lengths = get_sentence_lengths(text)\n",
    "    output = {'number_of_sentences' : sentence_lengths['num_sents'],\n",
    "              'avg_sent_len_chars' : np.mean(sentence_lengths['chars']),\n",
    "              'std_sent_len_chars' : np.std(sentence_lengths['chars']),\n",
    "              'med_sent_len_chars' : np.median(sentence_lengths['chars']),\n",
    "              \n",
    "              'avg_sent_len_words' : np.mean(sentence_lengths['words']),\n",
    "              'std_sent_len_words' : np.std(sentence_lengths['words']),\n",
    "              'med_sent_len_words' : np.median(sentence_lengths['words'])\n",
    "             }\n",
    "    return output\n",
    "\n",
    "print(\"Stats for our test document\")\n",
    "get_sentence_length_stats(string)"
   ]
  },
  {
   "cell_type": "markdown",
   "metadata": {},
   "source": [
    "##### Word length\n",
    "The count of words of the entire text.\n",
    "Also extremely complex feature, cool shit."
   ]
  },
  {
   "cell_type": "code",
   "execution_count": 5,
   "metadata": {},
   "outputs": [
    {
     "name": "stdout",
     "output_type": "stream",
     "text": [
      "Test word lengths\n"
     ]
    },
    {
     "data": {
      "text/plain": [
       "{'number_of_words': 56,\n",
       " 'avg_word_len_chars': 5.339285714285714,\n",
       " 'std_word_len_chars': 3.4500351225659682,\n",
       " 'med_word_len_chars': 4.0}"
      ]
     },
     "execution_count": 5,
     "metadata": {},
     "output_type": "execute_result"
    }
   ],
   "source": [
    "def get_word_lengths(split_text):\n",
    "    '''Returns length of words in characters'''\n",
    "    return np.array([len(x) for x in split_text], dtype=int)\n",
    "\n",
    "def get_word_length_stats(text):\n",
    "    '''Returns various stats for words in document'''\n",
    "    #Split text here, to reduce function calls.\n",
    "    split_text = split_words(text)\n",
    "    word_lengths = get_word_lengths(split_text)\n",
    "    output = {\n",
    "        'number_of_words' : len(split_text),\n",
    "        'avg_word_len_chars' : np.mean(word_lengths),\n",
    "        'std_word_len_chars' : np.std(word_lengths),\n",
    "        'med_word_len_chars' : np.median(word_lengths)\n",
    "    }\n",
    "    return output\n",
    "\n",
    "print(\"Test word lengths\")\n",
    "get_word_length_stats(string)"
   ]
  },
  {
   "cell_type": "markdown",
   "metadata": {},
   "source": [
    "### Word frequency\n",
    "Get word frequencies with TF-IDF weightings.\n",
    "\n",
    "Word frequency is the same as word unigrams - defined later."
   ]
  },
  {
   "cell_type": "code",
   "execution_count": 6,
   "metadata": {},
   "outputs": [],
   "source": [
    "def get_tfidf_names(vectorizer, X, h=5):\n",
    "    ngrams = vectorizer.get_feature_names()\n",
    "    dense = X.todense()\n",
    "    denselist = dense.tolist()\n",
    "    df = pd.DataFrame(denselist, columns=ngrams)\n",
    "    display(df.head(h))"
   ]
  },
  {
   "cell_type": "markdown",
   "metadata": {},
   "source": [
    "### Hapax legomena\n",
    "Count how many unique words are in a document."
   ]
  },
  {
   "cell_type": "code",
   "execution_count": 7,
   "metadata": {},
   "outputs": [],
   "source": [
    "def get_num_hapax(split_text):\n",
    "    '''Returns the numer of hapax legomena, takes a split words as input'''\n",
    "    fdist = nltk.probability.FreqDist(split_text)\n",
    "    return len(fdist.hapaxes())"
   ]
  },
  {
   "cell_type": "markdown",
   "metadata": {},
   "source": [
    "### Lexical diversity\n",
    "Compute single-values describing the lexical diversities."
   ]
  },
  {
   "cell_type": "code",
   "execution_count": 8,
   "metadata": {},
   "outputs": [],
   "source": [
    "def compute_lix(text):\n",
    "    tokens = nltk.word_tokenize(text)\n",
    "    splt = text.split()\n",
    "    o = len(splt)+1\n",
    "    p = len([x for x in tokens if x=='.'])+1\n",
    "    l = len([x for x in tokens if len(x)>6])+1\n",
    "    \n",
    "    return (o/p)+((l*100)/o)\n",
    "\n",
    "def lexical_diversities(text):\n",
    "    '''Returns a dictionary with various vocabulary richness measures'''\n",
    "    lex = LexicalRichness(text, tokenizer=split_words)\n",
    "    output = {\n",
    "        'ttr' : lex.ttr,\n",
    "        'rttr' : lex.rttr,\n",
    "        'cttr' : lex.cttr,\n",
    "        'herdan' : lex.Herdan,\n",
    "        'summer' : lex.Summer,\n",
    "        'dugast' : lex.Dugast,\n",
    "        'maas' : lex.Maas,\n",
    "        'lix' : compute_lix(text)\n",
    "    }\n",
    "    return output"
   ]
  },
  {
   "cell_type": "code",
   "execution_count": 9,
   "metadata": {},
   "outputs": [
    {
     "data": {
      "text/plain": [
       "<matplotlib.legend.Legend at 0x23229efa688>"
      ]
     },
     "execution_count": 9,
     "metadata": {},
     "output_type": "execute_result"
    },
    {
     "data": {
      "image/png": "[encoded data removed]",
      "text/plain": [
       "<Figure size 720x432 with 1 Axes>"
      ]
     },
     "metadata": {
      "needs_background": "light"
     },
     "output_type": "display_data"
    }
   ],
   "source": [
    "stats = [lexical_diversities(x) for x in train_corpus]\n",
    "\n",
    "ttr = [x['ttr'] for x in stats]\n",
    "rttr = [x['rttr'] for x in stats]\n",
    "cttr = [x['cttr'] for x in stats]\n",
    "herdan = [x['herdan'] for x in stats]\n",
    "summer = [x['summer'] for x in stats]\n",
    "dugast = [x['dugast'] for x in stats]\n",
    "maas = [x['maas'] for x in stats]\n",
    "lix = [x['lix'] for x in stats]\n",
    "\n",
    "fig = plt.figure(figsize=(10,6))\n",
    "plt.plot(ttr, label='ttr')\n",
    "plt.plot(rttr, label='rttr')\n",
    "plt.plot(cttr, label='cttr')\n",
    "plt.plot(herdan, label='herdan')\n",
    "plt.plot(summer, label='summer')\n",
    "plt.plot(dugast, label='dugast')\n",
    "plt.plot(maas, label='maas')\n",
    "plt.plot(lix, label='lix')\n",
    "plt.legend()"
   ]
  },
  {
   "cell_type": "markdown",
   "metadata": {},
   "source": [
    "# N-Grams\n",
    "A collection of vectorizers for different types of n-grams."
   ]
  },
  {
   "cell_type": "code",
   "execution_count": 10,
   "metadata": {},
   "outputs": [],
   "source": [
    "POS_tagger_DK = spacy.load(\"da_core_news_md\")"
   ]
  },
  {
   "cell_type": "code",
   "execution_count": 11,
   "metadata": {},
   "outputs": [],
   "source": [
    "def word_ngram_vectorizer(train_corpus, n): \n",
    "    #Trains a TF-IDF vectorizer of word n-grams\n",
    "    vectorizer = TfidfVectorizer(max_features=3000, analyzer=\"word\", ngram_range=(n,n))\n",
    "    print(f\"Training word {n}-gram vectorizer...\",rand_emot())\n",
    "    \n",
    "    X = vectorizer.fit_transform(train_corpus)\n",
    "    print(\"Vectorizer fit!\", rand_emot())\n",
    "    \n",
    "    return X, vectorizer\n",
    "\n",
    "def char_ngram_vectorizer(train_corpus, n): \n",
    "    #Trains a TF-IDF vectorizer of character n-grams\n",
    "    vectorizer = TfidfVectorizer(max_features=3000, analyzer=\"char\", ngram_range=(n,n))\n",
    "    print(f\"Training char {n}-gram vectorizer...\",rand_emot())\n",
    "    \n",
    "    X = vectorizer.fit_transform(train_corpus)\n",
    "    print(\"Vectorizer fit!\", rand_emot())\n",
    "      \n",
    "    return X, vectorizer\n",
    "\n",
    "def POS_ngram_vectorizer(train_corpus, n): \n",
    "    #Trains a TF-IDF vectorizer of POS n-grams. A POS corpus is generated in the function using a tagger for Danish.\n",
    "    #Create POS corpus\n",
    "    POS_corpus = []\n",
    "\n",
    "    for doc in train_corpus:\n",
    "        tagged_doc = POS_tagger_DK(doc) #tag each document in corpus with POS tags using spacy\n",
    "        POS_list = []\n",
    "\n",
    "        for token in tagged_doc:\n",
    "            POS_list.append(token.pos_)\n",
    "\n",
    "        #concatenate as POS tags for the document\n",
    "        POS_text = \" \".join(POS_list)\n",
    "        POS_corpus.append(POS_text)\n",
    "\n",
    "    \n",
    "    vectorizer = TfidfVectorizer(max_features=3000, analyzer=\"word\", ngram_range=(n,n))\n",
    "    print(f\"Training POS {n}-gram vectorizer...\",rand_emot())\n",
    "    \n",
    "    X = vectorizer.fit_transform(POS_corpus)\n",
    "    print(\"Vectorizer fit!\", rand_emot())\n",
    "\n",
    "    return X, vectorizer"
   ]
  },
  {
   "cell_type": "code",
   "execution_count": 12,
   "metadata": {},
   "outputs": [],
   "source": [
    "# Gets weights for terms based on trained vectorizer\n",
    "# Works for both word and character ngrams\n",
    "def get_tfidf_ngrams(vectorizer, test_corpus):\n",
    "    '''Returns the TF-IDF weighted ngram frequencies of test documents'''\n",
    "    #Multiple texts required\n",
    "    return vectorizer.transform(test_corpus)\n",
    "\n",
    "# Function generates POS test corpus first and then gets weights for terms based on trained vectorizer. \n",
    "def get_tfidf_POS_ngrams(vectorizer, test_corpus):\n",
    "    '''Returns the TF-IDF weighted ngram frequencies of test documents'''\n",
    "    #Create POS corpus\n",
    "    POS_corpus = []\n",
    "\n",
    "    for doc in test_corpus:\n",
    "        tagged_doc = POS_tagger_DK(doc) #tag each document in corpus with POS tags using spacy\n",
    "        POS_list = []\n",
    "\n",
    "        for token in tagged_doc:\n",
    "            POS_list.append(token.pos_)\n",
    "\n",
    "        #concatenate POS tags as one string, i.e. the documented represented as the POS tags\n",
    "        POS_text = \" \".join(POS_list)\n",
    "        POS_corpus.append(POS_text)\n",
    "    \n",
    "    #Multiple texts required\n",
    "    return vectorizer.transform(POS_corpus)"
   ]
  },
  {
   "cell_type": "code",
   "execution_count": 13,
   "metadata": {},
   "outputs": [],
   "source": [
    "%%capture\n",
    "def train_vectorizers(training_data):\n",
    "    '''Returns 2 dictionaries: vectorizers and weights\n",
    "    Only use this function on training data'''\n",
    "    \n",
    "    X_word_unigrams, unigram_word_vectorizer = word_ngram_vectorizer(training_data, 1)\n",
    "    X_word_bigrams, bigram_word_vectorizer = word_ngram_vectorizer(training_data, 2)\n",
    "    X_word_trigrams, trigram_word_vectorizer = word_ngram_vectorizer(training_data, 3)\n",
    "    \n",
    "    X_char_unigrams, unigram_char_vectorizer = char_ngram_vectorizer(training_data, 1)\n",
    "    X_char_bigrams, bigram_char_vectorizer = char_ngram_vectorizer(training_data, 2)\n",
    "    X_char_trigrams, trigram_char_vectorizer = char_ngram_vectorizer(training_data, 3)\n",
    "    \n",
    "    X_POS_unigrams, unigram_POS_vectorizer = POS_ngram_vectorizer(training_data, 1)\n",
    "    X_POS_bigrams, bigram_POS_vectorizer = POS_ngram_vectorizer(training_data, 2)\n",
    "    X_POS_trigrams, trigram_POS_vectorizer = POS_ngram_vectorizer(training_data, 3)\n",
    "    \n",
    "    \n",
    "    vectorizers = {\n",
    "        'uni_word' : unigram_word_vectorizer,\n",
    "        'bi_word' : bigram_word_vectorizer,\n",
    "        'tri_word' : trigram_word_vectorizer,\n",
    "        'uni_char' : unigram_char_vectorizer,\n",
    "        'bi_char' : bigram_char_vectorizer,\n",
    "        'tri_char' : trigram_char_vectorizer,\n",
    "        'uni_pos' : unigram_POS_vectorizer,\n",
    "        'bi_pos' : bigram_POS_vectorizer,\n",
    "        'tri_pos' : trigram_POS_vectorizer,\n",
    "    }\n",
    "    \n",
    "    weights = {\n",
    "        'uni_word' : X_word_unigrams,\n",
    "        'bi_word' : X_word_bigrams,\n",
    "        'tri_word' : X_word_trigrams,\n",
    "        'uni_char' : X_char_unigrams,\n",
    "        'bi_char' : X_char_bigrams,\n",
    "        'tri_char' : X_char_trigrams,\n",
    "        'uni_pos' : X_POS_unigrams,\n",
    "        'bi_pos' : X_POS_bigrams,\n",
    "        'tri_pos' : X_POS_trigrams,\n",
    "    }\n",
    "    \n",
    "    return vectorizers, weights\n",
    "\n",
    "vectorizers, weights = train_vectorizers(train_corpus)"
   ]
  },
  {
   "cell_type": "code",
   "execution_count": 14,
   "metadata": {},
   "outputs": [
    {
     "data": {
      "text/html": [
       "<div>\n",
       "<style scoped>\n",
       "    .dataframe tbody tr th:only-of-type {\n",
       "        vertical-align: middle;\n",
       "    }\n",
       "\n",
       "    .dataframe tbody tr th {\n",
       "        vertical-align: top;\n",
       "    }\n",
       "\n",
       "    .dataframe thead th {\n",
       "        text-align: right;\n",
       "    }\n",
       "</style>\n",
       "<table border=\"1\" class=\"dataframe\">\n",
       "  <thead>\n",
       "    <tr style=\"text-align: right;\">\n",
       "      <th></th>\n",
       "      <th>12</th>\n",
       "      <th>2019</th>\n",
       "      <th>about</th>\n",
       "      <th>al</th>\n",
       "      <th>all</th>\n",
       "      <th>along</th>\n",
       "      <th>and</th>\n",
       "      <th>are</th>\n",
       "      <th>argue</th>\n",
       "      <th>article</th>\n",
       "      <th>...</th>\n",
       "      <th>were</th>\n",
       "      <th>when</th>\n",
       "      <th>which</th>\n",
       "      <th>whole</th>\n",
       "      <th>will</th>\n",
       "      <th>with</th>\n",
       "      <th>word</th>\n",
       "      <th>words</th>\n",
       "      <th>writing</th>\n",
       "      <th>year</th>\n",
       "    </tr>\n",
       "  </thead>\n",
       "  <tbody>\n",
       "    <tr>\n",
       "      <th>0</th>\n",
       "      <td>0.000000</td>\n",
       "      <td>0.000000</td>\n",
       "      <td>0.091857</td>\n",
       "      <td>0.074110</td>\n",
       "      <td>0.000000</td>\n",
       "      <td>0.091857</td>\n",
       "      <td>0.043770</td>\n",
       "      <td>0.000000</td>\n",
       "      <td>0.091857</td>\n",
       "      <td>0.000000</td>\n",
       "      <td>...</td>\n",
       "      <td>0.000000</td>\n",
       "      <td>0.183714</td>\n",
       "      <td>0.000000</td>\n",
       "      <td>0.000000</td>\n",
       "      <td>0.061518</td>\n",
       "      <td>0.183714</td>\n",
       "      <td>0.222329</td>\n",
       "      <td>0.000000</td>\n",
       "      <td>0.091857</td>\n",
       "      <td>0.000000</td>\n",
       "    </tr>\n",
       "    <tr>\n",
       "      <th>1</th>\n",
       "      <td>0.000000</td>\n",
       "      <td>0.000000</td>\n",
       "      <td>0.000000</td>\n",
       "      <td>0.083392</td>\n",
       "      <td>0.000000</td>\n",
       "      <td>0.000000</td>\n",
       "      <td>0.197010</td>\n",
       "      <td>0.000000</td>\n",
       "      <td>0.000000</td>\n",
       "      <td>0.206724</td>\n",
       "      <td>...</td>\n",
       "      <td>0.000000</td>\n",
       "      <td>0.000000</td>\n",
       "      <td>0.000000</td>\n",
       "      <td>0.103362</td>\n",
       "      <td>0.000000</td>\n",
       "      <td>0.000000</td>\n",
       "      <td>0.000000</td>\n",
       "      <td>0.276891</td>\n",
       "      <td>0.000000</td>\n",
       "      <td>0.000000</td>\n",
       "    </tr>\n",
       "    <tr>\n",
       "      <th>2</th>\n",
       "      <td>0.000000</td>\n",
       "      <td>0.126477</td>\n",
       "      <td>0.000000</td>\n",
       "      <td>0.000000</td>\n",
       "      <td>0.000000</td>\n",
       "      <td>0.000000</td>\n",
       "      <td>0.074699</td>\n",
       "      <td>0.000000</td>\n",
       "      <td>0.000000</td>\n",
       "      <td>0.000000</td>\n",
       "      <td>...</td>\n",
       "      <td>0.000000</td>\n",
       "      <td>0.000000</td>\n",
       "      <td>0.156765</td>\n",
       "      <td>0.000000</td>\n",
       "      <td>0.052494</td>\n",
       "      <td>0.000000</td>\n",
       "      <td>0.063239</td>\n",
       "      <td>0.052494</td>\n",
       "      <td>0.000000</td>\n",
       "      <td>0.000000</td>\n",
       "    </tr>\n",
       "    <tr>\n",
       "      <th>3</th>\n",
       "      <td>0.000000</td>\n",
       "      <td>0.000000</td>\n",
       "      <td>0.000000</td>\n",
       "      <td>0.000000</td>\n",
       "      <td>0.000000</td>\n",
       "      <td>0.000000</td>\n",
       "      <td>0.194620</td>\n",
       "      <td>0.109840</td>\n",
       "      <td>0.000000</td>\n",
       "      <td>0.000000</td>\n",
       "      <td>...</td>\n",
       "      <td>0.136144</td>\n",
       "      <td>0.000000</td>\n",
       "      <td>0.000000</td>\n",
       "      <td>0.000000</td>\n",
       "      <td>0.091177</td>\n",
       "      <td>0.000000</td>\n",
       "      <td>0.000000</td>\n",
       "      <td>0.000000</td>\n",
       "      <td>0.000000</td>\n",
       "      <td>0.136144</td>\n",
       "    </tr>\n",
       "    <tr>\n",
       "      <th>4</th>\n",
       "      <td>0.120723</td>\n",
       "      <td>0.097399</td>\n",
       "      <td>0.000000</td>\n",
       "      <td>0.000000</td>\n",
       "      <td>0.120723</td>\n",
       "      <td>0.000000</td>\n",
       "      <td>0.172576</td>\n",
       "      <td>0.097399</td>\n",
       "      <td>0.000000</td>\n",
       "      <td>0.000000</td>\n",
       "      <td>...</td>\n",
       "      <td>0.000000</td>\n",
       "      <td>0.000000</td>\n",
       "      <td>0.000000</td>\n",
       "      <td>0.000000</td>\n",
       "      <td>0.000000</td>\n",
       "      <td>0.000000</td>\n",
       "      <td>0.000000</td>\n",
       "      <td>0.080850</td>\n",
       "      <td>0.000000</td>\n",
       "      <td>0.000000</td>\n",
       "    </tr>\n",
       "  </tbody>\n",
       "</table>\n",
       "<p>5 rows × 197 columns</p>\n",
       "</div>"
      ],
      "text/plain": [
       "         12      2019     about        al       all     along       and  \\\n",
       "0  0.000000  0.000000  0.091857  0.074110  0.000000  0.091857  0.043770   \n",
       "1  0.000000  0.000000  0.000000  0.083392  0.000000  0.000000  0.197010   \n",
       "2  0.000000  0.126477  0.000000  0.000000  0.000000  0.000000  0.074699   \n",
       "3  0.000000  0.000000  0.000000  0.000000  0.000000  0.000000  0.194620   \n",
       "4  0.120723  0.097399  0.000000  0.000000  0.120723  0.000000  0.172576   \n",
       "\n",
       "        are     argue   article  ...      were      when     which     whole  \\\n",
       "0  0.000000  0.091857  0.000000  ...  0.000000  0.183714  0.000000  0.000000   \n",
       "1  0.000000  0.000000  0.206724  ...  0.000000  0.000000  0.000000  0.103362   \n",
       "2  0.000000  0.000000  0.000000  ...  0.000000  0.000000  0.156765  0.000000   \n",
       "3  0.109840  0.000000  0.000000  ...  0.136144  0.000000  0.000000  0.000000   \n",
       "4  0.097399  0.000000  0.000000  ...  0.000000  0.000000  0.000000  0.000000   \n",
       "\n",
       "       will      with      word     words   writing      year  \n",
       "0  0.061518  0.183714  0.222329  0.000000  0.091857  0.000000  \n",
       "1  0.000000  0.000000  0.000000  0.276891  0.000000  0.000000  \n",
       "2  0.052494  0.000000  0.063239  0.052494  0.000000  0.000000  \n",
       "3  0.091177  0.000000  0.000000  0.000000  0.000000  0.136144  \n",
       "4  0.000000  0.000000  0.000000  0.080850  0.000000  0.000000  \n",
       "\n",
       "[5 rows x 197 columns]"
      ]
     },
     "metadata": {},
     "output_type": "display_data"
    }
   ],
   "source": [
    "get_tfidf_names(vectorizers['uni_word'], weights['uni_word'])"
   ]
  },
  {
   "cell_type": "markdown",
   "metadata": {},
   "source": [
    "### Combining features\n",
    "Combine the features into one long as fuck vector!"
   ]
  },
  {
   "cell_type": "code",
   "execution_count": 15,
   "metadata": {},
   "outputs": [],
   "source": [
    "def vectorize_test_data(vectorizers, test_data):\n",
    "    '''Returns weighted matrices for test data.'''\n",
    "    weights = {}\n",
    "    for vectorizer in vectorizers:\n",
    "        if 'pos' in vectorizer:\n",
    "            weights[vectorizer] = get_tfidf_POS_ngrams(vectorizers[vectorizer], test_data)\n",
    "        else:\n",
    "            weights[vectorizer] = get_tfidf_ngrams(vectorizers[vectorizer], test_data)\n",
    "    return weights\n",
    "    \n",
    "\n",
    "def combine_data(data, train_test, vectorizers=None):\n",
    "    #Trains vectorizers if training data is specified.\n",
    "    if train_test == 'train':\n",
    "        assert vectorizers == None, \"Please do not specify vectorizers when training them!\"\n",
    "        print(\"Training data specified... Training vectorizers!\\n\")\n",
    "        vectorizers, weights = train_vectorizers(data)\n",
    "    elif train_test == 'test':\n",
    "        assert type(vectorizers) == dict, \"Vectorizers need to be in a dict!\"\n",
    "        print(\"Test data being vectorized...\")\n",
    "        weights = vectorize_test_data(vectorizers, data)\n",
    "    else:\n",
    "        print(\"Please specify type of data!\")\n",
    "        return\n",
    "    \n",
    "    #Stack ngrams\n",
    "    word_ngrams = np.hstack((weights['uni_word'].todense(), weights['bi_word'].todense(), weights['tri_word'].todense()))\n",
    "    char_ngrams = np.hstack((weights['uni_char'].todense(), weights['bi_char'].todense(), weights['tri_char'].todense()))\n",
    "    pos_ngrams = np.hstack((weights['uni_pos'].todense(), weights['bi_pos'].todense(), weights['tri_pos'].todense()))\n",
    "    ngrams = np.hstack((word_ngrams, char_ngrams, pos_ngrams))\n",
    "    print()\n",
    "    print(\"N-grams shape:\", ngrams.shape)\n",
    "    \n",
    "    #Stack scalar features\n",
    "    sentence_stats = [list(get_sentence_length_stats(x).values()) for x in data]\n",
    "    word_stats = [list(get_word_length_stats(x).values()) for x in data]\n",
    "    lexical_diversity = [list(lexical_diversities(x).values()) for x in data]\n",
    "    hapax = [[get_num_hapax(x)] for x in data]\n",
    "    scalars = np.hstack((sentence_stats, word_stats, lexical_diversity,hapax))\n",
    "    print(\"Scalars shape:\", scalars.shape)\n",
    "    \n",
    "    return np.hstack((ngrams, scalars)), vectorizers\n",
    "    "
   ]
  },
  {
   "cell_type": "markdown",
   "metadata": {},
   "source": [
    "# Test some models\n",
    "Not final models, but just to see how everything works."
   ]
  },
  {
   "cell_type": "code",
   "execution_count": 16,
   "metadata": {},
   "outputs": [
    {
     "name": "stdout",
     "output_type": "stream",
     "text": [
      "Training data specified... Training vectorizers!\n",
      "\n",
      "Training word 1-gram vectorizer... (ㆆ_ㆆ)\n",
      "Vectorizer fit! x)\n",
      "Training word 2-gram vectorizer... :D\n",
      "Vectorizer fit! ʕ•́ᴥ•̀ʔっ\n",
      "Training word 3-gram vectorizer... (^◡^ )\n",
      "Vectorizer fit! *<:-)\n",
      "Training char 1-gram vectorizer... :D\n",
      "Vectorizer fit! ╯°□°）╯︵ ┻━┻\n",
      "Training char 2-gram vectorizer... (^◡^ )\n",
      "Vectorizer fit! (̶◉͛‿◉̶)\n",
      "Training char 3-gram vectorizer... ( ͡❛ ͜ʖ ͡❛)\n",
      "Vectorizer fit! ʕ•́ᴥ•̀ʔっ\n",
      "Training POS 1-gram vectorizer... :)\n",
      "Vectorizer fit! ╯°□°）╯︵ ┻━┻\n",
      "Training POS 2-gram vectorizer... (o_o)\n",
      "Vectorizer fit! :-)\n",
      "Training POS 3-gram vectorizer... ¯\\_(ツ)_/¯\n",
      "Vectorizer fit! :o\n",
      "\n",
      "N-grams shape: (40, 14818)\n",
      "Scalars shape: (40, 20)\n",
      "Test data being vectorized...\n",
      "\n",
      "N-grams shape: (10, 14818)\n",
      "Scalars shape: (10, 20)\n"
     ]
    }
   ],
   "source": [
    "#Load a subset of the data\n",
    "with open('data/additional/scraped/data_30.json') as f:\n",
    "    dataframe = pd.read_json(f)\n",
    "    \n",
    "train1 = dataframe.loc[(dataframe[\"Byline\"] == \"Magnus Boye\")][:10]\n",
    "train2 = dataframe.loc[(dataframe[\"Byline\"] == \"Morten Guldberg\")][:10]\n",
    "train3 = dataframe.loc[(dataframe[\"Byline\"] == \"Alexander Bitsch\")][:10]\n",
    "train4 = dataframe.loc[(dataframe[\"Byline\"] == \"Morten Bjerregaard\")][:10]\n",
    "train5 = dataframe.loc[(dataframe[\"Byline\"] == \"Silla Bakalus\")][:10]\n",
    "\n",
    "frames = [train1, train2,train3, train4, train5]\n",
    "trainset = pd.concat(frames, sort=False)\n",
    "bodies = list(trainset[\"Body\"])\n",
    "authors = list(trainset[\"Byline\"])\n",
    "\n",
    "train_X, test_X, train_y, test_y = train_test_split(bodies, authors, test_size=0.2, random_state=42, stratify=authors)\n",
    "\n",
    "#Convert names to categories\n",
    "le = LabelEncoder()\n",
    "train_y = le.fit_transform(train_y)\n",
    "test_y = le.fit_transform(test_y)\n",
    "\n",
    "train_X, vectorizers = combine_data(train_X, 'train')\n",
    "test_X, _ = combine_data(test_X, 'test', vectorizers=vectorizers)"
   ]
  },
  {
   "cell_type": "code",
   "execution_count": 17,
   "metadata": {},
   "outputs": [
    {
     "data": {
      "text/plain": [
       "0.26666666666666666"
      ]
     },
     "execution_count": 17,
     "metadata": {},
     "output_type": "execute_result"
    }
   ],
   "source": [
    "from sklearn.linear_model import LogisticRegression\n",
    "from sklearn.metrics import f1_score\n",
    "from sklearn import preprocessing\n",
    "\n",
    "lrg = LogisticRegression(max_iter=100, n_jobs=2)\n",
    "lrg.fit(train_X, train_y)\n",
    "f1_score(test_y, lrg.predict(test_X), average='weighted')"
   ]
  },
  {
   "cell_type": "code",
   "execution_count": 18,
   "metadata": {},
   "outputs": [
    {
     "name": "stdout",
     "output_type": "stream",
     "text": [
      "Oh, model already fit. Thanks!\n",
      "Training dummy...\n",
      "Correctly predicted 3 of 10\tDummy: 2 of 10\t:-)\n",
      "Accuracy: 0.30\t\t\tDummy: 0.20\t:-)\n",
      "Balanced accuracy: 0.30\t\tDummy: 0.20\t:-)\n",
      "F1 score: 0.27\t\t\tDummy: 0.07\t:-)\n",
      "ROC AUC: 0.69\t\t\tDummy: 0.50\t:-)\n"
     ]
    }
   ],
   "source": [
    "import classifier_unit_test\n",
    "tpr, fpr, dum_tpr, dum_fpr = classifier_unit_test.test_classifier(lrg, train_X, test_X, train_y, test_y, give_roc=True)"
   ]
  },
  {
   "cell_type": "code",
   "execution_count": 26,
   "metadata": {},
   "outputs": [
    {
     "data": {
      "text/plain": [
       "[<matplotlib.lines.Line2D at 0x23229f9d1c8>]"
      ]
     },
     "execution_count": 26,
     "metadata": {},
     "output_type": "execute_result"
    },
    {
     "data": {
      "image/png": "[encoded data removed]",
      "text/plain": [
       "<Figure size 432x288 with 1 Axes>"
      ]
     },
     "metadata": {
      "needs_background": "light"
     },
     "output_type": "display_data"
    }
   ],
   "source": [
    "plt.plot(tpr,fpr)\n",
    "plt.plot(dum_tpr, dum_fpr)"
   ]
  },
  {
   "cell_type": "code",
   "execution_count": 29,
   "metadata": {},
   "outputs": [],
   "source": [
    "from sklearn.inspection import permutation_importance"
   ]
  },
  {
   "cell_type": "code",
   "execution_count": 31,
   "metadata": {},
   "outputs": [],
   "source": [
    "r = permutation_importance(lrg, test_X, test_y)"
   ]
  },
  {
   "cell_type": "code",
   "execution_count": 41,
   "metadata": {},
   "outputs": [
    {
     "data": {
      "text/plain": [
       "[<matplotlib.lines.Line2D at 0x23244e05048>]"
      ]
     },
     "execution_count": 41,
     "metadata": {},
     "output_type": "execute_result"
    },
    {
     "data": {
      "image/png": "[encoded data removed]",
      "text/plain": [
       "<Figure size 432x288 with 1 Axes>"
      ]
     },
     "metadata": {
      "needs_background": "light"
     },
     "output_type": "display_data"
    }
   ],
   "source": [
    "plt.plot(r.importances_mean.argsort())"
   ]
  },
  {
   "cell_type": "code",
   "execution_count": 42,
   "metadata": {},
   "outputs": [
    {
     "name": "stdout",
     "output_type": "stream",
     "text": [
      "0.13999999999999996 0.048989794855663564\n",
      "0.09999999999999998 0.0\n"
     ]
    }
   ],
   "source": [
    "for i in r.importances_mean.argsort()[::-1]:\n",
    "    if r.importances_mean[i] - 2 * r.importances_std[i] > 0:\n",
    "        print(r.importances_mean[i], r.importances_std[i])"
   ]
  },
  {
   "cell_type": "code",
   "execution_count": null,
   "metadata": {},
   "outputs": [],
   "source": []
  }
 ],
 "metadata": {
  "kernelspec": {
   "display_name": "Python 3",
   "language": "python",
   "name": "python3"
  },
  "language_info": {
   "codemirror_mode": {
    "name": "ipython",
    "version": 3
   },
   "file_extension": ".py",
   "mimetype": "text/x-python",
   "name": "python",
   "nbconvert_exporter": "python",
   "pygments_lexer": "ipython3",
   "version": "3.7.4"
  }
 },
 "nbformat": 4,
 "nbformat_minor": 4
}
