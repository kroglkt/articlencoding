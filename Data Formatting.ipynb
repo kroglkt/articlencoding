{
 "cells": [
  {
   "cell_type": "markdown",
   "metadata": {},
   "source": [
    "## Formatting the data\n",
    "The data available is not perfect. Some articles are too short to work with or contain no body. Such texts will be filtered out - The data will be loaded from a JSON and converted to a Pandas dataframe. \n",
    "\n",
    "Author: lkt259@alumni.ku.dk"
   ]
  },
  {
   "cell_type": "code",
   "execution_count": 2,
   "metadata": {},
   "outputs": [],
   "source": [
    "import numpy as np\n",
    "import pandas as pd\n",
    "from matplotlib import pyplot as plt\n",
    "plt.style.use('seaborn')"
   ]
  },
  {
   "cell_type": "code",
   "execution_count": 41,
   "metadata": {},
   "outputs": [
    {
     "data": {
      "text/html": [
       "<div>\n",
       "<style scoped>\n",
       "    .dataframe tbody tr th:only-of-type {\n",
       "        vertical-align: middle;\n",
       "    }\n",
       "\n",
       "    .dataframe tbody tr th {\n",
       "        vertical-align: top;\n",
       "    }\n",
       "\n",
       "    .dataframe thead th {\n",
       "        text-align: right;\n",
       "    }\n",
       "</style>\n",
       "<table border=\"1\" class=\"dataframe\">\n",
       "  <thead>\n",
       "    <tr style=\"text-align: right;\">\n",
       "      <th></th>\n",
       "      <th>Id</th>\n",
       "      <th>Domain</th>\n",
       "      <th>Body</th>\n",
       "      <th>Header</th>\n",
       "      <th>PublicationDate</th>\n",
       "      <th>Uri</th>\n",
       "      <th>Byline</th>\n",
       "      <th>TextHash</th>\n",
       "    </tr>\n",
       "  </thead>\n",
       "  <tbody>\n",
       "    <tr>\n",
       "      <th>0</th>\n",
       "      <td>14692</td>\n",
       "      <td>computerworld.dk</td>\n",
       "      <td>En Google-produktchef har sagsøgt sin egen arbejdsgiver for 27 milliarder for selskabets interne tys-tys-program, som Google-chefen mener, er i strid med arbejdsreglerne i den amerikanske stat Californien.\\nBlandt an...</td>\n",
       "      <td>Google-chef sagsøger sin arbejdsgiver for 27 milliarder kroner for hemmeligt spion-program</td>\n",
       "      <td>NaN</td>\n",
       "      <td>None</td>\n",
       "      <td>None</td>\n",
       "      <td>0</td>\n",
       "    </tr>\n",
       "    <tr>\n",
       "      <th>1</th>\n",
       "      <td>14693</td>\n",
       "      <td>computerworld.dk</td>\n",
       "      <td>Microsofts flagskibsprodukt hed engang Windows. Sådan er det ikke længere.\\nI stedet har it-giganten i de seneste års tid travlt med at få skubbet sin Azure-sky udover rampen med løfter om lettere datahåndtering, sma...</td>\n",
       "      <td>Microsoft: Azure kan overtage vigtige dele af Windows med tiden</td>\n",
       "      <td>NaN</td>\n",
       "      <td>None</td>\n",
       "      <td>None</td>\n",
       "      <td>0</td>\n",
       "    </tr>\n",
       "    <tr>\n",
       "      <th>2</th>\n",
       "      <td>14694</td>\n",
       "      <td>computerworld.dk</td>\n",
       "      <td>I området omkring Rosenbad i Stockholm ligger flere af broderlandets mest følsomme virksomheder.\\nDet er også her, at statsministeren arbejder og så er udenrigsministeriet og Rigsdagen placeret i området.\\nI dette po...</td>\n",
       "      <td>Regeringsovervågningen breder sig fra Norge til Sverige</td>\n",
       "      <td>NaN</td>\n",
       "      <td>None</td>\n",
       "      <td>Regeringsovervågningen breder sig fra Norge til Sverige</td>\n",
       "      <td>0</td>\n",
       "    </tr>\n",
       "  </tbody>\n",
       "</table>\n",
       "</div>"
      ],
      "text/plain": [
       "      Id            Domain  \\\n",
       "0  14692  computerworld.dk   \n",
       "1  14693  computerworld.dk   \n",
       "2  14694  computerworld.dk   \n",
       "\n",
       "                                                                                                                                                                                                                          Body  \\\n",
       "0  En Google-produktchef har sagsøgt sin egen arbejdsgiver for 27 milliarder for selskabets interne tys-tys-program, som Google-chefen mener, er i strid med arbejdsreglerne i den amerikanske stat Californien.\\nBlandt an...   \n",
       "1  Microsofts flagskibsprodukt hed engang Windows. Sådan er det ikke længere.\\nI stedet har it-giganten i de seneste års tid travlt med at få skubbet sin Azure-sky udover rampen med løfter om lettere datahåndtering, sma...   \n",
       "2  I området omkring Rosenbad i Stockholm ligger flere af broderlandets mest følsomme virksomheder.\\nDet er også her, at statsministeren arbejder og så er udenrigsministeriet og Rigsdagen placeret i området.\\nI dette po...   \n",
       "\n",
       "                                                                                       Header  \\\n",
       "0  Google-chef sagsøger sin arbejdsgiver for 27 milliarder kroner for hemmeligt spion-program   \n",
       "1                             Microsoft: Azure kan overtage vigtige dele af Windows med tiden   \n",
       "2                                     Regeringsovervågningen breder sig fra Norge til Sverige   \n",
       "\n",
       "   PublicationDate   Uri  \\\n",
       "0              NaN  None   \n",
       "1              NaN  None   \n",
       "2              NaN  None   \n",
       "\n",
       "                                                    Byline  TextHash  \n",
       "0                                                     None         0  \n",
       "1                                                     None         0  \n",
       "2  Regeringsovervågningen breder sig fra Norge til Sverige         0  "
      ]
     },
     "execution_count": 41,
     "metadata": {},
     "output_type": "execute_result"
    }
   ],
   "source": [
    "#Load data - and show 120 characters of the body.\n",
    "data = pd.read_json(r'data/data.json')\n",
    "pd.set_option('display.max_colwidth', 220)\n",
    "data.head(3)"
   ]
  },
  {
   "cell_type": "markdown",
   "metadata": {},
   "source": [
    "### Find the minimum length of bodies\n",
    "Let's see the distribution of the body lengths."
   ]
  },
  {
   "cell_type": "code",
   "execution_count": null,
   "metadata": {},
   "outputs": [],
   "source": []
  },
  {
   "cell_type": "code",
   "execution_count": 130,
   "metadata": {},
   "outputs": [
    {
     "data": {
      "text/plain": [
       "[<matplotlib.lines.Line2D at 0x23dc2609488>]"
      ]
     },
     "execution_count": 130,
     "metadata": {},
     "output_type": "execute_result"
    },
    {
     "data": {
      "image/png": "[encoded data removed]",
      "text/plain": [
       "<Figure size 1008x576 with 1 Axes>"
      ]
     },
     "metadata": {},
     "output_type": "display_data"
    }
   ],
   "source": [
    "body_lengths = data['Body'].str.len()\n",
    "\n",
    "desc = \"A dent in article counts at 250 characters\"\n",
    "\n",
    "y, bin_edges = np.histogram(body_lengths, bins=150, range=(0,15000))\n",
    "x = 0.5*(bin_edges[1:] + bin_edges[:-1])\n",
    "\n",
    "fig, ax = plt.subplots(1, figsize=(14,8))\n",
    "plt.bar(x,y,width=np.diff(bin_edges))\n",
    "plt.title(\"Histogram of Article Lengths\", fontsize=18)\n",
    "plt.xlabel(\"Character count\", fontsize=16)\n",
    "plt.ylabel(\"Article count\", fontsize=16)\n",
    "plt.text(0.7, 0.7, desc, horizontalalignment='center',verticalalignment='center', transform=ax.transAxes, fontsize=16)\n",
    "plt.plot([250,10000], [30,240], '--', c='red', alpha=.6)"
   ]
  },
  {
   "cell_type": "markdown",
   "metadata": {},
   "source": [
    "Could that be a good separator?"
   ]
  },
  {
   "cell_type": "markdown",
   "metadata": {},
   "source": [
    "### Filter the data"
   ]
  },
  {
   "cell_type": "code",
   "execution_count": 133,
   "metadata": {},
   "outputs": [
    {
     "data": {
      "text/html": [
       "<div>\n",
       "<style scoped>\n",
       "    .dataframe tbody tr th:only-of-type {\n",
       "        vertical-align: middle;\n",
       "    }\n",
       "\n",
       "    .dataframe tbody tr th {\n",
       "        vertical-align: top;\n",
       "    }\n",
       "\n",
       "    .dataframe thead th {\n",
       "        text-align: right;\n",
       "    }\n",
       "</style>\n",
       "<table border=\"1\" class=\"dataframe\">\n",
       "  <thead>\n",
       "    <tr style=\"text-align: right;\">\n",
       "      <th></th>\n",
       "      <th>Id</th>\n",
       "      <th>Domain</th>\n",
       "      <th>Body</th>\n",
       "      <th>Header</th>\n",
       "      <th>PublicationDate</th>\n",
       "      <th>Uri</th>\n",
       "      <th>Byline</th>\n",
       "      <th>TextHash</th>\n",
       "    </tr>\n",
       "  </thead>\n",
       "  <tbody>\n",
       "    <tr>\n",
       "      <th>909</th>\n",
       "      <td>15602</td>\n",
       "      <td>ritzau.com</td>\n",
       "      <td>test  /ritzau/</td>\n",
       "      <td>test</td>\n",
       "      <td>NaN</td>\n",
       "      <td>None</td>\n",
       "      <td>None</td>\n",
       "      <td>0</td>\n",
       "    </tr>\n",
       "    <tr>\n",
       "      <th>1124</th>\n",
       "      <td>15817</td>\n",
       "      <td>ritzau.com</td>\n",
       "      <td>- Får din hund allergi, kan det skyldes foderet.  - Det kan også skyldes miljøet eksempelvis ved støvallergi.  - Alle hunde kan få allergi, men meget lyse hunde er særligt i risikogruppen.   Kilde: Dyreværnet.   /ri...</td>\n",
       "      <td>FAKTA: Allergi hos hunden</td>\n",
       "      <td>NaN</td>\n",
       "      <td>None</td>\n",
       "      <td>None</td>\n",
       "      <td>0</td>\n",
       "    </tr>\n",
       "    <tr>\n",
       "      <th>1244</th>\n",
       "      <td>15937</td>\n",
       "      <td>ritzau.com</td>\n",
       "      <td>- Stauder.  - Buske og træer.  - Krokus.  - Tulipaner.   - Forårsløg.  Kilde: havefaglig rådgiver i Haveselskabet Louise Møller.   /ritzau fokus/</td>\n",
       "      <td>FAKTA: Det bør du plante ud i september og oktober</td>\n",
       "      <td>NaN</td>\n",
       "      <td>None</td>\n",
       "      <td>None</td>\n",
       "      <td>0</td>\n",
       "    </tr>\n",
       "    <tr>\n",
       "      <th>2153</th>\n",
       "      <td>16848</td>\n",
       "      <td>ekstrabladet.dk</td>\n",
       "      <td>Joe Ralls, Cardiff City (tre kampe) Wes Morgan, Leicester City (to kampe) Christian Kabasele, Watford (en kamp) José Holebas, Watford (en kamp)</td>\n",
       "      <td>Karantæner</td>\n",
       "      <td>NaN</td>\n",
       "      <td>None</td>\n",
       "      <td>Hans-Henrik Hybholt Hare</td>\n",
       "      <td>0</td>\n",
       "    </tr>\n",
       "    <tr>\n",
       "      <th>2346</th>\n",
       "      <td>17041</td>\n",
       "      <td>ekstrabladet.dk</td>\n",
       "      <td>Ti fuldtræffere 31. okt. 2019    Ti forbiere 30. okt. 2019</td>\n",
       "      <td>Stor kåring: Superligaens fuldtræffere - og forbiere</td>\n",
       "      <td>NaN</td>\n",
       "      <td>None</td>\n",
       "      <td>Klaus Egelund,Mads Glenn Wehlast</td>\n",
       "      <td>0</td>\n",
       "    </tr>\n",
       "  </tbody>\n",
       "</table>\n",
       "</div>"
      ],
      "text/plain": [
       "         Id           Domain  \\\n",
       "909   15602       ritzau.com   \n",
       "1124  15817       ritzau.com   \n",
       "1244  15937       ritzau.com   \n",
       "2153  16848  ekstrabladet.dk   \n",
       "2346  17041  ekstrabladet.dk   \n",
       "\n",
       "                                                                                                                                                                                                                             Body  \\\n",
       "909                                                                                                                                                                                                               test  /ritzau/    \n",
       "1124   - Får din hund allergi, kan det skyldes foderet.  - Det kan også skyldes miljøet eksempelvis ved støvallergi.  - Alle hunde kan få allergi, men meget lyse hunde er særligt i risikogruppen.   Kilde: Dyreværnet.   /ri...   \n",
       "1244                                                                           - Stauder.  - Buske og træer.  - Krokus.  - Tulipaner.   - Forårsløg.  Kilde: havefaglig rådgiver i Haveselskabet Louise Møller.   /ritzau fokus/    \n",
       "2153                                                                              Joe Ralls, Cardiff City (tre kampe) Wes Morgan, Leicester City (to kampe) Christian Kabasele, Watford (en kamp) José Holebas, Watford (en kamp)   \n",
       "2346                                                                                                                                                                   Ti fuldtræffere 31. okt. 2019    Ti forbiere 30. okt. 2019   \n",
       "\n",
       "                                                    Header  PublicationDate  \\\n",
       "909                                                   test              NaN   \n",
       "1124                             FAKTA: Allergi hos hunden              NaN   \n",
       "1244    FAKTA: Det bør du plante ud i september og oktober              NaN   \n",
       "2153                                            Karantæner              NaN   \n",
       "2346  Stor kåring: Superligaens fuldtræffere - og forbiere              NaN   \n",
       "\n",
       "       Uri                            Byline  TextHash  \n",
       "909   None                              None         0  \n",
       "1124  None                              None         0  \n",
       "1244  None                              None         0  \n",
       "2153  None          Hans-Henrik Hybholt Hare         0  \n",
       "2346  None  Klaus Egelund,Mads Glenn Wehlast         0  "
      ]
     },
     "execution_count": 133,
     "metadata": {},
     "output_type": "execute_result"
    }
   ],
   "source": [
    "min_length = 250\n",
    "short_bodies = body_lengths[body_lengths < min_length]\n",
    "bad_bodies = data.iloc[short_bodies.index]\n",
    "bad_bodies.head()"
   ]
  },
  {
   "cell_type": "markdown",
   "metadata": {},
   "source": [
    "It seems, most of these short articles are sport results and lists of items. Not useful for article work. "
   ]
  },
  {
   "cell_type": "code",
   "execution_count": null,
   "metadata": {},
   "outputs": [],
   "source": []
  }
 ],
 "metadata": {
  "kernelspec": {
   "display_name": "Python 3",
   "language": "python",
   "name": "python3"
  },
  "language_info": {
   "codemirror_mode": {
    "name": "ipython",
    "version": 3
   },
   "file_extension": ".py",
   "mimetype": "text/x-python",
   "name": "python",
   "nbconvert_exporter": "python",
   "pygments_lexer": "ipython3",
   "version": "3.7.4"
  }
 },
 "nbformat": 4,
 "nbformat_minor": 4
}
