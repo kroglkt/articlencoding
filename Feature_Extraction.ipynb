{
 "cells": [
  {
   "cell_type": "markdown",
   "metadata": {},
   "source": [
    "# Notebook for extracting our manual features\n",
    "In this notebook all features will be collected. They will be saved after extraction. Make sure, you define each feature extraction in a function, so it easily can be repurposed.\n",
    "\n",
    "Author: lkt259@alumni.ku.dk & vsl133@alumni.ku.dk"
   ]
  },
  {
   "cell_type": "code",
   "execution_count": 1,
   "metadata": {
    "execution": {
     "iopub.execute_input": "2022-05-17T11:19:42.252860Z",
     "iopub.status.busy": "2022-05-17T11:19:42.252371Z",
     "iopub.status.idle": "2022-05-17T11:19:43.935917Z",
     "shell.execute_reply": "2022-05-17T11:19:43.935106Z",
     "shell.execute_reply.started": "2022-05-17T11:19:42.252807Z"
    },
    "tags": []
   },
   "outputs": [],
   "source": [
    "import numpy as np\n",
    "import pandas as pd\n",
    "import re\n",
    "import time\n",
    "from tqdm.notebook import tqdm\n",
    "from nltk.tokenize import RegexpTokenizer\n",
    "from sklearn.feature_extraction.text import TfidfVectorizer\n",
    "from sklearn.preprocessing import LabelEncoder\n",
    "from sklearn.model_selection import train_test_split\n",
    "import nltk\n",
    "from lexicalrichness import LexicalRichness\n",
    "from matplotlib import pyplot as plt\n",
    "import random\n",
    "import spacy\n",
    "import scipy\n",
    "import pickle\n",
    "import os, sys"
   ]
  },
  {
   "cell_type": "code",
   "execution_count": 2,
   "metadata": {
    "execution": {
     "iopub.execute_input": "2022-05-17T11:19:46.467810Z",
     "iopub.status.busy": "2022-05-17T11:19:46.467289Z",
     "iopub.status.idle": "2022-05-17T11:19:46.476148Z",
     "shell.execute_reply": "2022-05-17T11:19:46.475188Z",
     "shell.execute_reply.started": "2022-05-17T11:19:46.467756Z"
    },
    "tags": []
   },
   "outputs": [],
   "source": [
    "def rand_emot():\n",
    "    e = [\"(o_o)\",\":-)\",\":P\",\":D\",\"x)\",\"ᓚᘏᗢ\",\"╯°□°）╯︵ ┻━┻\",\":)\",\n",
    "         \"*<:-)\",\"^_^\",\"(⌐■_■)\",\"¯\\_(ツ)_/¯\", \"(T_T)\",\":o\",\"OwO\",\n",
    "        \"( ͡❛ ͜ʖ ͡❛)\",\"(̶◉͛‿◉̶)\",\"( ≖.≖)\",\"(ㆆ_ㆆ)\",\"ʕ•́ᴥ•̀ʔっ\",\"( ◡́.◡̀)\",\"(^◡^ )\"]\n",
    "    return random.choice(e)"
   ]
  },
  {
   "cell_type": "markdown",
   "metadata": {},
   "source": [
    "#### Sentence length\n",
    "Nice feature, very complex!"
   ]
  },
  {
   "cell_type": "code",
   "execution_count": 3,
   "metadata": {
    "execution": {
     "iopub.execute_input": "2022-05-17T11:20:00.154848Z",
     "iopub.status.busy": "2022-05-17T11:20:00.154350Z",
     "iopub.status.idle": "2022-05-17T11:20:00.167344Z",
     "shell.execute_reply": "2022-05-17T11:20:00.166560Z",
     "shell.execute_reply.started": "2022-05-17T11:20:00.154794Z"
    },
    "tags": []
   },
   "outputs": [],
   "source": [
    "string = \"We can work with single sentences (classifying them with respect to sentiment, topic, authorship, etc), or more than one at a time (checking for similarities, contradiction, question/answer pairs, etc.) Another successful application is to encode one sentence in one language and use a different autoencoder to decode it into another language, e.g. Cho et al. (2014).\"\n",
    "train_corpus = ['This list has overlapping features with content features. For example, word n-grams will capture the content of the text along with stylometric tendencies. Content features consist of word frequencies, word and character n-grams, hapax legomena etc. This overlap is not of concern, however, as Sari et al. \\cite{Sari2018} show, using content features is beneficial when performing authorship attribution of news articles because journalists often have certain topics they prefer writing about. They argue that using only stylometric features is beneficial when attributing authors to texts of the same topic or genre, e.g. law text or movie reviews.',\n",
    "              'Bozkurt et al. \\cite{Bozkurt} performed authorship attribution on Turkish newspaper articles using stylometric features, vocabulary diversity, bag of words and frequency of function words. For stylometric features, they used number of sentences and words in the article, the average number of words in a sentence and the whole article, the vocabulary size, frequencies of symbols used (periods, exclamation marks, etc.) and the number of incomplete sentences. They weighted their features using Term Frequency-Inverse Document Frequency (TF-IDF).',\n",
    "              'TF-IDF is a weighting system often used on words. It consists of two parts: term frequency (TF), which coulds how often a term occurs in a document, and inverse document frequency (IDF) which measures the term importance, as it compares how often the term occurs in a corpus\\cite{TFIDF}. The system is useful for measuring how important a term is for a document. For example, the word \"the\" will often occur in English texts, making it not important even though it occurs frequently in a document. TF-IDF has on many occasions been used in authorship attribution\\cite{Muttenhaler, basile:2019, rahgouy:2019} and can be used on different terms, such as characters, symbols or n-grams.',\n",
    "              'Every year, the research group Webis hosts the PAN shared tasks on digital text forensics and sylometry\\cite{PAN}. Contestants will solve various tasks concerning NLP and on multiple occasions, authorship attribution were part of the tasks. The methodologies used in these tasks are useful resources for feature and model selections.',\n",
    "              'In the overview paper of the authorship attribution task of PAN 2019\\cite{kestemont2019overview}, the 12 best performing models are compiled. All features involve character n-grams and other sorts of n-grams. Other popular choices of n-grams contain words, POS tags, punctuation and distortion. Most of the participants use TF-IDF weighting and SVMs as classifiers. Distortion is a method for masking topical contents of the text before feature extraction, focusing only on stylometric features.']\n",
    "test_corpus = ['I have been unable to generate numbers by the Bohr hypothesis, but given more time, I would have simulated multiple distributions following the formula and compare the peak locations to my fit results, by looking at their means and if plausible, perform a t- or z-test to compare. Perhaps using a Kolmogorov-Smirnov test on the entirety of the data would show if it matches only by the peaks or by the whole distribution.',\n",
    "               \"In recent years there have been an increasing interest in biometric identification. Various studies has been conducted aiming to detect individual or unique demographic traits. Results from recent studies have given reason to believe that the ability to predict demographic information using eye tracking is highly dependent on the stimulus. Based on this, this study performs a comparison using two datasets built on different stimulus: IQ tests and passive image viewing. This study found significant differences in the accuracy achieved on the two datasets using a Random Forest (RF) and Long-Short Term Memory network (LSTM) as classifiers. The random forest performed best with an accuracy of 0.85 on the passive image viewing dataset and 0.70 on the IQ dataset. Furthermore, we investigated the effect of using micro movements of the eye as features in the model, which has proven to be a useful feature in recent studies within biometric identification. Lastly, we report the classifiers' ability to perform task independent predictions of gender, using one dataset for training and another for testing. The result from this experiments was not satisfying and close to chance level. However, combining the dataset for training and testing resulted in the random forest having an overall accuracy on the combined dataset of 0.74.\",\n",
    "              ]"
   ]
  },
  {
   "cell_type": "code",
   "execution_count": 4,
   "metadata": {
    "execution": {
     "iopub.execute_input": "2022-05-17T11:20:00.929766Z",
     "iopub.status.busy": "2022-05-17T11:20:00.929304Z",
     "iopub.status.idle": "2022-05-17T11:20:00.952286Z",
     "shell.execute_reply": "2022-05-17T11:20:00.951628Z",
     "shell.execute_reply.started": "2022-05-17T11:20:00.929715Z"
    },
    "tags": []
   },
   "outputs": [
    {
     "name": "stdout",
     "output_type": "stream",
     "text": [
      "Stats for our test document\n"
     ]
    },
    {
     "data": {
      "text/plain": [
       "{'number_of_sentences': 2,\n",
       " 'avg_sent_len_chars': 183.0,\n",
       " 'std_sent_len_chars': 176.0,\n",
       " 'med_sent_len_chars': 183.0,\n",
       " 'avg_sent_len_words': 28.0,\n",
       " 'std_sent_len_words': 27.0,\n",
       " 'med_sent_len_words': 28.0}"
      ]
     },
     "execution_count": 4,
     "metadata": {},
     "output_type": "execute_result"
    }
   ],
   "source": [
    "def split_sentences(text):\n",
    "    '''Returns an array with text split into sentences'''\n",
    "    return np.array(re.split(r'(?<!\\w\\.\\w.)(?<![A-Z][a-z]\\.)(?<=\\.|\\?)\\s', text), dtype=str)\n",
    "\n",
    "def remove_dots(word):\n",
    "    return re.sub(r',|\\.|:|!|\\?|;', '', word)\n",
    "\n",
    "def split_words(text):\n",
    "    '''Returns an array with text split into words'''\n",
    "    text = text.lower()\n",
    "    string = np.array(text.split(), dtype=str)\n",
    "    no_dot = np.array([remove_dots(x) for x in string])\n",
    "    return np.array(list(filter(None, no_dot)))\n",
    "\n",
    "def get_sentence_lengths(text):\n",
    "    '''Returns dictionary with sentence lengh in chars and words'''\n",
    "    split_text = split_sentences(text)\n",
    "    num_sentences = len(split_text)\n",
    "    num_chars = np.array([len(x) for x in split_text], dtype=int)\n",
    "    num_words = [split_words(x).size for x in split_sentences(string)]\n",
    "    return {'chars' : num_chars, 'words' : num_words, 'num_sents' : num_sentences}\n",
    "\n",
    "def get_sentence_length_stats(text):\n",
    "    '''Returns dictionary with mean, std and median lengths in both chars and words'''\n",
    "    sentence_lengths = get_sentence_lengths(text)\n",
    "    output = {'number_of_sentences' : sentence_lengths['num_sents'],\n",
    "              'avg_sent_len_chars' : np.mean(sentence_lengths['chars']),\n",
    "              'std_sent_len_chars' : np.std(sentence_lengths['chars']),\n",
    "              'med_sent_len_chars' : np.median(sentence_lengths['chars']),\n",
    "              \n",
    "              'avg_sent_len_words' : np.mean(sentence_lengths['words']),\n",
    "              'std_sent_len_words' : np.std(sentence_lengths['words']),\n",
    "              'med_sent_len_words' : np.median(sentence_lengths['words'])\n",
    "             }\n",
    "    return output\n",
    "\n",
    "print(\"Stats for our test document\")\n",
    "get_sentence_length_stats(string)"
   ]
  },
  {
   "cell_type": "markdown",
   "metadata": {},
   "source": [
    "##### Word length\n",
    "The count of words of the entire text.\n",
    "Also extremely complex feature, cool shit."
   ]
  },
  {
   "cell_type": "code",
   "execution_count": 5,
   "metadata": {
    "execution": {
     "iopub.execute_input": "2022-05-17T11:20:02.092935Z",
     "iopub.status.busy": "2022-05-17T11:20:02.092425Z",
     "iopub.status.idle": "2022-05-17T11:20:02.108728Z",
     "shell.execute_reply": "2022-05-17T11:20:02.108003Z",
     "shell.execute_reply.started": "2022-05-17T11:20:02.092868Z"
    },
    "tags": []
   },
   "outputs": [
    {
     "name": "stdout",
     "output_type": "stream",
     "text": [
      "Test word lengths\n"
     ]
    },
    {
     "data": {
      "text/plain": [
       "{'number_of_words': 56,\n",
       " 'avg_word_len_chars': 5.339285714285714,\n",
       " 'std_word_len_chars': 3.4500351225659682,\n",
       " 'med_word_len_chars': 4.0}"
      ]
     },
     "execution_count": 5,
     "metadata": {},
     "output_type": "execute_result"
    }
   ],
   "source": [
    "def get_word_lengths(split_text):\n",
    "    '''Returns length of words in characters'''\n",
    "    return np.array([len(x) for x in split_text], dtype=int)\n",
    "\n",
    "def get_word_length_stats(text):\n",
    "    '''Returns various stats for words in document'''\n",
    "    #Split text here, to reduce function calls.\n",
    "    split_text = split_words(text)\n",
    "    word_lengths = get_word_lengths(split_text)\n",
    "    output = {\n",
    "        'number_of_words' : len(split_text),\n",
    "        'avg_word_len_chars' : np.mean(word_lengths),\n",
    "        'std_word_len_chars' : np.std(word_lengths),\n",
    "        'med_word_len_chars' : np.median(word_lengths)\n",
    "    }\n",
    "    return output\n",
    "\n",
    "print(\"Test word lengths\")\n",
    "get_word_length_stats(string)"
   ]
  },
  {
   "cell_type": "markdown",
   "metadata": {},
   "source": [
    "### Word frequency\n",
    "Get word frequencies with TF-IDF weightings.\n",
    "\n",
    "Word frequency is the same as word unigrams - defined later."
   ]
  },
  {
   "cell_type": "code",
   "execution_count": 6,
   "metadata": {
    "execution": {
     "iopub.execute_input": "2022-05-17T11:20:02.800504Z",
     "iopub.status.busy": "2022-05-17T11:20:02.799791Z",
     "iopub.status.idle": "2022-05-17T11:20:02.809215Z",
     "shell.execute_reply": "2022-05-17T11:20:02.807963Z",
     "shell.execute_reply.started": "2022-05-17T11:20:02.800424Z"
    },
    "tags": []
   },
   "outputs": [],
   "source": [
    "def get_tfidf_names(vectorizer, X, h=5):\n",
    "    ngrams = vectorizer.get_feature_names_out()\n",
    "    dense = X.todense()\n",
    "    denselist = dense.tolist()\n",
    "    df = pd.DataFrame(denselist, columns=ngrams)\n",
    "    display(df.head(h))"
   ]
  },
  {
   "cell_type": "markdown",
   "metadata": {},
   "source": [
    "### Hapax legomena\n",
    "Count how many unique words are in a document."
   ]
  },
  {
   "cell_type": "code",
   "execution_count": 7,
   "metadata": {
    "execution": {
     "iopub.execute_input": "2022-05-17T11:20:03.435880Z",
     "iopub.status.busy": "2022-05-17T11:20:03.435112Z",
     "iopub.status.idle": "2022-05-17T11:20:03.443413Z",
     "shell.execute_reply": "2022-05-17T11:20:03.442479Z",
     "shell.execute_reply.started": "2022-05-17T11:20:03.435819Z"
    },
    "tags": []
   },
   "outputs": [],
   "source": [
    "def get_num_hapax(split_text):\n",
    "    '''Returns the numer of hapax legomena, takes a split words as input'''\n",
    "    fdist = nltk.probability.FreqDist(split_text)\n",
    "    return len(fdist.hapaxes())"
   ]
  },
  {
   "cell_type": "markdown",
   "metadata": {},
   "source": [
    "### Lexical diversity\n",
    "Compute single-values describing the lexical diversities."
   ]
  },
  {
   "cell_type": "code",
   "execution_count": 8,
   "metadata": {
    "execution": {
     "iopub.execute_input": "2022-05-17T11:20:04.573227Z",
     "iopub.status.busy": "2022-05-17T11:20:04.572740Z",
     "iopub.status.idle": "2022-05-17T11:20:04.588132Z",
     "shell.execute_reply": "2022-05-17T11:20:04.587440Z",
     "shell.execute_reply.started": "2022-05-17T11:20:04.573176Z"
    },
    "tags": []
   },
   "outputs": [],
   "source": [
    "def compute_lix(text):\n",
    "    tokens = nltk.word_tokenize(text)\n",
    "    splt = text.split()\n",
    "    o = len(splt)+1\n",
    "    p = len([x for x in tokens if x=='.'])+1\n",
    "    l = len([x for x in tokens if len(x)>6])+1\n",
    "    \n",
    "    return (o/p)+((l*100)/o)\n",
    "\n",
    "def lexical_diversities(text):\n",
    "    '''Returns a dictionary with various vocabulary richness measures'''\n",
    "    lex = LexicalRichness(text, tokenizer=split_words)\n",
    "    try:\n",
    "        dugast = lex.Dugast\n",
    "    except:\n",
    "        dugast = 0\n",
    "    \n",
    "    try:\n",
    "        herdan = lex.Herdan\n",
    "    except:\n",
    "        herdan = 0\n",
    "    \n",
    "    try:\n",
    "        summer = lex.Summer\n",
    "    except:\n",
    "        summer = 0\n",
    "    \n",
    "    try:\n",
    "        maas = lex.Maas\n",
    "    except:\n",
    "        maas = 0\n",
    "    \n",
    "    try:\n",
    "        ttr = lex.ttr\n",
    "    except:\n",
    "        ttr = 0\n",
    "    \n",
    "    try:\n",
    "        rttr = lex.rttr\n",
    "    except:\n",
    "        rttr = 0\n",
    "    \n",
    "    try:\n",
    "        cttr = lex.cttr\n",
    "    except:\n",
    "        cttr = 0\n",
    "        \n",
    "    output = {\n",
    "        'ttr' : ttr,\n",
    "        'rttr' : rttr,\n",
    "        'cttr' : cttr,\n",
    "        'herdan' : herdan,\n",
    "        'summer' : summer,\n",
    "        'dugast' : dugast,\n",
    "        'maas' : maas,\n",
    "        'lix' : compute_lix(text)\n",
    "    }\n",
    "    return output"
   ]
  },
  {
   "cell_type": "code",
   "execution_count": 9,
   "metadata": {
    "execution": {
     "iopub.execute_input": "2022-05-17T11:20:04.972120Z",
     "iopub.status.busy": "2022-05-17T11:20:04.971672Z",
     "iopub.status.idle": "2022-05-17T11:20:05.264585Z",
     "shell.execute_reply": "2022-05-17T11:20:05.263943Z",
     "shell.execute_reply.started": "2022-05-17T11:20:04.972071Z"
    },
    "tags": []
   },
   "outputs": [
    {
     "name": "stderr",
     "output_type": "stream",
     "text": [
      "[nltk_data] Downloading package punkt to /home/ucloud/nltk_data...\n",
      "[nltk_data]   Package punkt is already up-to-date!\n"
     ]
    },
    {
     "data": {
      "text/plain": [
       "<matplotlib.legend.Legend at 0x7f2336179820>"
      ]
     },
     "execution_count": 9,
     "metadata": {},
     "output_type": "execute_result"
    },
    {
     "data": {
      "image/png": "[encoded data removed]",
      "text/plain": [
       "<Figure size 720x432 with 1 Axes>"
      ]
     },
     "metadata": {
      "needs_background": "light"
     },
     "output_type": "display_data"
    }
   ],
   "source": [
    "nltk.download('punkt')\n",
    "stats = [lexical_diversities(x) for x in train_corpus]\n",
    "\n",
    "ttr = [x['ttr'] for x in stats]\n",
    "rttr = [x['rttr'] for x in stats]\n",
    "cttr = [x['cttr'] for x in stats]\n",
    "herdan = [x['herdan'] for x in stats]\n",
    "summer = [x['summer'] for x in stats]\n",
    "maas = [x['maas'] for x in stats]\n",
    "lix = [x['lix'] for x in stats]\n",
    "\n",
    "fig = plt.figure(figsize=(10,6))\n",
    "plt.plot(ttr, label='ttr')\n",
    "plt.plot(rttr, label='rttr')\n",
    "plt.plot(cttr, label='cttr')\n",
    "plt.plot(herdan, label='herdan')\n",
    "plt.plot(summer, label='summer')\n",
    "plt.plot(maas, label='maas')\n",
    "plt.plot(lix, label='lix')\n",
    "plt.legend()"
   ]
  },
  {
   "cell_type": "markdown",
   "metadata": {},
   "source": [
    "# LDA Topic\n",
    "Generate topics using LDA"
   ]
  },
  {
   "cell_type": "code",
   "execution_count": 10,
   "metadata": {
    "execution": {
     "iopub.execute_input": "2022-05-17T11:20:06.697581Z",
     "iopub.status.busy": "2022-05-17T11:20:06.696701Z",
     "iopub.status.idle": "2022-05-17T11:20:06.749995Z",
     "shell.execute_reply": "2022-05-17T11:20:06.748581Z",
     "shell.execute_reply.started": "2022-05-17T11:20:06.697517Z"
    },
    "tags": []
   },
   "outputs": [],
   "source": [
    "from gensim.corpora import Dictionary\n",
    "from gensim.models.ldamulticore import LdaModel\n",
    "\n",
    "with open('function_words/clean_function_words.txt', 'r', encoding='utf-8') as f:\n",
    "    func_words = f.readlines()\n",
    "    func_words = [x.replace('\\n','') for x in func_words]\n",
    "\n",
    "def remove_symbols(text):\n",
    "    return re.sub('\\W+',' ', text)"
   ]
  },
  {
   "cell_type": "code",
   "execution_count": 11,
   "metadata": {
    "execution": {
     "iopub.execute_input": "2022-05-17T11:20:08.138124Z",
     "iopub.status.busy": "2022-05-17T11:20:08.137620Z",
     "iopub.status.idle": "2022-05-17T11:20:08.151795Z",
     "shell.execute_reply": "2022-05-17T11:20:08.150902Z",
     "shell.execute_reply.started": "2022-05-17T11:20:08.138070Z"
    },
    "tags": []
   },
   "outputs": [],
   "source": [
    "def tokenize_docs_for_lda(corpus, verbose=True):\n",
    "    if verbose:\n",
    "        docs = [remove_symbols(x) for x in tqdm(corpus)] # Remove symbols\n",
    "        docs = [split_words(x.lower().strip()) for x in tqdm(docs)] #Word tokenize all text\n",
    "        docs = [[token for token in doc if not token.isnumeric()] for doc in tqdm(docs)] #Remove numbers\n",
    "        docs = [[token for token in doc if len(token)>1] for doc in tqdm(docs)] #Remove words of 1 character\n",
    "        docs = [[token for token in doc if token not in func_words] for doc in tqdm(docs)] #Filter stop words\n",
    "    else:\n",
    "        docs = [remove_symbols(x) for x in corpus] # Remove symbols\n",
    "        docs = [split_words(x.lower().strip()) for x in docs] #Word tokenize all text\n",
    "        docs = [[token for token in doc if not token.isnumeric()] for doc in docs] #Remove numbers\n",
    "        docs = [[token for token in doc if len(token)>1] for doc in docs] #Remove words of 1 character\n",
    "        docs = [[token for token in doc if token not in func_words] for doc in docs] #Filter stop words\n",
    "    return docs"
   ]
  },
  {
   "cell_type": "code",
   "execution_count": 12,
   "metadata": {
    "execution": {
     "iopub.execute_input": "2022-05-17T11:20:08.819816Z",
     "iopub.status.busy": "2022-05-17T11:20:08.819341Z",
     "iopub.status.idle": "2022-05-17T11:20:08.837859Z",
     "shell.execute_reply": "2022-05-17T11:20:08.837123Z",
     "shell.execute_reply.started": "2022-05-17T11:20:08.819765Z"
    },
    "tags": []
   },
   "outputs": [],
   "source": [
    "import time\n",
    "\n",
    "def create_lda_dictionary(docs):\n",
    "    dictionary = Dictionary(docs)\n",
    "    #Remove words that occur in less than 20 documents and more than 10% of all documents\n",
    "    dictionary.filter_extremes(no_below=20, no_above=0.1)\n",
    "    print(\"Creating dictionary...\")\n",
    "    corpus = [dictionary.doc2bow(doc) for doc in tqdm(docs)]\n",
    "    print(\"Number of unique tokens:\", len(dictionary))\n",
    "    print(\"Number of documents:\", len(corpus))\n",
    "    return dictionary, corpus\n",
    "\n",
    "def create_lda_model(docs, num_topics, epochs, save=False, load_path=None, verbose=False):\n",
    "    '''Returns LDA model and dictionary'''\n",
    "        \n",
    "    #Get data (only for file name if saved)\n",
    "    date = [x for x in time.localtime()]\n",
    "    date = str(date[2])+'-'+str(date[1])+'-'+str(date[0])\n",
    "\n",
    "    \n",
    "    #Tokenize corpus, if raw text is given.\n",
    "    if type(docs[0]) == str:\n",
    "        print(\"You provided raw text. Tokenizing first...\")\n",
    "        docs = tokenize_docs_for_lda(docs, verbose=verbose)\n",
    "        print(\"Tokenized!\")\n",
    "    \n",
    "    #Create dictionary\n",
    "    dictionary, corpus = create_lda_dictionary(docs)\n",
    "    assert len(dictionary) > 0, \"Oh no! No unique words... You need more text!\"\n",
    "    \n",
    "    if load_path:\n",
    "        print(\"Loading LDA model\", load_path)\n",
    "        return models.ldamodel.LdaModel.load(load_path), dictionary\n",
    "    \n",
    "    num_topics = num_topics\n",
    "    chunksize = 2000 #2k\n",
    "    passes = epochs #(epochs)\n",
    "    iterations = 400 #400\n",
    "    eval_every = 2\n",
    "    \n",
    "    _ = dictionary[0] #Initializes some values, necessary for model...\n",
    "    id2word = dictionary.id2token\n",
    "    model_name = \"LDA\"+date\n",
    "    print(\"LDA model in progress...\")\n",
    "    model = LdaModel(corpus=corpus,\n",
    "                    id2word=id2word,\n",
    "                    chunksize=chunksize,\n",
    "                    alpha='auto',\n",
    "                    eta='auto',\n",
    "                    iterations=iterations,\n",
    "                    num_topics=num_topics,\n",
    "                    passes=passes,\n",
    "                    minimum_probability=0.0,\n",
    "                    eval_every=eval_every)\n",
    "    \n",
    "    if save:\n",
    "        model.save('Data/additional/LDAmodel/'+model_name)\n",
    "    \n",
    "    topics = [[', '.join([x[0] for x in model.show_topic(topic)])] for topic in range(model.num_topics)]\n",
    "    for i in range(len(topics)):\n",
    "        print(f\"Topic {i}:\", topics[i][0])\n",
    "    \n",
    "    return model, dictionary"
   ]
  },
  {
   "cell_type": "code",
   "execution_count": 13,
   "metadata": {
    "execution": {
     "iopub.execute_input": "2022-05-17T11:20:09.478059Z",
     "iopub.status.busy": "2022-05-17T11:20:09.477552Z",
     "iopub.status.idle": "2022-05-17T11:20:09.486507Z",
     "shell.execute_reply": "2022-05-17T11:20:09.485263Z",
     "shell.execute_reply.started": "2022-05-17T11:20:09.478004Z"
    },
    "tags": []
   },
   "outputs": [],
   "source": [
    "def predict_topic(article, dictionary, model):\n",
    "    '''Returns the list of possible topics, sorted by score'''\n",
    "    if type(article)==str:\n",
    "        article = tokenize_docs_for_lda([article], verbose=False)[0]\n",
    "    \n",
    "    doc_bow = dictionary.doc2bow(article)\n",
    "    topics = model[doc_bow]\n",
    "    return topics"
   ]
  },
  {
   "cell_type": "markdown",
   "metadata": {},
   "source": [
    "### Function words\n",
    "Computing TF-IDF of documents when they're represented as only the function words that appear in given document."
   ]
  },
  {
   "cell_type": "code",
   "execution_count": 14,
   "metadata": {
    "execution": {
     "iopub.execute_input": "2022-05-17T11:20:10.422525Z",
     "iopub.status.busy": "2022-05-17T11:20:10.421931Z",
     "iopub.status.idle": "2022-05-17T11:20:10.432536Z",
     "shell.execute_reply": "2022-05-17T11:20:10.431536Z",
     "shell.execute_reply.started": "2022-05-17T11:20:10.422472Z"
    },
    "tags": []
   },
   "outputs": [],
   "source": [
    "def train_function_words_vectorizer(trainset, function_words):\n",
    "    \n",
    "    fw_corpus = []\n",
    "    \n",
    "    for document in tqdm(trainset): \n",
    "        fw_document = \"\"\n",
    "        document = remove_symbols(document)\n",
    "        words = document.split() #split text into words\n",
    "        \n",
    "        for word in words: \n",
    "            if word in function_words:\n",
    "                fw_document = fw_document + word + \" \" #concatenate all function words in doc as doc representation\n",
    "        \n",
    "        fw_corpus.append(fw_document)\n",
    "        \n",
    "    \n",
    "    vectorizer = TfidfVectorizer(max_features=1000, analyzer=\"word\")\n",
    "    print(\"Training FW vectorizer...\",rand_emot())\n",
    "    \n",
    "    X = vectorizer.fit_transform(fw_corpus)\n",
    "    print(\"Vectorizer fit!\", rand_emot())\n",
    "    \n",
    "    return X, vectorizer#, fw_corpus"
   ]
  },
  {
   "cell_type": "markdown",
   "metadata": {},
   "source": [
    "# N-Grams\n",
    "A collection of vectorizers for different types of n-grams."
   ]
  },
  {
   "cell_type": "code",
   "execution_count": 15,
   "metadata": {
    "execution": {
     "iopub.execute_input": "2022-05-17T11:20:11.377430Z",
     "iopub.status.busy": "2022-05-17T11:20:11.376826Z",
     "iopub.status.idle": "2022-05-17T11:20:11.388785Z",
     "shell.execute_reply": "2022-05-17T11:20:11.388077Z",
     "shell.execute_reply.started": "2022-05-17T11:20:11.377377Z"
    },
    "tags": []
   },
   "outputs": [],
   "source": [
    "from nltk import skipgrams\n",
    "\n",
    "def skipgram_vectorizer(train_corpus, n, k): #k = step (skip) size\n",
    "    \n",
    "    skipgram_corpus = []\n",
    "    \n",
    "    for doc in train_corpus: \n",
    "        l = list(skipgrams(doc.split(), n, k))\n",
    "        new_doc = ' '.join([' '.join(x) for x in l]) #concatenate skipgrams as new representation of doc\n",
    "        skipgram_corpus.append(new_doc)\n",
    "    \n",
    "    vectorizer = TfidfVectorizer(max_features=1000, analyzer=\"word\", ngram_range=(n,n))\n",
    "    print(f\"Training skipgram (k={k}) vectorizer...\",rand_emot())\n",
    "    \n",
    "    X = vectorizer.fit_transform(skipgram_corpus)\n",
    "    print(\"Vectorizer fit!\", rand_emot())\n",
    "    \n",
    "    ngrams = vectorizer.get_feature_names_out()\n",
    "      \n",
    "    return X, vectorizer #, skipgram_corpus"
   ]
  },
  {
   "cell_type": "code",
   "execution_count": 16,
   "metadata": {
    "execution": {
     "iopub.execute_input": "2022-05-17T11:20:12.199857Z",
     "iopub.status.busy": "2022-05-17T11:20:12.199379Z",
     "iopub.status.idle": "2022-05-17T11:20:13.370607Z",
     "shell.execute_reply": "2022-05-17T11:20:13.369715Z",
     "shell.execute_reply.started": "2022-05-17T11:20:12.199806Z"
    },
    "tags": []
   },
   "outputs": [],
   "source": [
    "POS_tagger_DK = spacy.load(\"da_core_news_md\")"
   ]
  },
  {
   "cell_type": "code",
   "execution_count": 17,
   "metadata": {
    "execution": {
     "iopub.execute_input": "2022-05-17T11:20:13.378522Z",
     "iopub.status.busy": "2022-05-17T11:20:13.378397Z",
     "iopub.status.idle": "2022-05-17T11:20:13.385890Z",
     "shell.execute_reply": "2022-05-17T11:20:13.385338Z",
     "shell.execute_reply.started": "2022-05-17T11:20:13.378507Z"
    },
    "tags": []
   },
   "outputs": [],
   "source": [
    "def word_ngram_vectorizer(train_corpus, n): \n",
    "    #Trains a TF-IDF vectorizer of word n-grams\n",
    "    vectorizer = TfidfVectorizer(max_features=1000, analyzer=\"word\", ngram_range=(n,n))\n",
    "    print(f\"Training word {n}-gram vectorizer...\",rand_emot())\n",
    "    \n",
    "    X = vectorizer.fit_transform(train_corpus)\n",
    "    print(\"Vectorizer fit!\", rand_emot())\n",
    "    \n",
    "    return X, vectorizer\n",
    "\n",
    "def char_ngram_vectorizer(train_corpus, n): \n",
    "    #Trains a TF-IDF vectorizer of character n-grams\n",
    "    vectorizer = TfidfVectorizer(max_features=1000, analyzer=\"char\", ngram_range=(n,n))\n",
    "    print(f\"Training char {n}-gram vectorizer...\",rand_emot())\n",
    "    \n",
    "    X = vectorizer.fit_transform(train_corpus)\n",
    "    print(\"Vectorizer fit!\", rand_emot())\n",
    "      \n",
    "    return X, vectorizer\n",
    "\n",
    "def extract_POS(corpus, load_corpus=None):\n",
    "    POS_corpus = []\n",
    "    if load_corpus:\n",
    "        assert type(load_corpus) == str, \"load_corpus should be a file path to POS-tagget corpus\"\n",
    "        print(\"Loading POS-tagged corpus...\")\n",
    "        with open(load_corpus, 'rb') as f:\n",
    "            POS_corpus = pickle.load(f)\n",
    "            print(\"Loaded!\", rand_emot())\n",
    "        return POS_corpus\n",
    "        \n",
    "    print(\"Extracting POS...\")\n",
    "    \n",
    "    for doc in tqdm(corpus):\n",
    "        tagged_doc = POS_tagger_DK(doc) #tag each document in corpus with POS tags using spacy\n",
    "        POS_list = []\n",
    "\n",
    "        for token in tagged_doc:\n",
    "            POS_list.append(token.pos_)\n",
    "\n",
    "        #concatenate as POS tags for the document\n",
    "        POS_text = \" \".join(POS_list)\n",
    "        POS_corpus.append(POS_text)\n",
    "    return POS_corpus\n",
    "\n",
    "def POS_ngram_vectorizer(POS_corpus, n): \n",
    "    #Trains a TF-IDF vectorizer of POS n-grams. A POS corpus is generated in the function using a tagger for Danish.\n",
    "   \n",
    "    vectorizer = TfidfVectorizer(max_features=1000, analyzer=\"word\", ngram_range=(n,n))\n",
    "    print(f\"Training POS {n}-gram vectorizer...\",rand_emot())\n",
    "    \n",
    "    X = vectorizer.fit_transform(POS_corpus)\n",
    "    print(\"Vectorizer fit!\", rand_emot())\n",
    "\n",
    "    return X, vectorizer"
   ]
  },
  {
   "cell_type": "code",
   "execution_count": 18,
   "metadata": {
    "execution": {
     "iopub.execute_input": "2022-05-17T11:20:14.709205Z",
     "iopub.status.busy": "2022-05-17T11:20:14.708698Z",
     "iopub.status.idle": "2022-05-17T11:20:14.717467Z",
     "shell.execute_reply": "2022-05-17T11:20:14.716613Z",
     "shell.execute_reply.started": "2022-05-17T11:20:14.709152Z"
    },
    "tags": []
   },
   "outputs": [],
   "source": [
    "# Gets weights for terms based on trained vectorizer\n",
    "# Works for both word and character ngrams\n",
    "def get_tfidf_ngrams(vectorizer, test_corpus):\n",
    "    '''Returns the TF-IDF weighted ngram frequencies of test documents'''\n",
    "    #Multiple texts required\n",
    "    return vectorizer.transform(test_corpus)\n",
    "\n",
    "# Function generates POS test corpus first and then gets weights for terms based on trained vectorizer. \n",
    "def get_tfidf_POS_ngrams(vectorizer, POS_corpus):\n",
    "    '''Returns the TF-IDF weighted ngram frequencies of test documents'''    \n",
    "    #Multiple texts required\n",
    "    return vectorizer.transform(POS_corpus)"
   ]
  },
  {
   "cell_type": "code",
   "execution_count": 19,
   "metadata": {
    "execution": {
     "iopub.execute_input": "2022-05-17T11:20:15.723738Z",
     "iopub.status.busy": "2022-05-17T11:20:15.723273Z",
     "iopub.status.idle": "2022-05-17T11:20:15.733603Z",
     "shell.execute_reply": "2022-05-17T11:20:15.732400Z",
     "shell.execute_reply.started": "2022-05-17T11:20:15.723688Z"
    },
    "tags": []
   },
   "outputs": [],
   "source": [
    "def get_tfidf_function_words(vectorizer, testset):\n",
    "    \n",
    "    fw_corpus = []\n",
    "    \n",
    "    for document in tqdm(testset): \n",
    "        fw_document = \"\"\n",
    "        document = remove_symbols(document)\n",
    "        words = document.split() #split text into words\n",
    "        \n",
    "        for word in words: \n",
    "            if word in func_words: #if word is a function word\n",
    "                fw_document = fw_document + word + \" \" #add word to fw_document - doc represented as the function words that\n",
    "                #appear in it\n",
    "        \n",
    "        fw_corpus.append(fw_document)\n",
    "        \n",
    "    fw_vectorized = get_tfidf_ngrams(vectorizer, fw_corpus)\n",
    "    \n",
    "    return fw_vectorized"
   ]
  },
  {
   "cell_type": "code",
   "execution_count": 20,
   "metadata": {
    "execution": {
     "iopub.execute_input": "2022-05-17T11:20:16.942990Z",
     "iopub.status.busy": "2022-05-17T11:20:16.942479Z",
     "iopub.status.idle": "2022-05-17T11:20:17.105430Z",
     "shell.execute_reply": "2022-05-17T11:20:17.104906Z",
     "shell.execute_reply.started": "2022-05-17T11:20:16.942936Z"
    },
    "tags": []
   },
   "outputs": [],
   "source": [
    "%%capture\n",
    "def train_vectorizers(training_data, POS_corpus_path=None, save=False):\n",
    "    '''Returns 2 dictionaries: vectorizers and weights\n",
    "    Only use this function on training data'''\n",
    "    \n",
    "    #Word n-gram vectorizers\n",
    "    X_word_unigrams, unigram_word_vectorizer = word_ngram_vectorizer(training_data, 1)\n",
    "    X_word_bigrams, bigram_word_vectorizer = word_ngram_vectorizer(training_data, 2)\n",
    "    X_word_trigrams, trigram_word_vectorizer = word_ngram_vectorizer(training_data, 3)\n",
    "    \n",
    "    #Character n-gram vectorizers\n",
    "    X_char_unigrams, unigram_char_vectorizer = char_ngram_vectorizer(training_data, 1)\n",
    "    X_char_bigrams, bigram_char_vectorizer = char_ngram_vectorizer(training_data, 2)\n",
    "    X_char_trigrams, trigram_char_vectorizer = char_ngram_vectorizer(training_data, 3)\n",
    "    \n",
    "    POS_corpus = extract_POS(training_data, load_corpus=POS_corpus_path)\n",
    "    \n",
    "    if save:\n",
    "        with open('Data/backup/POS_corpus.dat', 'wb') as f:\n",
    "            pickle.dump(POS_corpus, f)\n",
    "            print(\"POS corpus saved.\")\n",
    "            \n",
    "    #POS n-gram vectorizers\n",
    "    X_POS_unigrams, unigram_POS_vectorizer = POS_ngram_vectorizer(POS_corpus, 1)\n",
    "    X_POS_bigrams, bigram_POS_vectorizer = POS_ngram_vectorizer(POS_corpus, 2)\n",
    "    X_POS_trigrams, trigram_POS_vectorizer = POS_ngram_vectorizer(POS_corpus, 3)\n",
    "    \n",
    "    #Skip-gram vectorizers\n",
    "    X_skip_1_bigram, skip_1_vectorizer = skipgram_vectorizer(training_data, 2, 1)  \n",
    "    X_skip_2_bigram, skip_2_vectorizer = skipgram_vectorizer(training_data, 2, 2)\n",
    "    X_skip_3_bigram, skip_3_vectorizer = skipgram_vectorizer(training_data, 2, 3)\n",
    "    \n",
    "    #Function word vectorizer\n",
    "    X_function_words, function_words_vectorizer = train_function_words_vectorizer(training_data, func_words)\n",
    "    \n",
    "    \n",
    "    \n",
    "    vectorizers = {\n",
    "        'uni_word' : unigram_word_vectorizer,\n",
    "        'bi_word' : bigram_word_vectorizer,\n",
    "        'tri_word' : trigram_word_vectorizer,\n",
    "        'uni_char' : unigram_char_vectorizer,\n",
    "        'bi_char' : bigram_char_vectorizer,\n",
    "        'tri_char' : trigram_char_vectorizer,\n",
    "        'uni_pos' : unigram_POS_vectorizer,\n",
    "        'bi_pos' : bigram_POS_vectorizer,\n",
    "        'tri_pos' : trigram_POS_vectorizer,\n",
    "        'bi_skip1': skip_1_vectorizer, \n",
    "        'bi_skip2': skip_2_vectorizer, \n",
    "        'bi_skip3': skip_3_vectorizer,\n",
    "        'function_words': function_words_vectorizer\n",
    "    }\n",
    "    \n",
    "    weights = {\n",
    "        'uni_word' : X_word_unigrams,\n",
    "        'bi_word' : X_word_bigrams,\n",
    "        'tri_word' : X_word_trigrams,\n",
    "        'uni_char' : X_char_unigrams,\n",
    "        'bi_char' : X_char_bigrams,\n",
    "        'tri_char' : X_char_trigrams,\n",
    "        'uni_pos' : X_POS_unigrams,\n",
    "        'bi_pos' : X_POS_bigrams,\n",
    "        'tri_pos' : X_POS_trigrams,\n",
    "        'bi_skip1': X_skip_1_bigram, \n",
    "        'bi_skip2': X_skip_2_bigram, \n",
    "        'bi_skip3': X_skip_3_bigram,\n",
    "        'function_words': X_function_words\n",
    "    }\n",
    "    \n",
    "    return vectorizers, weights\n",
    "\n",
    "vectorizers, weights = train_vectorizers(train_corpus)"
   ]
  },
  {
   "cell_type": "code",
   "execution_count": 21,
   "metadata": {
    "execution": {
     "iopub.execute_input": "2022-05-17T11:20:17.658333Z",
     "iopub.status.busy": "2022-05-17T11:20:17.657865Z",
     "iopub.status.idle": "2022-05-17T11:20:17.690824Z",
     "shell.execute_reply": "2022-05-17T11:20:17.690214Z",
     "shell.execute_reply.started": "2022-05-17T11:20:17.658282Z"
    },
    "tags": []
   },
   "outputs": [
    {
     "data": {
      "text/html": [
       "<div>\n",
       "<style scoped>\n",
       "    .dataframe tbody tr th:only-of-type {\n",
       "        vertical-align: middle;\n",
       "    }\n",
       "\n",
       "    .dataframe tbody tr th {\n",
       "        vertical-align: top;\n",
       "    }\n",
       "\n",
       "    .dataframe thead th {\n",
       "        text-align: right;\n",
       "    }\n",
       "</style>\n",
       "<table border=\"1\" class=\"dataframe\">\n",
       "  <thead>\n",
       "    <tr style=\"text-align: right;\">\n",
       "      <th></th>\n",
       "      <th>12</th>\n",
       "      <th>2019</th>\n",
       "      <th>about</th>\n",
       "      <th>al</th>\n",
       "      <th>all</th>\n",
       "      <th>along</th>\n",
       "      <th>and</th>\n",
       "      <th>are</th>\n",
       "      <th>argue</th>\n",
       "      <th>article</th>\n",
       "      <th>...</th>\n",
       "      <th>were</th>\n",
       "      <th>when</th>\n",
       "      <th>which</th>\n",
       "      <th>whole</th>\n",
       "      <th>will</th>\n",
       "      <th>with</th>\n",
       "      <th>word</th>\n",
       "      <th>words</th>\n",
       "      <th>writing</th>\n",
       "      <th>year</th>\n",
       "    </tr>\n",
       "  </thead>\n",
       "  <tbody>\n",
       "    <tr>\n",
       "      <th>0</th>\n",
       "      <td>0.000000</td>\n",
       "      <td>0.000000</td>\n",
       "      <td>0.091857</td>\n",
       "      <td>0.074110</td>\n",
       "      <td>0.000000</td>\n",
       "      <td>0.091857</td>\n",
       "      <td>0.043770</td>\n",
       "      <td>0.000000</td>\n",
       "      <td>0.091857</td>\n",
       "      <td>0.000000</td>\n",
       "      <td>...</td>\n",
       "      <td>0.000000</td>\n",
       "      <td>0.183714</td>\n",
       "      <td>0.000000</td>\n",
       "      <td>0.000000</td>\n",
       "      <td>0.061518</td>\n",
       "      <td>0.183714</td>\n",
       "      <td>0.222329</td>\n",
       "      <td>0.000000</td>\n",
       "      <td>0.091857</td>\n",
       "      <td>0.000000</td>\n",
       "    </tr>\n",
       "    <tr>\n",
       "      <th>1</th>\n",
       "      <td>0.000000</td>\n",
       "      <td>0.000000</td>\n",
       "      <td>0.000000</td>\n",
       "      <td>0.083392</td>\n",
       "      <td>0.000000</td>\n",
       "      <td>0.000000</td>\n",
       "      <td>0.197010</td>\n",
       "      <td>0.000000</td>\n",
       "      <td>0.000000</td>\n",
       "      <td>0.206724</td>\n",
       "      <td>...</td>\n",
       "      <td>0.000000</td>\n",
       "      <td>0.000000</td>\n",
       "      <td>0.000000</td>\n",
       "      <td>0.103362</td>\n",
       "      <td>0.000000</td>\n",
       "      <td>0.000000</td>\n",
       "      <td>0.000000</td>\n",
       "      <td>0.276891</td>\n",
       "      <td>0.000000</td>\n",
       "      <td>0.000000</td>\n",
       "    </tr>\n",
       "    <tr>\n",
       "      <th>2</th>\n",
       "      <td>0.000000</td>\n",
       "      <td>0.126477</td>\n",
       "      <td>0.000000</td>\n",
       "      <td>0.000000</td>\n",
       "      <td>0.000000</td>\n",
       "      <td>0.000000</td>\n",
       "      <td>0.074699</td>\n",
       "      <td>0.000000</td>\n",
       "      <td>0.000000</td>\n",
       "      <td>0.000000</td>\n",
       "      <td>...</td>\n",
       "      <td>0.000000</td>\n",
       "      <td>0.000000</td>\n",
       "      <td>0.156765</td>\n",
       "      <td>0.000000</td>\n",
       "      <td>0.052494</td>\n",
       "      <td>0.000000</td>\n",
       "      <td>0.063239</td>\n",
       "      <td>0.052494</td>\n",
       "      <td>0.000000</td>\n",
       "      <td>0.000000</td>\n",
       "    </tr>\n",
       "    <tr>\n",
       "      <th>3</th>\n",
       "      <td>0.000000</td>\n",
       "      <td>0.000000</td>\n",
       "      <td>0.000000</td>\n",
       "      <td>0.000000</td>\n",
       "      <td>0.000000</td>\n",
       "      <td>0.000000</td>\n",
       "      <td>0.194620</td>\n",
       "      <td>0.109840</td>\n",
       "      <td>0.000000</td>\n",
       "      <td>0.000000</td>\n",
       "      <td>...</td>\n",
       "      <td>0.136144</td>\n",
       "      <td>0.000000</td>\n",
       "      <td>0.000000</td>\n",
       "      <td>0.000000</td>\n",
       "      <td>0.091177</td>\n",
       "      <td>0.000000</td>\n",
       "      <td>0.000000</td>\n",
       "      <td>0.000000</td>\n",
       "      <td>0.000000</td>\n",
       "      <td>0.136144</td>\n",
       "    </tr>\n",
       "    <tr>\n",
       "      <th>4</th>\n",
       "      <td>0.120723</td>\n",
       "      <td>0.097399</td>\n",
       "      <td>0.000000</td>\n",
       "      <td>0.000000</td>\n",
       "      <td>0.120723</td>\n",
       "      <td>0.000000</td>\n",
       "      <td>0.172576</td>\n",
       "      <td>0.097399</td>\n",
       "      <td>0.000000</td>\n",
       "      <td>0.000000</td>\n",
       "      <td>...</td>\n",
       "      <td>0.000000</td>\n",
       "      <td>0.000000</td>\n",
       "      <td>0.000000</td>\n",
       "      <td>0.000000</td>\n",
       "      <td>0.000000</td>\n",
       "      <td>0.000000</td>\n",
       "      <td>0.000000</td>\n",
       "      <td>0.080850</td>\n",
       "      <td>0.000000</td>\n",
       "      <td>0.000000</td>\n",
       "    </tr>\n",
       "  </tbody>\n",
       "</table>\n",
       "<p>5 rows × 197 columns</p>\n",
       "</div>"
      ],
      "text/plain": [
       "         12      2019     about        al       all     along       and  \\\n",
       "0  0.000000  0.000000  0.091857  0.074110  0.000000  0.091857  0.043770   \n",
       "1  0.000000  0.000000  0.000000  0.083392  0.000000  0.000000  0.197010   \n",
       "2  0.000000  0.126477  0.000000  0.000000  0.000000  0.000000  0.074699   \n",
       "3  0.000000  0.000000  0.000000  0.000000  0.000000  0.000000  0.194620   \n",
       "4  0.120723  0.097399  0.000000  0.000000  0.120723  0.000000  0.172576   \n",
       "\n",
       "        are     argue   article  ...      were      when     which     whole  \\\n",
       "0  0.000000  0.091857  0.000000  ...  0.000000  0.183714  0.000000  0.000000   \n",
       "1  0.000000  0.000000  0.206724  ...  0.000000  0.000000  0.000000  0.103362   \n",
       "2  0.000000  0.000000  0.000000  ...  0.000000  0.000000  0.156765  0.000000   \n",
       "3  0.109840  0.000000  0.000000  ...  0.136144  0.000000  0.000000  0.000000   \n",
       "4  0.097399  0.000000  0.000000  ...  0.000000  0.000000  0.000000  0.000000   \n",
       "\n",
       "       will      with      word     words   writing      year  \n",
       "0  0.061518  0.183714  0.222329  0.000000  0.091857  0.000000  \n",
       "1  0.000000  0.000000  0.000000  0.276891  0.000000  0.000000  \n",
       "2  0.052494  0.000000  0.063239  0.052494  0.000000  0.000000  \n",
       "3  0.091177  0.000000  0.000000  0.000000  0.000000  0.136144  \n",
       "4  0.000000  0.000000  0.000000  0.080850  0.000000  0.000000  \n",
       "\n",
       "[5 rows x 197 columns]"
      ]
     },
     "metadata": {},
     "output_type": "display_data"
    }
   ],
   "source": [
    "get_tfidf_names(vectorizers['uni_word'], weights['uni_word'])"
   ]
  },
  {
   "cell_type": "markdown",
   "metadata": {},
   "source": [
    "### Combining features\n",
    "Combine the features into one long as fuck vector!"
   ]
  },
  {
   "cell_type": "code",
   "execution_count": 22,
   "metadata": {
    "execution": {
     "iopub.execute_input": "2022-05-17T11:20:18.863576Z",
     "iopub.status.busy": "2022-05-17T11:20:18.862900Z",
     "iopub.status.idle": "2022-05-17T11:20:18.892129Z",
     "shell.execute_reply": "2022-05-17T11:20:18.891223Z",
     "shell.execute_reply.started": "2022-05-17T11:20:18.863521Z"
    },
    "tags": []
   },
   "outputs": [],
   "source": [
    "def vectorize_test_data(vectorizers, test_data, POS_corpus_path=None):\n",
    "    '''Returns weighted matrices for test data.'''\n",
    "    POS_corpus = extract_POS(test_data, load_corpus=POS_corpus_path)\n",
    "    weights = {}\n",
    "    for vectorizer in tqdm(vectorizers):\n",
    "        if 'pos' in vectorizer:\n",
    "            weights[vectorizer] = get_tfidf_POS_ngrams(vectorizers[vectorizer], POS_corpus)\n",
    "        if vectorizer == 'function_words': \n",
    "            weights[vectorizer] = get_tfidf_function_words(vectorizers[vectorizer], test_data)\n",
    "        else:\n",
    "            weights[vectorizer] = get_tfidf_ngrams(vectorizers[vectorizer], test_data)\n",
    "    return weights\n",
    "\n",
    "def combine_data(data, train_test, vectorizers=None, POS_corpus_path=None, save=False, LDA_path=None, LDA_model=None, LDA_dict=None):\n",
    "    topics = 22 ##############\n",
    "    lda_epochs = 20\n",
    "    #Trains vectorizers if training data is specified.\n",
    "    if train_test == 'train':\n",
    "        assert vectorizers == None, \"Please do not specify vectorizers when training them!\"\n",
    "        print(\"Training data specified... Training vectorizers!\\n\")\n",
    "        vectorizers, weights = train_vectorizers(data, POS_corpus_path=POS_corpus_path, save=save)\n",
    "        lda_model, lda_dictionary = create_lda_model(data, topics, lda_epochs, save=save, load_path=LDA_path)\n",
    "        \n",
    "    elif train_test == 'test':\n",
    "        assert type(vectorizers) == dict, \"Vectorizers need to be in a dict!\"\n",
    "        assert LDA_model, \"I want a trained LDA model passed as LDA_model for test data!\"\n",
    "        assert LDA_dict, \"I fucking want a LDA dictionary! I don't know what to do with this LDA model without a dictionary!! ... Sorry...\"\n",
    "        print(\"Test data being vectorized...\")\n",
    "        weights = vectorize_test_data(vectorizers, data)\n",
    "        lda_model, lda_dictionary = LDA_model, LDA_dict\n",
    "        \n",
    "    elif train_test == 'load':\n",
    "        assert type(vectorizers) == dict, \"Don't load if you don't have any vectoriers!\"\n",
    "        print(\"You have decided to use loaded vectorizers! How daring...\")\n",
    "        weights = vectorize_test_data(vectorizers, data, POS_corpus_path=POS_corpus_path)\n",
    "        lda_model, lda_dictionary = create_lda_model(data, topics, lda_epochs, save=save, load_path=LDA_path)\n",
    "    else:\n",
    "        print(\"Please specify type of data!\")\n",
    "        return\n",
    "    \n",
    "    if save and train_test == 'train':\n",
    "        with open('Data/backup/vectorizers.dat', 'wb') as f:\n",
    "            pickle.dump(vectorizers, f)\n",
    "        with open('Data/backup/weights_train.dat', 'wb') as f:\n",
    "            pickle.dump(vectorizers, f)\n",
    "    elif save and train_test == 'test':\n",
    "        with open('Data/backup/weights_test.dat', 'wb') as f:\n",
    "            pickle.dump(vectorizers, f)\n",
    "    \n",
    "    feature_indices = []\n",
    "    \n",
    "    topics = np.array([predict_topic(x, lda_dictionary, lda_model) for x in data])\n",
    "    \n",
    "    uni_word = weights['uni_word']\n",
    "    bi_word = weights['bi_word']\n",
    "    tri_word = weights['tri_word']\n",
    "    \n",
    "    uni_char = weights['uni_char']\n",
    "    bi_char = weights['bi_char']\n",
    "    tri_char = weights['tri_char']\n",
    "    \n",
    "    uni_pos = weights['uni_pos']\n",
    "    bi_pos = weights['bi_pos']\n",
    "    tri_pos = weights['tri_pos']\n",
    "    \n",
    "    bi_skip1 = weights['bi_skip1']\n",
    "    bi_skip2 = weights['bi_skip2']\n",
    "    bi_skip3 = weights['bi_skip3']\n",
    "    \n",
    "    tfidf_func = weights['function_words']\n",
    "    \n",
    "    #Stack ngrams\n",
    "    word_ngrams = scipy.sparse.hstack((uni_word, bi_word, tri_word))\n",
    "    char_ngrams = scipy.sparse.hstack((uni_char, bi_char, tri_char))\n",
    "    pos_ngrams = scipy.sparse.hstack((uni_pos, bi_pos, tri_pos))\n",
    "    skip_ngrams = scipy.sparse.hstack((bi_skip1, bi_skip2, bi_skip3))\n",
    "    ngrams = scipy.sparse.hstack((word_ngrams, char_ngrams, pos_ngrams, skip_ngrams, tfidf_func))\n",
    "    print()\n",
    "    print(\"N-grams shape:\", ngrams.shape) \n",
    "    \n",
    "    print(\"TOPICS\")\n",
    "    print(topics.shape)\n",
    "    #Stack scalar features\n",
    "    sentence_stats = [list(get_sentence_length_stats(x).values()) for x in tqdm(data)]\n",
    "    word_stats = [list(get_word_length_stats(x).values()) for x in tqdm(data)]\n",
    "    lexical_diversity = [list(lexical_diversities(x).values()) for x in tqdm(data)]\n",
    "    hapax = [[get_num_hapax(x)] for x in data]\n",
    "    scalars = np.hstack((sentence_stats, word_stats, lexical_diversity,hapax,topics[:,:,1])) #I think the topic is appended correctly\n",
    "    print(\"Scalars shape:\", scalars.shape)\n",
    "    \n",
    "    #Add indices to feature names\n",
    "    [feature_indices.append('uni_word_ngram') for i in range(uni_word.shape[-1])]\n",
    "    [feature_indices.append('bi_word_ngram') for i in range(bi_word.shape[-1])]\n",
    "    [feature_indices.append('tri_word_ngram') for i in range(tri_word.shape[-1])]\n",
    "    [feature_indices.append('uni_char_ngram') for i in range(uni_char.shape[-1])]\n",
    "    [feature_indices.append('bi_char_ngram') for i in range(bi_char.shape[-1])]\n",
    "    [feature_indices.append('tri_char_ngram') for i in range(tri_char.shape[-1])]\n",
    "    [feature_indices.append('uni_pos_ngram') for i in range(uni_pos.shape[-1])]\n",
    "    [feature_indices.append('bi_pos_ngram') for i in range(bi_pos.shape[-1])]\n",
    "    [feature_indices.append('tri_pos_ngram') for i in range(tri_pos.shape[-1])]\n",
    "    [feature_indices.append('bi_1_skipgram') for i in range(bi_skip1.shape[-1])]\n",
    "    [feature_indices.append('bi_2_skipgram') for i in range(bi_skip2.shape[-1])]\n",
    "    [feature_indices.append('bi_3_skipgram') for i in range(bi_skip3.shape[-1])]\n",
    "    [feature_indices.append('tfidf_func_words') for i in range(tfidf_func.shape[-1])]\n",
    "    \n",
    "    #Scalar features\n",
    "    [feature_indices.append(i) for i in get_sentence_length_stats(data[0]).keys()]\n",
    "    [feature_indices.append(i) for i in get_word_length_stats(data[0]).keys()]\n",
    "    [feature_indices.append(i) for i in lexical_diversities(data[0]).keys()]\n",
    "    feature_indices.append('num_hapax')\n",
    "    [feature_indices.append(f'topic {int(i)}') for i in topics[:,:,0][0]]\n",
    "    \n",
    "    return scipy.sparse.hstack((ngrams, scalars)), vectorizers, np.array(feature_indices, dtype=str), (lda_model, lda_dictionary)"
   ]
  },
  {
   "cell_type": "markdown",
   "metadata": {},
   "source": [
    "# Extract the features\n",
    "Extract the features from all the data."
   ]
  },
  {
   "cell_type": "markdown",
   "metadata": {},
   "source": [
    "#### Load the data"
   ]
  },
  {
   "cell_type": "code",
   "execution_count": 23,
   "metadata": {
    "execution": {
     "iopub.execute_input": "2022-05-17T11:20:35.350476Z",
     "iopub.status.busy": "2022-05-17T11:20:35.349966Z",
     "iopub.status.idle": "2022-05-17T11:20:37.339714Z",
     "shell.execute_reply": "2022-05-17T11:20:37.338847Z",
     "shell.execute_reply.started": "2022-05-17T11:20:35.350422Z"
    },
    "tags": []
   },
   "outputs": [
    {
     "data": {
      "application/vnd.jupyter.widget-view+json": {
       "model_id": "6d9b4190781240de89ab4635818e43f3",
       "version_major": 2,
       "version_minor": 0
      },
      "text/plain": [
       "  0%|          | 0/12 [00:00<?, ?it/s]"
      ]
     },
     "metadata": {},
     "output_type": "display_data"
    }
   ],
   "source": [
    "path = 'Data/xtra_clean_domains/'\n",
    "files = os.listdir(path)\n",
    "dataframes = []\n",
    "for file in tqdm(files):\n",
    "    dataframes.append(pd.read_json(path+'/'+file))\n",
    "\n",
    "dataframe = pd.concat(dataframes)\n",
    "#del dataframe['level_0']\n",
    "#del dataframe['index']\n",
    "pd.set_option('display.max_colwidth', 400)"
   ]
  },
  {
   "cell_type": "code",
   "execution_count": 24,
   "metadata": {
    "execution": {
     "iopub.execute_input": "2022-05-17T11:20:38.463998Z",
     "iopub.status.busy": "2022-05-17T11:20:38.463510Z",
     "iopub.status.idle": "2022-05-17T11:20:38.472434Z",
     "shell.execute_reply": "2022-05-17T11:20:38.471330Z",
     "shell.execute_reply.started": "2022-05-17T11:20:38.463944Z"
    },
    "tags": []
   },
   "outputs": [
    {
     "data": {
      "text/plain": [
       "118216"
      ]
     },
     "execution_count": 24,
     "metadata": {},
     "output_type": "execute_result"
    }
   ],
   "source": [
    "len(dataframe)"
   ]
  },
  {
   "cell_type": "markdown",
   "metadata": {},
   "source": [
    "#### Split into train/test data"
   ]
  },
  {
   "cell_type": "code",
   "execution_count": 25,
   "metadata": {
    "execution": {
     "iopub.execute_input": "2022-05-17T11:20:40.031250Z",
     "iopub.status.busy": "2022-05-17T11:20:40.030590Z",
     "iopub.status.idle": "2022-05-17T11:20:40.036578Z",
     "shell.execute_reply": "2022-05-17T11:20:40.035570Z",
     "shell.execute_reply.started": "2022-05-17T11:20:40.031193Z"
    },
    "tags": []
   },
   "outputs": [],
   "source": [
    "# with open('Data/backup/vectorizers.dat', 'rb') as f:\n",
    "#     vectorizers = pickle.load(f)"
   ]
  },
  {
   "cell_type": "code",
   "execution_count": 27,
   "metadata": {
    "execution": {
     "iopub.execute_input": "2022-05-17T11:21:12.406401Z",
     "iopub.status.busy": "2022-05-17T11:21:12.405828Z",
     "iopub.status.idle": "2022-05-17T14:54:00.012745Z",
     "shell.execute_reply": "2022-05-17T14:54:00.011385Z",
     "shell.execute_reply.started": "2022-05-17T11:21:12.406344Z"
    },
    "scrolled": true,
    "tags": []
   },
   "outputs": [
    {
     "name": "stdout",
     "output_type": "stream",
     "text": [
      "Training data specified... Training vectorizers!\n",
      "\n",
      "Training word 1-gram vectorizer... :o\n",
      "Vectorizer fit! (o_o)\n",
      "Training word 2-gram vectorizer... ( ◡́.◡̀)\n",
      "Vectorizer fit! ( ◡́.◡̀)\n",
      "Training word 3-gram vectorizer... (⌐■_■)\n",
      "Vectorizer fit! :-)\n",
      "Training char 1-gram vectorizer... *<:-)\n",
      "Vectorizer fit! :P\n",
      "Training char 2-gram vectorizer... x)\n",
      "Vectorizer fit! OwO\n",
      "Training char 3-gram vectorizer... :D\n",
      "Vectorizer fit! :P\n",
      "Extracting POS...\n"
     ]
    },
    {
     "data": {
      "application/vnd.jupyter.widget-view+json": {
       "model_id": "010f3d56554849569efe48a38dc67329",
       "version_major": 2,
       "version_minor": 0
      },
      "text/plain": [
       "  0%|          | 0/94572 [00:00<?, ?it/s]"
      ]
     },
     "metadata": {},
     "output_type": "display_data"
    },
    {
     "name": "stdout",
     "output_type": "stream",
     "text": [
      "POS corpus saved.\n",
      "Training POS 1-gram vectorizer... (o_o)\n",
      "Vectorizer fit! ( ͡❛ ͜ʖ ͡❛)\n",
      "Training POS 2-gram vectorizer... ( ≖.≖)\n",
      "Vectorizer fit! (̶◉͛‿◉̶)\n",
      "Training POS 3-gram vectorizer... OwO\n",
      "Vectorizer fit! :)\n",
      "Training skipgram (k=1) vectorizer... ʕ•́ᴥ•̀ʔっ\n",
      "Vectorizer fit! ¯\\_(ツ)_/¯\n",
      "Training skipgram (k=2) vectorizer... OwO\n",
      "Vectorizer fit! OwO\n",
      "Training skipgram (k=3) vectorizer... (T_T)\n",
      "Vectorizer fit! ^_^\n"
     ]
    },
    {
     "data": {
      "application/vnd.jupyter.widget-view+json": {
       "model_id": "d1706e5b0cec41b7800e590435e9232e",
       "version_major": 2,
       "version_minor": 0
      },
      "text/plain": [
       "  0%|          | 0/94572 [00:00<?, ?it/s]"
      ]
     },
     "metadata": {},
     "output_type": "display_data"
    },
    {
     "name": "stdout",
     "output_type": "stream",
     "text": [
      "Training FW vectorizer... (o_o)\n",
      "Vectorizer fit! *<:-)\n",
      "You provided raw text. Tokenizing first...\n",
      "Tokenized!\n",
      "Creating dictionary...\n"
     ]
    },
    {
     "data": {
      "application/vnd.jupyter.widget-view+json": {
       "model_id": "1cd110c3dea24ee8979be362de808936",
       "version_major": 2,
       "version_minor": 0
      },
      "text/plain": [
       "  0%|          | 0/94572 [00:00<?, ?it/s]"
      ]
     },
     "metadata": {},
     "output_type": "display_data"
    },
    {
     "name": "stdout",
     "output_type": "stream",
     "text": [
      "Number of unique tokens: 53672\n",
      "Number of documents: 94572\n",
      "LDA model in progress...\n",
      "Topic 0: børn, liv, unge, kvinder, far, ja, mor, virkelig, familie, familien\n",
      "Topic 1: kr, pct, mio, selskabet, kunder, mia, virksomheden, bank, skat, virksomheder\n",
      "Topic 2: offentlige, fokus, ansatte, virksomheder, medarbejdere, samarbejde, skabe, sikre, medlemmer, formand\n",
      "Topic 3: eu, europa, europæiske, lande, brexit, debat, kommissionen, tyske, parlamentet, bruxelles\n",
      "Topic 4: politiet, politi, årig, klokken, sagen, personer, skete, fundet, aften, manden\n",
      "Topic 5: aarhus, dr, kim, jesper, jan, skole, pedersen, jacob, elever, skolen\n",
      "Topic 6: blot, findes, ofte, væk, ganske, side, steder, små, fleste, form\n",
      "Topic 7: film, filmen, serien, oscar, instruktør, erne, serie, sæson, spiller, netflix\n",
      "Topic 8: it, data, kina, fn, system, systemet, kinesiske, teknologi, systemer, flygtninge\n",
      "Topic 9: festival, årets, publikum, scenen, koncert, roskilde, musik, live, navne, koncerter\n",
      "Topic 10: kommune, kommunen, området, københavn, byen, odense, lokale, by, helsingør, varde\n",
      "Topic 11: mad, is, øl, syrien, spise, kurdiske, restaurant, kød, franske, restauranter\n",
      "Topic 12: prins, google, facebook, microsoft, nettet, apple, brugere, digitale, windows, dronning\n",
      "Topic 13: biler, energi, grønne, bil, koster, bruger, bruges, køre, kører, bilen\n",
      "Topic 14: peter, lars, henrik, thomas, nielsen, søren, jensen, michael, christian, københavn\n",
      "Topic 15: of, in, and, on, you, all, is, me, it, black\n",
      "Topic 16: mål, kampen, hold, vm, kamp, spiller, holdet, vandt, point, kampe\n",
      "Topic 17: sagen, medier, sag, sager, fejl, oplysninger, spørgsmål, kritik, regler, svar\n",
      "Topic 18: regeringen, venstre, overblik, politiske, mette, dagens, folketinget, politisk, frederiksen, politik\n",
      "Topic 19: album, sange, sang, musik, albummet, video, sangen, numre, nummer, synger\n",
      "Topic 20: usa, amerikanske, trump, præsident, new, rusland, york, britiske, john, donald\n",
      "Topic 21: antallet, tal, corona, region, uge, danskere, landet, ramt, antal, personer\n",
      "\n",
      "N-grams shape: (94572, 10326)\n",
      "TOPICS\n",
      "(94572, 22, 2)\n"
     ]
    },
    {
     "data": {
      "application/vnd.jupyter.widget-view+json": {
       "model_id": "cd764e89fc15447e9038feefff98699b",
       "version_major": 2,
       "version_minor": 0
      },
      "text/plain": [
       "  0%|          | 0/94572 [00:00<?, ?it/s]"
      ]
     },
     "metadata": {},
     "output_type": "display_data"
    },
    {
     "data": {
      "application/vnd.jupyter.widget-view+json": {
       "model_id": "be2a78fff3ee444d917f82ff70617731",
       "version_major": 2,
       "version_minor": 0
      },
      "text/plain": [
       "  0%|          | 0/94572 [00:00<?, ?it/s]"
      ]
     },
     "metadata": {},
     "output_type": "display_data"
    },
    {
     "data": {
      "application/vnd.jupyter.widget-view+json": {
       "model_id": "c059be4331d945829a84f0d3297cb724",
       "version_major": 2,
       "version_minor": 0
      },
      "text/plain": [
       "  0%|          | 0/94572 [00:00<?, ?it/s]"
      ]
     },
     "metadata": {},
     "output_type": "display_data"
    },
    {
     "name": "stdout",
     "output_type": "stream",
     "text": [
      "Scalars shape: (94572, 42)\n",
      "Training data done!\n",
      "--------------------------------------------------\n",
      "\n",
      "CPU times: user 18h 6min 48s, sys: 2d 23h 9min, total: 3d 17h 15min 48s\n",
      "Wall time: 3h 32min 47s\n"
     ]
    }
   ],
   "source": [
    "%%time\n",
    "extract = True\n",
    "if extract:\n",
    "    bodies = list(dataframe[\"Body\"])\n",
    "    target = list(dataframe[\"Domain\"])\n",
    "    \n",
    "    \n",
    "    #Convert names to categories\n",
    "    \n",
    "    le = LabelEncoder()\n",
    "    target_indices = le.fit_transform(target)\n",
    "    \n",
    "    y2str = {}\n",
    "    for i, ind in enumerate(target_indices):\n",
    "        if str(ind) not in y2str.keys():\n",
    "            y2str[str(ind)] = target[i]\n",
    "    str2y = {v: k for k, v in y2str.items()}\n",
    "\n",
    "    train_X, test_X, train_y, test_y = train_test_split(bodies, target_indices, test_size=0.2, random_state=42, stratify=target_indices)\n",
    "    \n",
    "    train_X, vectorizers, feature_names, lda_vars = combine_data(train_X, 'train', save=True)#, POS_corpus_path='Data/backup/POS_corpus.dat', vectorizers=vectorizers)#, POS_corpus_path='Data/backup/POS_corpus.dat') #LOADING, NOT TRAINING\n",
    "    print(\"Training data done!\")\n",
    "    print(\"-\"*50)\n",
    "    print()\n",
    "    \n",
    "    feat_path = 'Data/additional/features/'\n",
    "    np.save(feat_path+'trainX', train_X)\n",
    "    np.save(feat_path+'trainY', train_y)\n",
    "    np.save(feat_path+'feature_names', feature_names)\n",
    "    with open(feat_path+\"index_to_label.dat\", \"wb\") as index_to_label:\n",
    "        pickle.dump(y2str,index_to_label)\n",
    "    \n",
    "    with open(feat_path+\"label_to_index.dat\", \"wb\") as label_to_index:\n",
    "        pickle.dump(str2y, label_to_index)\n",
    "    \n",
    "    \n",
    "#     test_X, _, _, lda_test_vars = combine_data(test_X, 'test', vectorizers=vectorizers, LDA_model=lda_vars[0], LDA_dict=lda_vars[1])\n",
    "    \n",
    "#     print(\"Train shape:\", train_X.shape)\n",
    "#     print(\"Test shape:\", test_X.shape)"
   ]
  },
  {
   "cell_type": "code",
   "execution_count": 28,
   "metadata": {
    "execution": {
     "iopub.execute_input": "2022-05-17T14:54:10.486456Z",
     "iopub.status.busy": "2022-05-17T14:54:10.486240Z",
     "iopub.status.idle": "2022-05-17T15:19:30.653789Z",
     "shell.execute_reply": "2022-05-17T15:19:30.652487Z",
     "shell.execute_reply.started": "2022-05-17T14:54:10.486429Z"
    },
    "tags": []
   },
   "outputs": [
    {
     "name": "stdout",
     "output_type": "stream",
     "text": [
      "Test data being vectorized...\n",
      "Extracting POS...\n"
     ]
    },
    {
     "data": {
      "application/vnd.jupyter.widget-view+json": {
       "model_id": "4d539455d9a240c7a6a1bb37251742f9",
       "version_major": 2,
       "version_minor": 0
      },
      "text/plain": [
       "  0%|          | 0/23644 [00:00<?, ?it/s]"
      ]
     },
     "metadata": {},
     "output_type": "display_data"
    },
    {
     "data": {
      "application/vnd.jupyter.widget-view+json": {
       "model_id": "f38e304f6f814fef9f38143bea837a5c",
       "version_major": 2,
       "version_minor": 0
      },
      "text/plain": [
       "  0%|          | 0/13 [00:00<?, ?it/s]"
      ]
     },
     "metadata": {},
     "output_type": "display_data"
    },
    {
     "data": {
      "application/vnd.jupyter.widget-view+json": {
       "model_id": "52936879d7a941769563dfacb531bacb",
       "version_major": 2,
       "version_minor": 0
      },
      "text/plain": [
       "  0%|          | 0/23644 [00:00<?, ?it/s]"
      ]
     },
     "metadata": {},
     "output_type": "display_data"
    },
    {
     "name": "stdout",
     "output_type": "stream",
     "text": [
      "\n",
      "N-grams shape: (23644, 10326)\n",
      "TOPICS\n",
      "(23644, 22, 2)\n"
     ]
    },
    {
     "data": {
      "application/vnd.jupyter.widget-view+json": {
       "model_id": "25f3baa009bd4f6fb45c3a4ad2ef7da7",
       "version_major": 2,
       "version_minor": 0
      },
      "text/plain": [
       "  0%|          | 0/23644 [00:00<?, ?it/s]"
      ]
     },
     "metadata": {},
     "output_type": "display_data"
    },
    {
     "data": {
      "application/vnd.jupyter.widget-view+json": {
       "model_id": "ea8c23783d7a469b90ae93f2b2b239ae",
       "version_major": 2,
       "version_minor": 0
      },
      "text/plain": [
       "  0%|          | 0/23644 [00:00<?, ?it/s]"
      ]
     },
     "metadata": {},
     "output_type": "display_data"
    },
    {
     "data": {
      "application/vnd.jupyter.widget-view+json": {
       "model_id": "673f9649a9644f088fc60c4bdf9acc29",
       "version_major": 2,
       "version_minor": 0
      },
      "text/plain": [
       "  0%|          | 0/23644 [00:00<?, ?it/s]"
      ]
     },
     "metadata": {},
     "output_type": "display_data"
    },
    {
     "name": "stdout",
     "output_type": "stream",
     "text": [
      "Scalars shape: (23644, 42)\n",
      "Train shape: (94572, 10368)\n",
      "Test shape: (23644, 10368)\n",
      "CPU times: user 37min 59s, sys: 1h 4min 35s, total: 1h 42min 35s\n",
      "Wall time: 25min 20s\n"
     ]
    }
   ],
   "source": [
    "%%time\n",
    "test_X, _, _, lda_test_vars = combine_data(test_X, 'test', vectorizers=vectorizers, LDA_model=lda_vars[0], LDA_dict=lda_vars[1])\n",
    "    \n",
    "print(\"Train shape:\", train_X.shape)\n",
    "print(\"Test shape:\", test_X.shape)\n",
    "np.save(feat_path+'testX', test_X)\n",
    "np.save(feat_path+'testY', test_y)"
   ]
  },
  {
   "cell_type": "code",
   "execution_count": null,
   "metadata": {
    "execution": {
     "iopub.status.busy": "2022-05-16T08:09:41.366315Z",
     "iopub.status.idle": "2022-05-16T08:09:41.366539Z",
     "shell.execute_reply": "2022-05-16T08:09:41.366433Z",
     "shell.execute_reply.started": "2022-05-16T08:09:41.366421Z"
    },
    "tags": []
   },
   "outputs": [],
   "source": [
    "# feat_path = 'Data/additional/features/'\n",
    "# np.save(feat_path+'trainX', train_X)\n",
    "# np.save(feat_path+'trainY', train_y)\n",
    "# np.save(feat_path+'feature_names', feature_names)\n",
    "\n",
    "# with open(feat_path+\"index_to_label.dat\", \"wb\") as index_to_label:\n",
    "#     pickle.dump(y2str,index_to_label)\n",
    "    \n",
    "# with open(feat_path+\"label_to_index.dat\", \"wb\") as label_to_index:\n",
    "#     pickle.dump(str2y, label_to_index)\n",
    "\n",
    "\n",
    "# test_X, _, _, lda_test_vars = combine_data(test_X, 'test', vectorizers=vectorizers, LDA_model=lda_vars[0], LDA_dict=lda_vars[1])\n",
    "\n",
    "# print(\"Train shape:\", train_X.shape)\n",
    "# print(\"Test shape:\", test_X.shape)"
   ]
  },
  {
   "cell_type": "code",
   "execution_count": null,
   "metadata": {
    "execution": {
     "iopub.status.busy": "2022-05-16T08:09:41.367138Z",
     "iopub.status.idle": "2022-05-16T08:09:41.367337Z",
     "shell.execute_reply": "2022-05-16T08:09:41.367248Z",
     "shell.execute_reply.started": "2022-05-16T08:09:41.367237Z"
    },
    "tags": []
   },
   "outputs": [],
   "source": [
    "# with open(\"train_y.dat\", \"wb\") as train_target:\n",
    "#     pickle.dump(train_y, train_target)\n",
    "    \n",
    "# with open(\"test_y.dat\", \"wb\") as test_target:\n",
    "#     pickle.dump(test_y, test_target)    "
   ]
  },
  {
   "cell_type": "code",
   "execution_count": 43,
   "metadata": {
    "execution": {
     "iopub.execute_input": "2022-05-16T15:18:36.527335Z",
     "iopub.status.busy": "2022-05-16T15:18:36.527191Z",
     "iopub.status.idle": "2022-05-16T15:18:36.546094Z",
     "shell.execute_reply": "2022-05-16T15:18:36.545385Z",
     "shell.execute_reply.started": "2022-05-16T15:18:36.527317Z"
    },
    "tags": []
   },
   "outputs": [
    {
     "ename": "FileNotFoundError",
     "evalue": "[Errno 2] No such file or directory: 'Data/additional/features/testX.npy'",
     "output_type": "error",
     "traceback": [
      "\u001b[0;31m---------------------------------------------------------------------------\u001b[0m",
      "\u001b[0;31mFileNotFoundError\u001b[0m                         Traceback (most recent call last)",
      "Input \u001b[0;32mIn [43]\u001b[0m, in \u001b[0;36m<cell line: 4>\u001b[0;34m()\u001b[0m\n\u001b[1;32m      1\u001b[0m feat_path \u001b[38;5;241m=\u001b[39m \u001b[38;5;124m'\u001b[39m\u001b[38;5;124mData/additional/features/\u001b[39m\u001b[38;5;124m'\u001b[39m\n\u001b[1;32m      2\u001b[0m \u001b[38;5;66;03m# np.save(feat_path+'trainX', train_X)\u001b[39;00m\n\u001b[1;32m      3\u001b[0m \u001b[38;5;66;03m# np.save(feat_path+'trainY', train_y)\u001b[39;00m\n\u001b[0;32m----> 4\u001b[0m \u001b[43mnp\u001b[49m\u001b[38;5;241;43m.\u001b[39;49m\u001b[43msave\u001b[49m\u001b[43m(\u001b[49m\u001b[43mfeat_path\u001b[49m\u001b[38;5;241;43m+\u001b[39;49m\u001b[38;5;124;43m'\u001b[39;49m\u001b[38;5;124;43mtestX\u001b[39;49m\u001b[38;5;124;43m'\u001b[39;49m\u001b[43m,\u001b[49m\u001b[43m \u001b[49m\u001b[43mtest_X\u001b[49m\u001b[43m)\u001b[49m\n\u001b[1;32m      5\u001b[0m np\u001b[38;5;241m.\u001b[39msave(feat_path\u001b[38;5;241m+\u001b[39m\u001b[38;5;124m'\u001b[39m\u001b[38;5;124mtestY\u001b[39m\u001b[38;5;124m'\u001b[39m, test_y)\n",
      "File \u001b[0;32m<__array_function__ internals>:180\u001b[0m, in \u001b[0;36msave\u001b[0;34m(*args, **kwargs)\u001b[0m\n",
      "File \u001b[0;32m/opt/conda/lib/python3.9/site-packages/numpy/lib/npyio.py:515\u001b[0m, in \u001b[0;36msave\u001b[0;34m(file, arr, allow_pickle, fix_imports)\u001b[0m\n\u001b[1;32m    513\u001b[0m     \u001b[38;5;28;01mif\u001b[39;00m \u001b[38;5;129;01mnot\u001b[39;00m file\u001b[38;5;241m.\u001b[39mendswith(\u001b[38;5;124m'\u001b[39m\u001b[38;5;124m.npy\u001b[39m\u001b[38;5;124m'\u001b[39m):\n\u001b[1;32m    514\u001b[0m         file \u001b[38;5;241m=\u001b[39m file \u001b[38;5;241m+\u001b[39m \u001b[38;5;124m'\u001b[39m\u001b[38;5;124m.npy\u001b[39m\u001b[38;5;124m'\u001b[39m\n\u001b[0;32m--> 515\u001b[0m     file_ctx \u001b[38;5;241m=\u001b[39m \u001b[38;5;28;43mopen\u001b[39;49m\u001b[43m(\u001b[49m\u001b[43mfile\u001b[49m\u001b[43m,\u001b[49m\u001b[43m \u001b[49m\u001b[38;5;124;43m\"\u001b[39;49m\u001b[38;5;124;43mwb\u001b[39;49m\u001b[38;5;124;43m\"\u001b[39;49m\u001b[43m)\u001b[49m\n\u001b[1;32m    517\u001b[0m \u001b[38;5;28;01mwith\u001b[39;00m file_ctx \u001b[38;5;28;01mas\u001b[39;00m fid:\n\u001b[1;32m    518\u001b[0m     arr \u001b[38;5;241m=\u001b[39m np\u001b[38;5;241m.\u001b[39masanyarray(arr)\n",
      "\u001b[0;31mFileNotFoundError\u001b[0m: [Errno 2] No such file or directory: 'Data/additional/features/testX.npy'"
     ]
    }
   ],
   "source": [
    "feat_path = 'Data/additional/features/'\n",
    "# np.save(feat_path+'trainX', train_X)\n",
    "# np.save(feat_path+'trainY', train_y)\n",
    "np.save(feat_path+'testX', test_X)\n",
    "np.save(feat_path+'testY', test_y)\n",
    "#np.save(feat_path+'feature_names', feature_names)"
   ]
  },
  {
   "cell_type": "code",
   "execution_count": null,
   "metadata": {
    "execution": {
     "iopub.status.busy": "2022-05-16T08:09:41.368727Z",
     "iopub.status.idle": "2022-05-16T08:09:41.368918Z",
     "shell.execute_reply": "2022-05-16T08:09:41.368827Z",
     "shell.execute_reply.started": "2022-05-16T08:09:41.368816Z"
    },
    "tags": []
   },
   "outputs": [],
   "source": [
    "train_X.data = np.nan_to_num(train_X.data) #Remove NaN and Inf\n",
    "test_X.data = np.nan_to_num(test_X.data)"
   ]
  },
  {
   "cell_type": "code",
   "execution_count": null,
   "metadata": {
    "execution": {
     "iopub.status.busy": "2022-05-16T08:09:41.369368Z",
     "iopub.status.idle": "2022-05-16T08:09:41.369565Z",
     "shell.execute_reply": "2022-05-16T08:09:41.369472Z",
     "shell.execute_reply.started": "2022-05-16T08:09:41.369461Z"
    },
    "tags": []
   },
   "outputs": [],
   "source": [
    "%%time\n",
    "from sklearn.linear_model import LogisticRegression\n",
    "from sklearn.tree import DecisionTreeClassifier\n",
    "from sklearn.ensemble import RandomForestClassifier\n",
    "from sklearn.metrics import f1_score\n",
    "from sklearn import preprocessing\n",
    "\n",
    "# lrg = LogisticRegression(max_iter=2, n_jobs=4)\n",
    "# print(\"Fit it!\")\n",
    "# lrg.fit(train_X, train_y)\n",
    "# f1_score(test_y, lrg.predict(test_X), average='weighted')\n",
    "\n",
    "# tree = DecisionTreeClassifier(random_state=42, max_depth=3)\n",
    "# print(\"Fit it!\")\n",
    "# tree.fit(train_X, train_y)\n",
    "# f1_score(test_y, tree.predict(test_X), average='weighted')\n",
    "\n",
    "rfc = RandomForestClassifier(random_state=42)\n",
    "print(\"Fit it!\")\n",
    "rfc.fit(train_X, train_y)\n",
    "f1_score(test_y, rfc.predict(test_X), average='weighted')"
   ]
  },
  {
   "cell_type": "code",
   "execution_count": null,
   "metadata": {
    "execution": {
     "iopub.status.busy": "2022-05-16T08:09:41.370268Z",
     "iopub.status.idle": "2022-05-16T08:09:41.370464Z",
     "shell.execute_reply": "2022-05-16T08:09:41.370366Z",
     "shell.execute_reply.started": "2022-05-16T08:09:41.370355Z"
    },
    "tags": []
   },
   "outputs": [],
   "source": [
    "%%time\n",
    "import classifier_unit_test\n",
    "output = classifier_unit_test.test_classifier(rfc, train_X.toarray(), test_X.toarray(), train_y, test_y, give_roc=True, give_importance=False)"
   ]
  },
  {
   "cell_type": "code",
   "execution_count": null,
   "metadata": {
    "execution": {
     "iopub.status.busy": "2022-05-16T08:09:41.371114Z",
     "iopub.status.idle": "2022-05-16T08:09:41.371308Z",
     "shell.execute_reply": "2022-05-16T08:09:41.371217Z",
     "shell.execute_reply.started": "2022-05-16T08:09:41.371206Z"
    },
    "tags": []
   },
   "outputs": [],
   "source": [
    "rfc.feature_importances_.shape"
   ]
  },
  {
   "cell_type": "code",
   "execution_count": null,
   "metadata": {
    "execution": {
     "iopub.status.busy": "2022-05-16T08:09:41.371848Z",
     "iopub.status.idle": "2022-05-16T08:09:41.372031Z",
     "shell.execute_reply": "2022-05-16T08:09:41.371944Z",
     "shell.execute_reply.started": "2022-05-16T08:09:41.371932Z"
    },
    "tags": []
   },
   "outputs": [],
   "source": [
    "tpr = output['tpr']\n",
    "fpr = output['fpr']\n",
    "dum_tpr, dum_fpr = output['dum_tpr'], output['dum_fpr']\n",
    "plt.plot(fpr,tpr)\n",
    "plt.plot(dum_fpr, dum_tpr)"
   ]
  },
  {
   "cell_type": "code",
   "execution_count": null,
   "metadata": {
    "execution": {
     "iopub.status.busy": "2022-05-16T08:09:41.372535Z",
     "iopub.status.idle": "2022-05-16T08:09:41.372722Z",
     "shell.execute_reply": "2022-05-16T08:09:41.372633Z",
     "shell.execute_reply.started": "2022-05-16T08:09:41.372622Z"
    },
    "tags": []
   },
   "outputs": [],
   "source": [
    "plt.plot(sorted(output['importances_mean'])[::-1][:20], label=\"Top 20 features\")\n",
    "plt.plot(sorted(output['importances_mean'])[::-1][-20:], label=\"Bottom 20 features\")\n",
    "plt.legend()"
   ]
  },
  {
   "cell_type": "markdown",
   "metadata": {},
   "source": [
    "#### Loading the features..."
   ]
  },
  {
   "cell_type": "code",
   "execution_count": null,
   "metadata": {
    "execution": {
     "iopub.status.busy": "2022-05-16T08:09:41.373281Z",
     "iopub.status.idle": "2022-05-16T08:09:41.373476Z",
     "shell.execute_reply": "2022-05-16T08:09:41.373376Z",
     "shell.execute_reply.started": "2022-05-16T08:09:41.373365Z"
    },
    "tags": []
   },
   "outputs": [],
   "source": [
    "#[()] added to convert the NPY to sparse matrix\n",
    "feat_path = 'Data/additional/features/'\n",
    "train_X = np.load(feat_path+'trainX.npy', allow_pickle=True)[()]\n",
    "train_y = np.load(feat_path+'trainY.npy', allow_pickle=True)[()]\n",
    "test_X = np.load(feat_path+'testX.npy', allow_pickle=True)[()] #Load the sparse array\n",
    "test_y = np.load(feat_path+'testY.npy', allow_pickle=True)[()]\n",
    "feature_names = np.load(feat_path+'feature_names.npy', allow_pickle=True)[()]"
   ]
  },
  {
   "cell_type": "code",
   "execution_count": null,
   "metadata": {
    "execution": {
     "iopub.status.busy": "2022-05-16T08:09:41.374024Z",
     "iopub.status.idle": "2022-05-16T08:09:41.374211Z",
     "shell.execute_reply": "2022-05-16T08:09:41.374121Z",
     "shell.execute_reply.started": "2022-05-16T08:09:41.374110Z"
    },
    "tags": []
   },
   "outputs": [],
   "source": [
    "from sklearn.preprocessing import label_binarize\n",
    "\n",
    "y_binary = label_binarize(test_y, classes=np.unique(test_y))\n",
    "probs = np.zeros_like(y_binary)\n",
    "preds = tree.predict(test_X)\n",
    "for i in tqdm(range(len(preds))):\n",
    "    probs[i][preds[i]] = 1"
   ]
  },
  {
   "cell_type": "code",
   "execution_count": null,
   "metadata": {
    "execution": {
     "iopub.status.busy": "2022-05-16T08:09:41.374772Z",
     "iopub.status.idle": "2022-05-16T08:09:41.374957Z",
     "shell.execute_reply": "2022-05-16T08:09:41.374868Z",
     "shell.execute_reply.started": "2022-05-16T08:09:41.374857Z"
    },
    "tags": []
   },
   "outputs": [],
   "source": [
    "precision, recall, _ = precision_recall_curve(y_binary.ravel(), probs.ravel())\n",
    "display = PrecisionRecallDisplay(precision, recall)\n",
    "display.plot()\n",
    "plt.show()"
   ]
  },
  {
   "cell_type": "code",
   "execution_count": null,
   "metadata": {
    "execution": {
     "iopub.status.busy": "2022-05-16T08:09:41.375586Z",
     "iopub.status.idle": "2022-05-16T08:09:41.375774Z",
     "shell.execute_reply": "2022-05-16T08:09:41.375684Z",
     "shell.execute_reply.started": "2022-05-16T08:09:41.375673Z"
    },
    "tags": []
   },
   "outputs": [],
   "source": [
    "from sklearn.metrics import * "
   ]
  },
  {
   "cell_type": "code",
   "execution_count": null,
   "metadata": {
    "execution": {
     "iopub.status.busy": "2022-05-16T08:09:41.376298Z",
     "iopub.status.idle": "2022-05-16T08:09:41.376487Z",
     "shell.execute_reply": "2022-05-16T08:09:41.376391Z",
     "shell.execute_reply.started": "2022-05-16T08:09:41.376380Z"
    },
    "tags": []
   },
   "outputs": [],
   "source": [
    "feature_names = np.load('Data/additional/features/feature_names.npy', allow_pickle=True)\n",
    "feature_importances = rfc.feature_importances_"
   ]
  },
  {
   "cell_type": "code",
   "execution_count": null,
   "metadata": {
    "execution": {
     "iopub.status.busy": "2022-05-16T08:09:41.377023Z",
     "iopub.status.idle": "2022-05-16T08:09:41.377214Z",
     "shell.execute_reply": "2022-05-16T08:09:41.377119Z",
     "shell.execute_reply.started": "2022-05-16T08:09:41.377108Z"
    },
    "tags": []
   },
   "outputs": [],
   "source": [
    "plt.plot(feature_importances)"
   ]
  },
  {
   "cell_type": "code",
   "execution_count": null,
   "metadata": {
    "execution": {
     "iopub.status.busy": "2022-05-16T08:09:41.377736Z",
     "iopub.status.idle": "2022-05-16T08:09:41.377923Z",
     "shell.execute_reply": "2022-05-16T08:09:41.377832Z",
     "shell.execute_reply.started": "2022-05-16T08:09:41.377821Z"
    },
    "tags": []
   },
   "outputs": [],
   "source": [
    "feature_names[:100]"
   ]
  },
  {
   "cell_type": "code",
   "execution_count": null,
   "metadata": {
    "execution": {
     "iopub.status.busy": "2022-05-16T08:09:41.378680Z",
     "iopub.status.idle": "2022-05-16T08:09:41.378880Z",
     "shell.execute_reply": "2022-05-16T08:09:41.378781Z",
     "shell.execute_reply.started": "2022-05-16T08:09:41.378770Z"
    },
    "tags": []
   },
   "outputs": [],
   "source": [
    "def plot_importances(feature_names, feature_importances):\n",
    "feature_names = np.load('Data/additional/features/feature_names.npy', allow_pickle=True)\n",
    "feature_importances = rfc.feature_importances_\n",
    "\n",
    "importances = dict.fromkeys(np.unique(feature_names))\n",
    "scalars = []\n",
    "vectors = []\n",
    "for feature in importances:\n",
    "    importances[feature] = feature_importances[feature_names==feature]\n",
    "    if len(importances[feature]) == 1:\n",
    "        importances[feature] = importances[feature][0]\n",
    "        scalars.append(feature)\n",
    "    else:\n",
    "        vectors.append(feature)"
   ]
  },
  {
   "cell_type": "code",
   "execution_count": null,
   "metadata": {
    "execution": {
     "iopub.status.busy": "2022-05-16T08:09:41.379439Z",
     "iopub.status.idle": "2022-05-16T08:09:41.379623Z",
     "shell.execute_reply": "2022-05-16T08:09:41.379535Z",
     "shell.execute_reply.started": "2022-05-16T08:09:41.379524Z"
    },
    "tags": []
   },
   "outputs": [],
   "source": [
    "temp = []\n",
    "for key in vectors:\n",
    "    temp.append(np.sum(importances[key]))"
   ]
  },
  {
   "cell_type": "code",
   "execution_count": null,
   "metadata": {
    "execution": {
     "iopub.status.busy": "2022-05-16T08:09:41.380510Z",
     "iopub.status.idle": "2022-05-16T08:09:41.380728Z",
     "shell.execute_reply": "2022-05-16T08:09:41.380630Z",
     "shell.execute_reply.started": "2022-05-16T08:09:41.380618Z"
    },
    "tags": []
   },
   "outputs": [],
   "source": [
    "plt.plot(sorted(temp))"
   ]
  },
  {
   "cell_type": "code",
   "execution_count": null,
   "metadata": {
    "execution": {
     "iopub.status.busy": "2022-05-16T08:09:41.381320Z",
     "iopub.status.idle": "2022-05-16T08:09:41.381535Z",
     "shell.execute_reply": "2022-05-16T08:09:41.381435Z",
     "shell.execute_reply.started": "2022-05-16T08:09:41.381423Z"
    }
   },
   "outputs": [],
   "source": [
    "np.save('importances.npy', rfc.feature_importances_)"
   ]
  },
  {
   "cell_type": "code",
   "execution_count": null,
   "metadata": {
    "execution": {
     "iopub.status.busy": "2022-05-16T08:09:41.382246Z",
     "iopub.status.idle": "2022-05-16T08:09:41.382447Z",
     "shell.execute_reply": "2022-05-16T08:09:41.382348Z",
     "shell.execute_reply.started": "2022-05-16T08:09:41.382337Z"
    },
    "tags": []
   },
   "outputs": [],
   "source": [
    "test_X = np.load('all_features/author_features/testX.npy', allow_pickle=True)[()]\n",
    "train_X = np.load('all_features/author_features/trainX.npy', allow_pickle=True)[()]\n",
    "test_y = np.load('all_features/author_features/testY.npy', allow_pickle=True)[()]\n",
    "train_y = np.load('all_features/author_features/trainY.npy', allow_pickle=True)[()]\n",
    "\n",
    "train_X.data = np.nan_to_num(train_X.data) #Remove NaN and Inf\n",
    "test_X.data = np.nan_to_num(test_X.data)\n",
    "\n",
    "train_X = train_X.toarray()\n",
    "test_X = test_X.toarray()"
   ]
  },
  {
   "cell_type": "code",
   "execution_count": null,
   "metadata": {
    "execution": {
     "iopub.status.busy": "2022-05-16T08:09:41.382992Z",
     "iopub.status.idle": "2022-05-16T08:09:41.383177Z",
     "shell.execute_reply": "2022-05-16T08:09:41.383088Z",
     "shell.execute_reply.started": "2022-05-16T08:09:41.383077Z"
    },
    "tags": []
   },
   "outputs": [],
   "source": [
    "np.save('DEL_trainX.npy', train_X)\n",
    "np.save('DEL_testX.npy', test_X)"
   ]
  },
  {
   "cell_type": "code",
   "execution_count": null,
   "metadata": {
    "execution": {
     "iopub.status.busy": "2022-05-16T08:09:41.383724Z",
     "iopub.status.idle": "2022-05-16T08:09:41.383915Z",
     "shell.execute_reply": "2022-05-16T08:09:41.383824Z",
     "shell.execute_reply.started": "2022-05-16T08:09:41.383813Z"
    },
    "tags": []
   },
   "outputs": [],
   "source": [
    "from sklearn.decomposition import KernelPCA\n",
    "X = np.load('all_features/author_features/testX.npy', allow_pickle=True)[()]\n",
    "y = np.load('all_features/author_features/testY.npy', allow_pickle=True)[()]\n",
    "kpca = KernelPCA(n_components=3)\n",
    "kpca.fit(X)\n",
    "\n",
    "X = kpca.transform(X)"
   ]
  },
  {
   "cell_type": "code",
   "execution_count": null,
   "metadata": {
    "execution": {
     "iopub.status.busy": "2022-05-16T08:09:41.384512Z",
     "iopub.status.idle": "2022-05-16T08:09:41.384699Z",
     "shell.execute_reply": "2022-05-16T08:09:41.384608Z",
     "shell.execute_reply.started": "2022-05-16T08:09:41.384597Z"
    }
   },
   "outputs": [],
   "source": [
    "from matplotlib import pyplot as plt\n",
    "\n",
    "for i in [3, 40, 22]: #22\n",
    "    this_class = X[y==i]\n",
    "    \n",
    "    x1 = [x[0] for x in this_class]\n",
    "    y1 = [x[1] for x in this_class]\n",
    "    #z1 = [x[2] for x in this_class]\n",
    "    \n",
    "    #ax.scatter3D(x1, y1, z1);\n",
    "    plt.scatter(x1, y1)\n",
    "\n",
    "plt.show()"
   ]
  },
  {
   "cell_type": "code",
   "execution_count": null,
   "metadata": {},
   "outputs": [],
   "source": []
  }
 ],
 "metadata": {
  "kernelspec": {
   "display_name": "Python 3 ",
   "language": "python",
   "name": "python3"
  },
  "language_info": {
   "codemirror_mode": {
    "name": "ipython",
    "version": 3
   },
   "file_extension": ".py",
   "mimetype": "text/x-python",
   "name": "python",
   "nbconvert_exporter": "python",
   "pygments_lexer": "ipython3",
   "version": "3.9.10"
  }
 },
 "nbformat": 4,
 "nbformat_minor": 4
}
