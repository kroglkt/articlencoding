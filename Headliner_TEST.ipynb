{
 "cells": [
  {
   "cell_type": "markdown",
   "id": "cb61eb10-1585-4b45-968e-7f391f8f4d75",
   "metadata": {},
   "source": [
    "# Headline Generation\n",
    "This notebook revolves around generating headlines from our own encodings. The first handful of cells are just experimentation, that we do not dare delete.\n",
    "\n",
    "Author: lkt259@alumni.ku.dk"
   ]
  },
  {
   "cell_type": "code",
   "execution_count": 5,
   "id": "221c48a9-1f83-4182-b275-ee3bc41f2654",
   "metadata": {
    "execution": {
     "iopub.execute_input": "2022-05-15T17:27:37.259401Z",
     "iopub.status.busy": "2022-05-15T17:27:37.258901Z",
     "iopub.status.idle": "2022-05-15T17:27:40.702197Z",
     "shell.execute_reply": "2022-05-15T17:27:40.701365Z",
     "shell.execute_reply.started": "2022-05-15T17:27:37.259332Z"
    },
    "tags": []
   },
   "outputs": [],
   "source": [
    "import numpy as np\n",
    "train_X = np.load('xtra_features_header/trainX.npy', allow_pickle=True)[()]\n",
    "train_y = np.load('xtra_features_header/trainY.npy', allow_pickle=True)\n",
    "test_X = np.load('xtra_features_header/testX.npy', allow_pickle=True)[()]\n",
    "test_y = np.load('xtra_features_header/testY.npy', allow_pickle=True)\n",
    "\n",
    "train_X = train_X.toarray()\n",
    "test_X = test_X.toarray()"
   ]
  },
  {
   "cell_type": "code",
   "execution_count": 6,
   "id": "7f07c593-ecf9-4d7a-9765-b20924e29648",
   "metadata": {
    "execution": {
     "iopub.execute_input": "2022-05-15T17:28:36.850147Z",
     "iopub.status.busy": "2022-05-15T17:28:36.849641Z",
     "iopub.status.idle": "2022-05-15T17:28:47.638629Z",
     "shell.execute_reply": "2022-05-15T17:28:47.637734Z",
     "shell.execute_reply.started": "2022-05-15T17:28:36.850091Z"
    }
   },
   "outputs": [],
   "source": [
    "train_X = np.nan_to_num(train_X)\n",
    "test_X = np.nan_to_num(test_X)"
   ]
  },
  {
   "cell_type": "code",
   "execution_count": 1,
   "id": "4fa5260b-f7d4-4f77-981b-265ab6ac7b60",
   "metadata": {
    "execution": {
     "iopub.execute_input": "2022-05-14T15:58:32.649671Z",
     "iopub.status.busy": "2022-05-14T15:58:32.648917Z",
     "iopub.status.idle": "2022-05-14T15:58:33.308252Z",
     "shell.execute_reply": "2022-05-14T15:58:33.307051Z",
     "shell.execute_reply.started": "2022-05-14T15:58:32.649601Z"
    },
    "tags": []
   },
   "outputs": [],
   "source": [
    "import pickle\n",
    "with open('articles.dat', 'rb') as f:\n",
    "    data = pickle.load(f)\n",
    "data = list(set(data))"
   ]
  },
  {
   "cell_type": "code",
   "execution_count": 2,
   "id": "e05b0684-78b1-46c4-8c92-bfe5233ce8ef",
   "metadata": {
    "execution": {
     "iopub.execute_input": "2022-05-14T15:58:34.574001Z",
     "iopub.status.busy": "2022-05-14T15:58:34.573856Z",
     "iopub.status.idle": "2022-05-14T15:58:50.386022Z",
     "shell.execute_reply": "2022-05-14T15:58:50.384821Z",
     "shell.execute_reply.started": "2022-05-14T15:58:34.573984Z"
    },
    "tags": []
   },
   "outputs": [],
   "source": [
    "from sklearn.model_selection import train_test_split\n",
    "\n",
    "train, test = train_test_split(data, test_size=1000)"
   ]
  },
  {
   "cell_type": "code",
   "execution_count": 7,
   "id": "ccb3caf4-f435-4e45-9cda-9d4b2d3b8ecb",
   "metadata": {
    "execution": {
     "iopub.execute_input": "2022-05-15T17:28:47.649107Z",
     "iopub.status.busy": "2022-05-15T17:28:47.648950Z",
     "iopub.status.idle": "2022-05-15T17:28:47.684013Z",
     "shell.execute_reply": "2022-05-15T17:28:47.683497Z",
     "shell.execute_reply.started": "2022-05-15T17:28:47.649087Z"
    },
    "tags": []
   },
   "outputs": [
    {
     "data": {
      "text/plain": [
       "89956"
      ]
     },
     "execution_count": 7,
     "metadata": {},
     "output_type": "execute_result"
    }
   ],
   "source": [
    "ida = []\n",
    "for i in train_X:\n",
    "    if type(i[0]) == str and type(i[1]) == str:\n",
    "        ida.append(i)\n",
    "train = ida\n",
    "len(train_X)"
   ]
  },
  {
   "cell_type": "code",
   "execution_count": 1,
   "id": "cdec0f69",
   "metadata": {
    "execution": {
     "iopub.execute_input": "2022-05-19T10:57:43.555793Z",
     "iopub.status.busy": "2022-05-19T10:57:43.555247Z",
     "iopub.status.idle": "2022-05-19T10:57:45.950791Z",
     "shell.execute_reply": "2022-05-19T10:57:45.948795Z",
     "shell.execute_reply.started": "2022-05-19T10:57:43.555720Z"
    },
    "scrolled": true,
    "tags": []
   },
   "outputs": [],
   "source": [
    "from headliner.trainer import Trainer\n",
    "from headliner.model.transformer_summarizer import TransformerSummarizer\n",
    "from headliner.model.basic_summarizer import BasicSummarizer\n",
    "from headliner.model.attention_summarizer import AttentionSummarizer\n",
    "\n",
    "# summarizer = BasicSummarizer(embedding_size=1024)\n",
    "# trainer = Trainer(batch_size=64, \n",
    "#                   steps_per_epoch=100, \n",
    "#                   steps_to_log=20, \n",
    "#                   max_output_len=40)\n",
    "# trainer.train(summarizer, train, num_epochs=100, val_data=test)"
   ]
  },
  {
   "cell_type": "code",
   "execution_count": 9,
   "id": "047bb9cc",
   "metadata": {
    "execution": {
     "iopub.execute_input": "2022-05-15T17:28:56.990228Z",
     "iopub.status.busy": "2022-05-15T17:28:56.990096Z",
     "iopub.status.idle": "2022-05-15T17:28:57.013265Z",
     "shell.execute_reply": "2022-05-15T17:28:57.012548Z",
     "shell.execute_reply.started": "2022-05-15T17:28:56.990211Z"
    },
    "scrolled": true,
    "tags": []
   },
   "outputs": [
    {
     "ename": "NameError",
     "evalue": "name 'summarizer' is not defined",
     "output_type": "error",
     "traceback": [
      "\u001b[0;31m---------------------------------------------------------------------------\u001b[0m",
      "\u001b[0;31mNameError\u001b[0m                                 Traceback (most recent call last)",
      "Input \u001b[0;32mIn [9]\u001b[0m, in \u001b[0;36m<cell line: 2>\u001b[0;34m()\u001b[0m\n\u001b[1;32m      1\u001b[0m lines \u001b[38;5;241m=\u001b[39m train\n\u001b[0;32m----> 2\u001b[0m \u001b[38;5;28mprint\u001b[39m(\u001b[38;5;124m\"\u001b[39m\u001b[38;5;124mpredicted:\u001b[39m\u001b[38;5;124m\"\u001b[39m, \u001b[43msummarizer\u001b[49m\u001b[38;5;241m.\u001b[39mpredict(lines[\u001b[38;5;241m1\u001b[39m][\u001b[38;5;241m0\u001b[39m]), \u001b[38;5;124m'\u001b[39m\u001b[38;5;130;01m\\n\u001b[39;00m\u001b[38;5;124mtarget: \u001b[39m\u001b[38;5;124m'\u001b[39m,lines[\u001b[38;5;241m1\u001b[39m][\u001b[38;5;241m1\u001b[39m])\n\u001b[1;32m      3\u001b[0m \u001b[38;5;28mprint\u001b[39m()\n\u001b[1;32m      4\u001b[0m \u001b[38;5;28mprint\u001b[39m(\u001b[38;5;124m\"\u001b[39m\u001b[38;5;124mpredicted:\u001b[39m\u001b[38;5;124m\"\u001b[39m, summarizer\u001b[38;5;241m.\u001b[39mpredict(lines[\u001b[38;5;241m10\u001b[39m][\u001b[38;5;241m0\u001b[39m]), \u001b[38;5;124m'\u001b[39m\u001b[38;5;130;01m\\n\u001b[39;00m\u001b[38;5;124mtarget: \u001b[39m\u001b[38;5;124m'\u001b[39m,lines[\u001b[38;5;241m10\u001b[39m][\u001b[38;5;241m1\u001b[39m])\n",
      "\u001b[0;31mNameError\u001b[0m: name 'summarizer' is not defined"
     ]
    }
   ],
   "source": [
    "lines = train\n",
    "print(\"predicted:\", summarizer.predict(lines[1][0]), '\\ntarget: ',lines[1][1])\n",
    "print()\n",
    "print(\"predicted:\", summarizer.predict(lines[10][0]), '\\ntarget: ',lines[10][1])\n",
    "print()\n",
    "print(\"predicted:\", summarizer.predict(lines[100][0]), '\\ntarget: ',lines[100][1])\n",
    "print()\n",
    "print(\"predicted:\", summarizer.predict(lines[1000][0]), '\\ntarget: ',lines[1000][1])\n",
    "print()\n",
    "print(\"predicted:\", summarizer.predict(lines[2000][0]), '\\ntarget: ',lines[2000][1])\n",
    "print()\n",
    "print(\"predicted:\", summarizer.predict(lines[3000][0]), '\\ntarget: ',lines[3000][1])\n",
    "print()\n",
    "print(\"predicted:\", summarizer.predict(lines[4000][0]), '\\ntarget: ',lines[4000][1])\n",
    "print()\n",
    "print(\"predicted:\", summarizer.predict(lines[5000][0]), '\\ntarget: ',lines[5000][1])"
   ]
  },
  {
   "cell_type": "code",
   "execution_count": 7,
   "id": "d7e691ec-e6d1-49ca-a55a-c675c86ba24e",
   "metadata": {
    "execution": {
     "iopub.execute_input": "2022-05-10T17:43:18.329171Z",
     "iopub.status.busy": "2022-05-10T17:43:18.329027Z",
     "iopub.status.idle": "2022-05-10T21:27:45.367500Z",
     "shell.execute_reply": "2022-05-10T21:27:45.366674Z",
     "shell.execute_reply.started": "2022-05-10T17:43:18.329153Z"
    },
    "scrolled": true,
    "tags": []
   },
   "outputs": [
    {
     "name": "stdout",
     "output_type": "stream",
     "text": [
      "training a bare model, preprocessing data to init model...\n",
      "fitting tokenizers...\n",
      "vocab encoder: 200001, vocab decoder: 100289\n",
      "epoch 0, batch 20, logs: {'loss': 3.274867630004883}\n",
      "epoch 0, batch 40, logs: {'loss': 3.09373779296875}\n",
      "epoch 0, batch 60, logs: {'loss': 2.968243153889974}\n",
      "epoch 0, batch 80, logs: {'loss': 2.8882061004638673}\n",
      "epoch 0, batch 100, logs: {'loss': 2.8354534912109375}\n",
      "\n",
      "(input) <start> brandvæsnet i sydøstjylland havde ekstraordinært travlt tirsdag eftermiddag . på to timer havde de intet mindre end fem markbrande i området ved brædstrup , der ligger nordvest for horsens . alle brandene er slukket . - det starter på fuglrisvej i brædstrup omkring klokken # .# , derefter opstår der et par brande på en anden vej i området , siger henrik dam , der er vagtchef i sydøstjyllands politi . vag <end> \n",
      "(target) <start> pludselig blev der travlt fem brande på to timer ved samme by <end> \n",
      "(prediction) i er i i i i <end>\n",
      "\n",
      "\n",
      "(input) <start> danmarks rolle i vm-kvalifikationen kan stort set være overstået søndag aften i tilfælde af nederlag i rumænien . men ikke desto mindre bliver landstræner åge hareide siddende i jobbet .til horsens folkeblad siger nordmanden , der oprindeligt fik kontrakt til sommeren # , at rammerne for en ny toårig aftale med dansk boldspil union dbu er på plads . »vi har forhandlet kontrakten færdig . den ligger <end> \n",
      "(target) <start> hareide jeg forlænger med dbu  <end> \n",
      "(prediction) i er i i i i <end>\n",
      "\n",
      "\n",
      "(input) <start> dag ud og dag ind har han smilet sig gennem en valgkamp på over et år , norbert gerwald hofer .fra sin position ’midt i livet’ , som den #-årige kandidat ved dagens præsidentvalg i østrig selv har placeret sig i på plakater landet over , har han taget imod alle livets og det politiske håndværks mange tæsk med et venligt , fortroligt smil .lige indtil den sidste tv-duel , hvor den venlige grimasse stiv <end> \n",
      "(target) <start> norbert hofer er det nye højres smilende ansigt <end> \n",
      "(prediction) i er i i i i <end>\n",
      "\n",
      "\n",
      "(input) <start> superligaen skæres ned til # hold fra # '  <end> \n",
      "(target) <start> superligaen skæres ned til # hold fra # <end> \n",
      "(prediction) i er i i i <end>\n",
      "\n",
      "\n",
      "(input) <start> christopher er uden tvivl en charmør , der kan få de fleste pigehjerter til at smelte . det var formentlig også formålet , da han i lørdags afbrød nadia og mikkels bryllup - dog med gommens tilladelse . her sang christopher sin egen fortolkning af brazzis 'mine' . - overvejer at blive bryllupssanger fra nu af . tak til mikkel for at lade mig overraske hans smukke brud nadia ved deres bryllup sidste lørd <end> \n",
      "(target) <start> dansk popstjerne afbryder bryllup - en stor ære <end> \n",
      "(prediction) i er i i i i <end>\n",
      "\n",
      "loss_val improved from None to 2.6069493293762207, saving summarizer to basicsummarizer1024\n",
      "epoch 1, batch 120, logs: {'loss': 2.5591751098632813, 'loss_val': 2.6069493293762207}\n",
      "epoch 1, batch 140, logs: {'loss': 2.544871711730957, 'loss_val': 2.6069493293762207}\n",
      "epoch 1, batch 160, logs: {'loss': 2.537779998779297, 'loss_val': 2.6069493293762207}\n",
      "epoch 1, batch 180, logs: {'loss': 2.5401004791259765, 'loss_val': 2.6069493293762207}\n",
      "epoch 1, batch 200, logs: {'loss': 2.5319480895996094, 'loss_val': 2.6069493293762207}\n",
      "\n",
      "(input) <start> brandvæsnet i sydøstjylland havde ekstraordinært travlt tirsdag eftermiddag . på to timer havde de intet mindre end fem markbrande i området ved brædstrup , der ligger nordvest for horsens . alle brandene er slukket . - det starter på fuglrisvej i brædstrup omkring klokken # .# , derefter opstår der et par brande på en anden vej i området , siger henrik dam , der er vagtchef i sydøstjyllands politi . vag <end> \n",
      "(target) <start> pludselig blev der travlt fem brande på to timer ved samme by <end> \n",
      "(prediction) # er # i # <end>\n",
      "\n",
      "\n",
      "(input) <start> danmarks rolle i vm-kvalifikationen kan stort set være overstået søndag aften i tilfælde af nederlag i rumænien . men ikke desto mindre bliver landstræner åge hareide siddende i jobbet .til horsens folkeblad siger nordmanden , der oprindeligt fik kontrakt til sommeren # , at rammerne for en ny toårig aftale med dansk boldspil union dbu er på plads . »vi har forhandlet kontrakten færdig . den ligger <end> \n",
      "(target) <start> hareide jeg forlænger med dbu  <end> \n",
      "(prediction) # er # i # <end>\n",
      "\n",
      "\n",
      "(input) <start> dag ud og dag ind har han smilet sig gennem en valgkamp på over et år , norbert gerwald hofer .fra sin position ’midt i livet’ , som den #-årige kandidat ved dagens præsidentvalg i østrig selv har placeret sig i på plakater landet over , har han taget imod alle livets og det politiske håndværks mange tæsk med et venligt , fortroligt smil .lige indtil den sidste tv-duel , hvor den venlige grimasse stiv <end> \n",
      "(target) <start> norbert hofer er det nye højres smilende ansigt <end> \n",
      "(prediction) # er # i # <end>\n",
      "\n",
      "\n",
      "(input) <start> superligaen skæres ned til # hold fra # '  <end> \n",
      "(target) <start> superligaen skæres ned til # hold fra # <end> \n",
      "(prediction) # er # i # <end>\n",
      "\n",
      "\n",
      "(input) <start> christopher er uden tvivl en charmør , der kan få de fleste pigehjerter til at smelte . det var formentlig også formålet , da han i lørdags afbrød nadia og mikkels bryllup - dog med gommens tilladelse . her sang christopher sin egen fortolkning af brazzis 'mine' . - overvejer at blive bryllupssanger fra nu af . tak til mikkel for at lade mig overraske hans smukke brud nadia ved deres bryllup sidste lørd <end> \n",
      "(target) <start> dansk popstjerne afbryder bryllup - en stor ære <end> \n",
      "(prediction) # er # i # <end>\n",
      "\n",
      "loss_val improved from 2.6069493293762207 to 2.5190622806549072, saving summarizer to basicsummarizer1024\n",
      "epoch 2, batch 220, logs: {'loss': 2.4877275466918944, 'loss_val': 2.5190622806549072}\n",
      "epoch 2, batch 240, logs: {'loss': 2.4857873916625977, 'loss_val': 2.5190622806549072}\n",
      "epoch 2, batch 260, logs: {'loss': 2.473682912190755, 'loss_val': 2.5190622806549072}\n",
      "epoch 2, batch 280, logs: {'loss': 2.462148094177246, 'loss_val': 2.5190622806549072}\n",
      "epoch 2, batch 300, logs: {'loss': 2.4491477966308595, 'loss_val': 2.5190622806549072}\n",
      "\n",
      "(input) <start> brandvæsnet i sydøstjylland havde ekstraordinært travlt tirsdag eftermiddag . på to timer havde de intet mindre end fem markbrande i området ved brædstrup , der ligger nordvest for horsens . alle brandene er slukket . - det starter på fuglrisvej i brædstrup omkring klokken # .# , derefter opstår der et par brande på en anden vej i området , siger henrik dam , der er vagtchef i sydøstjyllands politi . vag <end> \n",
      "(target) <start> pludselig blev der travlt fem brande på to timer ved samme by <end> \n",
      "(prediction) dansk dansk # i # <end>\n",
      "\n",
      "\n",
      "(input) <start> danmarks rolle i vm-kvalifikationen kan stort set være overstået søndag aften i tilfælde af nederlag i rumænien . men ikke desto mindre bliver landstræner åge hareide siddende i jobbet .til horsens folkeblad siger nordmanden , der oprindeligt fik kontrakt til sommeren # , at rammerne for en ny toårig aftale med dansk boldspil union dbu er på plads . »vi har forhandlet kontrakten færdig . den ligger <end> \n",
      "(target) <start> hareide jeg forlænger med dbu  <end> \n",
      "(prediction) dansk dansk # i # <end>\n",
      "\n",
      "\n",
      "(input) <start> dag ud og dag ind har han smilet sig gennem en valgkamp på over et år , norbert gerwald hofer .fra sin position ’midt i livet’ , som den #-årige kandidat ved dagens præsidentvalg i østrig selv har placeret sig i på plakater landet over , har han taget imod alle livets og det politiske håndværks mange tæsk med et venligt , fortroligt smil .lige indtil den sidste tv-duel , hvor den venlige grimasse stiv <end> \n",
      "(target) <start> norbert hofer er det nye højres smilende ansigt <end> \n",
      "(prediction) dansk dansk # i # <end>\n",
      "\n",
      "\n",
      "(input) <start> superligaen skæres ned til # hold fra # '  <end> \n",
      "(target) <start> superligaen skæres ned til # hold fra # <end> \n",
      "(prediction) dansk dansk # i # <end>\n",
      "\n",
      "\n",
      "(input) <start> christopher er uden tvivl en charmør , der kan få de fleste pigehjerter til at smelte . det var formentlig også formålet , da han i lørdags afbrød nadia og mikkels bryllup - dog med gommens tilladelse . her sang christopher sin egen fortolkning af brazzis 'mine' . - overvejer at blive bryllupssanger fra nu af . tak til mikkel for at lade mig overraske hans smukke brud nadia ved deres bryllup sidste lørd <end> \n",
      "(target) <start> dansk popstjerne afbryder bryllup - en stor ære <end> \n",
      "(prediction) dansk dansk # i # <end>\n",
      "\n",
      "loss_val improved from 2.5190622806549072 to 2.4651880264282227, saving summarizer to basicsummarizer1024\n",
      "epoch 3, batch 320, logs: {'loss': 2.4427230834960936, 'loss_val': 2.4651880264282227}\n",
      "epoch 3, batch 340, logs: {'loss': 2.4305446624755858, 'loss_val': 2.4651880264282227}\n",
      "epoch 3, batch 360, logs: {'loss': 2.4227012634277343, 'loss_val': 2.4651880264282227}\n",
      "epoch 3, batch 380, logs: {'loss': 2.4197998046875, 'loss_val': 2.4651880264282227}\n",
      "epoch 3, batch 400, logs: {'loss': 2.410940399169922, 'loss_val': 2.4651880264282227}\n",
      "\n",
      "(input) <start> brandvæsnet i sydøstjylland havde ekstraordinært travlt tirsdag eftermiddag . på to timer havde de intet mindre end fem markbrande i området ved brædstrup , der ligger nordvest for horsens . alle brandene er slukket . - det starter på fuglrisvej i brædstrup omkring klokken # .# , derefter opstår der et par brande på en anden vej i området , siger henrik dam , der er vagtchef i sydøstjyllands politi . vag <end> \n",
      "(target) <start> pludselig blev der travlt fem brande på to timer ved samme by <end> \n",
      "(prediction) # .# i # .# <end>\n",
      "\n",
      "\n",
      "(input) <start> danmarks rolle i vm-kvalifikationen kan stort set være overstået søndag aften i tilfælde af nederlag i rumænien . men ikke desto mindre bliver landstræner åge hareide siddende i jobbet .til horsens folkeblad siger nordmanden , der oprindeligt fik kontrakt til sommeren # , at rammerne for en ny toårig aftale med dansk boldspil union dbu er på plads . »vi har forhandlet kontrakten færdig . den ligger <end> \n",
      "(target) <start> hareide jeg forlænger med dbu  <end> \n",
      "(prediction) # .# i # .# <end>\n",
      "\n",
      "\n",
      "(input) <start> dag ud og dag ind har han smilet sig gennem en valgkamp på over et år , norbert gerwald hofer .fra sin position ’midt i livet’ , som den #-årige kandidat ved dagens præsidentvalg i østrig selv har placeret sig i på plakater landet over , har han taget imod alle livets og det politiske håndværks mange tæsk med et venligt , fortroligt smil .lige indtil den sidste tv-duel , hvor den venlige grimasse stiv <end> \n",
      "(target) <start> norbert hofer er det nye højres smilende ansigt <end> \n",
      "(prediction) # .# i # .# <end>\n",
      "\n",
      "\n",
      "(input) <start> superligaen skæres ned til # hold fra # '  <end> \n",
      "(target) <start> superligaen skæres ned til # hold fra # <end> \n",
      "(prediction) # .# i # .# <end>\n",
      "\n",
      "\n",
      "(input) <start> christopher er uden tvivl en charmør , der kan få de fleste pigehjerter til at smelte . det var formentlig også formålet , da han i lørdags afbrød nadia og mikkels bryllup - dog med gommens tilladelse . her sang christopher sin egen fortolkning af brazzis 'mine' . - overvejer at blive bryllupssanger fra nu af . tak til mikkel for at lade mig overraske hans smukke brud nadia ved deres bryllup sidste lørd <end> \n",
      "(target) <start> dansk popstjerne afbryder bryllup - en stor ære <end> \n",
      "(prediction) # .# i # .# <end>\n",
      "\n",
      "loss_val improved from 2.4651880264282227 to 2.427138328552246, saving summarizer to basicsummarizer1024\n",
      "epoch 4, batch 420, logs: {'loss': 2.3698394775390623, 'loss_val': 2.427138328552246}\n",
      "epoch 4, batch 440, logs: {'loss': 2.3901897430419923, 'loss_val': 2.427138328552246}\n",
      "epoch 4, batch 460, logs: {'loss': 2.3841288248697916, 'loss_val': 2.427138328552246}\n",
      "epoch 4, batch 480, logs: {'loss': 2.379857063293457, 'loss_val': 2.427138328552246}\n",
      "epoch 4, batch 500, logs: {'loss': 2.387825927734375, 'loss_val': 2.427138328552246}\n",
      "\n",
      "(input) <start> brandvæsnet i sydøstjylland havde ekstraordinært travlt tirsdag eftermiddag . på to timer havde de intet mindre end fem markbrande i området ved brædstrup , der ligger nordvest for horsens . alle brandene er slukket . - det starter på fuglrisvej i brædstrup omkring klokken # .# , derefter opstår der et par brande på en anden vej i området , siger henrik dam , der er vagtchef i sydøstjyllands politi . vag <end> \n",
      "(target) <start> pludselig blev der travlt fem brande på to timer ved samme by <end> \n",
      "(prediction) # år i # år i # år <end>\n",
      "\n",
      "\n",
      "(input) <start> danmarks rolle i vm-kvalifikationen kan stort set være overstået søndag aften i tilfælde af nederlag i rumænien . men ikke desto mindre bliver landstræner åge hareide siddende i jobbet .til horsens folkeblad siger nordmanden , der oprindeligt fik kontrakt til sommeren # , at rammerne for en ny toårig aftale med dansk boldspil union dbu er på plads . »vi har forhandlet kontrakten færdig . den ligger <end> \n",
      "(target) <start> hareide jeg forlænger med dbu  <end> \n",
      "(prediction) # år i # år <end>\n",
      "\n",
      "\n",
      "(input) <start> dag ud og dag ind har han smilet sig gennem en valgkamp på over et år , norbert gerwald hofer .fra sin position ’midt i livet’ , som den #-årige kandidat ved dagens præsidentvalg i østrig selv har placeret sig i på plakater landet over , har han taget imod alle livets og det politiske håndværks mange tæsk med et venligt , fortroligt smil .lige indtil den sidste tv-duel , hvor den venlige grimasse stiv <end> \n",
      "(target) <start> norbert hofer er det nye højres smilende ansigt <end> \n",
      "(prediction) # år i # år i # år <end>\n",
      "\n",
      "\n",
      "(input) <start> superligaen skæres ned til # hold fra # '  <end> \n",
      "(target) <start> superligaen skæres ned til # hold fra # <end> \n",
      "(prediction) # år i # år <end>\n",
      "\n",
      "\n",
      "(input) <start> christopher er uden tvivl en charmør , der kan få de fleste pigehjerter til at smelte . det var formentlig også formålet , da han i lørdags afbrød nadia og mikkels bryllup - dog med gommens tilladelse . her sang christopher sin egen fortolkning af brazzis 'mine' . - overvejer at blive bryllupssanger fra nu af . tak til mikkel for at lade mig overraske hans smukke brud nadia ved deres bryllup sidste lørd <end> \n",
      "(target) <start> dansk popstjerne afbryder bryllup - en stor ære <end> \n",
      "(prediction) # år i # år i # år <end>\n",
      "\n",
      "loss_val improved from 2.427138328552246 to 2.3891358375549316, saving summarizer to basicsummarizer1024\n",
      "epoch 5, batch 520, logs: {'loss': 2.42413387298584, 'loss_val': 2.3891358375549316}\n",
      "epoch 5, batch 540, logs: {'loss': 2.389384078979492, 'loss_val': 2.3891358375549316}\n",
      "epoch 5, batch 560, logs: {'loss': 2.3619674682617187, 'loss_val': 2.3891358375549316}\n",
      "epoch 5, batch 580, logs: {'loss': 2.352205276489258, 'loss_val': 2.3891358375549316}\n",
      "epoch 5, batch 600, logs: {'loss': 2.344705352783203, 'loss_val': 2.3891358375549316}\n",
      "\n",
      "(input) <start> brandvæsnet i sydøstjylland havde ekstraordinært travlt tirsdag eftermiddag . på to timer havde de intet mindre end fem markbrande i området ved brædstrup , der ligger nordvest for horsens . alle brandene er slukket . - det starter på fuglrisvej i brædstrup omkring klokken # .# , derefter opstår der et par brande på en anden vej i området , siger henrik dam , der er vagtchef i sydøstjyllands politi . vag <end> \n",
      "(target) <start> pludselig blev der travlt fem brande på to timer ved samme by <end> \n",
      "(prediction) # .# kroner i # år <end>\n",
      "\n",
      "\n",
      "(input) <start> danmarks rolle i vm-kvalifikationen kan stort set være overstået søndag aften i tilfælde af nederlag i rumænien . men ikke desto mindre bliver landstræner åge hareide siddende i jobbet .til horsens folkeblad siger nordmanden , der oprindeligt fik kontrakt til sommeren # , at rammerne for en ny toårig aftale med dansk boldspil union dbu er på plads . »vi har forhandlet kontrakten færdig . den ligger <end> \n",
      "(target) <start> hareide jeg forlænger med dbu  <end> \n",
      "(prediction) # .# kroner i # år <end>\n",
      "\n",
      "\n",
      "(input) <start> dag ud og dag ind har han smilet sig gennem en valgkamp på over et år , norbert gerwald hofer .fra sin position ’midt i livet’ , som den #-årige kandidat ved dagens præsidentvalg i østrig selv har placeret sig i på plakater landet over , har han taget imod alle livets og det politiske håndværks mange tæsk med et venligt , fortroligt smil .lige indtil den sidste tv-duel , hvor den venlige grimasse stiv <end> \n",
      "(target) <start> norbert hofer er det nye højres smilende ansigt <end> \n",
      "(prediction) # .# kroner i # år <end>\n",
      "\n",
      "\n",
      "(input) <start> superligaen skæres ned til # hold fra # '  <end> \n",
      "(target) <start> superligaen skæres ned til # hold fra # <end> \n",
      "(prediction) englands # år <end>\n",
      "\n",
      "\n",
      "(input) <start> christopher er uden tvivl en charmør , der kan få de fleste pigehjerter til at smelte . det var formentlig også formålet , da han i lørdags afbrød nadia og mikkels bryllup - dog med gommens tilladelse . her sang christopher sin egen fortolkning af brazzis 'mine' . - overvejer at blive bryllupssanger fra nu af . tak til mikkel for at lade mig overraske hans smukke brud nadia ved deres bryllup sidste lørd <end> \n",
      "(target) <start> dansk popstjerne afbryder bryllup - en stor ære <end> \n",
      "(prediction) # .# kroner i # år <end>\n",
      "\n",
      "loss_val improved from 2.3891358375549316 to 2.35182523727417, saving summarizer to basicsummarizer1024\n",
      "epoch 6, batch 620, logs: {'loss': 2.2841299057006834, 'loss_val': 2.35182523727417}\n",
      "epoch 6, batch 640, logs: {'loss': 2.3258777618408204, 'loss_val': 2.35182523727417}\n",
      "epoch 6, batch 660, logs: {'loss': 2.336262003580729, 'loss_val': 2.35182523727417}\n",
      "epoch 6, batch 680, logs: {'loss': 2.3247825622558596, 'loss_val': 2.35182523727417}\n",
      "epoch 6, batch 700, logs: {'loss': 2.314297332763672, 'loss_val': 2.35182523727417}\n",
      "\n",
      "(input) <start> brandvæsnet i sydøstjylland havde ekstraordinært travlt tirsdag eftermiddag . på to timer havde de intet mindre end fem markbrande i området ved brædstrup , der ligger nordvest for horsens . alle brandene er slukket . - det starter på fuglrisvej i brædstrup omkring klokken # .# , derefter opstår der et par brande på en anden vej i området , siger henrik dam , der er vagtchef i sydøstjyllands politi . vag <end> \n",
      "(target) <start> pludselig blev der travlt fem brande på to timer ved samme by <end> \n",
      "(prediction) her er du ikke ikke en en største <end>\n",
      "\n",
      "\n",
      "(input) <start> danmarks rolle i vm-kvalifikationen kan stort set være overstået søndag aften i tilfælde af nederlag i rumænien . men ikke desto mindre bliver landstræner åge hareide siddende i jobbet .til horsens folkeblad siger nordmanden , der oprindeligt fik kontrakt til sommeren # , at rammerne for en ny toårig aftale med dansk boldspil union dbu er på plads . »vi har forhandlet kontrakten færdig . den ligger <end> \n",
      "(target) <start> hareide jeg forlænger med dbu  <end> \n",
      "(prediction) her er du ikke ikke en en største <end>\n",
      "\n",
      "\n",
      "(input) <start> dag ud og dag ind har han smilet sig gennem en valgkamp på over et år , norbert gerwald hofer .fra sin position ’midt i livet’ , som den #-årige kandidat ved dagens præsidentvalg i østrig selv har placeret sig i på plakater landet over , har han taget imod alle livets og det politiske håndværks mange tæsk med et venligt , fortroligt smil .lige indtil den sidste tv-duel , hvor den venlige grimasse stiv <end> \n",
      "(target) <start> norbert hofer er det nye højres smilende ansigt <end> \n",
      "(prediction) her er du ikke ikke en en største <end>\n",
      "\n",
      "\n",
      "(input) <start> superligaen skæres ned til # hold fra # '  <end> \n",
      "(target) <start> superligaen skæres ned til # hold fra # <end> \n",
      "(prediction) skabt # år <end>\n",
      "\n",
      "\n",
      "(input) <start> christopher er uden tvivl en charmør , der kan få de fleste pigehjerter til at smelte . det var formentlig også formålet , da han i lørdags afbrød nadia og mikkels bryllup - dog med gommens tilladelse . her sang christopher sin egen fortolkning af brazzis 'mine' . - overvejer at blive bryllupssanger fra nu af . tak til mikkel for at lade mig overraske hans smukke brud nadia ved deres bryllup sidste lørd <end> \n",
      "(target) <start> dansk popstjerne afbryder bryllup - en stor ære <end> \n",
      "(prediction) her er det er en en største <end>\n",
      "\n",
      "loss_val improved from 2.35182523727417 to 2.323357582092285, saving summarizer to basicsummarizer1024\n",
      "epoch 7, batch 720, logs: {'loss': 2.2765781402587892, 'loss_val': 2.323357582092285}\n",
      "epoch 7, batch 740, logs: {'loss': 2.2862533569335937, 'loss_val': 2.323357582092285}\n",
      "epoch 7, batch 760, logs: {'loss': 2.29670893351237, 'loss_val': 2.323357582092285}\n",
      "epoch 7, batch 780, logs: {'loss': 2.2850738525390626, 'loss_val': 2.323357582092285}\n",
      "epoch 7, batch 800, logs: {'loss': 2.2857228088378907, 'loss_val': 2.323357582092285}\n",
      "\n",
      "(input) <start> brandvæsnet i sydøstjylland havde ekstraordinært travlt tirsdag eftermiddag . på to timer havde de intet mindre end fem markbrande i området ved brædstrup , der ligger nordvest for horsens . alle brandene er slukket . - det starter på fuglrisvej i brædstrup omkring klokken # .# , derefter opstår der et par brande på en anden vej i området , siger henrik dam , der er vagtchef i sydøstjyllands politi . vag <end> \n",
      "(target) <start> pludselig blev der travlt fem brande på to timer ved samme by <end> \n",
      "(prediction) # .# kroner i # år - tv # <end>\n",
      "\n",
      "\n",
      "(input) <start> danmarks rolle i vm-kvalifikationen kan stort set være overstået søndag aften i tilfælde af nederlag i rumænien . men ikke desto mindre bliver landstræner åge hareide siddende i jobbet .til horsens folkeblad siger nordmanden , der oprindeligt fik kontrakt til sommeren # , at rammerne for en ny toårig aftale med dansk boldspil union dbu er på plads . »vi har forhandlet kontrakten færdig . den ligger <end> \n",
      "(target) <start> hareide jeg forlænger med dbu  <end> \n",
      "(prediction) # .# kroner i # år - tv # <end>\n",
      "\n",
      "\n",
      "(input) <start> dag ud og dag ind har han smilet sig gennem en valgkamp på over et år , norbert gerwald hofer .fra sin position ’midt i livet’ , som den #-årige kandidat ved dagens præsidentvalg i østrig selv har placeret sig i på plakater landet over , har han taget imod alle livets og det politiske håndværks mange tæsk med et venligt , fortroligt smil .lige indtil den sidste tv-duel , hvor den venlige grimasse stiv <end> \n",
      "(target) <start> norbert hofer er det nye højres smilende ansigt <end> \n",
      "(prediction) # .# kroner i # år - tv # <end>\n",
      "\n",
      "\n",
      "(input) <start> superligaen skæres ned til # hold fra # '  <end> \n",
      "(target) <start> superligaen skæres ned til # hold fra # <end> \n",
      "(prediction) # nye år <end>\n",
      "\n",
      "\n",
      "(input) <start> christopher er uden tvivl en charmør , der kan få de fleste pigehjerter til at smelte . det var formentlig også formålet , da han i lørdags afbrød nadia og mikkels bryllup - dog med gommens tilladelse . her sang christopher sin egen fortolkning af brazzis 'mine' . - overvejer at blive bryllupssanger fra nu af . tak til mikkel for at lade mig overraske hans smukke brud nadia ved deres bryllup sidste lørd <end> \n",
      "(target) <start> dansk popstjerne afbryder bryllup - en stor ære <end> \n",
      "(prediction) # .# kroner i # år - tv # <end>\n",
      "\n",
      "loss_val improved from 2.323357582092285 to 2.2964961528778076, saving summarizer to basicsummarizer1024\n",
      "epoch 8, batch 820, logs: {'loss': 2.2942377090454102, 'loss_val': 2.2964961528778076}\n",
      "epoch 8, batch 840, logs: {'loss': 2.2713027954101563, 'loss_val': 2.2964961528778076}\n",
      "epoch 8, batch 860, logs: {'loss': 2.2504597981770833, 'loss_val': 2.2964961528778076}\n",
      "epoch 8, batch 880, logs: {'loss': 2.255483055114746, 'loss_val': 2.2964961528778076}\n",
      "epoch 8, batch 900, logs: {'loss': 2.2586795043945314, 'loss_val': 2.2964961528778076}\n",
      "\n",
      "(input) <start> brandvæsnet i sydøstjylland havde ekstraordinært travlt tirsdag eftermiddag . på to timer havde de intet mindre end fem markbrande i området ved brædstrup , der ligger nordvest for horsens . alle brandene er slukket . - det starter på fuglrisvej i brædstrup omkring klokken # .# , derefter opstår der et par brande på en anden vej i området , siger henrik dam , der er vagtchef i sydøstjyllands politi . vag <end> \n",
      "(target) <start> pludselig blev der travlt fem brande på to timer ved samme by <end> \n",
      "(prediction) dansk bog er en lille bedste . . . . . . . . . . . . . . . . . . . . . . . .\n",
      "\n",
      "\n",
      "(input) <start> danmarks rolle i vm-kvalifikationen kan stort set være overstået søndag aften i tilfælde af nederlag i rumænien . men ikke desto mindre bliver landstræner åge hareide siddende i jobbet .til horsens folkeblad siger nordmanden , der oprindeligt fik kontrakt til sommeren # , at rammerne for en ny toårig aftale med dansk boldspil union dbu er på plads . »vi har forhandlet kontrakten færdig . den ligger <end> \n",
      "(target) <start> hareide jeg forlænger med dbu  <end> \n",
      "(prediction) dansk bog er en ny job <end>\n",
      "\n",
      "\n",
      "(input) <start> dag ud og dag ind har han smilet sig gennem en valgkamp på over et år , norbert gerwald hofer .fra sin position ’midt i livet’ , som den #-årige kandidat ved dagens præsidentvalg i østrig selv har placeret sig i på plakater landet over , har han taget imod alle livets og det politiske håndværks mange tæsk med et venligt , fortroligt smil .lige indtil den sidste tv-duel , hvor den venlige grimasse stiv <end> \n",
      "(target) <start> norbert hofer er det nye højres smilende ansigt <end> \n",
      "(prediction) dansk bog er en lille bedste . . . . . . . . . . . . . . . . . . . . . . . .\n",
      "\n",
      "\n",
      "(input) <start> superligaen skæres ned til # hold fra # '  <end> \n",
      "(target) <start> superligaen skæres ned til # hold fra # <end> \n",
      "(prediction) # .# danskere er en lille job <end>\n",
      "\n",
      "\n",
      "(input) <start> christopher er uden tvivl en charmør , der kan få de fleste pigehjerter til at smelte . det var formentlig også formålet , da han i lørdags afbrød nadia og mikkels bryllup - dog med gommens tilladelse . her sang christopher sin egen fortolkning af brazzis 'mine' . - overvejer at blive bryllupssanger fra nu af . tak til mikkel for at lade mig overraske hans smukke brud nadia ved deres bryllup sidste lørd <end> \n",
      "(target) <start> dansk popstjerne afbryder bryllup - en stor ære <end> \n",
      "(prediction) # . . . . . . . . . . . . . . . . . . . . . . . . . . . . .\n",
      "\n",
      "loss_val improved from 2.2964961528778076 to 2.2712032794952393, saving summarizer to basicsummarizer1024\n",
      "epoch 9, batch 920, logs: {'loss': 2.2507362365722656, 'loss_val': 2.2712032794952393}\n",
      "epoch 9, batch 940, logs: {'loss': 2.228235626220703, 'loss_val': 2.2712032794952393}\n",
      "epoch 9, batch 960, logs: {'loss': 2.2353246053059896, 'loss_val': 2.2712032794952393}\n",
      "epoch 9, batch 980, logs: {'loss': 2.2267921447753904, 'loss_val': 2.2712032794952393}\n",
      "epoch 9, batch 1000, logs: {'loss': 2.2317379760742186, 'loss_val': 2.2712032794952393}\n",
      "\n",
      "(input) <start> brandvæsnet i sydøstjylland havde ekstraordinært travlt tirsdag eftermiddag . på to timer havde de intet mindre end fem markbrande i området ved brædstrup , der ligger nordvest for horsens . alle brandene er slukket . - det starter på fuglrisvej i brædstrup omkring klokken # .# , derefter opstår der et par brande på en anden vej i området , siger henrik dam , der er vagtchef i sydøstjyllands politi . vag <end> \n",
      "(target) <start> pludselig blev der travlt fem brande på to timer ved samme by <end> \n",
      "(prediction) # .# .# .# kroner i # år nu er han om at blive i # år <end>\n",
      "\n",
      "\n",
      "(input) <start> danmarks rolle i vm-kvalifikationen kan stort set være overstået søndag aften i tilfælde af nederlag i rumænien . men ikke desto mindre bliver landstræner åge hareide siddende i jobbet .til horsens folkeblad siger nordmanden , der oprindeligt fik kontrakt til sommeren # , at rammerne for en ny toårig aftale med dansk boldspil union dbu er på plads . »vi har forhandlet kontrakten færdig . den ligger <end> \n",
      "(target) <start> hareide jeg forlænger med dbu  <end> \n",
      "(prediction) # .# .# kroner i # år nu er han om at blive i # år <end>\n",
      "\n",
      "\n",
      "(input) <start> dag ud og dag ind har han smilet sig gennem en valgkamp på over et år , norbert gerwald hofer .fra sin position ’midt i livet’ , som den #-årige kandidat ved dagens præsidentvalg i østrig selv har placeret sig i på plakater landet over , har han taget imod alle livets og det politiske håndværks mange tæsk med et venligt , fortroligt smil .lige indtil den sidste tv-duel , hvor den venlige grimasse stiv <end> \n",
      "(target) <start> norbert hofer er det nye højres smilende ansigt <end> \n",
      "(prediction) # .# kroner på vej til at blive i # år <end>\n",
      "\n",
      "\n",
      "(input) <start> superligaen skæres ned til # hold fra # '  <end> \n",
      "(target) <start> superligaen skæres ned til # hold fra # <end> \n",
      "(prediction) # .# kroner i # år nu er han om at blive i # år <end>\n",
      "\n",
      "\n",
      "(input) <start> christopher er uden tvivl en charmør , der kan få de fleste pigehjerter til at smelte . det var formentlig også formålet , da han i lørdags afbrød nadia og mikkels bryllup - dog med gommens tilladelse . her sang christopher sin egen fortolkning af brazzis 'mine' . - overvejer at blive bryllupssanger fra nu af . tak til mikkel for at lade mig overraske hans smukke brud nadia ved deres bryllup sidste lørd <end> \n",
      "(target) <start> dansk popstjerne afbryder bryllup - en stor ære <end> \n",
      "(prediction) # .# .# kroner i # år nu er han om at blive i # år <end>\n",
      "\n",
      "loss_val improved from 2.2712032794952393 to 2.247143507003784, saving summarizer to basicsummarizer1024\n",
      "epoch 10, batch 1020, logs: {'loss': 2.23262996673584, 'loss_val': 2.247143507003784}\n",
      "epoch 10, batch 1040, logs: {'loss': 2.2201534271240235, 'loss_val': 2.247143507003784}\n",
      "epoch 10, batch 1060, logs: {'loss': 2.2154561360677083, 'loss_val': 2.247143507003784}\n",
      "epoch 10, batch 1080, logs: {'loss': 2.216460609436035, 'loss_val': 2.247143507003784}\n",
      "epoch 10, batch 1100, logs: {'loss': 2.219706726074219, 'loss_val': 2.247143507003784}\n",
      "\n",
      "(input) <start> brandvæsnet i sydøstjylland havde ekstraordinært travlt tirsdag eftermiddag . på to timer havde de intet mindre end fem markbrande i området ved brædstrup , der ligger nordvest for horsens . alle brandene er slukket . - det starter på fuglrisvej i brædstrup omkring klokken # .# , derefter opstår der et par brande på en anden vej i området , siger henrik dam , der er vagtchef i sydøstjyllands politi . vag <end> \n",
      "(target) <start> pludselig blev der travlt fem brande på to timer ved samme by <end> \n",
      "(prediction) efter # år efter # år efter # år siden # .# kr . kr . <end>\n",
      "\n",
      "\n",
      "(input) <start> danmarks rolle i vm-kvalifikationen kan stort set være overstået søndag aften i tilfælde af nederlag i rumænien . men ikke desto mindre bliver landstræner åge hareide siddende i jobbet .til horsens folkeblad siger nordmanden , der oprindeligt fik kontrakt til sommeren # , at rammerne for en ny toårig aftale med dansk boldspil union dbu er på plads . »vi har forhandlet kontrakten færdig . den ligger <end> \n",
      "(target) <start> hareide jeg forlænger med dbu  <end> \n",
      "(prediction) efter # år efter # år efter # år efter # år <end>\n",
      "\n",
      "\n",
      "(input) <start> dag ud og dag ind har han smilet sig gennem en valgkamp på over et år , norbert gerwald hofer .fra sin position ’midt i livet’ , som den #-årige kandidat ved dagens præsidentvalg i østrig selv har placeret sig i på plakater landet over , har han taget imod alle livets og det politiske håndværks mange tæsk med et venligt , fortroligt smil .lige indtil den sidste tv-duel , hvor den venlige grimasse stiv <end> \n",
      "(target) <start> norbert hofer er det nye højres smilende ansigt <end> \n",
      "(prediction) # .# kr . i # år efter # år <end>\n",
      "\n",
      "\n",
      "(input) <start> superligaen skæres ned til # hold fra # '  <end> \n",
      "(target) <start> superligaen skæres ned til # hold fra # <end> \n",
      "(prediction) ny bog om # .# kroner <end>\n",
      "\n",
      "\n",
      "(input) <start> christopher er uden tvivl en charmør , der kan få de fleste pigehjerter til at smelte . det var formentlig også formålet , da han i lørdags afbrød nadia og mikkels bryllup - dog med gommens tilladelse . her sang christopher sin egen fortolkning af brazzis 'mine' . - overvejer at blive bryllupssanger fra nu af . tak til mikkel for at lade mig overraske hans smukke brud nadia ved deres bryllup sidste lørd <end> \n",
      "(target) <start> dansk popstjerne afbryder bryllup - en stor ære <end> \n",
      "(prediction) efter # år efter # år siden # .# kr . kr . <end>\n",
      "\n",
      "loss_val improved from 2.247143507003784 to 2.228419542312622, saving summarizer to basicsummarizer1024\n",
      "epoch 11, batch 1120, logs: {'loss': 2.262550926208496, 'loss_val': 2.228419542312622}\n",
      "epoch 11, batch 1140, logs: {'loss': 2.22747688293457, 'loss_val': 2.228419542312622}\n",
      "epoch 11, batch 1160, logs: {'loss': 2.2269607543945313, 'loss_val': 2.228419542312622}\n",
      "epoch 11, batch 1180, logs: {'loss': 2.222342681884766, 'loss_val': 2.228419542312622}\n",
      "epoch 11, batch 1200, logs: {'loss': 2.2118287658691407, 'loss_val': 2.228419542312622}\n",
      "\n",
      "(input) <start> brandvæsnet i sydøstjylland havde ekstraordinært travlt tirsdag eftermiddag . på to timer havde de intet mindre end fem markbrande i området ved brædstrup , der ligger nordvest for horsens . alle brandene er slukket . - det starter på fuglrisvej i brædstrup omkring klokken # .# , derefter opstår der et par brande på en anden vej i området , siger henrik dam , der er vagtchef i sydøstjyllands politi . vag <end> \n",
      "(target) <start> pludselig blev der travlt fem brande på to timer ved samme by <end> \n",
      "(prediction) # .# kroner i # år <end>\n",
      "\n",
      "\n",
      "(input) <start> danmarks rolle i vm-kvalifikationen kan stort set være overstået søndag aften i tilfælde af nederlag i rumænien . men ikke desto mindre bliver landstræner åge hareide siddende i jobbet .til horsens folkeblad siger nordmanden , der oprindeligt fik kontrakt til sommeren # , at rammerne for en ny toårig aftale med dansk boldspil union dbu er på plads . »vi har forhandlet kontrakten færdig . den ligger <end> \n",
      "(target) <start> hareide jeg forlænger med dbu  <end> \n",
      "(prediction) #-årig mand død efter # år <end>\n",
      "\n",
      "\n",
      "(input) <start> dag ud og dag ind har han smilet sig gennem en valgkamp på over et år , norbert gerwald hofer .fra sin position ’midt i livet’ , som den #-årige kandidat ved dagens præsidentvalg i østrig selv har placeret sig i på plakater landet over , har han taget imod alle livets og det politiske håndværks mange tæsk med et venligt , fortroligt smil .lige indtil den sidste tv-duel , hvor den venlige grimasse stiv <end> \n",
      "(target) <start> norbert hofer er det nye højres smilende ansigt <end> \n",
      "(prediction) # .# kroner til at blive en god dag for at blive en god dag <end>\n",
      "\n",
      "\n",
      "(input) <start> superligaen skæres ned til # hold fra # '  <end> \n",
      "(target) <start> superligaen skæres ned til # hold fra # <end> \n",
      "(prediction) # .# kroner til at blive en egen dag <end>\n",
      "\n",
      "\n",
      "(input) <start> christopher er uden tvivl en charmør , der kan få de fleste pigehjerter til at smelte . det var formentlig også formålet , da han i lørdags afbrød nadia og mikkels bryllup - dog med gommens tilladelse . her sang christopher sin egen fortolkning af brazzis 'mine' . - overvejer at blive bryllupssanger fra nu af . tak til mikkel for at lade mig overraske hans smukke brud nadia ved deres bryllup sidste lørd <end> \n",
      "(target) <start> dansk popstjerne afbryder bryllup - en stor ære <end> \n",
      "(prediction) # .# kroner til at blive en egen dag <end>\n",
      "\n",
      "loss_val improved from 2.228419542312622 to 2.2063863277435303, saving summarizer to basicsummarizer1024\n",
      "epoch 12, batch 1220, logs: {'loss': 2.1758821487426756, 'loss_val': 2.2063863277435303}\n",
      "epoch 12, batch 1240, logs: {'loss': 2.1786405563354494, 'loss_val': 2.2063863277435303}\n",
      "epoch 12, batch 1260, logs: {'loss': 2.178113555908203, 'loss_val': 2.2063863277435303}\n",
      "epoch 12, batch 1280, logs: {'loss': 2.1740133285522463, 'loss_val': 2.2063863277435303}\n",
      "epoch 12, batch 1300, logs: {'loss': 2.177113037109375, 'loss_val': 2.2063863277435303}\n",
      "\n",
      "(input) <start> brandvæsnet i sydøstjylland havde ekstraordinært travlt tirsdag eftermiddag . på to timer havde de intet mindre end fem markbrande i området ved brædstrup , der ligger nordvest for horsens . alle brandene er slukket . - det starter på fuglrisvej i brædstrup omkring klokken # .# , derefter opstår der et par brande på en anden vej i området , siger henrik dam , der er vagtchef i sydøstjyllands politi . vag <end> \n",
      "(target) <start> pludselig blev der travlt fem brande på to timer ved samme by <end> \n",
      "(prediction) mand dræbt i brand i # år <end>\n",
      "\n",
      "\n",
      "(input) <start> danmarks rolle i vm-kvalifikationen kan stort set være overstået søndag aften i tilfælde af nederlag i rumænien . men ikke desto mindre bliver landstræner åge hareide siddende i jobbet .til horsens folkeblad siger nordmanden , der oprindeligt fik kontrakt til sommeren # , at rammerne for en ny toårig aftale med dansk boldspil union dbu er på plads . »vi har forhandlet kontrakten færdig . den ligger <end> \n",
      "(target) <start> hareide jeg forlænger med dbu  <end> \n",
      "(prediction) dansk skuespiller i dansk by <end>\n",
      "\n",
      "\n",
      "(input) <start> dag ud og dag ind har han smilet sig gennem en valgkamp på over et år , norbert gerwald hofer .fra sin position ’midt i livet’ , som den #-årige kandidat ved dagens præsidentvalg i østrig selv har placeret sig i på plakater landet over , har han taget imod alle livets og det politiske håndværks mange tæsk med et venligt , fortroligt smil .lige indtil den sidste tv-duel , hvor den venlige grimasse stiv <end> \n",
      "(target) <start> norbert hofer er det nye højres smilende ansigt <end> \n",
      "(prediction) # .# kroner til at blive en halv million <end>\n",
      "\n",
      "\n",
      "(input) <start> superligaen skæres ned til # hold fra # '  <end> \n",
      "(target) <start> superligaen skæres ned til # hold fra # <end> \n",
      "(prediction) # .# kroner til at blive en halv million <end>\n",
      "\n",
      "\n",
      "(input) <start> christopher er uden tvivl en charmør , der kan få de fleste pigehjerter til at smelte . det var formentlig også formålet , da han i lørdags afbrød nadia og mikkels bryllup - dog med gommens tilladelse . her sang christopher sin egen fortolkning af brazzis 'mine' . - overvejer at blive bryllupssanger fra nu af . tak til mikkel for at lade mig overraske hans smukke brud nadia ved deres bryllup sidste lørd <end> \n",
      "(target) <start> dansk popstjerne afbryder bryllup - en stor ære <end> \n",
      "(prediction) her er de bedste bedste <end>\n",
      "\n",
      "loss_val improved from 2.2063863277435303 to 2.1803972721099854, saving summarizer to basicsummarizer1024\n",
      "epoch 13, batch 1320, logs: {'loss': 2.1729379653930665, 'loss_val': 2.1803972721099854}\n",
      "epoch 13, batch 1340, logs: {'loss': 2.183407211303711, 'loss_val': 2.1803972721099854}\n",
      "epoch 13, batch 1360, logs: {'loss': 2.185699462890625, 'loss_val': 2.1803972721099854}\n",
      "epoch 13, batch 1380, logs: {'loss': 2.1726757049560548, 'loss_val': 2.1803972721099854}\n",
      "epoch 13, batch 1400, logs: {'loss': 2.1712850952148437, 'loss_val': 2.1803972721099854}\n",
      "\n",
      "(input) <start> brandvæsnet i sydøstjylland havde ekstraordinært travlt tirsdag eftermiddag . på to timer havde de intet mindre end fem markbrande i området ved brædstrup , der ligger nordvest for horsens . alle brandene er slukket . - det starter på fuglrisvej i brædstrup omkring klokken # .# , derefter opstår der et par brande på en anden vej i området , siger henrik dam , der er vagtchef i sydøstjyllands politi . vag <end> \n",
      "(target) <start> pludselig blev der travlt fem brande på to timer ved samme by <end> \n",
      "(prediction) politiet efterlyser #-årig pige i kritisk tilstand <end>\n",
      "\n",
      "\n",
      "(input) <start> danmarks rolle i vm-kvalifikationen kan stort set være overstået søndag aften i tilfælde af nederlag i rumænien . men ikke desto mindre bliver landstræner åge hareide siddende i jobbet .til horsens folkeblad siger nordmanden , der oprindeligt fik kontrakt til sommeren # , at rammerne for en ny toårig aftale med dansk boldspil union dbu er på plads . »vi har forhandlet kontrakten færdig . den ligger <end> \n",
      "(target) <start> hareide jeg forlænger med dbu  <end> \n",
      "(prediction) her er de nye bank i # år <end>\n",
      "\n",
      "\n",
      "(input) <start> dag ud og dag ind har han smilet sig gennem en valgkamp på over et år , norbert gerwald hofer .fra sin position ’midt i livet’ , som den #-årige kandidat ved dagens præsidentvalg i østrig selv har placeret sig i på plakater landet over , har han taget imod alle livets og det politiske håndværks mange tæsk med et venligt , fortroligt smil .lige indtil den sidste tv-duel , hvor den venlige grimasse stiv <end> \n",
      "(target) <start> norbert hofer er det nye højres smilende ansigt <end> \n",
      "(prediction) her er de nye bank i # år <end>\n",
      "\n",
      "\n",
      "(input) <start> superligaen skæres ned til # hold fra # '  <end> \n",
      "(target) <start> superligaen skæres ned til # hold fra # <end> \n",
      "(prediction) # .# kroner til at blive en stor dag <end>\n",
      "\n",
      "\n",
      "(input) <start> christopher er uden tvivl en charmør , der kan få de fleste pigehjerter til at smelte . det var formentlig også formålet , da han i lørdags afbrød nadia og mikkels bryllup - dog med gommens tilladelse . her sang christopher sin egen fortolkning af brazzis 'mine' . - overvejer at blive bryllupssanger fra nu af . tak til mikkel for at lade mig overraske hans smukke brud nadia ved deres bryllup sidste lørd <end> \n",
      "(target) <start> dansk popstjerne afbryder bryllup - en stor ære <end> \n",
      "(prediction) her er de nye bank i # år <end>\n",
      "\n",
      "loss_val improved from 2.1803972721099854 to 2.1610677242279053, saving summarizer to basicsummarizer1024\n",
      "epoch 14, batch 1420, logs: {'loss': 2.1900510787963867, 'loss_val': 2.1610677242279053}\n",
      "epoch 14, batch 1440, logs: {'loss': 2.1699399948120117, 'loss_val': 2.1610677242279053}\n",
      "epoch 14, batch 1460, logs: {'loss': 2.1640724182128905, 'loss_val': 2.1610677242279053}\n",
      "epoch 14, batch 1480, logs: {'loss': 2.1558296203613283, 'loss_val': 2.1610677242279053}\n",
      "epoch 14, batch 1500, logs: {'loss': 2.151994476318359, 'loss_val': 2.1610677242279053}\n",
      "\n",
      "(input) <start> brandvæsnet i sydøstjylland havde ekstraordinært travlt tirsdag eftermiddag . på to timer havde de intet mindre end fem markbrande i området ved brædstrup , der ligger nordvest for horsens . alle brandene er slukket . - det starter på fuglrisvej i brædstrup omkring klokken # .# , derefter opstår der et par brande på en anden vej i området , siger henrik dam , der er vagtchef i sydøstjyllands politi . vag <end> \n",
      "(target) <start> pludselig blev der travlt fem brande på to timer ved samme by <end> \n",
      "(prediction) #-årig dreng død i ulykke <end>\n",
      "\n",
      "\n",
      "(input) <start> danmarks rolle i vm-kvalifikationen kan stort set være overstået søndag aften i tilfælde af nederlag i rumænien . men ikke desto mindre bliver landstræner åge hareide siddende i jobbet .til horsens folkeblad siger nordmanden , der oprindeligt fik kontrakt til sommeren # , at rammerne for en ny toårig aftale med dansk boldspil union dbu er på plads . »vi har forhandlet kontrakten færdig . den ligger <end> \n",
      "(target) <start> hareide jeg forlænger med dbu  <end> \n",
      "(prediction) se billederne her er de nye vigtigste <end>\n",
      "\n",
      "\n",
      "(input) <start> dag ud og dag ind har han smilet sig gennem en valgkamp på over et år , norbert gerwald hofer .fra sin position ’midt i livet’ , som den #-årige kandidat ved dagens præsidentvalg i østrig selv har placeret sig i på plakater landet over , har han taget imod alle livets og det politiske håndværks mange tæsk med et venligt , fortroligt smil .lige indtil den sidste tv-duel , hvor den venlige grimasse stiv <end> \n",
      "(target) <start> norbert hofer er det nye højres smilende ansigt <end> \n",
      "(prediction) # .# kr . i dag er det bedste , der er en god dag for at få en god dag for at få en god dag for at få\n",
      "\n",
      "\n",
      "(input) <start> superligaen skæres ned til # hold fra # '  <end> \n",
      "(target) <start> superligaen skæres ned til # hold fra # <end> \n",
      "(prediction) # .# kr . i # <end>\n",
      "\n",
      "\n",
      "(input) <start> christopher er uden tvivl en charmør , der kan få de fleste pigehjerter til at smelte . det var formentlig også formålet , da han i lørdags afbrød nadia og mikkels bryllup - dog med gommens tilladelse . her sang christopher sin egen fortolkning af brazzis 'mine' . - overvejer at blive bryllupssanger fra nu af . tak til mikkel for at lade mig overraske hans smukke brud nadia ved deres bryllup sidste lørd <end> \n",
      "(target) <start> dansk popstjerne afbryder bryllup - en stor ære <end> \n",
      "(prediction) her er de nye vigtigste mest <end>\n",
      "\n",
      "loss_val improved from 2.1610677242279053 to 2.144521474838257, saving summarizer to basicsummarizer1024\n",
      "epoch 15, batch 1520, logs: {'loss': 2.1011894226074217, 'loss_val': 2.144521474838257}\n",
      "epoch 15, batch 1540, logs: {'loss': 2.1317543029785155, 'loss_val': 2.144521474838257}\n",
      "epoch 15, batch 1560, logs: {'loss': 2.1224112192789715, 'loss_val': 2.144521474838257}\n",
      "epoch 15, batch 1580, logs: {'loss': 2.126309394836426, 'loss_val': 2.144521474838257}\n",
      "epoch 15, batch 1600, logs: {'loss': 2.1314039611816407, 'loss_val': 2.144521474838257}\n",
      "\n",
      "(input) <start> brandvæsnet i sydøstjylland havde ekstraordinært travlt tirsdag eftermiddag . på to timer havde de intet mindre end fem markbrande i området ved brædstrup , der ligger nordvest for horsens . alle brandene er slukket . - det starter på fuglrisvej i brædstrup omkring klokken # .# , derefter opstår der et par brande på en anden vej i området , siger henrik dam , der er vagtchef i sydøstjyllands politi . vag <end> \n",
      "(target) <start> pludselig blev der travlt fem brande på to timer ved samme by <end> \n",
      "(prediction) #-årig pige død efter uheld <end>\n",
      "\n",
      "\n",
      "(input) <start> danmarks rolle i vm-kvalifikationen kan stort set være overstået søndag aften i tilfælde af nederlag i rumænien . men ikke desto mindre bliver landstræner åge hareide siddende i jobbet .til horsens folkeblad siger nordmanden , der oprindeligt fik kontrakt til sommeren # , at rammerne for en ny toårig aftale med dansk boldspil union dbu er på plads . »vi har forhandlet kontrakten færdig . den ligger <end> \n",
      "(target) <start> hareide jeg forlænger med dbu  <end> \n",
      "(prediction) dansk skuespiller i # år nu er han en kæmpe drejning <end>\n",
      "\n",
      "\n",
      "(input) <start> dag ud og dag ind har han smilet sig gennem en valgkamp på over et år , norbert gerwald hofer .fra sin position ’midt i livet’ , som den #-årige kandidat ved dagens præsidentvalg i østrig selv har placeret sig i på plakater landet over , har han taget imod alle livets og det politiske håndværks mange tæsk med et venligt , fortroligt smil .lige indtil den sidste tv-duel , hvor den venlige grimasse stiv <end> \n",
      "(target) <start> norbert hofer er det nye højres smilende ansigt <end> \n",
      "(prediction) # .# danskere er en god dag for at blive en god dag <end>\n",
      "\n",
      "\n",
      "(input) <start> superligaen skæres ned til # hold fra # '  <end> \n",
      "(target) <start> superligaen skæres ned til # hold fra # <end> \n",
      "(prediction) # .# danskere er i # <end>\n",
      "\n",
      "\n",
      "(input) <start> christopher er uden tvivl en charmør , der kan få de fleste pigehjerter til at smelte . det var formentlig også formålet , da han i lørdags afbrød nadia og mikkels bryllup - dog med gommens tilladelse . her sang christopher sin egen fortolkning af brazzis 'mine' . - overvejer at blive bryllupssanger fra nu af . tak til mikkel for at lade mig overraske hans smukke brud nadia ved deres bryllup sidste lørd <end> \n",
      "(target) <start> dansk popstjerne afbryder bryllup - en stor ære <end> \n",
      "(prediction) her er de nye nye navne <end>\n",
      "\n",
      "loss_val improved from 2.144521474838257 to 2.125617504119873, saving summarizer to basicsummarizer1024\n",
      "epoch 16, batch 1620, logs: {'loss': 2.06239013671875, 'loss_val': 2.125617504119873}\n",
      "epoch 16, batch 1640, logs: {'loss': 2.089665412902832, 'loss_val': 2.125617504119873}\n",
      "epoch 16, batch 1660, logs: {'loss': 2.101370366414388, 'loss_val': 2.125617504119873}\n",
      "epoch 16, batch 1680, logs: {'loss': 2.094187927246094, 'loss_val': 2.125617504119873}\n",
      "finished iterating over dataset, total batches: 1695\n",
      "epoch 16, batch 1700, logs: {'loss': 2.0818777465820313, 'loss_val': 2.125617504119873}\n",
      "\n",
      "(input) <start> brandvæsnet i sydøstjylland havde ekstraordinært travlt tirsdag eftermiddag . på to timer havde de intet mindre end fem markbrande i området ved brædstrup , der ligger nordvest for horsens . alle brandene er slukket . - det starter på fuglrisvej i brædstrup omkring klokken # .# , derefter opstår der et par brande på en anden vej i området , siger henrik dam , der er vagtchef i sydøstjyllands politi . vag <end> \n",
      "(target) <start> pludselig blev der travlt fem brande på to timer ved samme by <end> \n",
      "(prediction) #-årig mand fundet død i # år <end>\n",
      "\n",
      "\n",
      "(input) <start> danmarks rolle i vm-kvalifikationen kan stort set være overstået søndag aften i tilfælde af nederlag i rumænien . men ikke desto mindre bliver landstræner åge hareide siddende i jobbet .til horsens folkeblad siger nordmanden , der oprindeligt fik kontrakt til sommeren # , at rammerne for en ny toårig aftale med dansk boldspil union dbu er på plads . »vi har forhandlet kontrakten færdig . den ligger <end> \n",
      "(target) <start> hareide jeg forlænger med dbu  <end> \n",
      "(prediction) efter dansk by nu er han fundet død <end>\n",
      "\n",
      "\n",
      "(input) <start> dag ud og dag ind har han smilet sig gennem en valgkamp på over et år , norbert gerwald hofer .fra sin position ’midt i livet’ , som den #-årige kandidat ved dagens præsidentvalg i østrig selv har placeret sig i på plakater landet over , har han taget imod alle livets og det politiske håndværks mange tæsk med et venligt , fortroligt smil .lige indtil den sidste tv-duel , hvor den venlige grimasse stiv <end> \n",
      "(target) <start> norbert hofer er det nye højres smilende ansigt <end> \n",
      "(prediction) en god dag for en dårlig dag for en dårlig dag for at blive en dårlig dag for en dårlig dag for at blive en dårlig dag for at blive\n",
      "\n",
      "\n",
      "(input) <start> superligaen skæres ned til # hold fra # '  <end> \n",
      "(target) <start> superligaen skæres ned til # hold fra # <end> \n",
      "(prediction) # .# danskere i # <end>\n",
      "\n",
      "\n",
      "(input) <start> christopher er uden tvivl en charmør , der kan få de fleste pigehjerter til at smelte . det var formentlig også formålet , da han i lørdags afbrød nadia og mikkels bryllup - dog med gommens tilladelse . her sang christopher sin egen fortolkning af brazzis 'mine' . - overvejer at blive bryllupssanger fra nu af . tak til mikkel for at lade mig overraske hans smukke brud nadia ved deres bryllup sidste lørd <end> \n",
      "(target) <start> dansk popstjerne afbryder bryllup - en stor ære <end> \n",
      "(prediction) nu er det # nye navne til at blive en ny dag <end>\n",
      "\n",
      "loss_val improved from 2.125617504119873 to 2.106459617614746, saving summarizer to basicsummarizer1024\n",
      "epoch 17, batch 1720, logs: {'loss': 1.8854156494140626, 'loss_val': 2.106459617614746}\n",
      "epoch 17, batch 1740, logs: {'loss': 1.8957666397094726, 'loss_val': 2.106459617614746}\n",
      "epoch 17, batch 1760, logs: {'loss': 1.901769256591797, 'loss_val': 2.106459617614746}\n",
      "epoch 17, batch 1780, logs: {'loss': 1.8937891006469727, 'loss_val': 2.106459617614746}\n",
      "epoch 17, batch 1800, logs: {'loss': 1.8927230834960938, 'loss_val': 2.106459617614746}\n",
      "\n",
      "(input) <start> brandvæsnet i sydøstjylland havde ekstraordinært travlt tirsdag eftermiddag . på to timer havde de intet mindre end fem markbrande i området ved brædstrup , der ligger nordvest for horsens . alle brandene er slukket . - det starter på fuglrisvej i brædstrup omkring klokken # .# , derefter opstår der et par brande på en anden vej i området , siger henrik dam , der er vagtchef i sydøstjyllands politi . vag <end> \n",
      "(target) <start> pludselig blev der travlt fem brande på to timer ved samme by <end> \n",
      "(prediction) efter brand i brand <end>\n",
      "\n",
      "\n",
      "(input) <start> danmarks rolle i vm-kvalifikationen kan stort set være overstået søndag aften i tilfælde af nederlag i rumænien . men ikke desto mindre bliver landstræner åge hareide siddende i jobbet .til horsens folkeblad siger nordmanden , der oprindeligt fik kontrakt til sommeren # , at rammerne for en ny toårig aftale med dansk boldspil union dbu er på plads . »vi har forhandlet kontrakten færdig . den ligger <end> \n",
      "(target) <start> hareide jeg forlænger med dbu  <end> \n",
      "(prediction) efter dansk stjerne i dansk klub <end>\n",
      "\n",
      "\n",
      "(input) <start> dag ud og dag ind har han smilet sig gennem en valgkamp på over et år , norbert gerwald hofer .fra sin position ’midt i livet’ , som den #-årige kandidat ved dagens præsidentvalg i østrig selv har placeret sig i på plakater landet over , har han taget imod alle livets og det politiske håndværks mange tæsk med et venligt , fortroligt smil .lige indtil den sidste tv-duel , hvor den venlige grimasse stiv <end> \n",
      "(target) <start> norbert hofer er det nye højres smilende ansigt <end> \n",
      "(prediction) en god dag for en god dag for en dårlig dag for at blive en dårlig dag for at blive en dårlig dag for at blive en dårlig dag for\n",
      "\n",
      "\n",
      "(input) <start> superligaen skæres ned til # hold fra # '  <end> \n",
      "(target) <start> superligaen skæres ned til # hold fra # <end> \n",
      "(prediction) # .# kroner til at blive i # <end>\n",
      "\n",
      "\n",
      "(input) <start> christopher er uden tvivl en charmør , der kan få de fleste pigehjerter til at smelte . det var formentlig også formålet , da han i lørdags afbrød nadia og mikkels bryllup - dog med gommens tilladelse . her sang christopher sin egen fortolkning af brazzis 'mine' . - overvejer at blive bryllupssanger fra nu af . tak til mikkel for at lade mig overraske hans smukke brud nadia ved deres bryllup sidste lørd <end> \n",
      "(target) <start> dansk popstjerne afbryder bryllup - en stor ære <end> \n",
      "(prediction) efter dansk nedtur - jeg er ikke en god dag <end>\n",
      "\n",
      "loss_val did not improve.\n",
      "epoch 18, batch 1820, logs: {'loss': 1.865106964111328, 'loss_val': 2.108393907546997}\n",
      "epoch 18, batch 1840, logs: {'loss': 1.894416618347168, 'loss_val': 2.108393907546997}\n",
      "epoch 18, batch 1860, logs: {'loss': 1.8903270721435548, 'loss_val': 2.108393907546997}\n",
      "epoch 18, batch 1880, logs: {'loss': 1.8929243087768555, 'loss_val': 2.108393907546997}\n",
      "epoch 18, batch 1900, logs: {'loss': 1.8999740600585937, 'loss_val': 2.108393907546997}\n",
      "\n",
      "(input) <start> brandvæsnet i sydøstjylland havde ekstraordinært travlt tirsdag eftermiddag . på to timer havde de intet mindre end fem markbrande i området ved brædstrup , der ligger nordvest for horsens . alle brandene er slukket . - det starter på fuglrisvej i brædstrup omkring klokken # .# , derefter opstår der et par brande på en anden vej i området , siger henrik dam , der er vagtchef i sydøstjyllands politi . vag <end> \n",
      "(target) <start> pludselig blev der travlt fem brande på to timer ved samme by <end> \n",
      "(prediction) efter kritik af #-årig kvinde blev stjålet <end>\n",
      "\n",
      "\n",
      "(input) <start> danmarks rolle i vm-kvalifikationen kan stort set være overstået søndag aften i tilfælde af nederlag i rumænien . men ikke desto mindre bliver landstræner åge hareide siddende i jobbet .til horsens folkeblad siger nordmanden , der oprindeligt fik kontrakt til sommeren # , at rammerne for en ny toårig aftale med dansk boldspil union dbu er på plads . »vi har forhandlet kontrakten færdig . den ligger <end> \n",
      "(target) <start> hareide jeg forlænger med dbu  <end> \n",
      "(prediction) ny dansk direktør for at blive en dårlig dag for at blive en dårlig dag <end>\n",
      "\n",
      "\n",
      "(input) <start> dag ud og dag ind har han smilet sig gennem en valgkamp på over et år , norbert gerwald hofer .fra sin position ’midt i livet’ , som den #-årige kandidat ved dagens præsidentvalg i østrig selv har placeret sig i på plakater landet over , har han taget imod alle livets og det politiske håndværks mange tæsk med et venligt , fortroligt smil .lige indtil den sidste tv-duel , hvor den venlige grimasse stiv <end> \n",
      "(target) <start> norbert hofer er det nye højres smilende ansigt <end> \n",
      "(prediction) en god dag for en dårlig dag for en dårlig dag for en dårlig dag for en dårlig dag <end>\n",
      "\n",
      "\n",
      "(input) <start> superligaen skæres ned til # hold fra # '  <end> \n",
      "(target) <start> superligaen skæres ned til # hold fra # <end> \n",
      "(prediction) # .# kroner til at blive i # år <end>\n",
      "\n",
      "\n",
      "(input) <start> christopher er uden tvivl en charmør , der kan få de fleste pigehjerter til at smelte . det var formentlig også formålet , da han i lørdags afbrød nadia og mikkels bryllup - dog med gommens tilladelse . her sang christopher sin egen fortolkning af brazzis 'mine' . - overvejer at blive bryllupssanger fra nu af . tak til mikkel for at lade mig overraske hans smukke brud nadia ved deres bryllup sidste lørd <end> \n",
      "(target) <start> dansk popstjerne afbryder bryllup - en stor ære <end> \n",
      "(prediction) efter kritik af dansk stjerne - jeg er ikke en dårlig dag <end>\n",
      "\n",
      "loss_val improved from 2.106459617614746 to 2.1014962196350098, saving summarizer to basicsummarizer1024\n",
      "epoch 19, batch 1920, logs: {'loss': 1.891270065307617, 'loss_val': 2.1014962196350098}\n",
      "epoch 19, batch 1940, logs: {'loss': 1.9054468154907227, 'loss_val': 2.1014962196350098}\n",
      "epoch 19, batch 1960, logs: {'loss': 1.8872301737467447, 'loss_val': 2.1014962196350098}\n",
      "epoch 19, batch 1980, logs: {'loss': 1.8870113372802735, 'loss_val': 2.1014962196350098}\n",
      "epoch 19, batch 2000, logs: {'loss': 1.8903041076660156, 'loss_val': 2.1014962196350098}\n",
      "\n",
      "(input) <start> brandvæsnet i sydøstjylland havde ekstraordinært travlt tirsdag eftermiddag . på to timer havde de intet mindre end fem markbrande i området ved brædstrup , der ligger nordvest for horsens . alle brandene er slukket . - det starter på fuglrisvej i brædstrup omkring klokken # .# , derefter opstår der et par brande på en anden vej i området , siger henrik dam , der er vagtchef i sydøstjyllands politi . vag <end> \n",
      "(target) <start> pludselig blev der travlt fem brande på to timer ved samme by <end> \n",
      "(prediction) politiet advarer mod politiet - det er en rigtig god <end>\n",
      "\n",
      "\n",
      "(input) <start> danmarks rolle i vm-kvalifikationen kan stort set være overstået søndag aften i tilfælde af nederlag i rumænien . men ikke desto mindre bliver landstræner åge hareide siddende i jobbet .til horsens folkeblad siger nordmanden , der oprindeligt fik kontrakt til sommeren # , at rammerne for en ny toårig aftale med dansk boldspil union dbu er på plads . »vi har forhandlet kontrakten færdig . den ligger <end> \n",
      "(target) <start> hareide jeg forlænger med dbu  <end> \n",
      "(prediction) dansk skuespiller i dansk nedtur - det er en rigtig god <end>\n",
      "\n",
      "\n",
      "(input) <start> dag ud og dag ind har han smilet sig gennem en valgkamp på over et år , norbert gerwald hofer .fra sin position ’midt i livet’ , som den #-årige kandidat ved dagens præsidentvalg i østrig selv har placeret sig i på plakater landet over , har han taget imod alle livets og det politiske håndværks mange tæsk med et venligt , fortroligt smil .lige indtil den sidste tv-duel , hvor den venlige grimasse stiv <end> \n",
      "(target) <start> norbert hofer er det nye højres smilende ansigt <end> \n",
      "(prediction) en god dag for en dårlig dag for en dårlig dag for en dårlig dag for en dårlig dag for en dårlig dag for en dårlig dag for en dårlig\n",
      "\n",
      "\n",
      "(input) <start> superligaen skæres ned til # hold fra # '  <end> \n",
      "(target) <start> superligaen skæres ned til # hold fra # <end> \n",
      "(prediction) # .# danskere i # <end>\n",
      "\n",
      "\n",
      "(input) <start> christopher er uden tvivl en charmør , der kan få de fleste pigehjerter til at smelte . det var formentlig også formålet , da han i lørdags afbrød nadia og mikkels bryllup - dog med gommens tilladelse . her sang christopher sin egen fortolkning af brazzis 'mine' . - overvejer at blive bryllupssanger fra nu af . tak til mikkel for at lade mig overraske hans smukke brud nadia ved deres bryllup sidste lørd <end> \n",
      "(target) <start> dansk popstjerne afbryder bryllup - en stor ære <end> \n",
      "(prediction) her er de # grader i # <end>\n",
      "\n",
      "loss_val improved from 2.1014962196350098 to 2.0873239040374756, saving summarizer to basicsummarizer1024\n",
      "epoch 20, batch 2020, logs: {'loss': 1.8987491607666016, 'loss_val': 2.0873239040374756}\n",
      "epoch 20, batch 2040, logs: {'loss': 1.8957622528076172, 'loss_val': 2.0873239040374756}\n",
      "epoch 20, batch 2060, logs: {'loss': 1.880668004353841, 'loss_val': 2.0873239040374756}\n",
      "epoch 20, batch 2080, logs: {'loss': 1.8785518646240233, 'loss_val': 2.0873239040374756}\n",
      "epoch 20, batch 2100, logs: {'loss': 1.8853286743164062, 'loss_val': 2.0873239040374756}\n",
      "\n",
      "(input) <start> brandvæsnet i sydøstjylland havde ekstraordinært travlt tirsdag eftermiddag . på to timer havde de intet mindre end fem markbrande i området ved brædstrup , der ligger nordvest for horsens . alle brandene er slukket . - det starter på fuglrisvej i brædstrup omkring klokken # .# , derefter opstår der et par brande på en anden vej i området , siger henrik dam , der er vagtchef i sydøstjyllands politi . vag <end> \n",
      "(target) <start> pludselig blev der travlt fem brande på to timer ved samme by <end> \n",
      "(prediction) efter # år i fængsel for at få en halv million kroner <end>\n",
      "\n",
      "\n",
      "(input) <start> danmarks rolle i vm-kvalifikationen kan stort set være overstået søndag aften i tilfælde af nederlag i rumænien . men ikke desto mindre bliver landstræner åge hareide siddende i jobbet .til horsens folkeblad siger nordmanden , der oprindeligt fik kontrakt til sommeren # , at rammerne for en ny toårig aftale med dansk boldspil union dbu er på plads . »vi har forhandlet kontrakten færdig . den ligger <end> \n",
      "(target) <start> hareide jeg forlænger med dbu  <end> \n",
      "(prediction) ny dansk stjerne i dansk lufthavn <end>\n",
      "\n",
      "\n",
      "(input) <start> dag ud og dag ind har han smilet sig gennem en valgkamp på over et år , norbert gerwald hofer .fra sin position ’midt i livet’ , som den #-årige kandidat ved dagens præsidentvalg i østrig selv har placeret sig i på plakater landet over , har han taget imod alle livets og det politiske håndværks mange tæsk med et venligt , fortroligt smil .lige indtil den sidste tv-duel , hvor den venlige grimasse stiv <end> \n",
      "(target) <start> norbert hofer er det nye højres smilende ansigt <end> \n",
      "(prediction) en god dag for at få en dårlig dag for at få en dårlig dag for at få en dårlig dag <end>\n",
      "\n",
      "\n",
      "(input) <start> superligaen skæres ned til # hold fra # '  <end> \n",
      "(target) <start> superligaen skæres ned til # hold fra # <end> \n",
      "(prediction) # tricks til at få en milliard til at få en milliard <end>\n",
      "\n",
      "\n",
      "(input) <start> christopher er uden tvivl en charmør , der kan få de fleste pigehjerter til at smelte . det var formentlig også formålet , da han i lørdags afbrød nadia og mikkels bryllup - dog med gommens tilladelse . her sang christopher sin egen fortolkning af brazzis 'mine' . - overvejer at blive bryllupssanger fra nu af . tak til mikkel for at lade mig overraske hans smukke brud nadia ved deres bryllup sidste lørd <end> \n",
      "(target) <start> dansk popstjerne afbryder bryllup - en stor ære <end> \n",
      "(prediction) her er de # bedste råd til at få en ny bog <end>\n",
      "\n",
      "loss_val improved from 2.0873239040374756 to 2.077881336212158, saving summarizer to basicsummarizer1024\n",
      "epoch 21, batch 2120, logs: {'loss': 1.860299301147461, 'loss_val': 2.077881336212158}\n",
      "epoch 21, batch 2140, logs: {'loss': 1.8740018844604491, 'loss_val': 2.077881336212158}\n",
      "epoch 21, batch 2160, logs: {'loss': 1.8713871002197267, 'loss_val': 2.077881336212158}\n",
      "epoch 21, batch 2180, logs: {'loss': 1.8737985610961914, 'loss_val': 2.077881336212158}\n",
      "epoch 21, batch 2200, logs: {'loss': 1.875125732421875, 'loss_val': 2.077881336212158}\n",
      "\n",
      "(input) <start> brandvæsnet i sydøstjylland havde ekstraordinært travlt tirsdag eftermiddag . på to timer havde de intet mindre end fem markbrande i området ved brædstrup , der ligger nordvest for horsens . alle brandene er slukket . - det starter på fuglrisvej i brædstrup omkring klokken # .# , derefter opstår der et par brande på en anden vej i området , siger henrik dam , der er vagtchef i sydøstjyllands politi . vag <end> \n",
      "(target) <start> pludselig blev der travlt fem brande på to timer ved samme by <end> \n",
      "(prediction) efter # år gammel mand fundet død <end>\n",
      "\n",
      "\n",
      "(input) <start> danmarks rolle i vm-kvalifikationen kan stort set være overstået søndag aften i tilfælde af nederlag i rumænien . men ikke desto mindre bliver landstræner åge hareide siddende i jobbet .til horsens folkeblad siger nordmanden , der oprindeligt fik kontrakt til sommeren # , at rammerne for en ny toårig aftale med dansk boldspil union dbu er på plads . »vi har forhandlet kontrakten færdig . den ligger <end> \n",
      "(target) <start> hareide jeg forlænger med dbu  <end> \n",
      "(prediction) ny bog om dansk stjerne - jeg er ikke noget <end>\n",
      "\n",
      "\n",
      "(input) <start> dag ud og dag ind har han smilet sig gennem en valgkamp på over et år , norbert gerwald hofer .fra sin position ’midt i livet’ , som den #-årige kandidat ved dagens præsidentvalg i østrig selv har placeret sig i på plakater landet over , har han taget imod alle livets og det politiske håndværks mange tæsk med et venligt , fortroligt smil .lige indtil den sidste tv-duel , hvor den venlige grimasse stiv <end> \n",
      "(target) <start> norbert hofer er det nye højres smilende ansigt <end> \n",
      "(prediction) en god dag for en dårlig dag for en dårlig dag for en dårlig dag for en dårlig dag for en dårlig dag for en dårlig dag for en dårlig\n",
      "\n",
      "\n",
      "(input) <start> superligaen skæres ned til # hold fra # '  <end> \n",
      "(target) <start> superligaen skæres ned til # hold fra # <end> \n",
      "(prediction) # .# til at komme i # <end>\n",
      "\n",
      "\n",
      "(input) <start> christopher er uden tvivl en charmør , der kan få de fleste pigehjerter til at smelte . det var formentlig også formålet , da han i lørdags afbrød nadia og mikkels bryllup - dog med gommens tilladelse . her sang christopher sin egen fortolkning af brazzis 'mine' . - overvejer at blive bryllupssanger fra nu af . tak til mikkel for at lade mig overraske hans smukke brud nadia ved deres bryllup sidste lørd <end> \n",
      "(target) <start> dansk popstjerne afbryder bryllup - en stor ære <end> \n",
      "(prediction) efter hård kritik af dansk stjerne - jeg er ikke noget <end>\n",
      "\n",
      "loss_val improved from 2.077881336212158 to 2.064436197280884, saving summarizer to basicsummarizer1024\n",
      "epoch 22, batch 2220, logs: {'loss': 1.8586299896240235, 'loss_val': 2.064436197280884}\n",
      "epoch 22, batch 2240, logs: {'loss': 1.8527395248413085, 'loss_val': 2.064436197280884}\n",
      "epoch 22, batch 2260, logs: {'loss': 1.8554584503173828, 'loss_val': 2.064436197280884}\n",
      "epoch 22, batch 2280, logs: {'loss': 1.852048683166504, 'loss_val': 2.064436197280884}\n",
      "epoch 22, batch 2300, logs: {'loss': 1.8520521545410156, 'loss_val': 2.064436197280884}\n",
      "\n",
      "(input) <start> brandvæsnet i sydøstjylland havde ekstraordinært travlt tirsdag eftermiddag . på to timer havde de intet mindre end fem markbrande i området ved brædstrup , der ligger nordvest for horsens . alle brandene er slukket . - det starter på fuglrisvej i brædstrup omkring klokken # .# , derefter opstår der et par brande på en anden vej i området , siger henrik dam , der er vagtchef i sydøstjyllands politi . vag <end> \n",
      "(target) <start> pludselig blev der travlt fem brande på to timer ved samme by <end> \n",
      "(prediction) politiet i flammer <end>\n",
      "\n",
      "\n",
      "(input) <start> danmarks rolle i vm-kvalifikationen kan stort set være overstået søndag aften i tilfælde af nederlag i rumænien . men ikke desto mindre bliver landstræner åge hareide siddende i jobbet .til horsens folkeblad siger nordmanden , der oprindeligt fik kontrakt til sommeren # , at rammerne for en ny toårig aftale med dansk boldspil union dbu er på plads . »vi har forhandlet kontrakten færdig . den ligger <end> \n",
      "(target) <start> hareide jeg forlænger med dbu  <end> \n",
      "(prediction) dansk stjerne i dansk klub - jeg er ikke noget <end>\n",
      "\n",
      "\n",
      "(input) <start> dag ud og dag ind har han smilet sig gennem en valgkamp på over et år , norbert gerwald hofer .fra sin position ’midt i livet’ , som den #-årige kandidat ved dagens præsidentvalg i østrig selv har placeret sig i på plakater landet over , har han taget imod alle livets og det politiske håndværks mange tæsk med et venligt , fortroligt smil .lige indtil den sidste tv-duel , hvor den venlige grimasse stiv <end> \n",
      "(target) <start> norbert hofer er det nye højres smilende ansigt <end> \n",
      "(prediction) en god dag for en dårlig dag for en dårlig dag for en dårlig dag for en dårlig dag for en dårlig dag for en dårlig dag for en dårlig\n",
      "\n",
      "\n",
      "(input) <start> superligaen skæres ned til # hold fra # '  <end> \n",
      "(target) <start> superligaen skæres ned til # hold fra # <end> \n",
      "(prediction) # .# til # .# kroner <end>\n",
      "\n",
      "\n",
      "(input) <start> christopher er uden tvivl en charmør , der kan få de fleste pigehjerter til at smelte . det var formentlig også formålet , da han i lørdags afbrød nadia og mikkels bryllup - dog med gommens tilladelse . her sang christopher sin egen fortolkning af brazzis 'mine' . - overvejer at blive bryllupssanger fra nu af . tak til mikkel for at lade mig overraske hans smukke brud nadia ved deres bryllup sidste lørd <end> \n",
      "(target) <start> dansk popstjerne afbryder bryllup - en stor ære <end> \n",
      "(prediction) her er de bedste , der er i en uge <end>\n",
      "\n",
      "loss_val improved from 2.064436197280884 to 2.0565011501312256, saving summarizer to basicsummarizer1024\n",
      "epoch 23, batch 2320, logs: {'loss': 1.8534900665283203, 'loss_val': 2.0565011501312256}\n",
      "epoch 23, batch 2340, logs: {'loss': 1.8641149520874023, 'loss_val': 2.0565011501312256}\n",
      "epoch 23, batch 2360, logs: {'loss': 1.8631518046061197, 'loss_val': 2.0565011501312256}\n",
      "epoch 23, batch 2380, logs: {'loss': 1.8664653778076172, 'loss_val': 2.0565011501312256}\n",
      "epoch 23, batch 2400, logs: {'loss': 1.8613099670410156, 'loss_val': 2.0565011501312256}\n",
      "\n",
      "(input) <start> brandvæsnet i sydøstjylland havde ekstraordinært travlt tirsdag eftermiddag . på to timer havde de intet mindre end fem markbrande i området ved brædstrup , der ligger nordvest for horsens . alle brandene er slukket . - det starter på fuglrisvej i brædstrup omkring klokken # .# , derefter opstår der et par brande på en anden vej i området , siger henrik dam , der er vagtchef i sydøstjyllands politi . vag <end> \n",
      "(target) <start> pludselig blev der travlt fem brande på to timer ved samme by <end> \n",
      "(prediction) politiet i sag om at redde # ,# millioner kroner i timen <end>\n",
      "\n",
      "\n",
      "(input) <start> danmarks rolle i vm-kvalifikationen kan stort set være overstået søndag aften i tilfælde af nederlag i rumænien . men ikke desto mindre bliver landstræner åge hareide siddende i jobbet .til horsens folkeblad siger nordmanden , der oprindeligt fik kontrakt til sommeren # , at rammerne for en ny toårig aftale med dansk boldspil union dbu er på plads . »vi har forhandlet kontrakten færdig . den ligger <end> \n",
      "(target) <start> hareide jeg forlænger med dbu  <end> \n",
      "(prediction) dansk stjerne i chok - det er en helt fantastisk <end>\n",
      "\n",
      "\n",
      "(input) <start> dag ud og dag ind har han smilet sig gennem en valgkamp på over et år , norbert gerwald hofer .fra sin position ’midt i livet’ , som den #-årige kandidat ved dagens præsidentvalg i østrig selv har placeret sig i på plakater landet over , har han taget imod alle livets og det politiske håndværks mange tæsk med et venligt , fortroligt smil .lige indtil den sidste tv-duel , hvor den venlige grimasse stiv <end> \n",
      "(target) <start> norbert hofer er det nye højres smilende ansigt <end> \n",
      "(prediction) en god dag for en lille mand i en uge <end>\n",
      "\n",
      "\n",
      "(input) <start> superligaen skæres ned til # hold fra # '  <end> \n",
      "(target) <start> superligaen skæres ned til # hold fra # <end> \n",
      "(prediction) # . låge til at blive i # <end>\n",
      "\n",
      "\n",
      "(input) <start> christopher er uden tvivl en charmør , der kan få de fleste pigehjerter til at smelte . det var formentlig også formålet , da han i lørdags afbrød nadia og mikkels bryllup - dog med gommens tilladelse . her sang christopher sin egen fortolkning af brazzis 'mine' . - overvejer at blive bryllupssanger fra nu af . tak til mikkel for at lade mig overraske hans smukke brud nadia ved deres bryllup sidste lørd <end> \n",
      "(target) <start> dansk popstjerne afbryder bryllup - en stor ære <end> \n",
      "(prediction) her er de bedste råd til at få en million <end>\n",
      "\n",
      "loss_val improved from 2.0565011501312256 to 2.042231798171997, saving summarizer to basicsummarizer1024\n",
      "epoch 24, batch 2420, logs: {'loss': 1.8467578887939453, 'loss_val': 2.042231798171997}\n",
      "epoch 24, batch 2440, logs: {'loss': 1.8608531951904297, 'loss_val': 2.042231798171997}\n",
      "epoch 24, batch 2460, logs: {'loss': 1.8669039408365886, 'loss_val': 2.042231798171997}\n",
      "epoch 24, batch 2480, logs: {'loss': 1.86126766204834, 'loss_val': 2.042231798171997}\n",
      "epoch 24, batch 2500, logs: {'loss': 1.84883056640625, 'loss_val': 2.042231798171997}\n",
      "\n",
      "(input) <start> brandvæsnet i sydøstjylland havde ekstraordinært travlt tirsdag eftermiddag . på to timer havde de intet mindre end fem markbrande i området ved brædstrup , der ligger nordvest for horsens . alle brandene er slukket . - det starter på fuglrisvej i brædstrup omkring klokken # .# , derefter opstår der et par brande på en anden vej i området , siger henrik dam , der er vagtchef i sydøstjyllands politi . vag <end> \n",
      "(target) <start> pludselig blev der travlt fem brande på to timer ved samme by <end> \n",
      "(prediction) politiet i sag om at hjælpe # .# kroner i fængsel <end>\n",
      "\n",
      "\n",
      "(input) <start> danmarks rolle i vm-kvalifikationen kan stort set være overstået søndag aften i tilfælde af nederlag i rumænien . men ikke desto mindre bliver landstræner åge hareide siddende i jobbet .til horsens folkeblad siger nordmanden , der oprindeligt fik kontrakt til sommeren # , at rammerne for en ny toårig aftale med dansk boldspil union dbu er på plads . »vi har forhandlet kontrakten færdig . den ligger <end> \n",
      "(target) <start> hareide jeg forlænger med dbu  <end> \n",
      "(prediction) dansk stjerne i chok - jeg er ikke en god ide <end>\n",
      "\n",
      "\n",
      "(input) <start> dag ud og dag ind har han smilet sig gennem en valgkamp på over et år , norbert gerwald hofer .fra sin position ’midt i livet’ , som den #-årige kandidat ved dagens præsidentvalg i østrig selv har placeret sig i på plakater landet over , har han taget imod alle livets og det politiske håndværks mange tæsk med et venligt , fortroligt smil .lige indtil den sidste tv-duel , hvor den venlige grimasse stiv <end> \n",
      "(target) <start> norbert hofer er det nye højres smilende ansigt <end> \n",
      "(prediction) en god dag for en dårlig dag for at blive en dårlig dag for at være en dårlig dag <end>\n",
      "\n",
      "\n",
      "(input) <start> superligaen skæres ned til # hold fra # '  <end> \n",
      "(target) <start> superligaen skæres ned til # hold fra # <end> \n",
      "(prediction) # . division til # . division <end>\n",
      "\n",
      "\n",
      "(input) <start> christopher er uden tvivl en charmør , der kan få de fleste pigehjerter til at smelte . det var formentlig også formålet , da han i lørdags afbrød nadia og mikkels bryllup - dog med gommens tilladelse . her sang christopher sin egen fortolkning af brazzis 'mine' . - overvejer at blive bryllupssanger fra nu af . tak til mikkel for at lade mig overraske hans smukke brud nadia ved deres bryllup sidste lørd <end> \n",
      "(target) <start> dansk popstjerne afbryder bryllup - en stor ære <end> \n",
      "(prediction) se videoen her er de bedste danske spillere <end>\n",
      "\n",
      "loss_val improved from 2.042231798171997 to 2.027367115020752, saving summarizer to basicsummarizer1024\n",
      "epoch 25, batch 2520, logs: {'loss': 1.8815584182739258, 'loss_val': 2.027367115020752}\n",
      "epoch 25, batch 2540, logs: {'loss': 1.8588184356689452, 'loss_val': 2.027367115020752}\n",
      "epoch 25, batch 2560, logs: {'loss': 1.851745351155599, 'loss_val': 2.027367115020752}\n",
      "epoch 25, batch 2580, logs: {'loss': 1.8525890350341796, 'loss_val': 2.027367115020752}\n",
      "epoch 25, batch 2600, logs: {'loss': 1.8376449584960937, 'loss_val': 2.027367115020752}\n",
      "\n",
      "(input) <start> brandvæsnet i sydøstjylland havde ekstraordinært travlt tirsdag eftermiddag . på to timer havde de intet mindre end fem markbrande i området ved brædstrup , der ligger nordvest for horsens . alle brandene er slukket . - det starter på fuglrisvej i brædstrup omkring klokken # .# , derefter opstår der et par brande på en anden vej i området , siger henrik dam , der er vagtchef i sydøstjyllands politi . vag <end> \n",
      "(target) <start> pludselig blev der travlt fem brande på to timer ved samme by <end> \n",
      "(prediction) to personer anholdt i ulykke <end>\n",
      "\n",
      "\n",
      "(input) <start> danmarks rolle i vm-kvalifikationen kan stort set være overstået søndag aften i tilfælde af nederlag i rumænien . men ikke desto mindre bliver landstræner åge hareide siddende i jobbet .til horsens folkeblad siger nordmanden , der oprindeligt fik kontrakt til sommeren # , at rammerne for en ny toårig aftale med dansk boldspil union dbu er på plads . »vi har forhandlet kontrakten færdig . den ligger <end> \n",
      "(target) <start> hareide jeg forlænger med dbu  <end> \n",
      "(prediction) dansk stjerne i chok - vi er ikke en kæmpe <end>\n",
      "\n",
      "\n",
      "(input) <start> dag ud og dag ind har han smilet sig gennem en valgkamp på over et år , norbert gerwald hofer .fra sin position ’midt i livet’ , som den #-årige kandidat ved dagens præsidentvalg i østrig selv har placeret sig i på plakater landet over , har han taget imod alle livets og det politiske håndværks mange tæsk med et venligt , fortroligt smil .lige indtil den sidste tv-duel , hvor den venlige grimasse stiv <end> \n",
      "(target) <start> norbert hofer er det nye højres smilende ansigt <end> \n",
      "(prediction) en god dag for en dårlig dag for en dårlig dag for en dårlig dag for en dårlig dag for en dårlig dag for en dårlig dag <end>\n",
      "\n",
      "\n",
      "(input) <start> superligaen skæres ned til # hold fra # '  <end> \n",
      "(target) <start> superligaen skæres ned til # hold fra # <end> \n",
      "(prediction) # . div . div . . . . . . . . . . . . . <end>\n",
      "\n",
      "\n",
      "(input) <start> christopher er uden tvivl en charmør , der kan få de fleste pigehjerter til at smelte . det var formentlig også formålet , da han i lørdags afbrød nadia og mikkels bryllup - dog med gommens tilladelse . her sang christopher sin egen fortolkning af brazzis 'mine' . - overvejer at blive bryllupssanger fra nu af . tak til mikkel for at lade mig overraske hans smukke brud nadia ved deres bryllup sidste lørd <end> \n",
      "(target) <start> dansk popstjerne afbryder bryllup - en stor ære <end> \n",
      "(prediction) se billederne her er de # største spillere <end>\n",
      "\n",
      "loss_val improved from 2.027367115020752 to 2.0160372257232666, saving summarizer to basicsummarizer1024\n",
      "epoch 26, batch 2620, logs: {'loss': 1.848292922973633, 'loss_val': 2.0160372257232666}\n",
      "epoch 26, batch 2640, logs: {'loss': 1.8351385116577148, 'loss_val': 2.0160372257232666}\n",
      "epoch 26, batch 2660, logs: {'loss': 1.8323841094970703, 'loss_val': 2.0160372257232666}\n",
      "epoch 26, batch 2680, logs: {'loss': 1.8363954544067382, 'loss_val': 2.0160372257232666}\n",
      "epoch 26, batch 2700, logs: {'loss': 1.8371556091308594, 'loss_val': 2.0160372257232666}\n",
      "\n",
      "(input) <start> brandvæsnet i sydøstjylland havde ekstraordinært travlt tirsdag eftermiddag . på to timer havde de intet mindre end fem markbrande i området ved brædstrup , der ligger nordvest for horsens . alle brandene er slukket . - det starter på fuglrisvej i brædstrup omkring klokken # .# , derefter opstår der et par brande på en anden vej i området , siger henrik dam , der er vagtchef i sydøstjyllands politi . vag <end> \n",
      "(target) <start> pludselig blev der travlt fem brande på to timer ved samme by <end> \n",
      "(prediction) politiet i kæmpe ulykke i københavn <end>\n",
      "\n",
      "\n",
      "(input) <start> danmarks rolle i vm-kvalifikationen kan stort set være overstået søndag aften i tilfælde af nederlag i rumænien . men ikke desto mindre bliver landstræner åge hareide siddende i jobbet .til horsens folkeblad siger nordmanden , der oprindeligt fik kontrakt til sommeren # , at rammerne for en ny toårig aftale med dansk boldspil union dbu er på plads . »vi har forhandlet kontrakten færdig . den ligger <end> \n",
      "(target) <start> hareide jeg forlænger med dbu  <end> \n",
      "(prediction) ny dansk stjerne i danmark <end>\n",
      "\n",
      "\n",
      "(input) <start> dag ud og dag ind har han smilet sig gennem en valgkamp på over et år , norbert gerwald hofer .fra sin position ’midt i livet’ , som den #-årige kandidat ved dagens præsidentvalg i østrig selv har placeret sig i på plakater landet over , har han taget imod alle livets og det politiske håndværks mange tæsk med et venligt , fortroligt smil .lige indtil den sidste tv-duel , hvor den venlige grimasse stiv <end> \n",
      "(target) <start> norbert hofer er det nye højres smilende ansigt <end> \n",
      "(prediction) en god dag for en dårlig dag for en dårlig dag for at rejse til at blive en dårlig dag for at blive en dårlig dag for at blive en\n",
      "\n",
      "\n",
      "(input) <start> superligaen skæres ned til # hold fra # '  <end> \n",
      "(target) <start> superligaen skæres ned til # hold fra # <end> \n",
      "(prediction) # . divisionsklub til # . divisionsklub <end>\n",
      "\n",
      "\n",
      "(input) <start> christopher er uden tvivl en charmør , der kan få de fleste pigehjerter til at smelte . det var formentlig også formålet , da han i lørdags afbrød nadia og mikkels bryllup - dog med gommens tilladelse . her sang christopher sin egen fortolkning af brazzis 'mine' . - overvejer at blive bryllupssanger fra nu af . tak til mikkel for at lade mig overraske hans smukke brud nadia ved deres bryllup sidste lørd <end> \n",
      "(target) <start> dansk popstjerne afbryder bryllup - en stor ære <end> \n",
      "(prediction) se billedet her er de # danske klassikere <end>\n",
      "\n",
      "loss_val improved from 2.0160372257232666 to 2.0018668174743652, saving summarizer to basicsummarizer1024\n",
      "epoch 27, batch 2720, logs: {'loss': 1.8437210083007813, 'loss_val': 2.0018668174743652}\n",
      "epoch 27, batch 2740, logs: {'loss': 1.8175537109375, 'loss_val': 2.0018668174743652}\n",
      "epoch 27, batch 2760, logs: {'loss': 1.833460235595703, 'loss_val': 2.0018668174743652}\n",
      "epoch 27, batch 2780, logs: {'loss': 1.8267078399658203, 'loss_val': 2.0018668174743652}\n",
      "epoch 27, batch 2800, logs: {'loss': 1.8234352111816405, 'loss_val': 2.0018668174743652}\n",
      "\n",
      "(input) <start> brandvæsnet i sydøstjylland havde ekstraordinært travlt tirsdag eftermiddag . på to timer havde de intet mindre end fem markbrande i området ved brædstrup , der ligger nordvest for horsens . alle brandene er slukket . - det starter på fuglrisvej i brædstrup omkring klokken # .# , derefter opstår der et par brande på en anden vej i området , siger henrik dam , der er vagtchef i sydøstjyllands politi . vag <end> \n",
      "(target) <start> pludselig blev der travlt fem brande på to timer ved samme by <end> \n",
      "(prediction) # .# kroner i brand i københavn <end>\n",
      "\n",
      "\n",
      "(input) <start> danmarks rolle i vm-kvalifikationen kan stort set være overstået søndag aften i tilfælde af nederlag i rumænien . men ikke desto mindre bliver landstræner åge hareide siddende i jobbet .til horsens folkeblad siger nordmanden , der oprindeligt fik kontrakt til sommeren # , at rammerne for en ny toårig aftale med dansk boldspil union dbu er på plads . »vi har forhandlet kontrakten færdig . den ligger <end> \n",
      "(target) <start> hareide jeg forlænger med dbu  <end> \n",
      "(prediction) dansk folkeparti er klar til at blive en ny klub <end>\n",
      "\n",
      "\n",
      "(input) <start> dag ud og dag ind har han smilet sig gennem en valgkamp på over et år , norbert gerwald hofer .fra sin position ’midt i livet’ , som den #-årige kandidat ved dagens præsidentvalg i østrig selv har placeret sig i på plakater landet over , har han taget imod alle livets og det politiske håndværks mange tæsk med et venligt , fortroligt smil .lige indtil den sidste tv-duel , hvor den venlige grimasse stiv <end> \n",
      "(target) <start> norbert hofer er det nye højres smilende ansigt <end> \n",
      "(prediction) en god dag for en dårlig dag for en dårlig dag for en dårlig dag for donald trump <end>\n",
      "\n",
      "\n",
      "(input) <start> superligaen skæres ned til # hold fra # '  <end> \n",
      "(target) <start> superligaen skæres ned til # hold fra # <end> \n",
      "(prediction) # . divisionsklub til # . divisionsklub <end>\n",
      "\n",
      "\n",
      "(input) <start> christopher er uden tvivl en charmør , der kan få de fleste pigehjerter til at smelte . det var formentlig også formålet , da han i lørdags afbrød nadia og mikkels bryllup - dog med gommens tilladelse . her sang christopher sin egen fortolkning af brazzis 'mine' . - overvejer at blive bryllupssanger fra nu af . tak til mikkel for at lade mig overraske hans smukke brud nadia ved deres bryllup sidste lørd <end> \n",
      "(target) <start> dansk popstjerne afbryder bryllup - en stor ære <end> \n",
      "(prediction) se billedet her er de bedste i verden <end>\n",
      "\n",
      "loss_val improved from 2.0018668174743652 to 1.9862440824508667, saving summarizer to basicsummarizer1024\n",
      "epoch 28, batch 2820, logs: {'loss': 1.7721111297607421, 'loss_val': 1.9862440824508667}\n",
      "epoch 28, batch 2840, logs: {'loss': 1.7739612579345703, 'loss_val': 1.9862440824508667}\n",
      "epoch 28, batch 2860, logs: {'loss': 1.7815135955810546, 'loss_val': 1.9862440824508667}\n",
      "epoch 28, batch 2880, logs: {'loss': 1.785069465637207, 'loss_val': 1.9862440824508667}\n",
      "epoch 28, batch 2900, logs: {'loss': 1.7897303771972657, 'loss_val': 1.9862440824508667}\n",
      "\n",
      "(input) <start> brandvæsnet i sydøstjylland havde ekstraordinært travlt tirsdag eftermiddag . på to timer havde de intet mindre end fem markbrande i området ved brædstrup , der ligger nordvest for horsens . alle brandene er slukket . - det starter på fuglrisvej i brædstrup omkring klokken # .# , derefter opstår der et par brande på en anden vej i området , siger henrik dam , der er vagtchef i sydøstjyllands politi . vag <end> \n",
      "(target) <start> pludselig blev der travlt fem brande på to timer ved samme by <end> \n",
      "(prediction) to biler i ulykke på motorvej <end>\n",
      "\n",
      "\n",
      "(input) <start> danmarks rolle i vm-kvalifikationen kan stort set være overstået søndag aften i tilfælde af nederlag i rumænien . men ikke desto mindre bliver landstræner åge hareide siddende i jobbet .til horsens folkeblad siger nordmanden , der oprindeligt fik kontrakt til sommeren # , at rammerne for en ny toårig aftale med dansk boldspil union dbu er på plads . »vi har forhandlet kontrakten færdig . den ligger <end> \n",
      "(target) <start> hareide jeg forlænger med dbu  <end> \n",
      "(prediction) dansk folkeparti i danmark <end>\n",
      "\n",
      "\n",
      "(input) <start> dag ud og dag ind har han smilet sig gennem en valgkamp på over et år , norbert gerwald hofer .fra sin position ’midt i livet’ , som den #-årige kandidat ved dagens præsidentvalg i østrig selv har placeret sig i på plakater landet over , har han taget imod alle livets og det politiske håndværks mange tæsk med et venligt , fortroligt smil .lige indtil den sidste tv-duel , hvor den venlige grimasse stiv <end> \n",
      "(target) <start> norbert hofer er det nye højres smilende ansigt <end> \n",
      "(prediction) en god dag for en dårlig dag for en dårlig dag for en dårlig dag for en dårlig dag for en dårlig dag for en dårlig dag for en dårlig\n",
      "\n",
      "\n",
      "(input) <start> superligaen skæres ned til # hold fra # '  <end> \n",
      "(target) <start> superligaen skæres ned til # hold fra # <end> \n",
      "(prediction) # . etape - # . oktober # <end>\n",
      "\n",
      "\n",
      "(input) <start> christopher er uden tvivl en charmør , der kan få de fleste pigehjerter til at smelte . det var formentlig også formålet , da han i lørdags afbrød nadia og mikkels bryllup - dog med gommens tilladelse . her sang christopher sin egen fortolkning af brazzis 'mine' . - overvejer at blive bryllupssanger fra nu af . tak til mikkel for at lade mig overraske hans smukke brud nadia ved deres bryllup sidste lørd <end> \n",
      "(target) <start> dansk popstjerne afbryder bryllup - en stor ære <end> \n",
      "(prediction) se billedet her er de bedste landshold <end>\n",
      "\n",
      "loss_val improved from 1.9862440824508667 to 1.9768550395965576, saving summarizer to basicsummarizer1024\n",
      "epoch 29, batch 2920, logs: {'loss': 1.775701141357422, 'loss_val': 1.9768550395965576}\n",
      "epoch 29, batch 2940, logs: {'loss': 1.793809700012207, 'loss_val': 1.9768550395965576}\n",
      "epoch 29, batch 2960, logs: {'loss': 1.8060885111490885, 'loss_val': 1.9768550395965576}\n",
      "epoch 29, batch 2980, logs: {'loss': 1.80606689453125, 'loss_val': 1.9768550395965576}\n",
      "epoch 29, batch 3000, logs: {'loss': 1.8069937133789062, 'loss_val': 1.9768550395965576}\n",
      "\n",
      "(input) <start> brandvæsnet i sydøstjylland havde ekstraordinært travlt tirsdag eftermiddag . på to timer havde de intet mindre end fem markbrande i området ved brædstrup , der ligger nordvest for horsens . alle brandene er slukket . - det starter på fuglrisvej i brædstrup omkring klokken # .# , derefter opstår der et par brande på en anden vej i området , siger henrik dam , der er vagtchef i sydøstjyllands politi . vag <end> \n",
      "(target) <start> pludselig blev der travlt fem brande på to timer ved samme by <end> \n",
      "(prediction) to biler i ulykke på motorvej <end>\n",
      "\n",
      "\n",
      "(input) <start> danmarks rolle i vm-kvalifikationen kan stort set være overstået søndag aften i tilfælde af nederlag i rumænien . men ikke desto mindre bliver landstræner åge hareide siddende i jobbet .til horsens folkeblad siger nordmanden , der oprindeligt fik kontrakt til sommeren # , at rammerne for en ny toårig aftale med dansk boldspil union dbu er på plads . »vi har forhandlet kontrakten færdig . den ligger <end> \n",
      "(target) <start> hareide jeg forlænger med dbu  <end> \n",
      "(prediction) dansk landsholdsspiller i dansk politik <end>\n",
      "\n",
      "\n",
      "(input) <start> dag ud og dag ind har han smilet sig gennem en valgkamp på over et år , norbert gerwald hofer .fra sin position ’midt i livet’ , som den #-årige kandidat ved dagens præsidentvalg i østrig selv har placeret sig i på plakater landet over , har han taget imod alle livets og det politiske håndværks mange tæsk med et venligt , fortroligt smil .lige indtil den sidste tv-duel , hvor den venlige grimasse stiv <end> \n",
      "(target) <start> norbert hofer er det nye højres smilende ansigt <end> \n",
      "(prediction) en god dag for en dårlig dag for en dårlig dag for en dårlig dag for en dårlig dag for en dårlig dag for en dårlig dag for en dårlig\n",
      "\n",
      "\n",
      "(input) <start> superligaen skæres ned til # hold fra # '  <end> \n",
      "(target) <start> superligaen skæres ned til # hold fra # <end> \n",
      "(prediction) # . divisionsklub til # .# kr . <end>\n",
      "\n",
      "\n",
      "(input) <start> christopher er uden tvivl en charmør , der kan få de fleste pigehjerter til at smelte . det var formentlig også formålet , da han i lørdags afbrød nadia og mikkels bryllup - dog med gommens tilladelse . her sang christopher sin egen fortolkning af brazzis 'mine' . - overvejer at blive bryllupssanger fra nu af . tak til mikkel for at lade mig overraske hans smukke brud nadia ved deres bryllup sidste lørd <end> \n",
      "(target) <start> dansk popstjerne afbryder bryllup - en stor ære <end> \n",
      "(prediction) se videoen her er de nominerede til at se den nye stjerne <end>\n",
      "\n",
      "loss_val improved from 1.9768550395965576 to 1.96587073802948, saving summarizer to basicsummarizer1024\n",
      "finished iterating over dataset, total batches: 3000\n"
     ]
    }
   ],
   "source": [
    "#DET ER DENNE HER VI GÅR MED\n",
    "summarizer = BasicSummarizer(embedding_size=1024, lstm_size=1024, max_prediction_len=30)\n",
    "trainer = Trainer(batch_size=64, \n",
    "                  steps_per_epoch=100, \n",
    "                  steps_to_log=20, \n",
    "                  max_output_len=30,\n",
    "                 model_save_path='basicsummarizer1024')\n",
    "trainer.train(summarizer, train, num_epochs=30, val_data=test)"
   ]
  },
  {
   "cell_type": "code",
   "execution_count": 4,
   "id": "3ca688b5-4f51-4c31-8fa0-8027f78865b2",
   "metadata": {
    "execution": {
     "iopub.execute_input": "2022-05-19T10:58:18.386154Z",
     "iopub.status.busy": "2022-05-19T10:58:18.385642Z",
     "iopub.status.idle": "2022-05-19T10:58:19.391425Z",
     "shell.execute_reply": "2022-05-19T10:58:19.389871Z",
     "shell.execute_reply.started": "2022-05-19T10:58:18.386096Z"
    },
    "tags": []
   },
   "outputs": [],
   "source": [
    "summarizer = BasicSummarizer.load('manual_encodings_basicsummarizer1024_TEST')"
   ]
  },
  {
   "cell_type": "code",
   "execution_count": 19,
   "id": "ad0b129a-9aaa-4175-9a4a-949ce7de8fe1",
   "metadata": {
    "execution": {
     "iopub.execute_input": "2022-05-19T11:22:06.633628Z",
     "iopub.status.busy": "2022-05-19T11:22:06.633468Z",
     "iopub.status.idle": "2022-05-19T11:26:46.713649Z",
     "shell.execute_reply": "2022-05-19T11:26:46.712202Z",
     "shell.execute_reply.started": "2022-05-19T11:22:06.633610Z"
    },
    "scrolled": true,
    "tags": []
   },
   "outputs": [
    {
     "name": "stdout",
     "output_type": "stream",
     "text": [
      "Chrome har fået nye tilføjelser\n",
      "Opråb fra 'det hvide Danmark': Send flere flygtninge\n",
      "Busrejser til Moldova - Læs historien her\n",
      "35-årig stopper usædvanlig karriere\n",
      "Sådan har Tori Spelling indrettet børneværelset | BILLED-BLADET\n",
      "Adam Holm - en engageret stridsmand for det frie ord\n",
      "Babydrømme kan give depression: Sådan redder du parforholdet og din fertilitet\n",
      "Renault-stjerne disket: Uventet hjælp til Kevin\n",
      "Liveinterview med Mogens Lykketoft og Uffe Ellemann-Jensen\n",
      "Økologisk kød er supermarkedernes nye slagmark\n"
     ]
    }
   ],
   "source": [
    "import random\n",
    "import numpy as np\n",
    "\n",
    "outlines = []\n",
    "for i in test[:10]:\n",
    "    print(i[1])\n",
    "    outlines.append(f\"Target: {i[1]}\\tPredicted: {summarizer.predict(i[0])}\\n\")"
   ]
  },
  {
   "cell_type": "code",
   "execution_count": 41,
   "id": "1c787ffa-7f01-4207-9423-ff5e36a85e5b",
   "metadata": {
    "execution": {
     "iopub.execute_input": "2022-05-13T09:24:00.959638Z",
     "iopub.status.busy": "2022-05-13T09:24:00.959510Z",
     "iopub.status.idle": "2022-05-13T09:24:00.967574Z",
     "shell.execute_reply": "2022-05-13T09:24:00.967056Z",
     "shell.execute_reply.started": "2022-05-13T09:24:00.959622Z"
    },
    "tags": []
   },
   "outputs": [],
   "source": [
    "with open('headline_predictions.txt', 'w', encoding='utf-8') as f:\n",
    "    f.writelines(outlines)"
   ]
  },
  {
   "cell_type": "code",
   "execution_count": 11,
   "id": "5f9763d3-6341-44bb-88be-b0a48be04eb7",
   "metadata": {
    "execution": {
     "iopub.execute_input": "2022-05-19T11:04:44.489901Z",
     "iopub.status.busy": "2022-05-19T11:04:44.489732Z",
     "iopub.status.idle": "2022-05-19T11:04:44.494217Z",
     "shell.execute_reply": "2022-05-19T11:04:44.493643Z",
     "shell.execute_reply.started": "2022-05-19T11:04:44.489883Z"
    },
    "tags": []
   },
   "outputs": [],
   "source": [
    "train, test = train_data, test_data"
   ]
  },
  {
   "cell_type": "code",
   "execution_count": 24,
   "id": "fad49fcc-b3d3-4b40-8490-2dde4d9f2d98",
   "metadata": {
    "execution": {
     "iopub.execute_input": "2022-05-19T11:43:14.161749Z",
     "iopub.status.busy": "2022-05-19T11:43:14.161250Z",
     "iopub.status.idle": "2022-05-19T11:43:14.175262Z",
     "shell.execute_reply": "2022-05-19T11:43:14.174582Z",
     "shell.execute_reply.started": "2022-05-19T11:43:14.161694Z"
    },
    "tags": []
   },
   "outputs": [],
   "source": [
    "%%capture cap --no-stderr\n",
    "[print(x.split('\\t')) for x in outlines]"
   ]
  },
  {
   "cell_type": "code",
   "execution_count": 25,
   "id": "79f9d3af-290e-42a1-8fc1-e560a889f1be",
   "metadata": {
    "execution": {
     "iopub.execute_input": "2022-05-19T11:46:30.285459Z",
     "iopub.status.busy": "2022-05-19T11:46:30.285299Z",
     "iopub.status.idle": "2022-05-19T11:46:30.289606Z",
     "shell.execute_reply": "2022-05-19T11:46:30.289058Z",
     "shell.execute_reply.started": "2022-05-19T11:46:30.285441Z"
    }
   },
   "outputs": [],
   "source": [
    "with open('output.txt', 'w') as f:\n",
    "    f.write(cap.stdout)"
   ]
  },
  {
   "cell_type": "code",
   "execution_count": null,
   "id": "6b622134-8152-43a3-805c-62488dea3fb2",
   "metadata": {},
   "outputs": [],
   "source": []
  },
  {
   "cell_type": "markdown",
   "id": "ac91c3c3-b6ea-405f-bed1-d33570fb5e3b",
   "metadata": {},
   "source": [
    "# Using our own encodings\n",
    "Ignore the shit above this cell"
   ]
  },
  {
   "cell_type": "code",
   "execution_count": 1,
   "id": "d250ae82-b55b-48b2-b03a-fcb32477b4b1",
   "metadata": {
    "execution": {
     "iopub.execute_input": "2022-05-27T11:34:12.528139Z",
     "iopub.status.busy": "2022-05-27T11:34:12.527486Z",
     "iopub.status.idle": "2022-05-27T11:34:12.774241Z",
     "shell.execute_reply": "2022-05-27T11:34:12.772824Z",
     "shell.execute_reply.started": "2022-05-27T11:34:12.528083Z"
    },
    "tags": []
   },
   "outputs": [],
   "source": [
    "import scipy\n",
    "import pickle\n",
    "import numpy as np\n",
    "from tqdm.notebook import tqdm"
   ]
  },
  {
   "cell_type": "code",
   "execution_count": 2,
   "id": "f47aeb9c-0a06-4bd1-b7cc-eb0f4d921d62",
   "metadata": {
    "execution": {
     "iopub.execute_input": "2022-05-27T11:34:13.369390Z",
     "iopub.status.busy": "2022-05-27T11:34:13.368906Z",
     "iopub.status.idle": "2022-05-27T11:34:13.385378Z",
     "shell.execute_reply": "2022-05-27T11:34:13.384488Z",
     "shell.execute_reply.started": "2022-05-27T11:34:13.369336Z"
    },
    "tags": []
   },
   "outputs": [],
   "source": [
    "from IPython import get_ipython\n",
    "from IPython.core import magic_arguments\n",
    "from IPython.core.magic import register_cell_magic\n",
    "from IPython.utils.capture import capture_output\n",
    "\n",
    "@magic_arguments.magic_arguments()\n",
    "@magic_arguments.argument('output', type=str, default='', nargs='?',\n",
    "    help=\"\"\"The name of the variable in which to store output.\n",
    "    This is a utils.io.CapturedIO object with stdout/err attributes\n",
    "    for the text of the captured output.\n",
    "    CapturedOutput also has a show() method for displaying the output,\n",
    "    and __call__ as well, so you can use that to quickly display the\n",
    "    output.\n",
    "    If unspecified, captured output is discarded.\n",
    "    \"\"\"\n",
    ")\n",
    "@magic_arguments.argument('--no-stderr', action=\"store_true\",\n",
    "    help=\"\"\"Don't capture stderr.\"\"\"\n",
    ")\n",
    "@magic_arguments.argument('--no-stdout', action=\"store_true\",\n",
    "    help=\"\"\"Don't capture stdout.\"\"\"\n",
    ")\n",
    "@magic_arguments.argument('--no-display', action=\"store_true\",\n",
    "    help=\"\"\"Don't capture IPython's rich display.\"\"\"\n",
    ")\n",
    "@register_cell_magic\n",
    "def tee(line, cell):\n",
    "    args = magic_arguments.parse_argstring(tee, line)\n",
    "    out = not args.no_stdout\n",
    "    err = not args.no_stderr\n",
    "    disp = not args.no_display\n",
    "    with capture_output(out, err, disp) as io:\n",
    "        get_ipython().run_cell(cell)\n",
    "    if args.output:\n",
    "        get_ipython().user_ns[args.output] = io\n",
    "    \n",
    "    io()"
   ]
  },
  {
   "cell_type": "code",
   "execution_count": 3,
   "id": "c429da51-c6fd-4018-9814-5b995b47b56d",
   "metadata": {
    "execution": {
     "iopub.execute_input": "2022-05-27T11:34:14.701727Z",
     "iopub.status.busy": "2022-05-27T11:34:14.700968Z",
     "iopub.status.idle": "2022-05-27T11:34:41.005121Z",
     "shell.execute_reply": "2022-05-27T11:34:41.003623Z",
     "shell.execute_reply.started": "2022-05-27T11:34:14.701650Z"
    },
    "tags": []
   },
   "outputs": [
    {
     "name": "stdout",
     "output_type": "stream",
     "text": [
      "Loaded.\n",
      "CPU times: user 3.84 s, sys: 8.72 s, total: 12.6 s\n",
      "Wall time: 26.3 s\n"
     ]
    }
   ],
   "source": [
    "%%tee cap\n",
    "%%time\n",
    "train_X = np.load('Data/additional/xtra_features_header_v2/trainX.npy', allow_pickle=True)[()]\n",
    "test_X = np.load('Data/additional/xtra_features_header_v2/testX.npy', allow_pickle=True)[()]\n",
    "print(\"Loaded.\")\n",
    "train_X.data = np.nan_to_num(train_X.data) #Remove NaN and Inf\n",
    "test_X.data = np.nan_to_num(test_X.data)\n",
    "\n",
    "train_X = train_X.toarray()\n",
    "test_X = test_X.toarray()\n",
    "\n",
    "train_y = np.load('Data/additional/xtra_features_header_v2/trainY.npy', allow_pickle=True)\n",
    "test_y = np.load('Data/additional/xtra_features_header_v2/testY.npy', allow_pickle=True)"
   ]
  },
  {
   "cell_type": "code",
   "execution_count": 4,
   "id": "259be837-53aa-498e-ad97-21e1e5bc6ce7",
   "metadata": {
    "execution": {
     "iopub.execute_input": "2022-05-27T11:34:41.024064Z",
     "iopub.status.busy": "2022-05-27T11:34:41.023924Z",
     "iopub.status.idle": "2022-05-27T11:34:41.813769Z",
     "shell.execute_reply": "2022-05-27T11:34:41.813263Z",
     "shell.execute_reply.started": "2022-05-27T11:34:41.024048Z"
    },
    "tags": []
   },
   "outputs": [
    {
     "data": {
      "application/vnd.jupyter.widget-view+json": {
       "model_id": "54b4ef2fb2d143f3a612e4e809df9631",
       "version_major": 2,
       "version_minor": 0
      },
      "text/plain": [
       "  0%|          | 0/171936 [00:00<?, ?it/s]"
      ]
     },
     "metadata": {},
     "output_type": "display_data"
    },
    {
     "data": {
      "application/vnd.jupyter.widget-view+json": {
       "model_id": "98c91dc7a99546c78fba7a13b2c17d0c",
       "version_major": 2,
       "version_minor": 0
      },
      "text/plain": [
       "  0%|          | 0/42985 [00:00<?, ?it/s]"
      ]
     },
     "metadata": {},
     "output_type": "display_data"
    }
   ],
   "source": [
    "import pickle\n",
    "with open('Data/additional/xtra_features_header_v2/index_to_label.dat', 'rb') as f:\n",
    "    y2str = pickle.load(f)\n",
    "\n",
    "train_headers = [y2str[str(x)] for x in tqdm(train_y)]\n",
    "test_headers = [y2str[str(x)] for x in tqdm(test_y)]"
   ]
  },
  {
   "cell_type": "code",
   "execution_count": 6,
   "id": "a4d66cde-0968-448b-8305-7228e2c16062",
   "metadata": {
    "execution": {
     "iopub.execute_input": "2022-05-20T13:13:13.246249Z",
     "iopub.status.busy": "2022-05-20T13:13:13.246112Z",
     "iopub.status.idle": "2022-05-20T13:13:13.249670Z",
     "shell.execute_reply": "2022-05-20T13:13:13.249192Z",
     "shell.execute_reply.started": "2022-05-20T13:13:13.246232Z"
    },
    "tags": []
   },
   "outputs": [],
   "source": [
    "# with open(\"svd_trainX.dat\", 'wb') as f:\n",
    "#     pickle.dump(train_X, f)\n",
    "\n",
    "# with open(\"svd_testX.dat\", 'wb') as f:\n",
    "#     pickle.dump(test_X, f)"
   ]
  },
  {
   "cell_type": "code",
   "execution_count": 5,
   "id": "6f2a0376-8bf1-486d-989e-0786b3c24d5e",
   "metadata": {
    "execution": {
     "iopub.execute_input": "2022-05-27T11:35:00.660896Z",
     "iopub.status.busy": "2022-05-27T11:35:00.660377Z",
     "iopub.status.idle": "2022-05-27T11:35:02.246027Z",
     "shell.execute_reply": "2022-05-27T11:35:02.245384Z",
     "shell.execute_reply.started": "2022-05-27T11:35:00.660838Z"
    },
    "tags": []
   },
   "outputs": [],
   "source": [
    "import abc\n",
    "from headliner.preprocessing.tokenizer import Tokenizer\n",
    "\n",
    "class TrickTokenizer(Tokenizer):\n",
    "    '''This tokenizer is actually just tricking Headliner ;-)\n",
    "    The input is strings, which will be converted to arrays.'''\n",
    "    def __init__(self):\n",
    "        self.printed = False\n",
    "    \n",
    "    def encode(self, text):\n",
    "        '''Text is simply just converting string to array'''\n",
    "        text = text.replace('<start>', '')\n",
    "        text = text.replace('<end>', '')\n",
    "        text = text.replace(' ', '')\n",
    "        text = text.replace('[', '')\n",
    "        text = text.replace(']', '')\n",
    "        if not self.printed:\n",
    "            # print(text)\n",
    "            # print()\n",
    "            # print(np.fromstring(text, dtype=float, sep=','))\n",
    "            # print()\n",
    "            # print(type(np.fromstring(text, dtype=float, sep=',')))\n",
    "            self.printed = True\n",
    "        return np.fromstring(text, dtype=float, sep=',')\n",
    "    \n",
    "    def decode(self, sequence):\n",
    "        return \"NOTHING\"\n",
    "    \n",
    "    @property\n",
    "    def vocab_size(self):\n",
    "        return 200000"
   ]
  },
  {
   "cell_type": "code",
   "execution_count": 6,
   "id": "ff40b7d5-b88a-46fb-abb3-ba7a68348deb",
   "metadata": {
    "execution": {
     "iopub.execute_input": "2022-05-27T11:35:04.155796Z",
     "iopub.status.busy": "2022-05-27T11:35:04.155276Z",
     "iopub.status.idle": "2022-05-27T11:35:04.164704Z",
     "shell.execute_reply": "2022-05-27T11:35:04.163853Z",
     "shell.execute_reply.started": "2022-05-27T11:35:04.155738Z"
    },
    "tags": []
   },
   "outputs": [],
   "source": [
    "def create_dataset(arrays, headers):\n",
    "    '''Indices must correspond'''\n",
    "    assert len(arrays) == len(headers), \"Mismatch in lenghts of inputs\"\n",
    "    dataset = []\n",
    "    for i in tqdm(range(len(arrays))):\n",
    "        dataset.append((str(arrays[i].tolist()), headers[i]))\n",
    "    \n",
    "    return dataset"
   ]
  },
  {
   "cell_type": "code",
   "execution_count": 11,
   "id": "3591cec5-5506-496b-bebc-12f756bde748",
   "metadata": {
    "execution": {
     "iopub.execute_input": "2022-05-27T11:37:39.330614Z",
     "iopub.status.busy": "2022-05-27T11:37:39.330099Z",
     "iopub.status.idle": "2022-05-27T11:42:46.949366Z",
     "shell.execute_reply": "2022-05-27T11:42:46.948669Z",
     "shell.execute_reply.started": "2022-05-27T11:37:39.330559Z"
    },
    "tags": []
   },
   "outputs": [
    {
     "data": {
      "application/vnd.jupyter.widget-view+json": {
       "model_id": "ee6a6ade8bee4630815053204561faa0",
       "version_major": 2,
       "version_minor": 0
      },
      "text/plain": [
       "  0%|          | 0/171936 [00:00<?, ?it/s]"
      ]
     },
     "metadata": {},
     "output_type": "display_data"
    }
   ],
   "source": [
    "train_data = create_dataset(train_X, train_headers)\n",
    "test_data = create_dataset(test_X, test_headers)"
   ]
  },
  {
   "cell_type": "code",
   "execution_count": null,
   "id": "82dc470b-2751-4c38-bd7e-8e6718d3d612",
   "metadata": {},
   "outputs": [],
   "source": []
  },
  {
   "cell_type": "code",
   "execution_count": 12,
   "id": "866006e3-db2a-4ff0-bd5a-90a6adceae45",
   "metadata": {
    "execution": {
     "iopub.execute_input": "2022-05-27T11:53:02.214187Z",
     "iopub.status.busy": "2022-05-27T11:53:02.213227Z",
     "iopub.status.idle": "2022-05-27T11:53:04.146005Z",
     "shell.execute_reply": "2022-05-27T11:53:04.145319Z",
     "shell.execute_reply.started": "2022-05-27T11:53:02.214116Z"
    },
    "scrolled": true,
    "tags": []
   },
   "outputs": [
    {
     "name": "stdout",
     "output_type": "stream",
     "text": [
      "yolo\n"
     ]
    },
    {
     "data": {
      "application/vnd.jupyter.widget-view+json": {
       "model_id": "876b5717f0fb473fb1a4f945c2dd15d7",
       "version_major": 2,
       "version_minor": 0
      },
      "text/plain": [
       "  0%|          | 0/171936 [00:00<?, ?it/s]"
      ]
     },
     "metadata": {},
     "output_type": "display_data"
    },
    {
     "name": "stdout",
     "output_type": "stream",
     "text": [
      "CPU times: user 1.88 s, sys: 45.8 ms, total: 1.93 s\n",
      "Wall time: 1.92 s\n"
     ]
    }
   ],
   "source": [
    "%%time\n",
    "from headliner.trainer import Trainer\n",
    "from headliner.model.transformer_summarizer import TransformerSummarizer\n",
    "from headliner.model.basic_summarizer import BasicSummarizer\n",
    "from headliner.model.attention_summarizer import AttentionSummarizer\n",
    "from sklearn.model_selection import train_test_split\n",
    "from headliner.preprocessing.preprocessor import Preprocessor\n",
    "\n",
    "train, test = train_data, test_data\n",
    "\n",
    "preprocessor = Preprocessor(lower_case=True, hash_numbers=False)\n",
    "temp_train = [('body', x[1]) for x in train]\n",
    "print(\"yolo\")\n",
    "train_prep = [preprocessor(t) for t in temp_train]\n",
    "targets_prep = [t[1] for t in tqdm(train_prep)]"
   ]
  },
  {
   "cell_type": "code",
   "execution_count": 13,
   "id": "3aa83ff8-6371-4417-a39e-a632fb03c375",
   "metadata": {
    "execution": {
     "iopub.execute_input": "2022-05-27T11:53:30.661641Z",
     "iopub.status.busy": "2022-05-27T11:53:30.661092Z",
     "iopub.status.idle": "2022-05-27T11:56:32.647457Z",
     "shell.execute_reply": "2022-05-27T11:56:32.645844Z",
     "shell.execute_reply.started": "2022-05-27T11:53:30.661578Z"
    },
    "tags": []
   },
   "outputs": [],
   "source": [
    "from tensorflow_datasets.core.deprecated.text import SubwordTextEncoder\n",
    "from headliner.preprocessing import Vectorizer\n",
    "tokenizer_input = TrickTokenizer()\n",
    "tokenizer_target = SubwordTextEncoder.build_from_corpus(\n",
    "    targets_prep, target_vocab_size=2**13,  reserved_tokens=[preprocessor.start_token, preprocessor.end_token])\n",
    "\n",
    "vectorizer = Vectorizer(tokenizer_input, tokenizer_target)"
   ]
  },
  {
   "cell_type": "code",
   "execution_count": 14,
   "id": "525f554e-e6a5-4899-8ecf-cadd3289e064",
   "metadata": {
    "execution": {
     "iopub.execute_input": "2022-05-27T11:58:56.849685Z",
     "iopub.status.busy": "2022-05-27T11:58:56.849132Z",
     "iopub.status.idle": "2022-05-27T11:58:58.403138Z",
     "shell.execute_reply": "2022-05-27T11:58:58.401810Z",
     "shell.execute_reply.started": "2022-05-27T11:58:56.849617Z"
    },
    "scrolled": true,
    "tags": []
   },
   "outputs": [
    {
     "name": "stdout",
     "output_type": "stream",
     "text": [
      "CPU times: user 1.19 s, sys: 85.6 ms, total: 1.28 s\n",
      "Wall time: 1.55 s\n"
     ]
    }
   ],
   "source": [
    "%%time\n",
    "%%tee cap\n",
    "#1024, 1024\n",
    "#summarizer = BasicSummarizer(embedding_size=1024, lstm_size=1024, max_prediction_len=30, embedding_encoder_trainable=False)\n",
    "#summarizer.init_model(preprocessor, vectorizer)\n",
    "summarizer = BasicSummarizer.load('FINAL_MODEL')\n",
    "#trainer = Trainer(batch_size=64, \n",
    "#                  steps_per_epoch=100, \n",
    "#                  steps_to_log=20, \n",
    "#                  max_output_len=30,\n",
    "#                 model_save_path='final_TEST')\n",
    "#trainer.train(summarizer, train, num_epochs=100, val_data=test)"
   ]
  },
  {
   "cell_type": "code",
   "execution_count": null,
   "id": "9a73e717-5812-48b5-a302-49effc3140fc",
   "metadata": {
    "tags": []
   },
   "outputs": [],
   "source": [
    "with open('output.txt', 'w') as f:\n",
    "    f.write(cap())"
   ]
  },
  {
   "cell_type": "markdown",
   "id": "a3db9f91-c0e4-4b68-ab1f-b4d8ed8facfe",
   "metadata": {},
   "source": [
    "Other bullshit"
   ]
  },
  {
   "cell_type": "code",
   "execution_count": 20,
   "id": "2e7eaa57-b8a1-440b-a0c6-8350825b1063",
   "metadata": {
    "execution": {
     "iopub.execute_input": "2022-05-12T12:47:57.030282Z",
     "iopub.status.busy": "2022-05-12T12:47:57.029766Z",
     "iopub.status.idle": "2022-05-12T12:48:23.241648Z",
     "shell.execute_reply": "2022-05-12T12:48:23.240884Z",
     "shell.execute_reply.started": "2022-05-12T12:47:57.030227Z"
    },
    "tags": []
   },
   "outputs": [],
   "source": [
    "for i, line in enumerate(train):\n",
    "    b = vectorizer.encode_input(line[0])\n",
    "    if type(b) != np.ndarray:\n",
    "        print(i)"
   ]
  },
  {
   "cell_type": "code",
   "execution_count": 31,
   "id": "dc48a873-64fe-43a4-addb-25f42fa7258c",
   "metadata": {
    "execution": {
     "iopub.execute_input": "2022-05-19T13:53:34.197716Z",
     "iopub.status.busy": "2022-05-19T13:53:34.197204Z",
     "iopub.status.idle": "2022-05-19T13:53:34.207146Z",
     "shell.execute_reply": "2022-05-19T13:53:34.206012Z",
     "shell.execute_reply.started": "2022-05-19T13:53:34.197660Z"
    }
   },
   "outputs": [
    {
     "data": {
      "text/plain": [
       "('[264.0967412348773, -2.2629539593663237, 107.37642557069023, -42.799959653854216, -1.808741015731543, 4.712803044779263, 0.05305541540200809, -0.09993568223233712, 0.9971479186705767, -1.1963794141212243, -0.054964758822794224, 0.1546939743989027, 0.11430794853698917, 0.10227953029947304, -0.04732933913512788, -0.4548853507650048, 0.10786322298967779, -0.03646803497529717, 0.0061893284503155895, -0.23475136500601632, 0.1416390188423143, 0.25641521992257243, 0.26605719822638, -0.030755655691614016, 0.07196379071379412, 0.25043473373313846, -0.1891623991951645, -0.027392517898229284, -0.10799947008883994, -0.05920810548178683, -0.012857366596294877, 0.032238186322671836, 0.30026722462569394, -0.18470348524271835, -0.2793667664296677, -0.12380844526331616, 0.10301580827255372, -0.2696060152298315, 0.16625275490317168, 0.05886286975936505, 0.05115501347997637, 0.14485657867420051, -0.07691096997389105, -0.020669541042194792, -0.1503701908116239, 0.1108229334629889, -0.20889839225977164, -0.10015638841795775, -0.07647263916477452, 0.16726645561364475, 0.19913864159261213, 0.09834014091100532, 0.0765252237937384, -0.09412120539494827, 0.09502794499048305, 0.04440471554415914, 0.1321389519165163, 0.19302573038736262, -0.38762631693165395, 0.16520359353831277, 0.31495753221321715, -0.02187388606074834, 0.0039200461455158545, 0.11665856810798972, 0.2763646368512527, -0.011045050043912076, 0.26794867162762626, 0.011811055877463868, 0.040079949589470316, 0.04388361466007176, 0.18901543906766913, 0.14624741425497859, 0.13569376394809782, -0.03836739426699599, -0.05321170308828527, 0.2865531893806725, 0.10436387034610817, 0.14713360125873398, -0.011115642628124825, -0.16978037983971808, -0.1977961508443225, -0.014925714690861128, 0.028362835552700676, 0.1596192570199879, 0.162100299140755, 0.1474133940101283, -0.031521643792026176, -0.03195402311171526, 0.1682198300798093, 0.03201630945959181, -0.09614583253406042, 0.05024329678482789, 0.06187742593048514, -0.14969618699495923, 0.10363800804898979, -0.11210288561883232, 0.0474451192044583, 0.04573244731174544, -0.17742161321777705, -0.040775187256057784]',\n",
       " 'Ferrari-fiasko opklaret: Aldrig set før')"
      ]
     },
     "execution_count": 31,
     "metadata": {},
     "output_type": "execute_result"
    }
   ],
   "source": [
    "train[0]"
   ]
  },
  {
   "cell_type": "code",
   "execution_count": 34,
   "id": "573a0158-9a0c-4a2c-abda-1a706f3c14a7",
   "metadata": {
    "execution": {
     "iopub.execute_input": "2022-05-19T13:54:00.056802Z",
     "iopub.status.busy": "2022-05-19T13:54:00.056582Z",
     "iopub.status.idle": "2022-05-19T13:54:00.061321Z",
     "shell.execute_reply": "2022-05-19T13:54:00.060813Z",
     "shell.execute_reply.started": "2022-05-19T13:54:00.056782Z"
    },
    "tags": []
   },
   "outputs": [
    {
     "data": {
      "text/plain": [
       "(100,)"
      ]
     },
     "execution_count": 34,
     "metadata": {},
     "output_type": "execute_result"
    }
   ],
   "source": [
    "vectorizer.encode_input(train[0][0]).shape"
   ]
  },
  {
   "cell_type": "code",
   "execution_count": 27,
   "id": "381a149c-970c-425a-8c69-b3795a5c2bb4",
   "metadata": {
    "execution": {
     "iopub.execute_input": "2022-05-13T08:36:02.961550Z",
     "iopub.status.busy": "2022-05-13T08:36:02.961417Z",
     "iopub.status.idle": "2022-05-13T08:36:02.969936Z",
     "shell.execute_reply": "2022-05-13T08:36:02.969398Z",
     "shell.execute_reply.started": "2022-05-13T08:36:02.961534Z"
    },
    "tags": []
   },
   "outputs": [],
   "source": [
    "vectorize_train = trainer._vectorize_data(preprocessor=summarizer.preprocessor,\n",
    "                                          vectorizer=summarizer.vectorizer,\n",
    "                                          bucket_generator=trainer.bucket_generator)"
   ]
  },
  {
   "cell_type": "code",
   "execution_count": 28,
   "id": "052a634c-b1e2-45e1-b61c-4fe44804f4dd",
   "metadata": {
    "execution": {
     "iopub.execute_input": "2022-05-13T08:36:02.970622Z",
     "iopub.status.busy": "2022-05-13T08:36:02.970502Z",
     "iopub.status.idle": "2022-05-13T08:36:03.009352Z",
     "shell.execute_reply": "2022-05-13T08:36:03.008436Z",
     "shell.execute_reply.started": "2022-05-13T08:36:02.970607Z"
    },
    "tags": []
   },
   "outputs": [],
   "source": [
    "train_gen, val_gen = trainer._create_dataset_generators(summarizer)\n",
    "train_dataset = train_gen(lambda: vectorize_train(train))"
   ]
  },
  {
   "cell_type": "code",
   "execution_count": 29,
   "id": "494548c3-1054-451f-84d9-50fa06a55102",
   "metadata": {
    "execution": {
     "iopub.execute_input": "2022-05-13T08:36:03.010145Z",
     "iopub.status.busy": "2022-05-13T08:36:03.010023Z",
     "iopub.status.idle": "2022-05-13T08:36:03.085006Z",
     "shell.execute_reply": "2022-05-13T08:36:03.084339Z",
     "shell.execute_reply.started": "2022-05-13T08:36:03.010130Z"
    },
    "tags": []
   },
   "outputs": [],
   "source": [
    "train_step = summarizer.new_train_step(trainer.loss_function, trainer.batch_size, apply_gradients=True)"
   ]
  },
  {
   "cell_type": "code",
   "execution_count": null,
   "id": "921753b4-0b5f-4be4-b36c-7e2bdac324bd",
   "metadata": {},
   "outputs": [],
   "source": [
    "[   4,  175,  991,   21, 4466,    5,  954, 3371,  205,   10,    5,\n",
    "        106,  598,  877, 8013, 3836,   15,   21,    7, 7799, 4188,    3,\n",
    "          0,    0,    0,    0,    0,    0,    0,    0,    0,    0,    0,\n",
    "          0,    0,    0,    0,    0,    0,    0]"
   ]
  },
  {
   "cell_type": "code",
   "execution_count": 18,
   "id": "28bd1460-2951-4e71-8959-81d46beb28a8",
   "metadata": {
    "execution": {
     "iopub.execute_input": "2022-05-13T08:31:26.874653Z",
     "iopub.status.busy": "2022-05-13T08:31:26.874088Z",
     "iopub.status.idle": "2022-05-13T08:31:26.893913Z",
     "shell.execute_reply": "2022-05-13T08:31:26.893007Z",
     "shell.execute_reply.started": "2022-05-13T08:31:26.874589Z"
    },
    "tags": []
   },
   "outputs": [],
   "source": [
    "from sklearn.decomposition import PCA"
   ]
  },
  {
   "cell_type": "code",
   "execution_count": 19,
   "id": "7b51aaa9-2774-4705-b9fc-8141b5f96ad9",
   "metadata": {
    "execution": {
     "iopub.execute_input": "2022-05-13T08:32:12.797877Z",
     "iopub.status.busy": "2022-05-13T08:32:12.797718Z",
     "iopub.status.idle": "2022-05-13T08:32:29.828022Z",
     "shell.execute_reply": "2022-05-13T08:32:29.827107Z",
     "shell.execute_reply.started": "2022-05-13T08:32:12.797858Z"
    },
    "tags": []
   },
   "outputs": [
    {
     "data": {
      "text/plain": [
       "PCA(n_components=100)"
      ]
     },
     "execution_count": 19,
     "metadata": {},
     "output_type": "execute_result"
    }
   ],
   "source": [
    "pca = PCA(n_components=100)\n",
    "pca.fit(train_X)"
   ]
  },
  {
   "cell_type": "code",
   "execution_count": 20,
   "id": "354c3d48-f0f6-42de-801a-6eefdb072908",
   "metadata": {
    "execution": {
     "iopub.execute_input": "2022-05-13T08:32:29.829030Z",
     "iopub.status.busy": "2022-05-13T08:32:29.828885Z",
     "iopub.status.idle": "2022-05-13T08:32:29.834251Z",
     "shell.execute_reply": "2022-05-13T08:32:29.833703Z",
     "shell.execute_reply.started": "2022-05-13T08:32:29.829013Z"
    },
    "tags": []
   },
   "outputs": [
    {
     "data": {
      "text/plain": [
       "0.9999890960420865"
      ]
     },
     "execution_count": 20,
     "metadata": {},
     "output_type": "execute_result"
    }
   ],
   "source": [
    "sum(pca.explained_variance_ratio_)"
   ]
  },
  {
   "cell_type": "code",
   "execution_count": 21,
   "id": "09399184-943c-48c2-9287-9bf2b1cefa78",
   "metadata": {
    "execution": {
     "iopub.execute_input": "2022-05-13T08:32:29.835509Z",
     "iopub.status.busy": "2022-05-13T08:32:29.835368Z",
     "iopub.status.idle": "2022-05-13T08:32:31.330277Z",
     "shell.execute_reply": "2022-05-13T08:32:31.328811Z",
     "shell.execute_reply.started": "2022-05-13T08:32:29.835492Z"
    },
    "tags": []
   },
   "outputs": [],
   "source": [
    "train_X = pca.transform(train_X)"
   ]
  },
  {
   "cell_type": "code",
   "execution_count": 22,
   "id": "b78799f3-bb3a-4cb3-b0eb-30d6d1f87237",
   "metadata": {
    "execution": {
     "iopub.execute_input": "2022-05-13T08:32:31.333495Z",
     "iopub.status.busy": "2022-05-13T08:32:31.332624Z",
     "iopub.status.idle": "2022-05-13T08:32:31.340485Z",
     "shell.execute_reply": "2022-05-13T08:32:31.339641Z",
     "shell.execute_reply.started": "2022-05-13T08:32:31.333424Z"
    },
    "tags": []
   },
   "outputs": [
    {
     "data": {
      "text/plain": [
       "(23174, 100)"
      ]
     },
     "execution_count": 22,
     "metadata": {},
     "output_type": "execute_result"
    }
   ],
   "source": [
    "train_X.shape"
   ]
  },
  {
   "cell_type": "code",
   "execution_count": 48,
   "id": "aef72f6f-28e0-48c7-99f5-268d5941c69b",
   "metadata": {
    "execution": {
     "iopub.execute_input": "2022-05-13T06:34:08.322140Z",
     "iopub.status.busy": "2022-05-13T06:34:08.321621Z",
     "iopub.status.idle": "2022-05-13T06:34:08.580383Z",
     "shell.execute_reply": "2022-05-13T06:34:08.579487Z",
     "shell.execute_reply.started": "2022-05-13T06:34:08.322083Z"
    },
    "tags": []
   },
   "outputs": [
    {
     "data": {
      "text/plain": [
       "<matplotlib.collections.PathCollection at 0x7f23745747c0>"
      ]
     },
     "execution_count": 48,
     "metadata": {},
     "output_type": "execute_result"
    },
    {
     "data": {
      "image/png": "[encoded data removed]",
      "text/plain": [
       "<Figure size 432x288 with 1 Axes>"
      ]
     },
     "metadata": {
      "needs_background": "light"
     },
     "output_type": "display_data"
    }
   ],
   "source": [
    "from matplotlib import pyplot as plt\n",
    "x = [x[0] for x in train_X]\n",
    "y = [x[1] for x in train_X]\n",
    "plt.scatter(x,y)"
   ]
  },
  {
   "cell_type": "code",
   "execution_count": 33,
   "id": "ccaa19df-fa91-4163-ad54-867bf6f58058",
   "metadata": {
    "execution": {
     "iopub.execute_input": "2022-05-13T07:58:43.229864Z",
     "iopub.status.busy": "2022-05-13T07:58:43.229317Z",
     "iopub.status.idle": "2022-05-13T07:58:43.297826Z",
     "shell.execute_reply": "2022-05-13T07:58:43.296659Z",
     "shell.execute_reply.started": "2022-05-13T07:58:43.229805Z"
    },
    "tags": []
   },
   "outputs": [
    {
     "data": {
      "text/plain": [
       "<tf.Tensor: shape=(40,), dtype=int32, numpy=\n",
       "array([   4,  175,  991,   21, 4466,    5,  954, 3371,  205,   10,    5,\n",
       "        106,  598,  877, 8013, 3836,   15,   21,    7, 7799, 4188,    3,\n",
       "          0,    0,    0,    0,    0,    0,    0,    0,    0,    0,    0,\n",
       "          0,    0,    0,    0,    0,    0,    0], dtype=int32)>"
      ]
     },
     "execution_count": 33,
     "metadata": {},
     "output_type": "execute_result"
    }
   ],
   "source": [
    "bruh[1][0]"
   ]
  },
  {
   "cell_type": "code",
   "execution_count": 7,
   "id": "cdbb5264-db03-4ec8-a6ee-5a3d21b2ca49",
   "metadata": {
    "execution": {
     "iopub.execute_input": "2022-05-14T16:02:13.470810Z",
     "iopub.status.busy": "2022-05-14T16:02:13.470215Z",
     "iopub.status.idle": "2022-05-14T16:02:22.226086Z",
     "shell.execute_reply": "2022-05-14T16:02:22.224816Z",
     "shell.execute_reply.started": "2022-05-14T16:02:13.470757Z"
    },
    "tags": []
   },
   "outputs": [],
   "source": [
    "summarizer = BasicSummarizer.load('manual_encodings_basicsummarizer1024_TEST')"
   ]
  },
  {
   "cell_type": "code",
   "execution_count": null,
   "id": "2daa93a1-0619-49ae-9750-8693695e86bd",
   "metadata": {
    "execution": {
     "iopub.execute_input": "2022-05-27T12:31:13.985590Z",
     "iopub.status.busy": "2022-05-27T12:31:13.984914Z"
    },
    "tags": []
   },
   "outputs": [
    {
     "name": "stdout",
     "output_type": "stream",
     "text": [
      "Jubler over dansk trøffelfund: Tre gange større end dem i bøgerne - TV 2\n",
      "Greta Thunberg har fået et dyr opkaldt efter sig\n",
      "WiFi-frygt: 1.326 fly skal have skiftet cockpit-skærme\n",
      "CL-vinder har fundet anden levevej: Folk ser ned på hans nye job\n",
      "ERROR:tensorflow:==================================\n",
      "Object was never used (type <class 'tensorflow.python.ops.tensor_array_ops.TensorArray'>):\n",
      "<tensorflow.python.ops.tensor_array_ops.TensorArray object at 0x7f1cc82708e0>\n",
      "If you want to mark it as used call its \"mark_used()\" method.\n",
      "It was originally created here:\n",
      "  File \"/opt/conda/lib/python3.9/site-packages/keras/backend.py\", line 4770, in <genexpr>\n",
      "    ta.write(ta_index_to_write, out)  File \"/opt/conda/lib/python3.9/site-packages/tensorflow/python/util/tf_should_use.py\", line 243, in wrapped\n",
      "    return _add_should_use_warning(fn(*args, **kwargs),\n",
      "==================================\n"
     ]
    },
    {
     "name": "stderr",
     "output_type": "stream",
     "text": [
      "ERROR:tensorflow:==================================\n",
      "Object was never used (type <class 'tensorflow.python.ops.tensor_array_ops.TensorArray'>):\n",
      "<tensorflow.python.ops.tensor_array_ops.TensorArray object at 0x7f1cc82708e0>\n",
      "If you want to mark it as used call its \"mark_used()\" method.\n",
      "It was originally created here:\n",
      "  File \"/opt/conda/lib/python3.9/site-packages/keras/backend.py\", line 4770, in <genexpr>\n",
      "    ta.write(ta_index_to_write, out)  File \"/opt/conda/lib/python3.9/site-packages/tensorflow/python/util/tf_should_use.py\", line 243, in wrapped\n",
      "    return _add_should_use_warning(fn(*args, **kwargs),\n",
      "==================================\n"
     ]
    },
    {
     "name": "stdout",
     "output_type": "stream",
     "text": [
      "Derfor er der kæmpe spejle på Brøndby Stadion\n",
      "Teenager stak sin mand under voldtægt: Nu risikerer hun dødsstraf\n",
      "Stjal billedet ved OL: Her er håndtrykket der skriver historie\n",
      "Bernie Sanders ramt af hjerteproblemer - aflyser planer\n",
      "Nye adgangskrav til gymnasiet giver udfordringer for elever og gymnasier\n",
      "Schweiz-boss: Danmark kommer til EM\n"
     ]
    }
   ],
   "source": [
    "sample = [x for x in train[:10]]\n",
    "outlines = []\n",
    "for s in sample[:10]:\n",
    "    print(s[1])\n",
    "    outlines.append(f\"Target: {s[1]}\\tPredicted: {summarizer.predict(s[0])}\\n\")"
   ]
  },
  {
   "cell_type": "code",
   "execution_count": null,
   "id": "99f8b986-8c45-44d6-b29c-00371005637b",
   "metadata": {
    "execution": {
     "iopub.status.busy": "2022-05-27T12:31:05.923645Z",
     "iopub.status.idle": "2022-05-27T12:31:05.923868Z",
     "shell.execute_reply": "2022-05-27T12:31:05.923768Z",
     "shell.execute_reply.started": "2022-05-27T12:31:05.923756Z"
    },
    "tags": []
   },
   "outputs": [],
   "source": [
    "for i in outlines[:100]:\n",
    "    print(i.split('\\t'))"
   ]
  },
  {
   "cell_type": "code",
   "execution_count": null,
   "id": "2851ee7f-e89b-43ae-bc99-913b3e35be75",
   "metadata": {},
   "outputs": [],
   "source": [
    " "
   ]
  }
 ],
 "metadata": {
  "kernelspec": {
   "display_name": "Python 3 ",
   "language": "python",
   "name": "python3"
  },
  "language_info": {
   "codemirror_mode": {
    "name": "ipython",
    "version": 3
   },
   "file_extension": ".py",
   "mimetype": "text/x-python",
   "name": "python",
   "nbconvert_exporter": "python",
   "pygments_lexer": "ipython3",
   "version": "3.9.10"
  }
 },
 "nbformat": 4,
 "nbformat_minor": 5
}
