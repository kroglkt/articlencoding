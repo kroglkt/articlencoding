{
 "cells": [
  {
   "cell_type": "markdown",
   "metadata": {},
   "source": [
    "# Notebook for extracting features for authorship attribution.\n",
    "In this notebook all authorship attribution features will be collected. They will be saved after extraction. Make sure, you define each feature extraction in a function, so it easily can be repurposed.\n",
    "\n",
    "Author: lkt259@alumni.ku.dk & vsl133@alumni.ku.dk"
   ]
  },
  {
   "cell_type": "code",
   "execution_count": 2,
   "metadata": {},
   "outputs": [],
   "source": [
    "import numpy as np\n",
    "import pandas as pd\n",
    "import re\n",
    "from tqdm.notebook import tqdm\n",
    "from nltk.tokenize import RegexpTokenizer\n",
    "from sklearn.feature_extraction.text import TfidfVectorizer\n",
    "from sklearn.preprocessing import LabelEncoder\n",
    "from sklearn.model_selection import train_test_split\n",
    "import nltk\n",
    "from lexicalrichness import LexicalRichness\n",
    "from matplotlib import pyplot as plt\n",
    "import random\n",
    "import spacy\n",
    "import os, sys"
   ]
  },
  {
   "cell_type": "code",
   "execution_count": 5,
   "metadata": {},
   "outputs": [],
   "source": [
    "def rand_emot():\n",
    "    e = [\"(o_o)\",\":-)\",\":P\",\":D\",\"x)\",\"ᓚᘏᗢ\",\"╯°□°）╯︵ ┻━┻\",\":)\",\n",
    "         \"*<:-)\",\"^_^\",\"(⌐■_■)\",\"¯\\_(ツ)_/¯\", \"(T_T)\",\":o\",\"OwO\",\n",
    "        \"( ͡❛ ͜ʖ ͡❛)\",\"(̶◉͛‿◉̶)\",\"( ≖.≖)\",\"(ㆆ_ㆆ)\",\"ʕ•́ᴥ•̀ʔっ\",\"( ◡́.◡̀)\",\"(^◡^ )\"]\n",
    "    return random.choice(e)"
   ]
  },
  {
   "cell_type": "markdown",
   "metadata": {},
   "source": [
    "#### Sentence length\n",
    "Nice feature, very complex!"
   ]
  },
  {
   "cell_type": "code",
   "execution_count": 6,
   "metadata": {},
   "outputs": [],
   "source": [
    "string = \"We can work with single sentences (classifying them with respect to sentiment, topic, authorship, etc), or more than one at a time (checking for similarities, contradiction, question/answer pairs, etc.) Another successful application is to encode one sentence in one language and use a different autoencoder to decode it into another language, e.g. Cho et al. (2014).\"\n",
    "train_corpus = ['This list has overlapping features with content features. For example, word n-grams will capture the content of the text along with stylometric tendencies. Content features consist of word frequencies, word and character n-grams, hapax legomena etc. This overlap is not of concern, however, as Sari et al. \\cite{Sari2018} show, using content features is beneficial when performing authorship attribution of news articles because journalists often have certain topics they prefer writing about. They argue that using only stylometric features is beneficial when attributing authors to texts of the same topic or genre, e.g. law text or movie reviews.',\n",
    "              'Bozkurt et al. \\cite{Bozkurt} performed authorship attribution on Turkish newspaper articles using stylometric features, vocabulary diversity, bag of words and frequency of function words. For stylometric features, they used number of sentences and words in the article, the average number of words in a sentence and the whole article, the vocabulary size, frequencies of symbols used (periods, exclamation marks, etc.) and the number of incomplete sentences. They weighted their features using Term Frequency-Inverse Document Frequency (TF-IDF).',\n",
    "              'TF-IDF is a weighting system often used on words. It consists of two parts: term frequency (TF), which coulds how often a term occurs in a document, and inverse document frequency (IDF) which measures the term importance, as it compares how often the term occurs in a corpus\\cite{TFIDF}. The system is useful for measuring how important a term is for a document. For example, the word \"the\" will often occur in English texts, making it not important even though it occurs frequently in a document. TF-IDF has on many occasions been used in authorship attribution\\cite{Muttenhaler, basile:2019, rahgouy:2019} and can be used on different terms, such as characters, symbols or n-grams.',\n",
    "              'Every year, the research group Webis hosts the PAN shared tasks on digital text forensics and sylometry\\cite{PAN}. Contestants will solve various tasks concerning NLP and on multiple occasions, authorship attribution were part of the tasks. The methodologies used in these tasks are useful resources for feature and model selections.',\n",
    "              'In the overview paper of the authorship attribution task of PAN 2019\\cite{kestemont2019overview}, the 12 best performing models are compiled. All features involve character n-grams and other sorts of n-grams. Other popular choices of n-grams contain words, POS tags, punctuation and distortion. Most of the participants use TF-IDF weighting and SVMs as classifiers. Distortion is a method for masking topical contents of the text before feature extraction, focusing only on stylometric features.']\n",
    "test_corpus = ['I have been unable to generate numbers by the Bohr hypothesis, but given more time, I would have simulated multiple distributions following the formula and compare the peak locations to my fit results, by looking at their means and if plausible, perform a t- or z-test to compare. Perhaps using a Kolmogorov-Smirnov test on the entirety of the data would show if it matches only by the peaks or by the whole distribution.',\n",
    "               \"In recent years there have been an increasing interest in biometric identification. Various studies has been conducted aiming to detect individual or unique demographic traits. Results from recent studies have given reason to believe that the ability to predict demographic information using eye tracking is highly dependent on the stimulus. Based on this, this study performs a comparison using two datasets built on different stimulus: IQ tests and passive image viewing. This study found significant differences in the accuracy achieved on the two datasets using a Random Forest (RF) and Long-Short Term Memory network (LSTM) as classifiers. The random forest performed best with an accuracy of 0.85 on the passive image viewing dataset and 0.70 on the IQ dataset. Furthermore, we investigated the effect of using micro movements of the eye as features in the model, which has proven to be a useful feature in recent studies within biometric identification. Lastly, we report the classifiers' ability to perform task independent predictions of gender, using one dataset for training and another for testing. The result from this experiments was not satisfying and close to chance level. However, combining the dataset for training and testing resulted in the random forest having an overall accuracy on the combined dataset of 0.74.\",\n",
    "              ]"
   ]
  },
  {
   "cell_type": "code",
   "execution_count": 3,
   "metadata": {},
   "outputs": [
    {
     "name": "stdout",
     "output_type": "stream",
     "text": [
      "Stats for our test document\n"
     ]
    },
    {
     "ename": "NameError",
     "evalue": "name 'string' is not defined",
     "output_type": "error",
     "traceback": [
      "\u001b[1;31m---------------------------------------------------------------------------\u001b[0m",
      "\u001b[1;31mNameError\u001b[0m                                 Traceback (most recent call last)",
      "\u001b[1;32m~\\AppData\\Local\\Temp\\ipykernel_13088\\1811541802.py\u001b[0m in \u001b[0;36m<module>\u001b[1;34m\u001b[0m\n\u001b[0;32m     36\u001b[0m \u001b[1;33m\u001b[0m\u001b[0m\n\u001b[0;32m     37\u001b[0m \u001b[0mprint\u001b[0m\u001b[1;33m(\u001b[0m\u001b[1;34m\"Stats for our test document\"\u001b[0m\u001b[1;33m)\u001b[0m\u001b[1;33m\u001b[0m\u001b[1;33m\u001b[0m\u001b[0m\n\u001b[1;32m---> 38\u001b[1;33m \u001b[0mget_sentence_length_stats\u001b[0m\u001b[1;33m(\u001b[0m\u001b[0mstring\u001b[0m\u001b[1;33m)\u001b[0m\u001b[1;33m\u001b[0m\u001b[1;33m\u001b[0m\u001b[0m\n\u001b[0m",
      "\u001b[1;31mNameError\u001b[0m: name 'string' is not defined"
     ]
    }
   ],
   "source": [
    "def split_sentences(text):\n",
    "    '''Returns an array with text split into sentences'''\n",
    "    return np.array(re.split(r'(?<!\\w\\.\\w.)(?<![A-Z][a-z]\\.)(?<=\\.|\\?)\\s', text), dtype=str)\n",
    "\n",
    "def remove_dots(word):\n",
    "    return re.sub(r',|\\.|:|!|\\?|;', '', word)\n",
    "\n",
    "def split_words(text):\n",
    "    '''Returns an array with text split into words'''\n",
    "    text = text.lower()\n",
    "    string = np.array(text.split(), dtype=str)\n",
    "    no_dot = np.array([remove_dots(x) for x in string])\n",
    "    return np.array(list(filter(None, no_dot)))\n",
    "\n",
    "def get_sentence_lengths(text):\n",
    "    '''Returns dictionary with sentence lengh in chars and words'''\n",
    "    split_text = split_sentences(text)\n",
    "    num_sentences = len(split_text)\n",
    "    num_chars = np.array([len(x) for x in split_text], dtype=int)\n",
    "    num_words = [split_words(x).size for x in split_sentences(string)]\n",
    "    return {'chars' : num_chars, 'words' : num_words, 'num_sents' : num_sentences}\n",
    "\n",
    "def get_sentence_length_stats(text):\n",
    "    '''Returns dictionary with mean, std and median lengths in both chars and words'''\n",
    "    sentence_lengths = get_sentence_lengths(text)\n",
    "    output = {'number_of_sentences' : sentence_lengths['num_sents'],\n",
    "              'avg_sent_len_chars' : np.mean(sentence_lengths['chars']),\n",
    "              'std_sent_len_chars' : np.std(sentence_lengths['chars']),\n",
    "              'med_sent_len_chars' : np.median(sentence_lengths['chars']),\n",
    "              \n",
    "              'avg_sent_len_words' : np.mean(sentence_lengths['words']),\n",
    "              'std_sent_len_words' : np.std(sentence_lengths['words']),\n",
    "              'med_sent_len_words' : np.median(sentence_lengths['words'])\n",
    "             }\n",
    "    return output\n",
    "\n",
    "print(\"Stats for our test document\")\n",
    "get_sentence_length_stats(string)"
   ]
  },
  {
   "cell_type": "markdown",
   "metadata": {},
   "source": [
    "##### Word length\n",
    "The count of words of the entire text.\n",
    "Also extremely complex feature, cool shit."
   ]
  },
  {
   "cell_type": "code",
   "execution_count": null,
   "metadata": {},
   "outputs": [],
   "source": [
    "def get_word_lengths(split_text):\n",
    "    '''Returns length of words in characters'''\n",
    "    return np.array([len(x) for x in split_text], dtype=int)\n",
    "\n",
    "def get_word_length_stats(text):\n",
    "    '''Returns various stats for words in document'''\n",
    "    #Split text here, to reduce function calls.\n",
    "    split_text = split_words(text)\n",
    "    word_lengths = get_word_lengths(split_text)\n",
    "    output = {\n",
    "        'number_of_words' : len(split_text),\n",
    "        'avg_word_len_chars' : np.mean(word_lengths),\n",
    "        'std_word_len_chars' : np.std(word_lengths),\n",
    "        'med_word_len_chars' : np.median(word_lengths)\n",
    "    }\n",
    "    return output\n",
    "\n",
    "print(\"Test word lengths\")\n",
    "get_word_length_stats(string)"
   ]
  },
  {
   "cell_type": "markdown",
   "metadata": {},
   "source": [
    "### Word frequency\n",
    "Get word frequencies with TF-IDF weightings.\n",
    "\n",
    "Word frequency is the same as word unigrams - defined later."
   ]
  },
  {
   "cell_type": "code",
   "execution_count": 9,
   "metadata": {},
   "outputs": [],
   "source": [
    "def get_tfidf_names(vectorizer, X, h=5):\n",
    "    ngrams = vectorizer.get_feature_names()\n",
    "    dense = X.todense()\n",
    "    denselist = dense.tolist()\n",
    "    df = pd.DataFrame(denselist, columns=ngrams)\n",
    "    display(df.head(h))"
   ]
  },
  {
   "cell_type": "markdown",
   "metadata": {},
   "source": [
    "### Hapax legomena\n",
    "Count how many unique words are in a document."
   ]
  },
  {
   "cell_type": "code",
   "execution_count": 10,
   "metadata": {},
   "outputs": [],
   "source": [
    "def get_num_hapax(split_text):\n",
    "    '''Returns the numer of hapax legomena, takes a split words as input'''\n",
    "    fdist = nltk.probability.FreqDist(split_text)\n",
    "    return len(fdist.hapaxes())"
   ]
  },
  {
   "cell_type": "markdown",
   "metadata": {},
   "source": [
    "### Lexical diversity\n",
    "Compute single-values describing the lexical diversities."
   ]
  },
  {
   "cell_type": "code",
   "execution_count": 11,
   "metadata": {},
   "outputs": [],
   "source": [
    "def compute_lix(text):\n",
    "    tokens = nltk.word_tokenize(text)\n",
    "    splt = text.split()\n",
    "    o = len(splt)+1\n",
    "    p = len([x for x in tokens if x=='.'])+1\n",
    "    l = len([x for x in tokens if len(x)>6])+1\n",
    "    \n",
    "    return (o/p)+((l*100)/o)\n",
    "\n",
    "def lexical_diversities(text):\n",
    "    '''Returns a dictionary with various vocabulary richness measures'''\n",
    "    lex = LexicalRichness(text, tokenizer=split_words)\n",
    "    output = {\n",
    "        'ttr' : lex.ttr,\n",
    "        'rttr' : lex.rttr,\n",
    "        'cttr' : lex.cttr,\n",
    "        'herdan' : lex.Herdan,\n",
    "        'summer' : lex.Summer,\n",
    "        'dugast' : lex.Dugast,\n",
    "        'maas' : lex.Maas,\n",
    "        'lix' : compute_lix(text)\n",
    "    }\n",
    "    return output"
   ]
  },
  {
   "cell_type": "code",
   "execution_count": 12,
   "metadata": {},
   "outputs": [
    {
     "data": {
      "text/plain": [
       "<matplotlib.legend.Legend at 0x2635e59d088>"
      ]
     },
     "execution_count": 12,
     "metadata": {},
     "output_type": "execute_result"
    },
    {
     "data": {
      "image/png": "[encoded data removed]",
      "text/plain": [
       "<Figure size 720x432 with 1 Axes>"
      ]
     },
     "metadata": {
      "needs_background": "light"
     },
     "output_type": "display_data"
    }
   ],
   "source": [
    "stats = [lexical_diversities(x) for x in train_corpus]\n",
    "\n",
    "ttr = [x['ttr'] for x in stats]\n",
    "rttr = [x['rttr'] for x in stats]\n",
    "cttr = [x['cttr'] for x in stats]\n",
    "herdan = [x['herdan'] for x in stats]\n",
    "summer = [x['summer'] for x in stats]\n",
    "dugast = [x['dugast'] for x in stats]\n",
    "maas = [x['maas'] for x in stats]\n",
    "lix = [x['lix'] for x in stats]\n",
    "\n",
    "fig = plt.figure(figsize=(10,6))\n",
    "plt.plot(ttr, label='ttr')\n",
    "plt.plot(rttr, label='rttr')\n",
    "plt.plot(cttr, label='cttr')\n",
    "plt.plot(herdan, label='herdan')\n",
    "plt.plot(summer, label='summer')\n",
    "plt.plot(dugast, label='dugast')\n",
    "plt.plot(maas, label='maas')\n",
    "plt.plot(lix, label='lix')\n",
    "plt.legend()"
   ]
  },
  {
   "cell_type": "markdown",
   "metadata": {},
   "source": [
    "# N-Grams\n",
    "A collection of vectorizers for different types of n-grams."
   ]
  },
  {
   "cell_type": "code",
   "execution_count": 13,
   "metadata": {},
   "outputs": [
    {
     "ename": "OSError",
     "evalue": "[E050] Can't find model 'da_core_news_md'. It doesn't seem to be a Python package or a valid path to a data directory.",
     "output_type": "error",
     "traceback": [
      "\u001b[1;31m---------------------------------------------------------------------------\u001b[0m",
      "\u001b[1;31mOSError\u001b[0m                                   Traceback (most recent call last)",
      "\u001b[1;32m~\\AppData\\Local\\Temp\\ipykernel_10424\\1543474792.py\u001b[0m in \u001b[0;36m<module>\u001b[1;34m\u001b[0m\n\u001b[1;32m----> 1\u001b[1;33m \u001b[0mPOS_tagger_DK\u001b[0m \u001b[1;33m=\u001b[0m \u001b[0mspacy\u001b[0m\u001b[1;33m.\u001b[0m\u001b[0mload\u001b[0m\u001b[1;33m(\u001b[0m\u001b[1;34m\"da_core_news_md\"\u001b[0m\u001b[1;33m)\u001b[0m\u001b[1;33m\u001b[0m\u001b[1;33m\u001b[0m\u001b[0m\n\u001b[0m",
      "\u001b[1;32mc:\\python37\\lib\\site-packages\\spacy\\__init__.py\u001b[0m in \u001b[0;36mload\u001b[1;34m(name, vocab, disable, exclude, config)\u001b[0m\n\u001b[0;32m     50\u001b[0m     \"\"\"\n\u001b[0;32m     51\u001b[0m     return util.load_model(\n\u001b[1;32m---> 52\u001b[1;33m         \u001b[0mname\u001b[0m\u001b[1;33m,\u001b[0m \u001b[0mvocab\u001b[0m\u001b[1;33m=\u001b[0m\u001b[0mvocab\u001b[0m\u001b[1;33m,\u001b[0m \u001b[0mdisable\u001b[0m\u001b[1;33m=\u001b[0m\u001b[0mdisable\u001b[0m\u001b[1;33m,\u001b[0m \u001b[0mexclude\u001b[0m\u001b[1;33m=\u001b[0m\u001b[0mexclude\u001b[0m\u001b[1;33m,\u001b[0m \u001b[0mconfig\u001b[0m\u001b[1;33m=\u001b[0m\u001b[0mconfig\u001b[0m\u001b[1;33m\u001b[0m\u001b[1;33m\u001b[0m\u001b[0m\n\u001b[0m\u001b[0;32m     53\u001b[0m     )\n\u001b[0;32m     54\u001b[0m \u001b[1;33m\u001b[0m\u001b[0m\n",
      "\u001b[1;32mc:\\python37\\lib\\site-packages\\spacy\\util.py\u001b[0m in \u001b[0;36mload_model\u001b[1;34m(name, vocab, disable, exclude, config)\u001b[0m\n\u001b[0;32m    425\u001b[0m     \u001b[1;32mif\u001b[0m \u001b[0mname\u001b[0m \u001b[1;32min\u001b[0m \u001b[0mOLD_MODEL_SHORTCUTS\u001b[0m\u001b[1;33m:\u001b[0m\u001b[1;33m\u001b[0m\u001b[1;33m\u001b[0m\u001b[0m\n\u001b[0;32m    426\u001b[0m         \u001b[1;32mraise\u001b[0m \u001b[0mIOError\u001b[0m\u001b[1;33m(\u001b[0m\u001b[0mErrors\u001b[0m\u001b[1;33m.\u001b[0m\u001b[0mE941\u001b[0m\u001b[1;33m.\u001b[0m\u001b[0mformat\u001b[0m\u001b[1;33m(\u001b[0m\u001b[0mname\u001b[0m\u001b[1;33m=\u001b[0m\u001b[0mname\u001b[0m\u001b[1;33m,\u001b[0m \u001b[0mfull\u001b[0m\u001b[1;33m=\u001b[0m\u001b[0mOLD_MODEL_SHORTCUTS\u001b[0m\u001b[1;33m[\u001b[0m\u001b[0mname\u001b[0m\u001b[1;33m]\u001b[0m\u001b[1;33m)\u001b[0m\u001b[1;33m)\u001b[0m  \u001b[1;31m# type: ignore[index]\u001b[0m\u001b[1;33m\u001b[0m\u001b[1;33m\u001b[0m\u001b[0m\n\u001b[1;32m--> 427\u001b[1;33m     \u001b[1;32mraise\u001b[0m \u001b[0mIOError\u001b[0m\u001b[1;33m(\u001b[0m\u001b[0mErrors\u001b[0m\u001b[1;33m.\u001b[0m\u001b[0mE050\u001b[0m\u001b[1;33m.\u001b[0m\u001b[0mformat\u001b[0m\u001b[1;33m(\u001b[0m\u001b[0mname\u001b[0m\u001b[1;33m=\u001b[0m\u001b[0mname\u001b[0m\u001b[1;33m)\u001b[0m\u001b[1;33m)\u001b[0m\u001b[1;33m\u001b[0m\u001b[1;33m\u001b[0m\u001b[0m\n\u001b[0m\u001b[0;32m    428\u001b[0m \u001b[1;33m\u001b[0m\u001b[0m\n\u001b[0;32m    429\u001b[0m \u001b[1;33m\u001b[0m\u001b[0m\n",
      "\u001b[1;31mOSError\u001b[0m: [E050] Can't find model 'da_core_news_md'. It doesn't seem to be a Python package or a valid path to a data directory."
     ]
    }
   ],
   "source": [
    "POS_tagger_DK = spacy.load(\"da_core_news_md\")"
   ]
  },
  {
   "cell_type": "code",
   "execution_count": null,
   "metadata": {},
   "outputs": [],
   "source": [
    "def word_ngram_vectorizer(train_corpus, n): \n",
    "    #Trains a TF-IDF vectorizer of word n-grams\n",
    "    vectorizer = TfidfVectorizer(max_features=3000, analyzer=\"word\", ngram_range=(n,n))\n",
    "    print(f\"Training word {n}-gram vectorizer...\",rand_emot())\n",
    "    \n",
    "    X = vectorizer.fit_transform(train_corpus)\n",
    "    print(\"Vectorizer fit!\", rand_emot())\n",
    "    \n",
    "    return X, vectorizer\n",
    "\n",
    "def char_ngram_vectorizer(train_corpus, n): \n",
    "    #Trains a TF-IDF vectorizer of character n-grams\n",
    "    vectorizer = TfidfVectorizer(max_features=3000, analyzer=\"char\", ngram_range=(n,n))\n",
    "    print(f\"Training char {n}-gram vectorizer...\",rand_emot())\n",
    "    \n",
    "    X = vectorizer.fit_transform(train_corpus)\n",
    "    print(\"Vectorizer fit!\", rand_emot())\n",
    "      \n",
    "    return X, vectorizer\n",
    "\n",
    "def extract_POS(corpus):\n",
    "    POS_corpus = []\n",
    "    print(\"Extracting POS...\")\n",
    "    \n",
    "    for doc in tqdm(corpus):\n",
    "        tagged_doc = POS_tagger_DK(doc) #tag each document in corpus with POS tags using spacy\n",
    "        POS_list = []\n",
    "\n",
    "        for token in tagged_doc:\n",
    "            POS_list.append(token.pos_)\n",
    "\n",
    "        #concatenate as POS tags for the document\n",
    "        POS_text = \" \".join(POS_list)\n",
    "        POS_corpus.append(POS_text)\n",
    "    return POS_corpus\n",
    "\n",
    "def POS_ngram_vectorizer(POS_corpus, n): \n",
    "    #Trains a TF-IDF vectorizer of POS n-grams. A POS corpus is generated in the function using a tagger for Danish.\n",
    "   \n",
    "    vectorizer = TfidfVectorizer(max_features=3000, analyzer=\"word\", ngram_range=(n,n))\n",
    "    print(f\"Training POS {n}-gram vectorizer...\",rand_emot())\n",
    "    \n",
    "    X = vectorizer.fit_transform(POS_corpus)\n",
    "    print(\"Vectorizer fit!\", rand_emot())\n",
    "\n",
    "    return X, vectorizer"
   ]
  },
  {
   "cell_type": "code",
   "execution_count": null,
   "metadata": {},
   "outputs": [],
   "source": [
    "# Gets weights for terms based on trained vectorizer\n",
    "# Works for both word and character ngrams\n",
    "def get_tfidf_ngrams(vectorizer, test_corpus):\n",
    "    '''Returns the TF-IDF weighted ngram frequencies of test documents'''\n",
    "    #Multiple texts required\n",
    "    return vectorizer.transform(test_corpus)\n",
    "\n",
    "# Function generates POS test corpus first and then gets weights for terms based on trained vectorizer. \n",
    "def get_tfidf_POS_ngrams(vectorizer, POS_corpus):\n",
    "    '''Returns the TF-IDF weighted ngram frequencies of test documents'''    \n",
    "    #Multiple texts required\n",
    "    return vectorizer.transform(POS_corpus)"
   ]
  },
  {
   "cell_type": "code",
   "execution_count": null,
   "metadata": {},
   "outputs": [],
   "source": [
    "%%capture\n",
    "def train_vectorizers(training_data):\n",
    "    '''Returns 2 dictionaries: vectorizers and weights\n",
    "    Only use this function on training data'''\n",
    "    \n",
    "    X_word_unigrams, unigram_word_vectorizer = word_ngram_vectorizer(training_data, 1)\n",
    "    X_word_bigrams, bigram_word_vectorizer = word_ngram_vectorizer(training_data, 2)\n",
    "    X_word_trigrams, trigram_word_vectorizer = word_ngram_vectorizer(training_data, 3)\n",
    "    \n",
    "    X_char_unigrams, unigram_char_vectorizer = char_ngram_vectorizer(training_data, 1)\n",
    "    X_char_bigrams, bigram_char_vectorizer = char_ngram_vectorizer(training_data, 2)\n",
    "    X_char_trigrams, trigram_char_vectorizer = char_ngram_vectorizer(training_data, 3)\n",
    "    \n",
    "    POS_corpus = extract_POS(training_data)\n",
    "    \n",
    "    X_POS_unigrams, unigram_POS_vectorizer = POS_ngram_vectorizer(POS_corpus, 1)\n",
    "    X_POS_bigrams, bigram_POS_vectorizer = POS_ngram_vectorizer(POS_corpus, 2)\n",
    "    X_POS_trigrams, trigram_POS_vectorizer = POS_ngram_vectorizer(POS_corpus, 3)\n",
    "    \n",
    "    \n",
    "    vectorizers = {\n",
    "        'uni_word' : unigram_word_vectorizer,\n",
    "        'bi_word' : bigram_word_vectorizer,\n",
    "        'tri_word' : trigram_word_vectorizer,\n",
    "        'uni_char' : unigram_char_vectorizer,\n",
    "        'bi_char' : bigram_char_vectorizer,\n",
    "        'tri_char' : trigram_char_vectorizer,\n",
    "        'uni_pos' : unigram_POS_vectorizer,\n",
    "        'bi_pos' : bigram_POS_vectorizer,\n",
    "        'tri_pos' : trigram_POS_vectorizer,\n",
    "    }\n",
    "    \n",
    "    weights = {\n",
    "        'uni_word' : X_word_unigrams,\n",
    "        'bi_word' : X_word_bigrams,\n",
    "        'tri_word' : X_word_trigrams,\n",
    "        'uni_char' : X_char_unigrams,\n",
    "        'bi_char' : X_char_bigrams,\n",
    "        'tri_char' : X_char_trigrams,\n",
    "        'uni_pos' : X_POS_unigrams,\n",
    "        'bi_pos' : X_POS_bigrams,\n",
    "        'tri_pos' : X_POS_trigrams,\n",
    "    }\n",
    "    \n",
    "    return vectorizers, weights\n",
    "\n",
    "vectorizers, weights = train_vectorizers(train_corpus)"
   ]
  },
  {
   "cell_type": "code",
   "execution_count": null,
   "metadata": {},
   "outputs": [],
   "source": [
    "get_tfidf_names(vectorizers['uni_word'], weights['uni_word'])"
   ]
  },
  {
   "cell_type": "markdown",
   "metadata": {},
   "source": [
    "### Combining features\n",
    "Combine the features into one long as fuck vector!"
   ]
  },
  {
   "cell_type": "code",
   "execution_count": null,
   "metadata": {},
   "outputs": [],
   "source": [
    "def vectorize_test_data(vectorizers, test_data):\n",
    "    '''Returns weighted matrices for test data.'''\n",
    "    POS_corpus = extract_POS(test_data)\n",
    "    weights = {}\n",
    "    for vectorizer in vectorizers:\n",
    "        if 'pos' in vectorizer:\n",
    "            weights[vectorizer] = get_tfidf_POS_ngrams(vectorizers[vectorizer], POS_corpus)\n",
    "        else:\n",
    "            weights[vectorizer] = get_tfidf_ngrams(vectorizers[vectorizer], test_data)\n",
    "    return weights\n",
    "\n",
    "def combine_data(data, train_test, vectorizers=None):\n",
    "    #Trains vectorizers if training data is specified.\n",
    "    if train_test == 'train':\n",
    "        assert vectorizers == None, \"Please do not specify vectorizers when training them!\"\n",
    "        print(\"Training data specified... Training vectorizers!\\n\")\n",
    "        vectorizers, weights = train_vectorizers(data)\n",
    "    elif train_test == 'test':\n",
    "        assert type(vectorizers) == dict, \"Vectorizers need to be in a dict!\"\n",
    "        print(\"Test data being vectorized...\")\n",
    "        weights = vectorize_test_data(vectorizers, data)\n",
    "    else:\n",
    "        print(\"Please specify type of data!\")\n",
    "        return\n",
    "    \n",
    "    feature_indices = []\n",
    "    \n",
    "    uni_word = weights['uni_word'].todense()\n",
    "    bi_word = weights['bi_word'].todense()\n",
    "    tri_word = weights['tri_word'].todense()\n",
    "    \n",
    "    uni_char = weights['uni_char'].todense()\n",
    "    bi_char = weights['bi_char'].todense()\n",
    "    tri_char = weights['tri_char'].todense()\n",
    "    \n",
    "    uni_pos = weights['uni_pos'].todense()\n",
    "    bi_pos = weights['bi_pos'].todense()\n",
    "    tri_pos = weights['tri_pos'].todense()\n",
    "    \n",
    "    #Stack ngrams\n",
    "    word_ngrams = np.hstack((uni_word, bi_word, tri_word))\n",
    "    char_ngrams = np.hstack((uni_char, bi_char, tri_char))\n",
    "    pos_ngrams = np.hstack((uni_pos, bi_pos, tri_pos))\n",
    "    ngrams = np.hstack((word_ngrams, char_ngrams, pos_ngrams))\n",
    "    print()\n",
    "    print(\"N-grams shape:\", ngrams.shape) \n",
    "    \n",
    "    #Stack scalar features\n",
    "    sentence_stats = [list(get_sentence_length_stats(x).values()) for x in data]\n",
    "    word_stats = [list(get_word_length_stats(x).values()) for x in data]\n",
    "    lexical_diversity = [list(lexical_diversities(x).values()) for x in data]\n",
    "    hapax = [[get_num_hapax(x)] for x in data]\n",
    "    scalars = np.hstack((sentence_stats, word_stats, lexical_diversity,hapax))\n",
    "    print(\"Scalars shape:\", scalars.shape)\n",
    "    \n",
    "    #Add indices to feature names\n",
    "    [feature_indices.append('uni_word_ngram') for i in range(uni_word.shape[-1])]\n",
    "    [feature_indices.append('bi_word_ngram') for i in range(bi_word.shape[-1])]\n",
    "    [feature_indices.append('tri_word_ngram') for i in range(tri_word.shape[-1])]\n",
    "    [feature_indices.append('uni_char_ngram') for i in range(uni_char.shape[-1])]\n",
    "    [feature_indices.append('bi_char_ngram') for i in range(bi_char.shape[-1])]\n",
    "    [feature_indices.append('tri_char_ngram') for i in range(tri_char.shape[-1])]\n",
    "    [feature_indices.append('uni_pos_ngram') for i in range(uni_pos.shape[-1])]\n",
    "    [feature_indices.append('bi_pos_ngram') for i in range(bi_pos.shape[-1])]\n",
    "    [feature_indices.append('tri_pos_ngram') for i in range(tri_pos.shape[-1])]\n",
    "    \n",
    "    #Scalar features\n",
    "    [feature_indices.append(i) for i in get_sentence_length_stats(data[0]).keys()]\n",
    "    [feature_indices.append(i) for i in get_word_length_stats(data[0]).keys()]\n",
    "    [feature_indices.append(i) for i in lexical_diversities(data[0]).keys()]\n",
    "    feature_indices.append('num_hapax')\n",
    "    \n",
    "    return np.hstack((ngrams, scalars)), vectorizers, np.array(feature_indices, dtype=str)\n",
    "    "
   ]
  },
  {
   "cell_type": "code",
   "execution_count": null,
   "metadata": {},
   "outputs": [],
   "source": [
    "matrix, vectorizers, feature_names = combine_data(list(dataframe[\"Body\"])[:10], 'train')"
   ]
  },
  {
   "cell_type": "markdown",
   "metadata": {},
   "source": [
    "# Extract the features\n",
    "Extract the features from all the data."
   ]
  },
  {
   "cell_type": "markdown",
   "metadata": {},
   "source": [
    "#### Load the data"
   ]
  },
  {
   "cell_type": "code",
   "execution_count": 5,
   "metadata": {},
   "outputs": [
    {
     "data": {
      "application/vnd.jupyter.widget-view+json": {
       "model_id": "f64d40b3fee54e6085ed0e31833a0e3e",
       "version_major": 2,
       "version_minor": 0
      },
      "text/plain": [
       "  0%|          | 0/31 [00:00<?, ?it/s]"
      ]
     },
     "metadata": {},
     "output_type": "display_data"
    }
   ],
   "source": [
    "path = 'data/additional/scraped'\n",
    "files = os.listdir(path)\n",
    "dataframes = []\n",
    "for file in tqdm(files):\n",
    "    dataframes.append(pd.read_json(path+'/'+file))\n",
    "\n",
    "dataframe = pd.concat(dataframes)\n",
    "del dataframe['level_0']\n",
    "del dataframe['index']"
   ]
  },
  {
   "cell_type": "markdown",
   "metadata": {},
   "source": [
    "#### Split into train/test data"
   ]
  },
  {
   "cell_type": "code",
   "execution_count": 12,
   "metadata": {},
   "outputs": [
    {
     "ename": "NameError",
     "evalue": "name 'combine_data' is not defined",
     "output_type": "error",
     "traceback": [
      "\u001b[1;31m---------------------------------------------------------------------------\u001b[0m",
      "\u001b[1;31mNameError\u001b[0m                                 Traceback (most recent call last)",
      "\u001b[1;32m<timed exec>\u001b[0m in \u001b[0;36m<module>\u001b[1;34m\u001b[0m\n",
      "\u001b[1;31mNameError\u001b[0m: name 'combine_data' is not defined"
     ]
    }
   ],
   "source": [
    "%%time\n",
    "extract = True\n",
    "bodies = list(dataframe[\"Body\"])\n",
    "authors = list(dataframe[\"Byline\"])\n",
    "if extract:\n",
    "\n",
    "    train_X_text, test_X_text, train_y_text, test_y_text = train_test_split(bodies, authors, test_size=0.2, random_state=42, stratify=authors)\n",
    "\n",
    "    #Convert names to categories\n",
    "    le = LabelEncoder()\n",
    "    train_y = le.fit_transform(train_y_text)\n",
    "    test_y = le.fit_transform(test_y_text)\n",
    "\n",
    "    train_X, vectorizers, feature_names = combine_data(train_X_text, 'train')\n",
    "    test_X, _, _ = combine_data(test_X_text, 'test', vectorizers=vectorizers)\n",
    "    \n",
    "    print(\"Train shape:\", train_X.shape)\n",
    "    print(\"Test shape:\", test_X.shape)"
   ]
  },
  {
   "cell_type": "code",
   "execution_count": null,
   "metadata": {},
   "outputs": [],
   "source": [
    "feat_path = 'data/additional/features/'\n",
    "np.save(feat_path+'trainX.npz', train_X)\n",
    "np.save(feat_path+'trainY.npz', train_y)\n",
    "np.save(feat_path+'estnX.npz', test_X)\n",
    "np.save(feat_path+'testY.npz', test_y)\n",
    "np.save(feat_path+'feature_names.npz', feature_names)"
   ]
  },
  {
   "cell_type": "code",
   "execution_count": null,
   "metadata": {},
   "outputs": [],
   "source": [
    "from sklearn.linear_model import LogisticRegression\n",
    "from sklearn.metrics import f1_score\n",
    "from sklearn import preprocessing\n",
    "\n",
    "lrg = LogisticRegression(max_iter=100, n_jobs=2)\n",
    "lrg.fit(train_X, train_y)\n",
    "f1_score(test_y, lrg.predict(test_X), average='weighted')"
   ]
  },
  {
   "cell_type": "code",
   "execution_count": null,
   "metadata": {},
   "outputs": [],
   "source": [
    "import classifier_unit_test\n",
    "output = classifier_unit_test.test_classifier(lrg, train_X, test_X, train_y, test_y, give_roc=True, give_importance=True)"
   ]
  },
  {
   "cell_type": "code",
   "execution_count": null,
   "metadata": {},
   "outputs": [],
   "source": [
    "tpr = output['tpr']\n",
    "fpr = output['fpr']\n",
    "dum_tpr, dum_fpr = output['dum_tpr'], output['dum_fpr']\n",
    "plt.plot(fpr,tpr)\n",
    "plt.plot(dum_fpr, dum_tpr)"
   ]
  },
  {
   "cell_type": "code",
   "execution_count": null,
   "metadata": {},
   "outputs": [],
   "source": [
    "plt.plot(sorted(output['importances_mean'])[::-1][-20:], label=\"Top 20 features\")\n",
    "plt.plot(sorted(output['importances_mean'])[::-1][:20], label=\"Bottom 20 features\")\n",
    "plt.legend()"
   ]
  },
  {
   "cell_type": "code",
   "execution_count": null,
   "metadata": {},
   "outputs": [],
   "source": [
    "r = permutation_importance(lrg, test_X, test_y)"
   ]
  },
  {
   "cell_type": "code",
   "execution_count": null,
   "metadata": {},
   "outputs": [],
   "source": [
    "plt.plot(r.importances_mean.argsort())"
   ]
  },
  {
   "cell_type": "code",
   "execution_count": null,
   "metadata": {},
   "outputs": [],
   "source": [
    "for i in r.importances_mean.argsort()[::-1]:\n",
    "    if r.importances_mean[i] - 2 * r.importances_std[i] > 0:\n",
    "        print(r.importances_mean[i], r.importances_std[i])"
   ]
  },
  {
   "cell_type": "markdown",
   "metadata": {},
   "source": [
    "## Topic modeling"
   ]
  },
  {
   "cell_type": "code",
   "execution_count": 8,
   "metadata": {},
   "outputs": [],
   "source": [
    "with open('function_words/funktionsord.txt', 'r', encoding='utf-8') as f:\n",
    "    stop_words = f.readlines()\n",
    "    stop_words = [x.replace('\\n','') for x in stop_words]"
   ]
  },
  {
   "cell_type": "code",
   "execution_count": 21,
   "metadata": {},
   "outputs": [
    {
     "data": {
      "application/vnd.jupyter.widget-view+json": {
       "model_id": "85d084d9dc114d9c9e0e5a085f746d47",
       "version_major": 2,
       "version_minor": 0
      },
      "text/plain": [
       "  0%|          | 0/60165 [00:00<?, ?it/s]"
      ]
     },
     "metadata": {},
     "output_type": "display_data"
    },
    {
     "data": {
      "application/vnd.jupyter.widget-view+json": {
       "model_id": "a1efd96e5c1744cb82c0a0d607200d93",
       "version_major": 2,
       "version_minor": 0
      },
      "text/plain": [
       "  0%|          | 0/60165 [00:00<?, ?it/s]"
      ]
     },
     "metadata": {},
     "output_type": "display_data"
    },
    {
     "data": {
      "application/vnd.jupyter.widget-view+json": {
       "model_id": "a3414964d1e94c6aa895d2a912ae7529",
       "version_major": 2,
       "version_minor": 0
      },
      "text/plain": [
       "  0%|          | 0/60165 [00:00<?, ?it/s]"
      ]
     },
     "metadata": {},
     "output_type": "display_data"
    },
    {
     "data": {
      "application/vnd.jupyter.widget-view+json": {
       "model_id": "6dd0a9f6f81442ff96fa97b49085380a",
       "version_major": 2,
       "version_minor": 0
      },
      "text/plain": [
       "  0%|          | 0/60165 [00:00<?, ?it/s]"
      ]
     },
     "metadata": {},
     "output_type": "display_data"
    },
    {
     "data": {
      "application/vnd.jupyter.widget-view+json": {
       "model_id": "9a021e23a21341f3be1bba7c4d3baca1",
       "version_major": 2,
       "version_minor": 0
      },
      "text/plain": [
       "  0%|          | 0/60165 [00:00<?, ?it/s]"
      ]
     },
     "metadata": {},
     "output_type": "display_data"
    }
   ],
   "source": [
    "from gensim.corpora import Dictionary\n",
    "\n",
    "def remove_symbols(text):\n",
    "    return re.sub('\\W+',' ', text)\n",
    "\n",
    "\n",
    "docs = [remove_symbols(x) for x in tqdm(train_X_text)] # Remove symbols\n",
    "docs = [split_words(x.lower().strip()) for x in tqdm(docs)] #Word tokenize all text\n",
    "docs = [[token for token in doc if not token.isnumeric()] for doc in tqdm(docs)] #Remove numbers\n",
    "docs = [[token for token in doc if len(token)>1] for doc in tqdm(docs)] #Remove words of 1 character\n",
    "docs = [[token for token in doc if token not in stop_words] for doc in tqdm(docs)] #Filter stop words"
   ]
  },
  {
   "cell_type": "code",
   "execution_count": 22,
   "metadata": {},
   "outputs": [
    {
     "data": {
      "application/vnd.jupyter.widget-view+json": {
       "model_id": "a50e6d559b6d48d6b0d79c629901f459",
       "version_major": 2,
       "version_minor": 0
      },
      "text/plain": [
       "  0%|          | 0/60165 [00:00<?, ?it/s]"
      ]
     },
     "metadata": {},
     "output_type": "display_data"
    },
    {
     "name": "stdout",
     "output_type": "stream",
     "text": [
      "Number of unique tokens: 42848\n",
      "Number of documents: 60165\n"
     ]
    }
   ],
   "source": [
    "dictionary = Dictionary(docs)\n",
    "#Remove words that occur in less than 20 documents and more than 10% of all documents\n",
    "dictionary.filter_extremes(no_below=20, no_above=0.1)\n",
    "corpus = [dictionary.doc2bow(doc) for doc in tqdm(docs)]\n",
    "print(\"Number of unique tokens:\", len(dictionary))\n",
    "print(\"Number of documents:\", len(corpus))"
   ]
  },
  {
   "cell_type": "code",
   "execution_count": 88,
   "metadata": {},
   "outputs": [
    {
     "data": {
      "text/plain": [
       "[('kommune', 0.0055371886),\n",
       " ('lars', 0.0051649036),\n",
       " ('jensen', 0.0050881184),\n",
       " ('nielsen', 0.0037897842),\n",
       " ('fokus', 0.0034243625),\n",
       " ('formand', 0.0033693924),\n",
       " ('skabe', 0.003303952),\n",
       " ('søren', 0.0032855128),\n",
       " ('andersen', 0.0031967617),\n",
       " ('job', 0.002974497)]"
      ]
     },
     "execution_count": 88,
     "metadata": {},
     "output_type": "execute_result"
    }
   ],
   "source": [
    "from gensim.models.ldamulticore import LdaModel\n",
    "num_topics = 20\n",
    "chunksize = 1000 #2k\n",
    "passes = 10 #(epochs)\n",
    "iterations = 300 #400\n",
    "eval_every = 2\n",
    "\n",
    "_ = dictionary[0] #Initializes some values, necessary for model...\n",
    "id2word = dictionary.id2token\n",
    "model_name = \"Topic_Classifier_2000\"\n",
    "model = LdaModel(corpus=corpus,\n",
    "                id2word=id2word,\n",
    "                chunksize=chunksize,\n",
    "                alpha='auto',\n",
    "                eta='auto',\n",
    "                iterations=iterations,\n",
    "                num_topics=num_topics,\n",
    "                passes=passes,\n",
    "                minimum_probability=0.0,\n",
    "                eval_every=eval_every)\n",
    "\n",
    "model.show_topic(0)\n",
    "#model.save('models/'+model_name)"
   ]
  },
  {
   "cell_type": "code",
   "execution_count": 89,
   "metadata": {},
   "outputs": [
    {
     "name": "stdout",
     "output_type": "stream",
     "text": [
      "Score: 0.3385375142097473\tTopic ID: 2 Topic: 0.005*\"byen\" + 0.005*\"kører\" + 0.005*\"steder\" + 0.004*\"aarhus\" + 0.004*\"bilen\" + 0.004*\"køre\" + 0.004*\"biler\" + 0.004*\"bil\" + 0.003*\"by\" + 0.003*\"landet\"\n",
      "\n",
      "Score: 0.21846094727516174\tTopic ID: 15 Topic: 0.005*\"dr\" + 0.004*\"virkelig\" + 0.004*\"venner\" + 0.003*\"historie\" + 0.003*\"billeder\" + 0.003*\"bog\" + 0.003*\"far\" + 0.003*\"programmet\" + 0.003*\"serien\" + 0.003*\"bogen\"\n",
      "\n",
      "Score: 0.17895559966564178\tTopic ID: 12 Topic: 0.008*\"kvinder\" + 0.005*\"ja\" + 0.005*\"mænd\" + 0.005*\"ofte\" + 0.004*\"ord\" + 0.004*\"nej\" + 0.004*\"slags\" + 0.004*\"taler\" + 0.004*\"sidder\" + 0.004*\"sociale\"\n",
      "\n",
      "Score: 0.0925760567188263\tTopic ID: 1 Topic: 0.039*\"film\" + 0.017*\"filmen\" + 0.014*\"festival\" + 0.013*\"of\" + 0.012*\"musik\" + 0.012*\"album\" + 0.012*\"publikum\" + 0.009*\"koncert\" + 0.009*\"årets\" + 0.008*\"scenen\"\n",
      "\n",
      "Score: 0.040713272988796234\tTopic ID: 19 Topic: 0.017*\"sagen\" + 0.008*\"sag\" + 0.008*\"bladet\" + 0.007*\"årig\" + 0.006*\"mor\" + 0.006*\"retten\" + 0.006*\"kvinde\" + 0.006*\"fortalte\" + 0.006*\"fandt\" + 0.005*\"måneder\"\n",
      "\n",
      "Score: 0.038528285920619965\tTopic ID: 9 Topic: 0.017*\"amerikanske\" + 0.013*\"trump\" + 0.013*\"new\" + 0.012*\"præsident\" + 0.009*\"tyske\" + 0.009*\"york\" + 0.007*\"land\" + 0.007*\"politiske\" + 0.007*\"landet\" + 0.007*\"rusland\"\n",
      "\n",
      "Score: 0.025649629533290863\tTopic ID: 7 Topic: 0.010*\"sange\" + 0.009*\"john\" + 0.007*\"erne\" + 0.006*\"musikken\" + 0.006*\"albummet\" + 0.006*\"kunst\" + 0.005*\"dan\" + 0.005*\"ganske\" + 0.005*\"lyd\" + 0.004*\"nummer\"\n",
      "\n",
      "Score: 0.01641680859029293\tTopic ID: 14 Topic: 0.011*\"it\" + 0.006*\"data\" + 0.006*\"bruger\" + 0.005*\"eksempelvis\" + 0.004*\"adgang\" + 0.004*\"virksomheder\" + 0.004*\"bruges\" + 0.004*\"eksempel\" + 0.004*\"tilfælde\" + 0.004*\"google\"\n",
      "\n",
      "Score: 0.014031442813575268\tTopic ID: 5 Topic: 0.018*\"politiet\" + 0.012*\"politi\" + 0.010*\"klokken\" + 0.007*\"oplyser\" + 0.007*\"aften\" + 0.006*\"fundet\" + 0.006*\"personer\" + 0.006*\"lørdag\" + 0.006*\"københavns\" + 0.005*\"søndag\"\n",
      "\n",
      "Score: 0.013614188879728317\tTopic ID: 0 Topic: 0.006*\"kommune\" + 0.005*\"lars\" + 0.005*\"jensen\" + 0.004*\"nielsen\" + 0.003*\"fokus\" + 0.003*\"formand\" + 0.003*\"skabe\" + 0.003*\"søren\" + 0.003*\"andersen\" + 0.003*\"job\"\n",
      "\n",
      "Score: 0.009329155087471008\tTopic ID: 6 Topic: 0.011*\"kampen\" + 0.009*\"hold\" + 0.009*\"kamp\" + 0.007*\"fc\" + 0.007*\"vm\" + 0.007*\"kampe\" + 0.006*\"minutter\" + 0.006*\"sæson\" + 0.006*\"spillere\" + 0.006*\"brøndby\"\n",
      "\n",
      "Score: 0.004917412530630827\tTopic ID: 17 Topic: 0.015*\"kr\" + 0.007*\"mio\" + 0.006*\"pct\" + 0.005*\"direktør\" + 0.005*\"selskabet\" + 0.004*\"milliarder\" + 0.004*\"året\" + 0.004*\"bank\" + 0.004*\"kina\" + 0.003*\"fortsat\"\n",
      "\n",
      "Score: 0.0017505943542346358\tTopic ID: 13 Topic: 0.015*\"mad\" + 0.011*\"laver\" + 0.008*\"spise\" + 0.008*\"råd\" + 0.007*\"kilo\" + 0.007*\"øl\" + 0.006*\"restaurant\" + 0.006*\"minutter\" + 0.005*\"opskrifter\" + 0.005*\"masser\"\n",
      "\n",
      "Score: 0.0014105010777711868\tTopic ID: 10 Topic: 0.036*\"henrik\" + 0.021*\"mandag\" + 0.018*\"larsen\" + 0.017*\"tirsdag\" + 0.017*\"varde\" + 0.015*\"morgen\" + 0.014*\"of\" + 0.013*\"fredag\" + 0.013*\"and\" + 0.013*\"torsdag\"\n",
      "\n",
      "Score: 0.0013530947035178542\tTopic ID: 3 Topic: 0.016*\"regeringen\" + 0.011*\"folketinget\" + 0.010*\"overblik\" + 0.008*\"venstre\" + 0.008*\"coronavirus\" + 0.007*\"dagens\" + 0.007*\"regeringens\" + 0.007*\"mette\" + 0.006*\"lukker\" + 0.006*\"corona\"\n",
      "\n",
      "Score: 0.0012739112135022879\tTopic ID: 18 Topic: 0.023*\"michael\" + 0.017*\"mads\" + 0.016*\"færdig\" + 0.014*\"oscar\" + 0.012*\"viborg\" + 0.011*\"vinder\" + 0.011*\"årets\" + 0.010*\"olsen\" + 0.010*\"rasmus\" + 0.009*\"tour\"\n",
      "\n",
      "Score: 0.0007664249860681593\tTopic ID: 8 Topic: 0.037*\"gratis\" + 0.020*\"abonnement\" + 0.013*\"adgang\" + 0.012*\"nyhedsbrev\" + 0.012*\"dages\" + 0.011*\"tilmeld\" + 0.010*\"indhold\" + 0.010*\"kræver\" + 0.009*\"sundhed\" + 0.009*\"miljø\"\n",
      "\n",
      "Score: 0.0006679007201455534\tTopic ID: 11 Topic: 0.091*\"eu\" + 0.014*\"europa\" + 0.014*\"lande\" + 0.010*\"europæiske\" + 0.008*\"syrien\" + 0.008*\"kommissionen\" + 0.006*\"fn\" + 0.006*\"parlamentet\" + 0.006*\"brexit\" + 0.006*\"tyrkiet\"\n",
      "\n",
      "Score: 0.0005977863911539316\tTopic ID: 4 Topic: 0.040*\"interview\" + 0.029*\"guide\" + 0.022*\"serie\" + 0.015*\"netflix\" + 0.015*\"album\" + 0.014*\"film\" + 0.013*\"serier\" + 0.012*\"ugens\" + 0.012*\"roskilde\" + 0.009*\"hbo\"\n",
      "\n",
      "Score: 0.00044947891728952527\tTopic ID: 16 Topic: 0.034*\"top\" + 0.024*\"league\" + 0.015*\"height\" + 0.014*\"fod\" + 0.013*\"lsoffset\" + 0.013*\"rsoffset\" + 0.011*\"stickytop\" + 0.011*\"document\" + 0.011*\"europa\" + 0.010*\"kampe\"\n",
      "\n"
     ]
    }
   ],
   "source": [
    "for index, score in sorted(model[corpus[0]], key=lambda tup: -1*tup[1]):\n",
    "    print(\"Score: {}\\tTopic ID: {} Topic: {}\".format(score, index, model.print_topic(index, 10)))\n",
    "    print()"
   ]
  },
  {
   "cell_type": "code",
   "execution_count": 90,
   "metadata": {},
   "outputs": [
    {
     "data": {
      "text/plain": [
       "[('kommune', 0.0055371886),\n",
       " ('lars', 0.0051649036),\n",
       " ('jensen', 0.0050881184),\n",
       " ('nielsen', 0.0037897842),\n",
       " ('fokus', 0.0034243625),\n",
       " ('formand', 0.0033693924),\n",
       " ('skabe', 0.003303952),\n",
       " ('søren', 0.0032855128),\n",
       " ('andersen', 0.0031967617),\n",
       " ('job', 0.002974497)]"
      ]
     },
     "execution_count": 90,
     "metadata": {},
     "output_type": "execute_result"
    }
   ],
   "source": [
    "model.show_topic(0)"
   ]
  },
  {
   "cell_type": "code",
   "execution_count": 91,
   "metadata": {},
   "outputs": [],
   "source": [
    "def find_topic(article, dictionary, model):\n",
    "    '''\n",
    "     For each query ( document in the test file) , tokenize the \n",
    "     query, create a feature vector just like how it was done while training\n",
    "     and create text_corpus\n",
    "    '''\n",
    "    doc = remove_symbols(article) # Remove symbols\n",
    "    doc = split_words(doc.lower().strip()) #Word tokenize all text\n",
    "    doc = [token for token in doc if not token.isnumeric()] #Remove numbers\n",
    "    doc = [token for token in doc if len(token)>1] #Remove words of 1 character\n",
    "    doc = [token for token in doc if token not in stop_words] #Filter stop words\n",
    "    '''\n",
    "     For each feature vector text, lda[doc_bow] gives the topic\n",
    "     distribution, which can be sorted in descending order to print the \n",
    "     very first topic\n",
    "    ''' \n",
    "    \n",
    "    doc_bow = dictionary.doc2bow(doc)\n",
    "    topics = sorted(model[doc_bow],key=lambda x:x[1],reverse=True)\n",
    "    return doc_bow, topics"
   ]
  },
  {
   "cell_type": "code",
   "execution_count": 120,
   "metadata": {},
   "outputs": [
    {
     "data": {
      "text/plain": [
       "[(15, 0.25037295),\n",
       " (7, 0.18012854),\n",
       " (13, 0.12205197),\n",
       " (2, 0.092404105),\n",
       " (14, 0.077307396),\n",
       " (0, 0.042756647),\n",
       " (12, 0.041925833),\n",
       " (17, 0.038911402),\n",
       " (5, 0.02867531),\n",
       " (19, 0.02499857),\n",
       " (6, 0.017926294),\n",
       " (9, 0.013499608),\n",
       " (10, 0.012602675),\n",
       " (3, 0.011902041),\n",
       " (1, 0.011248909),\n",
       " (18, 0.011109059),\n",
       " (8, 0.006846581),\n",
       " (11, 0.0059698075),\n",
       " (4, 0.0053438563),\n",
       " (16, 0.00401841)]"
      ]
     },
     "execution_count": 120,
     "metadata": {},
     "output_type": "execute_result"
    }
   ],
   "source": [
    "doc_bow, topics = find_topic(t, dictionary, model)\n",
    "topics"
   ]
  },
  {
   "cell_type": "code",
   "execution_count": 121,
   "metadata": {},
   "outputs": [
    {
     "data": {
      "text/plain": [
       "[('dr', 0.0052841823),\n",
       " ('virkelig', 0.004220387),\n",
       " ('venner', 0.0036632197),\n",
       " ('historie', 0.003304305),\n",
       " ('billeder', 0.0032600218),\n",
       " ('bog', 0.0032504452),\n",
       " ('far', 0.0031817912),\n",
       " ('programmet', 0.0031117015),\n",
       " ('serien', 0.00293375),\n",
       " ('bogen', 0.0027776367)]"
      ]
     },
     "execution_count": 121,
     "metadata": {},
     "output_type": "execute_result"
    }
   ],
   "source": [
    "model.show_topic(topics[0][0])"
   ]
  },
  {
   "cell_type": "code",
   "execution_count": 119,
   "metadata": {},
   "outputs": [],
   "source": [
    "t = 'pik fuck shit lort fisse crap pis skid røv neger jødesmovs perker kusse smatso kælling skiderik stodder mongol kæft helvede satan fandens'"
   ]
  },
  {
   "cell_type": "code",
   "execution_count": 104,
   "metadata": {},
   "outputs": [
    {
     "data": {
      "text/html": [
       "<div>\n",
       "<style scoped>\n",
       "    .dataframe tbody tr th:only-of-type {\n",
       "        vertical-align: middle;\n",
       "    }\n",
       "\n",
       "    .dataframe tbody tr th {\n",
       "        vertical-align: top;\n",
       "    }\n",
       "\n",
       "    .dataframe thead th {\n",
       "        text-align: right;\n",
       "    }\n",
       "</style>\n",
       "<table border=\"1\" class=\"dataframe\">\n",
       "  <thead>\n",
       "    <tr style=\"text-align: right;\">\n",
       "      <th></th>\n",
       "      <th>Id</th>\n",
       "      <th>Domain</th>\n",
       "      <th>Body</th>\n",
       "      <th>Header</th>\n",
       "      <th>PublicationDate</th>\n",
       "      <th>Uri</th>\n",
       "      <th>Byline</th>\n",
       "      <th>TextHash</th>\n",
       "    </tr>\n",
       "  </thead>\n",
       "  <tbody>\n",
       "    <tr>\n",
       "      <th>266583</th>\n",
       "      <td>666170</td>\n",
       "      <td>motormagasinet.dk</td>\n",
       "      <td>Forhandlingerne mellem Badminton Danmark og Danske Elitesportsudøveres Forening (DEF-Sport) er gået i hårdknude, Torsdag meldte Badminton Danmark ud, at de ikke har kunnet blive enige om en ny aftale fra 1. december. Det betyder, at Badminton Danmark har nedlagt elitetræningen fra på mandag, og derfor skal de danske badmintonstjerner selv stå for træningen i diverse sjællandske klubber.  - Jeg er selvfølgelig rigtig ærgerlig over, at vi ikke har kunnet blive enige, men jeg er mest ærgerlig over, at Badminton Danmark har truffet den beslutning, som de har, ved at suspendere træningen fra på mandag af. Jeg synes, at forhandlingerne er ganske konstruktive i øjeblikket, siger Hans-Kristian Solberg Vittinghus til Ekstra Bladet. Den 32-årige herresinglespiller mener, at Badminton Danmark i forbindelse med aftalen, der udløber 30. november, er forpligtet til at videreføre de sportslige forhold heriblandt træningen. - Jeg synes egentlig, at det ville give mest mening at fortsætte det gode ...</td>\n",
       "      <td>Udelukket på ubestemt tid: Dansk stjerne forstår ikke beslutning</td>\n",
       "      <td>2009-05-17T00:00:00</td>\n",
       "      <td>https://www.motormagasinet.dk/article/view/468602/delebil_tilbyder_brugere_manedsabonnement</td>\n",
       "      <td>Allan Bauer</td>\n",
       "      <td>1480271848</td>\n",
       "    </tr>\n",
       "  </tbody>\n",
       "</table>\n",
       "</div>"
      ],
      "text/plain": [
       "            Id             Domain  \\\n",
       "266583  666170  motormagasinet.dk   \n",
       "\n",
       "                                                                                                                                                                                                                                                                                                                                                                                                                                                                                                                                                                                                                                                                                                                                                                                                                                                                                                                                                                                                                                           Body  \\\n",
       "266583  Forhandlingerne mellem Badminton Danmark og Danske Elitesportsudøveres Forening (DEF-Sport) er gået i hårdknude, Torsdag meldte Badminton Danmark ud, at de ikke har kunnet blive enige om en ny aftale fra 1. december. Det betyder, at Badminton Danmark har nedlagt elitetræningen fra på mandag, og derfor skal de danske badmintonstjerner selv stå for træningen i diverse sjællandske klubber.  - Jeg er selvfølgelig rigtig ærgerlig over, at vi ikke har kunnet blive enige, men jeg er mest ærgerlig over, at Badminton Danmark har truffet den beslutning, som de har, ved at suspendere træningen fra på mandag af. Jeg synes, at forhandlingerne er ganske konstruktive i øjeblikket, siger Hans-Kristian Solberg Vittinghus til Ekstra Bladet. Den 32-årige herresinglespiller mener, at Badminton Danmark i forbindelse med aftalen, der udløber 30. november, er forpligtet til at videreføre de sportslige forhold heriblandt træningen. - Jeg synes egentlig, at det ville give mest mening at fortsætte det gode ...   \n",
       "\n",
       "                                                                  Header  \\\n",
       "266583  Udelukket på ubestemt tid: Dansk stjerne forstår ikke beslutning   \n",
       "\n",
       "            PublicationDate  \\\n",
       "266583  2009-05-17T00:00:00   \n",
       "\n",
       "                                                                                                Uri  \\\n",
       "266583  https://www.motormagasinet.dk/article/view/468602/delebil_tilbyder_brugere_manedsabonnement   \n",
       "\n",
       "             Byline    TextHash  \n",
       "266583  Allan Bauer  1480271848  "
      ]
     },
     "execution_count": 104,
     "metadata": {},
     "output_type": "execute_result"
    }
   ],
   "source": [
    "dataframe[dataframe.Body.str.contains('Forhandlingerne mellem Badminton Danmark og Danske Elitesportsudøveres')]"
   ]
  },
  {
   "cell_type": "code",
   "execution_count": 98,
   "metadata": {},
   "outputs": [],
   "source": [
    "pd.set_option('display.max_colwidth', 1000)"
   ]
  },
  {
   "cell_type": "code",
   "execution_count": null,
   "metadata": {},
   "outputs": [],
   "source": []
  }
 ],
 "metadata": {
  "kernelspec": {
   "display_name": "Python 3 (ipykernel)",
   "language": "python",
   "name": "python3"
  },
  "language_info": {
   "codemirror_mode": {
    "name": "ipython",
    "version": 3
   },
   "file_extension": ".py",
   "mimetype": "text/x-python",
   "name": "python",
   "nbconvert_exporter": "python",
   "pygments_lexer": "ipython3",
   "version": "3.7.4"
  }
 },
 "nbformat": 4,
 "nbformat_minor": 4
}
