{
 "cells": [
  {
   "cell_type": "markdown",
   "metadata": {},
   "source": [
    "# Here we go again..."
   ]
  },
  {
   "cell_type": "code",
   "execution_count": 38,
   "metadata": {},
   "outputs": [],
   "source": [
    "from simpletransformers.language_representation import RepresentationModel\n",
    "from simpletransformers.config.model_args import ModelArgs\n",
    "import pandas as pd\n",
    "import numpy as np\n",
    "from tqdm.notebook import tqdm\n",
    "import random\n",
    "import os\n",
    "import re"
   ]
  },
  {
   "cell_type": "code",
   "execution_count": 25,
   "metadata": {},
   "outputs": [],
   "source": [
    "def read_data(path): #input the path to the directory with data\n",
    "    frames = []\n",
    "    \n",
    "    _, _, files = next(os.walk(path)) #create a list of all datafile names     \n",
    "          \n",
    "    for file in tqdm(files): #for every file in directory\n",
    "        with open(path+\"/\"+file) as f: #read each file\n",
    "            dataframe = pd.read_json(f) #convert file to dataframe\n",
    "     \n",
    "        frames.append(dataframe) #append each dataframe to list\n",
    "    data = pd.concat(frames, sort=False) #make it one big dataframe\n",
    "    \n",
    "    return data, frames"
   ]
  },
  {
   "cell_type": "code",
   "execution_count": 26,
   "metadata": {},
   "outputs": [
    {
     "data": {
      "application/vnd.jupyter.widget-view+json": {
       "model_id": "8542b73a1ca34a5d963efa8403e561e6",
       "version_major": 2,
       "version_minor": 0
      },
      "text/plain": [
       "  0%|          | 0/31 [00:00<?, ?it/s]"
      ]
     },
     "metadata": {},
     "output_type": "display_data"
    }
   ],
   "source": [
    "data, data_list = read_data(\"scraped\")"
   ]
  },
  {
   "cell_type": "code",
   "execution_count": 34,
   "metadata": {},
   "outputs": [
    {
     "data": {
      "text/plain": [
       "pandas.core.series.Series"
      ]
     },
     "execution_count": 34,
     "metadata": {},
     "output_type": "execute_result"
    }
   ],
   "source": [
    "# data = pd.read_json('scraped/data_10')\n",
    "# data.head()\n",
    "data_list[0].Body"
   ]
  },
  {
   "cell_type": "code",
   "execution_count": 20,
   "metadata": {},
   "outputs": [
    {
     "data": {
      "text/plain": [
       "(1000, 1000, 1000, 1000, 1000, 1000, 1000, 1000, 1000, 1000)"
      ]
     },
     "execution_count": 20,
     "metadata": {},
     "output_type": "execute_result"
    }
   ],
   "source": [
    "politiken = list(data[data.Domain == 'politiken.dk'].Body)[:1000] \n",
    "information = list(data[data.Domain == 'information.dk'].Body)[:1000]\n",
    "ekstrabladet = list(data[data.Domain == 'ekstrabladet.dk'].Body)[:1000]\n",
    "finans = list(data[data.Domain == 'finans.dk'].Body)[:1000]\n",
    "berlingske = list(data[data.Domain == 'berlingske.dk'].Body)[:1000]\n",
    "dr = list(data[data.Domain == 'dr.dk'].Body)[:1000]\n",
    "tv2 = list(data[data.Domain == 'tv2.dk'].Body)[:1000]\n",
    "version2 = list(data[data.Domain == 'version2.dk'].Body)[:1000]\n",
    "bt = list(data[data.Domain == 'bt.dk'].Body)[:1000]\n",
    "jyllandsposten = list(data[data.Domain == 'jyllands-posten.dk'].Body)[:1000]\n",
    "\n",
    "len(politiken), len(information), len(ekstrabladet), len(finans), len(berlingske), len(dr), len(tv2), len(version2), len(bt), len(jyllandsposten)"
   ]
  },
  {
   "cell_type": "code",
   "execution_count": 21,
   "metadata": {},
   "outputs": [
    {
     "data": {
      "text/plain": [
       "(100, 100, 100, 100, 100, 100, 100, 100, 100, 100)"
      ]
     },
     "execution_count": 21,
     "metadata": {},
     "output_type": "execute_result"
    }
   ],
   "source": [
    "politiken2 = list(data[data.Domain == 'politiken.dk'].Body)[:100] \n",
    "information2 = list(data[data.Domain == 'information.dk'].Body)[:100]\n",
    "ekstrabladet2 = list(data[data.Domain == 'ekstrabladet.dk'].Body)[:100]\n",
    "finans2 = list(data[data.Domain == 'finans.dk'].Body)[:100]\n",
    "berlingske2 = list(data[data.Domain == 'berlingske.dk'].Body)[:100]\n",
    "dr2 = list(data[data.Domain == 'dr.dk'].Body)[:100]\n",
    "tv22 = list(data[data.Domain == 'tv2.dk'].Body)[:100]\n",
    "version22 = list(data[data.Domain == 'version2.dk'].Body)[:100]\n",
    "bt2 = list(data[data.Domain == 'bt.dk'].Body)[:100]\n",
    "jyllandsposten2 = list(data[data.Domain == 'jyllands-posten.dk'].Body)[:100]\n",
    "\n",
    "\n",
    "len(politiken2), len(information2),len(ekstrabladet2), len(finans2), len(berlingske2),len(dr2), len(tv22), len(version22), len(bt2), len(jyllandsposten2)"
   ]
  },
  {
   "cell_type": "markdown",
   "metadata": {},
   "source": [
    "## Encoding entire dataset"
   ]
  },
  {
   "cell_type": "code",
   "execution_count": 39,
   "metadata": {},
   "outputs": [],
   "source": [
    "def remove_symbols(text):\n",
    "    return re.sub('\\W+',' ', text)"
   ]
  },
  {
   "cell_type": "code",
   "execution_count": 125,
   "metadata": {},
   "outputs": [],
   "source": [
    "def encode_dataset(dataset, training_epochs=1): #input dataset as a list of dataframes\n",
    "      \n",
    "    model_args = ModelArgs(encoding=\"utf-8\", manual_seed=42, num_train_epochs=training_epochs)\n",
    "\n",
    "    print(\"Initializing Representation Model\")\n",
    "    model = RepresentationModel(\n",
    "                model_type='bert',\n",
    "                model_name='Maltehb/danish-bert-botxo',\n",
    "                args=model_args,\n",
    "                use_cuda=False)\n",
    "\n",
    "    bodies = []\n",
    "    authors = []\n",
    "    domains = []\n",
    "    \n",
    "    for i, datafile in enumerate(tqdm(dataset)): #for each datafile\n",
    "        \n",
    "        body_list = list(datafile.Body)\n",
    "        author_list = list(datafile.Byline)\n",
    "        domain_list = list(datafile.Domain)\n",
    "        header_list = list(datafile.Header)\n",
    "        \n",
    "        #save labels\n",
    "        np.save(f\"auto_encodings/authors_{i}\", author_list)\n",
    "        np.save(f\"auto_encodings/domains_{i}\", domain_list)\n",
    "        np.save(f\"auto_encodings/headers_{i}\", header_list)\n",
    "        \n",
    "        clean_bodies = []\n",
    "        \n",
    "#         print(f\"Cleaning bodies in datafile no. {i}\")\n",
    "        \n",
    "        #clean bodies from punctuation and lowercase words\n",
    "        for text in body_list: \n",
    "            text = remove_symbols(text)\n",
    "            text = text.lower()\n",
    "            clean_bodies.append(text)\n",
    "            \n",
    "        print(f\"Encoding bodies in datafile no. {i}\")\n",
    "        \n",
    "        #encode cleaned bodies\n",
    "        word_vectors = model.encode_sentences(clean_bodies, combine_strategy='mean') \n",
    "  \n",
    "        print(f\"Saving encodings of datafile no. {i}\") \n",
    "    \n",
    "        #save encodings to file numbered with matching index of current datafile\n",
    "        np.save(f\"auto_encodings/encodings_{i}\", word_vectors) \n",
    "        \n",
    "    print(\"Data saved o/\\o\")\n",
    "    \n",
    "    return None #should save encodings and their labels (author, domain, header)"
   ]
  },
  {
   "cell_type": "code",
   "execution_count": 203,
   "metadata": {},
   "outputs": [
    {
     "data": {
      "text/plain": [
       "200"
      ]
     },
     "execution_count": 203,
     "metadata": {},
     "output_type": "execute_result"
    }
   ],
   "source": [
    "test_frames = []\n",
    "\n",
    "for frame in data_list[:5]: \n",
    "    test_frames.append(frame[:200])\n",
    "len(test_frames[0])"
   ]
  },
  {
   "cell_type": "code",
   "execution_count": 204,
   "metadata": {},
   "outputs": [
    {
     "name": "stdout",
     "output_type": "stream",
     "text": [
      "Initializing Representation Model\n"
     ]
    },
    {
     "name": "stderr",
     "output_type": "stream",
     "text": [
      "Some weights of the model checkpoint at Maltehb/danish-bert-botxo were not used when initializing BertForTextRepresentation: ['cls.predictions.transform.dense.weight', 'cls.predictions.decoder.weight', 'cls.predictions.transform.LayerNorm.weight', 'cls.seq_relationship.weight', 'cls.predictions.bias', 'cls.seq_relationship.bias', 'cls.predictions.transform.dense.bias', 'cls.predictions.decoder.bias', 'cls.predictions.transform.LayerNorm.bias']\n",
      "- This IS expected if you are initializing BertForTextRepresentation from the checkpoint of a model trained on another task or with another architecture (e.g. initializing a BertForSequenceClassification model from a BertForPreTraining model).\n",
      "- This IS NOT expected if you are initializing BertForTextRepresentation from the checkpoint of a model that you expect to be exactly identical (initializing a BertForSequenceClassification model from a BertForSequenceClassification model).\n"
     ]
    },
    {
     "data": {
      "application/vnd.jupyter.widget-view+json": {
       "model_id": "7d4065bdb2434375b9e71ea649407ac2",
       "version_major": 2,
       "version_minor": 0
      },
      "text/plain": [
       "  0%|          | 0/5 [00:00<?, ?it/s]"
      ]
     },
     "metadata": {},
     "output_type": "display_data"
    },
    {
     "name": "stdout",
     "output_type": "stream",
     "text": [
      "Cleaning bodies in datafile no. 0\n",
      "Encoding bodies in datafile no. 0\n",
      "Saving encodings of datafile no. 0\n",
      "Cleaning bodies in datafile no. 1\n",
      "Encoding bodies in datafile no. 1\n",
      "Saving encodings of datafile no. 1\n",
      "Cleaning bodies in datafile no. 2\n",
      "Encoding bodies in datafile no. 2\n",
      "Saving encodings of datafile no. 2\n",
      "Cleaning bodies in datafile no. 3\n",
      "Encoding bodies in datafile no. 3\n",
      "Saving encodings of datafile no. 3\n",
      "Cleaning bodies in datafile no. 4\n",
      "Encoding bodies in datafile no. 4\n",
      "Saving encodings of datafile no. 4\n",
      "Data saved o/\\o\n",
      "CPU times: total: 11min 36s\n",
      "Wall time: 6min 20s\n"
     ]
    }
   ],
   "source": [
    "%%time\n",
    "encode_dataset(test_frames)"
   ]
  },
  {
   "cell_type": "markdown",
   "metadata": {},
   "source": [
    "### Loading encodings from saved files"
   ]
  },
  {
   "cell_type": "code",
   "execution_count": 223,
   "metadata": {},
   "outputs": [],
   "source": [
    "def load_autoencodings(path): \n",
    "    \n",
    "    _,_, files = next(os.walk(path))\n",
    "\n",
    "    encoding_arrays = []\n",
    "    authors_labels = []\n",
    "    domains_labels = []\n",
    "    headers_labels = []\n",
    "    \n",
    "    for file in tqdm(files):\n",
    "#         print(file)\n",
    "        if 'encoding' in file: \n",
    "            encodings = np.load(path+'/'+file)\n",
    "            encoding_arrays.append(encodings)\n",
    "                \n",
    "        if 'authors' in file: \n",
    "            authors = np.load(path+'/'+file)\n",
    "            authors_labels.append(authors)\n",
    "                \n",
    "        if 'domains' in file: \n",
    "            domains = np.load(path+'/'+file)\n",
    "            domains_labels.append(domains)\n",
    "                \n",
    "        if 'headers' in file: \n",
    "            headers = np.load(path+'/'+file)\n",
    "            headers_labels.append(headers)\n",
    "            \n",
    "    encoding_arrays = np.concatenate(encoding_arrays, axis=0)\n",
    "                \n",
    "    return encoding_arrays, np.hstack(authors_labels), np.hstack(domains_labels), np.hstack(headers_labels)"
   ]
  },
  {
   "cell_type": "code",
   "execution_count": 224,
   "metadata": {},
   "outputs": [
    {
     "data": {
      "application/vnd.jupyter.widget-view+json": {
       "model_id": "8cabe9287a5b48caa15ff08e5bbebf98",
       "version_major": 2,
       "version_minor": 0
      },
      "text/plain": [
       "  0%|          | 0/20 [00:00<?, ?it/s]"
      ]
     },
     "metadata": {},
     "output_type": "display_data"
    }
   ],
   "source": [
    "encodings, authors, domains, headers = load_autoencodings(\"auto_encodings\")       "
   ]
  },
  {
   "cell_type": "code",
   "execution_count": 208,
   "metadata": {},
   "outputs": [
    {
     "data": {
      "text/plain": [
       "(1000, 1000, 1000, 1000)"
      ]
     },
     "execution_count": 208,
     "metadata": {},
     "output_type": "execute_result"
    }
   ],
   "source": [
    "len(encodings), len(authors), len(domains), len(headers)"
   ]
  },
  {
   "cell_type": "markdown",
   "metadata": {},
   "source": [
    "## Classification"
   ]
  },
  {
   "cell_type": "code",
   "execution_count": 106,
   "metadata": {},
   "outputs": [
    {
     "name": "stderr",
     "output_type": "stream",
     "text": [
      "Some weights of the model checkpoint at Maltehb/danish-bert-botxo were not used when initializing BertForTextRepresentation: ['cls.predictions.transform.dense.weight', 'cls.predictions.decoder.weight', 'cls.predictions.transform.LayerNorm.weight', 'cls.seq_relationship.weight', 'cls.predictions.bias', 'cls.seq_relationship.bias', 'cls.predictions.transform.dense.bias', 'cls.predictions.decoder.bias', 'cls.predictions.transform.LayerNorm.bias']\n",
      "- This IS expected if you are initializing BertForTextRepresentation from the checkpoint of a model trained on another task or with another architecture (e.g. initializing a BertForSequenceClassification model from a BertForPreTraining model).\n",
      "- This IS NOT expected if you are initializing BertForTextRepresentation from the checkpoint of a model that you expect to be exactly identical (initializing a BertForSequenceClassification model from a BertForSequenceClassification model).\n"
     ]
    },
    {
     "name": "stdout",
     "output_type": "stream",
     "text": [
      "CPU times: total: 1min 5s\n",
      "Wall time: 38.3 s\n"
     ]
    }
   ],
   "source": [
    "%%time\n",
    "comb = politiken+information+ekstrabladet+finans+berlingske+dr+tv2+version2+bt+jyllandsposten\n",
    "comb2 = politiken2+information2+ekstrabladet2+finans2+berlingske2+dr2+tv22+version22+bt2+jyllandsposten2\n",
    "\n",
    "\n",
    "model_args = ModelArgs(encoding=\"utf-8\", manual_seed=42, num_train_epochs=1)\n",
    "\n",
    "model = RepresentationModel(\n",
    "        model_type='bert',\n",
    "        model_name='Maltehb/danish-bert-botxo',\n",
    "        args=model_args,\n",
    "        use_cuda=False)\n",
    "\n",
    "word_vectors = model.encode_sentences(bodies, combine_strategy='mean')"
   ]
  },
  {
   "cell_type": "code",
   "execution_count": 107,
   "metadata": {},
   "outputs": [
    {
     "data": {
      "text/plain": [
       "(100, 768)"
      ]
     },
     "execution_count": 107,
     "metadata": {},
     "output_type": "execute_result"
    }
   ],
   "source": [
    "word_vectors.shape"
   ]
  },
  {
   "cell_type": "code",
   "execution_count": 10,
   "metadata": {},
   "outputs": [],
   "source": [
    "from sklearn.ensemble import RandomForestClassifier\n",
    "from sklearn.model_selection import train_test_split"
   ]
  },
  {
   "cell_type": "code",
   "execution_count": 219,
   "metadata": {},
   "outputs": [],
   "source": [
    "y = [0]*100 + [1]*100 + [2]*100 + [3]*100 + [4]*100 + [5]*100 + [6]*100\n",
    "# y = [0]*1000 + [1]*1000 + [2]*1000 + [3]*1000 + [4]*1000 + [5]*1000 +[6]*1000\n",
    "\n",
    "train_X, test_X, train_y, test_y = train_test_split(encodings, domains)\n",
    "# test_y"
   ]
  },
  {
   "cell_type": "code",
   "execution_count": 220,
   "metadata": {},
   "outputs": [],
   "source": [
    "rfc = RandomForestClassifier().fit(train_X, train_y)"
   ]
  },
  {
   "cell_type": "code",
   "execution_count": 221,
   "metadata": {},
   "outputs": [
    {
     "data": {
      "text/plain": [
       "0.668"
      ]
     },
     "execution_count": 221,
     "metadata": {},
     "output_type": "execute_result"
    }
   ],
   "source": [
    "rfc.score(test_X, test_y)"
   ]
  },
  {
   "cell_type": "code",
   "execution_count": 212,
   "metadata": {},
   "outputs": [
    {
     "data": {
      "text/plain": [
       "0.184"
      ]
     },
     "execution_count": 212,
     "metadata": {},
     "output_type": "execute_result"
    }
   ],
   "source": [
    "from sklearn.dummy import DummyClassifier\n",
    "from sklearn.metrics import *\n",
    "\n",
    "dum = DummyClassifier().fit(train_X, train_y)\n",
    "dum.score(test_X, test_y)"
   ]
  },
  {
   "cell_type": "code",
   "execution_count": 15,
   "metadata": {},
   "outputs": [],
   "source": [
    "import classifier_unit_test\n",
    "import matplotlib.pyplot as plt"
   ]
  },
  {
   "cell_type": "code",
   "execution_count": 225,
   "metadata": {},
   "outputs": [
    {
     "name": "stdout",
     "output_type": "stream",
     "text": [
      "Oh, model already fit. Thanks!\n",
      "Training dummy...\n",
      "Correctly predicted 167 of 250\tDummy: 120 of 250\t:-)\n",
      "Accuracy: 0.67\t\t\tDummy: 0.48\t:-)\n",
      "Balanced accuracy: 0.29\t\tDummy: 0.14\t:-)\n",
      "F1 score: 0.58\t\t\tDummy: 0.31\t:-)\n",
      "ROC AUC: 0.79\t\t\tDummy: 0.50\t:-)\n",
      "\n",
      "Output keys:\n",
      "tpr\n",
      "fpr\n",
      "dum_tpr\n",
      "dum_fpr\n"
     ]
    },
    {
     "name": "stderr",
     "output_type": "stream",
     "text": [
      "C:\\Users\\yasmi\\anaconda3\\envs\\SimpleTransformers\\lib\\site-packages\\sklearn\\utils\\deprecation.py:103: FutureWarning: `n_features_in_` is deprecated in 1.0 and will be removed in 1.2.\n",
      "  warnings.warn(msg, category=FutureWarning)\n"
     ]
    }
   ],
   "source": [
    "tpr_fpr = classifier_unit_test.test_classifier(rfc, train_X, test_X, train_y, test_y, give_roc=True)"
   ]
  },
  {
   "cell_type": "code",
   "execution_count": 226,
   "metadata": {},
   "outputs": [],
   "source": [
    "true_pos_rate = tpr_fpr[\"tpr\"]\n",
    "false_pos_rate = tpr_fpr[\"fpr\"]\n",
    "dum_tpr = tpr_fpr[\"dum_tpr\"]\n",
    "dum_fpr = tpr_fpr[\"dum_fpr\"]"
   ]
  },
  {
   "cell_type": "code",
   "execution_count": 227,
   "metadata": {},
   "outputs": [
    {
     "data": {
      "image/png": "[encoded data removed]",
      "text/plain": [
       "<Figure size 432x288 with 1 Axes>"
      ]
     },
     "metadata": {
      "needs_background": "light"
     },
     "output_type": "display_data"
    }
   ],
   "source": [
    "plt.plot(false_pos_rate, true_pos_rate)\n",
    "plt.plot(dum_tpr,dum_fpr)\n",
    "plt.ylabel(\"True Positive Rate\")\n",
    "plt.xlabel(\"False Positive Rate\")\n",
    "plt.show()"
   ]
  },
  {
   "cell_type": "markdown",
   "metadata": {},
   "source": [
    "## Language Generation"
   ]
  },
  {
   "cell_type": "code",
   "execution_count": 23,
   "metadata": {},
   "outputs": [
    {
     "ename": "AttributeError",
     "evalue": "module 'wandb.sdk' has no attribute 'lib'",
     "output_type": "error",
     "traceback": [
      "\u001b[1;31m---------------------------------------------------------------------------\u001b[0m",
      "\u001b[1;31mAttributeError\u001b[0m                            Traceback (most recent call last)",
      "Input \u001b[1;32mIn [23]\u001b[0m, in \u001b[0;36m<cell line: 1>\u001b[1;34m()\u001b[0m\n\u001b[1;32m----> 1\u001b[0m \u001b[38;5;28;01mfrom\u001b[39;00m \u001b[38;5;21;01msimpletransformers\u001b[39;00m\u001b[38;5;21;01m.\u001b[39;00m\u001b[38;5;21;01mlanguage_modeling\u001b[39;00m \u001b[38;5;28;01mimport\u001b[39;00m LanguageModelingModel, LanguageModelingArgs\n\u001b[0;32m      2\u001b[0m \u001b[38;5;28;01mfrom\u001b[39;00m \u001b[38;5;21;01msimpletransformers\u001b[39;00m\u001b[38;5;21;01m.\u001b[39;00m\u001b[38;5;21;01mlanguage_generation\u001b[39;00m \u001b[38;5;28;01mimport\u001b[39;00m LanguageGenerationModel\n",
      "File \u001b[1;32m~\\anaconda3\\envs\\SimpleTransformers\\lib\\site-packages\\simpletransformers\\language_modeling\\__init__.py:2\u001b[0m, in \u001b[0;36m<module>\u001b[1;34m\u001b[0m\n\u001b[0;32m      1\u001b[0m \u001b[38;5;28;01mfrom\u001b[39;00m \u001b[38;5;21;01msimpletransformers\u001b[39;00m\u001b[38;5;21;01m.\u001b[39;00m\u001b[38;5;21;01mconfig\u001b[39;00m\u001b[38;5;21;01m.\u001b[39;00m\u001b[38;5;21;01mmodel_args\u001b[39;00m \u001b[38;5;28;01mimport\u001b[39;00m LanguageModelingArgs\n\u001b[1;32m----> 2\u001b[0m \u001b[38;5;28;01mfrom\u001b[39;00m \u001b[38;5;21;01msimpletransformers\u001b[39;00m\u001b[38;5;21;01m.\u001b[39;00m\u001b[38;5;21;01mlanguage_modeling\u001b[39;00m\u001b[38;5;21;01m.\u001b[39;00m\u001b[38;5;21;01mlanguage_modeling_model\u001b[39;00m \u001b[38;5;28;01mimport\u001b[39;00m (\n\u001b[0;32m      3\u001b[0m     LanguageModelingModel,\n\u001b[0;32m      4\u001b[0m )\n",
      "File \u001b[1;32m~\\anaconda3\\envs\\SimpleTransformers\\lib\\site-packages\\simpletransformers\\language_modeling\\language_modeling_model.py:101\u001b[0m, in \u001b[0;36m<module>\u001b[1;34m\u001b[0m\n\u001b[0;32m     94\u001b[0m \u001b[38;5;28;01mfrom\u001b[39;00m \u001b[38;5;21;01msimpletransformers\u001b[39;00m\u001b[38;5;21;01m.\u001b[39;00m\u001b[38;5;21;01mlanguage_modeling\u001b[39;00m\u001b[38;5;21;01m.\u001b[39;00m\u001b[38;5;21;01mlanguage_modeling_utils\u001b[39;00m \u001b[38;5;28;01mimport\u001b[39;00m (\n\u001b[0;32m     95\u001b[0m     SimpleDataset,\n\u001b[0;32m     96\u001b[0m     load_hf_dataset,\n\u001b[0;32m     97\u001b[0m     mask_tokens,\n\u001b[0;32m     98\u001b[0m )\n\u001b[0;32m    100\u001b[0m \u001b[38;5;28;01mtry\u001b[39;00m:\n\u001b[1;32m--> 101\u001b[0m     \u001b[38;5;28;01mimport\u001b[39;00m \u001b[38;5;21;01mwandb\u001b[39;00m\n\u001b[0;32m    103\u001b[0m     wandb_available \u001b[38;5;241m=\u001b[39m \u001b[38;5;28;01mTrue\u001b[39;00m\n\u001b[0;32m    104\u001b[0m \u001b[38;5;28;01mexcept\u001b[39;00m \u001b[38;5;167;01mImportError\u001b[39;00m:\n",
      "File \u001b[1;32m~\\anaconda3\\envs\\SimpleTransformers\\lib\\site-packages\\wandb\\__init__.py:31\u001b[0m, in \u001b[0;36m<module>\u001b[1;34m\u001b[0m\n\u001b[0;32m     27\u001b[0m \u001b[38;5;28;01mfrom\u001b[39;00m \u001b[38;5;21;01mwandb\u001b[39;00m \u001b[38;5;28;01mimport\u001b[39;00m sdk \u001b[38;5;28;01mas\u001b[39;00m wandb_sdk\n\u001b[0;32m     29\u001b[0m \u001b[38;5;28;01mimport\u001b[39;00m \u001b[38;5;21;01mwandb\u001b[39;00m\n\u001b[1;32m---> 31\u001b[0m wandb\u001b[38;5;241m.\u001b[39mwandb_lib \u001b[38;5;241m=\u001b[39m \u001b[43mwandb_sdk\u001b[49m\u001b[38;5;241;43m.\u001b[39;49m\u001b[43mlib\u001b[49m\n\u001b[0;32m     33\u001b[0m init \u001b[38;5;241m=\u001b[39m wandb_sdk\u001b[38;5;241m.\u001b[39minit\n\u001b[0;32m     34\u001b[0m setup \u001b[38;5;241m=\u001b[39m wandb_sdk\u001b[38;5;241m.\u001b[39msetup\n",
      "\u001b[1;31mAttributeError\u001b[0m: module 'wandb.sdk' has no attribute 'lib'"
     ]
    }
   ],
   "source": [
    "from simpletransformers.language_modeling import LanguageModelingModel, LanguageModelingArgs\n",
    "from simpletransformers.language_generation import LanguageGenerationModel"
   ]
  },
  {
   "cell_type": "code",
   "execution_count": null,
   "metadata": {},
   "outputs": [],
   "source": [
    "model_args = LanguageModelingArgs()\n",
    "model_args.reprocess_input_data = True\n",
    "model_args.overwrite_output_dir = True\n",
    "model_args.num_train_epochs = 1\n",
    "model_args.dataset_type = \"simple\""
   ]
  },
  {
   "cell_type": "code",
   "execution_count": 61,
   "metadata": {},
   "outputs": [
    {
     "name": "stderr",
     "output_type": "stream",
     "text": [
      "Some weights of the model checkpoint at Maltehb/danish-bert-botxo were not used when initializing BertForMaskedLM: ['cls.seq_relationship.bias', 'cls.seq_relationship.weight']\n",
      "- This IS expected if you are initializing BertForMaskedLM from the checkpoint of a model trained on another task or with another architecture (e.g. initializing a BertForSequenceClassification model from a BertForPreTraining model).\n",
      "- This IS NOT expected if you are initializing BertForMaskedLM from the checkpoint of a model that you expect to be exactly identical (initializing a BertForSequenceClassification model from a BertForSequenceClassification model).\n"
     ]
    }
   ],
   "source": [
    "lm = LanguageModelingModel(\n",
    "            model_type= 'bert', \n",
    "            model_name= 'Maltehb/danish-bert-botxo',\n",
    "            use_cuda=False)"
   ]
  },
  {
   "cell_type": "code",
   "execution_count": 67,
   "metadata": {},
   "outputs": [
    {
     "data": {
      "application/vnd.jupyter.widget-view+json": {
       "model_id": "298f5e709f6c431eaaef81ce7662059b",
       "version_major": 2,
       "version_minor": 0
      },
      "text/plain": [
       "Downloading:   0%|          | 0.00/825k [00:00<?, ?B/s]"
      ]
     },
     "metadata": {},
     "output_type": "display_data"
    },
    {
     "data": {
      "application/vnd.jupyter.widget-view+json": {
       "model_id": "445b9addf39e4ff3877df6a47b311b12",
       "version_major": 2,
       "version_minor": 0
      },
      "text/plain": [
       "Downloading:   0%|          | 0.00/492k [00:00<?, ?B/s]"
      ]
     },
     "metadata": {},
     "output_type": "display_data"
    },
    {
     "data": {
      "application/vnd.jupyter.widget-view+json": {
       "model_id": "703c1537c46b4da5ad7c9e07a4c1b8a5",
       "version_major": 2,
       "version_minor": 0
      },
      "text/plain": [
       "Downloading:   0%|          | 0.00/24.0 [00:00<?, ?B/s]"
      ]
     },
     "metadata": {},
     "output_type": "display_data"
    },
    {
     "data": {
      "application/vnd.jupyter.widget-view+json": {
       "model_id": "eee589438ad047bf96e7b593f3e7dc70",
       "version_major": 2,
       "version_minor": 0
      },
      "text/plain": [
       "Downloading:   0%|          | 0.00/90.0 [00:00<?, ?B/s]"
      ]
     },
     "metadata": {},
     "output_type": "display_data"
    },
    {
     "data": {
      "application/vnd.jupyter.widget-view+json": {
       "model_id": "c435ffcb953b4554ac52021075b2a108",
       "version_major": 2,
       "version_minor": 0
      },
      "text/plain": [
       "Downloading:   0%|          | 0.00/207 [00:00<?, ?B/s]"
      ]
     },
     "metadata": {},
     "output_type": "display_data"
    },
    {
     "data": {
      "application/vnd.jupyter.widget-view+json": {
       "model_id": "dc76289d10ea4c3f85ee405f359cb326",
       "version_major": 2,
       "version_minor": 0
      },
      "text/plain": [
       "Downloading:   0%|          | 0.00/830 [00:00<?, ?B/s]"
      ]
     },
     "metadata": {},
     "output_type": "display_data"
    },
    {
     "data": {
      "application/vnd.jupyter.widget-view+json": {
       "model_id": "b30e896cfe514f318aae40bf60dbdb2c",
       "version_major": 2,
       "version_minor": 0
      },
      "text/plain": [
       "Downloading:   0%|          | 0.00/487M [00:00<?, ?B/s]"
      ]
     },
     "metadata": {},
     "output_type": "display_data"
    }
   ],
   "source": [
    "lang_gen_model = LanguageGenerationModel(\n",
    "                    model_type= 'gpt2', \n",
    "                    model_name='flax-community/dansk-gpt-wiki',\n",
    "                    use_cuda=False)"
   ]
  },
  {
   "cell_type": "code",
   "execution_count": 71,
   "metadata": {},
   "outputs": [
    {
     "name": "stderr",
     "output_type": "stream",
     "text": [
      "Setting `pad_token_id` to `eos_token_id`:50256 for open-end generation.\n"
     ]
    },
    {
     "data": {
      "text/plain": [
       "['København er beliggende ved Sdr. Htk., 4 km vest for Frederikshavn, er det 40 ha store']"
      ]
     },
     "execution_count": 71,
     "metadata": {},
     "output_type": "execute_result"
    }
   ],
   "source": [
    "lang_gen_model.generate(\"København er\")"
   ]
  },
  {
   "cell_type": "markdown",
   "metadata": {},
   "source": [
    "# Test the shit on codified"
   ]
  },
  {
   "cell_type": "code",
   "execution_count": null,
   "metadata": {},
   "outputs": [],
   "source": [
    "codified = np.load('../../../codified.npy')\n",
    "codified.shape"
   ]
  },
  {
   "cell_type": "code",
   "execution_count": null,
   "metadata": {},
   "outputs": [],
   "source": [
    "text = list(data.Header.astype(str))\n",
    "texts = text\n",
    "final_text = ''\n",
    "for text in tqdm(texts):\n",
    "    text = text.strip()\n",
    "    text = text.replace('\\n','')\n",
    "    text = text.replace('\\r','')\n",
    "    text = text.replace('\\t','')\n",
    "    if len(text) < 10:\n",
    "        continue\n",
    "    final_text += ''.join(text)\n",
    "    final_text += '\\n'\n",
    "final_text = final_text[:-1]\n",
    "\n",
    "headers = final_text.split('\\n')"
   ]
  },
  {
   "cell_type": "code",
   "execution_count": null,
   "metadata": {},
   "outputs": [],
   "source": [
    "politiken2_ind = []\n",
    "information2_ind = []\n",
    "politiken2 = []\n",
    "information2 = []\n",
    "\n",
    "for i, header in tqdm(enumerate(headers)):\n",
    "    if header in politiken:\n",
    "        politiken2_ind.append(i)\n",
    "    elif header in information:\n",
    "        information2_ind.append(i)\n",
    "    \n",
    "    if len(politiken2) == 1000 and len(information2)==1000:\n",
    "        break"
   ]
  },
  {
   "cell_type": "code",
   "execution_count": null,
   "metadata": {},
   "outputs": [],
   "source": [
    "politiken2_vecs = np.array([codified[i] for i in politiken2_ind])\n",
    "information2_vecs = np.array([codified[i] for i in information2_ind][:992])\n",
    "codified_vecs = np.vstack((politiken2_vecs, information2_vecs))\n",
    "\n",
    "y = [0]*992 + [1]*992\n",
    "train_X, test_X, train_y, test_y = train_test_split(codified_vecs, y)"
   ]
  },
  {
   "cell_type": "code",
   "execution_count": null,
   "metadata": {},
   "outputs": [],
   "source": [
    "# random.shuffle(y)\n",
    "# train_X, test_X, train_y, test_y = train_test_split(codified_vecs, y)"
   ]
  },
  {
   "cell_type": "code",
   "execution_count": null,
   "metadata": {},
   "outputs": [],
   "source": [
    "import classifier_unit_test"
   ]
  },
  {
   "cell_type": "code",
   "execution_count": null,
   "metadata": {},
   "outputs": [],
   "source": [
    "rfc = RandomForestClassifier()"
   ]
  },
  {
   "cell_type": "code",
   "execution_count": null,
   "metadata": {},
   "outputs": [],
   "source": [
    "classifier_unit_test.test_classifier(rfc, train_X, test_X, train_y, test_y)"
   ]
  },
  {
   "cell_type": "code",
   "execution_count": null,
   "metadata": {},
   "outputs": [],
   "source": []
  },
  {
   "cell_type": "code",
   "execution_count": null,
   "metadata": {},
   "outputs": [],
   "source": [
    "auc"
   ]
  },
  {
   "cell_type": "markdown",
   "metadata": {},
   "source": [
    "# Generation test"
   ]
  },
  {
   "cell_type": "code",
   "execution_count": 37,
   "metadata": {},
   "outputs": [
    {
     "name": "stderr",
     "output_type": "stream",
     "text": [
      "Some weights of the model checkpoint at Maltehb/danish-bert-botxo were not used when initializing BertForTextRepresentation: ['cls.seq_relationship.weight', 'cls.predictions.transform.LayerNorm.bias', 'cls.predictions.bias', 'cls.predictions.transform.dense.weight', 'cls.predictions.transform.LayerNorm.weight', 'cls.predictions.decoder.bias', 'cls.seq_relationship.bias', 'cls.predictions.decoder.weight', 'cls.predictions.transform.dense.bias']\n",
      "- This IS expected if you are initializing BertForTextRepresentation from the checkpoint of a model trained on another task or with another architecture (e.g. initializing a BertForSequenceClassification model from a BertForPreTraining model).\n",
      "- This IS NOT expected if you are initializing BertForTextRepresentation from the checkpoint of a model that you expect to be exactly identical (initializing a BertForSequenceClassification model from a BertForSequenceClassification model).\n"
     ]
    },
    {
     "data": {
      "text/plain": [
       "(100, 768)"
      ]
     },
     "execution_count": 37,
     "metadata": {},
     "output_type": "execute_result"
    }
   ],
   "source": [
    "#Make vector of some articles\n",
    "bodies = list(data[\"Body\"])[9000:9100]\n",
    "headers = list(data[\"Header\"])[9000:9100]\n",
    "\n",
    "model = RepresentationModel(\n",
    "        model_type='bert',\n",
    "        model_name='Maltehb/danish-bert-botxo',\n",
    "        use_cuda=False)\n",
    "\n",
    "vectors = model.encode_sentences(bodies, combine_strategy='mean')\n",
    "vectors.shape"
   ]
  },
  {
   "cell_type": "code",
   "execution_count": 30,
   "metadata": {},
   "outputs": [
    {
     "data": {
      "text/html": [
       "<div>\n",
       "<style scoped>\n",
       "    .dataframe tbody tr th:only-of-type {\n",
       "        vertical-align: middle;\n",
       "    }\n",
       "\n",
       "    .dataframe tbody tr th {\n",
       "        vertical-align: top;\n",
       "    }\n",
       "\n",
       "    .dataframe thead th {\n",
       "        text-align: right;\n",
       "    }\n",
       "</style>\n",
       "<table border=\"1\" class=\"dataframe\">\n",
       "  <thead>\n",
       "    <tr style=\"text-align: right;\">\n",
       "      <th></th>\n",
       "      <th>input</th>\n",
       "      <th>target</th>\n",
       "    </tr>\n",
       "  </thead>\n",
       "  <tbody>\n",
       "    <tr>\n",
       "      <th>0</th>\n",
       "      <td>[-0.59563667, 0.46274945, 0.83595693, 0.591673...</td>\n",
       "      <td>Lettet Christinna Pedersen: 'Der har været for...</td>\n",
       "    </tr>\n",
       "    <tr>\n",
       "      <th>1</th>\n",
       "      <td>[-0.3861792, 0.122922584, 0.9676417, -0.243358...</td>\n",
       "      <td>Ny museumsdirektør på kvindemuseet i Aarhus si...</td>\n",
       "    </tr>\n",
       "    <tr>\n",
       "      <th>2</th>\n",
       "      <td>[-0.6130347, 0.15502118, 0.515855, 0.4008748, ...</td>\n",
       "      <td>Kulturministeren garanterer fans på stadion: '...</td>\n",
       "    </tr>\n",
       "    <tr>\n",
       "      <th>3</th>\n",
       "      <td>[-0.38609523, 0.20278929, 0.98600316, 0.281827...</td>\n",
       "      <td>Debutanten Dolberg: Jeg kunne høre folk råbe p...</td>\n",
       "    </tr>\n",
       "    <tr>\n",
       "      <th>4</th>\n",
       "      <td>[-0.7306787, 0.25296178, 1.0223695, 0.42101982...</td>\n",
       "      <td>Genoplev Danmarks vej til VM-finalen: Knusende...</td>\n",
       "    </tr>\n",
       "  </tbody>\n",
       "</table>\n",
       "</div>"
      ],
      "text/plain": [
       "                                               input                                             target\n",
       "0  [-0.59563667, 0.46274945, 0.83595693, 0.591673...  Lettet Christinna Pedersen: 'Der har været for...\n",
       "1  [-0.3861792, 0.122922584, 0.9676417, -0.243358...  Ny museumsdirektør på kvindemuseet i Aarhus si...\n",
       "2  [-0.6130347, 0.15502118, 0.515855, 0.4008748, ...  Kulturministeren garanterer fans på stadion: '...\n",
       "3  [-0.38609523, 0.20278929, 0.98600316, 0.281827...  Debutanten Dolberg: Jeg kunne høre folk råbe p...\n",
       "4  [-0.7306787, 0.25296178, 1.0223695, 0.42101982...  Genoplev Danmarks vej til VM-finalen: Knusende..."
      ]
     },
     "execution_count": 30,
     "metadata": {},
     "output_type": "execute_result"
    }
   ],
   "source": [
    "train_data = [[vectors[i], headers[i]] for i in range(len(headers)-10)]\n",
    "eval_data = [[vectors[i], headers[i]] for i in range(len(headers)-10, len(headers))]\n",
    "train_df = pd.DataFrame(train_data, columns=[\"input\", \"target\"])\n",
    "eval_df = pd.DataFrame(eval_data, columns=[\"input\", \"target\"])\n",
    "train_df.head()"
   ]
  },
  {
   "cell_type": "code",
   "execution_count": 39,
   "metadata": {},
   "outputs": [
    {
     "data": {
      "application/vnd.jupyter.widget-view+json": {
       "model_id": "e6ef73bc04cd498ca54ffb7506e1fbc6",
       "version_major": 2,
       "version_minor": 0
      },
      "text/plain": [
       "Downloading:   0%|          | 0.00/750k [00:00<?, ?B/s]"
      ]
     },
     "metadata": {},
     "output_type": "display_data"
    },
    {
     "data": {
      "application/vnd.jupyter.widget-view+json": {
       "model_id": "9b8c343299454ec08c366d1aeaebe5b2",
       "version_major": 2,
       "version_minor": 0
      },
      "text/plain": [
       "Downloading:   0%|          | 0.00/778k [00:00<?, ?B/s]"
      ]
     },
     "metadata": {},
     "output_type": "display_data"
    },
    {
     "data": {
      "application/vnd.jupyter.widget-view+json": {
       "model_id": "75ad744f0d324dea8f0e24b7f0c9560f",
       "version_major": 2,
       "version_minor": 0
      },
      "text/plain": [
       "Downloading:   0%|          | 0.00/1.21M [00:00<?, ?B/s]"
      ]
     },
     "metadata": {},
     "output_type": "display_data"
    },
    {
     "data": {
      "application/vnd.jupyter.widget-view+json": {
       "model_id": "16c7816dd3fe43beb9c32e26add5f218",
       "version_major": 2,
       "version_minor": 0
      },
      "text/plain": [
       "Downloading:   0%|          | 0.00/42.0 [00:00<?, ?B/s]"
      ]
     },
     "metadata": {},
     "output_type": "display_data"
    },
    {
     "data": {
      "application/vnd.jupyter.widget-view+json": {
       "model_id": "17deacfce83e42fd9e11445bfc462542",
       "version_major": 2,
       "version_minor": 0
      },
      "text/plain": [
       "Downloading:   0%|          | 0.00/1.30k [00:00<?, ?B/s]"
      ]
     },
     "metadata": {},
     "output_type": "display_data"
    },
    {
     "data": {
      "application/vnd.jupyter.widget-view+json": {
       "model_id": "587a3257e8984ac0ab38e6af9f37560a",
       "version_major": 2,
       "version_minor": 0
      },
      "text/plain": [
       "Downloading:   0%|          | 0.00/284M [00:00<?, ?B/s]"
      ]
     },
     "metadata": {},
     "output_type": "display_data"
    }
   ],
   "source": [
    "from transformers import MarianMTModel, MarianTokenizer\n",
    "import torch\n",
    "\n",
    "tokenizer = MarianTokenizer.from_pretrained(\"Helsinki-NLP/opus-mt-en-de\")\n",
    "model = MarianMTModel.from_pretrained(\"Helsinki-NLP/opus-mt-en-de\")\n",
    "embeddings = model.get_input_embeddings()"
   ]
  },
  {
   "cell_type": "code",
   "execution_count": null,
   "metadata": {},
   "outputs": [],
   "source": []
  }
 ],
 "metadata": {
  "kernelspec": {
   "display_name": "Python 3 (ipykernel)",
   "language": "python",
   "name": "python3"
  },
  "language_info": {
   "codemirror_mode": {
    "name": "ipython",
    "version": 3
   },
   "file_extension": ".py",
   "mimetype": "text/x-python",
   "name": "python",
   "nbconvert_exporter": "python",
   "pygments_lexer": "ipython3",
   "version": "3.10.4"
  }
 },
 "nbformat": 4,
 "nbformat_minor": 4
}
