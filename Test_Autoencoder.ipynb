{
 "cells": [
  {
   "cell_type": "code",
   "execution_count": 1,
   "metadata": {},
   "outputs": [],
   "source": [
    "import numpy as np\n",
    "import pandas as pd\n",
    "# from keras.preprocessing.text import Tokenizer\n",
    "# from keras.preprocessing.sequence import pad_sequences\n",
    "# from keras.layers import Input, Embedding, Bidirectional, LSTM, GlobalMaxPooling1D, Dense\n",
    "# from keras import regularizers\n",
    "# from keras.models import Model\n",
    "# from keras.utils import to_categorical\n",
    "\n",
    "with open('data/additional/preprocessed_data.json') as f:\n",
    "    data = pd.read_json(f)"
   ]
  },
  {
   "cell_type": "code",
   "execution_count": null,
   "metadata": {},
   "outputs": [],
   "source": [
    "headers = list(data.Header)\n",
    "train = headers[:5000]\n",
    "test = headers[-500:]\n",
    "del data\n",
    "\n",
    "tokenizer = Tokenizer()\n",
    "tokenizer.fit_on_texts(train)"
   ]
  },
  {
   "cell_type": "code",
   "execution_count": 3,
   "metadata": {},
   "outputs": [
    {
     "name": "stdout",
     "output_type": "stream",
     "text": [
      "Vocab size: 10120\n",
      "Max lenght: 34\n"
     ]
    }
   ],
   "source": [
    "MAX_LEN = max(len(line.split()) for line in train)\n",
    "VOCAB_SIZE = len(tokenizer.word_index)+1\n",
    "print(\"Vocab size:\", VOCAB_SIZE)\n",
    "print(\"Max lenght:\", MAX_LEN)"
   ]
  },
  {
   "cell_type": "code",
   "execution_count": 4,
   "metadata": {},
   "outputs": [],
   "source": [
    "def encode_sequences(tokenizer, length, lines):\n",
    "    X = tokenizer.texts_to_sequences(lines)\n",
    "    X = pad_sequences(X, maxlen=length, padding='post')\n",
    "    return X\n",
    "\n",
    "def encode_output(sequences, vocab_size):\n",
    "    ylist = []\n",
    "    for sequence in sequences:\n",
    "        encoded = to_categorical(sequence, num_classes=vocab_size)\n",
    "        ylist.append(encoded)\n",
    "    y = np.array(ylist)\n",
    "    y = y.reshape(sequences.shape[0], sequences.shape[1], vocab_size)\n",
    "    return y"
   ]
  },
  {
   "cell_type": "code",
   "execution_count": 5,
   "metadata": {},
   "outputs": [],
   "source": [
    "from keras.models import Sequential\n",
    "from keras.layers import RepeatVector, TimeDistributed\n",
    "def define_model(vocab_size, timesteps, n_units):\n",
    "    model = Sequential()\n",
    "    model.add(Embedding(vocab_size, n_units, input_length=timesteps, mask_zero=True))\n",
    "    model.add(LSTM(n_units))\n",
    "    model.add(RepeatVector(timesteps))\n",
    "    model.add(LSTM(n_units, return_sequences=True))\n",
    "    model.add(TimeDistributed(Dense(vocab_size, activation='softmax')))\n",
    "    return model"
   ]
  },
  {
   "cell_type": "code",
   "execution_count": 6,
   "metadata": {},
   "outputs": [
    {
     "name": "stdout",
     "output_type": "stream",
     "text": [
      "Epoch 1/30\n",
      "157/157 [==============================] - 69s 439ms/step - loss: 3.3589 - val_loss: 2.0643\n",
      "Epoch 2/30\n",
      "157/157 [==============================] - 68s 431ms/step - loss: 2.1422 - val_loss: 1.9383\n",
      "Epoch 3/30\n",
      "157/157 [==============================] - 67s 429ms/step - loss: 2.0087 - val_loss: 1.8829\n",
      "Epoch 4/30\n",
      "157/157 [==============================] - 68s 435ms/step - loss: 1.9626 - val_loss: 1.8718\n",
      "Epoch 5/30\n",
      "157/157 [==============================] - 68s 433ms/step - loss: 1.9012 - val_loss: 1.8512\n",
      "Epoch 6/30\n",
      "157/157 [==============================] - 68s 434ms/step - loss: 1.8542 - val_loss: 1.8335\n",
      "Epoch 7/30\n",
      "157/157 [==============================] - 67s 429ms/step - loss: 1.8278 - val_loss: 1.8276\n",
      "Epoch 8/30\n",
      "157/157 [==============================] - 70s 443ms/step - loss: 1.7998 - val_loss: 1.8248\n",
      "Epoch 9/30\n",
      "157/157 [==============================] - 68s 430ms/step - loss: 1.7752 - val_loss: 1.8323\n",
      "Epoch 10/30\n",
      "157/157 [==============================] - 75s 477ms/step - loss: 1.7500 - val_loss: 1.9389\n",
      "Epoch 11/30\n",
      "157/157 [==============================] - 71s 454ms/step - loss: 1.7363 - val_loss: 1.8285\n",
      "Epoch 12/30\n",
      "157/157 [==============================] - 68s 431ms/step - loss: 1.7134 - val_loss: 1.8357\n",
      "Epoch 13/30\n",
      "157/157 [==============================] - 71s 453ms/step - loss: 1.6968 - val_loss: 1.8635\n",
      "Epoch 14/30\n",
      "157/157 [==============================] - 70s 448ms/step - loss: 1.6783 - val_loss: 1.8619\n",
      "Epoch 15/30\n",
      "157/157 [==============================] - 83s 528ms/step - loss: 1.6625 - val_loss: 1.8548\n",
      "Epoch 16/30\n",
      "157/157 [==============================] - 79s 503ms/step - loss: 1.6440 - val_loss: 1.8587\n",
      "Epoch 17/30\n",
      "157/157 [==============================] - 80s 507ms/step - loss: 1.6411 - val_loss: 1.8813\n",
      "Epoch 18/30\n",
      "157/157 [==============================] - 69s 441ms/step - loss: 1.6179 - val_loss: 1.8852\n",
      "Epoch 19/30\n",
      "157/157 [==============================] - 68s 433ms/step - loss: 1.6149 - val_loss: 1.8842\n",
      "Epoch 20/30\n",
      "157/157 [==============================] - 68s 431ms/step - loss: 1.5880 - val_loss: 1.8829\n",
      "Epoch 21/30\n",
      "157/157 [==============================] - 68s 432ms/step - loss: 1.5861 - val_loss: 1.8967\n",
      "Epoch 22/30\n",
      "157/157 [==============================] - 69s 440ms/step - loss: 1.5609 - val_loss: 1.9018\n",
      "Epoch 23/30\n",
      "157/157 [==============================] - 68s 432ms/step - loss: 1.5520 - val_loss: 1.9697\n",
      "Epoch 24/30\n",
      "157/157 [==============================] - 67s 429ms/step - loss: 1.5479 - val_loss: 1.9123\n",
      "Epoch 25/30\n",
      "157/157 [==============================] - 68s 430ms/step - loss: 1.5280 - val_loss: 1.9304\n",
      "Epoch 26/30\n",
      "157/157 [==============================] - 68s 432ms/step - loss: 1.5102 - val_loss: 1.9334\n",
      "Epoch 27/30\n",
      "157/157 [==============================] - 67s 429ms/step - loss: 1.5099 - val_loss: 1.9282\n",
      "Epoch 28/30\n",
      "157/157 [==============================] - 67s 429ms/step - loss: 1.4876 - val_loss: 1.9315\n",
      "Epoch 29/30\n",
      "157/157 [==============================] - 67s 430ms/step - loss: 1.4684 - val_loss: 1.9418\n",
      "Epoch 30/30\n",
      "157/157 [==============================] - 69s 442ms/step - loss: 1.4679 - val_loss: 1.9483\n"
     ]
    },
    {
     "data": {
      "text/plain": [
       "<tensorflow.python.keras.callbacks.History at 0x1a671daef88>"
      ]
     },
     "execution_count": 6,
     "metadata": {},
     "output_type": "execute_result"
    }
   ],
   "source": [
    "trainX = encode_sequences(tokenizer, MAX_LEN, train)\n",
    "trainY = encode_output(trainX, VOCAB_SIZE)\n",
    "\n",
    "testX = encode_sequences(tokenizer, MAX_LEN, test)\n",
    "testY = encode_output(testX, VOCAB_SIZE)\n",
    "\n",
    "model = define_model(VOCAB_SIZE, MAX_LEN, 128)\n",
    "model.compile(optimizer='adam', loss='categorical_crossentropy')\n",
    "model.fit(trainX, trainY, epochs=30, validation_data=(testX,testY))"
   ]
  },
  {
   "cell_type": "code",
   "execution_count": 10,
   "metadata": {},
   "outputs": [],
   "source": [
    "def word_for_id(integer, tokenizer):\n",
    "    for word, i in tokenizer.word_index.items():\n",
    "        if i == integer:\n",
    "            return word\n",
    "    return None\n",
    "\n",
    "def predict_sequence(model, tokenizer, source, i):\n",
    "    prediction = model.predict(source, verbose=0)[i]\n",
    "    integers = [np.argmax(vector) for vector in prediction]\n",
    "    target = []\n",
    "    for i in integers:\n",
    "        word = word_for_id(i, tokenizer)\n",
    "        if word is None:\n",
    "            break\n",
    "        target.append(word)\n",
    "    return ' '.join(target)"
   ]
  },
  {
   "cell_type": "code",
   "execution_count": 35,
   "metadata": {
    "scrolled": true
   },
   "outputs": [
    {
     "data": {
      "text/plain": [
       "(array([  32, 1409, 2042,   67,   43,   41,   32, 8895,    9,   14, 6450,\n",
       "          65,  247,    0,    0,    0,    0,    0,    0,    0,    0,    0,\n",
       "           0,    0,    0,    0,    0,    0,    0,    0,    0,    0,    0,\n",
       "           0]),\n",
       " array([[0., 0., 0., ..., 0., 0., 0.],\n",
       "        [0., 0., 0., ..., 0., 0., 0.],\n",
       "        [0., 0., 0., ..., 0., 0., 0.],\n",
       "        ...,\n",
       "        [1., 0., 0., ..., 0., 0., 0.],\n",
       "        [1., 0., 0., ..., 0., 0., 0.],\n",
       "        [1., 0., 0., ..., 0., 0., 0.]], dtype=float32))"
      ]
     },
     "execution_count": 35,
     "metadata": {},
     "output_type": "execute_result"
    }
   ],
   "source": [
    "#predict_sequence(model, tokenizer, trainX, 1)\n",
    "integers = None\n",
    "testX[0], testY[0]"
   ]
  },
  {
   "cell_type": "code",
   "execution_count": 46,
   "metadata": {},
   "outputs": [
    {
     "name": "stdout",
     "output_type": "stream",
     "text": [
      "[38, 12, 5, 5, 9, 9, 14, 8, 8, 8, 12, 12, 11, 0, 0, 0, 0, 0, 0, 0, 0, 0, 0, 0, 0, 0, 0, 0, 0, 0, 0, 0, 0, 0]\n"
     ]
    },
    {
     "data": {
      "text/plain": [
       "['ny',\n",
       " 'og',\n",
       " 'i',\n",
       " 'i',\n",
       " 'til',\n",
       " 'til',\n",
       " 'at',\n",
       " 'på',\n",
       " 'på',\n",
       " 'på',\n",
       " 'og',\n",
       " 'og',\n",
       " '3f',\n",
       " None,\n",
       " None,\n",
       " None,\n",
       " None,\n",
       " None,\n",
       " None,\n",
       " None,\n",
       " None,\n",
       " None,\n",
       " None,\n",
       " None,\n",
       " None,\n",
       " None,\n",
       " None,\n",
       " None,\n",
       " None,\n",
       " None,\n",
       " None,\n",
       " None,\n",
       " None,\n",
       " None]"
      ]
     },
     "execution_count": 46,
     "metadata": {},
     "output_type": "execute_result"
    }
   ],
   "source": [
    "preds = model.predict(testX)\n",
    "integers = [np.argmax(v) for v in preds[0]]\n",
    "print(integers)\n",
    "[word_for_id(i, tokenizer) for i in integers]"
   ]
  },
  {
   "cell_type": "code",
   "execution_count": 45,
   "metadata": {},
   "outputs": [
    {
     "name": "stdout",
     "output_type": "stream",
     "text": [
      "[32, 1409, 2042, 67, 43, 41, 32, 8895, 9, 14, 6450, 65, 247, 0, 0, 0, 0, 0, 0, 0, 0, 0, 0, 0, 0, 0, 0, 0, 0, 0, 0, 0, 0, 0]\n"
     ]
    },
    {
     "data": {
      "text/plain": [
       "['de',\n",
       " 'kalder',\n",
       " 'ham',\n",
       " 'se',\n",
       " 'der',\n",
       " 'får',\n",
       " 'de',\n",
       " 'professionelle',\n",
       " 'til',\n",
       " 'at',\n",
       " 'måbe',\n",
       " 'tv',\n",
       " '2',\n",
       " None,\n",
       " None,\n",
       " None,\n",
       " None,\n",
       " None,\n",
       " None,\n",
       " None,\n",
       " None,\n",
       " None,\n",
       " None,\n",
       " None,\n",
       " None,\n",
       " None,\n",
       " None,\n",
       " None,\n",
       " None,\n",
       " None,\n",
       " None,\n",
       " None,\n",
       " None,\n",
       " None]"
      ]
     },
     "execution_count": 45,
     "metadata": {},
     "output_type": "execute_result"
    }
   ],
   "source": [
    "integers = [np.argmax(v) for v in testY[0]]\n",
    "print(integers)\n",
    "[word_for_id(i, tokenizer) for i in integers]"
   ]
  },
  {
   "cell_type": "code",
   "execution_count": 19,
   "metadata": {},
   "outputs": [
    {
     "data": {
      "text/plain": [
       "[2321,\n",
       " 2322,\n",
       " 3810,\n",
       " 76,\n",
       " 19,\n",
       " 708,\n",
       " 3811,\n",
       " 611,\n",
       " 364,\n",
       " 19,\n",
       " 3812,\n",
       " 1,\n",
       " 6,\n",
       " 0,\n",
       " 0,\n",
       " 0,\n",
       " 0,\n",
       " 0,\n",
       " 0,\n",
       " 0,\n",
       " 0,\n",
       " 0,\n",
       " 0,\n",
       " 0,\n",
       " 0,\n",
       " 0,\n",
       " 0,\n",
       " 0,\n",
       " 0,\n",
       " 0,\n",
       " 0,\n",
       " 0,\n",
       " 0,\n",
       " 0]"
      ]
     },
     "execution_count": 19,
     "metadata": {},
     "output_type": "execute_result"
    }
   ],
   "source": [
    "integers"
   ]
  },
  {
   "cell_type": "code",
   "execution_count": 37,
   "metadata": {},
   "outputs": [],
   "source": [
    "with open('headers.txt', 'w', encoding='utf-8') as f:\n",
    "    strheaders = [x.replace('\\n','') for x in headers if len(x)>10]\n",
    "    strheaders = [x.replace('\\t','') for x in strheaders]\n",
    "    strheaders = '\\n'.join(strheaders)\n",
    "    f.write(strheaders)"
   ]
  },
  {
   "cell_type": "code",
   "execution_count": 17,
   "metadata": {},
   "outputs": [
    {
     "name": "stdout",
     "output_type": "stream",
     "text": [
      "308119\n",
      "308119\n"
     ]
    },
    {
     "data": {
      "text/plain": [
       "38461"
      ]
     },
     "execution_count": 17,
     "metadata": {},
     "output_type": "execute_result"
    }
   ],
   "source": [
    "strheaders = [x.replace('\\n','') for x in headers if len(x)>10]\n",
    "print(len(strheaders))\n",
    "strheaders = '\\n'.join(strheaders)\n",
    "\n",
    "strheaders = strheaders.split('\\n')\n",
    "print(len(strheaders))\n",
    "np.argmin([len(x) for x in strheaders])"
   ]
  },
  {
   "cell_type": "code",
   "execution_count": 21,
   "metadata": {},
   "outputs": [],
   "source": [
    "with open('headers.txt', 'w', encoding='utf-8') as f:\n",
    "    f.write('\\n'.join(strheaders))"
   ]
  },
  {
   "cell_type": "code",
   "execution_count": 87,
   "metadata": {},
   "outputs": [
    {
     "data": {
      "text/plain": [
       "38461"
      ]
     },
     "execution_count": 87,
     "metadata": {},
     "output_type": "execute_result"
    }
   ],
   "source": [
    "np.argmin([len(x) for x in splt])"
   ]
  },
  {
   "cell_type": "code",
   "execution_count": 15,
   "metadata": {},
   "outputs": [
    {
     "data": {
      "text/plain": [
       "[]"
      ]
     },
     "execution_count": 15,
     "metadata": {},
     "output_type": "execute_result"
    }
   ],
   "source": [
    "[x for x in strheaders if '\\\\' in x]"
   ]
  },
  {
   "cell_type": "code",
   "execution_count": 88,
   "metadata": {},
   "outputs": [
    {
     "data": {
      "text/plain": [
       "'Lukket fest'"
      ]
     },
     "execution_count": 88,
     "metadata": {},
     "output_type": "execute_result"
    }
   ],
   "source": [
    "splt[38461]"
   ]
  },
  {
   "cell_type": "code",
   "execution_count": 38,
   "metadata": {},
   "outputs": [],
   "source": [
    "with open('headers.txt', 'r', encoding='utf-8') as f:\n",
    "    h = f.read()"
   ]
  },
  {
   "cell_type": "code",
   "execution_count": 39,
   "metadata": {},
   "outputs": [],
   "source": [
    "h = headers.split('\\n')"
   ]
  },
  {
   "cell_type": "code",
   "execution_count": 40,
   "metadata": {},
   "outputs": [
    {
     "data": {
      "text/plain": [
       "0"
      ]
     },
     "execution_count": 40,
     "metadata": {},
     "output_type": "execute_result"
    }
   ],
   "source": [
    "np.argmin([len(x) for x in h])"
   ]
  },
  {
   "cell_type": "code",
   "execution_count": 43,
   "metadata": {},
   "outputs": [
    {
     "ename": "IndexError",
     "evalue": "list index out of range",
     "output_type": "error",
     "traceback": [
      "\u001b[1;31m---------------------------------------------------------------------------\u001b[0m",
      "\u001b[1;31mIndexError\u001b[0m                                Traceback (most recent call last)",
      "\u001b[1;32m<ipython-input-43-b199d81c457f>\u001b[0m in \u001b[0;36m<module>\u001b[1;34m\u001b[0m\n\u001b[1;32m----> 1\u001b[1;33m \u001b[0mh\u001b[0m\u001b[1;33m[\u001b[0m\u001b[1;36m1\u001b[0m\u001b[1;33m]\u001b[0m\u001b[1;33m\u001b[0m\u001b[1;33m\u001b[0m\u001b[0m\n\u001b[0m",
      "\u001b[1;31mIndexError\u001b[0m: list index out of range"
     ]
    }
   ],
   "source": [
    "headers"
   ]
  },
  {
   "cell_type": "markdown",
   "metadata": {},
   "source": [
    "# More testing"
   ]
  },
  {
   "cell_type": "code",
   "execution_count": 1,
   "metadata": {},
   "outputs": [
    {
     "name": "stderr",
     "output_type": "stream",
     "text": [
      "100%|██████████████████████████████████████████████████████████████████████████████████| 31/31 [00:08<00:00,  3.47it/s]\n"
     ]
    }
   ],
   "source": [
    "import pandas as pd\n",
    "import numpy as np\n",
    "from tqdm import tqdm\n",
    "from matplotlib import pyplot as plt\n",
    "import os\n",
    "\n",
    "def load_data():\n",
    "    path = 'data/additional/scraped'\n",
    "    files = os.listdir(path)\n",
    "    dataframes = []\n",
    "    for file in tqdm(files):\n",
    "        dataframes.append(pd.read_json(path+'/'+file))\n",
    "\n",
    "    dataframe = pd.concat(dataframes)\n",
    "    del dataframe['level_0']\n",
    "    del dataframe['index']\n",
    "\n",
    "    return dataframe\n",
    "\n",
    "data = load_data()\n",
    "domains = data.Domain.value_counts()\n",
    "domains1000 = domains[domains>=1000]\n",
    "domains1000_list = list(domains1000.index)"
   ]
  },
  {
   "cell_type": "code",
   "execution_count": 16,
   "metadata": {},
   "outputs": [
    {
     "data": {
      "text/html": [
       "<div>\n",
       "<style scoped>\n",
       "    .dataframe tbody tr th:only-of-type {\n",
       "        vertical-align: middle;\n",
       "    }\n",
       "\n",
       "    .dataframe tbody tr th {\n",
       "        vertical-align: top;\n",
       "    }\n",
       "\n",
       "    .dataframe thead th {\n",
       "        text-align: right;\n",
       "    }\n",
       "</style>\n",
       "<table border=\"1\" class=\"dataframe\">\n",
       "  <thead>\n",
       "    <tr style=\"text-align: right;\">\n",
       "      <th></th>\n",
       "      <th>Id</th>\n",
       "      <th>Domain</th>\n",
       "      <th>Body</th>\n",
       "      <th>Header</th>\n",
       "      <th>PublicationDate</th>\n",
       "      <th>Uri</th>\n",
       "      <th>Byline</th>\n",
       "      <th>TextHash</th>\n",
       "    </tr>\n",
       "  </thead>\n",
       "  <tbody>\n",
       "    <tr>\n",
       "      <th>12489</th>\n",
       "      <td>828470</td>\n",
       "      <td>sn.dk</td>\n",
       "      <td>Sorø - 19. juni 2013 kl. 12:01 Af Rasmus Giese JakobsenFrederiksberg: Et legehus på legepladsen ved Frederiksberg Skole udbrændte natten til onsdag. Branden blev opdaget kl. 02.07, men på det tidspunkt stod flammerne allerede så højt, at Sorø Brandvæsen måtte opgive at redde legehuset. - Det brændte voldsomt, da vi nåede frem, men heldigvis stod det så langt væk fra de øvrige bygninger på skol...</td>\n",
       "      <td>Påsat brand i legehus - Sorø</td>\n",
       "      <td>2019-06-13T00:00:00</td>\n",
       "      <td>https://sn.dk/Soroe/Paasat-brand-i-legehus/artikel/280608</td>\n",
       "      <td>Rasmus Giese Jakobsen</td>\n",
       "      <td>2146540339</td>\n",
       "    </tr>\n",
       "    <tr>\n",
       "      <th>12490</th>\n",
       "      <td>828466</td>\n",
       "      <td>sn.dk</td>\n",
       "      <td>Stjal varebil fuld af pakker Opdateret 10. juli 2009 kl. 15:34 Ringsted - 09. juli 2009 kl. 10:38 Af Rasmus Giese JakobsenRingsted: En kun 19-årig chauffør fik onsdag morgen stjålet den varebil, han kørte for pakkefirmaet GLS. Undervejs på ruten standsede den 19-årige den store varebile på Allikevej i Havbyrd ved Ringsted for at checke pakkerne i varerummet. Da chaufføren stod og så ind i vare...</td>\n",
       "      <td>Stjal varebil fuld af pakker - Ringsted</td>\n",
       "      <td>2009-07-09T00:00:00</td>\n",
       "      <td>https://sn.dk/Ringsted/Stjal-varebil-fuld-af-pakker/artikel/5724</td>\n",
       "      <td>Rasmus Giese Jakobsen</td>\n",
       "      <td>1336834975</td>\n",
       "    </tr>\n",
       "    <tr>\n",
       "      <th>12491</th>\n",
       "      <td>828458</td>\n",
       "      <td>sn.dk</td>\n",
       "      <td>Opdateret 16. juni 2009 kl. 13:43 Ringsted - 15. juni 2009 kl. 12:38 Af Rasmus Giese JakobsenRingsted: Fredag eftermiddag eller nat forsvandt der en turkis lastbil fra Tømrergården i Ringsted. Lastbilen, der har registrering{AVIS}ummeret RU 91 240, blev brugt til at køre stjålne gulve og døre væk med. Vidner så en polsk indregistreret Passat på stedet, som det lykkedes politiet at opspore ejer...</td>\n",
       "      <td>Stjal gulv og døre - Ringsted</td>\n",
       "      <td>2015-06-09T00:00:00</td>\n",
       "      <td>https://sn.dk/Ringsted/Stjal-gulv-og-doere/artikel/1371</td>\n",
       "      <td>Rasmus Giese Jakobsen</td>\n",
       "      <td>169717534</td>\n",
       "    </tr>\n",
       "    <tr>\n",
       "      <th>12492</th>\n",
       "      <td>828452</td>\n",
       "      <td>sn.dk</td>\n",
       "      <td>144 i timen på landevejen Sorø - 19. juli 2013 kl. 13:40 Af Rasmus Giese JakobsenSORØ: En bilist havde mere end almindeligt travlt i går på Sorøvej ved Dianalund. Politiet havde sin automatiske trafikkontrol stillet op og kameraet fangede en, der kørte hele 144 km/t på strækningen, hvor man kun må køre 80 km/t. Det koster en ubetinget frakendelse af kørekortet. Kontrollen stod på Sorøvej melle...</td>\n",
       "      <td>144 i timen på landevejen - Sorø</td>\n",
       "      <td>2019-07-13T00:00:00</td>\n",
       "      <td>https://sn.dk/Soroe/144-i-timen-paa-landevejen/artikel/342057</td>\n",
       "      <td>Rasmus Giese Jakobsen</td>\n",
       "      <td>580636992</td>\n",
       "    </tr>\n",
       "    <tr>\n",
       "      <th>12493</th>\n",
       "      <td>828449</td>\n",
       "      <td>sn.dk</td>\n",
       "      <td>Teatertrup har styr på hvert minut Sorø - 14. november 2012 kl. 11:45 Af Rasmus Giese Jakobsen SORØ: Hvert minut og hvert et trin er planlagt. Det kræver en stramt koordineret plan at invitere 80 mennesker til et juleshow, når skuespillerne både skal stå på scenen og servere karrysild og sylte til publikum. Det ved medlemmerne af teatertruppen Bravour alt om. Den 12. til 15. december opfører d...</td>\n",
       "      <td>Teatertrup har styr på hvert minut - Sorø</td>\n",
       "      <td>2014-11-12T00:00:00</td>\n",
       "      <td>https://sn.dk/Soroe/Teatertrup-har-styr-paa-hvert-minut/artikel/237290</td>\n",
       "      <td>Rasmus Giese Jakobsen</td>\n",
       "      <td>126046121</td>\n",
       "    </tr>\n",
       "    <tr>\n",
       "      <th>...</th>\n",
       "      <td>...</td>\n",
       "      <td>...</td>\n",
       "      <td>...</td>\n",
       "      <td>...</td>\n",
       "      <td>...</td>\n",
       "      <td>...</td>\n",
       "      <td>...</td>\n",
       "      <td>...</td>\n",
       "    </tr>\n",
       "    <tr>\n",
       "      <th>284688</th>\n",
       "      <td>610440</td>\n",
       "      <td>sn.dk</td>\n",
       "      <td>Hun er kendt for en lang række realityprogrammer som 'Divaer i junglen' og 'Paradise Hotel', men for 24-årige Nikita Klæstrup er det nu slut med at stå foran kameraet. Det fortalte hun, da Ekstra Bladet mødte hende til premieren på femte sæson af tv-serien C More-serien 'Peaky Blinders' i Empire Bio torsdag aften. - I kommer ikke til at se mig på tv, nej. Jeg kan meget bedre lide at være bag k...</td>\n",
       "      <td>Dropper tv: - Det er slut</td>\n",
       "      <td>2013-02-20T00:00:00</td>\n",
       "      <td>https://sn.dk/Taastrup/Elever-i-kaempe-projekt-Saadan-ser-vores-by-ud-om-40-aar/artikel/913666</td>\n",
       "      <td>Kasper Ellesøe</td>\n",
       "      <td>1909048407</td>\n",
       "    </tr>\n",
       "    <tr>\n",
       "      <th>284689</th>\n",
       "      <td>610438</td>\n",
       "      <td>sn.dk</td>\n",
       "      <td>Det blev en dyr fornøjelse for en yngre mand fra Randers, da han trykkede speederen i bund og tonsede ud ad motorvejen ved Haderslev med 217 kilometer i timen. På vejen overhalede han nemlig en af politiets civile færdselspatruljer. Patruljen fik stoppet manden blot for at finde ud af, at han i forvejen havde et kørselsforbud. Det endte med at koste manden en bøde på 15.000 kroner samt en frak...</td>\n",
       "      <td>Mand får stor bøde: Kørte forbi politiet med 217 km i timen</td>\n",
       "      <td>2024-03-20T00:00:00</td>\n",
       "      <td>https://sn.dk/Taastrup/Se-listen-Disse-forretninger-holder-stadig-aabent/artikel/925849</td>\n",
       "      <td>Kasper Ellesøe</td>\n",
       "      <td>1652252850</td>\n",
       "    </tr>\n",
       "    <tr>\n",
       "      <th>284690</th>\n",
       "      <td>610437</td>\n",
       "      <td>sn.dk</td>\n",
       "      <td>Galop-sporten i Australien er netop nu i chok. På kun to dage har to unge kvinder mistet livet i forbindelse med ulykker, hvor de begge faldt af deres hest. Fredag morgen døde den kun 22-årige jockey Mikaela Claridge, da hun faldt af sin hest under en træningstur. 22-årig kvindelig jockey død: Faldt af hesten Men allerede dagen efter døde den 32-årige jockey Melanie Tyndall midt under et heste...</td>\n",
       "      <td>Endnu en kvindelig jockey død kun 32 år gammel</td>\n",
       "      <td>2007-05-20T00:00:00</td>\n",
       "      <td>https://sn.dk/Vestegnen/Mangler-du-noget-at-lave-Tag-paa-jagt-efter-kaemper-i-miniferien/artikel/939603</td>\n",
       "      <td>Kasper Ellesøe</td>\n",
       "      <td>250106722</td>\n",
       "    </tr>\n",
       "    <tr>\n",
       "      <th>284691</th>\n",
       "      <td>610432</td>\n",
       "      <td>sn.dk</td>\n",
       "      <td>En mand er fredag formiddag blevet skudt i det centrale Stockholm. Politiet er på stedet og efterforsker sagen som drabsforsøg. Det oplyser svensk politi på dets hjemmeside. Politiet er massivt til stede i området og undersøger opgangen i Kungsholmen, hvor manden blev skudt. - Området er afspærret, og vi er i gang med de tekniske undersøgelser, skriver politiet. 'Hjælp mig' Flere svenske medie...</td>\n",
       "      <td>Mand skudt i Sverige: - Hjælp mig, hjælp mig</td>\n",
       "      <td>2021-09-20T00:00:00</td>\n",
       "      <td>https://sn.dk/Taastrup/Blev-forelsket-i-kunstvaerk-Har-ramt-det-rigtige-udtryk/artikel/1358151</td>\n",
       "      <td>Kasper Ellesøe</td>\n",
       "      <td>-138788723</td>\n",
       "    </tr>\n",
       "    <tr>\n",
       "      <th>284692</th>\n",
       "      <td>610429</td>\n",
       "      <td>sn.dk</td>\n",
       "      <td>Trav Spilforslag 190906 V4 Derby25 har sat din gevinstgaranti i V4-spillet om fredag op med 100.000 kroner. Det betyder, at den spiller, der rammer spillet som den eneste, og har spillet ved lige nøjagtigt den spiludbyder - er sikret en gevinst på 600.000 kroner.  Trav{AVIS}ak V4 Spillerne skal i øvrigt være opmærksom på, at mange af løbene er fra 1600 meter startmærket. Det betyder stor forde...</td>\n",
       "      <td>Spilforslag: Dynamitfredag i Billund</td>\n",
       "      <td>2025-06-20T00:00:00</td>\n",
       "      <td>https://sn.dk/Taastrup/Asbjoern-og-Isabella-har-faaet-en-gave-fra-dronningen/artikel/1332566</td>\n",
       "      <td>Kasper Ellesøe</td>\n",
       "      <td>-320293926</td>\n",
       "    </tr>\n",
       "  </tbody>\n",
       "</table>\n",
       "<p>5400 rows × 8 columns</p>\n",
       "</div>"
      ],
      "text/plain": [
       "            Id Domain                                                                                                                                                                                                                                                                                                                                                                                                             Body                                                       Header      PublicationDate                                                                                                      Uri                 Byline    TextHash\n",
       "12489   828470  sn.dk  Sorø - 19. juni 2013 kl. 12:01 Af Rasmus Giese JakobsenFrederiksberg: Et legehus på legepladsen ved Frederiksberg Skole udbrændte natten til onsdag. Branden blev opdaget kl. 02.07, men på det tidspunkt stod flammerne allerede så højt, at Sorø Brandvæsen måtte opgive at redde legehuset. - Det brændte voldsomt, da vi nåede frem, men heldigvis stod det så langt væk fra de øvrige bygninger på skol...                                 Påsat brand i legehus - Sorø  2019-06-13T00:00:00                                                https://sn.dk/Soroe/Paasat-brand-i-legehus/artikel/280608  Rasmus Giese Jakobsen  2146540339\n",
       "12490   828466  sn.dk  Stjal varebil fuld af pakker Opdateret 10. juli 2009 kl. 15:34 Ringsted - 09. juli 2009 kl. 10:38 Af Rasmus Giese JakobsenRingsted: En kun 19-årig chauffør fik onsdag morgen stjålet den varebil, han kørte for pakkefirmaet GLS. Undervejs på ruten standsede den 19-årige den store varebile på Allikevej i Havbyrd ved Ringsted for at checke pakkerne i varerummet. Da chaufføren stod og så ind i vare...                      Stjal varebil fuld af pakker - Ringsted  2009-07-09T00:00:00                                         https://sn.dk/Ringsted/Stjal-varebil-fuld-af-pakker/artikel/5724  Rasmus Giese Jakobsen  1336834975\n",
       "12491   828458  sn.dk  Opdateret 16. juni 2009 kl. 13:43 Ringsted - 15. juni 2009 kl. 12:38 Af Rasmus Giese JakobsenRingsted: Fredag eftermiddag eller nat forsvandt der en turkis lastbil fra Tømrergården i Ringsted. Lastbilen, der har registrering{AVIS}ummeret RU 91 240, blev brugt til at køre stjålne gulve og døre væk med. Vidner så en polsk indregistreret Passat på stedet, som det lykkedes politiet at opspore ejer...                                Stjal gulv og døre - Ringsted  2015-06-09T00:00:00                                                  https://sn.dk/Ringsted/Stjal-gulv-og-doere/artikel/1371  Rasmus Giese Jakobsen   169717534\n",
       "12492   828452  sn.dk  144 i timen på landevejen Sorø - 19. juli 2013 kl. 13:40 Af Rasmus Giese JakobsenSORØ: En bilist havde mere end almindeligt travlt i går på Sorøvej ved Dianalund. Politiet havde sin automatiske trafikkontrol stillet op og kameraet fangede en, der kørte hele 144 km/t på strækningen, hvor man kun må køre 80 km/t. Det koster en ubetinget frakendelse af kørekortet. Kontrollen stod på Sorøvej melle...                             144 i timen på landevejen - Sorø  2019-07-13T00:00:00                                            https://sn.dk/Soroe/144-i-timen-paa-landevejen/artikel/342057  Rasmus Giese Jakobsen   580636992\n",
       "12493   828449  sn.dk  Teatertrup har styr på hvert minut Sorø - 14. november 2012 kl. 11:45 Af Rasmus Giese Jakobsen SORØ: Hvert minut og hvert et trin er planlagt. Det kræver en stramt koordineret plan at invitere 80 mennesker til et juleshow, når skuespillerne både skal stå på scenen og servere karrysild og sylte til publikum. Det ved medlemmerne af teatertruppen Bravour alt om. Den 12. til 15. december opfører d...                    Teatertrup har styr på hvert minut - Sorø  2014-11-12T00:00:00                                   https://sn.dk/Soroe/Teatertrup-har-styr-paa-hvert-minut/artikel/237290  Rasmus Giese Jakobsen   126046121\n",
       "...        ...    ...                                                                                                                                                                                                                                                                                                                                                                                                              ...                                                          ...                  ...                                                                                                      ...                    ...         ...\n",
       "284688  610440  sn.dk  Hun er kendt for en lang række realityprogrammer som 'Divaer i junglen' og 'Paradise Hotel', men for 24-årige Nikita Klæstrup er det nu slut med at stå foran kameraet. Det fortalte hun, da Ekstra Bladet mødte hende til premieren på femte sæson af tv-serien C More-serien 'Peaky Blinders' i Empire Bio torsdag aften. - I kommer ikke til at se mig på tv, nej. Jeg kan meget bedre lide at være bag k...                                    Dropper tv: - Det er slut  2013-02-20T00:00:00           https://sn.dk/Taastrup/Elever-i-kaempe-projekt-Saadan-ser-vores-by-ud-om-40-aar/artikel/913666         Kasper Ellesøe  1909048407\n",
       "284689  610438  sn.dk  Det blev en dyr fornøjelse for en yngre mand fra Randers, da han trykkede speederen i bund og tonsede ud ad motorvejen ved Haderslev med 217 kilometer i timen. På vejen overhalede han nemlig en af politiets civile færdselspatruljer. Patruljen fik stoppet manden blot for at finde ud af, at han i forvejen havde et kørselsforbud. Det endte med at koste manden en bøde på 15.000 kroner samt en frak...  Mand får stor bøde: Kørte forbi politiet med 217 km i timen  2024-03-20T00:00:00                  https://sn.dk/Taastrup/Se-listen-Disse-forretninger-holder-stadig-aabent/artikel/925849         Kasper Ellesøe  1652252850\n",
       "284690  610437  sn.dk  Galop-sporten i Australien er netop nu i chok. På kun to dage har to unge kvinder mistet livet i forbindelse med ulykker, hvor de begge faldt af deres hest. Fredag morgen døde den kun 22-årige jockey Mikaela Claridge, da hun faldt af sin hest under en træningstur. 22-årig kvindelig jockey død: Faldt af hesten Men allerede dagen efter døde den 32-årige jockey Melanie Tyndall midt under et heste...              Endnu en kvindelig jockey død kun 32 år gammel   2007-05-20T00:00:00  https://sn.dk/Vestegnen/Mangler-du-noget-at-lave-Tag-paa-jagt-efter-kaemper-i-miniferien/artikel/939603         Kasper Ellesøe   250106722\n",
       "284691  610432  sn.dk  En mand er fredag formiddag blevet skudt i det centrale Stockholm. Politiet er på stedet og efterforsker sagen som drabsforsøg. Det oplyser svensk politi på dets hjemmeside. Politiet er massivt til stede i området og undersøger opgangen i Kungsholmen, hvor manden blev skudt. - Området er afspærret, og vi er i gang med de tekniske undersøgelser, skriver politiet. 'Hjælp mig' Flere svenske medie...                 Mand skudt i Sverige: - Hjælp mig, hjælp mig  2021-09-20T00:00:00           https://sn.dk/Taastrup/Blev-forelsket-i-kunstvaerk-Har-ramt-det-rigtige-udtryk/artikel/1358151         Kasper Ellesøe  -138788723\n",
       "284692  610429  sn.dk  Trav Spilforslag 190906 V4 Derby25 har sat din gevinstgaranti i V4-spillet om fredag op med 100.000 kroner. Det betyder, at den spiller, der rammer spillet som den eneste, og har spillet ved lige nøjagtigt den spiludbyder - er sikret en gevinst på 600.000 kroner.  Trav{AVIS}ak V4 Spillerne skal i øvrigt være opmærksom på, at mange af løbene er fra 1600 meter startmærket. Det betyder stor forde...                         Spilforslag: Dynamitfredag i Billund  2025-06-20T00:00:00             https://sn.dk/Taastrup/Asbjoern-og-Isabella-har-faaet-en-gave-fra-dronningen/artikel/1332566         Kasper Ellesøe  -320293926\n",
       "\n",
       "[5400 rows x 8 columns]"
      ]
     },
     "execution_count": 16,
     "metadata": {},
     "output_type": "execute_result"
    }
   ],
   "source": [
    "data[data.Domain=='sn.dk']"
   ]
  },
  {
   "cell_type": "code",
   "execution_count": 29,
   "metadata": {},
   "outputs": [
    {
     "data": {
      "text/plain": [
       "politiken.dk           64772\n",
       "ekstrabladet.dk        63545\n",
       "computerworld.dk       21427\n",
       "jv.dk                  11399\n",
       "berlingske.dk          11148\n",
       "jyllands-posten.dk      9875\n",
       "bold.dk                 7813\n",
       "dr.dk                   7485\n",
       "bt.dk                   6760\n",
       "stiften.dk              6137\n",
       "soundvenue.com          5971\n",
       "altinget.dk             5476\n",
       "sn.dk                   5400\n",
       "ing.dk                  5250\n",
       "gaffa.dk                5090\n",
       "tv2.dk                  4905\n",
       "finans.dk               4285\n",
       "version2.dk             3741\n",
       "journalisten.dk         3165\n",
       "information.dk          2947\n",
       "fyens.dk                2785\n",
       "nordjyske.dk            1823\n",
       "ekkofilm.dk             1660\n",
       "seoghoer.dk             1575\n",
       "tv2east.dk              1552\n",
       "billedbladet.dk         1501\n",
       "finanswatch.dk          1456\n",
       "fagbladet3f.dk          1419\n",
       "ejendomswatch.dk        1347\n",
       "borsen.dk               1339\n",
       "motormagasinet.dk       1328\n",
       "helsingordagblad.dk     1240\n",
       "fodevarewatch.dk        1138\n",
       "jiyan.dk                1065\n",
       "pov.international       1062\n",
       "samvirke.dk             1052\n",
       "Name: Domain, dtype: int64"
      ]
     },
     "execution_count": 29,
     "metadata": {},
     "output_type": "execute_result"
    }
   ],
   "source": [
    "data[data['Domain'].isin(domains1000_list)]['Domain'].value_counts()"
   ]
  },
  {
   "cell_type": "code",
   "execution_count": 44,
   "metadata": {},
   "outputs": [
    {
     "data": {
      "text/plain": [
       "9206      True\n",
       "9207      True\n",
       "9208     False\n",
       "9209      True\n",
       "9210      True\n",
       "         ...  \n",
       "53346    False\n",
       "53347     True\n",
       "53348     True\n",
       "53349     True\n",
       "58106     True\n",
       "Name: Body, Length: 5250, dtype: bool"
      ]
     },
     "execution_count": 44,
     "metadata": {},
     "output_type": "execute_result"
    }
   ],
   "source": [
    "data[data['Domain']=='ing.dk'].Body.str.contains('{AVIS}')"
   ]
  },
  {
   "cell_type": "code",
   "execution_count": 45,
   "metadata": {},
   "outputs": [
    {
     "data": {
      "text/plain": [
       "\"0 Fødevareminister Mette Gjerskov (S) forlænger nu fristen for at søge om ændr{AVIS}er i randzonerne fra 1. oktober til 1. november 2012. Forlængelsen sker efter ønske fra brancheorganisationen Landbrug og Fødevarer. »Randzonerne træder i kraft på lørdag. For mig er det vigtigt, at udruln{AVIS}en sker i god ro og orden. Det vil jeg gøre mit til,« siger Mette Gjerskov til EPN.dk og fortsætter: »Derfor har jeg valgt at imødekomme Landbrug og Fødevarers ønske om at give de landmænd, der bliver hårdt ramt, ekstra tid til at søge om dispensation.« Randzonerne er de dyrkn{AVIS}sfrie bræmmer på 10 meter langs vandløb, søer og kystnære farvande, der skal gøre Danmark i stand til at opfylde EU's krav til vandkvalitet. Loven, der træder i kraft i morgen, forbyder gødn{AVIS} og sprøjtegifte i randzonerne. Læs mere på EPN.dkmere om nyhedsbrevene her . {AVIS}eniøren daglige nyheder\""
      ]
     },
     "execution_count": 45,
     "metadata": {},
     "output_type": "execute_result"
    }
   ],
   "source": [
    "data.iloc[9206].Body"
   ]
  },
  {
   "cell_type": "code",
   "execution_count": 5,
   "metadata": {},
   "outputs": [
    {
     "data": {
      "application/vnd.jupyter.widget-view+json": {
       "model_id": "da606c15ab5a4c13aa9486f895389462",
       "version_major": 2,
       "version_minor": 0
      },
      "text/plain": [
       "  0%|          | 0/28 [00:00<?, ?it/s]"
      ]
     },
     "metadata": {},
     "output_type": "display_data"
    }
   ],
   "source": [
    "import os\n",
    "from tqdm.notebook import tqdm\n",
    "\n",
    "path = 'data/subset'\n",
    "files = os.listdir(path)\n",
    "dataframes = []\n",
    "for file in tqdm(files):\n",
    "    dataframes.append(pd.read_json(path+'/'+file))\n",
    "\n",
    "data = pd.concat(dataframes)\n",
    "del data['level_0']\n",
    "del data['index']\n",
    "pd.set_option('display.max_colwidth', 400)"
   ]
  },
  {
   "cell_type": "code",
   "execution_count": 10,
   "metadata": {},
   "outputs": [
    {
     "data": {
      "text/html": [
       "<div>\n",
       "<style scoped>\n",
       "    .dataframe tbody tr th:only-of-type {\n",
       "        vertical-align: middle;\n",
       "    }\n",
       "\n",
       "    .dataframe tbody tr th {\n",
       "        vertical-align: top;\n",
       "    }\n",
       "\n",
       "    .dataframe thead th {\n",
       "        text-align: right;\n",
       "    }\n",
       "</style>\n",
       "<table border=\"1\" class=\"dataframe\">\n",
       "  <thead>\n",
       "    <tr style=\"text-align: right;\">\n",
       "      <th></th>\n",
       "      <th>Id</th>\n",
       "      <th>Domain</th>\n",
       "      <th>Body</th>\n",
       "      <th>Header</th>\n",
       "      <th>PublicationDate</th>\n",
       "      <th>Uri</th>\n",
       "      <th>Byline</th>\n",
       "      <th>TextHash</th>\n",
       "    </tr>\n",
       "  </thead>\n",
       "  <tbody>\n",
       "    <tr>\n",
       "      <th>477</th>\n",
       "      <td>841843</td>\n",
       "      <td>ekstrabladet.dk</td>\n",
       "      <td>Håber turen bliver aflyst De tre piger er nået dertil, at de faktisk håber, at skolen vil aflyse turen. - Jeg tror, vi mest håber, at turen bliver aflyst. For så er det besluttet, at vi ikke kan komme afsted, siger Natasja Christensen. - Men hvorfor bliver I så ikke bare hjemme? - Det er jo fordi, det er vores studietur. Man er bange for at gå glip af det sociale. - Sammenholdet bliver jo styr...</td>\n",
       "      <td>Skal på studietur til Rom: Vi håber turen bliver aflyst – Ekstra Bladet</td>\n",
       "      <td>2027-02-20T00:00:00</td>\n",
       "      <td>https://ekstrabladet.dk/nyheder/samfund/skal-paa-studietur-til-rom-vi-haaber-turen-bliver-aflyst/8022035</td>\n",
       "      <td>Emma Busk</td>\n",
       "      <td>667492848</td>\n",
       "    </tr>\n",
       "    <tr>\n",
       "      <th>478</th>\n",
       "      <td>841842</td>\n",
       "      <td>ekstrabladet.dk</td>\n",
       "      <td>20. maj. 2020 kl. 20:52TV2-par: - Det var en kæmpe overraskelse Det var ægteparret Cassia og Charles, der løb med titlen som vindere af TV2-programmet 'Sommerdrømme' Det var to glade deltagere, der efter onsdagens finaleafsnit af 'Sommerdrømme' kunne fejre, at de nu er sommerhusejere. Foto: Jørn Deleuran/TV 2 Følger Film og tv Ups! Denne funktion kræver en gratis konto ... ... så vi kan gemme,...</td>\n",
       "      <td>TV2-par:Det var en kæmpe overraskelse – Ekstra Bladet</td>\n",
       "      <td>2020-05-20T00:00:00</td>\n",
       "      <td>https://ekstrabladet.dk/underholdning/filmogtv/tv2-par-det-var-en-kaempe-overraskelse/8127503</td>\n",
       "      <td>Emma Busk</td>\n",
       "      <td>662295962</td>\n",
       "    </tr>\n",
       "    <tr>\n",
       "      <th>479</th>\n",
       "      <td>841841</td>\n",
       "      <td>ekstrabladet.dk</td>\n",
       "      <td>4. nov. 2019 kl. 13:33Opret konto Log ind Dyr navneændring hos Klima-Dan: Rykker ét ord Det har kostet over 140.000 kroner at flytte rundt på ordene i det tidligere Energi-, Forsynings- og Klimaministerium, så ordet 'klima' nu er rykket forrest Ud over at ændre navne og logoer vil Klima-Dan reducere Danmarks CO2-udledning med 70 procent. Men kan det overhovedet lade sig gøre? Det spurgte Ekstr...</td>\n",
       "      <td>Dyr navneændring hos Klima-Dan: Rykker ét ord – Ekstra Bladet</td>\n",
       "      <td>2004-11-19T00:00:00</td>\n",
       "      <td>https://ekstrabladet.dk/nyheder/politik/danskpolitik/dyr-navneaendring-hos-klima-dan-rykker-et-ord/7860364</td>\n",
       "      <td>Emma Busk</td>\n",
       "      <td>-1847341560</td>\n",
       "    </tr>\n",
       "    <tr>\n",
       "      <th>480</th>\n",
       "      <td>841840</td>\n",
       "      <td>ekstrabladet.dk</td>\n",
       "      <td>Politiet i det sydlige Danmark har beslaglagt 31 kilo kokain i forbindelse med efterforskningen af en sag om narkosmugling. Det oplyser Syd- og Sønderjyllands Politi i en pressemeddelelse natten til tirsdag. En 34-årig udenlandsk mand er anholdt og varetægtsfængslet i sagen. - Det er sjældent, at vi kan beslaglægge så store mængder kokain på en gang. Der er tale om meget grov, organiseret krim...</td>\n",
       "      <td>Politiet beslaglægger 31 kilo kokain og anholder mistænkt – Ekstra Bladet</td>\n",
       "      <td>2003-03-20T00:00:00</td>\n",
       "      <td>https://ekstrabladet.dk/krimi/politiet-beslaglaegger-31-kilo-kokain-og-anholder-mistaenkt/8028749</td>\n",
       "      <td>Emma Busk</td>\n",
       "      <td>1621282620</td>\n",
       "    </tr>\n",
       "    <tr>\n",
       "      <th>481</th>\n",
       "      <td>841839</td>\n",
       "      <td>ekstrabladet.dk</td>\n",
       "      <td>Det skriver Se og Hør , som henviser til salgsopstillingen . Ifølge Tingbogen har ægteparret ejet den 172 kvadratmeter store lejlighed siden sommeren 2017. Dengang måtte de slippe 6.750.000 kroner for den eksklusive bolig, som ligger et stenkast fra Nyhavn. Dermed kan de altså - såfremt lejligheden sælges til prisen - hive en fortjeneste hjem på 3.245.000 kroner. Tina Bilsbo skriver på Instagr...</td>\n",
       "      <td>Vil score millioner – Ekstra Bladet</td>\n",
       "      <td>2018-02-21T00:00:00</td>\n",
       "      <td>https://ekstrabladet.dk/underholdning/dkkendte/vil-score-millioner/8477214</td>\n",
       "      <td>Emma Busk</td>\n",
       "      <td>1886323114</td>\n",
       "    </tr>\n",
       "    <tr>\n",
       "      <th>...</th>\n",
       "      <td>...</td>\n",
       "      <td>...</td>\n",
       "      <td>...</td>\n",
       "      <td>...</td>\n",
       "      <td>...</td>\n",
       "      <td>...</td>\n",
       "      <td>...</td>\n",
       "      <td>...</td>\n",
       "    </tr>\n",
       "    <tr>\n",
       "      <th>4190</th>\n",
       "      <td>471947</td>\n",
       "      <td>ekstrabladet.dk</td>\n",
       "      <td>Tre og fire stjerner er tilsyneladende ikke nok for, metal-drengene i Volbeat, der bestemt ikke er begejstrede over deres seneste anmeldelser i Ekstra Bladet\\nLÆS OGSÅ:Fallulah scorede 100.000 kroner til P3 Guld Et af aftenens mere bizarre optrin til dette års P3 Guld-uddeling i DR's Koncerthus stod Volbeat-forsangeren Michael Poulsen for, da han overraskende valgte at bruge sin takketid efter...</td>\n",
       "      <td>Volbeat svinede Ekstra Bladet</td>\n",
       "      <td>2014-01-11T00:00:00</td>\n",
       "      <td>https://ekstrabladet.dk/musik/dkmusiknyt/article4120617.ece</td>\n",
       "      <td>Rune Melchior Sjørvad</td>\n",
       "      <td>0</td>\n",
       "    </tr>\n",
       "    <tr>\n",
       "      <th>4222</th>\n",
       "      <td>471342</td>\n",
       "      <td>ekstrabladet.dk</td>\n",
       "      <td>Efter torsdagens kritiske Justin Bieber-anmeldelse har Ekstra Bladet været genstand for de såkaldte Beliebers' voldsomme raseri. Nu undskylder de krænkede fans truslerne\\nANMELDELSEN, DER STARTEDE BALLADEN:\\nJustin Bieber som steril børnelokker\\n\\nLÆS OGSÅ:\\nHestepiger truer Treo med lejemorder\\n\\nFans af det unge popidol Justin Bieber kalder sig selv Beliebers, og disse fans har vist sig at g...</td>\n",
       "      <td>Åbent brev fra Bieber-fans til Ekstra Bladet</td>\n",
       "      <td>2016-06-12T00:00:00</td>\n",
       "      <td>https://ekstrabladet.dk/musik/dkmusiknyt/article4026785.ece</td>\n",
       "      <td>Rune Melchior Sjørvad</td>\n",
       "      <td>0</td>\n",
       "    </tr>\n",
       "    <tr>\n",
       "      <th>5434</th>\n",
       "      <td>463065</td>\n",
       "      <td>bt.dk</td>\n",
       "      <td>Din adgangskode skal være min. 6 karakterer\\nMarkér venligst i ovenstående boks for at gå videre.\\nFortsæt\\nFortsæt\\nDin profil er oprettet\\nTak fordi du har oprettet en profil. Du er nu logget ind på {AVIS}. Vi har sendt dig en bekræftelse til .\\nLuk\\nVis mere\\nEkstra Bladet og TV 2 har onsdag indgået forlig i sagen om de meget omtalte TV 2-optagelser af den demente 90-årige Else.\\nTV 2 havde...</td>\n",
       "      <td>Ekstra Bladet indgår forlig med TV 2 efter voldsomme optagelser</td>\n",
       "      <td>2008-07-20T00:00:00</td>\n",
       "      <td>https://www.bt.dk/samfund/ekstra-bladet-indgaar-forlig-med-tv-2-efter-voldsomme-optagelser</td>\n",
       "      <td>Kicki Søs Bengtsen</td>\n",
       "      <td>0</td>\n",
       "    </tr>\n",
       "    <tr>\n",
       "      <th>6583</th>\n",
       "      <td>461506</td>\n",
       "      <td>berlingske.dk</td>\n",
       "      <td>\\n\\nFortsæt\\nFortsæt\\n\\nTak fordi du har oprettet en profil. Du er nu logget ind på {AVIS}. Vi har sendt dig en bekræftelse til .\\nLuk\\nAOK Abonnement\\n\\nMedieforsker Søren Schultz Jørgensen stiller spørgsmål ved, hvorfor Ekstra Bladet var nået så langt med historien om politisk ordfører Jesper Petersens forhold til en 15-årig for 19 år siden. Poul Madsen siger, at der er kriterier for, hvorfo...</td>\n",
       "      <td>Medieforsker med markant kritik af Ekstra Bladet: »Det kan ikke have taget mange timer at finde ud af de tre ting, der diskvalificerer den historie«</td>\n",
       "      <td>2023-10-20T00:00:00</td>\n",
       "      <td>https://www.berlingske.dk/aok/medieforsker-med-markant-kritik-af-ekstra-bladet-det-kan-ikke-have-taget-mange</td>\n",
       "      <td>Anne Sophia Hermansen</td>\n",
       "      <td>0</td>\n",
       "    </tr>\n",
       "    <tr>\n",
       "      <th>8842</th>\n",
       "      <td>458596</td>\n",
       "      <td>berlingske.dk</td>\n",
       "      <td>\\n\\nFortsæt\\nFortsæt\\n\\nTak fordi du har oprettet en profil. Du er nu logget ind på {AVIS}. Vi har sendt dig en bekræftelse til .\\nLuk\\n\\nEkstra Bladets kontroversielle journalist, Jan Kjærgaard, har netop meddelt, at han stopper på avisen.\\nFredag d. 23. november 2012, kl. 13.03fredag d. 23. november 2012, kl. 13.03\\nIngelise Skrydstrup\\nHan har valgt at offentliggøre meddelelsen på Facebook,...</td>\n",
       "      <td>Kontroversiel journalist stopper på Ekstra Bladet</td>\n",
       "      <td>2023-11-12T00:00:00</td>\n",
       "      <td>https://www.berlingske.dk/samfund/kontroversiel-journalist-stopper-paa-ekstra-bladet</td>\n",
       "      <td>Anne Sophia Hermansen</td>\n",
       "      <td>0</td>\n",
       "    </tr>\n",
       "  </tbody>\n",
       "</table>\n",
       "<p>6562 rows × 8 columns</p>\n",
       "</div>"
      ],
      "text/plain": [
       "          Id           Domain  \\\n",
       "477   841843  ekstrabladet.dk   \n",
       "478   841842  ekstrabladet.dk   \n",
       "479   841841  ekstrabladet.dk   \n",
       "480   841840  ekstrabladet.dk   \n",
       "481   841839  ekstrabladet.dk   \n",
       "...      ...              ...   \n",
       "4190  471947  ekstrabladet.dk   \n",
       "4222  471342  ekstrabladet.dk   \n",
       "5434  463065            bt.dk   \n",
       "6583  461506    berlingske.dk   \n",
       "8842  458596    berlingske.dk   \n",
       "\n",
       "                                                                                                                                                                                                                                                                                                                                                                                                                 Body  \\\n",
       "477   Håber turen bliver aflyst De tre piger er nået dertil, at de faktisk håber, at skolen vil aflyse turen. - Jeg tror, vi mest håber, at turen bliver aflyst. For så er det besluttet, at vi ikke kan komme afsted, siger Natasja Christensen. - Men hvorfor bliver I så ikke bare hjemme? - Det er jo fordi, det er vores studietur. Man er bange for at gå glip af det sociale. - Sammenholdet bliver jo styr...   \n",
       "478   20. maj. 2020 kl. 20:52TV2-par: - Det var en kæmpe overraskelse Det var ægteparret Cassia og Charles, der løb med titlen som vindere af TV2-programmet 'Sommerdrømme' Det var to glade deltagere, der efter onsdagens finaleafsnit af 'Sommerdrømme' kunne fejre, at de nu er sommerhusejere. Foto: Jørn Deleuran/TV 2 Følger Film og tv Ups! Denne funktion kræver en gratis konto ... ... så vi kan gemme,...   \n",
       "479   4. nov. 2019 kl. 13:33Opret konto Log ind Dyr navneændring hos Klima-Dan: Rykker ét ord Det har kostet over 140.000 kroner at flytte rundt på ordene i det tidligere Energi-, Forsynings- og Klimaministerium, så ordet 'klima' nu er rykket forrest Ud over at ændre navne og logoer vil Klima-Dan reducere Danmarks CO2-udledning med 70 procent. Men kan det overhovedet lade sig gøre? Det spurgte Ekstr...   \n",
       "480   Politiet i det sydlige Danmark har beslaglagt 31 kilo kokain i forbindelse med efterforskningen af en sag om narkosmugling. Det oplyser Syd- og Sønderjyllands Politi i en pressemeddelelse natten til tirsdag. En 34-årig udenlandsk mand er anholdt og varetægtsfængslet i sagen. - Det er sjældent, at vi kan beslaglægge så store mængder kokain på en gang. Der er tale om meget grov, organiseret krim...   \n",
       "481   Det skriver Se og Hør , som henviser til salgsopstillingen . Ifølge Tingbogen har ægteparret ejet den 172 kvadratmeter store lejlighed siden sommeren 2017. Dengang måtte de slippe 6.750.000 kroner for den eksklusive bolig, som ligger et stenkast fra Nyhavn. Dermed kan de altså - såfremt lejligheden sælges til prisen - hive en fortjeneste hjem på 3.245.000 kroner. Tina Bilsbo skriver på Instagr...   \n",
       "...                                                                                                                                                                                                                                                                                                                                                                                                               ...   \n",
       "4190  Tre og fire stjerner er tilsyneladende ikke nok for, metal-drengene i Volbeat, der bestemt ikke er begejstrede over deres seneste anmeldelser i Ekstra Bladet\\nLÆS OGSÅ:Fallulah scorede 100.000 kroner til P3 Guld Et af aftenens mere bizarre optrin til dette års P3 Guld-uddeling i DR's Koncerthus stod Volbeat-forsangeren Michael Poulsen for, da han overraskende valgte at bruge sin takketid efter...   \n",
       "4222  Efter torsdagens kritiske Justin Bieber-anmeldelse har Ekstra Bladet været genstand for de såkaldte Beliebers' voldsomme raseri. Nu undskylder de krænkede fans truslerne\\nANMELDELSEN, DER STARTEDE BALLADEN:\\nJustin Bieber som steril børnelokker\\n\\nLÆS OGSÅ:\\nHestepiger truer Treo med lejemorder\\n\\nFans af det unge popidol Justin Bieber kalder sig selv Beliebers, og disse fans har vist sig at g...   \n",
       "5434  Din adgangskode skal være min. 6 karakterer\\nMarkér venligst i ovenstående boks for at gå videre.\\nFortsæt\\nFortsæt\\nDin profil er oprettet\\nTak fordi du har oprettet en profil. Du er nu logget ind på {AVIS}. Vi har sendt dig en bekræftelse til .\\nLuk\\nVis mere\\nEkstra Bladet og TV 2 har onsdag indgået forlig i sagen om de meget omtalte TV 2-optagelser af den demente 90-årige Else.\\nTV 2 havde...   \n",
       "6583  \\n\\nFortsæt\\nFortsæt\\n\\nTak fordi du har oprettet en profil. Du er nu logget ind på {AVIS}. Vi har sendt dig en bekræftelse til .\\nLuk\\nAOK Abonnement\\n\\nMedieforsker Søren Schultz Jørgensen stiller spørgsmål ved, hvorfor Ekstra Bladet var nået så langt med historien om politisk ordfører Jesper Petersens forhold til en 15-årig for 19 år siden. Poul Madsen siger, at der er kriterier for, hvorfo...   \n",
       "8842  \\n\\nFortsæt\\nFortsæt\\n\\nTak fordi du har oprettet en profil. Du er nu logget ind på {AVIS}. Vi har sendt dig en bekræftelse til .\\nLuk\\n\\nEkstra Bladets kontroversielle journalist, Jan Kjærgaard, har netop meddelt, at han stopper på avisen.\\nFredag d. 23. november 2012, kl. 13.03fredag d. 23. november 2012, kl. 13.03\\nIngelise Skrydstrup\\nHan har valgt at offentliggøre meddelelsen på Facebook,...   \n",
       "\n",
       "                                                                                                                                                    Header  \\\n",
       "477                                                                                Skal på studietur til Rom: Vi håber turen bliver aflyst – Ekstra Bladet   \n",
       "478                                                                                                  TV2-par:Det var en kæmpe overraskelse – Ekstra Bladet   \n",
       "479                                                                                          Dyr navneændring hos Klima-Dan: Rykker ét ord – Ekstra Bladet   \n",
       "480                                                                              Politiet beslaglægger 31 kilo kokain og anholder mistænkt – Ekstra Bladet   \n",
       "481                                                                                                                    Vil score millioner – Ekstra Bladet   \n",
       "...                                                                                                                                                    ...   \n",
       "4190                                                                                                                         Volbeat svinede Ekstra Bladet   \n",
       "4222                                                                                                          Åbent brev fra Bieber-fans til Ekstra Bladet   \n",
       "5434                                                                                       Ekstra Bladet indgår forlig med TV 2 efter voldsomme optagelser   \n",
       "6583  Medieforsker med markant kritik af Ekstra Bladet: »Det kan ikke have taget mange timer at finde ud af de tre ting, der diskvalificerer den historie«   \n",
       "8842                                                                                                     Kontroversiel journalist stopper på Ekstra Bladet   \n",
       "\n",
       "          PublicationDate  \\\n",
       "477   2027-02-20T00:00:00   \n",
       "478   2020-05-20T00:00:00   \n",
       "479   2004-11-19T00:00:00   \n",
       "480   2003-03-20T00:00:00   \n",
       "481   2018-02-21T00:00:00   \n",
       "...                   ...   \n",
       "4190  2014-01-11T00:00:00   \n",
       "4222  2016-06-12T00:00:00   \n",
       "5434  2008-07-20T00:00:00   \n",
       "6583  2023-10-20T00:00:00   \n",
       "8842  2023-11-12T00:00:00   \n",
       "\n",
       "                                                                                                               Uri  \\\n",
       "477       https://ekstrabladet.dk/nyheder/samfund/skal-paa-studietur-til-rom-vi-haaber-turen-bliver-aflyst/8022035   \n",
       "478                  https://ekstrabladet.dk/underholdning/filmogtv/tv2-par-det-var-en-kaempe-overraskelse/8127503   \n",
       "479     https://ekstrabladet.dk/nyheder/politik/danskpolitik/dyr-navneaendring-hos-klima-dan-rykker-et-ord/7860364   \n",
       "480              https://ekstrabladet.dk/krimi/politiet-beslaglaegger-31-kilo-kokain-og-anholder-mistaenkt/8028749   \n",
       "481                                     https://ekstrabladet.dk/underholdning/dkkendte/vil-score-millioner/8477214   \n",
       "...                                                                                                            ...   \n",
       "4190                                                   https://ekstrabladet.dk/musik/dkmusiknyt/article4120617.ece   \n",
       "4222                                                   https://ekstrabladet.dk/musik/dkmusiknyt/article4026785.ece   \n",
       "5434                    https://www.bt.dk/samfund/ekstra-bladet-indgaar-forlig-med-tv-2-efter-voldsomme-optagelser   \n",
       "6583  https://www.berlingske.dk/aok/medieforsker-med-markant-kritik-af-ekstra-bladet-det-kan-ikke-have-taget-mange   \n",
       "8842                          https://www.berlingske.dk/samfund/kontroversiel-journalist-stopper-paa-ekstra-bladet   \n",
       "\n",
       "                     Byline    TextHash  \n",
       "477               Emma Busk   667492848  \n",
       "478               Emma Busk   662295962  \n",
       "479               Emma Busk -1847341560  \n",
       "480               Emma Busk  1621282620  \n",
       "481               Emma Busk  1886323114  \n",
       "...                     ...         ...  \n",
       "4190  Rune Melchior Sjørvad           0  \n",
       "4222  Rune Melchior Sjørvad           0  \n",
       "5434     Kicki Søs Bengtsen           0  \n",
       "6583  Anne Sophia Hermansen           0  \n",
       "8842  Anne Sophia Hermansen           0  \n",
       "\n",
       "[6562 rows x 8 columns]"
      ]
     },
     "execution_count": 10,
     "metadata": {},
     "output_type": "execute_result"
    }
   ],
   "source": [
    "data[data.Header.str.contains('Ekstra Bladet')]"
   ]
  },
  {
   "cell_type": "code",
   "execution_count": null,
   "metadata": {},
   "outputs": [],
   "source": []
  }
 ],
 "metadata": {
  "kernelspec": {
   "display_name": "Python 3 (ipykernel)",
   "language": "python",
   "name": "python3"
  },
  "language_info": {
   "codemirror_mode": {
    "name": "ipython",
    "version": 3
   },
   "file_extension": ".py",
   "mimetype": "text/x-python",
   "name": "python",
   "nbconvert_exporter": "python",
   "pygments_lexer": "ipython3",
   "version": "3.7.4"
  }
 },
 "nbformat": 4,
 "nbformat_minor": 4
}
