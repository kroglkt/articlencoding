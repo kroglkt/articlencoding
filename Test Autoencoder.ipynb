{
 "cells": [
  {
   "cell_type": "code",
   "execution_count": null,
   "metadata": {},
   "outputs": [],
   "source": [
    "import numpy as np\n",
    "import pandas as pd\n",
    "# from keras.preprocessing.text import Tokenizer\n",
    "# from keras.preprocessing.sequence import pad_sequences\n",
    "# from keras.layers import Input, Embedding, Bidirectional, LSTM, GlobalMaxPooling1D, Dense\n",
    "# from keras import regularizers\n",
    "# from keras.models import Model\n",
    "# from keras.utils import to_categorical\n",
    "\n",
    "with open('data/additional/preprocessed_data.json') as f:\n",
    "    data = pd.read_json(f)"
   ]
  },
  {
   "cell_type": "code",
   "execution_count": null,
   "metadata": {},
   "outputs": [],
   "source": [
    "headers = list(data.Header)\n",
    "train = headers[:5000]\n",
    "test = headers[-500:]\n",
    "del data\n",
    "\n",
    "tokenizer = Tokenizer()\n",
    "tokenizer.fit_on_texts(train)"
   ]
  },
  {
   "cell_type": "code",
   "execution_count": 3,
   "metadata": {},
   "outputs": [
    {
     "name": "stdout",
     "output_type": "stream",
     "text": [
      "Vocab size: 10120\n",
      "Max lenght: 34\n"
     ]
    }
   ],
   "source": [
    "MAX_LEN = max(len(line.split()) for line in train)\n",
    "VOCAB_SIZE = len(tokenizer.word_index)+1\n",
    "print(\"Vocab size:\", VOCAB_SIZE)\n",
    "print(\"Max lenght:\", MAX_LEN)"
   ]
  },
  {
   "cell_type": "code",
   "execution_count": 4,
   "metadata": {},
   "outputs": [],
   "source": [
    "def encode_sequences(tokenizer, length, lines):\n",
    "    X = tokenizer.texts_to_sequences(lines)\n",
    "    X = pad_sequences(X, maxlen=length, padding='post')\n",
    "    return X\n",
    "\n",
    "def encode_output(sequences, vocab_size):\n",
    "    ylist = []\n",
    "    for sequence in sequences:\n",
    "        encoded = to_categorical(sequence, num_classes=vocab_size)\n",
    "        ylist.append(encoded)\n",
    "    y = np.array(ylist)\n",
    "    y = y.reshape(sequences.shape[0], sequences.shape[1], vocab_size)\n",
    "    return y"
   ]
  },
  {
   "cell_type": "code",
   "execution_count": 5,
   "metadata": {},
   "outputs": [],
   "source": [
    "from keras.models import Sequential\n",
    "from keras.layers import RepeatVector, TimeDistributed\n",
    "def define_model(vocab_size, timesteps, n_units):\n",
    "    model = Sequential()\n",
    "    model.add(Embedding(vocab_size, n_units, input_length=timesteps, mask_zero=True))\n",
    "    model.add(LSTM(n_units))\n",
    "    model.add(RepeatVector(timesteps))\n",
    "    model.add(LSTM(n_units, return_sequences=True))\n",
    "    model.add(TimeDistributed(Dense(vocab_size, activation='softmax')))\n",
    "    return model"
   ]
  },
  {
   "cell_type": "code",
   "execution_count": 6,
   "metadata": {},
   "outputs": [
    {
     "name": "stdout",
     "output_type": "stream",
     "text": [
      "Epoch 1/30\n",
      "157/157 [==============================] - 69s 439ms/step - loss: 3.3589 - val_loss: 2.0643\n",
      "Epoch 2/30\n",
      "157/157 [==============================] - 68s 431ms/step - loss: 2.1422 - val_loss: 1.9383\n",
      "Epoch 3/30\n",
      "157/157 [==============================] - 67s 429ms/step - loss: 2.0087 - val_loss: 1.8829\n",
      "Epoch 4/30\n",
      "157/157 [==============================] - 68s 435ms/step - loss: 1.9626 - val_loss: 1.8718\n",
      "Epoch 5/30\n",
      "157/157 [==============================] - 68s 433ms/step - loss: 1.9012 - val_loss: 1.8512\n",
      "Epoch 6/30\n",
      "157/157 [==============================] - 68s 434ms/step - loss: 1.8542 - val_loss: 1.8335\n",
      "Epoch 7/30\n",
      "157/157 [==============================] - 67s 429ms/step - loss: 1.8278 - val_loss: 1.8276\n",
      "Epoch 8/30\n",
      "157/157 [==============================] - 70s 443ms/step - loss: 1.7998 - val_loss: 1.8248\n",
      "Epoch 9/30\n",
      "157/157 [==============================] - 68s 430ms/step - loss: 1.7752 - val_loss: 1.8323\n",
      "Epoch 10/30\n",
      "157/157 [==============================] - 75s 477ms/step - loss: 1.7500 - val_loss: 1.9389\n",
      "Epoch 11/30\n",
      "157/157 [==============================] - 71s 454ms/step - loss: 1.7363 - val_loss: 1.8285\n",
      "Epoch 12/30\n",
      "157/157 [==============================] - 68s 431ms/step - loss: 1.7134 - val_loss: 1.8357\n",
      "Epoch 13/30\n",
      "157/157 [==============================] - 71s 453ms/step - loss: 1.6968 - val_loss: 1.8635\n",
      "Epoch 14/30\n",
      "157/157 [==============================] - 70s 448ms/step - loss: 1.6783 - val_loss: 1.8619\n",
      "Epoch 15/30\n",
      "157/157 [==============================] - 83s 528ms/step - loss: 1.6625 - val_loss: 1.8548\n",
      "Epoch 16/30\n",
      "157/157 [==============================] - 79s 503ms/step - loss: 1.6440 - val_loss: 1.8587\n",
      "Epoch 17/30\n",
      "157/157 [==============================] - 80s 507ms/step - loss: 1.6411 - val_loss: 1.8813\n",
      "Epoch 18/30\n",
      "157/157 [==============================] - 69s 441ms/step - loss: 1.6179 - val_loss: 1.8852\n",
      "Epoch 19/30\n",
      "157/157 [==============================] - 68s 433ms/step - loss: 1.6149 - val_loss: 1.8842\n",
      "Epoch 20/30\n",
      "157/157 [==============================] - 68s 431ms/step - loss: 1.5880 - val_loss: 1.8829\n",
      "Epoch 21/30\n",
      "157/157 [==============================] - 68s 432ms/step - loss: 1.5861 - val_loss: 1.8967\n",
      "Epoch 22/30\n",
      "157/157 [==============================] - 69s 440ms/step - loss: 1.5609 - val_loss: 1.9018\n",
      "Epoch 23/30\n",
      "157/157 [==============================] - 68s 432ms/step - loss: 1.5520 - val_loss: 1.9697\n",
      "Epoch 24/30\n",
      "157/157 [==============================] - 67s 429ms/step - loss: 1.5479 - val_loss: 1.9123\n",
      "Epoch 25/30\n",
      "157/157 [==============================] - 68s 430ms/step - loss: 1.5280 - val_loss: 1.9304\n",
      "Epoch 26/30\n",
      "157/157 [==============================] - 68s 432ms/step - loss: 1.5102 - val_loss: 1.9334\n",
      "Epoch 27/30\n",
      "157/157 [==============================] - 67s 429ms/step - loss: 1.5099 - val_loss: 1.9282\n",
      "Epoch 28/30\n",
      "157/157 [==============================] - 67s 429ms/step - loss: 1.4876 - val_loss: 1.9315\n",
      "Epoch 29/30\n",
      "157/157 [==============================] - 67s 430ms/step - loss: 1.4684 - val_loss: 1.9418\n",
      "Epoch 30/30\n",
      "157/157 [==============================] - 69s 442ms/step - loss: 1.4679 - val_loss: 1.9483\n"
     ]
    },
    {
     "data": {
      "text/plain": [
       "<tensorflow.python.keras.callbacks.History at 0x1a671daef88>"
      ]
     },
     "execution_count": 6,
     "metadata": {},
     "output_type": "execute_result"
    }
   ],
   "source": [
    "trainX = encode_sequences(tokenizer, MAX_LEN, train)\n",
    "trainY = encode_output(trainX, VOCAB_SIZE)\n",
    "\n",
    "testX = encode_sequences(tokenizer, MAX_LEN, test)\n",
    "testY = encode_output(testX, VOCAB_SIZE)\n",
    "\n",
    "model = define_model(VOCAB_SIZE, MAX_LEN, 128)\n",
    "model.compile(optimizer='adam', loss='categorical_crossentropy')\n",
    "model.fit(trainX, trainY, epochs=30, validation_data=(testX,testY))"
   ]
  },
  {
   "cell_type": "code",
   "execution_count": 10,
   "metadata": {},
   "outputs": [],
   "source": [
    "def word_for_id(integer, tokenizer):\n",
    "    for word, i in tokenizer.word_index.items():\n",
    "        if i == integer:\n",
    "            return word\n",
    "    return None\n",
    "\n",
    "def predict_sequence(model, tokenizer, source, i):\n",
    "    prediction = model.predict(source, verbose=0)[i]\n",
    "    integers = [np.argmax(vector) for vector in prediction]\n",
    "    target = []\n",
    "    for i in integers:\n",
    "        word = word_for_id(i, tokenizer)\n",
    "        if word is None:\n",
    "            break\n",
    "        target.append(word)\n",
    "    return ' '.join(target)"
   ]
  },
  {
   "cell_type": "code",
   "execution_count": 35,
   "metadata": {
    "scrolled": true
   },
   "outputs": [
    {
     "data": {
      "text/plain": [
       "(array([  32, 1409, 2042,   67,   43,   41,   32, 8895,    9,   14, 6450,\n",
       "          65,  247,    0,    0,    0,    0,    0,    0,    0,    0,    0,\n",
       "           0,    0,    0,    0,    0,    0,    0,    0,    0,    0,    0,\n",
       "           0]),\n",
       " array([[0., 0., 0., ..., 0., 0., 0.],\n",
       "        [0., 0., 0., ..., 0., 0., 0.],\n",
       "        [0., 0., 0., ..., 0., 0., 0.],\n",
       "        ...,\n",
       "        [1., 0., 0., ..., 0., 0., 0.],\n",
       "        [1., 0., 0., ..., 0., 0., 0.],\n",
       "        [1., 0., 0., ..., 0., 0., 0.]], dtype=float32))"
      ]
     },
     "execution_count": 35,
     "metadata": {},
     "output_type": "execute_result"
    }
   ],
   "source": [
    "#predict_sequence(model, tokenizer, trainX, 1)\n",
    "integers = None\n",
    "testX[0], testY[0]"
   ]
  },
  {
   "cell_type": "code",
   "execution_count": 46,
   "metadata": {},
   "outputs": [
    {
     "name": "stdout",
     "output_type": "stream",
     "text": [
      "[38, 12, 5, 5, 9, 9, 14, 8, 8, 8, 12, 12, 11, 0, 0, 0, 0, 0, 0, 0, 0, 0, 0, 0, 0, 0, 0, 0, 0, 0, 0, 0, 0, 0]\n"
     ]
    },
    {
     "data": {
      "text/plain": [
       "['ny',\n",
       " 'og',\n",
       " 'i',\n",
       " 'i',\n",
       " 'til',\n",
       " 'til',\n",
       " 'at',\n",
       " 'på',\n",
       " 'på',\n",
       " 'på',\n",
       " 'og',\n",
       " 'og',\n",
       " '3f',\n",
       " None,\n",
       " None,\n",
       " None,\n",
       " None,\n",
       " None,\n",
       " None,\n",
       " None,\n",
       " None,\n",
       " None,\n",
       " None,\n",
       " None,\n",
       " None,\n",
       " None,\n",
       " None,\n",
       " None,\n",
       " None,\n",
       " None,\n",
       " None,\n",
       " None,\n",
       " None,\n",
       " None]"
      ]
     },
     "execution_count": 46,
     "metadata": {},
     "output_type": "execute_result"
    }
   ],
   "source": [
    "preds = model.predict(testX)\n",
    "integers = [np.argmax(v) for v in preds[0]]\n",
    "print(integers)\n",
    "[word_for_id(i, tokenizer) for i in integers]"
   ]
  },
  {
   "cell_type": "code",
   "execution_count": 45,
   "metadata": {},
   "outputs": [
    {
     "name": "stdout",
     "output_type": "stream",
     "text": [
      "[32, 1409, 2042, 67, 43, 41, 32, 8895, 9, 14, 6450, 65, 247, 0, 0, 0, 0, 0, 0, 0, 0, 0, 0, 0, 0, 0, 0, 0, 0, 0, 0, 0, 0, 0]\n"
     ]
    },
    {
     "data": {
      "text/plain": [
       "['de',\n",
       " 'kalder',\n",
       " 'ham',\n",
       " 'se',\n",
       " 'der',\n",
       " 'får',\n",
       " 'de',\n",
       " 'professionelle',\n",
       " 'til',\n",
       " 'at',\n",
       " 'måbe',\n",
       " 'tv',\n",
       " '2',\n",
       " None,\n",
       " None,\n",
       " None,\n",
       " None,\n",
       " None,\n",
       " None,\n",
       " None,\n",
       " None,\n",
       " None,\n",
       " None,\n",
       " None,\n",
       " None,\n",
       " None,\n",
       " None,\n",
       " None,\n",
       " None,\n",
       " None,\n",
       " None,\n",
       " None,\n",
       " None,\n",
       " None]"
      ]
     },
     "execution_count": 45,
     "metadata": {},
     "output_type": "execute_result"
    }
   ],
   "source": [
    "integers = [np.argmax(v) for v in testY[0]]\n",
    "print(integers)\n",
    "[word_for_id(i, tokenizer) for i in integers]"
   ]
  },
  {
   "cell_type": "code",
   "execution_count": 19,
   "metadata": {},
   "outputs": [
    {
     "data": {
      "text/plain": [
       "[2321,\n",
       " 2322,\n",
       " 3810,\n",
       " 76,\n",
       " 19,\n",
       " 708,\n",
       " 3811,\n",
       " 611,\n",
       " 364,\n",
       " 19,\n",
       " 3812,\n",
       " 1,\n",
       " 6,\n",
       " 0,\n",
       " 0,\n",
       " 0,\n",
       " 0,\n",
       " 0,\n",
       " 0,\n",
       " 0,\n",
       " 0,\n",
       " 0,\n",
       " 0,\n",
       " 0,\n",
       " 0,\n",
       " 0,\n",
       " 0,\n",
       " 0,\n",
       " 0,\n",
       " 0,\n",
       " 0,\n",
       " 0,\n",
       " 0,\n",
       " 0]"
      ]
     },
     "execution_count": 19,
     "metadata": {},
     "output_type": "execute_result"
    }
   ],
   "source": [
    "integers"
   ]
  },
  {
   "cell_type": "code",
   "execution_count": 37,
   "metadata": {},
   "outputs": [],
   "source": [
    "with open('headers.txt', 'w', encoding='utf-8') as f:\n",
    "    strheaders = [x.replace('\\n','') for x in headers if len(x)>10]\n",
    "    strheaders = [x.replace('\\t','') for x in strheaders]\n",
    "    strheaders = '\\n'.join(strheaders)\n",
    "    f.write(strheaders)"
   ]
  },
  {
   "cell_type": "code",
   "execution_count": 17,
   "metadata": {},
   "outputs": [
    {
     "name": "stdout",
     "output_type": "stream",
     "text": [
      "308119\n",
      "308119\n"
     ]
    },
    {
     "data": {
      "text/plain": [
       "38461"
      ]
     },
     "execution_count": 17,
     "metadata": {},
     "output_type": "execute_result"
    }
   ],
   "source": [
    "strheaders = [x.replace('\\n','') for x in headers if len(x)>10]\n",
    "print(len(strheaders))\n",
    "strheaders = '\\n'.join(strheaders)\n",
    "\n",
    "strheaders = strheaders.split('\\n')\n",
    "print(len(strheaders))\n",
    "np.argmin([len(x) for x in strheaders])"
   ]
  },
  {
   "cell_type": "code",
   "execution_count": 21,
   "metadata": {},
   "outputs": [],
   "source": [
    "with open('headers.txt', 'w', encoding='utf-8') as f:\n",
    "    f.write('\\n'.join(strheaders))"
   ]
  },
  {
   "cell_type": "code",
   "execution_count": 87,
   "metadata": {},
   "outputs": [
    {
     "data": {
      "text/plain": [
       "38461"
      ]
     },
     "execution_count": 87,
     "metadata": {},
     "output_type": "execute_result"
    }
   ],
   "source": [
    "np.argmin([len(x) for x in splt])"
   ]
  },
  {
   "cell_type": "code",
   "execution_count": 15,
   "metadata": {},
   "outputs": [
    {
     "data": {
      "text/plain": [
       "[]"
      ]
     },
     "execution_count": 15,
     "metadata": {},
     "output_type": "execute_result"
    }
   ],
   "source": [
    "[x for x in strheaders if '\\\\' in x]"
   ]
  },
  {
   "cell_type": "code",
   "execution_count": 88,
   "metadata": {},
   "outputs": [
    {
     "data": {
      "text/plain": [
       "'Lukket fest'"
      ]
     },
     "execution_count": 88,
     "metadata": {},
     "output_type": "execute_result"
    }
   ],
   "source": [
    "splt[38461]"
   ]
  },
  {
   "cell_type": "code",
   "execution_count": 38,
   "metadata": {},
   "outputs": [],
   "source": [
    "with open('headers.txt', 'r', encoding='utf-8') as f:\n",
    "    h = f.read()"
   ]
  },
  {
   "cell_type": "code",
   "execution_count": 39,
   "metadata": {},
   "outputs": [],
   "source": [
    "h = headers.split('\\n')"
   ]
  },
  {
   "cell_type": "code",
   "execution_count": 40,
   "metadata": {},
   "outputs": [
    {
     "data": {
      "text/plain": [
       "0"
      ]
     },
     "execution_count": 40,
     "metadata": {},
     "output_type": "execute_result"
    }
   ],
   "source": [
    "np.argmin([len(x) for x in h])"
   ]
  },
  {
   "cell_type": "code",
   "execution_count": 43,
   "metadata": {},
   "outputs": [
    {
     "ename": "IndexError",
     "evalue": "list index out of range",
     "output_type": "error",
     "traceback": [
      "\u001b[1;31m---------------------------------------------------------------------------\u001b[0m",
      "\u001b[1;31mIndexError\u001b[0m                                Traceback (most recent call last)",
      "\u001b[1;32m<ipython-input-43-b199d81c457f>\u001b[0m in \u001b[0;36m<module>\u001b[1;34m\u001b[0m\n\u001b[1;32m----> 1\u001b[1;33m \u001b[0mh\u001b[0m\u001b[1;33m[\u001b[0m\u001b[1;36m1\u001b[0m\u001b[1;33m]\u001b[0m\u001b[1;33m\u001b[0m\u001b[1;33m\u001b[0m\u001b[0m\n\u001b[0m",
      "\u001b[1;31mIndexError\u001b[0m: list index out of range"
     ]
    }
   ],
   "source": [
    "headers"
   ]
  },
  {
   "cell_type": "code",
   "execution_count": null,
   "metadata": {},
   "outputs": [],
   "source": []
  }
 ],
 "metadata": {
  "kernelspec": {
   "display_name": "Python 3",
   "language": "python",
   "name": "python3"
  },
  "language_info": {
   "codemirror_mode": {
    "name": "ipython",
    "version": 3
   },
   "file_extension": ".py",
   "mimetype": "text/x-python",
   "name": "python",
   "nbconvert_exporter": "python",
   "pygments_lexer": "ipython3",
   "version": "3.7.4"
  }
 },
 "nbformat": 4,
 "nbformat_minor": 4
}
