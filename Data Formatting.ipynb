{
 "cells": [
  {
   "cell_type": "markdown",
   "metadata": {},
   "source": [
    "## Formatting the data\n",
    "The data available is not perfect. Some articles have missing information. Such texts will be filtered out - The data will be loaded from a JSON and converted to a Pandas dataframe. \n",
    "\n",
    "The necessary features are: __Domain, Body, Header__ and __Byline__. URI is nice to have, but not necessary.\n",
    "\n",
    "Author: lkt259@alumni.ku.dk"
   ]
  },
  {
   "cell_type": "code",
   "execution_count": 1,
   "metadata": {},
   "outputs": [],
   "source": [
    "import numpy as np\n",
    "import pandas as pd\n",
    "import os, re\n",
    "from tqdm.notebook import tqdm\n",
    "from matplotlib import pyplot as plt\n",
    "from scipy.stats.stats import pearsonr\n",
    "import requests\n",
    "from bs4 import BeautifulSoup\n",
    "plt.style.use('seaborn')"
   ]
  },
  {
   "cell_type": "code",
   "execution_count": 2,
   "metadata": {},
   "outputs": [
    {
     "data": {
      "text/html": [
       "<div>\n",
       "<style scoped>\n",
       "    .dataframe tbody tr th:only-of-type {\n",
       "        vertical-align: middle;\n",
       "    }\n",
       "\n",
       "    .dataframe tbody tr th {\n",
       "        vertical-align: top;\n",
       "    }\n",
       "\n",
       "    .dataframe thead th {\n",
       "        text-align: right;\n",
       "    }\n",
       "</style>\n",
       "<table border=\"1\" class=\"dataframe\">\n",
       "  <thead>\n",
       "    <tr style=\"text-align: right;\">\n",
       "      <th></th>\n",
       "      <th>Id</th>\n",
       "      <th>Domain</th>\n",
       "      <th>Body</th>\n",
       "      <th>Header</th>\n",
       "      <th>PublicationDate</th>\n",
       "      <th>Uri</th>\n",
       "      <th>Byline</th>\n",
       "      <th>TextHash</th>\n",
       "    </tr>\n",
       "  </thead>\n",
       "  <tbody>\n",
       "    <tr>\n",
       "      <th>0</th>\n",
       "      <td>842325</td>\n",
       "      <td>politiken.dk</td>\n",
       "      <td>Læs artiklen senere Gemt (klik for at fjerne) Læst Giv artiklen videre Som abonnent kan du ubegrænset dele artikler med dine venner og familie. Læs mere om fordelene ved et abonnement her . FOR ABONNENTER »Der var ov...</td>\n",
       "      <td>Utilfreds passager: »Prøv selv en tur klokken 7.30 en hverdagsmorgen« - politiken.dk</td>\n",
       "      <td>2002-09-17T00:00:00</td>\n",
       "      <td>https://politiken.dk/forbrugogliv/art6088327/Utilfreds-passager-%C2%BBPr%C3%B8v-selv-en-tur-klokken-7.30-en-hverdagsmorgen%C2%AB</td>\n",
       "      <td>Annemette Grundtvig</td>\n",
       "      <td>-346867430</td>\n",
       "    </tr>\n",
       "    <tr>\n",
       "      <th>1</th>\n",
       "      <td>842324</td>\n",
       "      <td>politiken.dk</td>\n",
       "      <td>Klimamonitor Byrummonitor Skolemonitor Sundhedsmonitor Kulturmonitor Følg os Minimalist: »Ofte står jeg og mangler en ting og bliver irriteret på mig selv over, at jeg har smidt den ud« For to år siden fik forfatter ...</td>\n",
       "      <td>Minimalist: »Ofte står jeg og mangler en ting og bliver irriteret på mig selv over, at jeg har smidt den ud« - politiken.dk</td>\n",
       "      <td>2013-01-18T00:00:00</td>\n",
       "      <td>https://politiken.dk/forbrugogliv/art6287464/%C2%BBOfte-st%C3%A5r-jeg-og-mangler-en-ting-og-bliver-irriteret-p%C3%A5-mig-selv-over-at-jeg-har-smidt-den-ud%C2%AB</td>\n",
       "      <td>Annemette Grundtvig</td>\n",
       "      <td>-1346564151</td>\n",
       "    </tr>\n",
       "    <tr>\n",
       "      <th>2</th>\n",
       "      <td>842323</td>\n",
       "      <td>politiken.dk</td>\n",
       "      <td>Læs artiklen senere Gemt (klik for at fjerne) Læst Giv artiklen videre Som abonnent kan du ubegrænset dele artikler med dine venner og familie. Læs mere om fordelene ved et abonnement her . Køb abonnement Den familie...</td>\n",
       "      <td>Digitalt forældreskab: Hvilken type er du som Facebook-forælder? - politiken.dk</td>\n",
       "      <td>2006-05-17T00:00:00</td>\n",
       "      <td>https://politiken.dk/forbrugogliv/art5934818/Hvilken-type-er-du-som-Facebook-for%C3%A6lder</td>\n",
       "      <td>Annemette Grundtvig</td>\n",
       "      <td>1473032676</td>\n",
       "    </tr>\n",
       "  </tbody>\n",
       "</table>\n",
       "</div>"
      ],
      "text/plain": [
       "       Id        Domain  \\\n",
       "0  842325  politiken.dk   \n",
       "1  842324  politiken.dk   \n",
       "2  842323  politiken.dk   \n",
       "\n",
       "                                                                                                                                                                                                                          Body  \\\n",
       "0  Læs artiklen senere Gemt (klik for at fjerne) Læst Giv artiklen videre Som abonnent kan du ubegrænset dele artikler med dine venner og familie. Læs mere om fordelene ved et abonnement her . FOR ABONNENTER »Der var ov...   \n",
       "1  Klimamonitor Byrummonitor Skolemonitor Sundhedsmonitor Kulturmonitor Følg os Minimalist: »Ofte står jeg og mangler en ting og bliver irriteret på mig selv over, at jeg har smidt den ud« For to år siden fik forfatter ...   \n",
       "2  Læs artiklen senere Gemt (klik for at fjerne) Læst Giv artiklen videre Som abonnent kan du ubegrænset dele artikler med dine venner og familie. Læs mere om fordelene ved et abonnement her . Køb abonnement Den familie...   \n",
       "\n",
       "                                                                                                                        Header  \\\n",
       "0                                         Utilfreds passager: »Prøv selv en tur klokken 7.30 en hverdagsmorgen« - politiken.dk   \n",
       "1  Minimalist: »Ofte står jeg og mangler en ting og bliver irriteret på mig selv over, at jeg har smidt den ud« - politiken.dk   \n",
       "2                                              Digitalt forældreskab: Hvilken type er du som Facebook-forælder? - politiken.dk   \n",
       "\n",
       "       PublicationDate  \\\n",
       "0  2002-09-17T00:00:00   \n",
       "1  2013-01-18T00:00:00   \n",
       "2  2006-05-17T00:00:00   \n",
       "\n",
       "                                                                                                                                                                Uri  \\\n",
       "0                                  https://politiken.dk/forbrugogliv/art6088327/Utilfreds-passager-%C2%BBPr%C3%B8v-selv-en-tur-klokken-7.30-en-hverdagsmorgen%C2%AB   \n",
       "1  https://politiken.dk/forbrugogliv/art6287464/%C2%BBOfte-st%C3%A5r-jeg-og-mangler-en-ting-og-bliver-irriteret-p%C3%A5-mig-selv-over-at-jeg-har-smidt-den-ud%C2%AB   \n",
       "2                                                                        https://politiken.dk/forbrugogliv/art5934818/Hvilken-type-er-du-som-Facebook-for%C3%A6lder   \n",
       "\n",
       "                Byline    TextHash  \n",
       "0  Annemette Grundtvig  -346867430  \n",
       "1  Annemette Grundtvig -1346564151  \n",
       "2  Annemette Grundtvig  1473032676  "
      ]
     },
     "execution_count": 2,
     "metadata": {},
     "output_type": "execute_result"
    }
   ],
   "source": [
    "#Load data - and show 120 characters of the body.\n",
    "data = pd.read_json(r'data/data_0.json')\n",
    "pd.set_option('display.max_colwidth', 220)\n",
    "data.head(3)"
   ]
  },
  {
   "cell_type": "markdown",
   "metadata": {},
   "source": [
    "### Removing duplicates and empty bodies\n",
    "We don't want duplicate articles. First, we'll remove entries with the same URI and body. I save the entries, which have empty bodies and unique URI's - Perhaps we can get the body online, if needed."
   ]
  },
  {
   "cell_type": "code",
   "execution_count": 3,
   "metadata": {},
   "outputs": [
    {
     "name": "stdout",
     "output_type": "stream",
     "text": [
      "With duplicates: (10000, 8)\n",
      "Without duplicates: (9074, 8)\n"
     ]
    }
   ],
   "source": [
    "def same_uri(uri):\n",
    "    return data[data['Uri']==uri]\n",
    "\n",
    "def remove_duplicates(data):\n",
    "    print(\"With duplicates:\", data.shape)\n",
    "    data = data.drop_duplicates(subset=[\"Body\", \"Uri\"]) #Remove entries with same body and URI\n",
    "    empty_bodies = data[data['Body'] == '']    #Save empty bodied entries in another dataframe.\n",
    "    data = data[data['Body'] != '']\n",
    "    empty_bodies = empty_bodies[~empty_bodies['Uri'].isin(data['Uri'])] #Remove empty bodies, which are present in data.\n",
    "    duplicate_bodies = data[data.duplicated(subset=[\"Body\"])]\n",
    "    data = data.drop_duplicates(subset=['Body']) #Can remove all duplicate bodies here, after None-bodies are removed.\n",
    "    \n",
    "    print(\"Without duplicates:\", data.shape)\n",
    "    return data, empty_bodies, duplicate_bodies\n",
    "\n",
    "data, _, _ = remove_duplicates(data)"
   ]
  },
  {
   "cell_type": "markdown",
   "metadata": {},
   "source": [
    "### Removing unknown authors, headers and domains"
   ]
  },
  {
   "cell_type": "code",
   "execution_count": 4,
   "metadata": {},
   "outputs": [
    {
     "name": "stdout",
     "output_type": "stream",
     "text": [
      "Without unknown authors: (9073, 8)\n"
     ]
    }
   ],
   "source": [
    "def remove_missing_feats(data):\n",
    "    no_author, no_header, no_domain = None, None, None\n",
    "    \n",
    "    if data['Byline'].isnull().values.any(): #Missing authors\n",
    "        no_author = data[data['Byline'].isnull()]\n",
    "        data = data.dropna(subset=['Byline'])\n",
    "        print(\"Without unknown authors:\", data.shape)\n",
    "\n",
    "    if data['Header'].isnull().values.any():\n",
    "        no_header = data[data['Header'].isnull()]\n",
    "        data = data.dropna(subset=['Header'])\n",
    "        print(\"Without unknown title:\", data.shape)\n",
    "    \n",
    "    data = data[data.Header != '']\n",
    "\n",
    "    if data['Domain'].isnull().values.any():\n",
    "        no_domain = data[data['Domain'].isnull()]\n",
    "        data = data.dropna(subset=['Domain'])\n",
    "        print(\"Without unknown domains:\", data.shape)\n",
    "        \n",
    "    return data, no_author, no_header, no_domain\n",
    "\n",
    "data, _, _, _ = remove_missing_feats(data)"
   ]
  },
  {
   "cell_type": "markdown",
   "metadata": {},
   "source": [
    "### Applying to all data files.\n",
    "After investigating the data, let's apply the changes to the files. No need in formatting multiple times. Also, let's see how the distributions are when collecting all data."
   ]
  },
  {
   "cell_type": "code",
   "execution_count": 5,
   "metadata": {},
   "outputs": [
    {
     "data": {
      "application/vnd.jupyter.widget-view+json": {
       "model_id": "5675fa89670746a6bc297be2dfa819e1",
       "version_major": 2,
       "version_minor": 0
      },
      "text/plain": [
       "  0%|          | 0/80 [00:00<?, ?it/s]"
      ]
     },
     "metadata": {},
     "output_type": "display_data"
    },
    {
     "data": {
      "text/plain": [
       "(808066, 8)"
      ]
     },
     "execution_count": 5,
     "metadata": {},
     "output_type": "execute_result"
    }
   ],
   "source": [
    "#Load all data into one big dataframe. Oh yes, it is possible!\n",
    "files = os.listdir('data')\n",
    "files = [x for x in files if x[-4:]=='json'] #only take .json files.\n",
    "\n",
    "data = pd.read_json('data/'+files[0])\n",
    "for file in tqdm(files[1:]):\n",
    "    data = pd.concat([data, pd.read_json('data/'+file)])\n",
    "data.shape"
   ]
  },
  {
   "cell_type": "code",
   "execution_count": 6,
   "metadata": {},
   "outputs": [],
   "source": [
    "#Used for plotting later...\n",
    "body_lengths = data['Body'].str.len()\n",
    "y2, bin_edges = np.histogram(body_lengths, bins=150, range=(0,15000))\n",
    "x2 = 0.5*(bin_edges[1:] + bin_edges[:-1])"
   ]
  },
  {
   "cell_type": "markdown",
   "metadata": {},
   "source": [
    "#### How much data is lost?\n",
    "Some data did not meet the requirements. How much data do we have left?"
   ]
  },
  {
   "cell_type": "code",
   "execution_count": 7,
   "metadata": {},
   "outputs": [
    {
     "name": "stdout",
     "output_type": "stream",
     "text": [
      "With duplicates: (808066, 8)\n",
      "Without duplicates: (530031, 8)\n",
      "Without unknown authors: (495099, 8)\n",
      "With bad authors removed: (438058, 8)\n"
     ]
    }
   ],
   "source": [
    "data, empty_bodies, duplicate_bodies = remove_duplicates(data)\n",
    "data, no_author, no_header, no_domain = remove_missing_feats(data)\n",
    "\n",
    "#Removing bad authors. Baaad author, shame on you!\n",
    "bad_byline = data[data['Byline']==data['Uri']]\n",
    "data = data[data['Byline']!=data['Uri']]\n",
    "print(\"With bad authors removed:\", data.shape)"
   ]
  },
  {
   "cell_type": "code",
   "execution_count": 8,
   "metadata": {},
   "outputs": [
    {
     "name": "stdout",
     "output_type": "stream",
     "text": [
      "Unique authors:  8256\n",
      "Mads Elkær               53571\n",
      "Anne Sophia Hermansen    15480\n",
      "Karim Pedersen           14063\n",
      "Thomas Treo               9432\n",
      "Dan Jensen                6915\n",
      "Name: Byline, dtype: int64 \n",
      "...\n"
     ]
    }
   ],
   "source": [
    "print(\"Unique authors: \", len(data['Byline'].value_counts()))\n",
    "print(data['Byline'].value_counts()[:5],\"\\n...\")"
   ]
  },
  {
   "cell_type": "code",
   "execution_count": 9,
   "metadata": {},
   "outputs": [
    {
     "name": "stdout",
     "output_type": "stream",
     "text": [
      "448 empty bodies\n",
      "34932 without author\n",
      "33166 malformed authors\n"
     ]
    }
   ],
   "source": [
    "print(len(empty_bodies), \"empty bodies\")\n",
    "print(len(no_author), \"without author\")\n",
    "#print(len(no_header), \"without header\")\n",
    "#print(len(no_domain), \"without domain\")\n",
    "print(len(bad_byline), \"malformed authors\")"
   ]
  },
  {
   "cell_type": "markdown",
   "metadata": {},
   "source": [
    "### Author cleanup!\n",
    "Some entries have multiple auhthors. How big a problem does this cause?"
   ]
  },
  {
   "cell_type": "code",
   "execution_count": 10,
   "metadata": {
    "scrolled": true
   },
   "outputs": [
    {
     "name": "stdout",
     "output_type": "stream",
     "text": [
      "Entries with multiple authors (and titles, cities): 12471\n",
      "Unique combinations of authors: 5112\n"
     ]
    }
   ],
   "source": [
    "authors = list(data['Byline'])[1:] #First entry is empty.\n",
    "multiple_authors_candidates = []\n",
    "for author in authors:\n",
    "    if any(x in author for x in ['|',',']):\n",
    "        multiple_authors_candidates.append(author)\n",
    "\n",
    "print(\"Entries with multiple authors (and titles, cities):\" ,len(multiple_authors_candidates))\n",
    "print(f\"Unique combinations of authors: {len(set(multiple_authors_candidates))}\")\n",
    "\n",
    "#multiple_authors = [re.split('\\||,',x) for x in multiple_authors]"
   ]
  },
  {
   "cell_type": "markdown",
   "metadata": {},
   "source": [
    "**Now! Let us remove entries with multiple authors.**\n",
    "\n",
    "Some authors are actually not multiple authors, but cities and titles. These entries will be kept, but stripped from everything except the name. We don't want multiple authors, as this project focuses on single authors."
   ]
  },
  {
   "cell_type": "code",
   "execution_count": 11,
   "metadata": {},
   "outputs": [
    {
     "name": "stdout",
     "output_type": "stream",
     "text": [
      "3042 authors removed by '|-rule'\n",
      "1662 author combinations removed by filter.\n",
      "Kept 228 authors (Not sure if they are new authors yet).\n",
      "143 authors already present in data by themselves.\n"
     ]
    }
   ],
   "source": [
    "#Read txt file with words that should not be masked.\n",
    "with open('data/additional/author_filter.txt', encoding='utf-8') as f:\n",
    "    lst = f.read()\n",
    "    lst = lst.split('\\n')\n",
    "\n",
    "author_filter = lst\n",
    "\n",
    "print(f\"{len(set([x for x in multiple_authors_candidates if '|' in x]))} authors removed by '|-rule'\")\n",
    "bar_rule = [x for x in multiple_authors_candidates if '|' in x]\n",
    "multiple_authors_candidates = [x for x in multiple_authors_candidates if '|' not in x] #Remove entries with | in them.\n",
    "\n",
    "new_authors_candidates = []\n",
    "author_names_without_city = [] #Save the new, stripped name and the old one, to edit data fterwards.\n",
    "\n",
    "for candidate in multiple_authors_candidates:\n",
    "    names = candidate.split(',') #Split by , to separate authors or cities    \n",
    "    \n",
    "    append = True\n",
    "    \n",
    "    #Loop through names\n",
    "    for name in names:\n",
    "        name = name.strip()\n",
    "        if len(name.split())>1: #Name is not two or more names.\n",
    "            if any(ele in name for ele in author_filter): #Do not append if name found in filter.\n",
    "                append = False\n",
    "        else:\n",
    "            append = False\n",
    "    \n",
    "    if append:\n",
    "        new_authors_candidates.append(candidate)\n",
    "    else:\n",
    "        #Append to names list without cities. \n",
    "        if any(ele in names[0] for ele in author_filter): #If first name appears in filter, use second name.\n",
    "            author_names_without_city.append((names[1], candidate))\n",
    "        else:\n",
    "            author_names_without_city.append((names[0], candidate))\n",
    "            \n",
    "print(f\"{len(set(new_authors_candidates))} author combinations removed by filter.\")\n",
    "print(f\"Kept {len(set([x[0] for x in author_names_without_city]))} authors (Not sure if they are new authors yet).\")\n",
    "\n",
    "already_there_hon = 0\n",
    "uniques = data['Byline'].unique()\n",
    "for i in set([x[0] for x in author_names_without_city]):\n",
    "    if i in uniques:\n",
    "        already_there_hon += 1\n",
    "        \n",
    "print(f\"{already_there_hon} authors already present in data by themselves.\")"
   ]
  },
  {
   "cell_type": "code",
   "execution_count": 12,
   "metadata": {},
   "outputs": [
    {
     "name": "stdout",
     "output_type": "stream",
     "text": [
      "Converting names...\n"
     ]
    },
    {
     "data": {
      "application/vnd.jupyter.widget-view+json": {
       "model_id": "49d749ae263149499a0bcad96a7dfc87",
       "version_major": 2,
       "version_minor": 0
      },
      "text/plain": [
       "  0%|          | 0/1516 [00:00<?, ?it/s]"
      ]
     },
     "metadata": {},
     "output_type": "display_data"
    },
    {
     "name": "stdout",
     "output_type": "stream",
     "text": [
      "Names are converted! That was slow.\n"
     ]
    }
   ],
   "source": [
    "#Drop multiple authors from data.\n",
    "data = data[data['Byline'].isin(new_authors_candidates) == False]\n",
    "data = data[data['Byline'].isin(bar_rule) == False]\n",
    "\n",
    "#Convert wrong names to right names in data.\n",
    "print(\"Converting names...\")\n",
    "for entry in tqdm(author_names_without_city):\n",
    "    name = entry[0]\n",
    "    wrong_name = entry[1]\n",
    "    \n",
    "    data.loc[data[\"Byline\"] == wrong_name, \"Byline\"] = name\n",
    "print(\"Names are converted! That was slow.\")"
   ]
  },
  {
   "cell_type": "markdown",
   "metadata": {},
   "source": [
    "# Insights in data"
   ]
  },
  {
   "cell_type": "markdown",
   "metadata": {},
   "source": [
    "### Body lengths\n",
    "Let's see the distribution of the body lengths."
   ]
  },
  {
   "cell_type": "code",
   "execution_count": 13,
   "metadata": {},
   "outputs": [
    {
     "data": {
      "image/png": "[encoded data removed]",
      "text/plain": [
       "<Figure size 1008x576 with 1 Axes>"
      ]
     },
     "metadata": {},
     "output_type": "display_data"
    }
   ],
   "source": [
    "body_lengths = data['Body'].str.len()\n",
    "\n",
    "desc = \"A dent in article counts at 250 characters\\nNot true\"\n",
    "\n",
    "y, bin_edges = np.histogram(body_lengths, bins=150, range=(0,15000))\n",
    "x = 0.5*(bin_edges[1:] + bin_edges[:-1])\n",
    "\n",
    "fig, ax = plt.subplots(1, figsize=(14,8))\n",
    "plt.bar(x,y,width=np.diff(bin_edges), label=\"Preprocessed Data\")\n",
    "plt.step(x2+30, y2*0.51, 'k', alpha=0.8, label=\"Before Preprocessing\")\n",
    "plt.title(\"Histogram of Article Lengths\", fontsize=18)\n",
    "plt.xlabel(\"Character count\", fontsize=16)\n",
    "plt.ylabel(\"Article count\", fontsize=16)\n",
    "plt.legend(fontsize=14);\n",
    "#plt.text(0.7, 0.7, desc, horizontalalignment='center',verticalalignment='center', transform=ax.transAxes, fontsize=16)\n",
    "#plt.plot([250,10000], [30,240], '--', c='red', alpha=.6)\n",
    "#Ændr, så det passer med den endelige data."
   ]
  },
  {
   "cell_type": "markdown",
   "metadata": {},
   "source": [
    "### Author contributions\n",
    "How many articles have the authors written?"
   ]
  },
  {
   "cell_type": "code",
   "execution_count": 14,
   "metadata": {},
   "outputs": [
    {
     "data": {
      "text/plain": [
       "[<matplotlib.lines.Line2D at 0x1fd414a1b08>]"
      ]
     },
     "execution_count": 14,
     "metadata": {},
     "output_type": "execute_result"
    },
    {
     "data": {
      "image/png": "[encoded data removed]",
      "text/plain": [
       "<Figure size 1008x576 with 1 Axes>"
      ]
     },
     "metadata": {},
     "output_type": "display_data"
    }
   ],
   "source": [
    "counts = list(data['Byline'].value_counts())\n",
    "\n",
    "# plt.yscale('symlog')\n",
    "# plt.xlim(-100,4000)\n",
    "\n",
    "y, bin_edges = np.histogram(counts, bins=200)\n",
    "x = 0.5*(bin_edges[1:] + bin_edges[:-1])\n",
    "\n",
    "fig, ax = plt.subplots(1, figsize=(14,8))\n",
    "plt.bar(x,y,width=np.diff(bin_edges))\n",
    "\n",
    "plt.yscale('symlog')\n",
    "plt.title(\"Histogram Over Number of Articles per Author\", fontsize=18)\n",
    "plt.xlabel(\"Number of articles\", fontsize=16)\n",
    "plt.ylabel(\"Number of authors\", fontsize=16)\n",
    "\n",
    "desc = \"Outlier: Mads Elkær\\n53835 articles written.\"\n",
    "plt.text(0.7, 0.7, desc, horizontalalignment='center',verticalalignment='center', transform=ax.transAxes, fontsize=16)\n",
    "plt.plot([40000,53000], [120,1], '--', c='red', alpha=.6)"
   ]
  },
  {
   "cell_type": "markdown",
   "metadata": {},
   "source": [
    "### Author body length\n",
    "Do authors have certain body lengths? In articles, not their actual bodies. Let us make a plot to see if there is a correlation between article count and body length. But first, we need to find the average body length per author. "
   ]
  },
  {
   "cell_type": "code",
   "execution_count": 15,
   "metadata": {},
   "outputs": [],
   "source": [
    "df = pd.DataFrame(columns=['body_length', 'author'])\n",
    "df['body_length'] = body_lengths\n",
    "df['author'] = data['Byline']\n",
    "df['author'].replace('', np.nan, inplace=True)\n",
    "df = df.dropna()\n",
    "avg_body_lengths = list(df.groupby(['author']).mean()['body_length'])"
   ]
  },
  {
   "cell_type": "code",
   "execution_count": 16,
   "metadata": {},
   "outputs": [
    {
     "data": {
      "text/plain": [
       "Text(0, 0.5, 'Number of authors')"
      ]
     },
     "execution_count": 16,
     "metadata": {},
     "output_type": "execute_result"
    },
    {
     "data": {
      "image/png": "[encoded data removed]",
      "text/plain": [
       "<Figure size 576x396 with 1 Axes>"
      ]
     },
     "metadata": {},
     "output_type": "display_data"
    }
   ],
   "source": [
    "plt.hist(avg_body_lengths, bins=200);\n",
    "plt.title(\"Histogram Over Average Article Length per Author\", fontsize=16)\n",
    "plt.xlabel(\"Average length\", fontsize=14)\n",
    "plt.ylabel(\"Number of authors\", fontsize=14)"
   ]
  },
  {
   "cell_type": "markdown",
   "metadata": {},
   "source": [
    "**Correlation between average length and article count**\n",
    "\n",
    "Make a dataframe with author, average article length, article count"
   ]
  },
  {
   "cell_type": "code",
   "execution_count": 17,
   "metadata": {},
   "outputs": [
    {
     "data": {
      "text/html": [
       "<div>\n",
       "<style scoped>\n",
       "    .dataframe tbody tr th:only-of-type {\n",
       "        vertical-align: middle;\n",
       "    }\n",
       "\n",
       "    .dataframe tbody tr th {\n",
       "        vertical-align: top;\n",
       "    }\n",
       "\n",
       "    .dataframe thead th {\n",
       "        text-align: right;\n",
       "    }\n",
       "</style>\n",
       "<table border=\"1\" class=\"dataframe\">\n",
       "  <thead>\n",
       "    <tr style=\"text-align: right;\">\n",
       "      <th></th>\n",
       "      <th>avg_len</th>\n",
       "      <th>article_count</th>\n",
       "    </tr>\n",
       "  </thead>\n",
       "  <tbody>\n",
       "    <tr>\n",
       "      <th>Annemette Grundtvig</th>\n",
       "      <td>2205.840694</td>\n",
       "      <td>634</td>\n",
       "    </tr>\n",
       "    <tr>\n",
       "      <th>Emma Busk</th>\n",
       "      <td>2494.509804</td>\n",
       "      <td>1173</td>\n",
       "    </tr>\n",
       "    <tr>\n",
       "      <th>LASSE FOGHSGAARD</th>\n",
       "      <td>1596.431159</td>\n",
       "      <td>276</td>\n",
       "    </tr>\n",
       "    <tr>\n",
       "      <th>STINE KÆRGAARD NISSEN</th>\n",
       "      <td>1071.578947</td>\n",
       "      <td>19</td>\n",
       "    </tr>\n",
       "    <tr>\n",
       "      <th>Kasper Villum Jensen</th>\n",
       "      <td>2325.518844</td>\n",
       "      <td>1592</td>\n",
       "    </tr>\n",
       "    <tr>\n",
       "      <th>...</th>\n",
       "      <td>...</td>\n",
       "      <td>...</td>\n",
       "    </tr>\n",
       "    <tr>\n",
       "      <th>Magnus Boye</th>\n",
       "      <td>2994.745747</td>\n",
       "      <td>1058</td>\n",
       "    </tr>\n",
       "    <tr>\n",
       "      <th>Jonas Nyeng</th>\n",
       "      <td>2504.0</td>\n",
       "      <td>4</td>\n",
       "    </tr>\n",
       "    <tr>\n",
       "      <th>Birthe Boye Vestergaard</th>\n",
       "      <td>1176.364583</td>\n",
       "      <td>96</td>\n",
       "    </tr>\n",
       "    <tr>\n",
       "      <th>Pernille Witt Kirkegaard</th>\n",
       "      <td>2884.5</td>\n",
       "      <td>14</td>\n",
       "    </tr>\n",
       "    <tr>\n",
       "      <th>Morten Guldberg</th>\n",
       "      <td>7040.988235</td>\n",
       "      <td>85</td>\n",
       "    </tr>\n",
       "  </tbody>\n",
       "</table>\n",
       "<p>3229 rows × 2 columns</p>\n",
       "</div>"
      ],
      "text/plain": [
       "                              avg_len article_count\n",
       "Annemette Grundtvig       2205.840694           634\n",
       "Emma Busk                 2494.509804          1173\n",
       "LASSE FOGHSGAARD          1596.431159           276\n",
       "STINE KÆRGAARD NISSEN     1071.578947            19\n",
       "Kasper Villum Jensen      2325.518844          1592\n",
       "...                               ...           ...\n",
       "Magnus Boye               2994.745747          1058\n",
       "Jonas Nyeng                    2504.0             4\n",
       "Birthe Boye Vestergaard   1176.364583            96\n",
       "Pernille Witt Kirkegaard       2884.5            14\n",
       "Morten Guldberg           7040.988235            85\n",
       "\n",
       "[3229 rows x 2 columns]"
      ]
     },
     "execution_count": 17,
     "metadata": {},
     "output_type": "execute_result"
    }
   ],
   "source": [
    "df2 = pd.DataFrame(index=data['Byline'].unique(),columns=['avg_len', 'article_count'])\n",
    "avg_body_length_series = df.groupby(['author']).mean()['body_length']\n",
    "article_count_series = data['Byline'].value_counts()\n",
    "\n",
    "for i in data['Byline'].unique():\n",
    "    if i == '':\n",
    "        continue\n",
    "    \n",
    "    avg_len = avg_body_length_series[i]\n",
    "    article_count = article_count_series[i]\n",
    "    df2.loc[i] = [avg_len, article_count]\n",
    "\n",
    "df2"
   ]
  },
  {
   "cell_type": "code",
   "execution_count": 18,
   "metadata": {},
   "outputs": [
    {
     "name": "stdout",
     "output_type": "stream",
     "text": [
      "Pearsin correlation: 0.00018330934895011692\n"
     ]
    },
    {
     "data": {
      "image/png": "[encoded data removed]",
      "text/plain": [
       "<Figure size 576x396 with 1 Axes>"
      ]
     },
     "metadata": {},
     "output_type": "display_data"
    }
   ],
   "source": [
    "x = df2.avg_len\n",
    "y = df2.article_count\n",
    "plt.scatter(x[y<2000], y[y<2000], marker='.')\n",
    "plt.ylabel(\"Article count\")\n",
    "plt.xlabel(\"Article length\")\n",
    "\n",
    "x = x.to_numpy(dtype=float)\n",
    "y = y.to_numpy(dtype=float)\n",
    "x = np.nan_to_num(x)\n",
    "y = np.nan_to_num(y)\n",
    "\n",
    "corr, sig = pearsonr(x,y)\n",
    "print(\"Pearsin correlation:\", corr)\n",
    "\n",
    "plt.title(\"No Linear Correlation Between Article Length and Article Count\", fontsize=15);"
   ]
  },
  {
   "cell_type": "markdown",
   "metadata": {},
   "source": [
    "## Removing Unique Entries\n",
    "We don't want unique author or domain names. We need **at least** two entries for each."
   ]
  },
  {
   "cell_type": "code",
   "execution_count": 19,
   "metadata": {},
   "outputs": [],
   "source": [
    "#Drop rows where domain only occurs once.\n",
    "d = data['Domain'].value_counts()\n",
    "data = data[data['Domain'].isin(d[d<2].keys()) == False]"
   ]
  },
  {
   "cell_type": "code",
   "execution_count": 20,
   "metadata": {},
   "outputs": [],
   "source": [
    "#Find which author names that can be salvaged.\n",
    "d = data['Byline'].value_counts()\n",
    "unique_authors = d[d<2].keys()\n",
    "common_authors = d[d>2].keys()\n",
    "\n",
    "for author in unique_authors:\n",
    "    author = author.strip()\n",
    "    if author.istitle():\n",
    "        continue\n",
    "    if author.isupper() or author.islower():\n",
    "        if author.title() in common_authors:\n",
    "            data.loc[data[\"Byline\"] == author, \"Byline\"] = author.title()\n",
    "\n",
    "#Remove any entries with single-occuring authors.\n",
    "data = data[data['Byline'].isin(unique_authors) == False]"
   ]
  },
  {
   "cell_type": "markdown",
   "metadata": {},
   "source": [
    "## Scrape 17k articles\n",
    "Some articles have the same header, same body. The domains are limited to bt.dk and berlingske.dk - making a scraper is not too hard."
   ]
  },
  {
   "cell_type": "code",
   "execution_count": 21,
   "metadata": {},
   "outputs": [],
   "source": [
    "def get_content(url):\n",
    "    #Returns body and header\n",
    "\n",
    "    if \"berlingske\" in url:\n",
    "        return get_berlingske_content(url)\n",
    "    else:\n",
    "        return get_bt_content(url)\n",
    "\n",
    "def get_berlingske_content(url):\n",
    "    res = requests.get(url)\n",
    "    soup = BeautifulSoup(res.content, \"html.parser\")\n",
    "\n",
    "    header_html = soup.find_all('h1', class_=\"article-header__title\")\n",
    "    intro_html = soup.find_all('p', class_=\"article-header__intro\")\n",
    "    body_html = soup.find_all(class_=\"article-body\")[0].find_all('p', text=True, recursive=False)\n",
    "\n",
    "    temp_intro = intro_html[0].text\n",
    "    temp_body = [x.text for x in body_html]\n",
    "    body = temp_intro + ' '.join(temp_body)\n",
    "\n",
    "    header = header_html[0].text\n",
    "\n",
    "    return body.strip(), header.strip()\n",
    "\n",
    "def get_bt_content(url):\n",
    "    res = requests.get(url)\n",
    "    soup = BeautifulSoup(res.content, \"html.parser\")\n",
    "\n",
    "    header_html = soup.find_all('h1', class_=\"article-title\")\n",
    "    intro_html = soup.find_all('p', class_=\"article-summary\")\n",
    "    body_html = soup.find_all(class_=\"article-content\")[0].find_all(text=True, recursive=False)\n",
    "\n",
    "    temp_intro = intro_html[0].text\n",
    "    body = temp_intro + ' '.join(body_html)\n",
    "    header = header_html[0].text\n",
    "\n",
    "    return body.strip(), header.strip()\n"
   ]
  },
  {
   "cell_type": "code",
   "execution_count": 22,
   "metadata": {},
   "outputs": [
    {
     "data": {
      "application/vnd.jupyter.widget-view+json": {
       "model_id": "da461c6fff9549c4808899d3da44056b",
       "version_major": 2,
       "version_minor": 0
      },
      "text/plain": [
       "0it [00:00, ?it/s]"
      ]
     },
     "metadata": {},
     "output_type": "display_data"
    }
   ],
   "source": [
    "#A lot of articles from berlingske.dk cannot be salvaged, as they ar ebehind paywall - the text is generated with javascript.\n",
    "corrupt_data = data[data['Header']=='Din profil er oprettet']\n",
    "for idx, article in tqdm(corrupt_data.iterrows()):\n",
    "    url = article.Uri\n",
    "    \n",
    "    if 'bt.dk' in url:\n",
    "        if 'nyheder' not in url: #:\n",
    "            continue\n",
    "    \n",
    "    if 'berlingske' in url:\n",
    "        continue\n",
    "    try:\n",
    "        body, header = get_content(url)\n",
    "    except:\n",
    "        continue\n",
    "    Id = article.Id\n",
    "    \n",
    "    data.loc[data['Id'] == Id, 'Header'] = header\n",
    "    data.loc[data['Id'] == Id, 'Body'] = body"
   ]
  },
  {
   "cell_type": "code",
   "execution_count": 27,
   "metadata": {},
   "outputs": [
    {
     "data": {
      "text/plain": [
       "(17475, 8)"
      ]
     },
     "execution_count": 27,
     "metadata": {},
     "output_type": "execute_result"
    }
   ],
   "source": [
    "corrupt_data = data[data['Header']=='Din profil er oprettet']\n",
    "corrupt_data.shape #Ikke meget værd..."
   ]
  },
  {
   "cell_type": "code",
   "execution_count": 24,
   "metadata": {},
   "outputs": [],
   "source": [
    "#data[data['Id'] == 565689]\n",
    "data.loc[data['Id'] == 565689, 'Header'] = 'Din profil er oprettet'"
   ]
  },
  {
   "cell_type": "code",
   "execution_count": 25,
   "metadata": {},
   "outputs": [
    {
     "data": {
      "text/html": [
       "<div>\n",
       "<style scoped>\n",
       "    .dataframe tbody tr th:only-of-type {\n",
       "        vertical-align: middle;\n",
       "    }\n",
       "\n",
       "    .dataframe tbody tr th {\n",
       "        vertical-align: top;\n",
       "    }\n",
       "\n",
       "    .dataframe thead th {\n",
       "        text-align: right;\n",
       "    }\n",
       "</style>\n",
       "<table border=\"1\" class=\"dataframe\">\n",
       "  <thead>\n",
       "    <tr style=\"text-align: right;\">\n",
       "      <th></th>\n",
       "      <th>Id</th>\n",
       "      <th>Domain</th>\n",
       "      <th>Body</th>\n",
       "      <th>Header</th>\n",
       "      <th>PublicationDate</th>\n",
       "      <th>Uri</th>\n",
       "      <th>Byline</th>\n",
       "      <th>TextHash</th>\n",
       "    </tr>\n",
       "  </thead>\n",
       "  <tbody>\n",
       "    <tr>\n",
       "      <th>6635</th>\n",
       "      <td>565689</td>\n",
       "      <td>berlingske.dk</td>\n",
       "      <td>Din adgangskode skal være min. 6 karakterer. Markér venligst i ovenstående boks for at gå videre. Fortsæt Fortsæt Din profil er oprettet Tak fordi du har oprettet en profil. Du er nu logget ind på berlingske.dk. Vi h...</td>\n",
       "      <td>Din profil er oprettet</td>\n",
       "      <td>2017-02-19T00:00:00</td>\n",
       "      <td>https://www.berlingske.dk/kommentatorer/kulturen-er-pist-borte</td>\n",
       "      <td>Tom Jensen</td>\n",
       "      <td>1262465995</td>\n",
       "    </tr>\n",
       "    <tr>\n",
       "      <th>6636</th>\n",
       "      <td>565688</td>\n",
       "      <td>berlingske.dk</td>\n",
       "      <td>Din adgangskode skal være min. 6 karakterer. Markér venligst i ovenstående boks for at gå videre. Fortsæt Fortsæt Din profil er oprettet Tak fordi du har oprettet en profil. Du er nu logget ind på berlingske.dk. Vi h...</td>\n",
       "      <td>Din profil er oprettet</td>\n",
       "      <td>2026-01-20T00:00:00</td>\n",
       "      <td>https://www.berlingske.dk/kommentatorer/venstrefloejen-ofrer-gerne-de-fattige-for-at-udleve-sit-had-til-de</td>\n",
       "      <td>Tom Jensen</td>\n",
       "      <td>2067228471</td>\n",
       "    </tr>\n",
       "    <tr>\n",
       "      <th>6639</th>\n",
       "      <td>565685</td>\n",
       "      <td>berlingske.dk</td>\n",
       "      <td>Din adgangskode skal være min. 6 karakterer. Markér venligst i ovenstående boks for at gå videre. Fortsæt Fortsæt Din profil er oprettet Tak fordi du har oprettet en profil. Du er nu logget ind på berlingske.dk. Vi h...</td>\n",
       "      <td>Din profil er oprettet</td>\n",
       "      <td>2010-05-20T00:00:00</td>\n",
       "      <td>https://www.berlingske.dk/kommentatorer/vi-kalkulerer-hver-dag-med-menneskers-doed</td>\n",
       "      <td>Tom Jensen</td>\n",
       "      <td>-1303884463</td>\n",
       "    </tr>\n",
       "    <tr>\n",
       "      <th>6640</th>\n",
       "      <td>565684</td>\n",
       "      <td>berlingske.dk</td>\n",
       "      <td>Din adgangskode skal være min. 6 karakterer. Markér venligst i ovenstående boks for at gå videre. Fortsæt Fortsæt Din profil er oprettet Tak fordi du har oprettet en profil. Du er nu logget ind på berlingske.dk. Vi h...</td>\n",
       "      <td>Din profil er oprettet</td>\n",
       "      <td>2006-07-19T00:00:00</td>\n",
       "      <td>https://www.berlingske.dk/aok/tom-jensen-pa-roskilde-festival-man-kunne-jo-ogsa-bare-rydde-op-efter-sig</td>\n",
       "      <td>Tom Jensen</td>\n",
       "      <td>655094482</td>\n",
       "    </tr>\n",
       "    <tr>\n",
       "      <th>6641</th>\n",
       "      <td>565683</td>\n",
       "      <td>berlingske.dk</td>\n",
       "      <td>Din adgangskode skal være min. 6 karakterer. Markér venligst i ovenstående boks for at gå videre. Fortsæt Fortsæt Din profil er oprettet Tak fordi du har oprettet en profil. Du er nu logget ind på berlingske.dk. Vi h...</td>\n",
       "      <td>Din profil er oprettet</td>\n",
       "      <td>2023-02-20T00:00:00</td>\n",
       "      <td>https://www.berlingske.dk/kommentatorer/gud-naade-og-troeste-os-hvis-bernie-sanders-bliver-praesident</td>\n",
       "      <td>Tom Jensen</td>\n",
       "      <td>1404644294</td>\n",
       "    </tr>\n",
       "    <tr>\n",
       "      <th>...</th>\n",
       "      <td>...</td>\n",
       "      <td>...</td>\n",
       "      <td>...</td>\n",
       "      <td>...</td>\n",
       "      <td>...</td>\n",
       "      <td>...</td>\n",
       "      <td>...</td>\n",
       "      <td>...</td>\n",
       "    </tr>\n",
       "    <tr>\n",
       "      <th>4996</th>\n",
       "      <td>417328</td>\n",
       "      <td>berlingske.dk</td>\n",
       "      <td>Din adgangskode skal være min. 6 karakterer.\\nMarkér venligst i ovenstående boks for at gå videre.\\nFortsæt\\nFortsæt\\nDin profil er oprettet\\nTak fordi du har oprettet en profil. Du er nu logget ind på berlingske.dk....</td>\n",
       "      <td>Din profil er oprettet</td>\n",
       "      <td>2019-10-07T00:00:00</td>\n",
       "      <td>https://www.berlingske.dk/samfund/det-kan-koste-vaere-privat-i-arbejdstiden</td>\n",
       "      <td>Anne Sophia Hermansen</td>\n",
       "      <td>0</td>\n",
       "    </tr>\n",
       "    <tr>\n",
       "      <th>4997</th>\n",
       "      <td>417327</td>\n",
       "      <td>berlingske.dk</td>\n",
       "      <td>Din adgangskode skal være min. 6 karakterer.\\nMarkér venligst i ovenstående boks for at gå videre.\\nFortsæt\\nFortsæt\\nDin profil er oprettet\\nTak fordi du har oprettet en profil. Du er nu logget ind på berlingske.dk....</td>\n",
       "      <td>Din profil er oprettet</td>\n",
       "      <td>2018-04-04T00:00:00</td>\n",
       "      <td>https://www.berlingske.dk/bolig/nyt-badevaerelse-dobbelt-op</td>\n",
       "      <td>Anne Sophia Hermansen</td>\n",
       "      <td>0</td>\n",
       "    </tr>\n",
       "    <tr>\n",
       "      <th>4998</th>\n",
       "      <td>417326</td>\n",
       "      <td>berlingske.dk</td>\n",
       "      <td>Din adgangskode skal være min. 6 karakterer.\\nMarkér venligst i ovenstående boks for at gå videre.\\nFortsæt\\nFortsæt\\nDin profil er oprettet\\nTak fordi du har oprettet en profil. Du er nu logget ind på berlingske.dk....</td>\n",
       "      <td>Din profil er oprettet</td>\n",
       "      <td>2020-11-10T00:00:00</td>\n",
       "      <td>https://www.berlingske.dk/det-sunde-liv/summarisk-sommer</td>\n",
       "      <td>Anne Sophia Hermansen</td>\n",
       "      <td>0</td>\n",
       "    </tr>\n",
       "    <tr>\n",
       "      <th>5000</th>\n",
       "      <td>417324</td>\n",
       "      <td>berlingske.dk</td>\n",
       "      <td>Din adgangskode skal være min. 6 karakterer.\\nMarkér venligst i ovenstående boks for at gå videre.\\nFortsæt\\nFortsæt\\nDin profil er oprettet\\nTak fordi du har oprettet en profil. Du er nu logget ind på berlingske.dk....</td>\n",
       "      <td>Din profil er oprettet</td>\n",
       "      <td>2028-05-06T00:00:00</td>\n",
       "      <td>https://www.berlingske.dk/bolig/gamle-vandroer-smuldrer</td>\n",
       "      <td>Anne Sophia Hermansen</td>\n",
       "      <td>0</td>\n",
       "    </tr>\n",
       "    <tr>\n",
       "      <th>5002</th>\n",
       "      <td>417322</td>\n",
       "      <td>berlingske.dk</td>\n",
       "      <td>Din adgangskode skal være min. 6 karakterer.\\nMarkér venligst i ovenstående boks for at gå videre.\\nFortsæt\\nFortsæt\\nDin profil er oprettet\\nTak fordi du har oprettet en profil. Du er nu logget ind på berlingske.dk....</td>\n",
       "      <td>Din profil er oprettet</td>\n",
       "      <td>2007-07-17T00:00:00</td>\n",
       "      <td>https://www.berlingske.dk/aok/en-af-meningsdannelsens-grand-old-ladies-fylder-rundt-anne-sophia-hermansen</td>\n",
       "      <td>Anne Sophia Hermansen</td>\n",
       "      <td>0</td>\n",
       "    </tr>\n",
       "  </tbody>\n",
       "</table>\n",
       "<p>17515 rows × 8 columns</p>\n",
       "</div>"
      ],
      "text/plain": [
       "          Id         Domain  \\\n",
       "6635  565689  berlingske.dk   \n",
       "6636  565688  berlingske.dk   \n",
       "6639  565685  berlingske.dk   \n",
       "6640  565684  berlingske.dk   \n",
       "6641  565683  berlingske.dk   \n",
       "...      ...            ...   \n",
       "4996  417328  berlingske.dk   \n",
       "4997  417327  berlingske.dk   \n",
       "4998  417326  berlingske.dk   \n",
       "5000  417324  berlingske.dk   \n",
       "5002  417322  berlingske.dk   \n",
       "\n",
       "                                                                                                                                                                                                                             Body  \\\n",
       "6635  Din adgangskode skal være min. 6 karakterer. Markér venligst i ovenstående boks for at gå videre. Fortsæt Fortsæt Din profil er oprettet Tak fordi du har oprettet en profil. Du er nu logget ind på berlingske.dk. Vi h...   \n",
       "6636  Din adgangskode skal være min. 6 karakterer. Markér venligst i ovenstående boks for at gå videre. Fortsæt Fortsæt Din profil er oprettet Tak fordi du har oprettet en profil. Du er nu logget ind på berlingske.dk. Vi h...   \n",
       "6639  Din adgangskode skal være min. 6 karakterer. Markér venligst i ovenstående boks for at gå videre. Fortsæt Fortsæt Din profil er oprettet Tak fordi du har oprettet en profil. Du er nu logget ind på berlingske.dk. Vi h...   \n",
       "6640  Din adgangskode skal være min. 6 karakterer. Markér venligst i ovenstående boks for at gå videre. Fortsæt Fortsæt Din profil er oprettet Tak fordi du har oprettet en profil. Du er nu logget ind på berlingske.dk. Vi h...   \n",
       "6641  Din adgangskode skal være min. 6 karakterer. Markér venligst i ovenstående boks for at gå videre. Fortsæt Fortsæt Din profil er oprettet Tak fordi du har oprettet en profil. Du er nu logget ind på berlingske.dk. Vi h...   \n",
       "...                                                                                                                                                                                                                           ...   \n",
       "4996  Din adgangskode skal være min. 6 karakterer.\\nMarkér venligst i ovenstående boks for at gå videre.\\nFortsæt\\nFortsæt\\nDin profil er oprettet\\nTak fordi du har oprettet en profil. Du er nu logget ind på berlingske.dk....   \n",
       "4997  Din adgangskode skal være min. 6 karakterer.\\nMarkér venligst i ovenstående boks for at gå videre.\\nFortsæt\\nFortsæt\\nDin profil er oprettet\\nTak fordi du har oprettet en profil. Du er nu logget ind på berlingske.dk....   \n",
       "4998  Din adgangskode skal være min. 6 karakterer.\\nMarkér venligst i ovenstående boks for at gå videre.\\nFortsæt\\nFortsæt\\nDin profil er oprettet\\nTak fordi du har oprettet en profil. Du er nu logget ind på berlingske.dk....   \n",
       "5000  Din adgangskode skal være min. 6 karakterer.\\nMarkér venligst i ovenstående boks for at gå videre.\\nFortsæt\\nFortsæt\\nDin profil er oprettet\\nTak fordi du har oprettet en profil. Du er nu logget ind på berlingske.dk....   \n",
       "5002  Din adgangskode skal være min. 6 karakterer.\\nMarkér venligst i ovenstående boks for at gå videre.\\nFortsæt\\nFortsæt\\nDin profil er oprettet\\nTak fordi du har oprettet en profil. Du er nu logget ind på berlingske.dk....   \n",
       "\n",
       "                      Header      PublicationDate  \\\n",
       "6635  Din profil er oprettet  2017-02-19T00:00:00   \n",
       "6636  Din profil er oprettet  2026-01-20T00:00:00   \n",
       "6639  Din profil er oprettet  2010-05-20T00:00:00   \n",
       "6640  Din profil er oprettet  2006-07-19T00:00:00   \n",
       "6641  Din profil er oprettet  2023-02-20T00:00:00   \n",
       "...                      ...                  ...   \n",
       "4996  Din profil er oprettet  2019-10-07T00:00:00   \n",
       "4997  Din profil er oprettet  2018-04-04T00:00:00   \n",
       "4998  Din profil er oprettet  2020-11-10T00:00:00   \n",
       "5000  Din profil er oprettet  2028-05-06T00:00:00   \n",
       "5002  Din profil er oprettet  2007-07-17T00:00:00   \n",
       "\n",
       "                                                                                                             Uri  \\\n",
       "6635                                              https://www.berlingske.dk/kommentatorer/kulturen-er-pist-borte   \n",
       "6636  https://www.berlingske.dk/kommentatorer/venstrefloejen-ofrer-gerne-de-fattige-for-at-udleve-sit-had-til-de   \n",
       "6639                          https://www.berlingske.dk/kommentatorer/vi-kalkulerer-hver-dag-med-menneskers-doed   \n",
       "6640     https://www.berlingske.dk/aok/tom-jensen-pa-roskilde-festival-man-kunne-jo-ogsa-bare-rydde-op-efter-sig   \n",
       "6641       https://www.berlingske.dk/kommentatorer/gud-naade-og-troeste-os-hvis-bernie-sanders-bliver-praesident   \n",
       "...                                                                                                          ...   \n",
       "4996                                 https://www.berlingske.dk/samfund/det-kan-koste-vaere-privat-i-arbejdstiden   \n",
       "4997                                                 https://www.berlingske.dk/bolig/nyt-badevaerelse-dobbelt-op   \n",
       "4998                                                    https://www.berlingske.dk/det-sunde-liv/summarisk-sommer   \n",
       "5000                                                     https://www.berlingske.dk/bolig/gamle-vandroer-smuldrer   \n",
       "5002   https://www.berlingske.dk/aok/en-af-meningsdannelsens-grand-old-ladies-fylder-rundt-anne-sophia-hermansen   \n",
       "\n",
       "                     Byline    TextHash  \n",
       "6635             Tom Jensen  1262465995  \n",
       "6636             Tom Jensen  2067228471  \n",
       "6639             Tom Jensen -1303884463  \n",
       "6640             Tom Jensen   655094482  \n",
       "6641             Tom Jensen  1404644294  \n",
       "...                     ...         ...  \n",
       "4996  Anne Sophia Hermansen           0  \n",
       "4997  Anne Sophia Hermansen           0  \n",
       "4998  Anne Sophia Hermansen           0  \n",
       "5000  Anne Sophia Hermansen           0  \n",
       "5002  Anne Sophia Hermansen           0  \n",
       "\n",
       "[17515 rows x 8 columns]"
      ]
     },
     "execution_count": 25,
     "metadata": {},
     "output_type": "execute_result"
    }
   ],
   "source": [
    "corrupt_data"
   ]
  },
  {
   "cell_type": "code",
   "execution_count": 26,
   "metadata": {},
   "outputs": [],
   "source": [
    "res = requests.get('https://www.berlingske.dk/aok/tom-jensen-pa-roskilde-festival-man-kunne-jo-ogsa-bare-rydde-op-efter-sig')\n",
    "soup = BeautifulSoup(res.content, \"html.parser\")"
   ]
  },
  {
   "cell_type": "code",
   "execution_count": null,
   "metadata": {},
   "outputs": [],
   "source": []
  }
 ],
 "metadata": {
  "kernelspec": {
   "display_name": "Python 3",
   "language": "python",
   "name": "python3"
  },
  "language_info": {
   "codemirror_mode": {
    "name": "ipython",
    "version": 3
   },
   "file_extension": ".py",
   "mimetype": "text/x-python",
   "name": "python",
   "nbconvert_exporter": "python",
   "pygments_lexer": "ipython3",
   "version": "3.7.4"
  }
 },
 "nbformat": 4,
 "nbformat_minor": 4
}
