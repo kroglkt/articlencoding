{
 "cells": [
  {
   "cell_type": "markdown",
   "metadata": {},
   "source": [
    "## Formatting the data\n",
    "The data available is not perfect. Some articles are too short to work with or contain no body. Such texts will be filtered out - The data will be loaded from a JSON and converted to a Pandas dataframe. \n",
    "\n",
    "Author: lkt259@alumni.ku.dk"
   ]
  },
  {
   "cell_type": "code",
   "execution_count": 165,
   "metadata": {},
   "outputs": [],
   "source": [
    "import numpy as np\n",
    "import pandas as pd\n",
    "from matplotlib import pyplot as plt\n",
    "plt.style.use('seaborn')"
   ]
  },
  {
   "cell_type": "code",
   "execution_count": 166,
   "metadata": {},
   "outputs": [
    {
     "data": {
      "text/html": [
       "<div>\n",
       "<style scoped>\n",
       "    .dataframe tbody tr th:only-of-type {\n",
       "        vertical-align: middle;\n",
       "    }\n",
       "\n",
       "    .dataframe tbody tr th {\n",
       "        vertical-align: top;\n",
       "    }\n",
       "\n",
       "    .dataframe thead th {\n",
       "        text-align: right;\n",
       "    }\n",
       "</style>\n",
       "<table border=\"1\" class=\"dataframe\">\n",
       "  <thead>\n",
       "    <tr style=\"text-align: right;\">\n",
       "      <th></th>\n",
       "      <th>Id</th>\n",
       "      <th>Domain</th>\n",
       "      <th>Body</th>\n",
       "      <th>Header</th>\n",
       "      <th>PublicationDate</th>\n",
       "      <th>Uri</th>\n",
       "      <th>Byline</th>\n",
       "      <th>TextHash</th>\n",
       "    </tr>\n",
       "  </thead>\n",
       "  <tbody>\n",
       "    <tr>\n",
       "      <th>0</th>\n",
       "      <td>842325</td>\n",
       "      <td>politiken.dk</td>\n",
       "      <td>Læs artiklen senere Gemt (klik for at fjerne) Læst Giv artiklen videre Som abonnent kan du ubegrænset dele artikler med dine venner og familie. Læs mere om fordelene ved et abonnement her . FOR ABONNENTER »Der var ov...</td>\n",
       "      <td>Utilfreds passager: »Prøv selv en tur klokken 7.30 en hverdagsmorgen« - politiken.dk</td>\n",
       "      <td>2002-09-17T00:00:00</td>\n",
       "      <td>https://politiken.dk/forbrugogliv/art6088327/Utilfreds-passager-%C2%BBPr%C3%B8v-selv-en-tur-klokken-7.30-en-hverdagsmorgen%C2%AB</td>\n",
       "      <td>Annemette Grundtvig</td>\n",
       "      <td>-346867430</td>\n",
       "    </tr>\n",
       "    <tr>\n",
       "      <th>1</th>\n",
       "      <td>842324</td>\n",
       "      <td>politiken.dk</td>\n",
       "      <td>Klimamonitor Byrummonitor Skolemonitor Sundhedsmonitor Kulturmonitor Følg os Minimalist: »Ofte står jeg og mangler en ting og bliver irriteret på mig selv over, at jeg har smidt den ud« For to år siden fik forfatter ...</td>\n",
       "      <td>Minimalist: »Ofte står jeg og mangler en ting og bliver irriteret på mig selv over, at jeg har smidt den ud« - politiken.dk</td>\n",
       "      <td>2013-01-18T00:00:00</td>\n",
       "      <td>https://politiken.dk/forbrugogliv/art6287464/%C2%BBOfte-st%C3%A5r-jeg-og-mangler-en-ting-og-bliver-irriteret-p%C3%A5-mig-selv-over-at-jeg-har-smidt-den-ud%C2%AB</td>\n",
       "      <td>Annemette Grundtvig</td>\n",
       "      <td>-1346564151</td>\n",
       "    </tr>\n",
       "    <tr>\n",
       "      <th>2</th>\n",
       "      <td>842323</td>\n",
       "      <td>politiken.dk</td>\n",
       "      <td>Læs artiklen senere Gemt (klik for at fjerne) Læst Giv artiklen videre Som abonnent kan du ubegrænset dele artikler med dine venner og familie. Læs mere om fordelene ved et abonnement her . Køb abonnement Den familie...</td>\n",
       "      <td>Digitalt forældreskab: Hvilken type er du som Facebook-forælder? - politiken.dk</td>\n",
       "      <td>2006-05-17T00:00:00</td>\n",
       "      <td>https://politiken.dk/forbrugogliv/art5934818/Hvilken-type-er-du-som-Facebook-for%C3%A6lder</td>\n",
       "      <td>Annemette Grundtvig</td>\n",
       "      <td>1473032676</td>\n",
       "    </tr>\n",
       "  </tbody>\n",
       "</table>\n",
       "</div>"
      ],
      "text/plain": [
       "       Id        Domain  \\\n",
       "0  842325  politiken.dk   \n",
       "1  842324  politiken.dk   \n",
       "2  842323  politiken.dk   \n",
       "\n",
       "                                                                                                                                                                                                                          Body  \\\n",
       "0  Læs artiklen senere Gemt (klik for at fjerne) Læst Giv artiklen videre Som abonnent kan du ubegrænset dele artikler med dine venner og familie. Læs mere om fordelene ved et abonnement her . FOR ABONNENTER »Der var ov...   \n",
       "1  Klimamonitor Byrummonitor Skolemonitor Sundhedsmonitor Kulturmonitor Følg os Minimalist: »Ofte står jeg og mangler en ting og bliver irriteret på mig selv over, at jeg har smidt den ud« For to år siden fik forfatter ...   \n",
       "2  Læs artiklen senere Gemt (klik for at fjerne) Læst Giv artiklen videre Som abonnent kan du ubegrænset dele artikler med dine venner og familie. Læs mere om fordelene ved et abonnement her . Køb abonnement Den familie...   \n",
       "\n",
       "                                                                                                                        Header  \\\n",
       "0                                         Utilfreds passager: »Prøv selv en tur klokken 7.30 en hverdagsmorgen« - politiken.dk   \n",
       "1  Minimalist: »Ofte står jeg og mangler en ting og bliver irriteret på mig selv over, at jeg har smidt den ud« - politiken.dk   \n",
       "2                                              Digitalt forældreskab: Hvilken type er du som Facebook-forælder? - politiken.dk   \n",
       "\n",
       "       PublicationDate  \\\n",
       "0  2002-09-17T00:00:00   \n",
       "1  2013-01-18T00:00:00   \n",
       "2  2006-05-17T00:00:00   \n",
       "\n",
       "                                                                                                                                                                Uri  \\\n",
       "0                                  https://politiken.dk/forbrugogliv/art6088327/Utilfreds-passager-%C2%BBPr%C3%B8v-selv-en-tur-klokken-7.30-en-hverdagsmorgen%C2%AB   \n",
       "1  https://politiken.dk/forbrugogliv/art6287464/%C2%BBOfte-st%C3%A5r-jeg-og-mangler-en-ting-og-bliver-irriteret-p%C3%A5-mig-selv-over-at-jeg-har-smidt-den-ud%C2%AB   \n",
       "2                                                                        https://politiken.dk/forbrugogliv/art5934818/Hvilken-type-er-du-som-Facebook-for%C3%A6lder   \n",
       "\n",
       "                Byline    TextHash  \n",
       "0  Annemette Grundtvig  -346867430  \n",
       "1  Annemette Grundtvig -1346564151  \n",
       "2  Annemette Grundtvig  1473032676  "
      ]
     },
     "execution_count": 166,
     "metadata": {},
     "output_type": "execute_result"
    }
   ],
   "source": [
    "#Load data - and show 120 characters of the body.\n",
    "data = pd.read_json(r'data/data.json')\n",
    "pd.set_option('display.max_colwidth', 220)\n",
    "data.head(3)"
   ]
  },
  {
   "cell_type": "markdown",
   "metadata": {},
   "source": [
    "### Removing duplicates\n",
    "We don't want duplicate articles. First, we'll remove entries with the same URI and body. I save the entries, which have empty bodies and unique URI's - Perhaps we can get the body online, if needed."
   ]
  },
  {
   "cell_type": "code",
   "execution_count": 167,
   "metadata": {},
   "outputs": [
    {
     "name": "stdout",
     "output_type": "stream",
     "text": [
      "With duplicates: (10000, 8)\n",
      "Without duplicates: (9310, 8)\n"
     ]
    }
   ],
   "source": [
    "def same_uri(uri):\n",
    "    return data[data['Uri']==uri]\n",
    "\n",
    "print(\"With duplicates:\", data.shape)\n",
    "data = data.drop_duplicates(subset=[\"Body\", \"Uri\"]) #Remove entries with same body and URI\n",
    "empty_bodies = data[data['Body'] == '']    #Save empty bodied entries in another dataframe.\n",
    "data = data[data['Body'] != '']\n",
    "empty_bodies = empty_bodies[~empty_bodies['Uri'].isin(data['Uri'])] #Remove empty bodies, which are present in data.\n",
    "\n",
    "print(\"Without duplicates:\", data.shape)"
   ]
  },
  {
   "cell_type": "markdown",
   "metadata": {},
   "source": [
    "### Find the minimum length of bodies\n",
    "Let's see the distribution of the body lengths."
   ]
  },
  {
   "cell_type": "code",
   "execution_count": 168,
   "metadata": {},
   "outputs": [
    {
     "data": {
      "text/plain": [
       "[<matplotlib.lines.Line2D at 0x217bdcf4e08>]"
      ]
     },
     "execution_count": 168,
     "metadata": {},
     "output_type": "execute_result"
    },
    {
     "data": {
      "image/png": "[encoded data removed]",
      "text/plain": [
       "<Figure size 1008x576 with 1 Axes>"
      ]
     },
     "metadata": {},
     "output_type": "display_data"
    }
   ],
   "source": [
    "body_lengths = data['Body'].str.len()\n",
    "\n",
    "desc = \"A dent in article counts at 250 characters\"\n",
    "\n",
    "y, bin_edges = np.histogram(body_lengths, bins=150, range=(0,15000))\n",
    "x = 0.5*(bin_edges[1:] + bin_edges[:-1])\n",
    "\n",
    "fig, ax = plt.subplots(1, figsize=(14,8))\n",
    "plt.bar(x,y,width=np.diff(bin_edges))\n",
    "plt.title(\"Histogram of Article Lengths\", fontsize=18)\n",
    "plt.xlabel(\"Character count\", fontsize=16)\n",
    "plt.ylabel(\"Article count\", fontsize=16)\n",
    "plt.text(0.7, 0.7, desc, horizontalalignment='center',verticalalignment='center', transform=ax.transAxes, fontsize=16)\n",
    "plt.plot([250,10000], [30,240], '--', c='red', alpha=.6)\n",
    "#Ændr, så det passer med den endelige data."
   ]
  },
  {
   "cell_type": "markdown",
   "metadata": {},
   "source": [
    "Could that be a good separator?"
   ]
  },
  {
   "cell_type": "markdown",
   "metadata": {},
   "source": [
    "### Filter the data"
   ]
  },
  {
   "cell_type": "code",
   "execution_count": 177,
   "metadata": {},
   "outputs": [],
   "source": [
    "#Find end god minimumslængde - Der er mismatch mellem indices. Er det overhovedet nødvendigt at fjerne korte artikler nu?\n",
    "# min_length = 90\n",
    "# short_bodies = body_lengths[body_lengths < min_length]\n",
    "# bad_bodies = data.iloc[short_bodies.index]\n",
    "# bad_bodies.head()"
   ]
  },
  {
   "cell_type": "markdown",
   "metadata": {},
   "source": [
    "It seems... Wait, do we even have to remove short articles now?"
   ]
  },
  {
   "cell_type": "markdown",
   "metadata": {},
   "source": [
    "### Author insight\n",
    "Remove entries, where the author only occurs once. Perhaps make sure there are not too many entries by the same author - This will not be done immediately, as we do not want to discard valuable data. "
   ]
  },
  {
   "cell_type": "code",
   "execution_count": 178,
   "metadata": {},
   "outputs": [
    {
     "name": "stdout",
     "output_type": "stream",
     "text": [
      "Unique authors:  27\n",
      "Kasper Villum Jensen    1596\n",
      "Karsten Østergaard      1472\n",
      "Emma Busk               1050\n",
      "Thomas Flensburg         919\n",
      "Annemette Grundtvig      481\n",
      "Name: Byline, dtype: int64 \n",
      "...\n"
     ]
    }
   ],
   "source": [
    "#df[df.duplicated(subset=['A','B'], keep=False)]\n",
    "data = data[data.duplicated(subset=['Byline'], keep=False)]\n",
    "print(\"Unique authors: \", len(data['Byline'].value_counts()))\n",
    "print(data['Byline'].value_counts()[:5],\"\\n...\")"
   ]
  },
  {
   "cell_type": "markdown",
   "metadata": {},
   "source": [
    "### Investigating the empty bodies\n",
    "The links still work on some of them, so let's look at them. Probably takes too long time... "
   ]
  },
  {
   "cell_type": "code",
   "execution_count": 221,
   "metadata": {},
   "outputs": [
    {
     "data": {
      "text/html": [
       "<div>\n",
       "<style scoped>\n",
       "    .dataframe tbody tr th:only-of-type {\n",
       "        vertical-align: middle;\n",
       "    }\n",
       "\n",
       "    .dataframe tbody tr th {\n",
       "        vertical-align: top;\n",
       "    }\n",
       "\n",
       "    .dataframe thead th {\n",
       "        text-align: right;\n",
       "    }\n",
       "</style>\n",
       "<table border=\"1\" class=\"dataframe\">\n",
       "  <thead>\n",
       "    <tr style=\"text-align: right;\">\n",
       "      <th></th>\n",
       "      <th>Id</th>\n",
       "      <th>Domain</th>\n",
       "      <th>Body</th>\n",
       "      <th>Header</th>\n",
       "      <th>PublicationDate</th>\n",
       "      <th>Uri</th>\n",
       "      <th>Byline</th>\n",
       "      <th>TextHash</th>\n",
       "    </tr>\n",
       "  </thead>\n",
       "  <tbody>\n",
       "    <tr>\n",
       "      <th>0</th>\n",
       "      <td>932327</td>\n",
       "      <td>www.forskerforum.dk</td>\n",
       "      <td>Jeg kommer og gruppevoldtager dig – foran dine tre døtre. Religion og køn trigger. Der findes ingen statistik over, hvor mange forskere der rammes af trusler, men Institut for Menneskerettigheder har gennemført en un...</td>\n",
       "      <td>Trusler får forskere til at tie</td>\n",
       "      <td>2021-03-11T00:00:00</td>\n",
       "      <td>https://www.forskerforum.dk/magasinet/2021/341/trusler-faar-forskere-til-at-tie</td>\n",
       "      <td>Claus Baggersgaard</td>\n",
       "      <td>4039032661491534906</td>\n",
       "    </tr>\n",
       "    <tr>\n",
       "      <th>1</th>\n",
       "      <td>932328</td>\n",
       "      <td>http://www.teateravisen.dk</td>\n",
       "      <td>Der er få øjeblikke i Kunstnerkollektivet Vontrapps performanceforestilling ’Syndfloden’, hvor vi faktisk stiller os selv vigtige spørgsmål. Resten af tiden er forestillingen meningsløst teater, der skræmmer nysgerri...</td>\n",
       "      <td>Moster-aerobic og en surmulende verdensleder</td>\n",
       "      <td>2020-01-08T00:00:00</td>\n",
       "      <td>http://www.teateravisen.dk/moster-aerobic-og-en-surmulende-verdensleder.html</td>\n",
       "      <td>Morten Hede</td>\n",
       "      <td>-6486673911442387243</td>\n",
       "    </tr>\n",
       "  </tbody>\n",
       "</table>\n",
       "</div>"
      ],
      "text/plain": [
       "       Id                      Domain  \\\n",
       "0  932327         www.forskerforum.dk   \n",
       "1  932328  http://www.teateravisen.dk   \n",
       "\n",
       "                                                                                                                                                                                                                          Body  \\\n",
       "0  Jeg kommer og gruppevoldtager dig – foran dine tre døtre. Religion og køn trigger. Der findes ingen statistik over, hvor mange forskere der rammes af trusler, men Institut for Menneskerettigheder har gennemført en un...   \n",
       "1  Der er få øjeblikke i Kunstnerkollektivet Vontrapps performanceforestilling ’Syndfloden’, hvor vi faktisk stiller os selv vigtige spørgsmål. Resten af tiden er forestillingen meningsløst teater, der skræmmer nysgerri...   \n",
       "\n",
       "                                         Header      PublicationDate  \\\n",
       "0               Trusler får forskere til at tie  2021-03-11T00:00:00   \n",
       "1  Moster-aerobic og en surmulende verdensleder  2020-01-08T00:00:00   \n",
       "\n",
       "                                                                               Uri  \\\n",
       "0  https://www.forskerforum.dk/magasinet/2021/341/trusler-faar-forskere-til-at-tie   \n",
       "1     http://www.teateravisen.dk/moster-aerobic-og-en-surmulende-verdensleder.html   \n",
       "\n",
       "               Byline              TextHash  \n",
       "0  Claus Baggersgaard   4039032661491534906  \n",
       "1         Morten Hede  -6486673911442387243  "
      ]
     },
     "execution_count": 221,
     "metadata": {},
     "output_type": "execute_result"
    }
   ],
   "source": [
    "## Dette tager for lang tid. \n",
    "\n",
    "df = pd.DataFrame(columns=['Id', 'Domain', 'Body', 'Header', 'PublicationDate', 'Uri', 'Byline', 'TextHash'])\n",
    "\n",
    "bod = '''Jeg kommer og gruppevoldtager dig – foran dine tre døtre. Religion og køn trigger. Der findes ingen statistik over, hvor mange forskere der rammes af trusler, men Institut for Menneskerettigheder har gennemført en undersøgelse af hadefulde ytringer på Facebook, hvor man analyserede 3.000 statistisk tilfældigt indsamlede kommentarer fra DR Nyheders og TV2 Nyheders Facebook-sider. 15 % af kommentarerne viste sig at være hadefulde. 40 % af de hadefulde kommentarer forekom i forbindelse med opslag om religion og tro, 34 % i forbindelse med flygtninge og 29 % ved nyhedsopslag om ligestilling. “Der er nogle emner, der særligt trigger en hadefuld retorik, og det er klart, at forskere, der udtaler sig i forbindelse med emner af den type, vil blive hårdt ramt. Det handler meget om værdi- og identitetspolitik og om køn og ligestilling. Der er ikke plads til nuancer og til en reel samtale på de sociale medier”, siger Lumi Zuleta, der er specialkonsulent ved Institut for Menneskerettigheder. Hun tilføjer, at undersøgelser viser, at tonen og debatformen i stor stil får de 18-29-årige og kvinderne til at afholde sig fra at deltage. “Jeg forstår godt, hvis der er forskere, som siger, at de ikke vil bruge deres tid og energi på at formidle deres forskning, fordi det er meget opslidende at skulle håndtere personangreb”, siger Lumi Zuleta. De bliver sgu pløkket ned de fucking muslimer hvis de bare så meget som nærmer sig Stigende polarisering. Vincent F. Hendricks, professor i formel filosofi ved Københavns Universitet og grundlægger og leder af Center for Information og Boblestudier, fortæller, at det sker, at han selv modtager trusler. For nylig henvendte en fra Stram Kurs sig til ham flere gange og skrev bl.a.: “Vi ved, hvor du bor”, men han har også prøvet det, der var langt værre. “Jeg fik for år tilbage tilsendt en patron med posten med en besked, hvori der stod, at “en død neger er en god neger”, fortæller Vincent Hendricks. Han tilføjer, at forskningen ved Center for Information og Boblestudier bl.a. viser, at et hurtigere informationsflow i samfundet er med til at puste til ilden, og at folk i stigende grad allierer sig med dem, de selv er enige med. Konsekvensen er, hvad forskerne kalder affektiv polarisering, altså at individer udviser stærkt negative følelser over for politiske modstandere og ikke er villige til at interagere med dem. “Der er forskningsområder, som er letantændelige, fordi de har at gøre med identitetspolitik, eller fordi forskningen handler om noget tæt på folks hverdag som fx nedlukningen af samfundet. De emner er sprængfarlige”, siger Vincent Hendricks.'''\n",
    "df.loc[len(df.index)] = [932327, 'www.forskerforum.dk', bod, 'Trusler får forskere til at tie', '2021-03-11T00:00:00', 'https://www.forskerforum.dk/magasinet/2021/341/trusler-faar-forskere-til-at-tie', 'Claus Baggersgaard', hash(bod)]\n",
    "\n",
    "bod = '''Der er få øjeblikke i Kunstnerkollektivet Vontrapps performanceforestilling ’Syndfloden’, hvor vi faktisk stiller os selv vigtige spørgsmål. Resten af tiden er forestillingen meningsløst teater, der skræmmer nysgerrige publikummere væk fra performancegenren. Denne anmelder forlader tørdokken på M/S Museet for Søfart i Helsingør med et venligt smil og et høfligt nik til en billetkontrollør. Det skal maskere en buldrende vrede over forestillingen ’Syndfloden’ af Kunstnerkollektivet Vontrapp, som spiller på Passage Festival. For sjældent er en time blevet brugt på noget så intetsigende. Det havde været væsentligt mere åndsrigt blot at sætte sig på havnekanten og stirre ud i horisonten som en anden Ole på en knold. I stedet ender vi med at stå med blå sikkerhedshjelm og gule gummihandsker på, holdende en appelsin i den ene hånd og en dåsesodavand i den anden hånd, mens vi udfører moster-aerobic i pæne kolonner. ’Syndfloden’ er performance på den gammeldags facon. Men selv da performance-genren var ny, og man blev udsat for mystiske happenings både hid og did, så var der dog en mening med galskaben. Her virker det, som om Kunstnerkollektivet Vontrapp har fået en (velsagtens god) idé, sendt fondsansøgningerne afsted, fået tilsagn om støttemidler, og siden da glemt at udvikle idéen til en egentlig forestilling. Og pludselig en dag stod publikum og ventede, og så måtte man jo vise, hvad man havde at vise. Tingene trækkes i langdrag. De første 20-30 minutter går med, at vi står oppe på grundniveau og kigger ned i museets gård, hvor performerne bevæger sig rundt og lægger rekvisitter ud på jorden. I begyndelsen, hvor en enkelt mand langsomt trækker et kabel ud, virker det industrielt og udtryksfuldt. Ikke mindst med Sandra Boss’ udmærkede lyddesign af elektronisk ambientmusik. Men da der efterhånden bliver placeret både en trappestige, spande med appelsiner, små og store træskafter, metallægter og uendeligt meget tovværk, begynder tørdokken at ligne en forladt gøglerskole. Og nu er det vores tur til at bevæge os. Vi følger den sure tropsfører, kaldet Verdenslederen, i rødt, futuristisk hunnerkriger-lignende tøj hen til trappen og ned i tørdokken. Herfra er resten af forestillingen mest et koordineringsarbejde for performerne. Med mimik og gestik signalerer de, hvor vi skal stå, og hvad vi skal gøre. Det er Verdenslederens soldater i Kansas-blå kostumer, der guider os. De er også stramme i betrækket, men de smiler og nikker venligt, som en flykabinemedarbejder, når de kan se, at vi ikke er sikre på, om vi gør det rigtigt. Til sidst får vi i fællesskab rejst noget, der med lidt fantasi godt kunne ligne et skib. Måske især for de gratister, der står oppe ved gelænderet og kunne se hele konstruktionen oppefra, hvis de altså ikke for længst var gået af ren og skær kedsomhed. Vi kæmper med autoritetstroen. Her slutter forestillingen. Netop som det så ud, som om vi endelig var klar til at gå i gang. Titlen ’Syndfloden’ henviser naturligvis til dén passage i Bibelen, hvor Vorherre beslutter sig for at begynde på en frisk ved at udrydde alt andet, end det gode og retfærdige. Syndfloden kan altså betragtes som både en begyndelse og en slutning. Om det også var tanken hos Vontrapp, er ikke til at sige. I hvert fald bliver slutningen en begyndelse. Og da vi endelig forstår, at forestillingen er slut (fordi de medvirkende er gået), og vi efterhånden overvinder respekten for autoriteten i rødt, begynder vi at lægge rekvisitterne fra os og drysse afsted fra skuepladsen igen. Forestillingens bedste side er, at den får os til at stille spørgsmål til os selv. Ville vi adlyde en leder under en krisesituation? Ville vi kunne arbejde sammen? Bygger vi arken, fordi vi er nødt til det, eller fordi nogle siger, at vi er nødt til det? Det er ikke uden relevans i en coronatid, men det er absolut ikke den bedste måde at stille den slags spørgsmål på. For det fungerer kun i de par minutter, hvor vi står og kigger forvirret på hinanden; hvor nogle klapper og begynder at tale sammen, mens andre stadig står og udfører den opgave, de er blevet sat til. Resten af tiden er forestillingen lige dele byggerod, rytmisk gymnastik og tankeløst teater. Performancegenren kan noget, som andre scenekunstformer ikke kan. Men den bliver ofte skudt i skoene at være for arty-farty og ekskluderende. Det skyldes forestillinger som ’Syndfloden’. Hvis nye performancepublikummer begynder her, kan denne anmelder ikke bebrejde dem, at de aldrig kommer tilbage igen.'''\n",
    "df.loc[len(df.index)] = [932328, 'http://www.teateravisen.dk', bod, 'Moster-aerobic og en surmulende verdensleder', '2020-01-08T00:00:00', 'http://www.teateravisen.dk/moster-aerobic-og-en-surmulende-verdensleder.html', 'Morten Hede', hash(bod)]\n",
    "\n",
    "df"
   ]
  },
  {
   "cell_type": "code",
   "execution_count": 192,
   "metadata": {},
   "outputs": [
    {
     "data": {
      "text/plain": [
       "Index(['Id', 'Domain', 'Body', 'Header', 'PublicationDate', 'Uri', 'Byline',\n",
       "       'TextHash'],\n",
       "      dtype='object')"
      ]
     },
     "execution_count": 192,
     "metadata": {},
     "output_type": "execute_result"
    }
   ],
   "source": [
    "data.keys()"
   ]
  },
  {
   "cell_type": "code",
   "execution_count": 215,
   "metadata": {},
   "outputs": [
    {
     "data": {
      "text/plain": [
       "8966         http://www.teateravisen.dk/moster-aerobic-og-en-surmulende-verdensleder.html\n",
       "8968           http://www.teateravisen.dk/paa-vej-mod-stjernerne-i-tantes-luftballon.html\n",
       "8975           http://www.teateravisen.dk/en-god-historie-om-den-nye-dreng-i-klassen.html\n",
       "8976       http://www.teateravisen.dk/flygtningekrisen-sat-i-scene-for-boern-og-unge.html\n",
       "8977      http://www.teateravisen.dk/i-skoven-blaeser-de-klassiske-eventyr-et-stykke.html\n",
       "8978                  http://www.teateravisen.dk/maerkvaerk-udfordrer-tabu-om-doeden.html\n",
       "8982    http://www.teateravisen.dk/et-underbelyst-identitetskriseproblem-blandt-unge.html\n",
       "8986         http://www.teateravisen.dk/terapeutisk-vandring-igennem-afskedens-faser.html\n",
       "8991                                  http://www.teateravisen.dk/det-siger-blip-baat.html\n",
       "8993                               http://www.teateravisen.dk/naar-fuglen-er-floejet.html\n",
       "Name: Uri, dtype: object"
      ]
     },
     "execution_count": 215,
     "metadata": {},
     "output_type": "execute_result"
    }
   ],
   "source": [
    "empty_bodies['Uri'][20:30]"
   ]
  },
  {
   "cell_type": "code",
   "execution_count": 208,
   "metadata": {},
   "outputs": [
    {
     "data": {
      "text/plain": [
       "('Læs artiklen senere Gemt (klik for at fjerne) Læst Giv artiklen videre Som abonnent kan du ubegrænset dele artikler med dine venner og familie. Læs mere om fordelene ved et abonnement her . FOR ABONNENTER »Der var overhovedet ingen beskeder over højttaleren« »Det har været ganske forfærdeligt. Er blevet meget forsinket på arbejde og hjem. Overfyldte toge, aflyste toge, små toge (ikke lange), toge der pludselig ikke holdt på visse stationer, så man blev over 30 min. forsinket. Det ville klæde DSB at give penge retur, når man har periodekort og i den grad ikke får den vare, man har betalt for. Ofte er der overhovedet ingen beskeder over højttaleren, og på skiltningen på perronen går afgangstiden ned fra 10 min. til 0 og derpå forfra uden tog og uden forklaring. Prøv selv en tur kl. 7.30 en hverdagsmorgen!!!!!«. Der skete en fejl, prøv igen senere Der skete en fejl, prøv igen senere eller søg hjælp via vores kundecenter luk Prøv Politiken i 30 dage for kun 1 kr. Få adgang til Politikens digitale univers, og læs artikler, lyt til podcasts og løs krydsord.',\n",
       " -346867430)"
      ]
     },
     "execution_count": 208,
     "metadata": {},
     "output_type": "execute_result"
    }
   ],
   "source": [
    "data['Body'][0], data['TextHash'][0]"
   ]
  },
  {
   "cell_type": "code",
   "execution_count": 206,
   "metadata": {},
   "outputs": [
    {
     "data": {
      "text/plain": [
       "4039032661491534906"
      ]
     },
     "execution_count": 206,
     "metadata": {},
     "output_type": "execute_result"
    }
   ],
   "source": [
    "hash(bod)"
   ]
  },
  {
   "cell_type": "code",
   "execution_count": null,
   "metadata": {},
   "outputs": [],
   "source": []
  }
 ],
 "metadata": {
  "kernelspec": {
   "display_name": "Python 3",
   "language": "python",
   "name": "python3"
  },
  "language_info": {
   "codemirror_mode": {
    "name": "ipython",
    "version": 3
   },
   "file_extension": ".py",
   "mimetype": "text/x-python",
   "name": "python",
   "nbconvert_exporter": "python",
   "pygments_lexer": "ipython3",
   "version": "3.7.4"
  }
 },
 "nbformat": 4,
 "nbformat_minor": 4
}
