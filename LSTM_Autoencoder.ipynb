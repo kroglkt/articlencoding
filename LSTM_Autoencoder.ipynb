{
 "cells": [
  {
   "cell_type": "markdown",
   "metadata": {},
   "source": [
    "# LSTM Autoencoder Implementation\n",
    "This is the notebook for the autoencoder we will use for automatic feature extraction. At the moment it is more of a test, than actual implementation. \n",
    "\n",
    "May 29th comment: This notebook ended up not being used. See Transformer.ipynb for extraction of automatic encodings. "
   ]
  },
  {
   "cell_type": "code",
   "execution_count": 1,
   "metadata": {},
   "outputs": [],
   "source": [
    "import numpy as np\n",
    "import pandas as pd\n",
    "import re\n",
    "from tqdm.notebook import tqdm\n",
    "from sklearn.model_selection import train_test_split\n",
    "from gensim.models import Word2Vec, Phrases"
   ]
  },
  {
   "cell_type": "markdown",
   "metadata": {},
   "source": [
    "## Functions\n",
    "Functions for processing some data beforehand..."
   ]
  },
  {
   "cell_type": "code",
   "execution_count": 4,
   "metadata": {},
   "outputs": [],
   "source": [
    "def remove_dots(word):\n",
    "    return re.sub(r',|\\.|:|!|\\?|;', '', word)\n",
    "\n",
    "def split_words(text):\n",
    "    '''Returns an array with text split into words'''\n",
    "    text = text.lower()\n",
    "    string = text.split()\n",
    "    no_dot = [remove_dots(x) for x in string]\n",
    "    return no_dot"
   ]
  },
  {
   "cell_type": "markdown",
   "metadata": {},
   "source": [
    "## Word2Vec vectorization"
   ]
  },
  {
   "cell_type": "code",
   "execution_count": 9,
   "metadata": {},
   "outputs": [],
   "source": [
    "#Edit these values to your liking.\n",
    "vector_size = 200\n",
    "min_count = 20\n",
    "workers = 4\n",
    "window = 10\n",
    "sample = 1e-3"
   ]
  },
  {
   "cell_type": "code",
   "execution_count": 10,
   "metadata": {},
   "outputs": [
    {
     "data": {
      "application/vnd.jupyter.widget-view+json": {
       "model_id": "fe4472e350ec474d906e68ea2077e087",
       "version_major": 2,
       "version_minor": 0
      },
      "text/plain": [
       "  0%|          | 0/299025 [00:00<?, ?it/s]"
      ]
     },
     "metadata": {},
     "output_type": "display_data"
    }
   ],
   "source": [
    "#Load data - headers for now.\n",
    "with open('headers.txt', 'r', encoding='utf-8') as f:\n",
    "    headers = f.readlines()\n",
    "    headers = [x.replace('\\n','') for x in headers]\n",
    "\n",
    "headers = [split_words(x) for x in tqdm(headers)]\n",
    "X_train, X_test = train_test_split(headers) #X_test not vectorized for now"
   ]
  },
  {
   "cell_type": "code",
   "execution_count": 11,
   "metadata": {},
   "outputs": [
    {
     "name": "stdout",
     "output_type": "stream",
     "text": [
      "Wall time: 7.36 s\n"
     ]
    }
   ],
   "source": [
    "%%time\n",
    "bigram = Phrases(X_train)\n",
    "trigram = Phrases(bigram[X_train])"
   ]
  },
  {
   "cell_type": "code",
   "execution_count": 12,
   "metadata": {},
   "outputs": [
    {
     "name": "stdout",
     "output_type": "stream",
     "text": [
      "Wall time: 5.67 s\n"
     ]
    },
    {
     "name": "stderr",
     "output_type": "stream",
     "text": [
      "c:\\python37\\lib\\site-packages\\ipykernel_launcher.py:4: DeprecationWarning: Call to deprecated `init_sims` (Gensim 4.0.0 implemented internal optimizations that make calls to init_sims() unnecessary. init_sims() is now obsoleted and will be completely removed in future versions. See https://github.com/RaRe-Technologies/gensim/wiki/Migrating-from-Gensim-3.x-to-4).\n",
      "  after removing the cwd from sys.path.\n"
     ]
    }
   ],
   "source": [
    "%%time\n",
    "#trigram[bigram[X_train]] Smid ind, når der skiftes til Body\n",
    "model_bigram = Word2Vec(X_train, workers=workers, vector_size=vector_size,\n",
    "                       min_count=min_count, window=window, sample=sample)\n",
    "model_bigram.init_sims()"
   ]
  },
  {
   "cell_type": "code",
   "execution_count": 13,
   "metadata": {},
   "outputs": [],
   "source": [
    "vectors = model_bigram.wv"
   ]
  },
  {
   "cell_type": "code",
   "execution_count": 68,
   "metadata": {},
   "outputs": [],
   "source": [
    "vector_dict = {}\n",
    "vector_matrix\n",
    "for idx, key in enumerate(vectors.key_to_index):\n",
    "    vector_dict[idx] = vectors[key]\n",
    "vector_matrix = np.array(list(vector_dict.values()))\n",
    "vocab_size = len(vectors.key_to_index)"
   ]
  },
  {
   "cell_type": "markdown",
   "metadata": {},
   "source": [
    "# Autoencoder"
   ]
  },
  {
   "cell_type": "code",
   "execution_count": 69,
   "metadata": {},
   "outputs": [],
   "source": [
    "from keras.layers import Input, Embedding, Bidirectional, LSTM, GlobalMaxPooling1D, Dense, RepeatVector, TimeDistributed\n",
    "from keras import regularizers\n",
    "from keras.models import Model\n",
    "import keras"
   ]
  },
  {
   "cell_type": "code",
   "execution_count": 87,
   "metadata": {},
   "outputs": [
    {
     "name": "stdout",
     "output_type": "stream",
     "text": [
      "Model: \"model_9\"\n",
      "_________________________________________________________________\n",
      "Layer (type)                 Output Shape              Param #   \n",
      "=================================================================\n",
      "input_19 (InputLayer)        [(None, 200, 1)]          0         \n",
      "_________________________________________________________________\n",
      "bidirectional_41 (Bidirectio (None, 200, 256)          133120    \n",
      "_________________________________________________________________\n",
      "bidirectional_42 (Bidirectio (None, 128)               164352    \n",
      "_________________________________________________________________\n",
      "repeat_vector_9 (RepeatVecto (None, 200, 128)          0         \n",
      "_________________________________________________________________\n",
      "bidirectional_43 (Bidirectio (None, 200, 128)          98816     \n",
      "_________________________________________________________________\n",
      "bidirectional_44 (Bidirectio (None, 200, 256)          263168    \n",
      "_________________________________________________________________\n",
      "time_distributed_9 (TimeDist (None, 200, 200)          51400     \n",
      "=================================================================\n",
      "Total params: 710,856\n",
      "Trainable params: 710,856\n",
      "Non-trainable params: 0\n",
      "_________________________________________________________________\n"
     ]
    }
   ],
   "source": [
    "inp = Input(shape=(vector_size,1)) #Vector_size, step_size instead?\n",
    " #Embedding?\n",
    "encoder = Bidirectional(LSTM(128, activation='relu', return_sequences=True))(inp)\n",
    "encoder = Bidirectional(LSTM( 64, activation='relu', return_sequences=False))(encoder) #return state?\n",
    "\n",
    "decoder = RepeatVector(vector_size)(encoder)\n",
    "decoder = Bidirectional(LSTM( 64, activation='relu', return_sequences=True))(decoder) #initial state?\n",
    "decoder = Bidirectional(LSTM(128, activation='relu', return_sequences=True))(decoder)\n",
    "\n",
    "decoder_output = TimeDistributed(Dense(vector_size, activation=None))(decoder)\n",
    "\n",
    "autoencoder = Model(inputs=inp, outputs=decoder_output)\n",
    "autoencoder.compile(optimizer=keras.optimizers.Adam(learning_rate=0.005), loss='mse', metrics=['mse'])\n",
    "autoencoder.summary()"
   ]
  },
  {
   "cell_type": "code",
   "execution_count": 88,
   "metadata": {},
   "outputs": [
    {
     "name": "stdout",
     "output_type": "stream",
     "text": [
      "Epoch 1/5\n",
      "138/138 [==============================] - 203s 1s/step - loss: 0.0497 - mse: 0.0497\n",
      "Epoch 2/5\n",
      "138/138 [==============================] - 210s 2s/step - loss: 0.0497 - mse: 0.0497\n",
      "Epoch 3/5\n",
      "138/138 [==============================] - 222s 2s/step - loss: 0.0497 - mse: 0.0497\n",
      "Epoch 4/5\n",
      "138/138 [==============================] - 221s 2s/step - loss: 0.0497 - mse: 0.0497\n",
      "Epoch 5/5\n",
      "138/138 [==============================] - 212s 2s/step - loss: 0.0497 - mse: 0.0497\n"
     ]
    },
    {
     "data": {
      "text/plain": [
       "<tensorflow.python.keras.callbacks.History at 0x21f6caa2788>"
      ]
     },
     "execution_count": 88,
     "metadata": {},
     "output_type": "execute_result"
    }
   ],
   "source": [
    "input_matrix = np.expand_dims(vector_matrix, axis=2) #??\n",
    "autoencoder.fit(input_matrix, input_matrix, epochs=5, batch_size=64)"
   ]
  },
  {
   "cell_type": "code",
   "execution_count": 85,
   "metadata": {},
   "outputs": [
    {
     "data": {
      "text/plain": [
       "(8823, 200, 1)"
      ]
     },
     "execution_count": 85,
     "metadata": {},
     "output_type": "execute_result"
    }
   ],
   "source": [
    "np.expand_dims(vector_matrix, axis=2).shape"
   ]
  },
  {
   "cell_type": "code",
   "execution_count": 105,
   "metadata": {},
   "outputs": [],
   "source": [
    "pred = autoencoder.predict(input_matrix[3])"
   ]
  },
  {
   "cell_type": "code",
   "execution_count": 106,
   "metadata": {},
   "outputs": [
    {
     "data": {
      "text/plain": [
       "[('vejret', 0.168649360537529),\n",
       " ('play', 0.15579655766487122),\n",
       " ('ol', 0.15548251569271088),\n",
       " ('lift', 0.15332524478435516),\n",
       " ('royal', 0.14815519750118256),\n",
       " ('resultat', 0.14583541452884674),\n",
       " ('hav', 0.14575155079364777),\n",
       " ('nr', 0.14527243375778198),\n",
       " ('odense', 0.1450156718492508),\n",
       " ('løft', 0.13693858683109283)]"
      ]
     },
     "execution_count": 106,
     "metadata": {},
     "output_type": "execute_result"
    }
   ],
   "source": [
    "vectors.most_similar(pred[0])"
   ]
  },
  {
   "cell_type": "code",
   "execution_count": 108,
   "metadata": {},
   "outputs": [
    {
     "data": {
      "text/plain": [
       "array([[-0.03538927],\n",
       "       [-0.83774674],\n",
       "       [-0.5237304 ],\n",
       "       [-0.36085996],\n",
       "       [ 0.60985583],\n",
       "       [ 0.67223126],\n",
       "       [-0.21220826],\n",
       "       [-0.1438552 ],\n",
       "       [-0.44730672],\n",
       "       [-0.30529448],\n",
       "       [-0.0538767 ],\n",
       "       [ 0.20183095],\n",
       "       [-0.05600531],\n",
       "       [ 0.4652583 ],\n",
       "       [ 0.5390542 ],\n",
       "       [-0.4623847 ],\n",
       "       [ 0.90138906],\n",
       "       [ 1.4761131 ],\n",
       "       [-0.0810765 ],\n",
       "       [-1.3600254 ],\n",
       "       [ 0.00536684],\n",
       "       [-0.8819717 ],\n",
       "       [-1.0364987 ],\n",
       "       [-0.367825  ],\n",
       "       [ 0.7923582 ],\n",
       "       [-0.13464624],\n",
       "       [ 0.51270646],\n",
       "       [ 0.63217   ],\n",
       "       [-0.1583858 ],\n",
       "       [ 0.59974915],\n",
       "       [ 0.8403504 ],\n",
       "       [-0.42354998],\n",
       "       [-1.132408  ],\n",
       "       [-0.11255053],\n",
       "       [-0.46761727],\n",
       "       [-0.10844474],\n",
       "       [-0.28162044],\n",
       "       [-0.1653496 ],\n",
       "       [-0.02107022],\n",
       "       [-0.06210085],\n",
       "       [-0.6008779 ],\n",
       "       [-0.4125722 ],\n",
       "       [-0.54658145],\n",
       "       [ 0.52796745],\n",
       "       [ 0.69067633],\n",
       "       [ 1.1559882 ],\n",
       "       [-0.46520302],\n",
       "       [ 0.27025077],\n",
       "       [-0.34568554],\n",
       "       [-0.6121282 ],\n",
       "       [-0.51567644],\n",
       "       [ 0.36180818],\n",
       "       [-1.4289297 ],\n",
       "       [-0.619328  ],\n",
       "       [-1.7768549 ],\n",
       "       [ 0.22374596],\n",
       "       [-0.11880673],\n",
       "       [ 0.05485577],\n",
       "       [-0.34391865],\n",
       "       [-0.10739814],\n",
       "       [ 0.3688966 ],\n",
       "       [-0.27676177],\n",
       "       [ 0.830875  ],\n",
       "       [ 1.378941  ],\n",
       "       [-0.4606291 ],\n",
       "       [ 0.6244499 ],\n",
       "       [ 0.56477016],\n",
       "       [ 0.77195543],\n",
       "       [-0.07272831],\n",
       "       [ 0.5152271 ],\n",
       "       [ 0.4918221 ],\n",
       "       [ 0.82629716],\n",
       "       [ 0.6945551 ],\n",
       "       [ 0.94679   ],\n",
       "       [ 0.13265438],\n",
       "       [ 2.1905649 ],\n",
       "       [ 0.8804064 ],\n",
       "       [ 0.4543057 ],\n",
       "       [ 0.51969886],\n",
       "       [-0.20086446],\n",
       "       [ 1.2071611 ],\n",
       "       [-1.5706495 ],\n",
       "       [-0.26388258],\n",
       "       [-0.85488933],\n",
       "       [ 0.73975325],\n",
       "       [ 0.21445523],\n",
       "       [ 0.4241743 ],\n",
       "       [-0.6518594 ],\n",
       "       [ 0.93295765],\n",
       "       [-0.6468352 ],\n",
       "       [-0.49266964],\n",
       "       [ 0.61996   ],\n",
       "       [ 0.7117545 ],\n",
       "       [ 0.32278052],\n",
       "       [ 0.4020733 ],\n",
       "       [ 1.3918062 ],\n",
       "       [ 0.7681153 ],\n",
       "       [ 0.9942243 ],\n",
       "       [ 0.74282783],\n",
       "       [-0.7070541 ],\n",
       "       [ 0.38819098],\n",
       "       [ 0.26606995],\n",
       "       [ 0.3049992 ],\n",
       "       [ 0.11966559],\n",
       "       [ 0.52699405],\n",
       "       [-0.5002892 ],\n",
       "       [ 0.26447496],\n",
       "       [-0.44241706],\n",
       "       [ 1.4701878 ],\n",
       "       [-0.39055336],\n",
       "       [ 0.76062125],\n",
       "       [ 1.2159009 ],\n",
       "       [ 0.43052983],\n",
       "       [-0.37822446],\n",
       "       [ 2.212443  ],\n",
       "       [ 0.11634739],\n",
       "       [ 0.4028242 ],\n",
       "       [-0.81229883],\n",
       "       [-1.7501987 ],\n",
       "       [-0.38381892],\n",
       "       [-0.11307937],\n",
       "       [-1.2625538 ],\n",
       "       [ 1.1451415 ],\n",
       "       [ 1.4863526 ],\n",
       "       [-0.8275692 ],\n",
       "       [-1.3803109 ],\n",
       "       [ 0.6191821 ],\n",
       "       [ 0.6716772 ],\n",
       "       [ 0.1804958 ],\n",
       "       [ 0.34819585],\n",
       "       [-0.06486835],\n",
       "       [ 0.07706082],\n",
       "       [-0.665567  ],\n",
       "       [ 0.6446461 ],\n",
       "       [-0.15167382],\n",
       "       [ 1.1691041 ],\n",
       "       [ 1.6762043 ],\n",
       "       [-0.7428247 ],\n",
       "       [-1.5783943 ],\n",
       "       [ 2.1087506 ],\n",
       "       [-0.27723056],\n",
       "       [ 1.023995  ],\n",
       "       [ 0.53994536],\n",
       "       [-0.7424653 ],\n",
       "       [ 1.2859299 ],\n",
       "       [ 0.49594992],\n",
       "       [ 1.8615681 ],\n",
       "       [ 0.9323871 ],\n",
       "       [-0.99242085],\n",
       "       [ 0.8718109 ],\n",
       "       [ 0.04930278],\n",
       "       [-0.500852  ],\n",
       "       [ 0.23760614],\n",
       "       [-1.5008497 ],\n",
       "       [-0.37417862],\n",
       "       [-0.385043  ],\n",
       "       [-1.0808902 ],\n",
       "       [ 0.576106  ],\n",
       "       [ 0.50794995],\n",
       "       [-0.48970112],\n",
       "       [-0.55679923],\n",
       "       [ 0.23023552],\n",
       "       [ 1.1002489 ],\n",
       "       [ 0.86681724],\n",
       "       [ 0.03471553],\n",
       "       [-0.5449152 ],\n",
       "       [ 1.4626883 ],\n",
       "       [ 1.0991775 ],\n",
       "       [-1.5199038 ],\n",
       "       [-1.2059153 ],\n",
       "       [ 0.8880626 ],\n",
       "       [ 0.9917579 ],\n",
       "       [-0.2985601 ],\n",
       "       [ 0.86154574],\n",
       "       [-0.0194328 ],\n",
       "       [ 0.8433418 ],\n",
       "       [-0.47785833],\n",
       "       [ 1.919517  ],\n",
       "       [ 0.03023931],\n",
       "       [-0.68472   ],\n",
       "       [-0.6376635 ],\n",
       "       [ 0.02103629],\n",
       "       [ 0.58219236],\n",
       "       [-0.13598208],\n",
       "       [-0.5303458 ],\n",
       "       [-0.22888257],\n",
       "       [ 0.5612973 ],\n",
       "       [-0.05877772],\n",
       "       [-0.07183753],\n",
       "       [-1.12763   ],\n",
       "       [-0.53273743],\n",
       "       [ 0.834825  ],\n",
       "       [-0.7067427 ],\n",
       "       [ 0.39534208],\n",
       "       [-0.04237283],\n",
       "       [-0.76276886],\n",
       "       [ 0.46255162],\n",
       "       [ 0.02982789],\n",
       "       [-0.6166795 ],\n",
       "       [-0.02577926]], dtype=float32)"
      ]
     },
     "execution_count": 108,
     "metadata": {},
     "output_type": "execute_result"
    }
   ],
   "source": [
    "input_matrix[1]"
   ]
  },
  {
   "cell_type": "code",
   "execution_count": null,
   "metadata": {},
   "outputs": [],
   "source": []
  },
  {
   "cell_type": "code",
   "execution_count": 6,
   "metadata": {},
   "outputs": [],
   "source": [
    "import os"
   ]
  },
  {
   "cell_type": "code",
   "execution_count": 7,
   "metadata": {},
   "outputs": [
    {
     "data": {
      "application/vnd.jupyter.widget-view+json": {
       "model_id": "5ceeaf96631e4fc6899e3f87cdc34f25",
       "version_major": 2,
       "version_minor": 0
      },
      "text/plain": [
       "  0%|          | 0/31 [00:00<?, ?it/s]"
      ]
     },
     "metadata": {},
     "output_type": "display_data"
    }
   ],
   "source": [
    "path = 'data/additional/scraped'\n",
    "files = os.listdir(path)\n",
    "dataframes = []\n",
    "for file in tqdm(files):\n",
    "    dataframes.append(pd.read_json(path+'/'+file))\n",
    "\n",
    "data = pd.concat(dataframes)\n",
    "del data['level_0']\n",
    "del data['index']"
   ]
  },
  {
   "cell_type": "code",
   "execution_count": 21,
   "metadata": {},
   "outputs": [
    {
     "data": {
      "application/vnd.jupyter.widget-view+json": {
       "model_id": "fa9031229cf14c44995e832e50bf34e6",
       "version_major": 2,
       "version_minor": 0
      },
      "text/plain": [
       "  0%|          | 0/300822 [00:00<?, ?it/s]"
      ]
     },
     "metadata": {},
     "output_type": "display_data"
    },
    {
     "ename": "KeyboardInterrupt",
     "evalue": "",
     "output_type": "error",
     "traceback": [
      "\u001b[1;31m---------------------------------------------------------------------------\u001b[0m",
      "\u001b[1;31mKeyboardInterrupt\u001b[0m                         Traceback (most recent call last)",
      "\u001b[1;32m~\\AppData\\Local\\Temp\\ipykernel_11512\\1274515813.py\u001b[0m in \u001b[0;36m<module>\u001b[1;34m\u001b[0m\n\u001b[0;32m     10\u001b[0m     \u001b[1;32mif\u001b[0m \u001b[0mlen\u001b[0m\u001b[1;33m(\u001b[0m\u001b[0mtext\u001b[0m\u001b[1;33m)\u001b[0m \u001b[1;33m<\u001b[0m \u001b[1;36m10\u001b[0m\u001b[1;33m:\u001b[0m\u001b[1;33m\u001b[0m\u001b[1;33m\u001b[0m\u001b[0m\n\u001b[0;32m     11\u001b[0m         \u001b[1;32mcontinue\u001b[0m\u001b[1;33m\u001b[0m\u001b[1;33m\u001b[0m\u001b[0m\n\u001b[1;32m---> 12\u001b[1;33m     \u001b[0mfinal_text\u001b[0m \u001b[1;33m+=\u001b[0m \u001b[1;34m''\u001b[0m\u001b[1;33m.\u001b[0m\u001b[0mjoin\u001b[0m\u001b[1;33m(\u001b[0m\u001b[0mtext\u001b[0m\u001b[1;33m)\u001b[0m\u001b[1;33m\u001b[0m\u001b[1;33m\u001b[0m\u001b[0m\n\u001b[0m\u001b[0;32m     13\u001b[0m     \u001b[0mfinal_text\u001b[0m \u001b[1;33m+=\u001b[0m \u001b[1;34m'\\n'\u001b[0m\u001b[1;33m\u001b[0m\u001b[1;33m\u001b[0m\u001b[0m\n\u001b[0;32m     14\u001b[0m \u001b[0mfinal_text\u001b[0m \u001b[1;33m=\u001b[0m \u001b[0mfinal_text\u001b[0m\u001b[1;33m[\u001b[0m\u001b[1;33m:\u001b[0m\u001b[1;33m-\u001b[0m\u001b[1;36m1\u001b[0m\u001b[1;33m]\u001b[0m\u001b[1;33m\u001b[0m\u001b[1;33m\u001b[0m\u001b[0m\n",
      "\u001b[1;31mKeyboardInterrupt\u001b[0m: "
     ]
    }
   ],
   "source": [
    "#Write headers to file.\n",
    "text = list(data.Body.astype(str))\n",
    "texts = text\n",
    "final_text = ''\n",
    "for text in tqdm(texts):\n",
    "    text = text.strip()\n",
    "    text = text.replace('\\n','')\n",
    "    text = text.replace('\\r','')\n",
    "    text = text.replace('\\t','') \n",
    "    if len(text) < 10:\n",
    "        continue\n",
    "    final_text += ''.join(text)\n",
    "    final_text += '\\n'\n",
    "final_text = final_text[:-1]"
   ]
  },
  {
   "cell_type": "code",
   "execution_count": null,
   "metadata": {},
   "outputs": [],
   "source": [
    "len(final_text.split('\\n'))"
   ]
  },
  {
   "cell_type": "code",
   "execution_count": null,
   "metadata": {},
   "outputs": [],
   "source": []
  }
 ],
 "metadata": {
  "kernelspec": {
   "display_name": "Python 3",
   "language": "python",
   "name": "python3"
  },
  "language_info": {
   "codemirror_mode": {
    "name": "ipython",
    "version": 3
   },
   "file_extension": ".py",
   "mimetype": "text/x-python",
   "name": "python",
   "nbconvert_exporter": "python",
   "pygments_lexer": "ipython3",
   "version": "3.8.5"
  }
 },
 "nbformat": 4,
 "nbformat_minor": 4
}
