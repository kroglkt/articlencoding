{
 "cells": [
  {
   "cell_type": "code",
   "execution_count": 1,
   "metadata": {},
   "outputs": [],
   "source": [
    "from nltk.corpus import stopwords\n",
    "from nltk.cluster.util import cosine_distance\n",
    "import numpy as np\n",
    "import pandas as pd\n",
    "import os, os.path\n",
    "import re\n",
    "import networkx as nx\n",
    "from tqdm.notebook import tqdm\n",
    "import warnings\n",
    "warnings.filterwarnings('ignore') # avoid warnings showing up"
   ]
  },
  {
   "cell_type": "code",
   "execution_count": 2,
   "metadata": {},
   "outputs": [],
   "source": [
    "def read_data(path): #input the path to the directory with data\n",
    "    frames = []\n",
    "    _,_, files = next(os.walk(path)) #create a list of all datafile names\n",
    "    for file in tqdm(files): #for every file in directory\n",
    "        with open(path+\"/\"+file) as f: #read each file\n",
    "            dataframe = pd.read_json(f) #convert file to dataframe\n",
    "     \n",
    "        frames.append(dataframe) #append each dataframe to list\n",
    "    data = pd.concat(frames, sort=False) #make it one big dataframe\n",
    "    \n",
    "    return data\n",
    "    "
   ]
  },
  {
   "cell_type": "code",
   "execution_count": 3,
   "metadata": {},
   "outputs": [
    {
     "data": {
      "application/vnd.jupyter.widget-view+json": {
       "model_id": "b1c5c5aa53124df196149b4d648f9c72",
       "version_major": 2,
       "version_minor": 0
      },
      "text/plain": [
       "HBox(children=(HTML(value=''), FloatProgress(value=0.0, max=31.0), HTML(value='')))"
      ]
     },
     "metadata": {},
     "output_type": "display_data"
    },
    {
     "name": "stdout",
     "output_type": "stream",
     "text": [
      "\n"
     ]
    }
   ],
   "source": [
    "data = read_data(\"scraped\")"
   ]
  },
  {
   "cell_type": "code",
   "execution_count": 4,
   "metadata": {},
   "outputs": [],
   "source": [
    "subset = data.iloc[:50]"
   ]
  },
  {
   "cell_type": "code",
   "execution_count": 24,
   "metadata": {},
   "outputs": [
    {
     "data": {
      "text/plain": [
       "[' Køb abonnement Den familieorienterede type: Slægt skal følge slægters gang For denne type er det naturligt at lægge et billede af barnet ud hurtigt efter fødslen',\n",
       " 'Nogle offentliggør scanningsfoto og viser med tekster som »vores lille nye familiemedlem«, at de allerede inden fødslen tænker på sig selv som en familie',\n",
       " 'Der postes løbende billeder af barnet',\n",
       " 'Af hverdagsøjeblikke, der signalerer intimitet, samvær og opbygning af relationer',\n",
       " 'Opslag er ofte knyttet til noget rituelt/ceremonielt og milepæle: Hjemme fra fødegangen',\n",
       " 'Første tur i barnevognen',\n",
       " 'En måned gammel',\n",
       " 'Debut til babysvømning',\n",
       " 'Barnedåb',\n",
       " 'Halvårsfødselsdag',\n",
       " 'Fejringer',\n",
       " 'Højtider',\n",
       " 'Formålet er at etablere en familiefortælling på Facebook og skabe en familiær identitet ved at dele og vise sit nye familieliv frem',\n",
       " 'Man markerer et tilhørsforhold til en bestemt slægt',\n",
       " 'Man går op i traditioner og har et hverdagsliv, der er centreret omkring familien',\n",
       " 'Der er både kvinder og mænd i denne gruppe, hvor det er almindeligt, at begge forældre har samme værdier',\n",
       " 'Mødre poster ofte mest, men fædre bruger også billeder til at vise deres engagement',\n",
       " 'En far poster et foto, hvor han sidder med sin søn i favnen foran fjernsynet: »Så er Champions League tilbage! Nu sammen med sønnike«',\n",
       " 'En anden laver opdatering med et billede, kæresten har sendt ham af baby, der holder et papir, hvor der står »Min far fik 10 til eksamen«',\n",
       " 'Læs også: Begejstret mor: Godt at rose børn på Facebook Den oppositionelle type: Min identitet handler ikke kun om børn Denne type er af forskellige grunde modstræbende over for at poste forældrerelateret indhold på deres Facebook',\n",
       " 'Måske opfatter de det som for privat til et medie, hvor mange samler alle deres kontakter',\n",
       " 'Måske er de i opposition til den livsform, som mange forbinder familielivet med',\n",
       " 'Det kan godt være, de har fået barn, men det er ikke hele deres identitet',\n",
       " 'Det kan bunde i et ønske om at fremstå som et dynamisk menneske, der holder sig opdateret, følger med og ikke går i stå – nogle har svært ved at udholde forældre, der babyspammer, og fravælger derfor notifikationer fra disse',\n",
       " 'Eller det kan bunde i et ønske om at være en god forælder, der tager hånd om sit barns digitale spor og ret til privatliv, indtil barnet er stor nok til selv at forholde sig til det',\n",
       " 'Mange forældre er blevet opfordret til at lægge børnebilleder ud, og de er som regel åben for forhandling',\n",
       " 'De fleste ender med at slå et foto op i ny og næ for at have kontrol, undgå kampe eller at folk skal tro, der er noget galt',\n",
       " 'Eller måske fordi de overraskes positivt over andres reaktioner',\n",
       " 'Det er det forudsigelige, det kedelige, det er kernefamilien, der sidder samlet rundt om fødselsdagskagen',\n",
       " 'Jeg synes, simpelthen, det er så uinteressant Når der slås familiefotos op, vælger typen typisk motiver, der signalerer, at her gør man tingene på en skæv måde',\n",
       " 'Man forhandler så at sige også om, hvad det er for nogle værdier, man har lyst til at flashe omkring det her forældreskab',\n",
       " 'Mange har en aversion mod det forudsigelige familieliv med fødselsdage og feriebilleder og anlægger en ironisk distance til idealet om den perfekte kernefamilie',\n",
       " 'Hellere noget sjovt, vildt, skævt eller rodet end et perfekt glansbillede',\n",
       " 'Flere konkluderer selverkendende, at de ’bruger’ deres barn lige så meget til selvfremstilling, når de poster skæve familiebilleder, som andre gør, når de flasher familielykke',\n",
       " 'Læs også: Når jeg deltager i et babyshower, føles det som en tvangsindlæggelse Ligemand-til-ligemand: Lige børn støtter hinanden bedst Både før og efter fødslen laver denne type mange opdateringer, der relaterer sig til forældreskabet, både på deres personlige profil, men især i de lukkede Facebookgrupper',\n",
       " 'Mange er allerede aktive, før de bliver gravide, fordi de gerne vil være det',\n",
       " 'Undervejs meddeler de sig om højdepunkter som skanninger, indkøb af barnevogn og besøg hos jordemoder',\n",
       " 'Efter fødslen handler meget om barnets sundhed og udvikling',\n",
       " 'Der kan sagtens være diskussion, men mange grupper har regler for god tone og siger nej tak til store bogstaver og udråbstegn',\n",
       " 'Forældrerollen bliver udgangspunkt for social interaktion gennem udvekslinger af oplevelser, viden og synspunkter med andre ventende eller småbørnsforældre på Facebook',\n",
       " 'Man er en del af et fællesskab, hvor kontakten i sig selv er vigtig',\n",
       " 'Der udveksles praktiske råd om alt fra rød numse til køb af babyudstyr, men udvises også stor betænksomhed med spørgsmål, der viser at man husker hinandens problemer og gerne støtter',\n",
       " 'En nybagt mor holder et gruppemedlem virtuelt i hånden gennem den første lange fase, da hendes fødsel går i gang',\n",
       " 'I mindre lukkede grupper vendes også spørgsmål af privat og intim karakter',\n",
       " 'Hvad foregår det ved første lægebesøg? Er I andre klar til at diskutere lidt barnevogn? Hvad craver I andre for tiden? Hvordan gik det til din skanning? Der postes ofte fotokollager med titel, filtre, effekter og fotoramme i nuancer, der matcher barnets tøj',\n",
       " 'Det er almindeligt at få lavet professionelle fotos, hvor barnet f.eks',\n",
       " 'ligger afklædt på lammeskind',\n",
       " 'Flere udskifter deres eget profilbillede med et billede af barnet',\n",
       " 'Typen tæller flere kvinder end mænd, men der er begyndt at komme grupper for mænd, og flere er for begge køn',\n",
       " 'En far viser eksempelvis gruppen sine seneste indkøb til børneværelset',\n",
       " \"Læs også: Her er 5 afgørende øjeblikke i afslutningen af 'Girls' Facebook nej tak: Der er andet i verden Gruppen omfatter de få, der ikke har en Facebookprofil, eller som ikke bruger den til at kommunikere om forældreskabet\",\n",
       " 'En mand bruger kun sin Facebookprofil til spil og overlader al familiekommunikation på sin profil til sin partner, hvilket han har det fint med',\n",
       " 'En kvinde har bevidst fravalgt at have en Facebookprofil ud fra et ønske om at undgå, at telefonen kommer til at fylde for meget, også når hun er sammen med barnet, men bruger mere private kanaler som MMS og Snapchat til at dele familielivet med venner og familie',\n",
       " 'Fravalget af Facebook handler for kvinden også om, at hun ikke bryder sig om æstetikken i den type billeder, mange andre holder af',\n",
       " 'Hun har det f.eks',\n",
       " 'stramt med »baby med bar røv på lammeskind«',\n",
       " 'Af samme grund sagde hun nej tak, da et familiemedlem tilbød hende at tage en serie newborn fotos – hun vil hellere vise billeder af sit barn, når det er påklædt og har et glimt i øjet',\n",
       " 'Når hendes mor spørger, giver hun hende lov til at lægge et par billeder af sit barnebarn op',\n",
       " 'Facebookfravalget betyder, at omgivelserne opfatter hende som lidt af et problembarn',\n",
       " 'Nogle giver udtryk for, at det er bøvlet, når hun skal inviteres til noget; andre opfatter det, som om hun er fin på den og ikke vil dele sit barn',\n",
       " \"Kilde: Maja Sonne Damkjær: 'Medialiseret forældreskab: Digitale mediers rolle i overgangen til forældreskabet'\",\n",
       " '']"
      ]
     },
     "execution_count": 24,
     "metadata": {},
     "output_type": "execute_result"
    }
   ],
   "source": [
    "article_sentences = subset.iloc[2][\"Body\"].split(\". \")\n",
    "article_sentences"
   ]
  },
  {
   "cell_type": "code",
   "execution_count": 29,
   "metadata": {},
   "outputs": [],
   "source": [
    "def read_sentences(text):\n",
    "    text_sentences = text.split(\". \")\n",
    "    sentences = []\n",
    "    for sentence in text_sentences: \n",
    "#         print(sentence)\n",
    "        sentences.append(sentence.replace(\"[^a-zA-Z]\", \" \").split(\" \"))\n",
    "    sentences.pop()\n",
    "        \n",
    "    return sentences"
   ]
  },
  {
   "cell_type": "code",
   "execution_count": 30,
   "metadata": {},
   "outputs": [],
   "source": [
    "def sentence_similarity(sent1, sent2, stopwords=None):\n",
    "    if stopwords == None: \n",
    "        stopwords = []\n",
    "        \n",
    "    sent1 = [word.lower() for word in sent1]\n",
    "    sent2 = [word.lower() for word in sent2]\n",
    "    \n",
    "    all_words = list(set(sent1 + sent2))\n",
    "    \n",
    "    vector1 = [0] * len(all_words)\n",
    "    vector2 = [0] * len(all_words)\n",
    "    \n",
    "    #create vector for the first sentence\n",
    "    for word in sent1: \n",
    "        if word in stopwords: \n",
    "            continue\n",
    "        vector1[all_words.index(word)] += 1\n",
    "    \n",
    "    #create vector for the second sentence\n",
    "    for word in sent2: \n",
    "        if word in stopwords: \n",
    "            continue\n",
    "        vector2[all_words.index(word)] += 1\n",
    "        \n",
    "    return 1 - cosine_distance(vector1, vector2)"
   ]
  },
  {
   "cell_type": "code",
   "execution_count": 31,
   "metadata": {},
   "outputs": [],
   "source": [
    "def similarity_matrix(sentences, stop_words): \n",
    "    \n",
    "    #Empty similarity matrix\n",
    "    sim_matrix = np.zeros((len(sentences), len(sentences)))\n",
    "    \n",
    "    for index1 in range(len(sentences)):\n",
    "        for index2 in range(len(sentences)):\n",
    "            if index1 == index2: #ignore if they're the same sentence\n",
    "                continue\n",
    "            sim_matrix[index1][index2] = sentence_similarity(sentences[index1], sentences[index2], stop_words)\n",
    "    \n",
    "    return sim_matrix"
   ]
  },
  {
   "cell_type": "code",
   "execution_count": 32,
   "metadata": {},
   "outputs": [
    {
     "data": {
      "text/plain": [
       "array([[0. , 0. , 0. , 0. , 0. , 0.3, 0. , 0. ],\n",
       "       [0. , 0. , 0. , 0.5, 0. , 0. , 0. , 0. ],\n",
       "       [0. , 0. , 0. , 0. , 0. , 0. , 0. , 0. ],\n",
       "       [0. , 0.5, 0. , 0. , 0. , 0. , 0. , 0. ],\n",
       "       [0. , 0. , 0. , 0. , 0. , 0. , 0. , 0. ],\n",
       "       [0.3, 0. , 0. , 0. , 0. , 0. , 0. , 0. ],\n",
       "       [0. , 0. , 0. , 0. , 0. , 0. , 0. , 0. ],\n",
       "       [0. , 0. , 0. , 0. , 0. , 0. , 0. , 0. ]])"
      ]
     },
     "execution_count": 32,
     "metadata": {},
     "output_type": "execute_result"
    }
   ],
   "source": [
    "# sents = read_sentences(subset.iloc[0][\"Body\"])\n",
    "# similarity_matrix(sents, stopwords.words(\"danish\"))"
   ]
  },
  {
   "cell_type": "code",
   "execution_count": 37,
   "metadata": {},
   "outputs": [],
   "source": [
    "def create_summary(text, top_n=5): \n",
    "    \n",
    "    stop_words = stopwords.words(\"danish\")\n",
    "    summarize_text = []\n",
    "    \n",
    "    #Split text into sentences\n",
    "    sentences = read_sentences(text)\n",
    "    \n",
    "    #Create similarity matrix across sentences\n",
    "    sentence_sim_matrix = similarity_matrix(sentences, stop_words)\n",
    "    \n",
    "    #rank sentences\n",
    "    \n",
    "    sentence_sim_graph = nx.from_numpy_array(sentence_sim_matrix)\n",
    "    scores = nx.pagerank(sentence_sim_graph)\n",
    "    \n",
    "    #sort scores and pick top sentences\n",
    "    ranked_sentence = sorted(((scores[i], s) for i,s in enumerate(sentences)), reverse=True)\n",
    "#     print(\"Indices of top ranked sentence order are: \", ranked_sentence)\n",
    "    \n",
    "    for i in range(top_n): \n",
    "        summarize_text.append(\" \".join(ranked_sentence[i][1]))\n",
    "    \n",
    "    print(\"Original text: \\n\\n\", text, \"\\n\")\n",
    "    \n",
    "    print(\"Text summary: \\n\\n\", \". \".join(summarize_text))\n",
    "    \n",
    "    return None"
   ]
  },
  {
   "cell_type": "code",
   "execution_count": 38,
   "metadata": {},
   "outputs": [
    {
     "name": "stdout",
     "output_type": "stream",
     "text": [
      "Original text: \n",
      "\n",
      "  FOR ABONNENTER »Der var overhovedet ingen beskeder over højttaleren« »Det har været ganske forfærdeligt. Er blevet meget forsinket på arbejde og hjem. Overfyldte toge, aflyste toge, små toge (ikke lange), toge der pludselig ikke holdt på visse stationer, så man blev over 30 min. forsinket. Det ville klæde DSB at give penge retur, når man har periodekort og i den grad ikke får den vare, man har betalt for. Ofte er der overhovedet ingen beskeder over højttaleren, og på skiltningen på perronen går afgangstiden ned fra 10 min. til 0 og derpå forfra uden tog og uden forklaring. Prøv selv en tur kl. 7.30 en hverdagsmorgen!!!!!« \n",
      "\n",
      "Text summary: \n",
      "\n",
      " forsinket. Ofte er der overhovedet ingen beskeder over højttaleren, og på skiltningen på perronen går afgangstiden ned fra 10 min. Er blevet meget forsinket på arbejde og hjem.  FOR ABONNENTER »Der var overhovedet ingen beskeder over højttaleren« »Det har været ganske forfærdeligt. til 0 og derpå forfra uden tog og uden forklaring\n"
     ]
    }
   ],
   "source": [
    "create_summary(subset.iloc[0][\"Body\"])"
   ]
  },
  {
   "cell_type": "code",
   "execution_count": null,
   "metadata": {},
   "outputs": [],
   "source": []
  },
  {
   "cell_type": "code",
   "execution_count": null,
   "metadata": {},
   "outputs": [],
   "source": []
  }
 ],
 "metadata": {
  "kernelspec": {
   "display_name": "Python 3",
   "language": "python",
   "name": "python3"
  },
  "language_info": {
   "codemirror_mode": {
    "name": "ipython",
    "version": 3
   },
   "file_extension": ".py",
   "mimetype": "text/x-python",
   "name": "python",
   "nbconvert_exporter": "python",
   "pygments_lexer": "ipython3",
   "version": "3.8.5"
  }
 },
 "nbformat": 4,
 "nbformat_minor": 4
}
