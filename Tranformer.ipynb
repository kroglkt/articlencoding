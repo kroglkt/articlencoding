{
 "cells": [
  {
   "cell_type": "markdown",
   "metadata": {},
   "source": [
    "# Here we go again..."
   ]
  },
  {
   "cell_type": "code",
   "execution_count": 7,
   "metadata": {},
   "outputs": [],
   "source": [
    "from simpletransformers.language_representation import RepresentationModel\n",
    "import pandas as pd\n",
    "import numpy as np\n",
    "from tqdm.notebook import tqdm\n",
    "import random"
   ]
  },
  {
   "cell_type": "code",
   "execution_count": 8,
   "metadata": {},
   "outputs": [
    {
     "data": {
      "text/html": [
       "<div>\n",
       "<style scoped>\n",
       "    .dataframe tbody tr th:only-of-type {\n",
       "        vertical-align: middle;\n",
       "    }\n",
       "\n",
       "    .dataframe tbody tr th {\n",
       "        vertical-align: top;\n",
       "    }\n",
       "\n",
       "    .dataframe thead th {\n",
       "        text-align: right;\n",
       "    }\n",
       "</style>\n",
       "<table border=\"1\" class=\"dataframe\">\n",
       "  <thead>\n",
       "    <tr style=\"text-align: right;\">\n",
       "      <th></th>\n",
       "      <th>index</th>\n",
       "      <th>Id</th>\n",
       "      <th>Domain</th>\n",
       "      <th>Body</th>\n",
       "      <th>Header</th>\n",
       "      <th>PublicationDate</th>\n",
       "      <th>Uri</th>\n",
       "      <th>Byline</th>\n",
       "      <th>TextHash</th>\n",
       "    </tr>\n",
       "  </thead>\n",
       "  <tbody>\n",
       "    <tr>\n",
       "      <th>0</th>\n",
       "      <td>0</td>\n",
       "      <td>842325</td>\n",
       "      <td>politiken.dk</td>\n",
       "      <td>Læs artiklen senere Gemt (klik for at fjerne) ...</td>\n",
       "      <td>Utilfreds passager: »Prøv selv en tur klokken ...</td>\n",
       "      <td>2002-09-17T00:00:00</td>\n",
       "      <td>https://politiken.dk/forbrugogliv/art6088327/U...</td>\n",
       "      <td>Annemette Grundtvig</td>\n",
       "      <td>-346867430</td>\n",
       "    </tr>\n",
       "    <tr>\n",
       "      <th>1</th>\n",
       "      <td>1</td>\n",
       "      <td>842324</td>\n",
       "      <td>politiken.dk</td>\n",
       "      <td>Klimamonitor Byrummonitor Skolemonitor Sundhed...</td>\n",
       "      <td>Minimalist: »Ofte står jeg og mangler en ting ...</td>\n",
       "      <td>2013-01-18T00:00:00</td>\n",
       "      <td>https://politiken.dk/forbrugogliv/art6287464/%...</td>\n",
       "      <td>Annemette Grundtvig</td>\n",
       "      <td>-1346564151</td>\n",
       "    </tr>\n",
       "    <tr>\n",
       "      <th>2</th>\n",
       "      <td>2</td>\n",
       "      <td>842323</td>\n",
       "      <td>politiken.dk</td>\n",
       "      <td>Læs artiklen senere Gemt (klik for at fjerne) ...</td>\n",
       "      <td>Digitalt forældreskab: Hvilken type er du som ...</td>\n",
       "      <td>2006-05-17T00:00:00</td>\n",
       "      <td>https://politiken.dk/forbrugogliv/art5934818/H...</td>\n",
       "      <td>Annemette Grundtvig</td>\n",
       "      <td>1473032676</td>\n",
       "    </tr>\n",
       "    <tr>\n",
       "      <th>3</th>\n",
       "      <td>3</td>\n",
       "      <td>842322</td>\n",
       "      <td>politiken.dk</td>\n",
       "      <td>FAKTA: Kemi i mademballage af papir Forbrugerr...</td>\n",
       "      <td>Ny test afslører: Denne kaffekop og dette suge...</td>\n",
       "      <td>2004-07-19T00:00:00</td>\n",
       "      <td>https://politiken.dk/forbrugogliv/art7278657/D...</td>\n",
       "      <td>Annemette Grundtvig</td>\n",
       "      <td>1097982200</td>\n",
       "    </tr>\n",
       "    <tr>\n",
       "      <th>4</th>\n",
       "      <td>4</td>\n",
       "      <td>842321</td>\n",
       "      <td>politiken.dk</td>\n",
       "      <td>Læs artiklen senere Gemt (klik for at fjerne) ...</td>\n",
       "      <td>Pakkeshop, pick-up eller ekspres? Pakkernes sv...</td>\n",
       "      <td>2010-12-19T00:00:00</td>\n",
       "      <td>https://politiken.dk/forbrugogliv/art7524916/P...</td>\n",
       "      <td>Annemette Grundtvig</td>\n",
       "      <td>-2079936539</td>\n",
       "    </tr>\n",
       "  </tbody>\n",
       "</table>\n",
       "</div>"
      ],
      "text/plain": [
       "   index      Id        Domain  ...                                                Uri               Byline    TextHash\n",
       "0      0  842325  politiken.dk  ...  https://politiken.dk/forbrugogliv/art6088327/U...  Annemette Grundtvig  -346867430\n",
       "1      1  842324  politiken.dk  ...  https://politiken.dk/forbrugogliv/art6287464/%...  Annemette Grundtvig -1346564151\n",
       "2      2  842323  politiken.dk  ...  https://politiken.dk/forbrugogliv/art5934818/H...  Annemette Grundtvig  1473032676\n",
       "3      3  842322  politiken.dk  ...  https://politiken.dk/forbrugogliv/art7278657/D...  Annemette Grundtvig  1097982200\n",
       "4      4  842321  politiken.dk  ...  https://politiken.dk/forbrugogliv/art7524916/P...  Annemette Grundtvig -2079936539\n",
       "\n",
       "[5 rows x 9 columns]"
      ]
     },
     "execution_count": 8,
     "metadata": {},
     "output_type": "execute_result"
    }
   ],
   "source": [
    "data = pd.read_json('data/additional/scraped_data_raw.json')\n",
    "data.head()"
   ]
  },
  {
   "cell_type": "code",
   "execution_count": null,
   "metadata": {},
   "outputs": [],
   "source": [
    "politiken = list(data[data.Domain == 'politiken.dk'].Header)[:1000]\n",
    "information = list(data[data.Domain == 'information.dk'].Header)[:1000]\n",
    "len(politiken), len(information)"
   ]
  },
  {
   "cell_type": "code",
   "execution_count": null,
   "metadata": {},
   "outputs": [],
   "source": [
    "%%time\n",
    "comb = politiken+information\n",
    "model = RepresentationModel(\n",
    "        model_type='bert',\n",
    "        model_name='Maltehb/danish-bert-botxo',\n",
    "        use_cuda=False)\n",
    "\n",
    "word_vectors = model.encode_sentences(comb, combine_strategy='mean')"
   ]
  },
  {
   "cell_type": "code",
   "execution_count": null,
   "metadata": {},
   "outputs": [],
   "source": [
    "word_vectors.shape"
   ]
  },
  {
   "cell_type": "code",
   "execution_count": null,
   "metadata": {},
   "outputs": [],
   "source": [
    "from sklearn.ensemble import RandomForestClassifier\n",
    "from sklearn.model_selection import train_test_split"
   ]
  },
  {
   "cell_type": "code",
   "execution_count": null,
   "metadata": {},
   "outputs": [],
   "source": [
    "y = [0]*1000 + [1]*1000\n",
    "train_X, test_X, train_y, test_y = train_test_split(word_vectors, y)"
   ]
  },
  {
   "cell_type": "code",
   "execution_count": null,
   "metadata": {},
   "outputs": [],
   "source": [
    "rfc = RandomForestClassifier().fit(train_X, train_y)"
   ]
  },
  {
   "cell_type": "code",
   "execution_count": null,
   "metadata": {},
   "outputs": [],
   "source": [
    "rfc.score(test_X, test_y)"
   ]
  },
  {
   "cell_type": "code",
   "execution_count": null,
   "metadata": {},
   "outputs": [],
   "source": [
    "from sklearn.dummy import DummyClassifier\n",
    "from sklearn.metrics import *\n",
    "\n",
    "dum = DummyClassifier().fit(train_X, train_y)\n",
    "dum.score(test_X, test_y)"
   ]
  },
  {
   "cell_type": "markdown",
   "metadata": {},
   "source": [
    "# Test the shit on codified"
   ]
  },
  {
   "cell_type": "code",
   "execution_count": null,
   "metadata": {},
   "outputs": [],
   "source": [
    "codified = np.load('../../../codified.npy')\n",
    "codified.shape"
   ]
  },
  {
   "cell_type": "code",
   "execution_count": null,
   "metadata": {},
   "outputs": [],
   "source": [
    "text = list(data.Header.astype(str))\n",
    "texts = text\n",
    "final_text = ''\n",
    "for text in tqdm(texts):\n",
    "    text = text.strip()\n",
    "    text = text.replace('\\n','')\n",
    "    text = text.replace('\\r','')\n",
    "    text = text.replace('\\t','')\n",
    "    if len(text) < 10:\n",
    "        continue\n",
    "    final_text += ''.join(text)\n",
    "    final_text += '\\n'\n",
    "final_text = final_text[:-1]\n",
    "\n",
    "headers = final_text.split('\\n')"
   ]
  },
  {
   "cell_type": "code",
   "execution_count": null,
   "metadata": {},
   "outputs": [],
   "source": [
    "politiken2_ind = []\n",
    "information2_ind = []\n",
    "politiken2 = []\n",
    "information2 = []\n",
    "\n",
    "for i, header in tqdm(enumerate(headers)):\n",
    "    if header in politiken:\n",
    "        politiken2_ind.append(i)\n",
    "    elif header in information:\n",
    "        information2_ind.append(i)\n",
    "    \n",
    "    if len(politiken2) == 1000 and len(information2)==1000:\n",
    "        break"
   ]
  },
  {
   "cell_type": "code",
   "execution_count": null,
   "metadata": {},
   "outputs": [],
   "source": [
    "politiken2_vecs = np.array([codified[i] for i in politiken2_ind])\n",
    "information2_vecs = np.array([codified[i] for i in information2_ind][:992])\n",
    "codified_vecs = np.vstack((politiken2_vecs, information2_vecs))\n",
    "\n",
    "y = [0]*992 + [1]*992\n",
    "train_X, test_X, train_y, test_y = train_test_split(codified_vecs, y)"
   ]
  },
  {
   "cell_type": "code",
   "execution_count": null,
   "metadata": {},
   "outputs": [],
   "source": [
    "# random.shuffle(y)\n",
    "# train_X, test_X, train_y, test_y = train_test_split(codified_vecs, y)"
   ]
  },
  {
   "cell_type": "code",
   "execution_count": null,
   "metadata": {},
   "outputs": [],
   "source": [
    "import classifier_unit_test"
   ]
  },
  {
   "cell_type": "code",
   "execution_count": null,
   "metadata": {},
   "outputs": [],
   "source": [
    "rfc = RandomForestClassifier()"
   ]
  },
  {
   "cell_type": "code",
   "execution_count": null,
   "metadata": {},
   "outputs": [],
   "source": [
    "classifier_unit_test.test_classifier(rfc, train_X, test_X, train_y, test_y)"
   ]
  },
  {
   "cell_type": "code",
   "execution_count": null,
   "metadata": {},
   "outputs": [],
   "source": []
  },
  {
   "cell_type": "code",
   "execution_count": null,
   "metadata": {},
   "outputs": [],
   "source": [
    "auc"
   ]
  },
  {
   "cell_type": "markdown",
   "metadata": {},
   "source": [
    "# Generation test"
   ]
  },
  {
   "cell_type": "code",
   "execution_count": 37,
   "metadata": {},
   "outputs": [
    {
     "name": "stderr",
     "output_type": "stream",
     "text": [
      "Some weights of the model checkpoint at Maltehb/danish-bert-botxo were not used when initializing BertForTextRepresentation: ['cls.seq_relationship.weight', 'cls.predictions.transform.LayerNorm.bias', 'cls.predictions.bias', 'cls.predictions.transform.dense.weight', 'cls.predictions.transform.LayerNorm.weight', 'cls.predictions.decoder.bias', 'cls.seq_relationship.bias', 'cls.predictions.decoder.weight', 'cls.predictions.transform.dense.bias']\n",
      "- This IS expected if you are initializing BertForTextRepresentation from the checkpoint of a model trained on another task or with another architecture (e.g. initializing a BertForSequenceClassification model from a BertForPreTraining model).\n",
      "- This IS NOT expected if you are initializing BertForTextRepresentation from the checkpoint of a model that you expect to be exactly identical (initializing a BertForSequenceClassification model from a BertForSequenceClassification model).\n"
     ]
    },
    {
     "data": {
      "text/plain": [
       "(100, 768)"
      ]
     },
     "execution_count": 37,
     "metadata": {},
     "output_type": "execute_result"
    }
   ],
   "source": [
    "#Make vector of some articles\n",
    "bodies = list(data[\"Body\"])[9000:9100]\n",
    "headers = list(data[\"Header\"])[9000:9100]\n",
    "\n",
    "model = RepresentationModel(\n",
    "        model_type='bert',\n",
    "        model_name='Maltehb/danish-bert-botxo',\n",
    "        use_cuda=False)\n",
    "\n",
    "vectors = model.encode_sentences(bodies, combine_strategy='mean')\n",
    "vectors.shape"
   ]
  },
  {
   "cell_type": "code",
   "execution_count": 30,
   "metadata": {},
   "outputs": [
    {
     "data": {
      "text/html": [
       "<div>\n",
       "<style scoped>\n",
       "    .dataframe tbody tr th:only-of-type {\n",
       "        vertical-align: middle;\n",
       "    }\n",
       "\n",
       "    .dataframe tbody tr th {\n",
       "        vertical-align: top;\n",
       "    }\n",
       "\n",
       "    .dataframe thead th {\n",
       "        text-align: right;\n",
       "    }\n",
       "</style>\n",
       "<table border=\"1\" class=\"dataframe\">\n",
       "  <thead>\n",
       "    <tr style=\"text-align: right;\">\n",
       "      <th></th>\n",
       "      <th>input</th>\n",
       "      <th>target</th>\n",
       "    </tr>\n",
       "  </thead>\n",
       "  <tbody>\n",
       "    <tr>\n",
       "      <th>0</th>\n",
       "      <td>[-0.59563667, 0.46274945, 0.83595693, 0.591673...</td>\n",
       "      <td>Lettet Christinna Pedersen: 'Der har været for...</td>\n",
       "    </tr>\n",
       "    <tr>\n",
       "      <th>1</th>\n",
       "      <td>[-0.3861792, 0.122922584, 0.9676417, -0.243358...</td>\n",
       "      <td>Ny museumsdirektør på kvindemuseet i Aarhus si...</td>\n",
       "    </tr>\n",
       "    <tr>\n",
       "      <th>2</th>\n",
       "      <td>[-0.6130347, 0.15502118, 0.515855, 0.4008748, ...</td>\n",
       "      <td>Kulturministeren garanterer fans på stadion: '...</td>\n",
       "    </tr>\n",
       "    <tr>\n",
       "      <th>3</th>\n",
       "      <td>[-0.38609523, 0.20278929, 0.98600316, 0.281827...</td>\n",
       "      <td>Debutanten Dolberg: Jeg kunne høre folk råbe p...</td>\n",
       "    </tr>\n",
       "    <tr>\n",
       "      <th>4</th>\n",
       "      <td>[-0.7306787, 0.25296178, 1.0223695, 0.42101982...</td>\n",
       "      <td>Genoplev Danmarks vej til VM-finalen: Knusende...</td>\n",
       "    </tr>\n",
       "  </tbody>\n",
       "</table>\n",
       "</div>"
      ],
      "text/plain": [
       "                                               input                                             target\n",
       "0  [-0.59563667, 0.46274945, 0.83595693, 0.591673...  Lettet Christinna Pedersen: 'Der har været for...\n",
       "1  [-0.3861792, 0.122922584, 0.9676417, -0.243358...  Ny museumsdirektør på kvindemuseet i Aarhus si...\n",
       "2  [-0.6130347, 0.15502118, 0.515855, 0.4008748, ...  Kulturministeren garanterer fans på stadion: '...\n",
       "3  [-0.38609523, 0.20278929, 0.98600316, 0.281827...  Debutanten Dolberg: Jeg kunne høre folk råbe p...\n",
       "4  [-0.7306787, 0.25296178, 1.0223695, 0.42101982...  Genoplev Danmarks vej til VM-finalen: Knusende..."
      ]
     },
     "execution_count": 30,
     "metadata": {},
     "output_type": "execute_result"
    }
   ],
   "source": [
    "train_data = [[vectors[i], headers[i]] for i in range(len(headers)-10)]\n",
    "eval_data = [[vectors[i], headers[i]] for i in range(len(headers)-10, len(headers))]\n",
    "train_df = pd.DataFrame(train_data, columns=[\"input\", \"target\"])\n",
    "eval_df = pd.DataFrame(eval_data, columns=[\"input\", \"target\"])\n",
    "train_df.head()"
   ]
  },
  {
   "cell_type": "code",
   "execution_count": 39,
   "metadata": {},
   "outputs": [
    {
     "data": {
      "application/vnd.jupyter.widget-view+json": {
       "model_id": "e6ef73bc04cd498ca54ffb7506e1fbc6",
       "version_major": 2,
       "version_minor": 0
      },
      "text/plain": [
       "Downloading:   0%|          | 0.00/750k [00:00<?, ?B/s]"
      ]
     },
     "metadata": {},
     "output_type": "display_data"
    },
    {
     "data": {
      "application/vnd.jupyter.widget-view+json": {
       "model_id": "9b8c343299454ec08c366d1aeaebe5b2",
       "version_major": 2,
       "version_minor": 0
      },
      "text/plain": [
       "Downloading:   0%|          | 0.00/778k [00:00<?, ?B/s]"
      ]
     },
     "metadata": {},
     "output_type": "display_data"
    },
    {
     "data": {
      "application/vnd.jupyter.widget-view+json": {
       "model_id": "75ad744f0d324dea8f0e24b7f0c9560f",
       "version_major": 2,
       "version_minor": 0
      },
      "text/plain": [
       "Downloading:   0%|          | 0.00/1.21M [00:00<?, ?B/s]"
      ]
     },
     "metadata": {},
     "output_type": "display_data"
    },
    {
     "data": {
      "application/vnd.jupyter.widget-view+json": {
       "model_id": "16c7816dd3fe43beb9c32e26add5f218",
       "version_major": 2,
       "version_minor": 0
      },
      "text/plain": [
       "Downloading:   0%|          | 0.00/42.0 [00:00<?, ?B/s]"
      ]
     },
     "metadata": {},
     "output_type": "display_data"
    },
    {
     "data": {
      "application/vnd.jupyter.widget-view+json": {
       "model_id": "17deacfce83e42fd9e11445bfc462542",
       "version_major": 2,
       "version_minor": 0
      },
      "text/plain": [
       "Downloading:   0%|          | 0.00/1.30k [00:00<?, ?B/s]"
      ]
     },
     "metadata": {},
     "output_type": "display_data"
    },
    {
     "data": {
      "application/vnd.jupyter.widget-view+json": {
       "model_id": "587a3257e8984ac0ab38e6af9f37560a",
       "version_major": 2,
       "version_minor": 0
      },
      "text/plain": [
       "Downloading:   0%|          | 0.00/284M [00:00<?, ?B/s]"
      ]
     },
     "metadata": {},
     "output_type": "display_data"
    }
   ],
   "source": [
    "from transformers import MarianMTModel, MarianTokenizer\n",
    "import torch\n",
    "\n",
    "tokenizer = MarianTokenizer.from_pretrained(\"Helsinki-NLP/opus-mt-en-de\")\n",
    "model = MarianMTModel.from_pretrained(\"Helsinki-NLP/opus-mt-en-de\")\n",
    "embeddings = model.get_input_embeddings()"
   ]
  },
  {
   "cell_type": "code",
   "execution_count": null,
   "metadata": {},
   "outputs": [],
   "source": []
  }
 ],
 "metadata": {
  "kernelspec": {
   "display_name": "Python 3 (ipykernel)",
   "language": "python",
   "name": "python3"
  },
  "language_info": {
   "codemirror_mode": {
    "name": "ipython",
    "version": 3
   },
   "file_extension": ".py",
   "mimetype": "text/x-python",
   "name": "python",
   "nbconvert_exporter": "python",
   "pygments_lexer": "ipython3",
   "version": "3.7.4"
  }
 },
 "nbformat": 4,
 "nbformat_minor": 4
}
