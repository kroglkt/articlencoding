{
 "cells": [
  {
   "cell_type": "markdown",
   "metadata": {},
   "source": [
    "# Preprocessing the data after manual inspection"
   ]
  },
  {
   "cell_type": "code",
   "execution_count": 65,
   "metadata": {},
   "outputs": [],
   "source": [
    "import warnings\n",
    "import os, re \n",
    "import pandas as pd\n",
    "import numpy as np\n",
    "from tqdm.notebook import tqdm\n",
    "from matplotlib import pyplot as plt\n",
    "import random\n",
    "from difflib import SequenceMatcher\n",
    "warnings.filterwarnings('ignore') # avoid warnings showing up"
   ]
  },
  {
   "cell_type": "code",
   "execution_count": 9,
   "metadata": {},
   "outputs": [
    {
     "data": {
      "application/vnd.jupyter.widget-view+json": {
       "model_id": "2d4e7a9c778e429ca15fdf7d05f9338e",
       "version_major": 2,
       "version_minor": 0
      },
      "text/plain": [
       "HBox(children=(HTML(value=''), FloatProgress(value=0.0, max=31.0), HTML(value='')))"
      ]
     },
     "metadata": {},
     "output_type": "display_data"
    },
    {
     "name": "stdout",
     "output_type": "stream",
     "text": [
      "\n"
     ]
    }
   ],
   "source": [
    "frames = []\n",
    "for i in tqdm(range(31)): \n",
    "    with open('scraped/data_'+str(i)+'.json') as f:\n",
    "        dataframe = pd.read_json(f)\n",
    "        \n",
    "    frames.append(dataframe)"
   ]
  },
  {
   "cell_type": "code",
   "execution_count": 11,
   "metadata": {},
   "outputs": [],
   "source": [
    "data = pd.concat(frames, sort=False)\n"
   ]
  },
  {
   "cell_type": "code",
   "execution_count": 15,
   "metadata": {},
   "outputs": [
    {
     "data": {
      "text/plain": [
       "pandas.core.frame.DataFrame"
      ]
     },
     "execution_count": 15,
     "metadata": {},
     "output_type": "execute_result"
    }
   ],
   "source": [
    "type(data)"
   ]
  },
  {
   "cell_type": "code",
   "execution_count": 27,
   "metadata": {
    "scrolled": true
   },
   "outputs": [],
   "source": [
    "politiken = data.loc[(data[\"Domain\"] == \"politiken.dk\")]"
   ]
  },
  {
   "cell_type": "code",
   "execution_count": 52,
   "metadata": {},
   "outputs": [
    {
     "data": {
      "text/html": [
       "<div>\n",
       "<style scoped>\n",
       "    .dataframe tbody tr th:only-of-type {\n",
       "        vertical-align: middle;\n",
       "    }\n",
       "\n",
       "    .dataframe tbody tr th {\n",
       "        vertical-align: top;\n",
       "    }\n",
       "\n",
       "    .dataframe thead th {\n",
       "        text-align: right;\n",
       "    }\n",
       "</style>\n",
       "<table border=\"1\" class=\"dataframe\">\n",
       "  <thead>\n",
       "    <tr style=\"text-align: right;\">\n",
       "      <th></th>\n",
       "      <th>level_0</th>\n",
       "      <th>index</th>\n",
       "      <th>Id</th>\n",
       "      <th>Domain</th>\n",
       "      <th>Body</th>\n",
       "      <th>Header</th>\n",
       "      <th>PublicationDate</th>\n",
       "      <th>Uri</th>\n",
       "      <th>Byline</th>\n",
       "      <th>TextHash</th>\n",
       "    </tr>\n",
       "  </thead>\n",
       "  <tbody>\n",
       "    <tr>\n",
       "      <th>0</th>\n",
       "      <td>0</td>\n",
       "      <td>0</td>\n",
       "      <td>842325</td>\n",
       "      <td>politiken.dk</td>\n",
       "      <td>FOR ABONNENTER »Der var overhovedet ingen bes...</td>\n",
       "      <td>Utilfreds passager: »Prøv selv en tur klokken ...</td>\n",
       "      <td>2002-09-17T00:00:00</td>\n",
       "      <td>https://politiken.dk/forbrugogliv/art6088327/U...</td>\n",
       "      <td>Annemette Grundtvig</td>\n",
       "      <td>-346867430</td>\n",
       "    </tr>\n",
       "    <tr>\n",
       "      <th>1</th>\n",
       "      <td>1</td>\n",
       "      <td>1</td>\n",
       "      <td>842324</td>\n",
       "      <td>politiken.dk</td>\n",
       "      <td>Klimamonitor Byrummonitor Skolemonitor Sundhed...</td>\n",
       "      <td>Minimalist: »Ofte står jeg og mangler en ting ...</td>\n",
       "      <td>2013-01-18T00:00:00</td>\n",
       "      <td>https://politiken.dk/forbrugogliv/art6287464/%...</td>\n",
       "      <td>Annemette Grundtvig</td>\n",
       "      <td>-1346564151</td>\n",
       "    </tr>\n",
       "    <tr>\n",
       "      <th>2</th>\n",
       "      <td>2</td>\n",
       "      <td>2</td>\n",
       "      <td>842323</td>\n",
       "      <td>politiken.dk</td>\n",
       "      <td>Køb abonnement Den familieorienterede type: S...</td>\n",
       "      <td>Digitalt forældreskab: Hvilken type er du som ...</td>\n",
       "      <td>2006-05-17T00:00:00</td>\n",
       "      <td>https://politiken.dk/forbrugogliv/art5934818/H...</td>\n",
       "      <td>Annemette Grundtvig</td>\n",
       "      <td>1473032676</td>\n",
       "    </tr>\n",
       "    <tr>\n",
       "      <th>3</th>\n",
       "      <td>3</td>\n",
       "      <td>3</td>\n",
       "      <td>842322</td>\n",
       "      <td>politiken.dk</td>\n",
       "      <td>FAKTA: Kemi i mademballage af papir Forbrugerr...</td>\n",
       "      <td>Ny test afslører: Denne kaffekop og dette suge...</td>\n",
       "      <td>2004-07-19T00:00:00</td>\n",
       "      <td>https://politiken.dk/forbrugogliv/art7278657/D...</td>\n",
       "      <td>Annemette Grundtvig</td>\n",
       "      <td>1097982200</td>\n",
       "    </tr>\n",
       "    <tr>\n",
       "      <th>4</th>\n",
       "      <td>4</td>\n",
       "      <td>4</td>\n",
       "      <td>842321</td>\n",
       "      <td>politiken.dk</td>\n",
       "      <td>FOR ABONNENTER Guide til julen Heller ikke i ...</td>\n",
       "      <td>Pakkeshop, pick-up eller ekspres? Pakkernes sv...</td>\n",
       "      <td>2010-12-19T00:00:00</td>\n",
       "      <td>https://politiken.dk/forbrugogliv/art7524916/P...</td>\n",
       "      <td>Annemette Grundtvig</td>\n",
       "      <td>-2079936539</td>\n",
       "    </tr>\n",
       "    <tr>\n",
       "      <th>...</th>\n",
       "      <td>...</td>\n",
       "      <td>...</td>\n",
       "      <td>...</td>\n",
       "      <td>...</td>\n",
       "      <td>...</td>\n",
       "      <td>...</td>\n",
       "      <td>...</td>\n",
       "      <td>...</td>\n",
       "      <td>...</td>\n",
       "      <td>...</td>\n",
       "    </tr>\n",
       "    <tr>\n",
       "      <th>305407</th>\n",
       "      <td>307927</td>\n",
       "      <td>9948</td>\n",
       "      <td>742377</td>\n",
       "      <td>politiken.dk</td>\n",
       "      <td>{AVIS} Danmark Da rekordstore konverteringsbøl...</td>\n",
       "      <td>Ny redegørelse: Konverteringsboom gav et løft ...</td>\n",
       "      <td>2013-03-06T00:00:00</td>\n",
       "      <td>https://politiken.dk/indland/art5701476/HK-Str...</td>\n",
       "      <td>Silla Bakalus</td>\n",
       "      <td>2003729823</td>\n",
       "    </tr>\n",
       "    <tr>\n",
       "      <th>305410</th>\n",
       "      <td>307930</td>\n",
       "      <td>9953</td>\n",
       "      <td>742372</td>\n",
       "      <td>politiken.dk</td>\n",
       "      <td>Banksektoren Jyske Bank har sat sig tungt på f...</td>\n",
       "      <td>Positive toner fra Jyske Bank sender aktien ti...</td>\n",
       "      <td>2002-08-06T00:00:00</td>\n",
       "      <td>https://politiken.dk/indland/art4850125/Dyrl%C...</td>\n",
       "      <td>Silla Bakalus</td>\n",
       "      <td>550856262</td>\n",
       "    </tr>\n",
       "    <tr>\n",
       "      <th>305413</th>\n",
       "      <td>307933</td>\n",
       "      <td>9957</td>\n",
       "      <td>742368</td>\n",
       "      <td>politiken.dk</td>\n",
       "      <td>Væksten i Danmark kan falde mellem 3 og 10 pct...</td>\n",
       "      <td>Nationalbanken: Danmarks økonomi bliver hårdt ...</td>\n",
       "      <td>2010-04-06T00:00:00</td>\n",
       "      <td>https://politiken.dk/kultur/art4856648/Casabla...</td>\n",
       "      <td>Silla Bakalus</td>\n",
       "      <td>-1470063552</td>\n",
       "    </tr>\n",
       "    <tr>\n",
       "      <th>305416</th>\n",
       "      <td>307936</td>\n",
       "      <td>9961</td>\n",
       "      <td>742364</td>\n",
       "      <td>politiken.dk</td>\n",
       "      <td>Bo Rygaard FCK-ejeren Parken Sport &amp; Entertain...</td>\n",
       "      <td>Bo Rygaard stopper: Parken Sport &amp; Entertainme...</td>\n",
       "      <td>2024-02-06T00:00:00</td>\n",
       "      <td>https://politiken.dk/viden/art5700989/Stort-pa...</td>\n",
       "      <td>Silla Bakalus</td>\n",
       "      <td>77085385</td>\n",
       "    </tr>\n",
       "    <tr>\n",
       "      <th>305419</th>\n",
       "      <td>307939</td>\n",
       "      <td>9966</td>\n",
       "      <td>742359</td>\n",
       "      <td>politiken.dk</td>\n",
       "      <td>Velliv Den voldsomme uro på aktiemarkederne ha...</td>\n",
       "      <td>Coronakrisen har kostet pensionsopsparere over...</td>\n",
       "      <td>2001-03-06T00:00:00</td>\n",
       "      <td>https://politiken.dk/viden/art4859216/Forskere...</td>\n",
       "      <td>Silla Bakalus</td>\n",
       "      <td>-798570518</td>\n",
       "    </tr>\n",
       "  </tbody>\n",
       "</table>\n",
       "<p>64772 rows × 10 columns</p>\n",
       "</div>"
      ],
      "text/plain": [
       "        level_0  index      Id        Domain  \\\n",
       "0             0      0  842325  politiken.dk   \n",
       "1             1      1  842324  politiken.dk   \n",
       "2             2      2  842323  politiken.dk   \n",
       "3             3      3  842322  politiken.dk   \n",
       "4             4      4  842321  politiken.dk   \n",
       "...         ...    ...     ...           ...   \n",
       "305407   307927   9948  742377  politiken.dk   \n",
       "305410   307930   9953  742372  politiken.dk   \n",
       "305413   307933   9957  742368  politiken.dk   \n",
       "305416   307936   9961  742364  politiken.dk   \n",
       "305419   307939   9966  742359  politiken.dk   \n",
       "\n",
       "                                                     Body  \\\n",
       "0        FOR ABONNENTER »Der var overhovedet ingen bes...   \n",
       "1       Klimamonitor Byrummonitor Skolemonitor Sundhed...   \n",
       "2        Køb abonnement Den familieorienterede type: S...   \n",
       "3       FAKTA: Kemi i mademballage af papir Forbrugerr...   \n",
       "4        FOR ABONNENTER Guide til julen Heller ikke i ...   \n",
       "...                                                   ...   \n",
       "305407  {AVIS} Danmark Da rekordstore konverteringsbøl...   \n",
       "305410  Banksektoren Jyske Bank har sat sig tungt på f...   \n",
       "305413  Væksten i Danmark kan falde mellem 3 og 10 pct...   \n",
       "305416  Bo Rygaard FCK-ejeren Parken Sport & Entertain...   \n",
       "305419  Velliv Den voldsomme uro på aktiemarkederne ha...   \n",
       "\n",
       "                                                   Header  \\\n",
       "0       Utilfreds passager: »Prøv selv en tur klokken ...   \n",
       "1       Minimalist: »Ofte står jeg og mangler en ting ...   \n",
       "2       Digitalt forældreskab: Hvilken type er du som ...   \n",
       "3       Ny test afslører: Denne kaffekop og dette suge...   \n",
       "4       Pakkeshop, pick-up eller ekspres? Pakkernes sv...   \n",
       "...                                                   ...   \n",
       "305407  Ny redegørelse: Konverteringsboom gav et løft ...   \n",
       "305410  Positive toner fra Jyske Bank sender aktien ti...   \n",
       "305413  Nationalbanken: Danmarks økonomi bliver hårdt ...   \n",
       "305416  Bo Rygaard stopper: Parken Sport & Entertainme...   \n",
       "305419  Coronakrisen har kostet pensionsopsparere over...   \n",
       "\n",
       "            PublicationDate  \\\n",
       "0       2002-09-17T00:00:00   \n",
       "1       2013-01-18T00:00:00   \n",
       "2       2006-05-17T00:00:00   \n",
       "3       2004-07-19T00:00:00   \n",
       "4       2010-12-19T00:00:00   \n",
       "...                     ...   \n",
       "305407  2013-03-06T00:00:00   \n",
       "305410  2002-08-06T00:00:00   \n",
       "305413  2010-04-06T00:00:00   \n",
       "305416  2024-02-06T00:00:00   \n",
       "305419  2001-03-06T00:00:00   \n",
       "\n",
       "                                                      Uri  \\\n",
       "0       https://politiken.dk/forbrugogliv/art6088327/U...   \n",
       "1       https://politiken.dk/forbrugogliv/art6287464/%...   \n",
       "2       https://politiken.dk/forbrugogliv/art5934818/H...   \n",
       "3       https://politiken.dk/forbrugogliv/art7278657/D...   \n",
       "4       https://politiken.dk/forbrugogliv/art7524916/P...   \n",
       "...                                                   ...   \n",
       "305407  https://politiken.dk/indland/art5701476/HK-Str...   \n",
       "305410  https://politiken.dk/indland/art4850125/Dyrl%C...   \n",
       "305413  https://politiken.dk/kultur/art4856648/Casabla...   \n",
       "305416  https://politiken.dk/viden/art5700989/Stort-pa...   \n",
       "305419  https://politiken.dk/viden/art4859216/Forskere...   \n",
       "\n",
       "                     Byline    TextHash  \n",
       "0       Annemette Grundtvig  -346867430  \n",
       "1       Annemette Grundtvig -1346564151  \n",
       "2       Annemette Grundtvig  1473032676  \n",
       "3       Annemette Grundtvig  1097982200  \n",
       "4       Annemette Grundtvig -2079936539  \n",
       "...                     ...         ...  \n",
       "305407        Silla Bakalus  2003729823  \n",
       "305410        Silla Bakalus   550856262  \n",
       "305413        Silla Bakalus -1470063552  \n",
       "305416        Silla Bakalus    77085385  \n",
       "305419        Silla Bakalus  -798570518  \n",
       "\n",
       "[64772 rows x 10 columns]"
      ]
     },
     "execution_count": 52,
     "metadata": {},
     "output_type": "execute_result"
    }
   ],
   "source": [
    "politiken"
   ]
  },
  {
   "cell_type": "code",
   "execution_count": 29,
   "metadata": {},
   "outputs": [],
   "source": [
    "politiken_bodies = list(politiken[\"Body\"])"
   ]
  },
  {
   "cell_type": "code",
   "execution_count": 55,
   "metadata": {},
   "outputs": [],
   "source": [
    "subset = politiken_bodies[:50]"
   ]
  },
  {
   "cell_type": "code",
   "execution_count": 53,
   "metadata": {},
   "outputs": [],
   "source": [
    "bad_strings = [\"Køb abonnement\", \"FOR ABONNENTER\", \n",
    "               \"{AVIS} i 30 dage for kun 1 kr. Få adgang til {AVIS}s digitale univers, og læs artikler, lyt til podcasts og løs krydsord\"]"
   ]
  },
  {
   "cell_type": "code",
   "execution_count": 54,
   "metadata": {},
   "outputs": [
    {
     "data": {
      "text/plain": [
       "['Køb abonnement',\n",
       " 'FOR ABONNENTER',\n",
       " '{AVIS} i 30 dage for kun 1 kr. Få adgang til {AVIS}s digitale univers, og læs artikler, lyt til podcasts og løs krydsord']"
      ]
     },
     "execution_count": 54,
     "metadata": {},
     "output_type": "execute_result"
    }
   ],
   "source": [
    "bad_strings"
   ]
  },
  {
   "cell_type": "code",
   "execution_count": 75,
   "metadata": {},
   "outputs": [
    {
     "data": {
      "text/plain": [
       "721"
      ]
     },
     "execution_count": 75,
     "metadata": {},
     "output_type": "execute_result"
    }
   ],
   "source": [
    "len(subset[1])"
   ]
  },
  {
   "cell_type": "code",
   "execution_count": 90,
   "metadata": {},
   "outputs": [
    {
     "data": {
      "text/plain": [
       "' Køb abonnement FOR ABONNENTER Både børn med en egentlig diagnose og ’almindelige’ børn, der trænger til mere ro og koncentration, kan have glæde af justeringer i kosten, lyder hovedbudskabet fra ernæringsterapeut Karen Nørby. Som afslutning på sit studium skrev hun opgave om kost og hyperaktivitet og fandt ud af, at der er forsket en del i kostens betydning for børn og unge med svært styrbar energi og adfærd. »Alene de grundlæggende biokemiske forhold omkring hjernens funktion giver god grund til at se på ernæring. Men i Danmark har i vi ikke tradition for at inddrage kost i eventuelle behandlingstilbud«, siger Karen Nørby. Hun har skrevet en bog, som forklarer, hvorfor kostændringer kan være velbegrundede. Bogen dokumenterer med eksempler, at de for nogle er meget virkningsfulde. Kostplaner, opskrifter og forslag til kosttilskud viser vej, hvis forældre har lyst til at prøve, om de på dette felt selv kan skabe bedre trivsel for deres børn. Følsom eller robust »Nogle gange skal der ikke ret meget til. For få dage siden fortalte en kollega mig, at nogle bekendte efter at have læst bogen var holdt op med at give deres søn sodavand og slik til daglig, og han havde allerede fået det bedre«, siger Karen Nørby og lader forstå, at virkningen afhænger af børnenes følsomhed. Det er jo langtfra alle, som reagerer fysisk og psykisk, selv om deres kost er fattig på næring, fordi den hovedsageligt består af hvidt brød og pasta. Nogle er tilsyneladende også gode til at nedbryde de tilsætningsstoffer i slik, som gør andre børn hyperaktive. »International forskning viser, at netop børn med adfærds- og indlæringsforstyrrelser har flere mangler end normalfungerende børn, når det gælder vitaminer, mineraler og essentielle fedtsyrer«, siger Karen Nørby og fortsætter: »Det er også kommet frem, at børn med f.eks. depression, autisme eller ADHD danner morfinlignende stoffer ud fra gluten og mælk, fordi de ikke kan nedbryde proteindelene. Disse stoffer influerer på centralnervesystemet og påvirker hjernen, så der udvikles skæve karaktertræk«. For cirka tusind kroner er det muligt på private klinikker via en simpel urinprøve at få testet, om en person danner disse morfinstoffer eller ej. Interesserede kan google ’morfinpeptider’ på nettet eller finde links på Karen Nørbys hjemmeside. Rugbrød med marcipan Ernæringsterapeuten er ikke i tvivl om, at det mest almindelige ernæringsproblem blandt børn og unge er for meget sukker og for lidt næring. Nogle unge er på det nærmeste drænet for næringsstoffer efter mange år med ulødig kost. »En ungdomsskole i Århus oplevede fantastiske forandringer med elever, der nærmest var opgivet af systemet, da den begyndte at servere sund mad, gav vitaminpiller og forbød slik og sodavand. Både når det gjaldt indlæring og adfærd. Et andet stort problem er, når folk i deres iver efter at spise magert, glemmer det gode fedt, som bl.a. findes i mandler, nødder, avokado, fede fisk og olivenolie«. Selv familier, der får sund basiskost, kan ifølge Karen Nørby med fordel trimme slikskålen, så den i stedet for de traditionelle blandinger med mange farve- og tilsætningsstoffer kommer til at rumme forskellige nødder, tørret frugt, sunde energibarer, popcorn, økologisk slik og lidt god, mørk chokolade. Hun har masser af ideer. Alternativet til den lille kanelsnegl i ulvetimen kunne f.eks. være rugbrød med en skive marcipaPrøv {AVIS} i 30 dage for kun 1 kr. Få adgang til {AVIS}s digitale univers, og læs artikler, lyt til podcasts og løs krydsord.'"
      ]
     },
     "execution_count": 90,
     "metadata": {},
     "output_type": "execute_result"
    }
   ],
   "source": [
    "#subset[10, 12, 20] er et eksempel på artikel der er tydeligt afskåret af en paywall\n",
    "\n",
    "subset[12]"
   ]
  },
  {
   "cell_type": "code",
   "execution_count": 82,
   "metadata": {},
   "outputs": [
    {
     "data": {
      "text/plain": [
       "\" Køb abonnement Den familieorienterede type: Slægt skal følge slægters gang For denne type er det naturligt at lægge et billede af barnet ud hurtigt efter fødslen. Nogle offentliggør scanningsfoto og viser med tekster som »vores lille nye familiemedlem«, at de allerede inden fødslen tænker på sig selv som en familie. Der postes løbende billeder af barnet. Af hverdagsøjeblikke, der signalerer intimitet, samvær og opbygning af relationer. Opslag er ofte knyttet til noget rituelt/ceremonielt og milepæle: Hjemme fra fødegangen. Første tur i barnevognen. En måned gammel. Debut til babysvømning. Barnedåb. Halvårsfødselsdag. Fejringer. Højtider. Formålet er at etablere en familiefortælling på Facebook og skabe en familiær identitet ved at dele og vise sit nye familieliv frem. Man markerer et tilhørsforhold til en bestemt slægt. Man går op i traditioner og har et hverdagsliv, der er centreret omkring familien. Der er både kvinder og mænd i denne gruppe, hvor det er almindeligt, at begge forældre har samme værdier. Mødre poster ofte mest, men fædre bruger også billeder til at vise deres engagement. En far poster et foto, hvor han sidder med sin søn i favnen foran fjernsynet: »Så er Champions League tilbage! Nu sammen med sønnike«. En anden laver opdatering med et billede, kæresten har sendt ham af baby, der holder et papir, hvor der står »Min far fik 10 til eksamen«. Læs også: Begejstret mor: Godt at rose børn på Facebook Den oppositionelle type: Min identitet handler ikke kun om børn Denne type er af forskellige grunde modstræbende over for at poste forældrerelateret indhold på deres Facebook. Måske opfatter de det som for privat til et medie, hvor mange samler alle deres kontakter. Måske er de i opposition til den livsform, som mange forbinder familielivet med. Det kan godt være, de har fået barn, men det er ikke hele deres identitet. Det kan bunde i et ønske om at fremstå som et dynamisk menneske, der holder sig opdateret, følger med og ikke går i stå – nogle har svært ved at udholde forældre, der babyspammer, og fravælger derfor notifikationer fra disse. Eller det kan bunde i et ønske om at være en god forælder, der tager hånd om sit barns digitale spor og ret til privatliv, indtil barnet er stor nok til selv at forholde sig til det. Mange forældre er blevet opfordret til at lægge børnebilleder ud, og de er som regel åben for forhandling. De fleste ender med at slå et foto op i ny og næ for at have kontrol, undgå kampe eller at folk skal tro, der er noget galt. Eller måske fordi de overraskes positivt over andres reaktioner. Det er det forudsigelige, det kedelige, det er kernefamilien, der sidder samlet rundt om fødselsdagskagen. Jeg synes, simpelthen, det er så uinteressant Når der slås familiefotos op, vælger typen typisk motiver, der signalerer, at her gør man tingene på en skæv måde. Man forhandler så at sige også om, hvad det er for nogle værdier, man har lyst til at flashe omkring det her forældreskab. Mange har en aversion mod det forudsigelige familieliv med fødselsdage og feriebilleder og anlægger en ironisk distance til idealet om den perfekte kernefamilie. Hellere noget sjovt, vildt, skævt eller rodet end et perfekt glansbillede. Flere konkluderer selverkendende, at de ’bruger’ deres barn lige så meget til selvfremstilling, når de poster skæve familiebilleder, som andre gør, når de flasher familielykke. Læs også: Når jeg deltager i et babyshower, føles det som en tvangsindlæggelse Ligemand-til-ligemand: Lige børn støtter hinanden bedst Både før og efter fødslen laver denne type mange opdateringer, der relaterer sig til forældreskabet, både på deres personlige profil, men især i de lukkede Facebookgrupper. Mange er allerede aktive, før de bliver gravide, fordi de gerne vil være det. Undervejs meddeler de sig om højdepunkter som skanninger, indkøb af barnevogn og besøg hos jordemoder. Efter fødslen handler meget om barnets sundhed og udvikling. Der kan sagtens være diskussion, men mange grupper har regler for god tone og siger nej tak til store bogstaver og udråbstegn. Forældrerollen bliver udgangspunkt for social interaktion gennem udvekslinger af oplevelser, viden og synspunkter med andre ventende eller småbørnsforældre på Facebook. Man er en del af et fællesskab, hvor kontakten i sig selv er vigtig. Der udveksles praktiske råd om alt fra rød numse til køb af babyudstyr, men udvises også stor betænksomhed med spørgsmål, der viser at man husker hinandens problemer og gerne støtter. En nybagt mor holder et gruppemedlem virtuelt i hånden gennem den første lange fase, da hendes fødsel går i gang. I mindre lukkede grupper vendes også spørgsmål af privat og intim karakter. Hvad foregår det ved første lægebesøg? Er I andre klar til at diskutere lidt barnevogn? Hvad craver I andre for tiden? Hvordan gik det til din skanning? Der postes ofte fotokollager med titel, filtre, effekter og fotoramme i nuancer, der matcher barnets tøj. Det er almindeligt at få lavet professionelle fotos, hvor barnet f.eks. ligger afklædt på lammeskind. Flere udskifter deres eget profilbillede med et billede af barnet. Typen tæller flere kvinder end mænd, men der er begyndt at komme grupper for mænd, og flere er for begge køn. En far viser eksempelvis gruppen sine seneste indkøb til børneværelset. Læs også: Her er 5 afgørende øjeblikke i afslutningen af 'Girls' Facebook nej tak: Der er andet i verden Gruppen omfatter de få, der ikke har en Facebookprofil, eller som ikke bruger den til at kommunikere om forældreskabet. En mand bruger kun sin Facebookprofil til spil og overlader al familiekommunikation på sin profil til sin partner, hvilket han har det fint med. En kvinde har bevidst fravalgt at have en Facebookprofil ud fra et ønske om at undgå, at telefonen kommer til at fylde for meget, også når hun er sammen med barnet, men bruger mere private kanaler som MMS og Snapchat til at dele familielivet med venner og familie. Fravalget af Facebook handler for kvinden også om, at hun ikke bryder sig om æstetikken i den type billeder, mange andre holder af. Hun har det f.eks. stramt med »baby med bar røv på lammeskind«. Af samme grund sagde hun nej tak, da et familiemedlem tilbød hende at tage en serie newborn fotos – hun vil hellere vise billeder af sit barn, når det er påklædt og har et glimt i øjet. Når hendes mor spørger, giver hun hende lov til at lægge et par billeder af sit barnebarn op. Facebookfravalget betyder, at omgivelserne opfatter hende som lidt af et problembarn. Nogle giver udtryk for, at det er bøvlet, når hun skal inviteres til noget; andre opfatter det, som om hun er fin på den og ikke vil dele sit barn. Kilde: Maja Sonne Damkjær: 'Medialiseret forældreskab: Digitale mediers rolle i overgangen til forældreskabet'. Prøv {AVIS} i 30 dage for kun 1 kr. Få adgang til {AVIS}s digitale univers, og læs artikler, lyt til podcasts og løs krydsord.\""
      ]
     },
     "execution_count": 82,
     "metadata": {},
     "output_type": "execute_result"
    }
   ],
   "source": [
    "subset[2]"
   ]
  },
  {
   "cell_type": "code",
   "execution_count": 71,
   "metadata": {},
   "outputs": [],
   "source": [
    "#This function will identify phrases that are repeated throughout the domains. \n",
    "#However, it will have multiple duplicate matches, making the conversion slow... Oh well...\n",
    "def get_junk_by_domain(domain, verbose=False):\n",
    "    bodies = data[data.Domain==domain].Body.to_list()\n",
    "    junk = {}\n",
    "    if verbose:\n",
    "        print(\"Started on\", domain)\n",
    "    for i in tqdm(range(len(bodies)//20)):\n",
    "        #Loop through a quarter of the bodies from the domain.\n",
    "        randomindex = None\n",
    "\n",
    "        while True:\n",
    "            #Find a random index for a article\n",
    "            randomindex = random.randint(0,len(bodies)-1)\n",
    "            if randomindex != i:\n",
    "                break\n",
    "        \n",
    "        #We now have to articles to compare\n",
    "        string1 = bodies[i]\n",
    "        string2 = bodies[randomindex]\n",
    "\n",
    "        #match = SequenceMatcher(None, string1, string2).find_longest_match(0, len(string1), 0, len(string2))\n",
    "        \n",
    "        #Find the indices for the three longest identical substrings in the two articles.\n",
    "        matches = SequenceMatcher(None, string1, string2).get_matching_blocks()\n",
    "        \n",
    "        #Last match is always useless. Loop through the matches.\n",
    "        for match in matches[:-1]:\n",
    "            if match.size > 20:\n",
    "                #If match is longer than 20 characters, extract string from indices and add to dict.\n",
    "                matchstr = string1[match.a: match.a + match.size] \n",
    "                if matchstr not in junk:\n",
    "                    junk[matchstr] = 1\n",
    "                else:\n",
    "                    junk[matchstr] += 1\n",
    "    \n",
    "    if verbose:\n",
    "        print(f\"Found {len(junk)} sentences to remove in {domain}...\")\n",
    "    \n",
    "    keys = list(junk.keys())\n",
    "    if verbose:\n",
    "        print(keys)\n",
    "    junk_list = []\n",
    "    \n",
    "    #Loop through the junk found and add to a list, if they occur more than 2 times.\n",
    "    for key in keys:\n",
    "        if junk[key] > 2:\n",
    "            junk_list.append(key)\n",
    "    \n",
    "    if verbose:\n",
    "        print(f\"Narrowed that down to {len(junk_list)} junk sentences.\")\n",
    "    \n",
    "    return junk_list"
   ]
  },
  {
   "cell_type": "code",
   "execution_count": 72,
   "metadata": {},
   "outputs": [],
   "source": [
    "# domain_junk = {}\n",
    "# for domain in tqdm(data.Domain.unique()):\n",
    "#     domain_junk[domain] = get_junk_by_domain(domain)"
   ]
  },
  {
   "cell_type": "code",
   "execution_count": 73,
   "metadata": {},
   "outputs": [
    {
     "data": {
      "application/vnd.jupyter.widget-view+json": {
       "model_id": "7e07c861565e4d45845805e56a35d9ad",
       "version_major": 2,
       "version_minor": 0
      },
      "text/plain": [
       "HBox(children=(HTML(value=''), FloatProgress(value=0.0, max=3238.0), HTML(value='')))"
      ]
     },
     "metadata": {},
     "output_type": "display_data"
    },
    {
     "name": "stdout",
     "output_type": "stream",
     "text": [
      "\n"
     ]
    },
    {
     "data": {
      "text/plain": [
       "[' Køb abonnement FOR ABONNENTER ',\n",
       " ' {AVIS}s digitale univers',\n",
       " 'Prøv {AVIS} i 30 dage for kun 1 kr. Få adgang til ',\n",
       " '{AVIS}s digitale univers, og læs artikler, lyt til podcasts og løs krydsord.',\n",
       " '{AVIS}.dk i 3 måneder ',\n",
       " '{AVIS}.dk i 3 måneder - kun 299 kr. Læs hele artiklen nu',\n",
       " '{AVIS}- Køb abonnement FOR ABONNENTER ',\n",
       " '{AVIS}- Køb abonnement ']"
      ]
     },
     "execution_count": 73,
     "metadata": {},
     "output_type": "execute_result"
    }
   ],
   "source": [
    "get_junk_by_domain(\"politiken.dk\")"
   ]
  },
  {
   "cell_type": "code",
   "execution_count": null,
   "metadata": {},
   "outputs": [],
   "source": []
  }
 ],
 "metadata": {
  "kernelspec": {
   "display_name": "Python 3",
   "language": "python",
   "name": "python3"
  },
  "language_info": {
   "codemirror_mode": {
    "name": "ipython",
    "version": 3
   },
   "file_extension": ".py",
   "mimetype": "text/x-python",
   "name": "python",
   "nbconvert_exporter": "python",
   "pygments_lexer": "ipython3",
   "version": "3.8.5"
  }
 },
 "nbformat": 4,
 "nbformat_minor": 4
}
